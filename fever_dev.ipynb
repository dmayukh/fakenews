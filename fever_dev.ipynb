{
 "cells": [
  {
   "cell_type": "code",
   "execution_count": 1,
   "id": "fresh-variable",
   "metadata": {},
   "outputs": [
    {
     "name": "stdout",
     "output_type": "stream",
     "text": [
      "label_encoder_train.npz\n",
      "label_encoder_train.pkl\n",
      "paper_dev.ns.pages.p5.jsonl\n",
      "paper_dev_pipeline.ps.pages.p5.jsonl\n",
      "paper_test.ns.pages.p5.jsonl\n",
      "paper_test_pipeline.ns.pages.p5.jsonl\n",
      "paper_test_pipeline.ps.pages.p5.jsonl\n",
      "paper_test_predicted_pipeline.ps.pages.p5.jsonl\n",
      "train.ns.pages.p5.jsonl\n",
      "train.pages.p5.jsonl\n"
     ]
    }
   ],
   "source": [
    "ls working/data/training"
   ]
  },
  {
   "cell_type": "code",
   "execution_count": 2,
   "id": "organizational-teddy",
   "metadata": {},
   "outputs": [
    {
     "name": "stdout",
     "output_type": "stream",
     "text": [
      "5700 working/data/training/paper_dev_pipeline.ps.pages.p5.jsonl\n"
     ]
    }
   ],
   "source": [
    "!wc -l working/data/training/paper_dev_pipeline.ps.pages.p5.jsonl"
   ]
  },
  {
   "cell_type": "code",
   "execution_count": 3,
   "id": "statistical-aurora",
   "metadata": {
    "collapsed": true,
    "jupyter": {
     "outputs_hidden": true
    },
    "tags": []
   },
   "outputs": [
    {
     "name": "stdout",
     "output_type": "stream",
     "text": [
      "{\"id\": 91198, \"verifiable\": \"NOT VERIFIABLE\", \"label\": \"NOT ENOUGH INFO\", \"claim\": \"Colin Kaepernick became a starting quarterback during the 49ers 63rd season in the National Football League.\", \"evidence\": [[[108548, null, \"Colin_Kaepernick\", -1, [[\"Kaepernick began his professional career as a backup to Alex Smith , but became the 49ers ' starter in the middle of the 2012 season after Smith suffered a concussion .\"], []]], [-1, null, \"Colin_Kaepernick\", -2, [[\"He remained the team 's starting quarterback for the rest of the season and went on to lead the 49ers to their first Super Bowl appearance since 1994 , losing to the Baltimore Ravens .\", \"Colin Rand Kaepernick -LRB- -LSB- ` k\\u00e6p\\u0259rn\\u026ak -RSB- ; born November 3 , 1987 -RRB- is an American football quarterback who is currently a free agent .\", \"In 2016 , Kaepernick gained national attention when he began protesting by not standing while the United States national anthem was being performed before the start of games , motivated by what he viewed as the oppression of non-white races in the U.S. His actions prompted a wide variety of responses , including additional athletes in the NFL and other U.S. sports leagues protesting the anthem in various ways .\", \"Kaepernick began his professional career as a backup to Alex Smith , but became the 49ers ' starter in the middle of the 2012 season after Smith suffered a concussion .\", \"In the following seasons , Kaepernick lost and won back his starting job , with the 49ers missing the playoffs for three years consecutively .\"], [4, 0, 7, 3, 6]]], [-1, null, \"Pistol_offense\", -2, [[\"The Wolf Pack also became the first team in college football history with three 1,000-yard rushers in the same season : quarterback Colin Kaepernick and running backs Luke Lippincott and Vai Taua .\", \"The pistol has also made the transition to the NFL , mainly being used by the Carolina Panthers with Cam Newton and Robert Griffin III of the Washington Redskins , as well as the aforementioned Colin Kaepernick with the San Francisco 49ers , who in the NFL Playoffs versus the Green Bay Packers set the all-time single game rushing record for a quarterback with 181 yards .\", \"Using the Pistol Offense , during the 2009 season , Nevada led the nation in rushing at 345 yards a game and were second in total offense at 506 yards .\", \"The pistol offense is an American football formation and strategy was copied from coach Michael Taylor of Mill Valley by Chris Ault in 2004 while he was head coach at the University of Nevada , Reno .\", \"While the pistol offense has been experimented with by dozens of college football teams such as LSU , Syracuse , Indiana , and Missouri , Ault 's Nevada Wolf Pack is most strongly associated with the formation .\"], [14, 16, 13, 0, 12]]], [-1, null, \"2016_San_Francisco_49ers_season\", -2, [[\"The 2016 San Francisco 49ers season was the franchise 's 67th season in the National Football League , the 71st overall , the third playing its home games at Levi 's Stadium , and the only season under head coach Chip Kelly .\", \"The season was notable when Colin Kaepernick sat during the National Anthem in a preseason game against San Diego .\", \"Despite the distraction , Kaepernick was named starter for Week 6 .\", \"The 49ers defense also set an NFL record by allowing a 100 yard rusher in seven straight games and easily finished last in the league in rush defense .\"], [0, 7, 8, 6]]], [-1, null, \"2014_San_Francisco_49ers_season\", -2, [[\"The 2014 San Francisco 49ers season was the franchise 's 65th season in the National Football League , the 69th overall and the fourth under the head coach/general manager tandem of Jim Harbaugh and Trent Baalke .\", \"The 49ers finished 30th in passing yards per game , 25th in the league averaging just 19.1 points per game while Colin Kaepernick was also sacked 52 times during the season , a team record .\", \"Despite missing significant starters on the defensive side of the ball due to injuries for most of the season -LRB- including Pro-Bowlers NaVorro Bowman and Patrick Willis -RRB- , the 49ers still finished with the NFL 's fifth ranked defense in total yards while also leading the league in interceptions with 23 , led by cornerback Perrish Cox , who had five .\", \"The 49ers defense also finished fourth in the league in total takeaways with 29 .\", \"From Weeks 7 -- 15 , the 49ers averaged just 13.8 points per game , last in the league .\"], [0, 9, 6, 7, 10]]]]]}\n",
      "{\"id\": 194462, \"verifiable\": \"NOT VERIFIABLE\", \"label\": \"NOT ENOUGH INFO\", \"claim\": \"Tilda Swinton is a vegan.\", \"evidence\": [[[227768, null, \"Swinton_-LRB-surname-RRB-\", -1, [[\"Category : Scottish surnames\"], []]], [-1, null, \"Swinton_-LRB-surname-RRB-\", -2, [[\"Tilda Swinton -LRB- born 1960 -RRB- , English actress\", \"John Swinton of Kimmerghame -LRB- born 1925 -RRB- , general -LRB- father of Tilda -RRB- , former Major General of the British Army and former Lord Lieutenant of Berwickshire\"], [10, 9]]], [-1, null, \"Tilda\", -2, [[\"Tilda Swinton -LRB- born 1960 -RRB- , British actress\"], [6]]], [-1, null, \"We_Need_to_Talk_About_Kevin_-LRB-film-RRB-\", -2, [[\"Tilda Swinton stars as the mother of Kevin , struggling to come to terms with her son and the horrors he has committed .\", \"Swinton was nominated for the Golden Globe Award , Screen Actors Guild , and the BAFTA for Best Actress in a Leading Role .\"], [2, 4]]], [-1, null, \"Snowpiercer\", -2, [[\"The film stars Chris Evans , Song Kang-ho , Tilda Swinton , Jamie Bell , Octavia Spencer , Go Ah-sung , John Hurt , and Ed Harris .\", \"Praise was primarily directed towards its vision , direction , and performances , particularly Evans 's and Swinton 's .\"], [3, 8]]]]]}\n"
     ]
    }
   ],
   "source": [
    "!head -2 working/data/training/paper_dev_pipeline.ps.pages.p5.jsonl"
   ]
  },
  {
   "cell_type": "code",
   "execution_count": 4,
   "id": "instructional-manufacturer",
   "metadata": {},
   "outputs": [],
   "source": [
    "class LabelSchema:\n",
    "    def __init__(self,labels):\n",
    "        self.labels = {self.preprocess(val):idx for idx,val in enumerate(labels)}\n",
    "        self.idx = {idx:self.preprocess(val) for idx,val in enumerate(labels)}\n",
    "\n",
    "    def get_id(self,label):\n",
    "        if self.preprocess(label) in self.labels:\n",
    "            return self.labels[self.preprocess(label)]\n",
    "        return None\n",
    "\n",
    "    def preprocess(self,item):\n",
    "        return item.lower()\n",
    "\n",
    "class FEVERLabelSchema(LabelSchema):\n",
    "    def __init__(self):\n",
    "        super().__init__([\"supports\", \"refutes\", \"not enough info\"])\n",
    "\n",
    "def nltk_tokenizer(text):\n",
    "    return \" \".join(word_tokenize(text))\n",
    "\n",
    "class test_line_formatter():    \n",
    "    def format(self, lines):\n",
    "        formatted = []\n",
    "        for line in tqdm(lines):\n",
    "            fl = self.format_line(line)\n",
    "            if fl is not None:\n",
    "                if isinstance(fl,list):\n",
    "                    formatted.extend(fl)\n",
    "                else:\n",
    "                    formatted.append(fl)\n",
    "        return formatted\n",
    "\n",
    "    def format_line(self, line):\n",
    "        label_schema = FEVERLabelSchema()\n",
    "        # get the label, i.e. SUPPORTS etc.\n",
    "        annotation = line[\"label\"]\n",
    "        if annotation is None:\n",
    "            annotation = line[\"verifiable\"]\n",
    "        pages = []\n",
    "        lines = []\n",
    "        # did we get the closest sentences to the claim text? is this the sentence or the line number from the doc text?\n",
    "        if 'predicted_sentences' in line:\n",
    "            pages.extend([(ev[0], ev[1]) for ev in line[\"predicted_sentences\"]])\n",
    "        elif 'predicted_pages' in line:\n",
    "            pages.extend([(ev[0], -1) for ev in line[\"predicted_pages\"]])\n",
    "        else:\n",
    "            # only if evidence[0] is > -1, we have relevant predicted lines in evidence[4]\n",
    "            for evidence_group in line[\"evidence\"]:\n",
    "                pages.extend([(ev[2], ev[3]) for ev in evidence_group])\n",
    "            for evidence_group in line[\"evidence\"]:\n",
    "                for ev in evidence_group:\n",
    "                    if ev[0] > -1:\n",
    "                        lines.extend(ev[4][0])\n",
    "        return {\"claim\": line[\"claim\"], \"evidence\": pages, \"lines\": lines, \"label\": label_schema.get_id(annotation),\n",
    "                \"label_text\": annotation}"
   ]
  },
  {
   "cell_type": "code",
   "execution_count": 5,
   "id": "subsequent-serum",
   "metadata": {},
   "outputs": [],
   "source": [
    "class Reader:\n",
    "    def __init__(self,encoding=\"utf-8\"):\n",
    "        self.enc = encoding\n",
    "\n",
    "    def read(self,file):\n",
    "        with open(file,\"r\",encoding = self.enc) as f:\n",
    "            return self.process(f)\n",
    "\n",
    "    def process(self,f):\n",
    "        pass\n",
    "\n",
    "class JSONLineReader(Reader):\n",
    "    def process(self,fp):\n",
    "        data = []\n",
    "        for line in tqdm(fp.readlines()):\n",
    "            data.append(json.loads(line.strip()))\n",
    "        return data"
   ]
  },
  {
   "cell_type": "code",
   "execution_count": 6,
   "id": "guilty-elephant",
   "metadata": {},
   "outputs": [
    {
     "name": "stderr",
     "output_type": "stream",
     "text": [
      "100%|██████████| 5700/5700 [00:00<00:00, 34753.01it/s]\n"
     ]
    }
   ],
   "source": [
    "import json\n",
    "from tqdm import tqdm\n",
    "jlr = JSONLineReader()\n",
    "split = 'paper_dev'\n",
    "working_dir = 'working/data/'\n",
    "k = 5\n",
    "test_data_file = working_dir + \"training/{0}_pipeline.ps.pages.p{1}.jsonl\".format(split, k)\n",
    "data = jlr.read(test_data_file)"
   ]
  },
  {
   "cell_type": "code",
   "execution_count": 7,
   "id": "minimal-province",
   "metadata": {
    "tags": []
   },
   "outputs": [
    {
     "data": {
      "text/plain": [
       "[{'id': 91198,\n",
       "  'verifiable': 'NOT VERIFIABLE',\n",
       "  'label': 'NOT ENOUGH INFO',\n",
       "  'claim': 'Colin Kaepernick became a starting quarterback during the 49ers 63rd season in the National Football League.',\n",
       "  'evidence': [[[108548,\n",
       "     None,\n",
       "     'Colin_Kaepernick',\n",
       "     -1,\n",
       "     [[\"Kaepernick began his professional career as a backup to Alex Smith , but became the 49ers ' starter in the middle of the 2012 season after Smith suffered a concussion .\"],\n",
       "      []]],\n",
       "    [-1,\n",
       "     None,\n",
       "     'Colin_Kaepernick',\n",
       "     -2,\n",
       "     [[\"He remained the team 's starting quarterback for the rest of the season and went on to lead the 49ers to their first Super Bowl appearance since 1994 , losing to the Baltimore Ravens .\",\n",
       "       'Colin Rand Kaepernick -LRB- -LSB- ` kæpərnɪk -RSB- ; born November 3 , 1987 -RRB- is an American football quarterback who is currently a free agent .',\n",
       "       'In 2016 , Kaepernick gained national attention when he began protesting by not standing while the United States national anthem was being performed before the start of games , motivated by what he viewed as the oppression of non-white races in the U.S. His actions prompted a wide variety of responses , including additional athletes in the NFL and other U.S. sports leagues protesting the anthem in various ways .',\n",
       "       \"Kaepernick began his professional career as a backup to Alex Smith , but became the 49ers ' starter in the middle of the 2012 season after Smith suffered a concussion .\",\n",
       "       'In the following seasons , Kaepernick lost and won back his starting job , with the 49ers missing the playoffs for three years consecutively .'],\n",
       "      [4, 0, 7, 3, 6]]],\n",
       "    [-1,\n",
       "     None,\n",
       "     'Pistol_offense',\n",
       "     -2,\n",
       "     [['The Wolf Pack also became the first team in college football history with three 1,000-yard rushers in the same season : quarterback Colin Kaepernick and running backs Luke Lippincott and Vai Taua .',\n",
       "       'The pistol has also made the transition to the NFL , mainly being used by the Carolina Panthers with Cam Newton and Robert Griffin III of the Washington Redskins , as well as the aforementioned Colin Kaepernick with the San Francisco 49ers , who in the NFL Playoffs versus the Green Bay Packers set the all-time single game rushing record for a quarterback with 181 yards .',\n",
       "       'Using the Pistol Offense , during the 2009 season , Nevada led the nation in rushing at 345 yards a game and were second in total offense at 506 yards .',\n",
       "       'The pistol offense is an American football formation and strategy was copied from coach Michael Taylor of Mill Valley by Chris Ault in 2004 while he was head coach at the University of Nevada , Reno .',\n",
       "       \"While the pistol offense has been experimented with by dozens of college football teams such as LSU , Syracuse , Indiana , and Missouri , Ault 's Nevada Wolf Pack is most strongly associated with the formation .\"],\n",
       "      [14, 16, 13, 0, 12]]],\n",
       "    [-1,\n",
       "     None,\n",
       "     '2016_San_Francisco_49ers_season',\n",
       "     -2,\n",
       "     [[\"The 2016 San Francisco 49ers season was the franchise 's 67th season in the National Football League , the 71st overall , the third playing its home games at Levi 's Stadium , and the only season under head coach Chip Kelly .\",\n",
       "       'The season was notable when Colin Kaepernick sat during the National Anthem in a preseason game against San Diego .',\n",
       "       'Despite the distraction , Kaepernick was named starter for Week 6 .',\n",
       "       'The 49ers defense also set an NFL record by allowing a 100 yard rusher in seven straight games and easily finished last in the league in rush defense .'],\n",
       "      [0, 7, 8, 6]]],\n",
       "    [-1,\n",
       "     None,\n",
       "     '2014_San_Francisco_49ers_season',\n",
       "     -2,\n",
       "     [[\"The 2014 San Francisco 49ers season was the franchise 's 65th season in the National Football League , the 69th overall and the fourth under the head coach/general manager tandem of Jim Harbaugh and Trent Baalke .\",\n",
       "       'The 49ers finished 30th in passing yards per game , 25th in the league averaging just 19.1 points per game while Colin Kaepernick was also sacked 52 times during the season , a team record .',\n",
       "       \"Despite missing significant starters on the defensive side of the ball due to injuries for most of the season -LRB- including Pro-Bowlers NaVorro Bowman and Patrick Willis -RRB- , the 49ers still finished with the NFL 's fifth ranked defense in total yards while also leading the league in interceptions with 23 , led by cornerback Perrish Cox , who had five .\",\n",
       "       'The 49ers defense also finished fourth in the league in total takeaways with 29 .',\n",
       "       'From Weeks 7 -- 15 , the 49ers averaged just 13.8 points per game , last in the league .'],\n",
       "      [0, 9, 6, 7, 10]]]]]},\n",
       " {'id': 194462,\n",
       "  'verifiable': 'NOT VERIFIABLE',\n",
       "  'label': 'NOT ENOUGH INFO',\n",
       "  'claim': 'Tilda Swinton is a vegan.',\n",
       "  'evidence': [[[227768,\n",
       "     None,\n",
       "     'Swinton_-LRB-surname-RRB-',\n",
       "     -1,\n",
       "     [['Category : Scottish surnames'], []]],\n",
       "    [-1,\n",
       "     None,\n",
       "     'Swinton_-LRB-surname-RRB-',\n",
       "     -2,\n",
       "     [['Tilda Swinton -LRB- born 1960 -RRB- , English actress',\n",
       "       'John Swinton of Kimmerghame -LRB- born 1925 -RRB- , general -LRB- father of Tilda -RRB- , former Major General of the British Army and former Lord Lieutenant of Berwickshire'],\n",
       "      [10, 9]]],\n",
       "    [-1,\n",
       "     None,\n",
       "     'Tilda',\n",
       "     -2,\n",
       "     [['Tilda Swinton -LRB- born 1960 -RRB- , British actress'], [6]]],\n",
       "    [-1,\n",
       "     None,\n",
       "     'We_Need_to_Talk_About_Kevin_-LRB-film-RRB-',\n",
       "     -2,\n",
       "     [['Tilda Swinton stars as the mother of Kevin , struggling to come to terms with her son and the horrors he has committed .',\n",
       "       'Swinton was nominated for the Golden Globe Award , Screen Actors Guild , and the BAFTA for Best Actress in a Leading Role .'],\n",
       "      [2, 4]]],\n",
       "    [-1,\n",
       "     None,\n",
       "     'Snowpiercer',\n",
       "     -2,\n",
       "     [['The film stars Chris Evans , Song Kang-ho , Tilda Swinton , Jamie Bell , Octavia Spencer , Go Ah-sung , John Hurt , and Ed Harris .',\n",
       "       \"Praise was primarily directed towards its vision , direction , and performances , particularly Evans 's and Swinton 's .\"],\n",
       "      [3, 8]]]]]}]"
      ]
     },
     "execution_count": 7,
     "metadata": {},
     "output_type": "execute_result"
    }
   ],
   "source": [
    "data[:2]"
   ]
  },
  {
   "cell_type": "code",
   "execution_count": 8,
   "id": "confidential-criminal",
   "metadata": {},
   "outputs": [
    {
     "name": "stderr",
     "output_type": "stream",
     "text": [
      "100%|██████████| 5700/5700 [00:00<00:00, 59288.15it/s]\n"
     ]
    }
   ],
   "source": [
    "formatter = test_line_formatter()\n",
    "formatted_test_data = formatter.format(data)"
   ]
  },
  {
   "cell_type": "code",
   "execution_count": 9,
   "id": "described-calgary",
   "metadata": {
    "collapsed": true,
    "jupyter": {
     "outputs_hidden": true
    },
    "tags": []
   },
   "outputs": [
    {
     "data": {
      "text/plain": [
       "[{'claim': 'Colin Kaepernick became a starting quarterback during the 49ers 63rd season in the National Football League.',\n",
       "  'evidence': [('Colin_Kaepernick', -1),\n",
       "   ('Colin_Kaepernick', -2),\n",
       "   ('Pistol_offense', -2),\n",
       "   ('2016_San_Francisco_49ers_season', -2),\n",
       "   ('2014_San_Francisco_49ers_season', -2)],\n",
       "  'lines': [\"Kaepernick began his professional career as a backup to Alex Smith , but became the 49ers ' starter in the middle of the 2012 season after Smith suffered a concussion .\"],\n",
       "  'label': 2,\n",
       "  'label_text': 'NOT ENOUGH INFO'},\n",
       " {'claim': 'Tilda Swinton is a vegan.',\n",
       "  'evidence': [('Swinton_-LRB-surname-RRB-', -1),\n",
       "   ('Swinton_-LRB-surname-RRB-', -2),\n",
       "   ('Tilda', -2),\n",
       "   ('We_Need_to_Talk_About_Kevin_-LRB-film-RRB-', -2),\n",
       "   ('Snowpiercer', -2)],\n",
       "  'lines': ['Category : Scottish surnames'],\n",
       "  'label': 2,\n",
       "  'label_text': 'NOT ENOUGH INFO'},\n",
       " {'claim': 'Fox 2000 Pictures released the film Soul Food.',\n",
       "  'evidence': [('Soul_Food', -2),\n",
       "   ('Soul_Food_-LRB-film-RRB-', -2),\n",
       "   ('Ramona_and_Beezus', -2),\n",
       "   ('Maxine_Chadway', -2),\n",
       "   ('John_C._Kilkenny', -2)],\n",
       "  'lines': ['Soul Food -LRB- soundtrack -RRB- , the soundtrack to the 1997 film Soul Food',\n",
       "   'Soul Food -LRB- film -RRB- , a 1997 American comedy-drama film',\n",
       "   \"Soul Food is a 1997 American comedy-drama film produced by Kenneth `` Babyface '' Edmonds , Tracey Edmonds and Robert Teitel and released by Fox 2000 Pictures .\",\n",
       "   'In 2000 , Showtime premiered a one-hour television series based upon the film .',\n",
       "   'Fox 2000 Pictures released the film on July 23 , 2010 .',\n",
       "   'It was directed by Elizabeth Allen , co-produced by Dune Entertainment , Di Novi Pictures , and Walden Media , written by Laurie Craig and Nick Pustay , and produced by Denise Di Novi and Alison Greenspan with music by Mark Mothersbaugh .',\n",
       "   'The character first appeared in the 1997 film Soul Food as Maxine Joseph Simmons , and was portrayed by Vivica A. Fox .',\n",
       "   \"His division budgets , produces and oversees all the visual effects on feature films made by the studio 's production units , 20th Century Fox , Fox 2000 Pictures and Fox Searchlight Pictures .\",\n",
       "   'The university has recognized Kilkenny for his achievements in the film industry by awarding him an honorary Doctorate of Fine Arts during the spring of 2009 graduation ceremony .',\n",
       "   \"John Kilkenny is a President at 20th Century Fox , heading the studio 's visual effects department .\",\n",
       "   \"Other 20th Century Fox blockbuster films that drew success under Kilkenny 's watch include X-Men : The Last Stand , Live Free or Die Hard and Fantastic Four : Rise of the Silver Surfer , .\"],\n",
       "  'label': 0,\n",
       "  'label_text': 'SUPPORTS'}]"
      ]
     },
     "execution_count": 9,
     "metadata": {},
     "output_type": "execute_result"
    }
   ],
   "source": [
    "formatted_test_data[:3]"
   ]
  },
  {
   "cell_type": "code",
   "execution_count": 50,
   "id": "tough-report",
   "metadata": {
    "collapsed": true,
    "jupyter": {
     "outputs_hidden": true
    },
    "tags": []
   },
   "outputs": [
    {
     "data": {
      "text/plain": [
       "[{'claim': 'Grease had bad reviews.',\n",
       "  'evidence': [('Grease_gun_-LRB-tool-RRB-', -1),\n",
       "   ('Grease_gun_-LRB-tool-RRB-', -2),\n",
       "   ('Nasal_sebum', -2),\n",
       "   ('Grease', -2),\n",
       "   ('Thermal_interface_material', -2)],\n",
       "  'lines': ['Hand-powered , where there is no trigger mechanism , and the grease is forced through the aperture by the back-pressure built up by pushing on the butt of the grease gun , which slides a piston through the body of the tool , pumping grease out of the aperture .'],\n",
       "  'label': 2,\n",
       "  'label_text': 'NOT ENOUGH INFO'},\n",
       " {'claim': 'Legendary Entertainment is the owner of Wanda Cinemas.',\n",
       "  'evidence': [('Wanda_Cinemas', -1),\n",
       "   ('Wanda_Cinemas', -1),\n",
       "   ('Wanda_Cinemas', -1),\n",
       "   ('Wanda_Cinemas', -1),\n",
       "   ('Wanda_Cinemas', -1),\n",
       "   ('Wanda_Cinemas', -2),\n",
       "   ('Wanda_Group', -2),\n",
       "   ('Legendary_Entertainment', -2),\n",
       "   ('List_of_shows_produced_by_Legendary_Television', -2)],\n",
       "  'lines': ['It is a part of the Dalian Wanda Group .',\n",
       "   'As of 2014 Wang Jianlin is the head of the company .',\n",
       "   'It is a part of the Dalian Wanda Group .',\n",
       "   'Some locations are named Wanda International Cinemas .',\n",
       "   'It is a part of the Dalian Wanda Group .'],\n",
       "  'label': 2,\n",
       "  'label_text': 'NOT ENOUGH INFO'},\n",
       " {'claim': 'Great white sharks do not prefer dolphins as prey.',\n",
       "  'evidence': [('Great_white_shark', -1),\n",
       "   ('Great_white_shark', -2),\n",
       "   ('Andre_Hartman', -2),\n",
       "   ('Gansbaai', -2),\n",
       "   ('White_Shark_Café', -2)],\n",
       "  'lines': ['The great white shark -LRB- Carcharodon carcharias -RRB- , also known as the great white , white pointer , white shark , or white death , is a species of large mackerel shark which can be found in the coastal surface waters of all the major oceans .'],\n",
       "  'label': 2,\n",
       "  'label_text': 'NOT ENOUGH INFO'},\n",
       " {'claim': \"The Guthrie Theater's second building began operating in 1963.\",\n",
       "  'evidence': [('Joe_Dowling', -1),\n",
       "   ('Joe_Dowling', -2),\n",
       "   ('Guthrie_Theater_production_history', -2),\n",
       "   ('Guthrie_Theater', -2),\n",
       "   ('Gold_Medal_Park', -2)],\n",
       "  'lines': ['Following the announcement of the 2012 Guthrie Theatre lineup , Dowling was criticized for the lack of diversity in the selection of directors and playwrights .'],\n",
       "  'label': 2,\n",
       "  'label_text': 'NOT ENOUGH INFO'},\n",
       " {'claim': 'Moscovium is a halogen.',\n",
       "  'evidence': [('Moscovium', -1),\n",
       "   ('Moscovium', -1),\n",
       "   ('Moscovium', -1),\n",
       "   ('Moscovium', -1),\n",
       "   ('Moscovium', -2),\n",
       "   ('Halogen_lamp', -2),\n",
       "   ('Halogen_oven', -2),\n",
       "   ('Low_smoke_zero_halogen', -2)],\n",
       "  'lines': ['Moscovium is an extremely radioactive element : its most stable known isotope , moscovium-290 , has a half-life of only 0.8 seconds .',\n",
       "   'It is a member of the 7th period and is placed in group 15 as the heaviest pnictogen , although it has not been confirmed to behave as a heavier homologue of the pnictogen bismuth .',\n",
       "   'About 100 atoms of moscovium have been observed to date , all of which have been shown to have mass numbers from 287 to 290 .',\n",
       "   'In the periodic table , it is a p-block transactinide element .'],\n",
       "  'label': 2,\n",
       "  'label_text': 'NOT ENOUGH INFO'}]"
      ]
     },
     "execution_count": 50,
     "metadata": {},
     "output_type": "execute_result"
    }
   ],
   "source": [
    "[d for d in formatted_test_data if d['label_text'] == 'NOT ENOUGH INFO'][:5]"
   ]
  },
  {
   "cell_type": "code",
   "execution_count": 10,
   "id": "prescribed-installation",
   "metadata": {},
   "outputs": [],
   "source": [
    "import unicodedata\n",
    "import re\n",
    "def unicode_to_ascii(s):\n",
    "        return ''.join(c for c in unicodedata.normalize('NFD', s) if unicodedata.category(c) != 'Mn')\n",
    "def preprocess(w):\n",
    "        w = unicode_to_ascii(w.lower().strip())\n",
    "        # creating a space between a word and the punctuation following it\n",
    "        # eg: \"he is a boy.\" => \"he is a boy .\"\n",
    "        # Reference:- https://stackoverflow.com/questions/3645931/python-padding-punctuation-with-white-spaces-keeping-punctuation\n",
    "        w = re.sub(r\"([?.!,¿])\", r\" \\1 \", w)\n",
    "        w = re.sub(r'[\" \"]+', \" \", w)\n",
    "        # replacing everything with space except (a-z, A-Z, \".\", \"?\", \"!\", \",\")\n",
    "        w = re.sub(r\"[^a-zA-Z?.!,¿]+\", \" \", w)\n",
    "        w = w.strip()\n",
    "        # adding a start and an end token to the sentence\n",
    "        # so that the model know when to start and stop predicting.\n",
    "        w = '[START] ' + w + ' [END]'\n",
    "        return w"
   ]
  },
  {
   "cell_type": "code",
   "execution_count": 25,
   "id": "banned-speech",
   "metadata": {
    "collapsed": true,
    "jupyter": {
     "outputs_hidden": true
    },
    "tags": []
   },
   "outputs": [
    {
     "name": "stdout",
     "output_type": "stream",
     "text": [
      "[START] grease had bad reviews . [END] Hand-powered , where there is no trigger mechanism , and the grease is forced through the aperture by the back-pressure built up by pushing on the butt of the grease gun , which slides a piston through the body of the tool , pumping grease out of the aperture .\n",
      "***********\n",
      "[START] ukrainian soviet socialist republic was a founding participant of the un . [END] The coat of arms of the Ukrainian Soviet Socialist Republic was adopted on March 14 , 1919 by the government of the Ukrainian Soviet Socialist Republic and subsequently modified on November 7 , 1928 , January 30 , 1937 and November 21 , 1949 . The rising sun stands for the future of the Soviet Ukrainian nation , the star as well as the hammer and sickle for the victory of communism and the `` world-wide socialist community of states '' . The name of the Ukrainian SSR is shown only in Ukrainian , and reads '' Українська PCP '' . The banner bears the Soviet Union state motto -LRB- `` Workers of the world , unite ! '' -RRB- in both the Ukrainian and Russian languages . This flag went out of use on 2 August 1940 , when the Moldavian ASSR was abolished , its territory being divided between the newly created Moldavian Soviet Socialist Republic and the Ukrainian Soviet Socialist Republic . The flag of the Moldavian Autonomous Soviet Socialist Republic was created in 1925 , when the Congress of the Soviets throughout Ukraine approved the Constitution of the Moldavian ASSR , on 10 May . State Flag of the Moldavian ASSR is the flag of Ukrainian SSR , which consists of a red cloth , which has on the upper left corner , near the hoist , a gold hammer and sickle and the letters `` USSR '' in Ukrainian and Moldovan , and below the `` USSR '' initials , with a smaller font , `` Moldavian ASSR '' in Ukrainian and Moldovan . '' Thus , in Section VII , Article 48 , the Constitution stipulated that : `` The Moldavian ASSR has its own state emblem and flag , set by the Moldavian Central Executive Committee and confirmed by the Ukrainian Central Executive Committee '' . On 4 September 1925 , the Presidium of the Central Executive Committee of the Moldavian ASSR discussed the issue `` the contest for drafting the emblem and flag and its jury , consisting of representatives of top party bodies and authorities of the Republic '' . This flag went out of use on 2 August 1940 , when the Moldavian ASSR was abolished , its territory being divided between the newly created Moldavian Soviet Socialist Republic and the Ukrainian Soviet Socialist Republic . The flag of the Moldavian Autonomous Soviet Socialist Republic was created in 1925 , when the Congress of the Soviets throughout Ukraine approved the Constitution of the Moldavian ASSR , on 10 May . State Flag of the Moldavian ASSR is the flag of Ukrainian SSR , which consists of a red cloth , which has on the upper left corner , near the hoist , a gold hammer and sickle and the letters `` USSR '' in Ukrainian and Moldovan , and below the `` USSR '' initials , with a smaller font , `` Moldavian ASSR '' in Ukrainian and Moldovan . '' Thus , in Section VII , Article 48 , the Constitution stipulated that : `` The Moldavian ASSR has its own state emblem and flag , set by the Moldavian Central Executive Committee and confirmed by the Ukrainian Central Executive Committee '' . On 4 September 1925 , the Presidium of the Central Executive Committee of the Moldavian ASSR discussed the issue `` the contest for drafting the emblem and flag and its jury , consisting of representatives of top party bodies and authorities of the Republic '' . Ukrainian Republic as Ukrainian Soviet Socialist Republic , 1937 -- 1991 ; Ukrainian Republic as Ukrainian Soviet Republic , Ukrainian People 's Republic of Soviets , 1917 -- 1919 ; Ukrainian Republic as Ukrainian Socialist Soviet Republic , 1919 -- 1937 ; The modern Ukrainian presidency was formed when the Verkhovna Rada of the Ukrainian Soviet Socialist Republic passed a law on 5 July 1991 establishing the office of the `` President of the Ukrainian Soviet Socialist Republic . '' Upon the proclamation of Ukrainian independence from the Soviet Union on 24 August 1991 , the title was changed to the `` President of Ukraine . '' After the 2014 Ukrainian revolution , Viktor Yanukovych abandoned his office and fled the country . The Uniting for Peace resolution -- also known as the `` Acheson Plan '' -- was adopted 3 November 1950 , after fourteen days of Assembly discussions , by a vote of 52 to 5 -LRB- Czechoslovakia , Poland , the Ukrainian Soviet Socialist Republic , the Union of Soviet Socialist Republics and the Byelorussian Soviet Socialist Republic -RRB- , with 2 abstentions -LRB- India and Argentina -RRB- . To facilitate prompt action by the General Assembly in the case of a dead-locked Security Council , the resolution created the mechanism of the `` emergency special session '' -LRB- ESS -RRB- , which can be called upon the basis of either a procedural vote in the Security Council , or within twenty-four hours of a request by a majority of UN Members being received by the Secretary-General . While the `` emergency special session '' framework was established by resolution A/RES/377 A , the UN Charter always contained provisions for `` special sessions '' , which , according to the General Assembly 's current `` Rules of Procedure '' , can be called within fifteen days of a request being received by the Secretary-General . The Uniting for Peace resolution -- also known as the `` Acheson Plan '' -- was adopted 3 November 1950 , after fourteen days of Assembly discussions , by a vote of 52 to 5 -LRB- Czechoslovakia , Poland , the Ukrainian Soviet Socialist Republic , the Union of Soviet Socialist Republics and the Byelorussian Soviet Socialist Republic -RRB- , with 2 abstentions -LRB- India and Argentina -RRB- . To facilitate prompt action by the General Assembly in the case of a dead-locked Security Council , the resolution created the mechanism of the `` emergency special session '' -LRB- ESS -RRB- , which can be called upon the basis of either a procedural vote in the Security Council , or within twenty-four hours of a request by a majority of UN Members being received by the Secretary-General . While the `` emergency special session '' framework was established by resolution A/RES/377 A , the UN Charter always contained provisions for `` special sessions '' , which , according to the General Assembly 's current `` Rules of Procedure '' , can be called within fifteen days of a request being received by the Secretary-General .\n",
      "***********\n"
     ]
    }
   ],
   "source": [
    "for data in formatted_test_data[:2]:\n",
    "    claim = preprocess(data[\"claim\"])\n",
    "    lines = data[\"lines\"]\n",
    "    parts = [claim, \" \".join(lines)]\n",
    "    print (\" \".join(parts))\n",
    "    print(\"***********\")"
   ]
  },
  {
   "cell_type": "code",
   "execution_count": 11,
   "id": "korean-cooler",
   "metadata": {},
   "outputs": [],
   "source": [
    "import numpy as np\n",
    "import tensorflow as tf\n",
    "def get_test_data_generator():\n",
    "    for data in formatted_test_data:\n",
    "        claim = preprocess(data[\"claim\"])\n",
    "        lines = data[\"lines\"]\n",
    "        yield claim, \" \".join(lines)\n",
    "        \n",
    "def get_test_dataset():\n",
    "    generator = lambda: get_test_data_generator()\n",
    "    return tf.data.Dataset.from_generator(\n",
    "            generator, output_signature=(\n",
    "            tf.TensorSpec(shape=(2, ), dtype=tf.string)))"
   ]
  },
  {
   "cell_type": "code",
   "execution_count": 54,
   "id": "amateur-narrative",
   "metadata": {},
   "outputs": [],
   "source": [
    "from tensorflow_text.tools.wordpiece_vocab import bert_vocab_from_dataset as bert_vocab"
   ]
  },
  {
   "cell_type": "code",
   "execution_count": 12,
   "id": "relevant-packing",
   "metadata": {},
   "outputs": [],
   "source": [
    "import tensorflow_text as text\n",
    "bert_tokenizer_params=dict(lower_case=True)\n",
    "vocab_file_out = 'working/data/fever_vocab.txt'\n",
    "pt_tokenizer = text.BertTokenizer(vocab_file_out, **bert_tokenizer_params)"
   ]
  },
  {
   "cell_type": "markdown",
   "id": "raising-youth",
   "metadata": {},
   "source": [
    "### One hot encode the labels"
   ]
  },
  {
   "cell_type": "code",
   "execution_count": 13,
   "id": "different-burden",
   "metadata": {},
   "outputs": [
    {
     "name": "stdout",
     "output_type": "stream",
     "text": [
      "LabelEncoder()\n"
     ]
    },
    {
     "data": {
      "text/plain": [
       "array([0, 0, 2, ..., 2, 2, 1])"
      ]
     },
     "execution_count": 13,
     "metadata": {},
     "output_type": "execute_result"
    }
   ],
   "source": [
    "import pickle\n",
    "with open('working/data/training/label_encoder_train.pkl', 'rb') as f:\n",
    "    le = pickle.load(f)\n",
    "print(le)\n",
    "labels = [d['label_text'] for d in formatted_test_data]\n",
    "labels_enc = le.transform(labels)\n",
    "labels_enc"
   ]
  },
  {
   "cell_type": "code",
   "execution_count": 56,
   "id": "hairy-missile",
   "metadata": {},
   "outputs": [],
   "source": [
    "# from sklearn import preprocessing\n",
    "# labels = [d['label_text'] for d in formatted_test_data]\n",
    "# le = preprocessing.LabelEncoder()\n",
    "# le.fit(labels)\n",
    "# labels_enc = le.transform(labels)"
   ]
  },
  {
   "cell_type": "code",
   "execution_count": 14,
   "id": "empty-throw",
   "metadata": {},
   "outputs": [
    {
     "name": "stdout",
     "output_type": "stream",
     "text": [
      "A peek a the reshaped labels:\n",
      "[[1. 0. 0.]\n",
      " [1. 0. 0.]\n",
      " [0. 0. 1.]\n",
      " [1. 0. 0.]\n",
      " [0. 1. 0.]]\n",
      "The datatypes of the training dataset, features=<class 'numpy.ndarray'>, labels=<class 'numpy.ndarray'>\n"
     ]
    }
   ],
   "source": [
    "test_labels = np.zeros(shape=(len(labels_enc),3))\n",
    "for idx, val in enumerate(labels_enc):\n",
    "    test_labels[idx][val]=1\n",
    "print(\"A peek a the reshaped labels:\")\n",
    "print(test_labels[:5])\n",
    "print(\"The datatypes of the training dataset, features={}, labels={}\".format(type(labels_enc), type(test_labels)))"
   ]
  },
  {
   "cell_type": "code",
   "execution_count": 15,
   "id": "drawn-parade",
   "metadata": {},
   "outputs": [
    {
     "data": {
      "text/plain": [
       "<TensorSliceDataset shapes: (3,), types: tf.int32>"
      ]
     },
     "execution_count": 15,
     "metadata": {},
     "output_type": "execute_result"
    }
   ],
   "source": [
    "lbls = tf.reshape(tf.convert_to_tensor(test_labels, dtype=tf.int32), (test_labels.shape))\n",
    "lbls_ds = tf.data.Dataset.from_tensor_slices(lbls)\n",
    "lbls_ds"
   ]
  },
  {
   "cell_type": "code",
   "execution_count": 16,
   "id": "healthy-binary",
   "metadata": {},
   "outputs": [],
   "source": [
    "test_ds = get_test_dataset()"
   ]
  },
  {
   "cell_type": "code",
   "execution_count": 60,
   "id": "worse-comedy",
   "metadata": {
    "collapsed": true,
    "jupyter": {
     "outputs_hidden": true
    },
    "tags": []
   },
   "outputs": [
    {
     "name": "stdout",
     "output_type": "stream",
     "text": [
      "tf.Tensor(b'[START] grease had bad reviews . [END]', shape=(), dtype=string)\n",
      ".....\n",
      "\n",
      "\n",
      "tf.Tensor(b'Hand-powered , where there is no trigger mechanism , and the grease is forced through the aperture by the back-pressure built up by pushing on the butt of the grease gun , which slides a piston through the body of the tool , pumping grease out of the aperture .', shape=(), dtype=string)\n",
      "********\n",
      "\n",
      "\n",
      "tf.Tensor(b'[START] ukrainian soviet socialist republic was a founding participant of the un . [END]', shape=(), dtype=string)\n",
      ".....\n",
      "\n",
      "\n",
      "tf.Tensor(b\"The coat of arms of the Ukrainian Soviet Socialist Republic was adopted on March 14 , 1919 by the government of the Ukrainian Soviet Socialist Republic and subsequently modified on November 7 , 1928 , January 30 , 1937 and November 21 , 1949 . The rising sun stands for the future of the Soviet Ukrainian nation , the star as well as the hammer and sickle for the victory of communism and the `` world-wide socialist community of states '' . The name of the Ukrainian SSR is shown only in Ukrainian , and reads '' \\xd0\\xa3\\xd0\\xba\\xd1\\x80\\xd0\\xb0\\xd1\\x97\\xd0\\xbd\\xd1\\x81\\xd1\\x8c\\xd0\\xba\\xd0\\xb0 PCP '' . The banner bears the Soviet Union state motto -LRB- `` Workers of the world , unite ! '' -RRB- in both the Ukrainian and Russian languages . This flag went out of use on 2 August 1940 , when the Moldavian ASSR was abolished , its territory being divided between the newly created Moldavian Soviet Socialist Republic and the Ukrainian Soviet Socialist Republic . The flag of the Moldavian Autonomous Soviet Socialist Republic was created in 1925 , when the Congress of the Soviets throughout Ukraine approved the Constitution of the Moldavian ASSR , on 10 May . State Flag of the Moldavian ASSR is the flag of Ukrainian SSR , which consists of a red cloth , which has on the upper left corner , near the hoist , a gold hammer and sickle and the letters `` USSR '' in Ukrainian and Moldovan , and below the `` USSR '' initials , with a smaller font , `` Moldavian ASSR '' in Ukrainian and Moldovan . '' Thus , in Section VII , Article 48 , the Constitution stipulated that : `` The Moldavian ASSR has its own state emblem and flag , set by the Moldavian Central Executive Committee and confirmed by the Ukrainian Central Executive Committee '' . On 4 September 1925 , the Presidium of the Central Executive Committee of the Moldavian ASSR discussed the issue `` the contest for drafting the emblem and flag and its jury , consisting of representatives of top party bodies and authorities of the Republic '' . This flag went out of use on 2 August 1940 , when the Moldavian ASSR was abolished , its territory being divided between the newly created Moldavian Soviet Socialist Republic and the Ukrainian Soviet Socialist Republic . The flag of the Moldavian Autonomous Soviet Socialist Republic was created in 1925 , when the Congress of the Soviets throughout Ukraine approved the Constitution of the Moldavian ASSR , on 10 May . State Flag of the Moldavian ASSR is the flag of Ukrainian SSR , which consists of a red cloth , which has on the upper left corner , near the hoist , a gold hammer and sickle and the letters `` USSR '' in Ukrainian and Moldovan , and below the `` USSR '' initials , with a smaller font , `` Moldavian ASSR '' in Ukrainian and Moldovan . '' Thus , in Section VII , Article 48 , the Constitution stipulated that : `` The Moldavian ASSR has its own state emblem and flag , set by the Moldavian Central Executive Committee and confirmed by the Ukrainian Central Executive Committee '' . On 4 September 1925 , the Presidium of the Central Executive Committee of the Moldavian ASSR discussed the issue `` the contest for drafting the emblem and flag and its jury , consisting of representatives of top party bodies and authorities of the Republic '' . Ukrainian Republic as Ukrainian Soviet Socialist Republic , 1937 -- 1991 ; Ukrainian Republic as Ukrainian Soviet Republic , Ukrainian People 's Republic of Soviets , 1917 -- 1919 ; Ukrainian Republic as Ukrainian Socialist Soviet Republic , 1919 -- 1937 ; The modern Ukrainian presidency was formed when the Verkhovna Rada of the Ukrainian Soviet Socialist Republic passed a law on 5 July 1991 establishing the office of the `` President of the Ukrainian Soviet Socialist Republic . '' Upon the proclamation of Ukrainian independence from the Soviet Union on 24 August 1991 , the title was changed to the `` President of Ukraine . '' After the 2014 Ukrainian revolution , Viktor Yanukovych abandoned his office and fled the country . The Uniting for Peace resolution -- also known as the `` Acheson Plan '' -- was adopted 3 November 1950 , after fourteen days of Assembly discussions , by a vote of 52 to 5 -LRB- Czechoslovakia , Poland , the Ukrainian Soviet Socialist Republic , the Union of Soviet Socialist Republics and the Byelorussian Soviet Socialist Republic -RRB- , with 2 abstentions -LRB- India and Argentina -RRB- . To facilitate prompt action by the General Assembly in the case of a dead-locked Security Council , the resolution created the mechanism of the `` emergency special session '' -LRB- ESS -RRB- , which can be called upon the basis of either a procedural vote in the Security Council , or within twenty-four hours of a request by a majority of UN Members being received by the Secretary-General . While the `` emergency special session '' framework was established by resolution A/RES/377 A , the UN Charter always contained provisions for `` special sessions '' , which , according to the General Assembly 's current `` Rules of Procedure '' , can be called within fifteen days of a request being received by the Secretary-General . The Uniting for Peace resolution -- also known as the `` Acheson Plan '' -- was adopted 3 November 1950 , after fourteen days of Assembly discussions , by a vote of 52 to 5 -LRB- Czechoslovakia , Poland , the Ukrainian Soviet Socialist Republic , the Union of Soviet Socialist Republics and the Byelorussian Soviet Socialist Republic -RRB- , with 2 abstentions -LRB- India and Argentina -RRB- . To facilitate prompt action by the General Assembly in the case of a dead-locked Security Council , the resolution created the mechanism of the `` emergency special session '' -LRB- ESS -RRB- , which can be called upon the basis of either a procedural vote in the Security Council , or within twenty-four hours of a request by a majority of UN Members being received by the Secretary-General . While the `` emergency special session '' framework was established by resolution A/RES/377 A , the UN Charter always contained provisions for `` special sessions '' , which , according to the General Assembly 's current `` Rules of Procedure '' , can be called within fifteen days of a request being received by the Secretary-General .\", shape=(), dtype=string)\n",
      "********\n",
      "\n",
      "\n"
     ]
    }
   ],
   "source": [
    "for h,e in test_ds.take(2):\n",
    "    print(h)\n",
    "    print(\".....\\n\\n\")\n",
    "    print(e)\n",
    "    print(\"********\\n\\n\")"
   ]
  },
  {
   "cell_type": "code",
   "execution_count": 17,
   "id": "flexible-illness",
   "metadata": {},
   "outputs": [
    {
     "name": "stdout",
     "output_type": "stream",
     "text": [
      "(TensorSpec(shape=(2,), dtype=tf.string, name=None), TensorSpec(shape=(3,), dtype=tf.int32, name=None))\n"
     ]
    }
   ],
   "source": [
    "test_ds_enc_labls = tf.data.Dataset.zip((test_ds, lbls_ds))\n",
    "print(test_ds_enc_labls.element_spec)"
   ]
  },
  {
   "cell_type": "markdown",
   "id": "handy-fever",
   "metadata": {},
   "source": [
    "#### Tokenize the test data and prepare the tensors for training"
   ]
  },
  {
   "cell_type": "code",
   "execution_count": 18,
   "id": "generous-cedar",
   "metadata": {},
   "outputs": [
    {
     "name": "stdout",
     "output_type": "stream",
     "text": [
      "<MapDataset shapes: (60,), types: tf.int64>\n",
      "<MapDataset shapes: (60,), types: tf.int64>\n",
      "<BatchDataset shapes: (((64, 60), (64, 60)), (64, 3)), types: ((tf.int64, tf.int64), tf.int32)>\n",
      "((TensorSpec(shape=(64, 60), dtype=tf.int64, name=None), TensorSpec(shape=(64, 60), dtype=tf.int64, name=None)), TensorSpec(shape=(64, 3), dtype=tf.int32, name=None))\n"
     ]
    }
   ],
   "source": [
    "BATCH_SIZE = 64\n",
    "MAX_SEQ_LEN = 60\n",
    "BUFFER_SIZE = 32000\n",
    "def tokenize_and_pad(text, max_len):\n",
    "    segment = pt_tokenizer.tokenize(text).merge_dims(1, -1)\n",
    "    inp = segment.to_tensor(shape=[None, max_len])\n",
    "    return inp[0]\n",
    "\n",
    "h = test_ds_enc_labls.map(lambda x, y: tokenize_and_pad(x[0], MAX_SEQ_LEN))\n",
    "e = test_ds_enc_labls.map(lambda x, y: tokenize_and_pad(x[1], MAX_SEQ_LEN))\n",
    "l = test_ds_enc_labls.map(lambda x, y: y)\n",
    "print(h)\n",
    "print(e)\n",
    "f = tf.data.Dataset.zip((h,e))\n",
    "d = tf.data.Dataset.zip((f,l))\n",
    "# do not shuffle\n",
    "dataset_test = d.batch(BATCH_SIZE, drop_remainder=True)\n",
    "print(dataset_test)\n",
    "print(dataset_test.element_spec)"
   ]
  },
  {
   "cell_type": "markdown",
   "id": "graphic-secret",
   "metadata": {},
   "source": [
    "#### Load the prefilled embedding matrix from glove 300d"
   ]
  },
  {
   "cell_type": "code",
   "execution_count": 19,
   "id": "palestinian-sight",
   "metadata": {},
   "outputs": [
    {
     "data": {
      "text/plain": [
       "['arr_0']"
      ]
     },
     "execution_count": 19,
     "metadata": {},
     "output_type": "execute_result"
    }
   ],
   "source": [
    "npzfile = np.load(\"working/data/embedding_mappings_300d.npz\")\n",
    "npzfile.files"
   ]
  },
  {
   "cell_type": "code",
   "execution_count": 20,
   "id": "sophisticated-outline",
   "metadata": {},
   "outputs": [],
   "source": [
    "embedding_matrix = npzfile['arr_0']"
   ]
  },
  {
   "cell_type": "markdown",
   "id": "spanish-midwest",
   "metadata": {},
   "source": [
    "#### Build the network"
   ]
  },
  {
   "cell_type": "code",
   "execution_count": 21,
   "id": "suspended-daily",
   "metadata": {},
   "outputs": [
    {
     "name": "stdout",
     "output_type": "stream",
     "text": [
      "Model: \"model\"\n",
      "__________________________________________________________________________________________________\n",
      "Layer (type)                    Output Shape         Param #     Connected to                     \n",
      "==================================================================================================\n",
      "hypothesis (InputLayer)         [(None, None)]       0                                            \n",
      "__________________________________________________________________________________________________\n",
      "evidence (InputLayer)           [(None, None)]       0                                            \n",
      "__________________________________________________________________________________________________\n",
      "embedding (Embedding)           (None, None, 300)    2400300     hypothesis[0][0]                 \n",
      "__________________________________________________________________________________________________\n",
      "embedding_1 (Embedding)         (None, None, 300)    2400300     evidence[0][0]                   \n",
      "__________________________________________________________________________________________________\n",
      "dropout (Dropout)               (None, None, 300)    0           embedding[0][0]                  \n",
      "__________________________________________________________________________________________________\n",
      "dropout_1 (Dropout)             (None, None, 300)    0           embedding_1[0][0]                \n",
      "__________________________________________________________________________________________________\n",
      "bidirectional (Bidirectional)   (None, None, 600)    1442400     dropout[0][0]                    \n",
      "__________________________________________________________________________________________________\n",
      "bidirectional_1 (Bidirectional) (None, None, 600)    1442400     dropout_1[0][0]                  \n",
      "__________________________________________________________________________________________________\n",
      "dot (Dot)                       (None, None, None)   0           bidirectional_1[0][0]            \n",
      "                                                                 bidirectional[0][0]              \n",
      "__________________________________________________________________________________________________\n",
      "permute (Permute)               (None, None, None)   0           dot[0][0]                        \n",
      "__________________________________________________________________________________________________\n",
      "lambda_1 (Lambda)               (None, None, None)   0           permute[0][0]                    \n",
      "__________________________________________________________________________________________________\n",
      "lambda (Lambda)                 (None, None, None)   0           dot[0][0]                        \n",
      "__________________________________________________________________________________________________\n",
      "dot_1 (Dot)                     (None, None, 600)    0           lambda_1[0][0]                   \n",
      "                                                                 bidirectional_1[0][0]            \n",
      "__________________________________________________________________________________________________\n",
      "dot_2 (Dot)                     (None, None, 600)    0           lambda[0][0]                     \n",
      "                                                                 bidirectional[0][0]              \n",
      "__________________________________________________________________________________________________\n",
      "subtract (Subtract)             (None, None, 600)    0           bidirectional[0][0]              \n",
      "                                                                 dot_1[0][0]                      \n",
      "__________________________________________________________________________________________________\n",
      "multiply (Multiply)             (None, None, 600)    0           bidirectional[0][0]              \n",
      "                                                                 dot_1[0][0]                      \n",
      "__________________________________________________________________________________________________\n",
      "subtract_1 (Subtract)           (None, None, 600)    0           bidirectional_1[0][0]            \n",
      "                                                                 dot_2[0][0]                      \n",
      "__________________________________________________________________________________________________\n",
      "multiply_1 (Multiply)           (None, None, 600)    0           bidirectional_1[0][0]            \n",
      "                                                                 dot_2[0][0]                      \n",
      "__________________________________________________________________________________________________\n",
      "concatenate (Concatenate)       (None, None, 2400)   0           bidirectional[0][0]              \n",
      "                                                                 dot_1[0][0]                      \n",
      "                                                                 subtract[0][0]                   \n",
      "                                                                 multiply[0][0]                   \n",
      "__________________________________________________________________________________________________\n",
      "concatenate_1 (Concatenate)     (None, None, 2400)   0           bidirectional_1[0][0]            \n",
      "                                                                 dot_2[0][0]                      \n",
      "                                                                 subtract_1[0][0]                 \n",
      "                                                                 multiply_1[0][0]                 \n",
      "__________________________________________________________________________________________________\n",
      "Compresser (TimeDistributed)    (None, None, 300)    720300      concatenate[0][0]                \n",
      "                                                                 concatenate_1[0][0]              \n",
      "__________________________________________________________________________________________________\n",
      "dropout_2 (Dropout)             (None, None, 300)    0           Compresser[0][0]                 \n",
      "__________________________________________________________________________________________________\n",
      "dropout_3 (Dropout)             (None, None, 300)    0           Compresser[1][0]                 \n",
      "__________________________________________________________________________________________________\n",
      "finaldecoder (Bidirectional)    (None, None, 600)    1442400     dropout_2[0][0]                  \n",
      "                                                                 dropout_3[0][0]                  \n",
      "__________________________________________________________________________________________________\n",
      "global_average_pooling1d (Globa (None, 600)          0           finaldecoder[0][0]               \n",
      "                                                                 finaldecoder[1][0]               \n",
      "__________________________________________________________________________________________________\n",
      "global_max_pooling1d (GlobalMax (None, 600)          0           finaldecoder[0][0]               \n",
      "                                                                 finaldecoder[1][0]               \n",
      "__________________________________________________________________________________________________\n",
      "concatenate_2 (Concatenate)     (None, 2400)         0           global_average_pooling1d[0][0]   \n",
      "                                                                 global_max_pooling1d[0][0]       \n",
      "                                                                 global_average_pooling1d[1][0]   \n",
      "                                                                 global_max_pooling1d[1][0]       \n",
      "__________________________________________________________________________________________________\n",
      "dropout_4 (Dropout)             (None, 2400)         0           concatenate_2[0][0]              \n",
      "__________________________________________________________________________________________________\n",
      "dense300_ (Dense)               (None, 100)          240100      dropout_4[0][0]                  \n",
      "__________________________________________________________________________________________________\n",
      "dropout_5 (Dropout)             (None, 100)          0           dense300_[0][0]                  \n",
      "__________________________________________________________________________________________________\n",
      "judge300_ (Dense)               (None, 3)            303         dropout_5[0][0]                  \n",
      "==================================================================================================\n",
      "Total params: 10,088,503\n",
      "Trainable params: 5,287,903\n",
      "Non-trainable params: 4,800,600\n",
      "__________________________________________________________________________________________________\n"
     ]
    }
   ],
   "source": [
    "\n",
    "import tensorflow as tf\n",
    "\n",
    "from tensorflow import keras\n",
    "from tensorflow.keras.layers import *\n",
    "from tensorflow.keras.regularizers import *\n",
    "\n",
    "vocab_size= 8000\n",
    "dim = 300\n",
    "inp1 = keras.Input(shape=(None, ), name = \"hypothesis\")\n",
    "inp2 = keras.Input(shape=(None, ), name = \"evidence\")\n",
    "\n",
    "embedding_hyp_layer = Embedding(\n",
    "        input_dim=vocab_size+1,\n",
    "        output_dim=dim,\n",
    "        weights=[embedding_matrix],\n",
    "        trainable=False)\n",
    "embedding_evi_layer = Embedding(\n",
    "        input_dim=vocab_size+1,\n",
    "        output_dim=dim,\n",
    "        weights=[embedding_matrix],\n",
    "        trainable=False)\n",
    "\n",
    "\n",
    "x_hyp = embedding_hyp_layer(inp1)\n",
    "x_hyp = tf.keras.layers.Dropout(0.5)(x_hyp)\n",
    "\n",
    "x_evi = embedding_evi_layer(inp2)\n",
    "x_evi = tf.keras.layers.Dropout(0.5)(x_evi)\n",
    "\n",
    "\n",
    "lstm_layer1 = tf.keras.layers.Bidirectional(tf.keras.layers.RNN(tf.keras.layers.LSTMCell(dim), return_sequences=True))(x_hyp)\n",
    "\n",
    "lstm_layer2 = tf.keras.layers.Bidirectional(tf.keras.layers.RNN(tf.keras.layers.LSTMCell(dim), return_sequences=True))(x_evi)\n",
    "\n",
    "\n",
    "\n",
    "F_p, F_h = lstm_layer1, lstm_layer2\n",
    "Eph = keras.layers.Dot(axes=(2, 2))([F_h, F_p])  # [batch_size, Hsize, Psize]\n",
    "Eh = Lambda(lambda x: keras.activations.softmax(x))(Eph)  # [batch_size, Hsize, Psize]\n",
    "Ep = keras.layers.Permute((2, 1))(Eph)  # [batch_size, Psize, Hsize)\n",
    "Ep = Lambda(lambda x: keras.activations.softmax(x))(Ep)  # [batch_size, Psize, Hsize]\n",
    "    \n",
    "    \n",
    "    \n",
    "# 4, Normalize score matrix, encoder premesis and get alignment\n",
    "PremAlign = keras.layers.Dot((2, 1))([Ep, lstm_layer2]) # [-1, Psize, dim]\n",
    "HypoAlign = keras.layers.Dot((2, 1))([Eh, lstm_layer1]) # [-1, Hsize, dim]\n",
    "mm_1 = keras.layers.Multiply()([lstm_layer1, PremAlign])\n",
    "mm_2 = keras.layers.Multiply()([lstm_layer2, HypoAlign])\n",
    "sb_1 = keras.layers.Subtract()([lstm_layer1, PremAlign])\n",
    "sb_2 = keras.layers.Subtract()([lstm_layer2, HypoAlign])\n",
    "    \n",
    "\n",
    "# concat [a_, a~, a_ * a~, a_ - a~], isto za b_, b~\n",
    "PremAlign = keras.layers.Concatenate()([lstm_layer1, PremAlign, sb_1, mm_1,])  # [batch_size, Psize, 2*unit]\n",
    "HypoAlign = keras.layers.Concatenate()([lstm_layer2, HypoAlign, sb_2, mm_2])  # [batch_size, Hsize, 2*unit]\n",
    "\n",
    "\n",
    "# ff layer w/RELU activation\n",
    "Compresser = tf.keras.layers.TimeDistributed(Dense(300,\n",
    "                                   kernel_regularizer=l2(0.0),\n",
    "                                   bias_regularizer=l2(0.0),\n",
    "                                   activation='relu'),\n",
    "                             name='Compresser')\n",
    "\n",
    "PremAlign = Compresser(PremAlign)\n",
    "HypoAlign = Compresser(HypoAlign)\n",
    "    \n",
    "\n",
    "Decoder = tf.keras.layers.Bidirectional(tf.keras.layers.RNN(tf.keras.layers.LSTMCell(dim), return_sequences=True), name='finaldecoder')\n",
    "\n",
    "\n",
    "PremAlign = Dropout(0.5)(PremAlign)\n",
    "HypoAlign = Dropout(0.5)(HypoAlign)\n",
    "final_p = Decoder(PremAlign)\n",
    "final_h = Decoder(HypoAlign)\n",
    "\n",
    "\n",
    "AveragePooling = tf.keras.layers.GlobalAveragePooling1D()\n",
    "MaxPooling = tf.keras.layers.GlobalMaxPooling1D()\n",
    "\n",
    "# AveragePooling = Lambda(lambda x: K.mean(x, axis=1)) # outs [-1, dim]\n",
    "# MaxPooling = Lambda(lambda x: K.max(x, axis=1)) # outs [-1, dim]\n",
    "avg_p = AveragePooling(final_p)\n",
    "avg_h = AveragePooling(final_h)\n",
    "max_p = MaxPooling(final_p)\n",
    "max_h = MaxPooling(final_h)\n",
    "# concat of avg and max pooling for hypothesis and premise\n",
    "Final = keras.layers.Concatenate()([avg_p, max_p, avg_h, max_h])\n",
    "# dropout layer\n",
    "Final = Dropout(0.5)(Final)\n",
    "# ff layer w/tanh activation\n",
    "Final = Dense(100,\n",
    "              kernel_regularizer=l2(0.0),\n",
    "              bias_regularizer=l2(0.0),\n",
    "              name='dense300_',\n",
    "              activation='tanh')(Final)\n",
    "\n",
    "# last dropout factor\n",
    "factor = 1\n",
    "# if self.LastDropoutHalf:\n",
    "#     factor = 2\n",
    "Final = Dropout(0.5 / factor)(Final)\n",
    "\n",
    "# softmax classifier\n",
    "Final = Dense(3,\n",
    "              activation='softmax',\n",
    "              name='judge300_')(Final)\n",
    "model = tf.keras.Model(inputs=[inp1, inp2], outputs=Final)\n",
    "\n",
    "LearningRate = 4e-4\n",
    "GradientClipping = 10.0\n",
    "\n",
    "# Optimizer = keras.optimizers.Adam(lr = LearningRate,\n",
    "#             clipnorm = GradientClipping)\n",
    "\n",
    "model.compile(loss='categorical_crossentropy',\n",
    "          optimizer='adam',\n",
    "          metrics=['accuracy'])\n",
    "\n",
    "model.summary()\n"
   ]
  },
  {
   "cell_type": "code",
   "execution_count": 24,
   "id": "polyphonic-biodiversity",
   "metadata": {},
   "outputs": [],
   "source": [
    "# checkpoint_filepath = 'tmp/attention_esim/checkpoint_fever_rte_esim'\n",
    "# model_checkpoint_callback = tf.keras.callbacks.ModelCheckpoint(\n",
    "#     filepath=checkpoint_filepath,\n",
    "#     save_weights_only=True,\n",
    "#     monitor='val_accuracy',\n",
    "#     mode='max',\n",
    "#     save_best_only=True)\n",
    "\n",
    "# stop_early = tf.keras.callbacks.EarlyStopping(monitor='val_loss', patience=5)"
   ]
  },
  {
   "cell_type": "markdown",
   "id": "portable-franklin",
   "metadata": {},
   "source": [
    "#### Check the test accuracy"
   ]
  },
  {
   "cell_type": "code",
   "execution_count": 22,
   "id": "residential-mineral",
   "metadata": {},
   "outputs": [
    {
     "name": "stdout",
     "output_type": "stream",
     "text": [
      "89/89 [==============================] - 16s 148ms/step - loss: 1.9135 - accuracy: 0.5648\n"
     ]
    },
    {
     "data": {
      "text/plain": [
       "[1.9135409593582153, 0.5647823214530945]"
      ]
     },
     "execution_count": 22,
     "metadata": {},
     "output_type": "execute_result"
    }
   ],
   "source": [
    "checkpoint_filepath = 'tmp/attention_esim/checkpoint_fever_rte_esim'\n",
    "model.load_weights(checkpoint_filepath)\n",
    "model.evaluate(dataset_test)"
   ]
  },
  {
   "cell_type": "markdown",
   "id": "apparent-championship",
   "metadata": {},
   "source": [
    "#### Calculate the FEVER score\n",
    "\n",
    "- Strictly correct: when all the evidences predicted are correct and the predicted label is correct\n",
    "- Correct: when only the predicted label is correct "
   ]
  },
  {
   "cell_type": "code",
   "execution_count": 23,
   "id": "cutting-soundtrack",
   "metadata": {},
   "outputs": [],
   "source": [
    "y_pred_proba = model.predict(dataset_test)"
   ]
  },
  {
   "cell_type": "code",
   "execution_count": 24,
   "id": "american-period",
   "metadata": {},
   "outputs": [],
   "source": [
    "y_pred = np.argmax(y_pred_proba, axis = 1)"
   ]
  },
  {
   "cell_type": "code",
   "execution_count": 25,
   "id": "warming-draft",
   "metadata": {},
   "outputs": [
    {
     "data": {
      "text/plain": [
       "array([0, 0, 0, 0, 2])"
      ]
     },
     "execution_count": 25,
     "metadata": {},
     "output_type": "execute_result"
    }
   ],
   "source": [
    "y_pred[:5]"
   ]
  },
  {
   "cell_type": "code",
   "execution_count": 26,
   "id": "spread-winter",
   "metadata": {},
   "outputs": [],
   "source": [
    "ds_y = dataset_test.map(lambda f, l: l)\n",
    "y_test_onehot = []\n",
    "for d in ds_y.batch(1):\n",
    "    for d1 in d:\n",
    "        y_test_onehot.append(d1.numpy())"
   ]
  },
  {
   "cell_type": "code",
   "execution_count": 27,
   "id": "revised-bulgaria",
   "metadata": {},
   "outputs": [],
   "source": [
    "y_test = np.array([np.argmax(a, axis=1) for a in y_test_onehot]).flatten()"
   ]
  },
  {
   "cell_type": "code",
   "execution_count": 28,
   "id": "completed-legislature",
   "metadata": {},
   "outputs": [
    {
     "data": {
      "text/plain": [
       "array([0, 0, 2, 0])"
      ]
     },
     "execution_count": 28,
     "metadata": {},
     "output_type": "execute_result"
    }
   ],
   "source": [
    "y_test[:4]"
   ]
  },
  {
   "cell_type": "code",
   "execution_count": 176,
   "id": "communist-hollywood",
   "metadata": {},
   "outputs": [
    {
     "data": {
      "text/plain": [
       "['NOT ENOUGH INFO', 'SUPPORTS', 'SUPPORTS', 'REFUTES']"
      ]
     },
     "execution_count": 176,
     "metadata": {},
     "output_type": "execute_result"
    }
   ],
   "source": [
    "[d['label_text'] for d in formatted_test_data[:4]]"
   ]
  },
  {
   "cell_type": "code",
   "execution_count": 29,
   "id": "aggressive-macedonia",
   "metadata": {},
   "outputs": [
    {
     "name": "stdout",
     "output_type": "stream",
     "text": [
      "              precision    recall  f1-score   support\n",
      "\n",
      "           0       0.47      0.87      0.61      1863\n",
      "           1       0.82      0.31      0.45      1902\n",
      "           2       0.66      0.52      0.58      1931\n",
      "\n",
      "    accuracy                           0.56      5696\n",
      "   macro avg       0.65      0.57      0.55      5696\n",
      "weighted avg       0.65      0.56      0.55      5696\n",
      "\n"
     ]
    }
   ],
   "source": [
    "from sklearn.metrics import classification_report\n",
    "print(classification_report(y_test, y_pred))\n",
    "#['NOT ENOUGH INFO', 'REFUTES', 'SUPPORTS'] == [0, 1, 2]"
   ]
  },
  {
   "cell_type": "code",
   "execution_count": 4,
   "id": "recovered-edwards",
   "metadata": {
    "collapsed": true,
    "jupyter": {
     "outputs_hidden": true
    },
    "tags": []
   },
   "outputs": [
    {
     "name": "stdout",
     "output_type": "stream",
     "text": [
      "{\"id\": 113501, \"verifiable\": \"NOT VERIFIABLE\", \"label\": \"NOT ENOUGH INFO\", \"claim\": \"Grease had bad reviews.\", \"evidence\": [[[133128, null, \"Grease_gun_-LRB-tool-RRB-\", -1, [[\"Hand-powered , where there is no trigger mechanism , and the grease is forced through the aperture by the back-pressure built up by pushing on the butt of the grease gun , which slides a piston through the body of the tool , pumping grease out of the aperture .\"], []]], [-1, null, \"Grease_gun_-LRB-tool-RRB-\", -2, [[], []]], [-1, null, \"Nasal_sebum\", -2, [[], []]], [-1, null, \"Grease\", -2, [[], []]], [-1, null, \"Thermal_interface_material\", -2, [[], []]]]]}\n",
      "{\"id\": 163803, \"verifiable\": \"VERIFIABLE\", \"label\": \"SUPPORTS\", \"claim\": \"Ukrainian Soviet Socialist Republic was a founding participant of the UN.\", \"evidence\": [[[296950, 288668, \"Emblem_of_the_Ukrainian_Soviet_Socialist_Republic\", -2, [[\"The coat of arms of the Ukrainian Soviet Socialist Republic was adopted on March 14 , 1919 by the government of the Ukrainian Soviet Socialist Republic and subsequently modified on November 7 , 1928 , January 30 , 1937 and November 21 , 1949 .\", \"The rising sun stands for the future of the Soviet Ukrainian nation , the star as well as the hammer and sickle for the victory of communism and the `` world-wide socialist community of states '' .\", \"The name of the Ukrainian SSR is shown only in Ukrainian , and reads '' \\u0423\\u043a\\u0440\\u0430\\u0457\\u043d\\u0441\\u044c\\u043a\\u0430 PCP '' .\", \"The banner bears the Soviet Union state motto -LRB- `` Workers of the world , unite ! '' -RRB-\", \"in both the Ukrainian and Russian languages .\"], [0, 2, 8, 3, 4]]]], [[298602, 290067, \"Flag_of_the_Moldavian_Autonomous_Soviet_Socialist_Republic\", -2, [[\"This flag went out of use on 2 August 1940 , when the Moldavian ASSR was abolished , its territory being divided between the newly created Moldavian Soviet Socialist Republic and the Ukrainian Soviet Socialist Republic .\", \"The flag of the Moldavian Autonomous Soviet Socialist Republic was created in 1925 , when the Congress of the Soviets throughout Ukraine approved the Constitution of the Moldavian ASSR , on 10 May .\", \"State Flag of the Moldavian ASSR is the flag of Ukrainian SSR , which consists of a red cloth , which has on the upper left corner , near the hoist , a gold hammer and sickle and the letters `` USSR '' in Ukrainian and Moldovan , and below the `` USSR '' initials , with a smaller font , `` Moldavian ASSR '' in Ukrainian and Moldovan . ''\", \"Thus , in Section VII , Article 48 , the Constitution stipulated that : `` The Moldavian ASSR has its own state emblem and flag , set by the Moldavian Central Executive Committee and confirmed by the Ukrainian Central Executive Committee '' .\", \"On 4 September 1925 , the Presidium of the Central Executive Committee of the Moldavian ASSR discussed the issue `` the contest for drafting the emblem and flag and its jury , consisting of representatives of top party bodies and authorities of the Republic '' .\"], [20, 0, 17, 1, 2]]], [298602, 290067, \"Flag_of_the_Moldavian_Autonomous_Soviet_Socialist_Republic\", -2, [[\"This flag went out of use on 2 August 1940 , when the Moldavian ASSR was abolished , its territory being divided between the newly created Moldavian Soviet Socialist Republic and the Ukrainian Soviet Socialist Republic .\", \"The flag of the Moldavian Autonomous Soviet Socialist Republic was created in 1925 , when the Congress of the Soviets throughout Ukraine approved the Constitution of the Moldavian ASSR , on 10 May .\", \"State Flag of the Moldavian ASSR is the flag of Ukrainian SSR , which consists of a red cloth , which has on the upper left corner , near the hoist , a gold hammer and sickle and the letters `` USSR '' in Ukrainian and Moldovan , and below the `` USSR '' initials , with a smaller font , `` Moldavian ASSR '' in Ukrainian and Moldovan . ''\", \"Thus , in Section VII , Article 48 , the Constitution stipulated that : `` The Moldavian ASSR has its own state emblem and flag , set by the Moldavian Central Executive Committee and confirmed by the Ukrainian Central Executive Committee '' .\", \"On 4 September 1925 , the Presidium of the Central Executive Committee of the Moldavian ASSR discussed the issue `` the contest for drafting the emblem and flag and its jury , consisting of representatives of top party bodies and authorities of the Republic '' .\"], [20, 0, 17, 1, 2]]]], [[300696, 291816, \"Ukrainian_Republic\", -2, [[\"Ukrainian Republic as Ukrainian Soviet Socialist Republic , 1937 -- 1991 ;\", \"Ukrainian Republic as Ukrainian Soviet Republic , Ukrainian People 's Republic of Soviets , 1917 -- 1919 ;\", \"Ukrainian Republic as Ukrainian Socialist Soviet Republic , 1919 -- 1937 ;\"], [6, 2, 5]]]], [[344347, 327887, \"List_of_Presidents_of_Ukraine\", -2, [[\"The modern Ukrainian presidency was formed when the Verkhovna Rada of the Ukrainian Soviet Socialist Republic passed a law on 5 July 1991 establishing the office of the `` President of the Ukrainian Soviet Socialist Republic . ''\", \"Upon the proclamation of Ukrainian independence from the Soviet Union on 24 August 1991 , the title was changed to the `` President of Ukraine . ''\", \"After the 2014 Ukrainian revolution , Viktor Yanukovych abandoned his office and fled the country .\"], [0, 1, 5]]]], [[344994, 328433, \"United_Nations_General_Assembly_Resolution_377\", -2, [[\"The Uniting for Peace resolution -- also known as the `` Acheson Plan '' -- was adopted 3 November 1950 , after fourteen days of Assembly discussions , by a vote of 52 to 5 -LRB- Czechoslovakia , Poland , the Ukrainian Soviet Socialist Republic , the Union of Soviet Socialist Republics and the Byelorussian Soviet Socialist Republic -RRB- , with 2 abstentions -LRB- India and Argentina -RRB- .\", \"To facilitate prompt action by the General Assembly in the case of a dead-locked Security Council , the resolution created the mechanism of the `` emergency special session '' -LRB- ESS -RRB- , which can be called upon the basis of either a procedural vote in the Security Council , or within twenty-four hours of a request by a majority of UN Members being received by the Secretary-General .\", \"While the `` emergency special session '' framework was established by resolution A/RES/377 A , the UN Charter always contained provisions for `` special sessions '' , which , according to the General Assembly 's current `` Rules of Procedure '' , can be called within fifteen days of a request being received by the Secretary-General .\"], [2, 8, 13]]]], [[344997, 328435, \"United_Nations_General_Assembly_Resolution_377\", -2, [[\"The Uniting for Peace resolution -- also known as the `` Acheson Plan '' -- was adopted 3 November 1950 , after fourteen days of Assembly discussions , by a vote of 52 to 5 -LRB- Czechoslovakia , Poland , the Ukrainian Soviet Socialist Republic , the Union of Soviet Socialist Republics and the Byelorussian Soviet Socialist Republic -RRB- , with 2 abstentions -LRB- India and Argentina -RRB- .\", \"To facilitate prompt action by the General Assembly in the case of a dead-locked Security Council , the resolution created the mechanism of the `` emergency special session '' -LRB- ESS -RRB- , which can be called upon the basis of either a procedural vote in the Security Council , or within twenty-four hours of a request by a majority of UN Members being received by the Secretary-General .\", \"While the `` emergency special session '' framework was established by resolution A/RES/377 A , the UN Charter always contained provisions for `` special sessions '' , which , according to the General Assembly 's current `` Rules of Procedure '' , can be called within fifteen days of a request being received by the Secretary-General .\"], [2, 8, 13]]]]]}\n",
      "{\"id\": 70041, \"verifiable\": \"VERIFIABLE\", \"label\": \"SUPPORTS\", \"claim\": \"2 Hearts is a musical composition by Minogue.\", \"evidence\": [[[225394, 230056, \"2_Hearts_-LRB-Kylie_Minogue_song-RRB-\", -2, [[\"`` 2 Hearts '' is a song recorded by Australian singer Kylie Minogue for her tenth studio album , X -LRB- 2007 -RRB- .\", \"The music video for `` 2 Hearts '' was directed by Dawn Shadforth and filmed at Shepperton Studios in London , England .\", \"Upon its release , `` 2 Hearts '' received mixed reviews from music critics .\", \"The song was praised for its departure of musical content and the song 's strength , however the song received criticism for the song 's production and felt it did n't live up to expectations .\", \"The song was Minogue 's first commercial single since she was diagnosed with breast cancer in May 2005 .\"], [0, 14, 9, 10, 3]]]], [[317953, 306972, \"Kylie_Minogue_singles_discography\", -2, [[\"It produced five singles , including the Australian number one single `` 2 Hearts '' , and the top twenty single `` Wow '' .\", \"After returning to full health , Minogue released her tenth studio album X in 2007 .\", \"Minogue has had seven number one singles and sold over 10.1 million singles in the United Kingdom , making her the 12th best-selling singles artist and the 3rd best-selling female artist in UK history .\", \"This earned Minogue a place in the Guinness Book of World Records , for the first female Australian singer to debut at number one in the UK .\", \"To date , Minogue has sold more than 80 million records worldwide .\"], [33, 32, 37, 23, 36]]]], [[319638, 308345, \"Kylie_Minogue\", -2, [[\"Throughout her career , Minogue has released many successful singles , including `` The Loco-Motion '' , `` Especially for You '' , `` Hand on Your Heart '' , `` Better the Devil You Know '' , `` Confide in Me '' , `` Spinning Around '' , `` Slow '' , `` 2 Hearts '' and `` All The Lovers '' .\", \"In 2005 , while Minogue was on her Showgirl : The Greatest Hits Tour , she was diagnosed with breast cancer .\", \"Minogue was awarded an honorary Doctor of Health Science -LRB- D.H.Sc . -RRB-\", \"As of 2015 , Minogue has had worldwide record sales of more than 80 million .\", \"Minogue resumed work as an actress and appeared in the films Moulin Rouge !\"], [13, 14, 24, 20, 16]]]], [[319643, 308348, \"X_-LRB-Kylie_Minogue_album-RRB-\", -2, [[\"`` 2 Hearts '' was released as the lead single from X .\", \"The tour received favorable reviews from critics and was a commercial success , making it Minogue 's most expensive tour at the time .\", \"The album was nominated for a BRIT Award for International Album in 2008 , as well as a Grammy Award for Best Electronic/Dance Album in 2009 , Minogue 's fifth Grammy Award nomination .\", \"Due to Minogue 's lack of success in North America , she traveled there in 2009 for her tour For You , for Me to promote the album .\", \"X is the tenth studio album by Australian singer Kylie Minogue .\"], [15, 22, 24, 23, 0]]], [-1, null, \"2_Hearts_-LRB-Kylie_Minogue_song-RRB-\", -2, [[\"`` 2 Hearts '' is a song recorded by Australian singer Kylie Minogue for her tenth studio album , X -LRB- 2007 -RRB- .\", \"The music video for `` 2 Hearts '' was directed by Dawn Shadforth and filmed at Shepperton Studios in London , England .\", \"Upon its release , `` 2 Hearts '' received mixed reviews from music critics .\", \"The song was praised for its departure of musical content and the song 's strength , however the song received criticism for the song 's production and felt it did n't live up to expectations .\", \"The song was Minogue 's first commercial single since she was diagnosed with breast cancer in May 2005 .\"], [0, 14, 9, 10, 3]]]]]}\n"
     ]
    }
   ],
   "source": [
    "!head -3 working/data/training/paper_test_pipeline.ps.pages.p5.jsonl"
   ]
  },
  {
   "cell_type": "code",
   "execution_count": 3,
   "id": "compressed-nevada",
   "metadata": {
    "collapsed": true,
    "jupyter": {
     "outputs_hidden": true
    },
    "tags": []
   },
   "outputs": [
    {
     "name": "stdout",
     "output_type": "stream",
     "text": [
      "{\"id\": 113501, \"verifiable\": \"NOT VERIFIABLE\", \"label\": \"NOT ENOUGH INFO\", \"claim\": \"Grease had bad reviews.\", \"evidence\": [[[133128, null, \"Grease_gun_-LRB-tool-RRB-\", -1]]]}\n",
      "{\"id\": 163803, \"verifiable\": \"VERIFIABLE\", \"label\": \"SUPPORTS\", \"claim\": \"Ukrainian Soviet Socialist Republic was a founding participant of the UN.\", \"evidence\": [[[296950, 288668, \"Ukrainian_Soviet_Socialist_Republic\", 7]], [[298602, 290067, \"Ukrainian_Soviet_Socialist_Republic\", 7], [298602, 290067, \"United_Nations\", 0]], [[300696, 291816, \"Ukrainian_Soviet_Socialist_Republic\", 7]], [[344347, 327887, \"Ukrainian_Soviet_Socialist_Republic\", 7]], [[344994, 328433, \"Ukrainian_Soviet_Socialist_Republic\", 7]], [[344997, 328435, \"Ukrainian_Soviet_Socialist_Republic\", 7]]]}\n",
      "{\"id\": 70041, \"verifiable\": \"VERIFIABLE\", \"label\": \"SUPPORTS\", \"claim\": \"2 Hearts is a musical composition by Minogue.\", \"evidence\": [[[225394, 230056, \"2_Hearts_-LRB-Kylie_Minogue_song-RRB-\", 0]], [[317953, 306972, \"2_Hearts_-LRB-Kylie_Minogue_song-RRB-\", 0]], [[319638, 308345, \"2_Hearts_-LRB-Kylie_Minogue_song-RRB-\", 0]], [[319643, 308348, \"2_Hearts_-LRB-Kylie_Minogue_song-RRB-\", 0]]]}\n",
      "{\"id\": 202314, \"verifiable\": \"VERIFIABLE\", \"label\": \"REFUTES\", \"claim\": \"The New Jersey Turnpike has zero shoulders.\", \"evidence\": [[[238335, 240393, \"New_Jersey_Turnpike\", 15]]]}\n",
      "{\"id\": 57085, \"verifiable\": \"NOT VERIFIABLE\", \"label\": \"NOT ENOUGH INFO\", \"claim\": \"Legendary Entertainment is the owner of Wanda Cinemas.\", \"evidence\": [[[178035, null, \"Wanda_Cinemas\", -1], [182093, null, \"Wanda_Cinemas\", -1], [314120, null, \"Wanda_Cinemas\", -1], [314126, null, \"Wanda_Cinemas\", -1], [314131, null, \"Wanda_Cinemas\", -1]]]}\n",
      "{\"id\": 6032, \"verifiable\": \"VERIFIABLE\", \"label\": \"REFUTES\", \"claim\": \"Aruba is the only ABC Island.\", \"evidence\": [[[22769, 28071, \"ABC_islands_-LRB-Lesser_Antilles-RRB-\", 0]], [[22769, 28072, \"ABC_islands_-LRB-Lesser_Antilles-RRB-\", 1]]]}\n",
      "{\"id\": 176630, \"verifiable\": \"NOT VERIFIABLE\", \"label\": \"NOT ENOUGH INFO\", \"claim\": \"Great white sharks do not prefer dolphins as prey.\", \"evidence\": [[[204612, null, \"Great_white_shark\", -1]]]}\n",
      "{\"id\": 130048, \"verifiable\": \"VERIFIABLE\", \"label\": \"REFUTES\", \"claim\": \"Burbank, California has always been completely void of industry.\", \"evidence\": [[[152264, 167060, \"Burbank,_California\", 7]]]}\n",
      "{\"id\": 100046, \"verifiable\": \"NOT VERIFIABLE\", \"label\": \"NOT ENOUGH INFO\", \"claim\": \"The Guthrie Theater's second building began operating in 1963.\", \"evidence\": [[[117690, null, \"Joe_Dowling\", -1]]]}\n",
      "{\"id\": 204575, \"verifiable\": \"VERIFIABLE\", \"label\": \"REFUTES\", \"claim\": \"Commodore is ranked above a rear admiral.\", \"evidence\": [[[241594, 243126, \"Commodore_-LRB-rank-RRB-\", 0]], [[241594, 243127, \"Commodore_-LRB-rank-RRB-\", 9], [241594, 243127, \"Rear_admiral\", 0]]]}\n"
     ]
    }
   ],
   "source": [
    "!head working/data/training/paper_test.ns.pages.p5.jsonl"
   ]
  },
  {
   "cell_type": "code",
   "execution_count": 130,
   "id": "primary-season",
   "metadata": {},
   "outputs": [
    {
     "name": "stderr",
     "output_type": "stream",
     "text": [
      "100%|██████████| 9999/9999 [00:00<00:00, 22138.21it/s]\n"
     ]
    }
   ],
   "source": [
    "import json\n",
    "from tqdm import tqdm\n",
    "jlr = JSONLineReader()\n",
    "split = 'paper_dev'\n",
    "working_dir = 'working/data/'\n",
    "k = 5\n",
    "test_data_file = working_dir + \"training/{0}_pipeline.ps.pages.p{1}.jsonl\".format(split, k)\n",
    "data = jlr.read(test_data_file)"
   ]
  },
  {
   "cell_type": "code",
   "execution_count": 132,
   "id": "tribal-parks",
   "metadata": {
    "tags": []
   },
   "outputs": [
    {
     "data": {
      "text/plain": [
       "[{'id': 113501,\n",
       "  'verifiable': 'NOT VERIFIABLE',\n",
       "  'label': 'NOT ENOUGH INFO',\n",
       "  'claim': 'Grease had bad reviews.',\n",
       "  'evidence': [[[133128,\n",
       "     None,\n",
       "     'Grease_gun_-LRB-tool-RRB-',\n",
       "     -1,\n",
       "     [['Hand-powered , where there is no trigger mechanism , and the grease is forced through the aperture by the back-pressure built up by pushing on the butt of the grease gun , which slides a piston through the body of the tool , pumping grease out of the aperture .'],\n",
       "      []]],\n",
       "    [-1, None, 'Grease_gun_-LRB-tool-RRB-', -2, [[], []]],\n",
       "    [-1, None, 'Nasal_sebum', -2, [[], []]],\n",
       "    [-1, None, 'Grease', -2, [[], []]],\n",
       "    [-1, None, 'Thermal_interface_material', -2, [[], []]]]]}]"
      ]
     },
     "execution_count": 132,
     "metadata": {},
     "output_type": "execute_result"
    }
   ],
   "source": [
    "data[:1]"
   ]
  },
  {
   "cell_type": "code",
   "execution_count": 137,
   "id": "relative-visit",
   "metadata": {},
   "outputs": [
    {
     "data": {
      "text/plain": [
       "9984"
      ]
     },
     "execution_count": 137,
     "metadata": {},
     "output_type": "execute_result"
    }
   ],
   "source": [
    "len(data[:9984])"
   ]
  },
  {
   "cell_type": "code",
   "execution_count": 135,
   "id": "endangered-shipping",
   "metadata": {},
   "outputs": [
    {
     "data": {
      "text/plain": [
       "9984"
      ]
     },
     "execution_count": 135,
     "metadata": {},
     "output_type": "execute_result"
    }
   ],
   "source": [
    "len(y_pred)"
   ]
  },
  {
   "cell_type": "code",
   "execution_count": 178,
   "id": "impossible-springfield",
   "metadata": {},
   "outputs": [
    {
     "data": {
      "text/plain": [
       "9984"
      ]
     },
     "execution_count": 178,
     "metadata": {},
     "output_type": "execute_result"
    }
   ],
   "source": [
    "len(y_test)"
   ]
  },
  {
   "cell_type": "code",
   "execution_count": 146,
   "id": "prepared-template",
   "metadata": {
    "collapsed": true,
    "jupyter": {
     "outputs_hidden": true
    },
    "tags": []
   },
   "outputs": [
    {
     "data": {
      "text/plain": [
       "[{'claim': '2 Hearts is a musical composition by Minogue.',\n",
       "  'evidence': [('2_Hearts_-LRB-Kylie_Minogue_song-RRB-', -2),\n",
       "   ('Kylie_Minogue_singles_discography', -2),\n",
       "   ('Kylie_Minogue', -2),\n",
       "   ('X_-LRB-Kylie_Minogue_album-RRB-', -2),\n",
       "   ('2_Hearts_-LRB-Kylie_Minogue_song-RRB-', -2)],\n",
       "  'lines': [\"`` 2 Hearts '' is a song recorded by Australian singer Kylie Minogue for her tenth studio album , X -LRB- 2007 -RRB- .\",\n",
       "   \"The music video for `` 2 Hearts '' was directed by Dawn Shadforth and filmed at Shepperton Studios in London , England .\",\n",
       "   \"Upon its release , `` 2 Hearts '' received mixed reviews from music critics .\",\n",
       "   \"The song was praised for its departure of musical content and the song 's strength , however the song received criticism for the song 's production and felt it did n't live up to expectations .\",\n",
       "   \"The song was Minogue 's first commercial single since she was diagnosed with breast cancer in May 2005 .\",\n",
       "   \"It produced five singles , including the Australian number one single `` 2 Hearts '' , and the top twenty single `` Wow '' .\",\n",
       "   'After returning to full health , Minogue released her tenth studio album X in 2007 .',\n",
       "   'Minogue has had seven number one singles and sold over 10.1 million singles in the United Kingdom , making her the 12th best-selling singles artist and the 3rd best-selling female artist in UK history .',\n",
       "   'This earned Minogue a place in the Guinness Book of World Records , for the first female Australian singer to debut at number one in the UK .',\n",
       "   'To date , Minogue has sold more than 80 million records worldwide .',\n",
       "   \"Throughout her career , Minogue has released many successful singles , including `` The Loco-Motion '' , `` Especially for You '' , `` Hand on Your Heart '' , `` Better the Devil You Know '' , `` Confide in Me '' , `` Spinning Around '' , `` Slow '' , `` 2 Hearts '' and `` All The Lovers '' .\",\n",
       "   'In 2005 , while Minogue was on her Showgirl : The Greatest Hits Tour , she was diagnosed with breast cancer .',\n",
       "   'Minogue was awarded an honorary Doctor of Health Science -LRB- D.H.Sc . -RRB-',\n",
       "   'As of 2015 , Minogue has had worldwide record sales of more than 80 million .',\n",
       "   'Minogue resumed work as an actress and appeared in the films Moulin Rouge !',\n",
       "   \"`` 2 Hearts '' was released as the lead single from X .\",\n",
       "   \"The tour received favorable reviews from critics and was a commercial success , making it Minogue 's most expensive tour at the time .\",\n",
       "   \"The album was nominated for a BRIT Award for International Album in 2008 , as well as a Grammy Award for Best Electronic/Dance Album in 2009 , Minogue 's fifth Grammy Award nomination .\",\n",
       "   \"Due to Minogue 's lack of success in North America , she traveled there in 2009 for her tour For You , for Me to promote the album .\",\n",
       "   'X is the tenth studio album by Australian singer Kylie Minogue .'],\n",
       "  'label': 0,\n",
       "  'label_text': 'SUPPORTS'},\n",
       " {'claim': 'The New Jersey Turnpike has zero shoulders.',\n",
       "  'evidence': [('Interstate_95_in_New_Jersey', -2),\n",
       "   ('Interstate_95_in_New_Jersey', -2),\n",
       "   ('List_of_turnpikes_in_New_Jersey', -2),\n",
       "   ('New_Jersey_Turnpike', -2),\n",
       "   ('Newark_Bay_Bridge', -2)],\n",
       "  'lines': [\"In New Jersey , it runs along much of the main line of the New Jersey Turnpike -LRB- Exit 6 to Exit 14 -RRB- , as well as the Pearl Harbor Memorial Extension -LRB- formerly and still commonly known as the Pennsylvania Turnpike Connector ; from Exit 6 to the Delaware River -- Turnpike Toll Bridge -RRB- and the New Jersey Turnpike 's northern continuation -LRB- from Exit 14 -RRB- to the George Washington Bridge , also maintained by the New Jersey Turnpike Authority , for a total of 77.96 mi .\",\n",
       "   'From the New York direction , I-95 enters New Jersey from the George Washington Bridge , continues south on the New Jersey Turnpike to Exit 6 , and then along the Pearl Harbor Memorial Turnpike Extension , until the Delaware River -- Turnpike Toll Bridge , where it becomes I-276 on the Pennsylvania side .',\n",
       "   'Located in the northeastern part of the state near New York City , the 11.03 mi Western Spur of the New Jersey Turnpike , considered to be Route 95W by the New Jersey Department of Transportation , is also part of I-95 .',\n",
       "   'Here , I-95 would follow present-day I-287 to the New Jersey Turnpike in Edison .',\n",
       "   'In order to fill the gap , the Pennsylvania Turnpike/Interstate 95 Interchange Project has started construction of an interchange between the Pennsylvania Turnpike and I-95 in Bristol Township , Pennsylvania , with I-95 being rerouted to use the Pennsylvania Turnpike to the Delaware River-Turnpike Toll Bridge .'],\n",
       "  'label': 1,\n",
       "  'label_text': 'REFUTES'}]"
      ]
     },
     "execution_count": 146,
     "metadata": {},
     "output_type": "execute_result"
    }
   ],
   "source": [
    "formatted_test_data[2:4]"
   ]
  },
  {
   "cell_type": "code",
   "execution_count": 133,
   "id": "distant-wiring",
   "metadata": {},
   "outputs": [
    {
     "name": "stdout",
     "output_type": "stream",
     "text": [
      "label_encoder_train.npz       paper_test_pipeline.ns.pages.p5.jsonl\n",
      "label_encoder_train.pkl       paper_test_pipeline.ps.pages.p5.jsonl\n",
      "paper_dev.ns.pages.p5.jsonl   train.ns.pages.p5.jsonl\n",
      "paper_test.ns.pages.p5.jsonl  train.pages.p5.jsonl\n"
     ]
    }
   ],
   "source": [
    "ls working/data/training"
   ]
  },
  {
   "cell_type": "code",
   "execution_count": 30,
   "id": "specified-flour",
   "metadata": {},
   "outputs": [
    {
     "name": "stderr",
     "output_type": "stream",
     "text": [
      "100%|██████████| 9999/9999 [00:00<00:00, 178577.16it/s]\n"
     ]
    }
   ],
   "source": [
    "#!head -2 working/data/training/paper_test.ns.pages.p5.jsonl\n",
    "#re-read the original data, for the annotated evidences\n",
    "import json\n",
    "from tqdm import tqdm\n",
    "jlr = JSONLineReader()\n",
    "split = 'paper_dev'\n",
    "working_dir = 'working/data/'\n",
    "k = 5\n",
    "test_data_file = working_dir + \"training/{0}.ns.pages.p{1}.jsonl\".format(split, k)\n",
    "data_orig = jlr.read(test_data_file)\n",
    "orig_evidences = [d['evidence'] for d in data_orig[:len(y_test)]]"
   ]
  },
  {
   "cell_type": "code",
   "execution_count": 31,
   "id": "further-makeup",
   "metadata": {},
   "outputs": [
    {
     "name": "stderr",
     "output_type": "stream",
     "text": [
      "5696it [00:00, 79683.93it/s]"
     ]
    },
    {
     "name": "stdout",
     "output_type": "stream",
     "text": [
      "Saving to training/paper_dev_predicted_pipeline.ps.pages.p5.jsonl\n"
     ]
    },
    {
     "name": "stderr",
     "output_type": "stream",
     "text": [
      "\n"
     ]
    }
   ],
   "source": [
    "split = 'paper_dev_predicted'\n",
    "k = 5\n",
    "# cnt = 0\n",
    "with open(working_dir + \"training/{0}_pipeline.ps.pages.p{1}.jsonl\".format(split,k),\"w+\") as f_out:\n",
    "    print(\"Saving to training/{0}_pipeline.ps.pages.p{1}.jsonl\".format(split,k))\n",
    "    for rec, orig, true_label, predicted_label in tqdm(zip(data[:len(y_test)], orig_evidences, y_test, y_pred)):\n",
    "        o = {}\n",
    "        o['id'] = rec['id']\n",
    "        o['label'] = rec['label']\n",
    "        evs = []\n",
    "        for evidence_group in rec['evidence']:\n",
    "            for evidence in evidence_group:\n",
    "                if evidence[0] > -1:\n",
    "                    ev = [evidence[0], evidence[1], evidence[2], evidence[4][1]]\n",
    "                    evs.append(ev)\n",
    "            #o['evidence'] = d['evidence']\n",
    "        #print(o)\n",
    "        out = {'true_label': str(true_label), 'predicted_label': str(predicted_label), 'orig': orig, 'pred': evs}\n",
    "#         cnt += 1\n",
    "#         if cnt > 9:\n",
    "#             break\n",
    "        f_out.write(json.dumps(out) + \"\\n\")"
   ]
  },
  {
   "cell_type": "code",
   "execution_count": 32,
   "id": "stunning-activation",
   "metadata": {},
   "outputs": [
    {
     "name": "stdout",
     "output_type": "stream",
     "text": [
      "5696 working/data/training/paper_dev_predicted_pipeline.ps.pages.p5.jsonl\n"
     ]
    }
   ],
   "source": [
    "!wc -l working/data/training/paper_dev_predicted_pipeline.ps.pages.p5.jsonl"
   ]
  },
  {
   "cell_type": "code",
   "execution_count": 33,
   "id": "endangered-remark",
   "metadata": {
    "collapsed": true,
    "jupyter": {
     "outputs_hidden": true
    },
    "tags": []
   },
   "outputs": [
    {
     "name": "stdout",
     "output_type": "stream",
     "text": [
      "{\"true_label\": \"0\", \"predicted_label\": \"0\", \"orig\": [[[108548, null, \"Colin_Kaepernick\", -1]]], \"pred\": [[108548, null, \"Colin_Kaepernick\", []]]}\n",
      "{\"true_label\": \"0\", \"predicted_label\": \"0\", \"orig\": [[[227768, null, \"Swinton_-LRB-surname-RRB-\", -1]]], \"pred\": [[227768, null, \"Swinton_-LRB-surname-RRB-\", []]]}\n",
      "{\"true_label\": \"2\", \"predicted_label\": \"0\", \"orig\": [[[289914, 283015, \"Soul_Food_-LRB-film-RRB-\", 0]], [[291259, 284217, \"Soul_Food_-LRB-film-RRB-\", 0]], [[293412, 285960, \"Soul_Food_-LRB-film-RRB-\", 0]], [[337212, 322620, \"Soul_Food_-LRB-film-RRB-\", 0]], [[337214, 322622, \"Soul_Food_-LRB-film-RRB-\", 0]]], \"pred\": [[289914, 283015, \"Soul_Food\", [3, 2]], [291259, 284217, \"Soul_Food_-LRB-film-RRB-\", [0, 4]], [293412, 285960, \"Ramona_and_Beezus\", [4, 1]], [337212, 322620, \"Maxine_Chadway\", [1]], [337214, 322622, \"John_C._Kilkenny\", [1, 12, 0, 5]]]}\n",
      "{\"true_label\": \"0\", \"predicted_label\": \"0\", \"orig\": [[[191656, null, \"List_of_Ace_titles_in_numeric_series\", -1], [191657, null, \"List_of_Ace_titles_in_numeric_series\", -1]]], \"pred\": [[191656, null, \"List_of_Ace_titles_in_numeric_series\", []], [191657, null, \"List_of_Ace_titles_in_numeric_series\", []]]}\n",
      "{\"true_label\": \"1\", \"predicted_label\": \"2\", \"orig\": [[[131371, 146144, \"Telemundo\", 0]], [[131371, 146148, \"Telemundo\", 1]], [[131371, 146150, \"Telemundo\", 4], [131371, 146150, \"Hispanic_and_Latino_Americans\", 0]], [[131371, 146151, \"Telemundo\", 5]]], \"pred\": [[131371, 146144, \"KTMO-LP\", [0, 2, 3]], [131371, 146148, \"Noticiero_Telemundo\", [0, 5, 7, 4, 1]], [131371, 146150, \"Fran_Mires\", [0, 3, 4, 12, 7]], [131371, 146150, \"Fran_Mires\", [0, 3, 4, 12, 7]], [131371, 146151, \"Noticias_Telemundo\", [0, 4]]]}\n",
      "{\"true_label\": \"1\", \"predicted_label\": \"2\", \"orig\": [[[107201, 120581, \"Damon_Albarn\", 17]]], \"pred\": [[107201, 120581, \"Jeff_Wootton\", [1, 5, 4, 2]]]}\n",
      "{\"true_label\": \"2\", \"predicted_label\": \"2\", \"orig\": [[[210946, 218608, \"Mogadishu\", 0]]], \"pred\": [[210946, 218608, \"Mogadishu_-LRB-disambiguation-RRB-\", [0, 5]]]}\n",
      "{\"true_label\": \"1\", \"predicted_label\": \"0\", \"orig\": [[[260471, 258880, \"Savages_-LRB-2012_film-RRB-\", 3]], [[260473, 258882, \"Savages_-LRB-2012_film-RRB-\", 3]]], \"pred\": [[260471, 258880, \"These_Hopeless_Savages\", [0, 10, 8, 1, 7]], [260473, 258882, \"My_Leopold\", []]]}\n",
      "{\"true_label\": \"0\", \"predicted_label\": \"0\", \"orig\": [[[227658, null, \"Nine_Inch_Nails_discography\", -1]]], \"pred\": [[227658, null, \"Nine_Inch_Nails_discography\", []]]}\n",
      "{\"true_label\": \"1\", \"predicted_label\": \"0\", \"orig\": [[[127089, 141573, \"Andrew_Kevin_Walker\", 0]]], \"pred\": [[127089, 141573, \"Andrew_Walker\", [9]]]}\n"
     ]
    }
   ],
   "source": [
    "!head working/data/training/paper_dev_predicted_pipeline.ps.pages.p5.jsonl"
   ]
  },
  {
   "cell_type": "code",
   "execution_count": 34,
   "id": "composite-business",
   "metadata": {},
   "outputs": [
    {
     "name": "stderr",
     "output_type": "stream",
     "text": [
      "100%|██████████| 5696/5696 [00:00<00:00, 138252.69it/s]\n"
     ]
    }
   ],
   "source": [
    "#!head -2 working/data/training/paper_test.ns.pages.p5.jsonl\n",
    "#re-read the original data, for the annotated evidences\n",
    "import json\n",
    "from tqdm import tqdm\n",
    "jlr = JSONLineReader()\n",
    "split = 'paper_dev_predicted'\n",
    "working_dir = 'working/data/'\n",
    "k = 5\n",
    "#working/data/training/paper_test_predicted_pipeline.ps.pages.p5.jsonl\n",
    "test_data_file = working_dir + \"training/{0}_pipeline.ps.pages.p{1}.jsonl\".format(split, k)\n",
    "predicted_results = jlr.read(test_data_file)"
   ]
  },
  {
   "cell_type": "code",
   "execution_count": 35,
   "id": "manufactured-yukon",
   "metadata": {
    "tags": []
   },
   "outputs": [
    {
     "data": {
      "text/plain": [
       "[{'true_label': '0',\n",
       "  'predicted_label': '0',\n",
       "  'orig': [[[108548, None, 'Colin_Kaepernick', -1]]],\n",
       "  'pred': [[108548, None, 'Colin_Kaepernick', []]]},\n",
       " {'true_label': '0',\n",
       "  'predicted_label': '0',\n",
       "  'orig': [[[227768, None, 'Swinton_-LRB-surname-RRB-', -1]]],\n",
       "  'pred': [[227768, None, 'Swinton_-LRB-surname-RRB-', []]]}]"
      ]
     },
     "execution_count": 35,
     "metadata": {},
     "output_type": "execute_result"
    }
   ],
   "source": [
    "predicted_results[:2]"
   ]
  },
  {
   "cell_type": "code",
   "execution_count": 36,
   "id": "private-bahamas",
   "metadata": {},
   "outputs": [
    {
     "data": {
      "text/plain": [
       "5696"
      ]
     },
     "execution_count": 36,
     "metadata": {},
     "output_type": "execute_result"
    }
   ],
   "source": [
    "len(predicted_results)"
   ]
  },
  {
   "cell_type": "code",
   "execution_count": 38,
   "id": "appropriate-duration",
   "metadata": {},
   "outputs": [
    {
     "name": "stderr",
     "output_type": "stream",
     "text": [
      "100%|██████████| 5696/5696 [00:00<00:00, 177515.57it/s]"
     ]
    },
    {
     "name": "stdout",
     "output_type": "stream",
     "text": [
      "noevscore=56.48, score=35.55\n"
     ]
    },
    {
     "name": "stderr",
     "output_type": "stream",
     "text": [
      "\n"
     ]
    }
   ],
   "source": [
    "strictly_correct = 0\n",
    "correct = 0\n",
    "cnt = 0\n",
    "for d in tqdm(predicted_results):\n",
    "    true_label = d['true_label']\n",
    "    predicted_label = d['predicted_label']\n",
    "    true_evidence = d['orig']\n",
    "    predicted_evidence = d['pred']\n",
    "    te = {}\n",
    "    pe = {}\n",
    "    #is correct?\n",
    "    if (true_label == predicted_label):\n",
    "        correct += 1\n",
    "        # is strictly correct?\n",
    "        if (true_label != '0') and (true_label==predicted_label):\n",
    "            for eg in true_evidence:\n",
    "                for e in eg:\n",
    "                    if e[2] in te:\n",
    "                        te[e[2]].append(e[3])\n",
    "                    else:\n",
    "                        te[e[2]]= [e[3]]    \n",
    "\n",
    "            for e in predicted_evidence:\n",
    "                if e[2] in pe:\n",
    "                    pe[e[2]].append(e[3])\n",
    "                else:\n",
    "                    pe[e[2]]= [e[3]]\n",
    "\n",
    "            # for each annotated evidence, see if we predicted the evidences\n",
    "            # did we correctly predict all pages?\n",
    "            all_pages = all([k1 in pe.keys() for k1 in te.keys()])\n",
    "            if all_pages:\n",
    "                #for the pages we predicted, did we predict all the sentences?\n",
    "                for k in te.keys():\n",
    "                    if k in pe: # the page is predicted\n",
    "                        true_sents = np.unique(te[k])\n",
    "                        pre_sents = np.unique(pe[k][0])\n",
    "                        #if all the true sentences were predicted\n",
    "                        match = all([actual_sent in pre_sents for actual_sent in true_sents])\n",
    "                        #if match and (len(true_sents) == len(pre_sents)):\n",
    "                        #we are predicting 5 lines per page, so the count may not match with the true evidence lines\n",
    "                        if match:\n",
    "                            strictly_correct += 1\n",
    "        elif (true_label == '0') and (true_label == predicted_label): # not enough info\n",
    "                strictly_correct += 1\n",
    "noevscore = np.round(correct/len(predicted_results)*100,2)\n",
    "score = np.round(strictly_correct/len(predicted_results)*100,2)\n",
    "print(\"noevscore={}, score={}\".format(noevscore, score))"
   ]
  },
  {
   "cell_type": "markdown",
   "id": "passing-junction",
   "metadata": {},
   "source": [
    "#### From original FEVER paper\n",
    "The classification\n",
    "accuracy is <b>32.57%</b>. Ignoring the requirement for\n",
    "correct evidence (NoScoreEv) the accuracy is\n",
    "<b>52.09%</b>."
   ]
  },
  {
   "cell_type": "code",
   "execution_count": null,
   "id": "previous-xerox",
   "metadata": {},
   "outputs": [],
   "source": []
  }
 ],
 "metadata": {
  "kernelspec": {
   "display_name": "Python 3",
   "language": "python",
   "name": "python3"
  },
  "language_info": {
   "codemirror_mode": {
    "name": "ipython",
    "version": 3
   },
   "file_extension": ".py",
   "mimetype": "text/x-python",
   "name": "python",
   "nbconvert_exporter": "python",
   "pygments_lexer": "ipython3",
   "version": "3.7.10"
  }
 },
 "nbformat": 4,
 "nbformat_minor": 5
}
