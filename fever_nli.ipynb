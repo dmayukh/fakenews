{
 "cells": [
  {
   "cell_type": "markdown",
   "metadata": {},
   "source": [
    "# FEVER \n",
    "\n",
    "A large part of the work here is to process the datasets and prepare them for training.\n",
    "\n",
    "In this notebook, we will first focus on extracting the data from the pre-processed Wiki corpus provided by [fever.ai](https://fever.ai/dataset/fever.html).\n",
    "\n",
    "The datasets are available as JSONL files. \n",
    "\n",
    "The data is available in a [docker image](https://hub.docker.com/r/feverai/common), 21GB in size. The container is created and the volume /local/ from it is mounted and made available to our [container](https://github.com/dmayukh/fakenews/Dockerfile) \n",
    "\n",
    "We use the following repos for reference code:\n",
    "\n",
    "- [fever-baselines](https://github.com/klimzaporojets/fever-baselines.git)\n",
    "- [fever-allennlp-reader](https://github.com/j6mes/fever-allennlp-reader)\n",
    "- [fever-allennlp](https://github.com/j6mes/fever-allennlp)\n",
    "\n",
    "Note, AllenNLP here is used only for the NLI training, using models such as Decomposable Attention, Elmo + ESIM, ESIM etc. We will not use those for our work here.\n",
    "\n",
    "\n",
    "We will install a few dependencies such as:\n",
    "- numpy>=1.15\n",
    "- regex\n",
    "- allennlp==2.5.0\n",
    "- fever-scorer==2.0.39\n",
    "- fever-drqa==1.0.13\n",
    "\n",
    "The following packages are installed by the above dependencies\n",
    "- torchvision-0.9.1\n",
    "- google_cloud_storage-1.38.0\n",
    "- overrides==3.1.0\n",
    "- transformers-4.6.1\n",
    "- spacy-3.0.6\n",
    "- sentencepiece-0.1.96\n",
    "- torch-1.8.1\n",
    "- wandb-0.10.33\n",
    "- lmdb-1.2.1\n",
    "- jsonnet-0.17.0\n",
    "\n",
    "We do not really need allennlp or fever-scorer as of yet, we would only need DrQA. We would prefer to use the DrQA from the official github, but for now we will go with what was prepackaged by the [j6mes](https://pypi.org/project/fever-drqa/) "
   ]
  },
  {
   "cell_type": "markdown",
   "metadata": {},
   "source": [
    "### Train the ESIM model on Fever dataset\n",
    "\n",
    "The supplied dataset in the train.jsonl has NEI (not enough info) classes which do not have evidences annotated.\n",
    "\n",
    "First we would prepare the dataset by generating closest document matches for the NEI classes.\n",
    "\n",
    "The resulting dataset would have the original samples and for the NEI classes the evidence would contain the predicted, i.e. documents that match closely with the claim."
   ]
  },
  {
   "cell_type": "code",
   "execution_count": 16,
   "metadata": {},
   "outputs": [],
   "source": [
    "from mda.src.dataset.DatasetGenerator import DatasetGenerator"
   ]
  },
  {
   "cell_type": "code",
   "execution_count": 17,
   "metadata": {},
   "outputs": [],
   "source": [
    "ds_generator = DatasetGenerator(dataset_root='data/data/',out_dir='working/data/training/', database_path='data/data/fever/fever.db')"
   ]
  },
  {
   "cell_type": "code",
   "execution_count": 3,
   "metadata": {},
   "outputs": [
    {
     "name": "stdout",
     "output_type": "stream",
     "text": [
      "Writing data to working/data/training//train.ns.pages.p5.jsonl\n"
     ]
    },
    {
     "name": "stderr",
     "output_type": "stream",
     "text": [
      "100%|██████████| 145449/145449 [25:12<00:00, 96.19it/s] \n"
     ]
    }
   ],
   "source": [
    "ds_generator.generate_nei_evidences('train', 5)"
   ]
  },
  {
   "cell_type": "markdown",
   "metadata": {},
   "source": [
    "#### Load the training data"
   ]
  },
  {
   "cell_type": "code",
   "execution_count": 1,
   "metadata": {},
   "outputs": [],
   "source": [
    "from mda.src.dataset.DatasetReader import DatasetReader"
   ]
  },
  {
   "cell_type": "code",
   "execution_count": 2,
   "metadata": {},
   "outputs": [
    {
     "name": "stderr",
     "output_type": "stream",
     "text": [
      "100%|██████████| 145449/145449 [00:01<00:00, 83513.48it/s]\n",
      "100%|██████████| 145449/145449 [00:01<00:00, 143734.96it/s]\n"
     ]
    },
    {
     "name": "stdout",
     "output_type": "stream",
     "text": [
      "(TensorSpec(shape=(2,), dtype=tf.string, name=None), TensorSpec(shape=(3,), dtype=tf.int32, name=None))\n"
     ]
    }
   ],
   "source": [
    "infile = 'working/data/training/train.ns.pages.p5.jsonl'\n",
    "dsreader = DatasetReader(in_file=infile,label_checkpoint_file=None, database_path='data/data/fever/fever.db')\n",
    "raw, data = dsreader.read()\n",
    "ds_train = dsreader.get_dataset()\n",
    "print(ds_train.element_spec)"
   ]
  },
  {
   "cell_type": "code",
   "execution_count": 3,
   "metadata": {
    "tags": []
   },
   "outputs": [
    {
     "name": "stdout",
     "output_type": "stream",
     "text": [
      "(<tf.Tensor: shape=(2,), dtype=string, numpy=\n",
      "array([b'[START] nikolaj coster waldau worked with the fox broadcasting company . [END]',\n",
      "       b'He then played Detective John Amsterdam in the short-lived Fox television series New Amsterdam -LRB- 2008 -RRB- , as well as appearing as Frank Pike in the 2009 Fox television film Virtuality , originally intended as a pilot . The Fox Broadcasting Company -LRB- often shortened to Fox and stylized as FOX -RRB- is an American English language commercial broadcast television network that is owned by the Fox Entertainment Group subsidiary of 21st Century Fox .'],\n",
      "      dtype=object)>, <tf.Tensor: shape=(3,), dtype=int32, numpy=array([0, 0, 1], dtype=int32)>)\n"
     ]
    }
   ],
   "source": [
    "for d in ds_train.take(1):\n",
    "    print(d)"
   ]
  },
  {
   "cell_type": "markdown",
   "metadata": {},
   "source": [
    "### Load the dev data\n",
    "\n",
    "NOTE: the dev data is sampled differently than training data when running evaluation, this is because during validation, we are supposed to select the relevant pages and the sentences from those pages which will be used for our evaluation task, but during the training validation data comes from the dev dataset for which the pages and sentences chosen would be the ones annotated in the dataset and therefore which should be processed just like the train data, i.e. using the annotated evidences."
   ]
  },
  {
   "cell_type": "markdown",
   "metadata": {},
   "source": [
    "#### Generate NEI evidences for dev dataset"
   ]
  },
  {
   "cell_type": "code",
   "execution_count": 18,
   "metadata": {},
   "outputs": [
    {
     "name": "stderr",
     "output_type": "stream",
     "text": [
      "  0%|          | 2/9999 [00:00<08:48, 18.91it/s]"
     ]
    },
    {
     "name": "stdout",
     "output_type": "stream",
     "text": [
      "Writing data to working/data/training//paper_dev.ns.pages.p5.jsonl\n"
     ]
    },
    {
     "name": "stderr",
     "output_type": "stream",
     "text": [
      "100%|██████████| 9999/9999 [02:19<00:00, 71.57it/s] \n"
     ]
    }
   ],
   "source": [
    "ds_generator.generate_nei_evidences('paper_dev', 5)"
   ]
  },
  {
   "cell_type": "code",
   "execution_count": 4,
   "metadata": {},
   "outputs": [
    {
     "name": "stderr",
     "output_type": "stream",
     "text": [
      "100%|██████████| 9999/9999 [00:00<00:00, 182874.73it/s]\n",
      "100%|██████████| 9999/9999 [00:00<00:00, 195211.49it/s]\n"
     ]
    }
   ],
   "source": [
    "infile = 'working/data/training/paper_dev.ns.pages.p5.jsonl'\n",
    "label_checkpoint_file = 'working/data/training/label_encoder_train.pkl'\n",
    "#note, use type = 'train' since formatting would be like the train examples\n",
    "dsreader = DatasetReader(in_file=infile,label_checkpoint_file=label_checkpoint_file, database_path='data/data/fever/fever.db', type='train')\n",
    "raw_dev, data_dev = dsreader.read()\n",
    "ds_dev = dsreader.get_dataset()"
   ]
  },
  {
   "cell_type": "code",
   "execution_count": 5,
   "metadata": {
    "tags": []
   },
   "outputs": [
    {
     "name": "stdout",
     "output_type": "stream",
     "text": [
      "(<tf.Tensor: shape=(2,), dtype=string, numpy=\n",
      "array([b'[START] colin kaepernick became a starting quarterback during the ers rd season in the national football league . [END]',\n",
      "       b'During the 2013 season , his first full season as a starter , Kaepernick helped the 49ers reach the NFC Championship , losing to the Seattle Seahawks .'],\n",
      "      dtype=object)>, <tf.Tensor: shape=(3,), dtype=int32, numpy=array([1, 0, 0], dtype=int32)>)\n"
     ]
    }
   ],
   "source": [
    "for d in ds_dev.take(1):\n",
    "    print(d)"
   ]
  },
  {
   "cell_type": "code",
   "execution_count": 6,
   "metadata": {},
   "outputs": [],
   "source": [
    "import tensorflow as tf\n",
    "import numpy as np\n",
    "import tensorflow_text as text\n",
    "from tensorflow_text.tools.wordpiece_vocab import bert_vocab_from_dataset as bert_vocab"
   ]
  },
  {
   "cell_type": "code",
   "execution_count": 7,
   "metadata": {
    "tags": []
   },
   "outputs": [],
   "source": [
    "bert_tokenizer_params=dict(lower_case=True)\n",
    "reserved_tokens=[\"[PAD]\", \"[UNK]\", \"[START]\", \"[END]\"]\n",
    "bert_vocab_args = dict(\n",
    "    # The target vocabulary size\n",
    "    vocab_size = 8000,\n",
    "    # Reserved tokens that must be included in the vocabulary\n",
    "    reserved_tokens=reserved_tokens,\n",
    "    # Arguments for `text.BertTokenizer`\n",
    "    bert_tokenizer_params=bert_tokenizer_params,\n",
    "    # Arguments for `wordpiece_vocab.wordpiece_tokenizer_learner_lib.learn`\n",
    "    learn_params={},\n",
    ")"
   ]
  },
  {
   "cell_type": "markdown",
   "metadata": {},
   "source": [
    "#### Use pre-generated vocab to initialize bert\n",
    "Generating the vocab is an expensive operation and needs to be done using the full corpus of data, i.e. not just the sentences, but using the entire body text from the training dataset. If the vocab is already generated, use the vocab file to initialize the tokenizer."
   ]
  },
  {
   "cell_type": "code",
   "execution_count": 8,
   "metadata": {},
   "outputs": [],
   "source": [
    "bert_tokenizer_params=dict(lower_case=True)\n",
    "vocab_file_out = 'working/data/fever_vocab.txt'\n",
    "pt_tokenizer = text.BertTokenizer(vocab_file_out, **bert_tokenizer_params)"
   ]
  },
  {
   "cell_type": "markdown",
   "metadata": {},
   "source": [
    "#### Generating the BERT vocab\n",
    "If the vocab file is not available, generate the vocab file. Use the full dataset text generator for this task."
   ]
  },
  {
   "cell_type": "code",
   "execution_count": 10,
   "metadata": {},
   "outputs": [
    {
     "name": "stderr",
     "output_type": "stream",
     "text": [
      "100%|██████████| 9999/9999 [00:00<00:00, 56881.19it/s]\n",
      "100%|██████████| 9999/9999 [00:00<00:00, 192957.13it/s]\n"
     ]
    }
   ],
   "source": [
    "infile = 'working/data/training/paper_dev.ns.pages.p5.jsonl'\n",
    "#note, use type = 'train' since formatting would be like the train examples\n",
    "dsreader = DatasetReader(in_file=infile,label_checkpoint_file=None, database_path='data/data/fever/fever.db', type='train', fullbodytext=True)\n",
    "raw_train_all, data_train_all = dsreader.read()\n",
    "ds_train_tup = dsreader.get_dataset()\n",
    "ds_train_text = ds_train_tup.map(lambda x, y: x)"
   ]
  },
  {
   "cell_type": "code",
   "execution_count": 11,
   "metadata": {},
   "outputs": [
    {
     "name": "stdout",
     "output_type": "stream",
     "text": [
      "CPU times: user 2min 11s, sys: 1.22 s, total: 2min 13s\n",
      "Wall time: 2min 12s\n"
     ]
    }
   ],
   "source": [
    "%%time\n",
    "pt_vocab = bert_vocab.bert_vocab_from_dataset(\n",
    "    ds_train_text.batch(1000).prefetch(2),\n",
    "    **bert_vocab_args\n",
    ")"
   ]
  },
  {
   "cell_type": "code",
   "execution_count": 62,
   "metadata": {},
   "outputs": [],
   "source": [
    "def write_vocab_file(filepath, vocab):\n",
    "    print(\"Saving vocab file to {}\".format(filepath))\n",
    "    with open(filepath, 'w') as f:\n",
    "        for token in vocab:\n",
    "            print(token, file=f)"
   ]
  },
  {
   "cell_type": "code",
   "execution_count": 63,
   "metadata": {},
   "outputs": [
    {
     "name": "stdout",
     "output_type": "stream",
     "text": [
      "Saving vocab file to working/data/fever_vocab.txt\n"
     ]
    }
   ],
   "source": [
    "vocab_file_out = 'working/data/fever_vocab.txt'\n",
    "write_vocab_file(vocab_file_out, pt_vocab)"
   ]
  },
  {
   "cell_type": "markdown",
   "metadata": {},
   "source": [
    "#### Tokenize the data\n",
    "Tokenize the data and prepare the tensors for training. We will tokenize the texts, the hypothesis and the evidences seperately and return them as tensors in a BatchDataset.\n",
    "\n",
    "Generate the BatchDataset for the training data."
   ]
  },
  {
   "cell_type": "code",
   "execution_count": 22,
   "metadata": {
    "tags": []
   },
   "outputs": [
    {
     "name": "stdout",
     "output_type": "stream",
     "text": [
      "<MapDataset shapes: (60,), types: tf.int64>\n",
      "<MapDataset shapes: (60,), types: tf.int64>\n",
      "<BatchDataset shapes: (((64, 60), (64, 60)), (64, 3)), types: ((tf.int64, tf.int64), tf.int32)>\n",
      "((TensorSpec(shape=(64, 60), dtype=tf.int64, name=None), TensorSpec(shape=(64, 60), dtype=tf.int64, name=None)), TensorSpec(shape=(64, 3), dtype=tf.int32, name=None))\n"
     ]
    }
   ],
   "source": [
    "BATCH_SIZE = 64\n",
    "MAX_SEQ_LEN = 60\n",
    "BUFFER_SIZE = 32000\n",
    "def tokenize_and_pad(text, max_len):\n",
    "    segment = pt_tokenizer.tokenize(text).merge_dims(1, -1)\n",
    "    inp = segment.to_tensor(shape=[None, max_len])\n",
    "    return inp[0]\n",
    "\n",
    "h = ds_train.map(lambda x, y: tokenize_and_pad(x[0], MAX_SEQ_LEN))\n",
    "e = ds_train.map(lambda x, y: tokenize_and_pad(x[1], MAX_SEQ_LEN))\n",
    "l = ds_train.map(lambda x, y: y)\n",
    "print(h)\n",
    "print(e)\n",
    "f = tf.data.Dataset.zip((h,e))\n",
    "d = tf.data.Dataset.zip((f,l))\n",
    "dataset_train = d.shuffle(BUFFER_SIZE).batch(BATCH_SIZE, drop_remainder=True)\n",
    "print(dataset_train)\n",
    "print(dataset_train.element_spec)"
   ]
  },
  {
   "cell_type": "markdown",
   "metadata": {},
   "source": [
    "Generate the BatchDataset for the test data."
   ]
  },
  {
   "cell_type": "code",
   "execution_count": 23,
   "metadata": {},
   "outputs": [
    {
     "name": "stdout",
     "output_type": "stream",
     "text": [
      "<MapDataset shapes: (60,), types: tf.int64>\n",
      "<MapDataset shapes: (60,), types: tf.int64>\n",
      "<BatchDataset shapes: (((64, 60), (64, 60)), (64, 3)), types: ((tf.int64, tf.int64), tf.int32)>\n",
      "((TensorSpec(shape=(64, 60), dtype=tf.int64, name=None), TensorSpec(shape=(64, 60), dtype=tf.int64, name=None)), TensorSpec(shape=(64, 3), dtype=tf.int32, name=None))\n"
     ]
    }
   ],
   "source": [
    "BATCH_SIZE = 64\n",
    "MAX_SEQ_LEN = 60\n",
    "BUFFER_SIZE = 32000\n",
    "def tokenize_and_pad(text, max_len):\n",
    "    segment = pt_tokenizer.tokenize(text).merge_dims(1, -1)\n",
    "    inp = segment.to_tensor(shape=[None, max_len])\n",
    "    return inp[0]\n",
    "\n",
    "h = ds_dev.map(lambda x, y: tokenize_and_pad(x[0], MAX_SEQ_LEN))\n",
    "e = ds_dev.map(lambda x, y: tokenize_and_pad(x[1], MAX_SEQ_LEN))\n",
    "l = ds_dev.map(lambda x, y: y)\n",
    "print(h)\n",
    "print(e)\n",
    "f = tf.data.Dataset.zip((h,e))\n",
    "d = tf.data.Dataset.zip((f,l))\n",
    "dataset_test = d.shuffle(BUFFER_SIZE).batch(BATCH_SIZE, drop_remainder=True)\n",
    "print(dataset_test)\n",
    "print(dataset_test.element_spec)"
   ]
  },
  {
   "cell_type": "code",
   "execution_count": null,
   "metadata": {},
   "outputs": [],
   "source": []
  },
  {
   "cell_type": "markdown",
   "metadata": {},
   "source": [
    "#### Prepare the glove embeddings\n",
    "\n",
    "If this is the first time parsing glove, we will load them from the file downloaded from <> and prepare the embedding matrix.\n",
    "\n",
    "If we already have an embedding matrix saved, we will simply load them from the saved object."
   ]
  },
  {
   "cell_type": "code",
   "execution_count": 24,
   "metadata": {},
   "outputs": [
    {
     "name": "stdout",
     "output_type": "stream",
     "text": [
      "['arr_0']\n",
      "Loaded an embedding matrix of shape (8001, 300)\n"
     ]
    }
   ],
   "source": [
    "npzfile = np.load(\"working/data/embedding_mappings_300d.npz\")\n",
    "print(npzfile.files)\n",
    "embedding_matrix = npzfile['arr_0']\n",
    "print(\"Loaded an embedding matrix of shape\", embedding_matrix.shape)"
   ]
  },
  {
   "cell_type": "markdown",
   "metadata": {},
   "source": [
    "If we did not have saved embeddings, we will need to parse them from scratch."
   ]
  },
  {
   "cell_type": "code",
   "execution_count": 15,
   "metadata": {},
   "outputs": [
    {
     "name": "stdout",
     "output_type": "stream",
     "text": [
      "glove.6B.50d.txt\n",
      "glove.6B.100d.txt\n",
      "glove.6B.200d.txt\n",
      "glove.6B.300d.txt\n",
      "Reading lines from file glove.6B.300d.txt\n"
     ]
    }
   ],
   "source": [
    "import zipfile, io\n",
    "glove_zip_file = \"entailment/data/glove.6B.zip\"\n",
    "glove_vectors_file = \"glove.6B.300d.txt\"\n",
    "embeddings_index = {}\n",
    "with zipfile.ZipFile(glove_zip_file) as z:\n",
    "        for info in z.infolist():\n",
    "            print(info.filename)\n",
    "            if glove_vectors_file in info.filename:\n",
    "                # read the file\n",
    "                print(\"Reading lines from file {}\".format(glove_vectors_file))\n",
    "                with io.TextIOWrapper(z.open(glove_vectors_file), encoding=\"utf-8\") as f:\n",
    "                    for line in f:\n",
    "                        terms = line.split()\n",
    "                        word = terms[0]\n",
    "                        coefs = np.asarray(terms[1:], dtype='float32')\n",
    "                        \n",
    "                        embeddings_index[word] = coefs"
   ]
  },
  {
   "cell_type": "markdown",
   "metadata": {},
   "source": [
    "Prepare the embedding matrix from the embedding index"
   ]
  },
  {
   "cell_type": "code",
   "execution_count": 53,
   "metadata": {
    "tags": []
   },
   "outputs": [],
   "source": [
    "max_length = embeddings_index['start'].shape[0]\n",
    "vocab_size = 8000\n",
    "embedding_matrix = np.zeros((vocab_size + 1, max_length))"
   ]
  },
  {
   "cell_type": "code",
   "execution_count": 54,
   "metadata": {},
   "outputs": [],
   "source": [
    "# d is already a batch of 32 examples\n",
    "for d in ds.batch(1):\n",
    "    emb = pt_tokenizer.tokenize(d[0])\n",
    "    embd = pt_tokenizer.detokenize(emb)\n",
    "    word_batch = [[w[0].decode() for w in w_np] for w_np in [word.numpy() for word in embd]]\n",
    "    index_batch = [[w[0] for w in w_np] for w_np in [word.numpy() for word in emb]]\n",
    "    for w_batch, i_batch in zip(word_batch, index_batch):\n",
    "        for w, i in zip(w_batch, i_batch):\n",
    "            embedding_vector = embeddings_index.get(w)\n",
    "            if embedding_vector is not None:\n",
    "                # words not found in embedding index will be all-zeros.\n",
    "                embedding_matrix[i] = embedding_vector"
   ]
  },
  {
   "cell_type": "markdown",
   "metadata": {},
   "source": [
    "Save the embedding matrix to a compressed numpy file"
   ]
  },
  {
   "cell_type": "code",
   "execution_count": 55,
   "metadata": {},
   "outputs": [],
   "source": [
    "embedding_file = \"working/data/embedding_mappings_300d.npz\"\n",
    "np.savez(embedding_file, embedding_matrix)"
   ]
  },
  {
   "cell_type": "code",
   "execution_count": null,
   "metadata": {},
   "outputs": [],
   "source": []
  },
  {
   "cell_type": "code",
   "execution_count": null,
   "metadata": {},
   "outputs": [],
   "source": []
  },
  {
   "cell_type": "code",
   "execution_count": null,
   "metadata": {},
   "outputs": [],
   "source": []
  },
  {
   "cell_type": "markdown",
   "metadata": {},
   "source": [
    "#### Baseline NLI model using BiLSTM\n",
    "\n",
    "From A large annotated corpus for learning natural language inference [Bowman et al.](https://arxiv.org/pdf/1508.05326v1.pdf), we use the idea of a network based on a BiLSTM. Instead of using 100D embeddings, we use 300D embeddings and use just one 'relu' layer instead of 2 stacked 'tanh' layers used by the authors of the paper.\n"
   ]
  },
  {
   "cell_type": "code",
   "execution_count": 11,
   "metadata": {},
   "outputs": [],
   "source": [
    "import tensorflow as tf\n",
    "from tensorflow import keras\n",
    "from tensorflow.keras.layers import *\n",
    "from tensorflow.keras.regularizers import *"
   ]
  },
  {
   "cell_type": "code",
   "execution_count": 23,
   "metadata": {},
   "outputs": [
    {
     "name": "stdout",
     "output_type": "stream",
     "text": [
      "Model: \"model\"\n",
      "__________________________________________________________________________________________________\n",
      "Layer (type)                    Output Shape         Param #     Connected to                     \n",
      "==================================================================================================\n",
      "hypothesis (InputLayer)         [(None, None)]       0                                            \n",
      "__________________________________________________________________________________________________\n",
      "evidence (InputLayer)           [(None, None)]       0                                            \n",
      "__________________________________________________________________________________________________\n",
      "embedding_2 (Embedding)         (None, None, 300)    2400300     hypothesis[0][0]                 \n",
      "__________________________________________________________________________________________________\n",
      "embedding_3 (Embedding)         (None, None, 300)    2400300     evidence[0][0]                   \n",
      "__________________________________________________________________________________________________\n",
      "bidirectional (Bidirectional)   (None, 600)          1442400     embedding_2[0][0]                \n",
      "__________________________________________________________________________________________________\n",
      "bidirectional_1 (Bidirectional) (None, 600)          1442400     embedding_3[0][0]                \n",
      "__________________________________________________________________________________________________\n",
      "concatenate (Concatenate)       (None, 1200)         0           bidirectional[0][0]              \n",
      "                                                                 bidirectional_1[0][0]            \n",
      "__________________________________________________________________________________________________\n",
      "dense (Dense)                   (None, 16)           19216       concatenate[0][0]                \n",
      "__________________________________________________________________________________________________\n",
      "dropout (Dropout)               (None, 16)           0           dense[0][0]                      \n",
      "__________________________________________________________________________________________________\n",
      "dense_1 (Dense)                 (None, 3)            51          dropout[0][0]                    \n",
      "==================================================================================================\n",
      "Total params: 7,704,667\n",
      "Trainable params: 2,904,067\n",
      "Non-trainable params: 4,800,600\n",
      "__________________________________________________________________________________________________\n"
     ]
    }
   ],
   "source": [
    "vocab_size= 8000\n",
    "dim = 300\n",
    "inp1 = keras.Input(shape=(None, ), name = \"hypothesis\")\n",
    "inp2 = keras.Input(shape=(None, ), name = \"evidence\")\n",
    "embedding_hyp_layer = tf.keras.layers.Embedding(\n",
    "        input_dim=vocab_size+1,\n",
    "        output_dim=dim,\n",
    "        weights=[embedding_matrix],\n",
    "        trainable=False)\n",
    "embedding_evi_layer = tf.keras.layers.Embedding(\n",
    "        input_dim=vocab_size+1,\n",
    "        output_dim=dim,\n",
    "        weights=[embedding_matrix],\n",
    "        trainable=False)\n",
    "x_hyp = embedding_hyp_layer(inp1)\n",
    "x_evi = embedding_evi_layer(inp2)\n",
    "lstm_layer1 = tf.keras.layers.Bidirectional(tf.keras.layers.RNN(tf.keras.layers.LSTMCell(dim)))(x_hyp)\n",
    "lstm_layer2 = tf.keras.layers.Bidirectional(tf.keras.layers.RNN(tf.keras.layers.LSTMCell(dim)))(x_evi)\n",
    "w = keras.layers.concatenate([lstm_layer1, lstm_layer2], axis = 1)\n",
    "x1 = tf.keras.layers.Dense(16, kernel_regularizer=l2(0.01), bias_regularizer=l2(0.01), activation='relu')(w)\n",
    "x2 = tf.keras.layers.Dropout(0.3)(x1)\n",
    "output = tf.keras.layers.Dense(3, activation='softmax')(x2)\n",
    "model = keras.Model(inputs=[inp1, inp2], outputs=output)\n",
    "model.compile(loss='categorical_crossentropy',\n",
    "          optimizer=tf.keras.optimizers.Adam(), \n",
    "          metrics=['accuracy'])\n",
    "model.summary()"
   ]
  },
  {
   "cell_type": "code",
   "execution_count": 24,
   "metadata": {},
   "outputs": [],
   "source": [
    "rm -rf tmp/checkpoint_fever_nli*"
   ]
  },
  {
   "cell_type": "code",
   "execution_count": 25,
   "metadata": {},
   "outputs": [],
   "source": [
    "checkpoint_filepath = 'tmp/checkpoint_fever_nli'\n",
    "model_checkpoint_callback = tf.keras.callbacks.ModelCheckpoint(\n",
    "    filepath=checkpoint_filepath,\n",
    "    save_weights_only=True,\n",
    "    monitor='val_accuracy',\n",
    "    mode='max',\n",
    "    save_best_only=True)\n",
    "\n",
    "stop_early = tf.keras.callbacks.EarlyStopping(monitor='val_loss', patience=5)"
   ]
  },
  {
   "cell_type": "code",
   "execution_count": 28,
   "metadata": {},
   "outputs": [
    {
     "name": "stdout",
     "output_type": "stream",
     "text": [
      "Epoch 1/12\n",
      "2272/2272 [==============================] - 623s 248ms/step - loss: 0.7429 - accuracy: 0.7070 - val_loss: 0.8254 - val_accuracy: 0.6328\n",
      "Epoch 2/12\n",
      "2272/2272 [==============================] - 605s 245ms/step - loss: 0.6082 - accuracy: 0.7680 - val_loss: 0.8183 - val_accuracy: 0.6541\n",
      "Epoch 3/12\n",
      "2272/2272 [==============================] - 606s 245ms/step - loss: 0.5331 - accuracy: 0.8034 - val_loss: 0.8382 - val_accuracy: 0.6535\n",
      "Epoch 4/12\n",
      "2272/2272 [==============================] - 604s 244ms/step - loss: 0.4813 - accuracy: 0.8252 - val_loss: 0.9818 - val_accuracy: 0.6402\n",
      "Epoch 5/12\n",
      "2272/2272 [==============================] - 606s 245ms/step - loss: 0.4381 - accuracy: 0.8421 - val_loss: 1.0801 - val_accuracy: 0.6344\n",
      "Epoch 6/12\n",
      "2272/2272 [==============================] - 604s 245ms/step - loss: 0.4000 - accuracy: 0.8574 - val_loss: 1.1629 - val_accuracy: 0.6336\n",
      "Epoch 7/12\n",
      "2272/2272 [==============================] - 604s 244ms/step - loss: 0.3680 - accuracy: 0.8683 - val_loss: 1.2821 - val_accuracy: 0.6327\n"
     ]
    }
   ],
   "source": [
    "history = model.fit(dataset_train, epochs = 12, validation_data=dataset_test, callbacks=[stop_early, model_checkpoint_callback])"
   ]
  },
  {
   "cell_type": "code",
   "execution_count": 30,
   "metadata": {},
   "outputs": [
    {
     "name": "stdout",
     "output_type": "stream",
     "text": [
      "156/156 [==============================] - 23s 44ms/step - loss: 0.8134 - accuracy: 0.6581\n"
     ]
    },
    {
     "data": {
      "text/plain": [
       "[0.813413679599762, 0.6580528616905212]"
      ]
     },
     "execution_count": 30,
     "metadata": {},
     "output_type": "execute_result"
    }
   ],
   "source": [
    "checkpoint_filepath = 'tmp/checkpoint_fever_nli'\n",
    "model.load_weights(checkpoint_filepath)\n",
    "model.evaluate(dataset_test)"
   ]
  },
  {
   "cell_type": "code",
   "execution_count": 31,
   "metadata": {},
   "outputs": [
    {
     "data": {
      "text/plain": [
       "Text(0.5, 1.0, 'Metrics for training FEVER dataset, 145K samples (glove 300d)')"
      ]
     },
     "execution_count": 31,
     "metadata": {},
     "output_type": "execute_result"
    },
    {
     "data": {
      "image/png": "[encoded data removed]",
      "text/plain": [
       "<Figure size 432x288 with 1 Axes>"
      ]
     },
     "metadata": {
      "needs_background": "light"
     },
     "output_type": "display_data"
    }
   ],
   "source": [
    "import matplotlib.pyplot as plt\n",
    "fig, ax = plt.subplots(1,1)\n",
    "x = np.arange(len(history.history['loss']))\n",
    "ax.plot(x, history.history['loss'], label=\"train loss\")\n",
    "ax.plot(x, history.history['val_loss'], label=\"val loss\")\n",
    "plt.xlabel(\"epochs\")\n",
    "plt.ylabel(\"categorial cross entropy loss\")\n",
    "ax.legend()\n",
    "plt.title(\"Metrics for training FEVER dataset, 145K samples (glove 300d)\")"
   ]
  },
  {
   "cell_type": "code",
   "execution_count": null,
   "metadata": {},
   "outputs": [],
   "source": []
  },
  {
   "cell_type": "code",
   "execution_count": null,
   "metadata": {},
   "outputs": [],
   "source": []
  },
  {
   "cell_type": "markdown",
   "metadata": {},
   "source": [
    "### Build the network\n",
    "\n",
    "As observed above, the BiLSTM network with a relu dense layer did'nt do well even though it seemed to have done well in the SNLI tasks. One reason could be the length of the hypothesis in FEVER dataset. In SNLI dataset, the premise and the hypothesis are pretty much of the same length, whereas in our case the hypothesis is much longer due to the concatenation of multiple sentences from multiple documents.\n",
    "\n",
    "We look at the results of the FEVER 2018 workshop where the 3rd place holder <b>UCL Machine Reading Group></b> with their [Four Factor Framework For Fact Finding (HexaF)](https://aclanthology.org/W18-5515.pdf) paper used a similar network with local inferenece encoding. They use an ESIM model [Chen et. al.](https://arxiv.org/abs/1609.06038) with the novelty in they way the results are aggregated.\n",
    "\n",
    "We will use a similar approach, but we will use Bert tokenizers and use a simple aggregation technique instead of the complex MLP and majority vote based technique used by the authors.\n",
    "\n",
    "The authors also used a pre-trained ESIM model on the SNLI dataset and fine tuned it on the FEVER dataset, which we did not do due to lack of time. One way to improve our results would be to perform this step.\n",
    "\n",
    "We do much better than the original FEVER paper which had a classification accuracy of <b>32.57%</b>, and ignoring the requirement for correct evidence (NoScoreEv) the accuracy was <b>52.09%</b>, our results were <b>35.96%</b> and <b>56.39%</b> respectively.\n",
    "\n",
    "We however do not perform better than <b>UCL Machine Reading Group</b> whose best score was <b>65.41%</b>. It however is not clear from their paper if this was a (NoScoreEv) or the actual FEVER score.\n",
    "\n",
    "[The Fact Extraction and VERification (FEVER) Shared Task](https://aclanthology.org/W18-5501v3.pdf) details the scores for the teams, arranges by the label accuracy and the fever score on the test dataset.\n",
    "\n",
    "Our label accuracy was <b>57.32%</b> and the fever score was <b>34.92%</b> which should have put us at 16th position by fever score.\n",
    "Our label accuracy is however quite good and would have put us in the <b>top 6</b> if we were to only look at the accuracy of predicting the right label and ignore if we has selected the right evidence (sentence) to support or refute the claim. \n",
    "\n",
    "We refer to 'Keras ESIM', an implementation of [Chen et. al.](https://arxiv.org/abs/1609.06038) <b>Enhanced LSTM for Natural Language Inference</b> for the task of natural language inference.\n",
    "\n",
    "Reference: https://github.com/dzdrav/kerasESIM\n",
    "\n",
    "Optionally we could have used this https://gist.github.com/namakemono/f4f273dbc63fc2174940415a9f689a6f. The network representation is simpler in this form of the code."
   ]
  },
  {
   "cell_type": "code",
   "execution_count": 25,
   "metadata": {},
   "outputs": [],
   "source": [
    "from mda.src.model.esim import esim"
   ]
  },
  {
   "cell_type": "code",
   "execution_count": 26,
   "metadata": {
    "tags": []
   },
   "outputs": [
    {
     "name": "stdout",
     "output_type": "stream",
     "text": [
      "Model: \"model_2\"\n",
      "__________________________________________________________________________________________________\n",
      "Layer (type)                    Output Shape         Param #     Connected to                     \n",
      "==================================================================================================\n",
      "hypothesis (InputLayer)         [(None, None)]       0                                            \n",
      "__________________________________________________________________________________________________\n",
      "evidence (InputLayer)           [(None, None)]       0                                            \n",
      "__________________________________________________________________________________________________\n",
      "embedding_4 (Embedding)         (None, None, 300)    2400300     hypothesis[0][0]                 \n",
      "__________________________________________________________________________________________________\n",
      "embedding_5 (Embedding)         (None, None, 300)    2400300     evidence[0][0]                   \n",
      "__________________________________________________________________________________________________\n",
      "dropout_12 (Dropout)            (None, None, 300)    0           embedding_4[0][0]                \n",
      "__________________________________________________________________________________________________\n",
      "dropout_13 (Dropout)            (None, None, 300)    0           embedding_5[0][0]                \n",
      "__________________________________________________________________________________________________\n",
      "bidirectional_4 (Bidirectional) (None, None, 600)    1442400     dropout_12[0][0]                 \n",
      "__________________________________________________________________________________________________\n",
      "bidirectional_5 (Bidirectional) (None, None, 600)    1442400     dropout_13[0][0]                 \n",
      "__________________________________________________________________________________________________\n",
      "dot_6 (Dot)                     (None, None, None)   0           bidirectional_5[0][0]            \n",
      "                                                                 bidirectional_4[0][0]            \n",
      "__________________________________________________________________________________________________\n",
      "permute_2 (Permute)             (None, None, None)   0           dot_6[0][0]                      \n",
      "__________________________________________________________________________________________________\n",
      "lambda_5 (Lambda)               (None, None, None)   0           permute_2[0][0]                  \n",
      "__________________________________________________________________________________________________\n",
      "lambda_4 (Lambda)               (None, None, None)   0           dot_6[0][0]                      \n",
      "__________________________________________________________________________________________________\n",
      "dot_7 (Dot)                     (None, None, 600)    0           lambda_5[0][0]                   \n",
      "                                                                 bidirectional_5[0][0]            \n",
      "__________________________________________________________________________________________________\n",
      "dot_8 (Dot)                     (None, None, 600)    0           lambda_4[0][0]                   \n",
      "                                                                 bidirectional_4[0][0]            \n",
      "__________________________________________________________________________________________________\n",
      "subtract_4 (Subtract)           (None, None, 600)    0           bidirectional_4[0][0]            \n",
      "                                                                 dot_7[0][0]                      \n",
      "__________________________________________________________________________________________________\n",
      "multiply_4 (Multiply)           (None, None, 600)    0           bidirectional_4[0][0]            \n",
      "                                                                 dot_7[0][0]                      \n",
      "__________________________________________________________________________________________________\n",
      "subtract_5 (Subtract)           (None, None, 600)    0           bidirectional_5[0][0]            \n",
      "                                                                 dot_8[0][0]                      \n",
      "__________________________________________________________________________________________________\n",
      "multiply_5 (Multiply)           (None, None, 600)    0           bidirectional_5[0][0]            \n",
      "                                                                 dot_8[0][0]                      \n",
      "__________________________________________________________________________________________________\n",
      "concatenate_6 (Concatenate)     (None, None, 2400)   0           bidirectional_4[0][0]            \n",
      "                                                                 dot_7[0][0]                      \n",
      "                                                                 subtract_4[0][0]                 \n",
      "                                                                 multiply_4[0][0]                 \n",
      "__________________________________________________________________________________________________\n",
      "concatenate_7 (Concatenate)     (None, None, 2400)   0           bidirectional_5[0][0]            \n",
      "                                                                 dot_8[0][0]                      \n",
      "                                                                 subtract_5[0][0]                 \n",
      "                                                                 multiply_5[0][0]                 \n",
      "__________________________________________________________________________________________________\n",
      "Compresser (TimeDistributed)    (None, None, 300)    720300      concatenate_6[0][0]              \n",
      "                                                                 concatenate_7[0][0]              \n",
      "__________________________________________________________________________________________________\n",
      "dropout_14 (Dropout)            (None, None, 300)    0           Compresser[0][0]                 \n",
      "__________________________________________________________________________________________________\n",
      "dropout_15 (Dropout)            (None, None, 300)    0           Compresser[1][0]                 \n",
      "__________________________________________________________________________________________________\n",
      "finaldecoder (Bidirectional)    (None, None, 600)    1442400     dropout_14[0][0]                 \n",
      "                                                                 dropout_15[0][0]                 \n",
      "__________________________________________________________________________________________________\n",
      "global_average_pooling1d_2 (Glo (None, 600)          0           finaldecoder[0][0]               \n",
      "                                                                 finaldecoder[1][0]               \n",
      "__________________________________________________________________________________________________\n",
      "global_max_pooling1d_2 (GlobalM (None, 600)          0           finaldecoder[0][0]               \n",
      "                                                                 finaldecoder[1][0]               \n",
      "__________________________________________________________________________________________________\n",
      "concatenate_8 (Concatenate)     (None, 2400)         0           global_average_pooling1d_2[0][0] \n",
      "                                                                 global_max_pooling1d_2[0][0]     \n",
      "                                                                 global_average_pooling1d_2[1][0] \n",
      "                                                                 global_max_pooling1d_2[1][0]     \n",
      "__________________________________________________________________________________________________\n",
      "dropout_16 (Dropout)            (None, 2400)         0           concatenate_8[0][0]              \n",
      "__________________________________________________________________________________________________\n",
      "dense300_ (Dense)               (None, 100)          240100      dropout_16[0][0]                 \n",
      "__________________________________________________________________________________________________\n",
      "dropout_17 (Dropout)            (None, 100)          0           dense300_[0][0]                  \n",
      "__________________________________________________________________________________________________\n",
      "judge300_ (Dense)               (None, 3)            303         dropout_17[0][0]                 \n",
      "==================================================================================================\n",
      "Total params: 10,088,503\n",
      "Trainable params: 5,287,903\n",
      "Non-trainable params: 4,800,600\n",
      "__________________________________________________________________________________________________\n"
     ]
    }
   ],
   "source": [
    "esim_model = esim(embedding_matrix=embedding_matrix, vocab_size = 8000, embedding_dim=300, alignment_dense_dim=300, final_dense_dim=100)\n",
    "model = esim_model.build_model()\n",
    "model.summary()"
   ]
  },
  {
   "cell_type": "code",
   "execution_count": 27,
   "metadata": {},
   "outputs": [],
   "source": [
    "#optionally delete the checkpoint file\n",
    "!rm -rf tmp/attention_esim/checkpoint_fever_lstm_esim"
   ]
  },
  {
   "cell_type": "code",
   "execution_count": 28,
   "metadata": {},
   "outputs": [],
   "source": [
    "checkpoint_filepath = 'tmp/attention_esim/checkpoint_fever_lstm_esim'\n",
    "model_checkpoint_callback = tf.keras.callbacks.ModelCheckpoint(\n",
    "    filepath=checkpoint_filepath,\n",
    "    save_weights_only=True,\n",
    "    monitor='val_accuracy',\n",
    "    mode='max',\n",
    "    save_best_only=True)\n",
    "\n",
    "stop_early = tf.keras.callbacks.EarlyStopping(monitor='val_loss', patience=5)"
   ]
  },
  {
   "cell_type": "code",
   "execution_count": 29,
   "metadata": {
    "tags": []
   },
   "outputs": [
    {
     "name": "stdout",
     "output_type": "stream",
     "text": [
      "Epoch 1/30\n",
      "2272/2272 [==============================] - 900s 374ms/step - loss: 0.6680 - accuracy: 0.7255 - val_loss: 0.6550 - val_accuracy: 0.6953\n",
      "Epoch 2/30\n",
      "2272/2272 [==============================] - 894s 373ms/step - loss: 0.5213 - accuracy: 0.7972 - val_loss: 0.6117 - val_accuracy: 0.7327\n",
      "Epoch 3/30\n",
      "2272/2272 [==============================] - 898s 375ms/step - loss: 0.4595 - accuracy: 0.8244 - val_loss: 0.5362 - val_accuracy: 0.7731\n",
      "Epoch 4/30\n",
      "2272/2272 [==============================] - 899s 375ms/step - loss: 0.4148 - accuracy: 0.8440 - val_loss: 0.5534 - val_accuracy: 0.7733\n",
      "Epoch 5/30\n",
      "2272/2272 [==============================] - 898s 375ms/step - loss: 0.3900 - accuracy: 0.8544 - val_loss: 0.6225 - val_accuracy: 0.7664\n",
      "Epoch 6/30\n",
      "2272/2272 [==============================] - 897s 374ms/step - loss: 0.3683 - accuracy: 0.8619 - val_loss: 0.5720 - val_accuracy: 0.7792\n",
      "Epoch 7/30\n",
      "2272/2272 [==============================] - 898s 375ms/step - loss: 0.3544 - accuracy: 0.8680 - val_loss: 0.5344 - val_accuracy: 0.7956\n",
      "Epoch 8/30\n",
      "2272/2272 [==============================] - 897s 374ms/step - loss: 0.3403 - accuracy: 0.8746 - val_loss: 0.4975 - val_accuracy: 0.8098\n",
      "Epoch 9/30\n",
      "2272/2272 [==============================] - 901s 376ms/step - loss: 0.3304 - accuracy: 0.8768 - val_loss: 0.5415 - val_accuracy: 0.7947\n",
      "Epoch 10/30\n",
      "2272/2272 [==============================] - 905s 378ms/step - loss: 0.3239 - accuracy: 0.8798 - val_loss: 0.5368 - val_accuracy: 0.7986\n",
      "Epoch 11/30\n",
      "2272/2272 [==============================] - 907s 379ms/step - loss: 0.3141 - accuracy: 0.8844 - val_loss: 0.5610 - val_accuracy: 0.7983\n",
      "Epoch 12/30\n",
      "2272/2272 [==============================] - 902s 376ms/step - loss: 0.3109 - accuracy: 0.8856 - val_loss: 0.5753 - val_accuracy: 0.7965\n",
      "Epoch 13/30\n",
      "2272/2272 [==============================] - 900s 376ms/step - loss: 0.3065 - accuracy: 0.8864 - val_loss: 0.5495 - val_accuracy: 0.8040\n"
     ]
    }
   ],
   "source": [
    "history = model.fit(dataset_train, epochs = 30, validation_data=dataset_test, callbacks=[stop_early, model_checkpoint_callback])"
   ]
  },
  {
   "cell_type": "code",
   "execution_count": 30,
   "metadata": {},
   "outputs": [
    {
     "name": "stdout",
     "output_type": "stream",
     "text": [
      "156/156 [==============================] - 26s 68ms/step - loss: 0.5304 - accuracy: 0.8057\n"
     ]
    },
    {
     "data": {
      "text/plain": [
       "[0.5304155945777893, 0.8056890964508057]"
      ]
     },
     "execution_count": 30,
     "metadata": {},
     "output_type": "execute_result"
    }
   ],
   "source": [
    "checkpoint_filepath = 'tmp/attention_esim/checkpoint_fever_rte_esim'\n",
    "model.load_weights(checkpoint_filepath)\n",
    "model.evaluate(dataset_test)"
   ]
  },
  {
   "cell_type": "code",
   "execution_count": 31,
   "metadata": {},
   "outputs": [
    {
     "data": {
      "text/plain": [
       "Text(0.5, 1.0, 'Metrics for training FEVER dataset, 145K samples (glove 300d)')"
      ]
     },
     "execution_count": 31,
     "metadata": {},
     "output_type": "execute_result"
    },
    {
     "data": {
      "image/png": "[encoded data removed]",
      "text/plain": [
       "<Figure size 432x288 with 1 Axes>"
      ]
     },
     "metadata": {
      "needs_background": "light"
     },
     "output_type": "display_data"
    }
   ],
   "source": [
    "import matplotlib.pyplot as plt\n",
    "fig, ax = plt.subplots(1,1)\n",
    "x = np.arange(len(history.history['loss']))\n",
    "ax.plot(x, history.history['loss'], label=\"train loss\")\n",
    "ax.plot(x, history.history['val_loss'], label=\"val loss\")\n",
    "plt.xlabel(\"epochs\")\n",
    "plt.ylabel(\"categorial cross entropy loss\")\n",
    "ax.legend()\n",
    "plt.title(\"Metrics for training FEVER dataset, 145K samples (glove 300d)\")\n",
    "#history.history['loss']"
   ]
  },
  {
   "cell_type": "code",
   "execution_count": 34,
   "metadata": {},
   "outputs": [
    {
     "name": "stdout",
     "output_type": "stream",
     "text": [
      "\u001b[0m\u001b[01;34mbaseline\u001b[0m/\n",
      "baselinetrain.ns.pages.p5.jsonl\n",
      "label_encoder_train.npz\n",
      "label_encoder_train.pkl\n",
      "paper_dev.ns.pages.p5.jsonl\n",
      "paper_dev_pipeline.ps.pages.p5.jsonl\n",
      "paper_dev_predicted_pipeline.ps.pages.p5.jsonl\n",
      "paper_test.ns.pages.p5.jsonl\n",
      "paper_test_pipeline.ns.pages.p5.jsonl\n",
      "paper_test_pipeline.ps.pages.p5.jsonl\n",
      "paper_test_predicted_pipeline.ps.pages.p5.jsonl\n",
      "train.ns.pages.p5.jsonl\n",
      "train.pages.p5.jsonl\n"
     ]
    }
   ],
   "source": [
    "ls working/data/training/"
   ]
  },
  {
   "cell_type": "code",
   "execution_count": 36,
   "metadata": {},
   "outputs": [],
   "source": [
    "### Save the training history\n",
    "import pickle\n",
    "with open('working/data/training/esim_rte_history.pkl', 'wb') as f:\n",
    "    pickle.dump(history.history, f)"
   ]
  },
  {
   "cell_type": "markdown",
   "metadata": {},
   "source": [
    "#### Compute the classification metrics"
   ]
  },
  {
   "cell_type": "code",
   "execution_count": 37,
   "metadata": {},
   "outputs": [
    {
     "name": "stdout",
     "output_type": "stream",
     "text": [
      "<MapDataset shapes: (60,), types: tf.int64>\n",
      "<MapDataset shapes: (60,), types: tf.int64>\n",
      "<BatchDataset shapes: (((64, 60), (64, 60)), (64, 3)), types: ((tf.int64, tf.int64), tf.int32)>\n",
      "((TensorSpec(shape=(64, 60), dtype=tf.int64, name=None), TensorSpec(shape=(64, 60), dtype=tf.int64, name=None)), TensorSpec(shape=(64, 3), dtype=tf.int32, name=None))\n"
     ]
    }
   ],
   "source": [
    "BATCH_SIZE = 64\n",
    "MAX_SEQ_LEN = 60\n",
    "BUFFER_SIZE = 32000\n",
    "def tokenize_and_pad(text, max_len):\n",
    "    segment = pt_tokenizer.tokenize(text).merge_dims(1, -1)\n",
    "    inp = segment.to_tensor(shape=[None, max_len])\n",
    "    return inp[0]\n",
    "\n",
    "h = ds_dev.map(lambda x, y: tokenize_and_pad(x[0], MAX_SEQ_LEN))\n",
    "e = ds_dev.map(lambda x, y: tokenize_and_pad(x[1], MAX_SEQ_LEN))\n",
    "l = ds_dev.map(lambda x, y: y)\n",
    "print(h)\n",
    "print(e)\n",
    "f = tf.data.Dataset.zip((h,e))\n",
    "d = tf.data.Dataset.zip((f,l))\n",
    "#do not shuffle for precision calculation\n",
    "dataset_test_val = d.batch(BATCH_SIZE, drop_remainder=True)\n",
    "print(dataset_test_val)\n",
    "print(dataset_test_val.element_spec)"
   ]
  },
  {
   "cell_type": "code",
   "execution_count": 38,
   "metadata": {
    "tags": []
   },
   "outputs": [
    {
     "name": "stdout",
     "output_type": "stream",
     "text": [
      "<MapDataset shapes: (64, 3), types: tf.int32>\n"
     ]
    },
    {
     "data": {
      "text/plain": [
       "array([0, 0, 2, ..., 0, 0, 2])"
      ]
     },
     "execution_count": 38,
     "metadata": {},
     "output_type": "execute_result"
    }
   ],
   "source": [
    "#extract the labels from the dev dataset and convert them into onehot\n",
    "ds_y = dataset_test_val.map(lambda f, l: l)\n",
    "print(ds_y)\n",
    "y_test_onehot = []\n",
    "for d in ds_y.batch(1):\n",
    "    for d1 in d:\n",
    "        y_test_onehot.append(d1.numpy())\n",
    "y_test = np.array([np.argmax(a, axis=1) for a in y_test_onehot]).flatten()\n",
    "y_test"
   ]
  },
  {
   "cell_type": "code",
   "execution_count": 39,
   "metadata": {},
   "outputs": [],
   "source": [
    "#run prediction on the dev dataset\n",
    "y_pred = model.predict(dataset_test_val)"
   ]
  },
  {
   "cell_type": "code",
   "execution_count": 40,
   "metadata": {},
   "outputs": [
    {
     "data": {
      "text/plain": [
       "array([2, 0, 2, ..., 0, 0, 2])"
      ]
     },
     "execution_count": 40,
     "metadata": {},
     "output_type": "execute_result"
    }
   ],
   "source": [
    "y_pred_bool = np.argmax(y_pred, axis = 1)\n",
    "y_pred_bool"
   ]
  },
  {
   "cell_type": "code",
   "execution_count": 41,
   "metadata": {},
   "outputs": [
    {
     "name": "stdout",
     "output_type": "stream",
     "text": [
      "              precision    recall  f1-score   support\n",
      "\n",
      "           0       0.89      0.87      0.88      3325\n",
      "           1       0.85      0.67      0.75      3331\n",
      "           2       0.71      0.88      0.78      3328\n",
      "\n",
      "    accuracy                           0.80      9984\n",
      "   macro avg       0.82      0.80      0.80      9984\n",
      "weighted avg       0.82      0.80      0.80      9984\n",
      "\n"
     ]
    }
   ],
   "source": [
    "from sklearn.metrics import classification_report\n",
    "print(classification_report(y_test, y_pred_bool))\n",
    "#['NOT ENOUGH INFO', 'REFUTES', 'SUPPORTS'] == [0, 1, 2]"
   ]
  },
  {
   "cell_type": "code",
   "execution_count": null,
   "metadata": {},
   "outputs": [],
   "source": []
  },
  {
   "cell_type": "code",
   "execution_count": null,
   "metadata": {},
   "outputs": [],
   "source": []
  },
  {
   "cell_type": "code",
   "execution_count": null,
   "metadata": {},
   "outputs": [],
   "source": []
  }
 ],
 "metadata": {
  "kernelspec": {
   "display_name": "Python 3",
   "language": "python",
   "name": "python3"
  },
  "language_info": {
   "codemirror_mode": {
    "name": "ipython",
    "version": 3
   },
   "file_extension": ".py",
   "mimetype": "text/x-python",
   "name": "python",
   "nbconvert_exporter": "python",
   "pygments_lexer": "ipython3",
   "version": "3.7.10"
  }
 },
 "nbformat": 4,
 "nbformat_minor": 4
}
