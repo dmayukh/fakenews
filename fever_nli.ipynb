{
 "cells": [
  {
   "cell_type": "code",
   "execution_count": 5,
   "metadata": {},
   "outputs": [
    {
     "name": "stdout",
     "output_type": "stream",
     "text": [
      "{\"id\": 13114, \"verifiable\": \"VERIFIABLE\", \"label\": \"SUPPORTS\", \"claim\": \"J. R. R. Tolkien created Gimli.\", \"evidence\": [[[28359, 34669, \"Gimli_-LRB-Middle-earth-RRB-\", 0]], [[28359, 34670, \"Gimli_-LRB-Middle-earth-RRB-\", 1]]]}\n",
      "{\"id\": 152180, \"verifiable\": \"VERIFIABLE\", \"label\": \"SUPPORTS\", \"claim\": \"Susan Sarandon is an award winner.\", \"evidence\": [[[176133, 189101, \"Susan_Sarandon\", 1]], [[176133, 189102, \"Susan_Sarandon\", 2]], [[176133, 189103, \"Susan_Sarandon\", 8]]]}\n"
     ]
    }
   ],
   "source": [
    "!tail -2 /local/fever-common/data/fever-data/train.jsonl"
   ]
  },
  {
   "cell_type": "code",
   "execution_count": 26,
   "metadata": {
    "collapsed": true,
    "jupyter": {
     "outputs_hidden": true
    }
   },
   "outputs": [
    {
     "name": "stdout",
     "output_type": "stream",
     "text": [
      "Requirement already satisfied: numpy>=1.15 in /root/anaconda3/lib/python3.8/site-packages (from -r requirements.txt (line 1)) (1.19.2)\n",
      "Requirement already satisfied: regex in /root/anaconda3/lib/python3.8/site-packages (from -r requirements.txt (line 2)) (2020.10.15)\n",
      "Collecting allennlp\n",
      "  Downloading allennlp-2.5.0-py3-none-any.whl (681 kB)\n",
      "\u001b[K     |████████████████████████████████| 681 kB 5.3 MB/s eta 0:00:01\n",
      "\u001b[?25hCollecting fever-scorer\n",
      "  Downloading fever-scorer-2.0.39.tar.gz (3.9 kB)\n",
      "Collecting fever-drqa\n",
      "  Downloading fever-drqa-1.0.13.tar.gz (43 kB)\n",
      "\u001b[K     |████████████████████████████████| 43 kB 1.9 MB/s eta 0:00:011\n",
      "\u001b[?25hCollecting tensorboardX>=1.2\n",
      "  Downloading tensorboardX-2.4-py2.py3-none-any.whl (124 kB)\n",
      "\u001b[K     |████████████████████████████████| 124 kB 10.4 MB/s eta 0:00:01\n",
      "\u001b[?25hRequirement already satisfied: scipy in /root/anaconda3/lib/python3.8/site-packages (from allennlp->-r requirements.txt (line 3)) (1.5.2)\n",
      "Collecting spacy<3.1,>=2.1.0\n",
      "  Downloading spacy-3.0.6-cp38-cp38-manylinux2014_x86_64.whl (13.0 MB)\n",
      "\u001b[K     |████████████████████████████████| 13.0 MB 11.0 MB/s eta 0:00:01    |████████████████████▎           | 8.2 MB 11.0 MB/s eta 0:00:01\n",
      "\u001b[?25hCollecting overrides==3.1.0\n",
      "  Downloading overrides-3.1.0.tar.gz (11 kB)\n",
      "Requirement already satisfied: scikit-learn in /root/anaconda3/lib/python3.8/site-packages (from allennlp->-r requirements.txt (line 3)) (0.23.2)\n",
      "Collecting jsonnet>=0.10.0\n",
      "  Downloading jsonnet-0.17.0.tar.gz (259 kB)\n",
      "\u001b[K     |████████████████████████████████| 259 kB 4.8 MB/s eta 0:00:01\n",
      "\u001b[?25hRequirement already satisfied: pytest in /root/anaconda3/lib/python3.8/site-packages (from allennlp->-r requirements.txt (line 3)) (0.0.0)\n",
      "Requirement already satisfied: more-itertools in /root/anaconda3/lib/python3.8/site-packages (from allennlp->-r requirements.txt (line 3)) (8.6.0)\n",
      "Requirement already satisfied: filelock<3.1,>=3.0 in /root/anaconda3/lib/python3.8/site-packages (from allennlp->-r requirements.txt (line 3)) (3.0.12)\n",
      "Requirement already satisfied: h5py in /root/anaconda3/lib/python3.8/site-packages (from allennlp->-r requirements.txt (line 3)) (3.1.0)\n",
      "Collecting wandb<0.11.0,>=0.10.0\n",
      "  Downloading wandb-0.10.33-py2.py3-none-any.whl (1.8 MB)\n",
      "\u001b[K     |████████████████████████████████| 1.8 MB 10.0 MB/s eta 0:00:01\n",
      "\u001b[?25hRequirement already satisfied: nltk in /root/anaconda3/lib/python3.8/site-packages (from allennlp->-r requirements.txt (line 3)) (3.5)\n",
      "Collecting checklist==0.0.11\n",
      "  Downloading checklist-0.0.11.tar.gz (12.1 MB)\n",
      "\u001b[K     |████████████████████████████████| 12.1 MB 6.4 MB/s eta 0:00:01\n",
      "\u001b[?25hRequirement already satisfied: tqdm>=4.19 in /root/anaconda3/lib/python3.8/site-packages (from allennlp->-r requirements.txt (line 3)) (4.50.2)\n",
      "Requirement already satisfied: termcolor==1.1.0 in /root/anaconda3/lib/python3.8/site-packages (from allennlp->-r requirements.txt (line 3)) (1.1.0)\n",
      "Collecting torch<1.9.0,>=1.6.0\n",
      "  Downloading torch-1.8.1-cp38-cp38-manylinux1_x86_64.whl (804.1 MB)\n",
      "\u001b[K     |████████████████████████████████| 804.1 MB 15 kB/s  eta 0:00:011    |██▍                             | 60.9 MB 10.3 MB/s eta 0:01:13     |██▌                             | 62.5 MB 10.3 MB/s eta 0:01:12     |██▋                             | 64.9 MB 10.3 MB/s eta 0:01:12     |███▏                            | 79.4 MB 6.7 MB/s eta 0:01:48     |███▏                            | 79.8 MB 6.7 MB/s eta 0:01:48     |███▊                            | 94.8 MB 6.5 MB/s eta 0:01:49     |████▉                           | 121.3 MB 12.5 MB/s eta 0:00:55     |████████▎                       | 207.5 MB 9.6 MB/s eta 0:01:03     |███████████                     | 278.4 MB 4.5 MB/s eta 0:01:58     |█████████████▍                  | 335.4 MB 14.5 MB/s eta 0:00:33     |███████████████▉                | 398.6 MB 12.2 MB/s eta 0:00:34     |████████████████▋               | 417.1 MB 5.6 MB/s eta 0:01:10     |█████████████████               | 429.8 MB 5.4 MB/s eta 0:01:10     |██████████████████▏             | 455.9 MB 6.8 MB/s eta 0:00:52     |███████████████████▋            | 492.7 MB 14.4 MB/s eta 0:00:22     |█████████████████████▉          | 548.5 MB 11.6 MB/s eta 0:00:22     |████████████████████████        | 602.9 MB 8.4 MB/s eta 0:00:25     |████████████████████████▌       | 616.4 MB 10.2 MB/s eta 0:00:19     |██████████████████████████▍     | 662.6 MB 8.8 MB/s eta 0:00:17     |██████████████████████████████  | 753.2 MB 13.8 MB/s eta 0:00:04\n",
      "\u001b[?25hRequirement already satisfied: huggingface-hub>=0.0.8 in /root/anaconda3/lib/python3.8/site-packages (from allennlp->-r requirements.txt (line 3)) (0.0.12)\n",
      "Collecting lmdb\n",
      "  Downloading lmdb-1.2.1-cp38-cp38-manylinux2010_x86_64.whl (306 kB)\n",
      "\u001b[K     |████████████████████████████████| 306 kB 6.6 MB/s eta 0:00:01\n",
      "\u001b[?25hCollecting boto3<2.0,>=1.14\n",
      "  Downloading boto3-1.17.112-py2.py3-none-any.whl (131 kB)\n",
      "\u001b[K     |████████████████████████████████| 131 kB 6.4 MB/s eta 0:00:01\n",
      "\u001b[?25hCollecting torchvision<0.10.0,>=0.8.1\n",
      "  Downloading torchvision-0.9.1-cp38-cp38-manylinux1_x86_64.whl (17.4 MB)\n",
      "\u001b[K     |████████████████████████████████| 17.4 MB 6.0 MB/s eta 0:00:01\n",
      "\u001b[?25hCollecting sentencepiece\n",
      "  Downloading sentencepiece-0.1.96-cp38-cp38-manylinux_2_17_x86_64.manylinux2014_x86_64.whl (1.2 MB)\n",
      "\u001b[K     |████████████████████████████████| 1.2 MB 6.1 MB/s eta 0:00:01\n",
      "\u001b[?25hCollecting google-cloud-storage<1.39.0,>=1.38.0\n",
      "  Downloading google_cloud_storage-1.38.0-py2.py3-none-any.whl (103 kB)\n",
      "\u001b[K     |████████████████████████████████| 103 kB 7.2 MB/s eta 0:00:01\n",
      "\u001b[?25hRequirement already satisfied: requests>=2.18 in /root/anaconda3/lib/python3.8/site-packages (from allennlp->-r requirements.txt (line 3)) (2.24.0)\n",
      "Collecting transformers<4.7,>=4.1\n",
      "  Downloading transformers-4.6.1-py3-none-any.whl (2.2 MB)\n",
      "\u001b[K     |████████████████████████████████| 2.2 MB 4.9 MB/s eta 0:00:01\n",
      "\u001b[?25hCollecting munch>=2.5\n",
      "  Downloading munch-2.5.0-py2.py3-none-any.whl (10 kB)\n",
      "Collecting dill>=0.3.1\n",
      "  Downloading dill-0.3.4-py2.py3-none-any.whl (86 kB)\n",
      "\u001b[K     |████████████████████████████████| 86 kB 4.4 MB/s eta 0:00:011\n",
      "\u001b[?25hRequirement already satisfied: jupyter>=1.0 in /root/anaconda3/lib/python3.8/site-packages (from checklist==0.0.11->allennlp->-r requirements.txt (line 3)) (1.0.0)\n",
      "Requirement already satisfied: ipywidgets>=7.5 in /root/anaconda3/lib/python3.8/site-packages (from checklist==0.0.11->allennlp->-r requirements.txt (line 3)) (7.5.1)\n",
      "Collecting patternfork-nosql\n",
      "  Downloading patternfork_nosql-3.6.tar.gz (22.3 MB)\n",
      "\u001b[K     |████████████████████████████████| 22.3 MB 4.2 MB/s eta 0:00:01\n",
      "\u001b[?25hCollecting iso-639\n",
      "  Downloading iso-639-0.4.5.tar.gz (167 kB)\n",
      "\u001b[K     |████████████████████████████████| 167 kB 8.7 MB/s eta 0:00:01\n",
      "\u001b[?25hCollecting jmespath<1.0.0,>=0.7.1\n",
      "  Downloading jmespath-0.10.0-py2.py3-none-any.whl (24 kB)\n",
      "Collecting botocore<1.21.0,>=1.20.112\n",
      "  Downloading botocore-1.20.112-py2.py3-none-any.whl (7.7 MB)\n",
      "\u001b[K     |████████████████████████████████| 7.7 MB 10.2 MB/s eta 0:00:01\n",
      "\u001b[?25hCollecting s3transfer<0.5.0,>=0.4.0\n",
      "  Downloading s3transfer-0.4.2-py2.py3-none-any.whl (79 kB)\n",
      "\u001b[K     |████████████████████████████████| 79 kB 11.3 MB/s eta 0:00:01\n",
      "\u001b[?25hRequirement already satisfied: urllib3<1.27,>=1.25.4 in /root/anaconda3/lib/python3.8/site-packages (from botocore<1.21.0,>=1.20.112->boto3<2.0,>=1.14->allennlp->-r requirements.txt (line 3)) (1.25.11)\n",
      "Requirement already satisfied: python-dateutil<3.0.0,>=2.1 in /root/anaconda3/lib/python3.8/site-packages (from botocore<1.21.0,>=1.20.112->boto3<2.0,>=1.14->allennlp->-r requirements.txt (line 3)) (2.8.1)\n",
      "Collecting google-cloud-core<2.0dev,>=1.4.1\n",
      "  Downloading google_cloud_core-1.7.1-py2.py3-none-any.whl (28 kB)\n",
      "Collecting google-resumable-media<2.0dev,>=1.2.0\n",
      "  Downloading google_resumable_media-1.3.1-py2.py3-none-any.whl (75 kB)\n",
      "\u001b[K     |████████████████████████████████| 75 kB 4.0 MB/s eta 0:00:01\n",
      "\u001b[?25hRequirement already satisfied: google-auth<2.0dev,>=1.11.0 in /root/anaconda3/lib/python3.8/site-packages (from google-cloud-storage<1.39.0,>=1.38.0->allennlp->-r requirements.txt (line 3)) (1.32.0)\n",
      "Requirement already satisfied: rsa<5,>=3.1.4 in /root/anaconda3/lib/python3.8/site-packages (from google-auth<2.0dev,>=1.11.0->google-cloud-storage<1.39.0,>=1.38.0->allennlp->-r requirements.txt (line 3)) (4.7.2)\n",
      "Requirement already satisfied: pyasn1-modules>=0.2.1 in /root/anaconda3/lib/python3.8/site-packages (from google-auth<2.0dev,>=1.11.0->google-cloud-storage<1.39.0,>=1.38.0->allennlp->-r requirements.txt (line 3)) (0.2.8)\n",
      "Requirement already satisfied: setuptools>=40.3.0 in /root/anaconda3/lib/python3.8/site-packages (from google-auth<2.0dev,>=1.11.0->google-cloud-storage<1.39.0,>=1.38.0->allennlp->-r requirements.txt (line 3)) (50.3.1.post20201107)\n",
      "Requirement already satisfied: six>=1.9.0 in /root/anaconda3/lib/python3.8/site-packages (from google-auth<2.0dev,>=1.11.0->google-cloud-storage<1.39.0,>=1.38.0->allennlp->-r requirements.txt (line 3)) (1.15.0)\n",
      "Requirement already satisfied: cachetools<5.0,>=2.0.0 in /root/anaconda3/lib/python3.8/site-packages (from google-auth<2.0dev,>=1.11.0->google-cloud-storage<1.39.0,>=1.38.0->allennlp->-r requirements.txt (line 3)) (4.2.2)\n",
      "Collecting google-api-core<2.0.0dev,>=1.21.0\n",
      "  Downloading google_api_core-1.31.0-py2.py3-none-any.whl (93 kB)\n",
      "\u001b[K     |████████████████████████████████| 93 kB 2.8 MB/s  eta 0:00:01\n",
      "\u001b[?25hRequirement already satisfied: packaging>=14.3 in /root/anaconda3/lib/python3.8/site-packages (from google-api-core<2.0.0dev,>=1.21.0->google-cloud-core<2.0dev,>=1.4.1->google-cloud-storage<1.39.0,>=1.38.0->allennlp->-r requirements.txt (line 3)) (20.9)\n",
      "Requirement already satisfied: pytz in /root/anaconda3/lib/python3.8/site-packages (from google-api-core<2.0.0dev,>=1.21.0->google-cloud-core<2.0dev,>=1.4.1->google-cloud-storage<1.39.0,>=1.38.0->allennlp->-r requirements.txt (line 3)) (2020.1)\n",
      "Requirement already satisfied: protobuf>=3.12.0 in /root/anaconda3/lib/python3.8/site-packages (from google-api-core<2.0.0dev,>=1.21.0->google-cloud-core<2.0dev,>=1.4.1->google-cloud-storage<1.39.0,>=1.38.0->allennlp->-r requirements.txt (line 3)) (3.17.3)\n",
      "Collecting googleapis-common-protos<2.0dev,>=1.6.0\n",
      "  Downloading googleapis_common_protos-1.53.0-py2.py3-none-any.whl (198 kB)\n",
      "\u001b[K     |████████████████████████████████| 198 kB 6.5 MB/s eta 0:00:01\n",
      "\u001b[?25hCollecting google-crc32c<2.0dev,>=1.0\n",
      "  Downloading google_crc32c-1.1.2-cp38-cp38-manylinux2014_x86_64.whl (38 kB)\n",
      "Requirement already satisfied: cffi>=1.0.0 in /root/anaconda3/lib/python3.8/site-packages (from google-crc32c<2.0dev,>=1.0->google-resumable-media<2.0dev,>=1.2.0->google-cloud-storage<1.39.0,>=1.38.0->allennlp->-r requirements.txt (line 3)) (1.14.3)\n",
      "Requirement already satisfied: pycparser in /root/anaconda3/lib/python3.8/site-packages (from cffi>=1.0.0->google-crc32c<2.0dev,>=1.0->google-resumable-media<2.0dev,>=1.2.0->google-cloud-storage<1.39.0,>=1.38.0->allennlp->-r requirements.txt (line 3)) (2.20)\n",
      "Requirement already satisfied: typing-extensions in /root/anaconda3/lib/python3.8/site-packages (from huggingface-hub>=0.0.8->allennlp->-r requirements.txt (line 3)) (3.7.4.3)\n",
      "Requirement already satisfied: ipykernel>=4.5.1 in /root/anaconda3/lib/python3.8/site-packages (from ipywidgets>=7.5->checklist==0.0.11->allennlp->-r requirements.txt (line 3)) (5.3.4)\n",
      "Requirement already satisfied: nbformat>=4.2.0 in /root/anaconda3/lib/python3.8/site-packages (from ipywidgets>=7.5->checklist==0.0.11->allennlp->-r requirements.txt (line 3)) (5.0.8)\n",
      "Requirement already satisfied: ipython>=4.0.0 in /root/anaconda3/lib/python3.8/site-packages (from ipywidgets>=7.5->checklist==0.0.11->allennlp->-r requirements.txt (line 3)) (7.19.0)\n",
      "Requirement already satisfied: traitlets>=4.3.1 in /root/anaconda3/lib/python3.8/site-packages (from ipywidgets>=7.5->checklist==0.0.11->allennlp->-r requirements.txt (line 3)) (5.0.5)\n",
      "Requirement already satisfied: widgetsnbextension~=3.5.0 in /root/anaconda3/lib/python3.8/site-packages (from ipywidgets>=7.5->checklist==0.0.11->allennlp->-r requirements.txt (line 3)) (3.5.1)\n",
      "Requirement already satisfied: tornado>=4.2 in /root/anaconda3/lib/python3.8/site-packages (from ipykernel>=4.5.1->ipywidgets>=7.5->checklist==0.0.11->allennlp->-r requirements.txt (line 3)) (6.0.4)\n",
      "Requirement already satisfied: jupyter-client in /root/anaconda3/lib/python3.8/site-packages (from ipykernel>=4.5.1->ipywidgets>=7.5->checklist==0.0.11->allennlp->-r requirements.txt (line 3)) (6.1.7)\n",
      "Requirement already satisfied: pickleshare in /root/anaconda3/lib/python3.8/site-packages (from ipython>=4.0.0->ipywidgets>=7.5->checklist==0.0.11->allennlp->-r requirements.txt (line 3)) (0.7.5)\n",
      "Requirement already satisfied: prompt-toolkit!=3.0.0,!=3.0.1,<3.1.0,>=2.0.0 in /root/anaconda3/lib/python3.8/site-packages (from ipython>=4.0.0->ipywidgets>=7.5->checklist==0.0.11->allennlp->-r requirements.txt (line 3)) (3.0.8)\n",
      "Requirement already satisfied: pygments in /root/anaconda3/lib/python3.8/site-packages (from ipython>=4.0.0->ipywidgets>=7.5->checklist==0.0.11->allennlp->-r requirements.txt (line 3)) (2.7.2)\n",
      "Requirement already satisfied: backcall in /root/anaconda3/lib/python3.8/site-packages (from ipython>=4.0.0->ipywidgets>=7.5->checklist==0.0.11->allennlp->-r requirements.txt (line 3)) (0.2.0)\n",
      "Requirement already satisfied: decorator in /root/anaconda3/lib/python3.8/site-packages (from ipython>=4.0.0->ipywidgets>=7.5->checklist==0.0.11->allennlp->-r requirements.txt (line 3)) (4.4.2)\n",
      "Requirement already satisfied: pexpect>4.3 in /root/anaconda3/lib/python3.8/site-packages (from ipython>=4.0.0->ipywidgets>=7.5->checklist==0.0.11->allennlp->-r requirements.txt (line 3)) (4.8.0)\n",
      "Requirement already satisfied: jedi>=0.10 in /root/anaconda3/lib/python3.8/site-packages (from ipython>=4.0.0->ipywidgets>=7.5->checklist==0.0.11->allennlp->-r requirements.txt (line 3)) (0.17.1)\n",
      "Requirement already satisfied: parso<0.8.0,>=0.7.0 in /root/anaconda3/lib/python3.8/site-packages (from jedi>=0.10->ipython>=4.0.0->ipywidgets>=7.5->checklist==0.0.11->allennlp->-r requirements.txt (line 3)) (0.7.0)\n",
      "Requirement already satisfied: qtconsole in /root/anaconda3/lib/python3.8/site-packages (from jupyter>=1.0->checklist==0.0.11->allennlp->-r requirements.txt (line 3)) (4.7.7)\n",
      "Requirement already satisfied: notebook in /root/anaconda3/lib/python3.8/site-packages (from jupyter>=1.0->checklist==0.0.11->allennlp->-r requirements.txt (line 3)) (6.1.4)\n",
      "Requirement already satisfied: nbconvert in /root/anaconda3/lib/python3.8/site-packages (from jupyter>=1.0->checklist==0.0.11->allennlp->-r requirements.txt (line 3)) (6.0.7)\n",
      "Requirement already satisfied: jupyter-console in /root/anaconda3/lib/python3.8/site-packages (from jupyter>=1.0->checklist==0.0.11->allennlp->-r requirements.txt (line 3)) (6.2.0)\n",
      "Requirement already satisfied: jsonschema!=2.5.0,>=2.4 in /root/anaconda3/lib/python3.8/site-packages (from nbformat>=4.2.0->ipywidgets>=7.5->checklist==0.0.11->allennlp->-r requirements.txt (line 3)) (3.2.0)\n",
      "Requirement already satisfied: jupyter-core in /root/anaconda3/lib/python3.8/site-packages (from nbformat>=4.2.0->ipywidgets>=7.5->checklist==0.0.11->allennlp->-r requirements.txt (line 3)) (4.6.3)\n",
      "Requirement already satisfied: ipython-genutils in /root/anaconda3/lib/python3.8/site-packages (from nbformat>=4.2.0->ipywidgets>=7.5->checklist==0.0.11->allennlp->-r requirements.txt (line 3)) (0.2.0)\n",
      "Requirement already satisfied: attrs>=17.4.0 in /root/anaconda3/lib/python3.8/site-packages (from jsonschema!=2.5.0,>=2.4->nbformat>=4.2.0->ipywidgets>=7.5->checklist==0.0.11->allennlp->-r requirements.txt (line 3)) (20.3.0)\n",
      "Requirement already satisfied: pyrsistent>=0.14.0 in /root/anaconda3/lib/python3.8/site-packages (from jsonschema!=2.5.0,>=2.4->nbformat>=4.2.0->ipywidgets>=7.5->checklist==0.0.11->allennlp->-r requirements.txt (line 3)) (0.17.3)\n",
      "Requirement already satisfied: pyparsing>=2.0.2 in /root/anaconda3/lib/python3.8/site-packages (from packaging>=14.3->google-api-core<2.0.0dev,>=1.21.0->google-cloud-core<2.0dev,>=1.4.1->google-cloud-storage<1.39.0,>=1.38.0->allennlp->-r requirements.txt (line 3)) (2.4.7)\n",
      "Requirement already satisfied: ptyprocess>=0.5 in /root/anaconda3/lib/python3.8/site-packages (from pexpect>4.3->ipython>=4.0.0->ipywidgets>=7.5->checklist==0.0.11->allennlp->-r requirements.txt (line 3)) (0.6.0)\n",
      "Requirement already satisfied: wcwidth in /root/anaconda3/lib/python3.8/site-packages (from prompt-toolkit!=3.0.0,!=3.0.1,<3.1.0,>=2.0.0->ipython>=4.0.0->ipywidgets>=7.5->checklist==0.0.11->allennlp->-r requirements.txt (line 3)) (0.2.5)\n",
      "Requirement already satisfied: pyasn1<0.5.0,>=0.4.6 in /root/anaconda3/lib/python3.8/site-packages (from pyasn1-modules>=0.2.1->google-auth<2.0dev,>=1.11.0->google-cloud-storage<1.39.0,>=1.38.0->allennlp->-r requirements.txt (line 3)) (0.4.8)\n",
      "Requirement already satisfied: chardet<4,>=3.0.2 in /root/anaconda3/lib/python3.8/site-packages (from requests>=2.18->allennlp->-r requirements.txt (line 3)) (3.0.4)\n",
      "Requirement already satisfied: certifi>=2017.4.17 in /root/anaconda3/lib/python3.8/site-packages (from requests>=2.18->allennlp->-r requirements.txt (line 3)) (2020.6.20)\n",
      "Requirement already satisfied: idna<3,>=2.5 in /root/anaconda3/lib/python3.8/site-packages (from requests>=2.18->allennlp->-r requirements.txt (line 3)) (2.10)\n",
      "Collecting cymem<2.1.0,>=2.0.2\n",
      "  Downloading cymem-2.0.5-cp38-cp38-manylinux2014_x86_64.whl (35 kB)\n",
      "Collecting thinc<8.1.0,>=8.0.3\n",
      "  Downloading thinc-8.0.7-cp38-cp38-manylinux_2_17_x86_64.manylinux2014_x86_64.whl (628 kB)\n",
      "\u001b[K     |████████████████████████████████| 628 kB 9.8 MB/s eta 0:00:01\n",
      "\u001b[?25hCollecting typer<0.4.0,>=0.3.0\n",
      "  Downloading typer-0.3.2-py3-none-any.whl (21 kB)\n",
      "Collecting wasabi<1.1.0,>=0.8.1\n",
      "  Downloading wasabi-0.8.2-py3-none-any.whl (23 kB)\n",
      "Collecting srsly<3.0.0,>=2.4.1\n",
      "  Downloading srsly-2.4.1-cp38-cp38-manylinux2014_x86_64.whl (458 kB)\n",
      "\u001b[K     |████████████████████████████████| 458 kB 11.4 MB/s eta 0:00:01\n",
      "\u001b[?25hCollecting catalogue<2.1.0,>=2.0.3\n",
      "  Downloading catalogue-2.0.4-py3-none-any.whl (16 kB)\n",
      "Collecting spacy-legacy<3.1.0,>=3.0.4\n",
      "  Downloading spacy_legacy-3.0.8-py2.py3-none-any.whl (14 kB)\n",
      "Collecting blis<0.8.0,>=0.4.0\n",
      "  Downloading blis-0.7.4-cp38-cp38-manylinux2014_x86_64.whl (9.8 MB)\n",
      "\u001b[K     |████████████████████████████████| 9.8 MB 5.4 MB/s eta 0:00:01\n",
      "\u001b[?25hCollecting pydantic<1.8.0,>=1.7.1\n",
      "  Downloading pydantic-1.7.4-cp38-cp38-manylinux2014_x86_64.whl (12.3 MB)\n",
      "\u001b[K     |████████████████████████████████| 12.3 MB 10.7 MB/s eta 0:00:01    |████████████████████████▉       | 9.5 MB 10.7 MB/s eta 0:00:01\n",
      "\u001b[?25hRequirement already satisfied: jinja2 in /root/anaconda3/lib/python3.8/site-packages (from spacy<3.1,>=2.1.0->allennlp->-r requirements.txt (line 3)) (2.11.2)\n",
      "Collecting pathy>=0.3.5\n",
      "  Downloading pathy-0.6.0-py3-none-any.whl (42 kB)\n",
      "\u001b[K     |████████████████████████████████| 42 kB 1.6 MB/s eta 0:00:01\n",
      "\u001b[?25hCollecting murmurhash<1.1.0,>=0.28.0\n",
      "  Downloading murmurhash-1.0.5-cp38-cp38-manylinux2014_x86_64.whl (20 kB)\n",
      "Collecting preshed<3.1.0,>=3.0.2\n",
      "  Downloading preshed-3.0.5-cp38-cp38-manylinux2014_x86_64.whl (130 kB)\n",
      "\u001b[K     |████████████████████████████████| 130 kB 10.9 MB/s eta 0:00:01\n",
      "\u001b[?25hCollecting smart-open<6.0.0,>=5.0.0\n",
      "  Downloading smart_open-5.1.0-py3-none-any.whl (57 kB)\n",
      "\u001b[K     |████████████████████████████████| 57 kB 7.8 MB/s  eta 0:00:01\n",
      "\u001b[?25hRequirement already satisfied: pillow>=4.1.1 in /root/anaconda3/lib/python3.8/site-packages (from torchvision<0.10.0,>=0.8.1->allennlp->-r requirements.txt (line 3)) (8.0.1)\n",
      "Collecting huggingface-hub>=0.0.8\n",
      "  Downloading huggingface_hub-0.0.8-py3-none-any.whl (34 kB)\n",
      "Requirement already satisfied: sacremoses in /root/anaconda3/lib/python3.8/site-packages (from transformers<4.7,>=4.1->allennlp->-r requirements.txt (line 3)) (0.0.45)\n",
      "Requirement already satisfied: tokenizers<0.11,>=0.10.1 in /root/anaconda3/lib/python3.8/site-packages (from transformers<4.7,>=4.1->allennlp->-r requirements.txt (line 3)) (0.10.3)\n",
      "Requirement already satisfied: click<7.2.0,>=7.1.1 in /root/anaconda3/lib/python3.8/site-packages (from typer<0.4.0,>=0.3.0->spacy<3.1,>=2.1.0->allennlp->-r requirements.txt (line 3)) (7.1.2)\n",
      "Collecting promise<3,>=2.0\n",
      "  Downloading promise-2.3.tar.gz (19 kB)\n",
      "Collecting GitPython>=1.0.0\n",
      "  Downloading GitPython-3.1.18-py3-none-any.whl (170 kB)\n",
      "\u001b[K     |████████████████████████████████| 170 kB 8.6 MB/s eta 0:00:01\n",
      "\u001b[?25hCollecting shortuuid>=0.5.0\n",
      "  Downloading shortuuid-1.0.1-py3-none-any.whl (7.5 kB)\n",
      "Requirement already satisfied: pathtools in /root/anaconda3/lib/python3.8/site-packages (from wandb<0.11.0,>=0.10.0->allennlp->-r requirements.txt (line 3)) (0.1.2)\n",
      "Collecting docker-pycreds>=0.4.0\n",
      "  Downloading docker_pycreds-0.4.0-py2.py3-none-any.whl (9.0 kB)\n",
      "Requirement already satisfied: PyYAML in /root/anaconda3/lib/python3.8/site-packages (from wandb<0.11.0,>=0.10.0->allennlp->-r requirements.txt (line 3)) (5.3.1)\n",
      "Collecting sentry-sdk>=0.4.0\n",
      "  Downloading sentry_sdk-1.3.0-py2.py3-none-any.whl (133 kB)\n",
      "\u001b[K     |████████████████████████████████| 133 kB 7.1 MB/s eta 0:00:01\n",
      "\u001b[?25hCollecting subprocess32>=3.5.3\n",
      "  Downloading subprocess32-3.5.4.tar.gz (97 kB)\n",
      "\u001b[K     |████████████████████████████████| 97 kB 4.4 MB/s eta 0:00:01\n",
      "\u001b[?25hRequirement already satisfied: psutil>=5.0.0 in /root/anaconda3/lib/python3.8/site-packages (from wandb<0.11.0,>=0.10.0->allennlp->-r requirements.txt (line 3)) (5.7.2)\n",
      "Collecting configparser>=3.8.1\n",
      "  Downloading configparser-5.0.2-py3-none-any.whl (19 kB)\n",
      "Collecting gitdb<5,>=4.0.1\n",
      "  Downloading gitdb-4.0.7-py3-none-any.whl (63 kB)\n",
      "\u001b[K     |████████████████████████████████| 63 kB 3.0 MB/s eta 0:00:01\n",
      "\u001b[?25hCollecting smmap<5,>=3.0.1\n",
      "  Downloading smmap-4.0.0-py2.py3-none-any.whl (24 kB)\n",
      "Requirement already satisfied: Send2Trash in /root/anaconda3/lib/python3.8/site-packages (from notebook->jupyter>=1.0->checklist==0.0.11->allennlp->-r requirements.txt (line 3)) (1.5.0)\n",
      "Requirement already satisfied: argon2-cffi in /root/anaconda3/lib/python3.8/site-packages (from notebook->jupyter>=1.0->checklist==0.0.11->allennlp->-r requirements.txt (line 3)) (20.1.0)\n",
      "Requirement already satisfied: pyzmq>=17 in /root/anaconda3/lib/python3.8/site-packages (from notebook->jupyter>=1.0->checklist==0.0.11->allennlp->-r requirements.txt (line 3)) (19.0.2)\n",
      "Requirement already satisfied: prometheus-client in /root/anaconda3/lib/python3.8/site-packages (from notebook->jupyter>=1.0->checklist==0.0.11->allennlp->-r requirements.txt (line 3)) (0.8.0)\n",
      "Requirement already satisfied: terminado>=0.8.3 in /root/anaconda3/lib/python3.8/site-packages (from notebook->jupyter>=1.0->checklist==0.0.11->allennlp->-r requirements.txt (line 3)) (0.9.1)\n",
      "Collecting prettytable\n",
      "  Downloading prettytable-2.1.0-py3-none-any.whl (22 kB)\n",
      "Requirement already satisfied: MarkupSafe>=0.23 in /root/anaconda3/lib/python3.8/site-packages (from jinja2->spacy<3.1,>=2.1.0->allennlp->-r requirements.txt (line 3)) (1.1.1)\n",
      "Requirement already satisfied: pandocfilters>=1.4.1 in /root/anaconda3/lib/python3.8/site-packages (from nbconvert->jupyter>=1.0->checklist==0.0.11->allennlp->-r requirements.txt (line 3)) (1.4.3)\n",
      "Requirement already satisfied: bleach in /root/anaconda3/lib/python3.8/site-packages (from nbconvert->jupyter>=1.0->checklist==0.0.11->allennlp->-r requirements.txt (line 3)) (3.2.1)\n",
      "Requirement already satisfied: jupyterlab-pygments in /root/anaconda3/lib/python3.8/site-packages (from nbconvert->jupyter>=1.0->checklist==0.0.11->allennlp->-r requirements.txt (line 3)) (0.1.2)\n",
      "Requirement already satisfied: entrypoints>=0.2.2 in /root/anaconda3/lib/python3.8/site-packages (from nbconvert->jupyter>=1.0->checklist==0.0.11->allennlp->-r requirements.txt (line 3)) (0.3)\n",
      "Requirement already satisfied: nbclient<0.6.0,>=0.5.0 in /root/anaconda3/lib/python3.8/site-packages (from nbconvert->jupyter>=1.0->checklist==0.0.11->allennlp->-r requirements.txt (line 3)) (0.5.1)\n",
      "Requirement already satisfied: mistune<2,>=0.8.1 in /root/anaconda3/lib/python3.8/site-packages (from nbconvert->jupyter>=1.0->checklist==0.0.11->allennlp->-r requirements.txt (line 3)) (0.8.4)\n",
      "Requirement already satisfied: testpath in /root/anaconda3/lib/python3.8/site-packages (from nbconvert->jupyter>=1.0->checklist==0.0.11->allennlp->-r requirements.txt (line 3)) (0.4.4)\n",
      "Requirement already satisfied: defusedxml in /root/anaconda3/lib/python3.8/site-packages (from nbconvert->jupyter>=1.0->checklist==0.0.11->allennlp->-r requirements.txt (line 3)) (0.6.0)\n",
      "Requirement already satisfied: async-generator in /root/anaconda3/lib/python3.8/site-packages (from nbclient<0.6.0,>=0.5.0->nbconvert->jupyter>=1.0->checklist==0.0.11->allennlp->-r requirements.txt (line 3)) (1.10)\n",
      "Requirement already satisfied: nest-asyncio in /root/anaconda3/lib/python3.8/site-packages (from nbclient<0.6.0,>=0.5.0->nbconvert->jupyter>=1.0->checklist==0.0.11->allennlp->-r requirements.txt (line 3)) (1.4.2)\n",
      "Requirement already satisfied: webencodings in /root/anaconda3/lib/python3.8/site-packages (from bleach->nbconvert->jupyter>=1.0->checklist==0.0.11->allennlp->-r requirements.txt (line 3)) (0.5.1)\n",
      "Requirement already satisfied: joblib in /root/anaconda3/lib/python3.8/site-packages (from nltk->allennlp->-r requirements.txt (line 3)) (0.17.0)\n",
      "Requirement already satisfied: future in /root/anaconda3/lib/python3.8/site-packages (from patternfork-nosql->checklist==0.0.11->allennlp->-r requirements.txt (line 3)) (0.18.2)\n",
      "Collecting backports.csv\n",
      "  Downloading backports.csv-1.0.7-py2.py3-none-any.whl (12 kB)\n",
      "Requirement already satisfied: beautifulsoup4 in /root/anaconda3/lib/python3.8/site-packages (from patternfork-nosql->checklist==0.0.11->allennlp->-r requirements.txt (line 3)) (4.9.3)\n",
      "Requirement already satisfied: lxml in /root/anaconda3/lib/python3.8/site-packages (from patternfork-nosql->checklist==0.0.11->allennlp->-r requirements.txt (line 3)) (4.6.1)\n",
      "Collecting feedparser\n",
      "  Downloading feedparser-6.0.8-py3-none-any.whl (81 kB)\n",
      "\u001b[K     |████████████████████████████████| 81 kB 6.7 MB/s eta 0:00:011\n",
      "\u001b[?25hCollecting pdfminer.six\n",
      "  Downloading pdfminer.six-20201018-py3-none-any.whl (5.6 MB)\n",
      "\u001b[K     |████████████████████████████████| 5.6 MB 8.2 MB/s eta 0:00:01\n",
      "\u001b[?25hCollecting python-docx\n",
      "  Downloading python-docx-0.8.11.tar.gz (5.6 MB)\n",
      "\u001b[K     |████████████████████████████████| 5.6 MB 8.5 MB/s eta 0:00:01\n",
      "\u001b[?25hCollecting cherrypy\n",
      "  Downloading CherryPy-18.6.1-py2.py3-none-any.whl (419 kB)\n",
      "\u001b[K     |████████████████████████████████| 419 kB 7.3 MB/s eta 0:00:01\n",
      "\u001b[?25hRequirement already satisfied: soupsieve>1.2 in /root/anaconda3/lib/python3.8/site-packages (from beautifulsoup4->patternfork-nosql->checklist==0.0.11->allennlp->-r requirements.txt (line 3)) (2.0.1)\n",
      "Collecting jaraco.collections\n",
      "  Downloading jaraco.collections-3.3.0-py3-none-any.whl (9.9 kB)\n",
      "Collecting portend>=2.1.1\n",
      "  Downloading portend-2.7.1-py3-none-any.whl (5.3 kB)\n",
      "Collecting cheroot>=8.2.1\n",
      "  Downloading cheroot-8.5.2-py2.py3-none-any.whl (97 kB)\n",
      "\u001b[K     |████████████████████████████████| 97 kB 6.8 MB/s eta 0:00:011\n",
      "\u001b[?25hCollecting zc.lockfile\n",
      "  Downloading zc.lockfile-2.0-py2.py3-none-any.whl (9.7 kB)\n",
      "Collecting jaraco.functools\n",
      "  Downloading jaraco.functools-3.3.0-py3-none-any.whl (6.8 kB)\n",
      "Collecting tempora>=1.8\n",
      "  Downloading tempora-4.1.1-py3-none-any.whl (15 kB)\n",
      "Collecting sgmllib3k\n",
      "  Downloading sgmllib3k-1.0.0.tar.gz (5.8 kB)\n",
      "Collecting jaraco.text\n",
      "  Downloading jaraco.text-3.5.0-py3-none-any.whl (8.1 kB)\n",
      "Collecting jaraco.classes\n",
      "  Downloading jaraco.classes-3.2.1-py3-none-any.whl (5.6 kB)\n",
      "Requirement already satisfied: cryptography in /root/anaconda3/lib/python3.8/site-packages (from pdfminer.six->patternfork-nosql->checklist==0.0.11->allennlp->-r requirements.txt (line 3)) (3.1.1)\n",
      "Requirement already satisfied: sortedcontainers in /root/anaconda3/lib/python3.8/site-packages (from pdfminer.six->patternfork-nosql->checklist==0.0.11->allennlp->-r requirements.txt (line 3)) (2.2.2)\n",
      "Requirement already satisfied: iniconfig in /root/anaconda3/lib/python3.8/site-packages (from pytest->allennlp->-r requirements.txt (line 3)) (1.1.1)\n",
      "Requirement already satisfied: pluggy<1.0,>=0.12 in /root/anaconda3/lib/python3.8/site-packages (from pytest->allennlp->-r requirements.txt (line 3)) (0.13.1)\n",
      "Requirement already satisfied: py>=1.8.2 in /root/anaconda3/lib/python3.8/site-packages (from pytest->allennlp->-r requirements.txt (line 3)) (1.9.0)\n",
      "Requirement already satisfied: toml in /root/anaconda3/lib/python3.8/site-packages (from pytest->allennlp->-r requirements.txt (line 3)) (0.10.1)\n",
      "Requirement already satisfied: qtpy in /root/anaconda3/lib/python3.8/site-packages (from qtconsole->jupyter>=1.0->checklist==0.0.11->allennlp->-r requirements.txt (line 3)) (1.9.0)\n",
      "Requirement already satisfied: threadpoolctl>=2.0.0 in /root/anaconda3/lib/python3.8/site-packages (from scikit-learn->allennlp->-r requirements.txt (line 3)) (2.1.0)\n",
      "Building wheels for collected packages: checklist, overrides, jsonnet, promise, subprocess32, fever-scorer, fever-drqa, iso-639, patternfork-nosql, python-docx, sgmllib3k\n",
      "  Building wheel for checklist (setup.py) ... \u001b[?25ldone\n",
      "\u001b[?25h  Created wheel for checklist: filename=checklist-0.0.11-py3-none-any.whl size=12165620 sha256=82b1e7edfde6332f908afd5aea719261fb28160aceb9ca69c0f338eef63baea6\n",
      "  Stored in directory: /root/.cache/pip/wheels/43/3e/c3/674b24b25419fb425053ee2e3feb3515acc95552c27610167d\n",
      "  Building wheel for overrides (setup.py) ... \u001b[?25ldone\n",
      "\u001b[?25h  Created wheel for overrides: filename=overrides-3.1.0-py3-none-any.whl size=10173 sha256=1dc2a4d87e6278a9a2a576f6e93c4dd67c7d93fd277fda26734c568620404fd9\n",
      "  Stored in directory: /root/.cache/pip/wheels/6a/4f/72/28857f75625b263e2e3f5ab2fc4416c0a85960ac6485007eaa\n",
      "  Building wheel for jsonnet (setup.py) ... \u001b[?25ldone\n",
      "\u001b[?25h  Created wheel for jsonnet: filename=jsonnet-0.17.0-cp38-cp38-linux_x86_64.whl size=3392732 sha256=236710441b1f5f33cab50595208a0a8b66c21714d58665101a086b9552ea15ed\n",
      "  Stored in directory: /root/.cache/pip/wheels/68/65/13/8033268435d1948dee623d7dc60f20e2ec4d84d94487fca922\n",
      "  Building wheel for promise (setup.py) ... \u001b[?25ldone\n",
      "\u001b[?25h  Created wheel for promise: filename=promise-2.3-py3-none-any.whl size=21494 sha256=5dc5a002d9f9c5de12094b7c2b8e790ab7f62ec7327eca5fe5d1bcf0ce077222\n",
      "  Stored in directory: /root/.cache/pip/wheels/54/aa/01/724885182f93150035a2a91bce34a12877e8067a97baaf5dc8\n",
      "  Building wheel for subprocess32 (setup.py) ... \u001b[?25ldone\n",
      "\u001b[?25h  Created wheel for subprocess32: filename=subprocess32-3.5.4-py3-none-any.whl size=6487 sha256=8b9ad329ab927ab0a5da9125e9220d3de0774c93370c7f6b5ccdfca3b9432bd7\n",
      "  Stored in directory: /root/.cache/pip/wheels/9f/69/d1/50b39b308a87998eaf5c1d9095e5a5bd2ad98501e2b7936d36\n",
      "  Building wheel for fever-scorer (setup.py) ... \u001b[?25ldone\n",
      "\u001b[?25h  Created wheel for fever-scorer: filename=fever_scorer-2.0.39-py3-none-any.whl size=3584 sha256=18dc41cd559919a0f01a71ea217a82241a49fc597c46db442dec5adfb370629d\n",
      "  Stored in directory: /root/.cache/pip/wheels/04/8b/8c/1d235fae882d317149beb3c8202b6c86b03782a2bd17076c04\n",
      "  Building wheel for fever-drqa (setup.py) ... \u001b[?25ldone\n",
      "\u001b[?25h  Created wheel for fever-drqa: filename=fever_drqa-1.0.13-py3-none-any.whl size=54826 sha256=b0bd9faffa36a8d8a59cd761df23bc90a3b18881269f110d50a717eecbbf1f73\n",
      "  Stored in directory: /root/.cache/pip/wheels/75/1b/bc/d43070a28e5589e8df09e0a519e893a0c527b86a0430b25e92\n",
      "  Building wheel for iso-639 (setup.py) ... \u001b[?25ldone\n",
      "\u001b[?25h  Created wheel for iso-639: filename=iso_639-0.4.5-py3-none-any.whl size=169063 sha256=399ee4a7123e118dbc675ca232a7c770ca36a5bbf5f88bc8d57c400706d15449\n",
      "  Stored in directory: /root/.cache/pip/wheels/ed/ce/cc/1961a4de7090b2e92895fb087abfa0080a542a5706c5948bcc\n",
      "  Building wheel for patternfork-nosql (setup.py) ... \u001b[?25ldone\n",
      "\u001b[?25h  Created wheel for patternfork-nosql: filename=patternfork_nosql-3.6-py3-none-any.whl size=22332806 sha256=b13c23323c75cd32399e8642e6c216036e11c6c4b373f6a8fdf6bcd453497d06\n",
      "  Stored in directory: /root/.cache/pip/wheels/dd/7c/f8/9eaf78f9398ddf7cc5dec58a1ad8c165ea0c28d976d422e684\n",
      "  Building wheel for python-docx (setup.py) ... \u001b[?25ldone\n",
      "\u001b[?25h  Created wheel for python-docx: filename=python_docx-0.8.11-py3-none-any.whl size=184601 sha256=44f2fe42d9f2415f5b868d9c1425d76dfb1cc8d4d75d2936828613976c4c4975\n",
      "  Stored in directory: /root/.cache/pip/wheels/32/b8/b2/c4c2b95765e615fe139b0b17b5ea7c0e1b6519b0a9ec8fb34d\n",
      "  Building wheel for sgmllib3k (setup.py) ... \u001b[?25ldone\n",
      "\u001b[?25h  Created wheel for sgmllib3k: filename=sgmllib3k-1.0.0-py3-none-any.whl size=6066 sha256=eda74e74a80a74efcedc8710d707cdb4864ca5aab0078fcc4109c4dfa2783777\n",
      "  Stored in directory: /root/.cache/pip/wheels/83/63/2f/117884c3b19d46b64d3d61690333aa80c88dc14050e269c546\n",
      "Successfully built checklist overrides jsonnet promise subprocess32 fever-scorer fever-drqa iso-639 patternfork-nosql python-docx sgmllib3k\n",
      "Installing collected packages: jaraco.functools, tempora, murmurhash, jaraco.text, jaraco.classes, cymem, catalogue, zc.lockfile, wasabi, typer, srsly, smmap, smart-open, sgmllib3k, pydantic, preshed, portend, jmespath, jaraco.collections, googleapis-common-protos, cheroot, blis, thinc, spacy-legacy, python-docx, pdfminer.six, pathy, huggingface-hub, google-crc32c, google-api-core, gitdb, feedparser, cherrypy, botocore, backports.csv, transformers, torch, subprocess32, spacy, shortuuid, sentry-sdk, s3transfer, promise, patternfork-nosql, munch, iso-639, google-resumable-media, google-cloud-core, GitPython, docker-pycreds, dill, configparser, wandb, torchvision, tensorboardX, sentencepiece, prettytable, overrides, lmdb, jsonnet, google-cloud-storage, checklist, boto3, fever-scorer, fever-drqa, allennlp\n",
      "  Attempting uninstall: huggingface-hub\n",
      "    Found existing installation: huggingface-hub 0.0.12\n",
      "    Uninstalling huggingface-hub-0.0.12:\n",
      "      Successfully uninstalled huggingface-hub-0.0.12\n",
      "  Attempting uninstall: transformers\n",
      "    Found existing installation: transformers 4.8.1\n",
      "    Uninstalling transformers-4.8.1:\n",
      "      Successfully uninstalled transformers-4.8.1\n",
      "Successfully installed GitPython-3.1.18 allennlp-2.5.0 backports.csv-1.0.7 blis-0.7.4 boto3-1.17.112 botocore-1.20.112 catalogue-2.0.4 checklist-0.0.11 cheroot-8.5.2 cherrypy-18.6.1 configparser-5.0.2 cymem-2.0.5 dill-0.3.4 docker-pycreds-0.4.0 feedparser-6.0.8 fever-drqa-1.0.13 fever-scorer-2.0.39 gitdb-4.0.7 google-api-core-1.31.0 google-cloud-core-1.7.1 google-cloud-storage-1.38.0 google-crc32c-1.1.2 google-resumable-media-1.3.1 googleapis-common-protos-1.53.0 huggingface-hub-0.0.8 iso-639-0.4.5 jaraco.classes-3.2.1 jaraco.collections-3.3.0 jaraco.functools-3.3.0 jaraco.text-3.5.0 jmespath-0.10.0 jsonnet-0.17.0 lmdb-1.2.1 munch-2.5.0 murmurhash-1.0.5 overrides-3.1.0 pathy-0.6.0 patternfork-nosql-3.6 pdfminer.six-20201018 portend-2.7.1 preshed-3.0.5 prettytable-2.1.0 promise-2.3 pydantic-1.7.4 python-docx-0.8.11 s3transfer-0.4.2 sentencepiece-0.1.96 sentry-sdk-1.3.0 sgmllib3k-1.0.0 shortuuid-1.0.1 smart-open-5.1.0 smmap-4.0.0 spacy-3.0.6 spacy-legacy-3.0.8 srsly-2.4.1 subprocess32-3.5.4 tempora-4.1.1 tensorboardX-2.4 thinc-8.0.7 torch-1.8.1 torchvision-0.9.1 transformers-4.6.1 typer-0.3.2 wandb-0.10.33 wasabi-0.8.2 zc.lockfile-2.0\n",
      "\u001b[33mWARNING: Running pip as the 'root' user can result in broken permissions and conflicting behaviour with the system package manager. It is recommended to use a virtual environment instead: https://pip.pypa.io/warnings/venv\u001b[0m\n"
     ]
    }
   ],
   "source": [
    "!pip install -r requirements.txt"
   ]
  },
  {
   "cell_type": "code",
   "execution_count": 6,
   "metadata": {},
   "outputs": [],
   "source": [
    "\n",
    "class LabelSchema:\n",
    "    def __init__(self,labels):\n",
    "        self.labels = {self.preprocess(val):idx for idx,val in enumerate(labels)}\n",
    "        self.idx = {idx:self.preprocess(val) for idx,val in enumerate(labels)}\n",
    "\n",
    "    def get_id(self,label):\n",
    "        if self.preprocess(label) in self.labels:\n",
    "            return self.labels[self.preprocess(label)]\n",
    "        return None\n",
    "\n",
    "    def preprocess(self,item):\n",
    "        return item.lower()\n",
    "\n",
    "class FEVERLabelSchema(LabelSchema):\n",
    "    def __init__(self):\n",
    "        super().__init__([\"supports\", \"refutes\", \"not enough info\"])\n",
    "\n",
    "def nltk_tokenizer(text):\n",
    "    return \" \".join(word_tokenize(text))\n",
    "\n",
    "class training_line_formatter():\n",
    "        \n",
    "    def format(self, lines):\n",
    "        formatted = []\n",
    "        for line in tqdm(lines):\n",
    "            fl = self.format_line(line)\n",
    "            if fl is not None:\n",
    "                if isinstance(fl,list):\n",
    "                    formatted.extend(fl)\n",
    "                else:\n",
    "                    formatted.append(fl)\n",
    "        return formatted\n",
    "\n",
    "    def format_line(self, line):\n",
    "        label_schema = FEVERLabelSchema()\n",
    "        # get the label, i.e. SUPPORTS etc.\n",
    "        annotation = line[\"label\"]\n",
    "        if annotation is None:\n",
    "            annotation = line[\"verifiable\"]\n",
    "        pages = []\n",
    "        # did we get the closest sentences to the claim text? is this the sentence or the line number from the doc text?\n",
    "        if 'predicted_sentences' in line:\n",
    "            pages.extend([(ev[0], ev[1]) for ev in line[\"predicted_sentences\"]])\n",
    "        elif 'predicted_pages' in line:\n",
    "            pages.extend([(ev[0], -1) for ev in line[\"predicted_pages\"]])\n",
    "        else:\n",
    "            # these are the human annotated evidence available in the original training file\n",
    "            for evidence_group in line[\"evidence\"]:\n",
    "                pages.extend([(ev[2], ev[3]) for ev in evidence_group])\n",
    "        return {\"claim\": line[\"claim\"], \"evidence\": pages, \"label\": label_schema.get_id(annotation),\n",
    "                \"label_text\": annotation}"
   ]
  },
  {
   "cell_type": "code",
   "execution_count": 7,
   "metadata": {},
   "outputs": [],
   "source": [
    "class Reader:\n",
    "    def __init__(self,encoding=\"utf-8\"):\n",
    "        self.enc = encoding\n",
    "\n",
    "    def read(self,file):\n",
    "        with open(file,\"r\",encoding = self.enc) as f:\n",
    "            return self.process(f)\n",
    "\n",
    "    def process(self,f):\n",
    "        pass\n",
    "\n",
    "class JSONLineReader(Reader):\n",
    "    def process(self,fp):\n",
    "        data = []\n",
    "        for line in tqdm(fp.readlines()):\n",
    "            data.append(json.loads(line.strip()))\n",
    "        return data"
   ]
  },
  {
   "cell_type": "code",
   "execution_count": 8,
   "metadata": {},
   "outputs": [
    {
     "name": "stderr",
     "output_type": "stream",
     "text": [
      "100%|██████████| 145449/145449 [00:02<00:00, 70226.60it/s]\n"
     ]
    }
   ],
   "source": [
    "import json\n",
    "from tqdm import tqdm\n",
    "jlr = JSONLineReader()\n",
    "split = 'train'\n",
    "working_dir = 'working/data/'\n",
    "k = 5\n",
    "training_data_file = working_dir + \"training/{0}.ns.pages.p{1}.jsonl\".format(split, k)\n",
    "data = jlr.read(training_data_file)"
   ]
  },
  {
   "cell_type": "code",
   "execution_count": 9,
   "metadata": {},
   "outputs": [
    {
     "name": "stderr",
     "output_type": "stream",
     "text": [
      "100%|██████████| 145449/145449 [00:01<00:00, 102817.91it/s]\n"
     ]
    }
   ],
   "source": [
    "formatter = training_line_formatter()\n",
    "formatted_train_data = formatter.format(data)"
   ]
  },
  {
   "cell_type": "code",
   "execution_count": 11,
   "metadata": {},
   "outputs": [
    {
     "data": {
      "text/plain": [
       "[{'claim': 'Nikolaj Coster-Waldau worked with the Fox Broadcasting Company.',\n",
       "  'evidence': [('Nikolaj_Coster-Waldau', 7), ('Fox_Broadcasting_Company', 0)],\n",
       "  'label': 0,\n",
       "  'label_text': 'SUPPORTS'},\n",
       " {'claim': 'Roman Atwood is a content creator.',\n",
       "  'evidence': [('Roman_Atwood', 1), ('Roman_Atwood', 3)],\n",
       "  'label': 0,\n",
       "  'label_text': 'SUPPORTS'}]"
      ]
     },
     "execution_count": 11,
     "metadata": {},
     "output_type": "execute_result"
    }
   ],
   "source": [
    "formatted_train_data[:2]"
   ]
  },
  {
   "cell_type": "code",
   "execution_count": 151,
   "metadata": {},
   "outputs": [
    {
     "data": {
      "text/plain": [
       "[{'claim': 'System of a Down briefly disbanded in limbo.',\n",
       "  'evidence': [('In_Limbo', -1)],\n",
       "  'label': 2,\n",
       "  'label_text': 'NOT ENOUGH INFO'},\n",
       " {'claim': 'Beautiful reached number two on the Billboard Hot 100 in 2003.',\n",
       "  'evidence': [('Ricky_Martin_singles_discography', -1)],\n",
       "  'label': 2,\n",
       "  'label_text': 'NOT ENOUGH INFO'},\n",
       " {'claim': 'Neal Schon was named in 1954.',\n",
       "  'evidence': [('Double_Eclipse', -1)],\n",
       "  'label': 2,\n",
       "  'label_text': 'NOT ENOUGH INFO'},\n",
       " {'claim': 'John Wick: Chapter 2 was theatrically released in the Oregon.',\n",
       "  'evidence': [('John_Wick_-LRB-disambiguation-RRB-', -1)],\n",
       "  'label': 2,\n",
       "  'label_text': 'NOT ENOUGH INFO'},\n",
       " {'claim': 'Afghanistan is the source of the Kushan dynasty.',\n",
       "  'evidence': [('Kanishka_-LRB-name-RRB-', -1)],\n",
       "  'label': 2,\n",
       "  'label_text': 'NOT ENOUGH INFO'}]"
      ]
     },
     "execution_count": 151,
     "metadata": {},
     "output_type": "execute_result"
    }
   ],
   "source": [
    "[d for d in formatted_train_data if d['label_text'] == 'NOT ENOUGH INFO'][:5]"
   ]
  },
  {
   "cell_type": "markdown",
   "metadata": {},
   "source": [
    "#### RANDOMS, NEARESTP approach\n",
    "TODO: Need to sample sentences for the 'not enough info' class, either sample them randomly from the nearest matching document, or sample random sentences from the Wiki corpus."
   ]
  },
  {
   "cell_type": "code",
   "execution_count": 12,
   "metadata": {},
   "outputs": [
    {
     "name": "stderr",
     "output_type": "stream",
     "text": [
      "100%|██████████| 9999/9999 [00:00<00:00, 84545.60it/s]\n",
      "100%|██████████| 9999/9999 [00:00<00:00, 98831.02it/s]\n"
     ]
    },
    {
     "data": {
      "text/plain": [
       "[{'claim': 'Colin Kaepernick became a starting quarterback during the 49ers 63rd season in the National Football League.',\n",
       "  'evidence': [('Colin_Kaepernick', -1)],\n",
       "  'label': 2,\n",
       "  'label_text': 'NOT ENOUGH INFO'},\n",
       " {'claim': 'Tilda Swinton is a vegan.',\n",
       "  'evidence': [('Swinton_-LRB-surname-RRB-', -1)],\n",
       "  'label': 2,\n",
       "  'label_text': 'NOT ENOUGH INFO'}]"
      ]
     },
     "execution_count": 12,
     "metadata": {},
     "output_type": "execute_result"
    }
   ],
   "source": [
    "import json\n",
    "from tqdm import tqdm\n",
    "jlr = JSONLineReader()\n",
    "split = 'paper_dev'\n",
    "working_dir = 'working/data/'\n",
    "k = 5\n",
    "dev_data_file = working_dir + \"training/{0}.ns.pages.p{1}.jsonl\".format(split, k)\n",
    "dev_data = jlr.read(dev_data_file)\n",
    "\n",
    "formatter = training_line_formatter()\n",
    "formatted_dev_data = formatter.format(dev_data)\n",
    "\n",
    "dev_data_formatted = []\n",
    "dev_data_formatted.extend(filter(lambda record: record is not None, formatted_dev_data))\n",
    "dev_data_formatted[:2]"
   ]
  },
  {
   "cell_type": "markdown",
   "metadata": {},
   "source": [
    "#### Build the tokenizer"
   ]
  },
  {
   "cell_type": "code",
   "execution_count": 177,
   "metadata": {},
   "outputs": [],
   "source": [
    "import random\n",
    "import os\n",
    "\n",
    "class SimpleRandom():\n",
    "    instance = None\n",
    "\n",
    "    def __init__(self,seed):\n",
    "        self.seed = seed\n",
    "        self.random = random.Random(seed)\n",
    "\n",
    "    def next_rand(self,a,b):\n",
    "        return self.random.randint(a,b)\n",
    "\n",
    "    @staticmethod\n",
    "    def get_instance():\n",
    "        if SimpleRandom.instance is None:\n",
    "            SimpleRandom.instance = SimpleRandom(SimpleRandom.get_seed())\n",
    "        return SimpleRandom.instance\n",
    "\n",
    "    @staticmethod\n",
    "    def get_seed():\n",
    "        return int(os.getenv(\"RANDOM_SEED\", 12459))\n",
    "\n",
    "    @staticmethod\n",
    "    def set_seeds():\n",
    "\n",
    "        torch.manual_seed(SimpleRandom.get_seed())\n",
    "        if gpu():\n",
    "            torch.cuda.manual_seed_all(SimpleRandom.get_seed())\n",
    "        np.random.seed(SimpleRandom.get_seed())\n",
    "        random.seed(SimpleRandom.get_seed())"
   ]
  },
  {
   "cell_type": "code",
   "execution_count": 163,
   "metadata": {},
   "outputs": [],
   "source": [
    "ename = \"evidence\"\n",
    "def claims(data):\n",
    "    return [datum[\"claim\"] for datum in data]\n",
    "def body_ids(data):\n",
    "    return [[d[0] for d in datum[ename] ] for datum in data]\n",
    "def flatten(l):\n",
    "    return [item for sublist in l for item in sublist]\n",
    "def bodies(data):\n",
    "    return [database.get_doc_text(id) for id in set(flatten(body_ids(data)))]\n",
    "\n",
    "def texts(data):\n",
    "    return [\" \".join(set(instance)) for instance in body_lines(data)]\n",
    "\n",
    "def body_lines(data):\n",
    "    return [[get_doc_line(d[0],d[1]) for d in datum[ename] ] for datum in data]\n",
    "\n",
    "def get_doc_line(doc,line):\n",
    "    lines = database.get_doc_lines(doc)\n",
    "    ### if this is from annotated evidences\n",
    "    if line > -1:\n",
    "        return lines.split(\"\\n\")[line].split(\"\\t\")[1]\n",
    "    else: ### if this is from not enough info evidences, NearestP method, to sample \"a\" sentence\n",
    "        non_empty_lines = [line.split(\"\\t\")[1] for line in lines.split(\"\\n\") if len(line.split(\"\\t\"))>1 and len(line.split(\"\\t\")[1].strip())]\n",
    "        return non_empty_lines[SimpleRandom.get_instance().next_rand(0,len(non_empty_lines)-1)]    "
   ]
  },
  {
   "cell_type": "code",
   "execution_count": 166,
   "metadata": {},
   "outputs": [
    {
     "data": {
      "text/plain": [
       "[{'claim': 'System of a Down briefly disbanded in limbo.',\n",
       "  'evidence': [('In_Limbo', -1)],\n",
       "  'label': 2,\n",
       "  'label_text': 'NOT ENOUGH INFO'},\n",
       " {'claim': 'Beautiful reached number two on the Billboard Hot 100 in 2003.',\n",
       "  'evidence': [('Ricky_Martin_singles_discography', -1)],\n",
       "  'label': 2,\n",
       "  'label_text': 'NOT ENOUGH INFO'}]"
      ]
     },
     "execution_count": 166,
     "metadata": {},
     "output_type": "execute_result"
    }
   ],
   "source": [
    "[d for d in formatted_train_data if d['label_text'] == 'NOT ENOUGH INFO'][:2]"
   ]
  },
  {
   "cell_type": "code",
   "execution_count": 159,
   "metadata": {},
   "outputs": [
    {
     "data": {
      "text/plain": [
       "[('Nikolaj_Coster-Waldau', 7), ('Fox_Broadcasting_Company', 0)]"
      ]
     },
     "execution_count": 159,
     "metadata": {},
     "output_type": "execute_result"
    }
   ],
   "source": [
    "cl = formatted_train_data[0]['claim']\n",
    "ev = formatted_train_data[0]['evidence']\n",
    "[(d[0],d[1]) for d in ev]"
   ]
  },
  {
   "cell_type": "code",
   "execution_count": 160,
   "metadata": {},
   "outputs": [
    {
     "data": {
      "text/plain": [
       "'He then played Detective John Amsterdam in the short-lived Fox television series New Amsterdam -LRB- 2008 -RRB- , as well as appearing as Frank Pike in the 2009 Fox television film Virtuality , originally intended as a pilot .'"
      ]
     },
     "execution_count": 160,
     "metadata": {},
     "output_type": "execute_result"
    }
   ],
   "source": [
    "get_doc_line('Nikolaj_Coster-Waldau', 7)"
   ]
  },
  {
   "cell_type": "code",
   "execution_count": 173,
   "metadata": {
    "collapsed": true,
    "jupyter": {
     "outputs_hidden": true
    }
   },
   "outputs": [
    {
     "data": {
      "text/plain": [
       "\"0\\tPuerto Rican singer Ricky Martin has released seventy-nine Spanish and English-language singles .\\tRicky Martin\\tRicky Martin (1999 album)\\tsingles\\tsingle (music)\\n1\\tIn 1984 , thirteen-year-old Martin became a member of the Puerto Rican boy band Menudo .\\tMenudo\\tMenudo (band)\\n2\\tAfter recording eleven albums with the group , he left Menudo in 1989 , hoping to rest and evaluate his career path .\\tMenudo\\tMenudo (band)\\n3\\tIn 1990 , he was signed to Sony Discos , the Sony Music Entertainment 's Latin imprint .\\tSony Discos\\tSony Music Latin\\tSony Music Entertainment\\tSony Music Entertainment\\n4\\tMartin released his debut solo album , the Spanish-language Ricky Martin , in November 1991 .\\tRicky Martin\\tRicky Martin (1999 album)\\n5\\tIt included hit singles : `` Fuego Contra Fuego '' , `` El Amor de Mi Vida '' and `` Vuelo '' .\\tsingles\\tsingle (music)\\tFuego Contra Fuego\\tFuego Contra Fuego\\tEl Amor de Mi Vida\\tEl Amor de Mi Vida (song)\\tVuelo\\tVuelo (song)\\tVida\\tVida (Ricky Martin song)\\n6\\tHis second Spanish-language solo album , Me Amarás -LRB- 1993 -RRB- featured further successful singles : `` Me Amarás '' , `` Que Dia Es Hoy '' and `` Entre el Amor y los Halagos '' .\\tsingles\\tsingle (music)\\tMe Amarás\\tMe Amarás (song)\\tQue Dia Es Hoy\\tSelf Control (Raf song)#Ricky Martin version\\tEntre el Amor y los Halagos\\tEntre el Amor y los Halagos\\n7\\t\\n8\\t\\n9\\tMartin 's third Spanish-language album , A Medio Vivir -LRB- 1995 -RRB- included his international breakthrough single , `` María '' .\\tA Medio Vivir\\tA Medio Vivir (album)\\tMaría\\tMaría (Ricky Martin song)\\n10\\tThe song topped the chart in France for nine consecutive weeks in early 1997 and was certified Diamond after selling 1.4 million copies .\\n11\\t`` María '' also topped the chart in Belgium Wallonia for ten weeks and in Australia for six weeks , and reached top ten in the United Kingdom , Germany , Austria , Switzerland , Belgium Flanders , Italy , Finland , Sweden , the Netherlands , Denmark and New Zealand .\\tMaría\\tMaría (Ricky Martin song)\\n12\\tIt was also certified double Platintum in Belgium , Platinum in Australia , and Gold in Germany , Switzerland , Sweden and the Netherlands .\\n13\\t`` María '' has sold over five million copies worldwide .\\tMaría\\tMaría (Ricky Martin song)\\n14\\tA Medio Vivir also included two other successful singles : `` Te Extraño , Te Olvido , Te Amo '' and `` Volverás '' .\\tsingles\\tsingle (music)\\tA Medio Vivir\\tA Medio Vivir (album)\\tVolverás\\tVolverás (Ricky Martin song)\\n15\\t\\n16\\t\\n17\\t`` Vuelve '' , the lead single from the album of the same name released in 1998 became Martin 's first track to top three Billboard charts : Hot Latin Songs , Latin Pop Airplay and Tropical Songs .\\tVuelve\\tVuelve (album)\\tthe same name\\tVuelve (album)\\tBillboard\\tBillboard (magazine)\\tHot Latin Songs\\tHot Latin Songs\\tLatin Pop Airplay\\tLatin Pop Airplay\\tTropical Songs\\tTropical Songs\\n18\\t`` La Copa de la Vida '' -LRB- `` The Cup of Life '' -RRB- , released as the second single and the official song of the 1998 FIFA World Cup , became a worldwide hit .\\tThe Cup of Life\\tThe Cup of Life\\t1998 FIFA World Cup\\t1998 FIFA World Cup\\tLife\\tLife (Ricky Martin album)\\tVida\\tVida (Ricky Martin song)\\n19\\tIt topped the charts in Germany , France , Spain , Italy , Sweden , Switzerland , Belgium Wallonia and in Australia , and was certified Platinum and Gold in various countries .\\n20\\t`` The Cup of Life '' , released in Australia a double A-side single with `` María '' , became the best-selling single of 1998 in this country .\\tMaría\\tMaría (Ricky Martin song)\\tThe Cup of Life\\tThe Cup of Life\\tA-side\\tA-side and B-side\\tbest-selling single of 1998\\tList of Top 25 singles for 1998 in Australia\\tLife\\tLife (Ricky Martin album)\\n21\\tOn the same night Martin performed `` The Cup of Life '' at the 41st Annual Grammy Awards , Vuelve won Grammy Award for Best Latin Pop Performance .\\tVuelve\\tVuelve (album)\\tThe Cup of Life\\tThe Cup of Life\\t41st Annual Grammy Awards\\t41st Annual Grammy Awards\\tGrammy Award for Best Latin Pop Performance\\tGrammy Award for Best Latin Pop Album\\tLife\\tLife (Ricky Martin album)\\n22\\tVuelve also included `` La Bomba '' -LRB- number five in Spain -RRB- , `` Perdido Sin Ti '' -LRB- number one on the US Hot Latin Songs and Latin Pop Airplay -RRB- and `` Por Arriba , Por Abajo '' -LRB- number thirteen in Spain -RRB- .\\tVuelve\\tVuelve (album)\\tHot Latin Songs\\tHot Latin Songs\\tLatin Pop Airplay\\tLatin Pop Airplay\\tLa Bomba\\tLa Bomba (Ricky Martin song)\\tPerdido Sin Ti\\tPerdido Sin Ti\\n23\\t\\n24\\t\\n25\\tMartin 's first English-language album , Ricky Martin , was released in 1999 and included his biggest hit and singnature song , `` Livin ' la Vida Loca '' .\\tRicky Martin\\tRicky Martin (1999 album)\\tVida\\tVida (Ricky Martin song)\\n26\\tIt topped the Billboard Hot 100 for five consecutive weeks and was certified Platinum by the RIAA for selling over 1.1 million of physical copies .\\tBillboard\\tBillboard (magazine)\\tRIAA\\tRecording Industry Association of America\\n27\\t`` Livin ' la Vida Loca '' also topped many other Billboard charts including Hot Latin Songs and Latin Pop Airplay .\\tBillboard\\tBillboard (magazine)\\tHot Latin Songs\\tHot Latin Songs\\tLatin Pop Airplay\\tLatin Pop Airplay\\tVida\\tVida (Ricky Martin song)\\n28\\tIt also became Martin 's first number-one on the UK Singles Chart where it has sold 900,000 copies and was certified Platinum .\\tUK Singles Chart\\tUK Singles Chart\\n29\\t`` Livin ' la Vida Loca '' also reached number one in Canada , Ireland and New Zealand .\\tVida\\tVida (Ricky Martin song)\\n30\\tIn other countries , it was a top ten hit , certified multi-Platinum , Platinum , Gold and Silver around the world .\\n31\\tThe second single , `` She 's All I Ever Had '' topped the US Hot Latin Songs and Latin Pop Airplay charts , reached number two on the Billboard Hot 100 , number three in Canada , number eight in New Zealand and number ten in Finland .\\tBillboard\\tBillboard (magazine)\\tHot Latin Songs\\tHot Latin Songs\\tLatin Pop Airplay\\tLatin Pop Airplay\\n32\\tIt was certified Gold in the United States and Australia .\\n33\\tRicky Martin also included `` Shake Your Bon-Bon '' -LRB- top ten single in Finland , Canada and New Zealand -RRB- and `` Private Emotion '' -LRB- top ten single in various European countries , including the UK -RRB- .\\tRicky Martin\\tRicky Martin (1999 album)\\tShake Your Bon-Bon\\tShake Your Bon-Bon\\tPrivate Emotion\\tPrivate Emotion\\n34\\t\\n35\\t\\n36\\t`` She Bangs '' , the lead single from Martin 's second English-language album Sound Loaded -LRB- 2000 -RRB- , topped the charts in Italy and Sweden , and also reached number one on the US Hot Latin Songs and Tropical Songs .\\tHot Latin Songs\\tHot Latin Songs\\tTropical Songs\\tTropical Songs\\tShe Bangs\\tShe Bangs\\tSound Loaded\\tSound Loaded\\tLoaded\\tLoaded (Ricky Martin song)\\n37\\tIt was a top ten hit in the UK , Australia , Canada , Spain , Ireland , New Zealand , Switzerland , Finland and Norway .\\n38\\t`` She Bangs '' was certified Platinum in Australia , Gold in Sweden and Silver in the UK .\\tShe Bangs\\tShe Bangs\\n39\\tIt won Latin Grammy Award for Best Short Form Music Video .\\tLatin Grammy Award for Best Short Form Music Video\\tLatin Grammy Award for Best Short Form Music Video\\tLatin Grammy Award\\tLatin Grammy Award\\n40\\tThe second single , `` Nobody Wants to Be Lonely '' -LRB- duet with Christina Aguilera -RRB- was also successful reaching number one in New Zealand and the top ten in Australia and most European countries , including the UK .\\tNobody Wants to Be Lonely\\tNobody Wants to Be Lonely\\tChristina Aguilera\\tChristina Aguilera\\n41\\tIt was also certified Gold in various countries .\\n42\\tThe solo Spanish-language version of `` Nobody Wants to Be Lonely '' titled `` Sólo Quiero Amarte '' topped Hot Latin Songs , Latin Pop Airplay and Tropical Songs in the US .\\tHot Latin Songs\\tHot Latin Songs\\tLatin Pop Airplay\\tLatin Pop Airplay\\tTropical Songs\\tTropical Songs\\tNobody Wants to Be Lonely\\tNobody Wants to Be Lonely\\n43\\tThe third single , `` Loaded '' reached top forty in Sweden , Spain , Italy and the UK .\\tLoaded\\tLoaded (Ricky Martin song)\\n44\\t\\n45\\t\\n46\\tThe lead single from the next Spanish-language album Almas del Silencio -LRB- 2003 -RRB- , `` Tal Vez '' debuted at number one on the US Hot Latin Songs and spent eleven weeks at the top .\\tHot Latin Songs\\tHot Latin Songs\\tAlmas del Silencio\\tAlmas del Silencio\\tTal Vez\\tTal Vez (song)\\n47\\tIt also spent thirteen weeks at the top of Latin Pop Airplay and peaked at number one on the Tropical Songs .\\tLatin Pop Airplay\\tLatin Pop Airplay\\tTropical Songs\\tTropical Songs\\n48\\tIt was also number-one song on two 2003 Billboard Year-End charts : Hot Latin Songs and Latin Pop Airplay .\\tBillboard\\tBillboard (magazine)\\tHot Latin Songs\\tHot Latin Songs\\tLatin Pop Airplay\\tLatin Pop Airplay\\n49\\tThe second single , `` Jaleo '' reached number one in Spain and on the Hot Latin Songs in the US .\\tHot Latin Songs\\tHot Latin Songs\\tJaleo\\tJaleo (Ricky Martin song)\\n50\\tIt was also a top ten hit in Italy and Sweden .\\n51\\tOther singles included : `` Asignatura Pendiente '' -LRB- number five on Hot Latin Songs -RRB- , `` Juramento '' -LRB- number eleven in Spain -RRB- and `` Y Todo Queda en Nada '' -LRB- another number-one on the Hot Latin Songs -RRB- .\\tsingles\\tsingle (music)\\tHot Latin Songs\\tHot Latin Songs\\tAsignatura Pendiente\\tAsignatura Pendiente\\tJuramento\\tJuramento (song)\\tY Todo Queda en Nada\\tY Todo Queda en Nada\\n52\\tThe third English-language album , Life -LRB- 2005 -RRB- was promoted by `` I Do n't Care '' .\\tLife\\tLife (Ricky Martin album)\\n53\\tThe single reached top ten in Italy and Finland , and on three Billboard charts : Dance Club Songs -LRB- number three -RRB- , Hot Latin Songs -LRB- number seven -RRB- and Tropical Airplay -LRB- number eight -RRB- .\\tBillboard\\tBillboard (magazine)\\tHot Latin Songs\\tHot Latin Songs\\tDance Club Songs\\tDance Club Songs\\n54\\tAnother song form the album , `` It 's Alright '' was re-recorded with M. Pokora and became a hit in Francophone countries , reaching number four in France and being certified Silver .\\tM. Pokora\\tM. Pokora\\n55\\t\\n56\\t\\n57\\tMartin 's 2006 Latin Grammy Award-winning album , MTV Unplugged included a hit song , `` Tu Recuerdo '' -LRB- featuring La Mari -RRB- .\\tLatin Grammy Award\\tLatin Grammy Award\\tMTV Unplugged\\tMTV Unplugged (Ricky Martin album)\\tTu Recuerdo\\tTu Recuerdo (Ricky Martin song)\\tLa Mari\\tMaría del Mar Rodríguez Carnero\\n58\\tIt was a number one on Hot Latin Songs and Latin Pop Airplay in the US , number one on the Airplay chart in Spain -LRB- number two on the Downloads chart -RRB- and number one in Venezuela .\\tHot Latin Songs\\tHot Latin Songs\\tLatin Pop Airplay\\tLatin Pop Airplay\\n59\\tIt was also certified five-times Platinum in Spain and four-times Platinum in Mexico .\\n60\\tThe second single , `` Pégate '' reached number six on the US Dance Club Songs , number nine on Latin Pop Airplay and Tropical Songs , number eleven on Hot Latin Songs and number thirteen in Spain .\\tHot Latin Songs\\tHot Latin Songs\\tLatin Pop Airplay\\tLatin Pop Airplay\\tTropical Songs\\tTropical Songs\\tDance Club Songs\\tDance Club Songs\\tPégate\\tPégate\\n61\\tIt was also certified four-times Platinum in Mexico .\\n62\\tIn 2007 , Martin recorded a duet with Eros Ramazzotti , `` Non siamo soli '' .\\tEros Ramazzotti\\tEros Ramazzotti\\tNon siamo soli\\tNon siamo soli\\n63\\tThe song topped the Italian chart for eleven consecutive weeks .\\n64\\tIt was also a top-ten hit in Spain -LRB- four-times Platinum certification -RRB- , Hungary and Switzerland .\\n65\\t\\n66\\t\\n67\\tIn 2010 , Martin returned to the recording studio and released `` The Best Thing About Me Is You '' -LRB- `` Lo Mejor de Mi Vida Eres Tú '' -RRB- , the first single from Música + Alma + Sexo -LRB- 2011 -RRB- .\\tThe Best Thing About Me Is You\\tThe Best Thing About Me Is You\\tMúsica + Alma + Sexo\\tMúsica + Alma + Sexo\\tVida\\tVida (Ricky Martin song)\\n68\\tThe Spanish-language version of this song topped the US Hot Latin Songs and Latin Pop Airplay charts .\\tHot Latin Songs\\tHot Latin Songs\\tLatin Pop Airplay\\tLatin Pop Airplay\\n69\\tIt was also a top ten hit in Mexico being certified Platinum .\\n70\\tFurther singles included `` Más '' and `` Frío '' .\\tsingles\\tsingle (music)\\tMás\\tMás (Ricky Martin song)\\tFrío\\tFrío (song)\\n71\\tIn 2013 , Martin released `` Come with Me '' which reached number three in Australia and was certified Gold .\\tCome with Me\\tCome with Me (Ricky Martin song)\\n72\\tIt also topped the Billboard '' 's Latin Airplay chart and reached number nine in Spain .\\tBillboard\\tBillboard (magazine)\\tLatin Airplay\\tBillboard charts#Latin\\n73\\tAnother success came with `` Adrenalina '' , a Wisin song which featured Martin and Jennifer Lopez .\\tAdrenalina\\tAdrenalina (Wisin song)\\tWisin\\tWisin\\tJennifer Lopez\\tJennifer Lopez\\n74\\tIt topped the US Latin Airplay and Latin Rhythm Airplay charts , reached number two on Hot Latin Songs , number three in Spain and number four in Mexico .\\tHot Latin Songs\\tHot Latin Songs\\tLatin Airplay\\tBillboard charts#Latin\\tLatin Rhythm Airplay\\tLatin Rhythm Airplay\\n75\\tIt was also certified two-times Platinum in Spain and Platinum in Mexico .\\n76\\t`` Vida '' , recorded for the 2014 FIFA World Cup , reached top ten in Spain and Mexico , and also on the US Hot Latin Songs .\\tHot Latin Songs\\tHot Latin Songs\\tVida\\tVida (Ricky Martin song)\\t2014 FIFA World Cup\\t2014 FIFA World Cup\\n77\\t\\n78\\t\\n79\\tIn 2014 , `` Adiós '' was released as the first single from Martin 's 2015 album , A Quien Quiera Escuchar .\\tAdiós\\tAdiós (Ricky Martin song)\\tA Quien Quiera Escuchar\\tA Quien Quiera Escuchar\\n80\\tIt was successful in Latin America , topping the charts in Colombia and Mexico , where it was also certified Gold .\\tLatin America\\tLatin America\\n81\\t`` Adiós '' also reached top ten on the US Latin charts .\\tAdiós\\tAdiós (Ricky Martin song)\\n82\\tThe next single , `` Disparo al Corazón '' topped the US Latin Airplay chart , Latin Pop Airplay , reached number nine on the Hot Latin Songs and became a top ten hit in Mexico .\\tHot Latin Songs\\tHot Latin Songs\\tLatin Pop Airplay\\tLatin Pop Airplay\\tLatin Airplay\\tBillboard charts#Latin\\tDisparo al Corazón\\tDisparo al Corazón\\n83\\tThe most successful single from A Quien Quiera Escuchar , `` La Mordidita '' reached number one on the US Latin Airplay , Latin Pop Airplay and topped the charts Latin America , including Dominican Republic and Venezuela .\\tLatin Pop Airplay\\tLatin Pop Airplay\\tLatin Airplay\\tBillboard charts#Latin\\tA Quien Quiera Escuchar\\tA Quien Quiera Escuchar\\tLatin America\\tLatin America\\tLa Mordidita\\tLa Mordidita\\n84\\tIn Spain , it reached number three , and on the Hot Latin Songs , it peaked at number six .\\tHot Latin Songs\\tHot Latin Songs\\n85\\tIt was certified double-Platinum in Spain and Gold in Mexico .\\n86\\tAfter A Quien Quiera Escuchar won the Grammy Award for Best Latin Pop Album in 2016 , Martin 's fourth single , `` Perdóname '' started storming the charts .\\tA Quien Quiera Escuchar\\tA Quien Quiera Escuchar\\tGrammy Award for Best Latin Pop Album\\tGrammy Award for Best Latin Pop Album\\tPerdóname\\tPerdóname (Ricky Martin song)\\n87\\t\\n88\\t\\n89\\tIn 2015 , he released `` Mr. Put It Down '' -LRB- featuring Pitbull -RRB- , which became Martin 's first single to top the US Dance Club Songs chart .\\tDance Club Songs\\tDance Club Songs\\tMr. Put It Down\\tMr. Put It Down\\tPitbull\\tPitbull (rapper)\\n90\\tAnother collaboration with Wisin , the 2015 single `` Que Se Sienta El Deseo '' reached top ten on Latin Airplay , Latin Rhythm Airplay and Latin Pop Airplay in the US .\\tLatin Pop Airplay\\tLatin Pop Airplay\\tLatin Airplay\\tBillboard charts#Latin\\tWisin\\tWisin\\tLatin Rhythm Airplay\\tLatin Rhythm Airplay\\tQue Se Sienta El Deseo\\tQue Se Sienta El Deseo\\n91\\tMartin earned fifteen number-one singles on the US Latin Airplay chart and is the second artist with most number-ones on this chart .\\tsingles\\tsingle (music)\\tLatin Airplay\\tBillboard charts#Latin\\n92\\tHe also has twenty-six top ten hits on Billboard '' 's Hot Latin Songs and is the fourth artist with the most top tens in the history of Hot Latin Songs .\\tBillboard\\tBillboard (magazine)\\tHot Latin Songs\\tHot Latin Songs\\n93\\tOn Latin Pop Airplay in the US , Martin has a record for the most top twenty singles on this chart -LRB- forty-three -RRB- .\\tsingles\\tsingle (music)\\tLatin Pop Airplay\\tLatin Pop Airplay\\n94\\t\""
      ]
     },
     "execution_count": 173,
     "metadata": {},
     "output_type": "execute_result"
    }
   ],
   "source": [
    "lines = database.get_doc_lines('Ricky_Martin_singles_discography')\n",
    "lines"
   ]
  },
  {
   "cell_type": "code",
   "execution_count": 180,
   "metadata": {},
   "outputs": [
    {
     "data": {
      "text/plain": [
       "76"
      ]
     },
     "execution_count": 180,
     "metadata": {},
     "output_type": "execute_result"
    }
   ],
   "source": [
    "non_empty_lines = [line.split(\"\\t\")[1] for line in lines.split(\"\\n\") if len(line.split(\"\\t\"))>1 and len(line.split(\"\\t\")[1].strip())]\n",
    "len(non_empty_lines)"
   ]
  },
  {
   "cell_type": "code",
   "execution_count": 182,
   "metadata": {},
   "outputs": [
    {
     "data": {
      "text/plain": [
       "\"`` Vida '' , recorded for the 2014 FIFA World Cup , reached top ten in Spain and Mexico , and also on the US Hot Latin Songs .\""
      ]
     },
     "execution_count": 182,
     "metadata": {},
     "output_type": "execute_result"
    }
   ],
   "source": [
    "non_empty_lines[SimpleRandom.get_instance().next_rand(0,len(non_empty_lines)-1)]"
   ]
  },
  {
   "cell_type": "code",
   "execution_count": 183,
   "metadata": {},
   "outputs": [
    {
     "data": {
      "text/plain": [
       "['He then played Detective John Amsterdam in the short-lived Fox television series New Amsterdam -LRB- 2008 -RRB- , as well as appearing as Frank Pike in the 2009 Fox television film Virtuality , originally intended as a pilot .',\n",
       " 'The Fox Broadcasting Company -LRB- often shortened to Fox and stylized as FOX -RRB- is an American English language commercial broadcast television network that is owned by the Fox Entertainment Group subsidiary of 21st Century Fox .']"
      ]
     },
     "execution_count": 183,
     "metadata": {},
     "output_type": "execute_result"
    }
   ],
   "source": [
    "[get_doc_line(d[0],d[1]) for d in formatted_train_data[0][\"evidence\"] ]"
   ]
  },
  {
   "cell_type": "code",
   "execution_count": 28,
   "metadata": {},
   "outputs": [],
   "source": [
    "import unicodedata\n",
    "import re\n",
    "def unicode_to_ascii(s):\n",
    "        return ''.join(c for c in unicodedata.normalize('NFD', s) if unicodedata.category(c) != 'Mn')\n",
    "def preprocess(w):\n",
    "        w = unicode_to_ascii(w.lower().strip())\n",
    "        # creating a space between a word and the punctuation following it\n",
    "        # eg: \"he is a boy.\" => \"he is a boy .\"\n",
    "        # Reference:- https://stackoverflow.com/questions/3645931/python-padding-punctuation-with-white-spaces-keeping-punctuation\n",
    "        w = re.sub(r\"([?.!,¿])\", r\" \\1 \", w)\n",
    "        w = re.sub(r'[\" \"]+', \" \", w)\n",
    "        # replacing everything with space except (a-z, A-Z, \".\", \"?\", \"!\", \",\")\n",
    "        w = re.sub(r\"[^a-zA-Z?.!,¿]+\", \" \", w)\n",
    "        w = w.strip()\n",
    "        # adding a start and an end token to the sentence\n",
    "        # so that the model know when to start and stop predicting.\n",
    "        w = '[START] ' + w + ' [END]'\n",
    "        return w"
   ]
  },
  {
   "cell_type": "code",
   "execution_count": 29,
   "metadata": {},
   "outputs": [],
   "source": [
    "from drqa.retriever import DocDB, utils\n",
    "class FeverDocDB(DocDB):\n",
    "\n",
    "    def __init__(self,path=None):\n",
    "        super().__init__(path)\n",
    "\n",
    "    def get_doc_lines(self, doc_id):\n",
    "        \"\"\"Fetch the raw text of the doc for 'doc_id'.\"\"\"\n",
    "        cursor = self.connection.cursor()\n",
    "        cursor.execute(\n",
    "            \"SELECT lines FROM documents WHERE id = ?\",\n",
    "            (utils.normalize(doc_id),)\n",
    "        )\n",
    "        result = cursor.fetchone()\n",
    "        cursor.close()\n",
    "        return result if result is None else result[0]\n",
    "\n",
    "    def get_non_empty_doc_ids(self):\n",
    "        \"\"\"Fetch all ids of docs stored in the db.\"\"\"\n",
    "        cursor = self.connection.cursor()\n",
    "        cursor.execute(\"SELECT id FROM documents WHERE length(trim(text)) > 0\")\n",
    "        results = [r[0] for r in cursor.fetchall()]\n",
    "        cursor.close()\n",
    "        return results\n",
    "database_path = '/local/fever-common/data/fever/fever.db'\n",
    "database = FeverDocDB(database_path)"
   ]
  },
  {
   "cell_type": "code",
   "execution_count": 184,
   "metadata": {},
   "outputs": [
    {
     "name": "stdout",
     "output_type": "stream",
     "text": [
      "[START] nikolaj coster waldau worked with the fox broadcasting company . [END] He then played Detective John Amsterdam in the short-lived Fox television series New Amsterdam -LRB- 2008 -RRB- , as well as appearing as Frank Pike in the 2009 Fox television film Virtuality , originally intended as a pilot . The Fox Broadcasting Company -LRB- often shortened to Fox and stylized as FOX -RRB- is an American English language commercial broadcast television network that is owned by the Fox Entertainment Group subsidiary of 21st Century Fox .\n",
      "[START] roman atwood is a content creator . [END] He is best known for his vlogs , where he posts updates about his life on a daily basis . He also has another YouTube channel called `` RomanAtwood '' , where he posts pranks .\n"
     ]
    }
   ],
   "source": [
    "for data in formatted_train_data[:2]:\n",
    "    claim = preprocess(data[\"claim\"])\n",
    "    lines = [get_doc_line(d[0],d[1]) for d in data[\"evidence\"] ]\n",
    "#     body_ids = [e[0] for e in data[\"evidence\"]]\n",
    "#     bodies = [database.get_doc_text(id) for id in set(body_ids)]\n",
    "#     parts = [claim, \" \".join(bodies)]\n",
    "    parts = [claim, \" \".join(lines)]\n",
    "    print (\" \".join(parts))"
   ]
  },
  {
   "cell_type": "code",
   "execution_count": 153,
   "metadata": {},
   "outputs": [],
   "source": [
    "import numpy as np\n",
    "import tensorflow as tf\n",
    "def get_data_generator():\n",
    "    for data in formatted_train_data:\n",
    "        claim = preprocess(data[\"claim\"])\n",
    "        body_ids = [e[0] for e in data[\"evidence\"]]\n",
    "        bodies = [database.get_doc_text(id) for id in set(body_ids)]\n",
    "        parts = [claim, \" \".join(bodies)]\n",
    "        yield \" \".join(parts)\n",
    "        \n",
    "def get_dataset():\n",
    "    generator = lambda: get_data_generator()\n",
    "    return tf.data.Dataset.from_generator(\n",
    "            generator, output_signature=(\n",
    "            tf.TensorSpec(shape=(), dtype=tf.string)))"
   ]
  },
  {
   "cell_type": "code",
   "execution_count": 87,
   "metadata": {},
   "outputs": [
    {
     "name": "stdout",
     "output_type": "stream",
     "text": [
      "tf.Tensor(b\"[START] nikolaj coster waldau worked with the fox broadcasting company . [END] Nikolaj Coster-Waldau -LRB- -LSB- ne\\xc9\\xa1\\xcc\\x8aola\\xc9\\xaa\\xcc\\xaf k\\xca\\xb0\\xca\\x8csd\\xcc\\xa5\\xc9\\x90 \\xcb\\x88\\xca\\x8bald\\xcc\\xa5\\xc9\\x91\\xca\\x8a\\xcc\\xaf -RSB- ; born 27 July 1970 -RRB- is a Danish actor , producer and screenwriter . He graduated from Danish National School of Theatre in Copenhagen in 1993 . Coster-Waldau 's breakthrough performance in Denmark was his role in the film Nightwatch -LRB- 1994 -RRB- . Since then he has appeared in numerous films in his native Scandinavia and Europe in general , including Headhunters -LRB- 2011 -RRB- and A Thousand Times Good Night -LRB- 2013 -RRB- .   In the United States , his debut film role was in the war film Black Hawk Down -LRB- 2001 -RRB- , playing Medal of Honor recipient Gary Gordon . He then played Detective John Amsterdam in the short-lived Fox television series New Amsterdam -LRB- 2008 -RRB- , as well as appearing as Frank Pike in the 2009 Fox television film Virtuality , originally intended as a pilot . He became widely known to a broad audience for his current role as Ser Jaime Lannister , in the HBO series Game of Thrones . In 2017 , he became one of the highest paid actors on television and earned # 2 million per episode of Game of Thrones .  The Fox Broadcasting Company -LRB- often shortened to Fox and stylized as FOX -RRB- is an American English language commercial broadcast television network that is owned by the Fox Entertainment Group subsidiary of 21st Century Fox . The network is headquartered at the 20th Century Fox studio lot on Pico Boulevard in the Century City section of Los Angeles , with additional major offices and production facilities at the Fox Television Center in nearby West Los Angeles and the Fox Broadcasting Center in the Yorkville neighborhood of Manhattan , New York City . It is the third largest major television network in the world based on total revenues , assets , and international coverage .   Launched on October 9 , 1986 as a competitor to the Big Three television networks -LRB- ABC , NBC and CBS -RRB- , Fox went on to become the most successful attempt at a fourth television network . It was the highest-rated broadcast network in the 18 -- 49 demographic from 2004 to 2012 , and earned the position as the most-watched American television network in total viewership during the 2007 -- 08 season .   Fox and its affiliated companies operate many entertainment channels in international markets , although these do not necessarily air the same programming as the U.S. network . Most viewers in Canada have access to at least one U.S.-based Fox affiliate , either over-the-air or through a pay television provider , although Fox 's National Football League telecasts and most of its prime time programming are subject to simultaneous substitution regulations for cable and satellite providers imposed by the Canadian Radio-television and Telecommunications Commission -LRB- CRTC -RRB- to protect rights held by domestically based networks .   The network is named after sister company 20th Century Fox , and indirectly for producer William Fox , who founded one of the movie studio 's predecessors , Fox Film . Fox is a member of the North American Broadcasters Association and the National Association of Broadcasters . \", shape=(), dtype=string)\n"
     ]
    }
   ],
   "source": [
    "for d in get_dataset().take(1):\n",
    "    print(d)"
   ]
  },
  {
   "cell_type": "code",
   "execution_count": 85,
   "metadata": {},
   "outputs": [],
   "source": [
    "ds = get_dataset()\n",
    "batch_size=32\n",
    "ds = ds.shuffle(3200).batch(batch_size, drop_remainder=True)"
   ]
  },
  {
   "cell_type": "code",
   "execution_count": 34,
   "metadata": {
    "collapsed": true,
    "jupyter": {
     "outputs_hidden": true
    }
   },
   "outputs": [
    {
     "name": "stdout",
     "output_type": "stream",
     "text": [
      "tf.Tensor(\n",
      "[b\"[START] liv tyler modeled as an infant . [END] Liv is a Norwegian mostly female given name derived from the Old Norse `` hl\\xc3\\xadf '' , which means `` shelter '' or `` protection '' ; in modern Norwegian , Swedish , and Danish it is also homophonous with the word `` liv '' meaning `` life . ''   In Norse mythology , L\\xc3\\xadf and L\\xc3\\xadf\\xc3\\xberasir -LRB- Old Norse masculine name from l\\xc3\\xadf and \\xc3\\xberasir -RRB- , were two humans foretold to survive Ragnar\\xc3\\xb6k and to repopulate the world .   Sometimes Liv can be a shortened version of Olivia .   Liv may refer to :  Gerd-Liv Valla -LRB- born 1948 -RRB- , leader of the Norwegian Confederation of Trade Unions  Jacob Liv Borch Sverdrup -LRB- 1775 -- 1841 -RRB- , Norwegian educator and farmer  Liv Aasen -LRB- born 1928 -RRB- , Norwegian politician for the Labour Party  Liv Andersen -LRB- 1919 -- 1997 -RRB- , Norwegian politician for the Labour Party  Liv Arnesen -LRB- born 1953 -RRB- , Norwegian cross-country skier , adventurer , guide , and motivational speaker  Liv Boeree -LRB- born 1984 -RRB- , poker player , TV presenter , and model from England  Liv Dommersnes -LRB- 1922 -- 2014 -RRB- , Norwegian actress and reciter of poetry  Liv Kristine Espen\\xc3\\xa6s -LRB- born 1976 -RRB- , the former vocalist for the band Theatre of Tragedy and current vocalist for the band Leaves ' Eyes  Liv Gj\\xc3\\xb8lstad -LRB- born 1945 -RRB- , Norwegian judge  Liv Grete Skjelbreid Poir\\xc3\\xa9e -LRB- born 1974 -RRB- , Norwegian biathlete  Liv Hel\\xc3\\xb8e -LRB- born 1963 -RRB- , Norwegian actress and writer  Liv Jensen , Norwegian luger who competed in the late 1930s  Liv K\\xc3\\xb8ltzow -LRB- born 1945 -RRB- , Norwegian novelist , playwright , biographer and essayist  Liv L\\xc3\\xb8berg -LRB- born 1949 -RRB- , Norwegian practical nurse , organization leader and politician for the Progress Party  Liv Lindeland -LRB- born 1945 -RRB- , Norwegian model and actress  Liv Maessen , Australian pop singer  Liv Mildrid Gjernes -LRB- born 1954 -RRB- , Norwegian artist  Liv Monica Stubholt -LRB- born 1961 -RRB- , politician , investment director for Aker Clean Carbon  Liv Nysted -LRB- 1949 -- 2010 -RRB- , Norwegian writer  Liv Paulsen -LRB- 1925 -- 2001 -RRB- , Norwegian 100 metres sprinter and shot putter  Liv Sandven -LRB- born 1946 -RRB- , Norwegian politician from the Christian Democratic Party  Liv Signe Navarsete -LRB- born 1958 -RRB- , the Norwegian Minister of Local Government and Regional Development and leader of the Center Party  Liv Str\\xc3\\xa6det -LRB- born 1964 -RRB- , former Norwegian football player who played for Norway women 's national football team  Liv Stubberud -LRB- born 1930 -RRB- , Norwegian politician for the Labour Party  Liv Thorsen -LRB- born 1935 -RRB- , Norwegian actress  Liv Tomter -LRB- 1901 -- 1978 -RRB- , Norwegian politician for the Labour Party  Liv Tyler -LRB- born 1977 -RRB- , American actress and model  Liv Ullmann -LRB- born 1938 -RRB- , Norwegian actress and film director  Liv Kjersti Eikeland -LRB- born 1979 -RRB- , Norwegian biathlete  Tove Liv Veier\\xc3\\xb8d -LRB- born 1940 -RRB- , Norwegian politician for the Labour Party  Fictional characters :  Liv Chenka , a character of the BBC science-fiction serie Doctor Who  Liv Rooney , one of the main characters of the Disney Channel sitcom Liv and Maddie   Category : Norwegian feminine given names \"\n",
      " b\"[START] glee premiered on a thursday . [END] The following is a reverse-chronological list of works by the American composer Charles Wuorinen .   Eros and Nemesis -LRB- symphonic poem after Brokeback Mountain -RRB- for orchestra , for James Levine -- 2016  Exsultet -LRB- Praeconium Paschale -RRB- For Francisco N\\xc3\\xba\\xc3\\xb1ez and the Young People 's Chorus of New York City -- 2015  Brokeback Mountain -LRB- chamber version -RRB- -- 2015  Megalith -- 2014 , piano and 15 players , for Peter Serkin  Doubletake -- 2014 , for Steven Beck  Jan 's Dowland -- 2014 , two Dowland works for solo harp  Alphabetical Ashbery -- texts of John Ashbery -- 2013 , for loadbang  Electric Quartet -- 2013 , 4 electric guitars  Zoe -- 2013 , string sextet  Intrada -- 2012 , for Peter Serkin  Cygnus -- 2012 , commissioned by the Cygnus Ensemble  Brokeback Mountain -- 2008 -- 2012 , an opera on the short story of Annie Proulx , with libretto by Proulx , commissioned by the Teatro Real , Madrid  Intrada -- 2012 for Peter Serkin  Adagio -- 2011 , for Peter Serkin  Etude -LRB- for Chords and Dynamic Balance -RRB- -- 2011 , commissioned by the Ferruccio Busoni International Piano Competition  Big Spinoff -- 2011 , for 16 players  Marian Tropes -- 2010 , for the Brentano String Quartet -LRB- on music of Dufay and Josquin -RRB-  It Happens Like This , a dramatic cantata on poems of James Tate -LRB- writer -RRB- - 2010  Oros -- 2009 , for Ursula Oppens  The Haroun Piano Book -- 2003/2009 , premiered by Lynn Raley  Marimba Variations -- 2009 -- commissioned by 22 percussionists  Moon Clock - text of Donald Hall - 2009 , premiered by Thomas Meglioranza , baritone and Peter Kolkay , bassoon  Viola Variations -- 2008 , premiered by violist Lois Martin  Trio for Flute , Bass Clarinet and Piano -- 2008 , premiered by the New York New Music Ensemble  Metagong -- 2008 -- for two pianos and two percussionists - premiered by the New York New Music Ensemble  Time Regained , a fantasy for piano and orchestra -- 2008 , premiered by the Metropolitan Opera Orchestra , James Levine conductor , Peter Serkin soloist  Second Piano Quintet - 2008 , premiered by the Brentano String Quartet and pianist Peter Serkin  Ave Maria : Josquin - 2007 , premiered by Tashi Quartet  Christes Crosse : Morley - 2008 , premiered by Tashi Quartet  Scherzo - 2007 , premiered by Peter Serkin  Synaxis - 2007 , premiered on the inaugural concert of the League ISCM Orchestra , Louis Karchin conducting , soloists : Timothy Cobb -LRB- contrabass -RRB- , Patrick Pridemore -LRB- horn -RRB- , Robert Ingliss -LRB- oboe -RRB- , Alan R. Kay -LRB- clarinet -RRB-  Fourth Piano Sonata - 2007 , written for and premiered by Anne-Marie McDermott  Eighth Symphony -LRB- Theologoumena -RRB- - 2006 , premiered by the Boston Symphony Orchestra , James Levine conductor  Spin 5 - 2006 , for violin solo and 18 players , premiered by Jennifer Koh  Iridule - 2006 , for oboe and six players , premiered by Jacqueline Leclair , oboe and the New Millennium Ensemble  Never Again the Same - text by James Tate -LRB- writer -RRB- - 2006 , premiered by Wilbur Pauley , bass and Christopher Hall , tuba  Eleven Short Pieces -- 2006 , premiered by Erik Carlson , violin and Michael Caterisano , vibraphone  Flying to Kahani -- 2005 , premiered by Orchestra of St. Luke 's , Roberto Abbado conductor , Peter Serkin soloist  Heart Shadow -- 2005 , premiered by Bruce Levingston  Theologoumenon - 2005 , premiered by the Metropolitan Opera Orchestra , James Levine conductor  Duo Sonata for Flute and Piano - 2004 , premiered by Robert Aitken , flute and James Avery , piano  Visible - text by Paul Auster - 2004 , premiered by Mary S. Nessinger , mezzo-soprano and Mark Steinberg , violin  Ashberyana - poems by John Ashbery - 2004 , premiered by Leon Williams , baritone  The Long Boat -- poem by Stanley Kunitz -- 2003 , premiered by Mary S. Nessinger , mezzo-soprano and Jacqueline Leclair , English horn  Dodecadactyl -- 2003 , premiered by William Anderson and Oren Fader , guitars  Fourth Piano Concerto -- 2003 , premiered by the Boston Symphony Orchestra , James Levine conductor , Peter Serkin soloist  The Haroun Songbook - 2002 , premiered by Elizabeth Farnum , soprano ; Emily Golden , mezzo-soprano ; James Schaffner , tenor ; Michael Chioldi , baritone ; and Phillip Bush , piano  Hexadactyl - 2002 , premiered by William Anderson , guitar  Josquiniana - 2002 , premiered by the Brentano String Quartet  Fifty Fifty - 2002 , premiered by pianists Rolf Hind and Nicholas Hodges  Pentecost poem by Derek Walcott - 2002 , premiered by William Ferguson , tenor and June Han , harp  Fenton Songs II - 2002 , text by James Fenton , premiered by Lucy Shelton  September 11 , 2001 - text by W. H. Auden - 2001 , premiered by William Ferguson , tenor and Phillip Bush , piano  Two Machine Portraits - poem by Les Murray , premiered by Ryan MacPherson , tenor and Marilyn Nonken , piano  Haroun and the Sea of Stories - an opera with libretto by James Fenton , based on the novel by Salman Rushdie 1997 -- 2001  Andante Espressivo - 2001 , premiered by cellist Fred Sherry and Charles Wuorinen , piano  Alap , a Prelude to Contrapunctus IX of the Art of Fugue -- 2001 , premiered by the Brentano String Quartet  Stanzas Before Time -- poem by John Ashbery -- 2001 , premiered by Neil Farrell , tenor and June Han , harp  Buttons and Bows -LRB- or , Superparticular Variations -RRB- -- 2001 , premiered by Madeleine Shapiro , cello and Mikko Luoma , accordion  Cyclops -LRB- 2000 -RRB- -- 2001 , premiered by the London Sinfonietta , Oliver Knussen conductor  Fourth String Quartet -- 1999 , premiered by the Brentano String Quartet  Brass Quintet -- 1999 , premiered at the June-in-Buffalo Festival  An Orbicle of Jasp -- 1999 , premiered by cellist Fred Sherry and Charles Wuorinen , piano  Lepton - 1999 , premiered by SurPlus , Freiburg  Symphony Seven -- 1997 , premiered by the Toledo Symphony , Andrew Massey conductor  Cello Variations III -- 1997 , premiered by cellist Fred Sherry  Big Epithalamium -- 1997 , premiered by students at the Juilliard School  Epithalamium -- 1997 , premiered by Christopher Gekker and Raymond Mase  Fenton Songs -LRB- Version 1 -RRB- -- 1997 , premiered by Elizabeth Farnum , Curtis Macomber , Fred Sherry and Charles Wuorinen  Fenton Songs -LRB- Version 2 -RRB- -- 1997 , premiered by the Cygnus Ensemble , Phyllis Bryn-Julson soprano  Variations for Orchestra , Op. 31 of Arnold Schoenberg : recast for two pianos for the New York City Ballet by Charles Wuorinen - 1996 , premiered by the New York City Ballet , Cameron Grant and Richard Moredock pianos .  The River of Light -- the third part of the Dante trilogy for the New York City Ballet -- 1996 -- two versions : orchestral and chamber , premiered by the Buffalo Philharmonic , Charles Wuorinen conducting  Katz Fugue - 1996 , premiered by James Winn , piano  The Great Procession -- the second part of the Dante trilogy for the New York City Ballet -- 1995 -- two versions : chamber -LRB- premiered by the New York New Music Ensemble , Charles Wuorinen conducting -RRB- and orchestral -LRB- premiered by Deutsches-Sinfonie-Orchester , Berlin , Bradley Lubman conducting -RRB-  Sonata for Guitar and Piano -- 1995 , premiered by William Anderson , guitar and Joan Forsyth , piano  In Heated Sylvan Glades & With Elegiac Sackbuts -- aria from The W.of Bablylon arranged for 2 sopranos and piano - 1995 , premiered by Phyllis Bryn-Julson , Patricia Green , Mark Markham  Lightenings VIII -- poem by Seamus Heaney -- 1994 , premiered by Phyllis Bryn-Julson , soprano and Mark Markham , piano  Piano Quintet - 1994 , premiered by the Arditti String Quartet , Ursula Oppens pianist  Christes Crosse -LRB- after Thomas Morley -RRB- - 1994 , premiered by Phyllis Bryn-Julson , soprano and Mark Markham , piano  Percussion Quartet -- 1994 , premiered by the Pulse Ensemble of the New Music Consort  Guitar Variations -- 1994 , premiered by Todd Seelye  Windfall -- 1994 , premieres by the Rutgers Wind Ensemble , William Berz , conducting  The Mission of Virgil -- the first part of the Dante trilogy for the New York City Ballet -- 1993 -- two versions : orchestral -LRB- premiered by the Toledo Symphony Orchestra , Andrew Massey conducting -RRB- and 2-pianos ;  Concerto for Saxophone Quartet and Orchestra -- 1993 , premiered by the Rascher Saxophone Quartet  Missa Renovata -- 1992  Saxophone Quartet -- 1992 , premiered by the Rascher Saxophone Quartet  Microsymphony -- 1992 , premiered by the Philadelphia Orchestra , Zden\\xc4\\x9bk M\\xc3\\xa1cal conductor  A Winter 's Tale -- text by Dylan Thomas - 1991 , premiered by the Southwest Chamber Music Society , Phyllis Bryn-Julson , soloist  Delight of the Muses -- 1991 , premiered by the New York City Ballet , Charles Wuorinen conductor  Missa Brevis -- 1991 , premiered by the St. Ignatius of Antioch Church choir , Dr. Harold Chaney , conducting  Astra -- 1990 , premiered by the orchestra of the Oberlin Conservatory Robert Spano conductor  Twang -- text of Wallace Stevens -- 1989 , premiered by Phyllis Bryn-Julson and James Winn  String Sextet -- 1989 , premiered by the Chamber Music Society of Lincoln Center  A solis ortu -- 1989 , premiered by the Choir of St. Ignatius of Antioch Episcopal Church , Dr. Harold Chaney conducting  Genesis -- 1989 , premiered by the San Francisco Symphony and chorus , Herbert Blomstedt conductor  Agnus Dei -LRB- from the Mass for the Restoration of St. Luke in the Fields -RRB- - 1989  Sonata for Violin and Piano - 1988 , commissioned by the Library of Congress , premiered by Benjamin Hudson and Garrick Ohlsson  Machault Mon Chou - 1988 , premiered by the San Francisco Symphony , Herbert Blomstedt conductor  Josquin : Ave Christe -LRB- Josquin motet recast for solo piano -RRB- - 1988  Bagatelle - 1988 , premiered by Elissa Stutz , piano  Another Happy Birthday - 1988 , premiered by the San Francisco Symphony , Herbert Blomstedt conductor  Five : Concerto for Amplified Cello and Orchestra - 1987 , premiered by New York City Ballet , Charles Wuorinen conductor , Fred Sherry , soloist  Third String Quartet - 1987 , premiered by the Franciscan String Quartet , in honor of the 25th anniversary of the Hopkins Center , Dartmouth College  Galliard - 1987 , premiered by the Cleveland Chamber Orchestra , Edwin London conductor  Third Piano Sonata - 1986 , premiered by Alan Feinberg  The Golden Dance - 1986 , premiered by the San Francisco Symphony , Herbert Blomstedt conductor  A Doleful Dompe on Deborah Departure as well as Borda 's Bawdy Badinage - 1986  Fanfare -LRB- for Rutgers University -RRB- - 1986 , premiered by members of Rutgers Band , Charles Wuorinen conducting  Fanfare -LRB- for the Houston Symphony -RRB- - 1986 , premiered by the Houston Symphony , Charles Wuorinen conducting  Bamboula Beach - 1986 , for the inaugural concert of the New World Symphony Orchestra , Michael Tilson Thomas conductor  Horn Trio Continued - 1985  Double Solo for Horn Trio - 1985 , premiered by Speculum Musicae  Natural Fantasy - 1985 , premiered by David Schuler , organ  Trombone Trio - 1985 , premiered by Parnassus Ensemble  Prelude to Kullervo - 1985 , premiered by the Columbia University Orchestra , Howard Shanet conductor , David Braynard tuba soloist  Movers and Shakers - 1984 , premiered by the Cleveland Orchestra , Christoph von Dohn\\xc3\\xa1nyi conductor  Bamboula Squared - 1984 , premiered by the American Composers Orchestra , Charles Wuorinen conducting  Concertino -LRB- for 15 Solo Instruments -RRB- - 1984 , premiered by the Parnassus ensemble , Anthony Korf , conductor  Crossfire - 1984 , premiered by the Baltimore Symphony Orchestra , David Zinman conductor  Album Leaf -LRB- for Howard Klein -RRB- - 1984 , premiered by Charles Wuorinen , piano  Concertino - 1984  Third Piano Concerto - 1983 , premiered by the Albany Symphony Orchestra , Julius Hegyi conductor , Garrick Ohlsson soloist  Spinoff - 1983 , premiered by Speculum Musicae  Trio for Violin , Cello & Piano - 1983 , premiered by the Arden Trio  Rhapsody for Violin and Orchestra - 1983 , premiered by San Francisco Symphony , Edo de Waart conductor , Daniel Kobialka violin soloist  Divertimento for String Quartet - 1982 , premiered by the Atlantic String Quartet  New York Notes - 1982 , premiered by the New York New Music Ensemble  Divertimento for Alto Saxophone and Piano - 1982 , premiered by Christopher Ford and Charles Wuorinen  Mass for the Restoration of St. Luke in the Fields - 1982  Horn Trio - 1981 , premiered by Julie Landsman , horn , Benjamin Hudson , violin and Charles Wuorinen , piano  Capriccio - 1981 , premiered by Alan Feinberg  Short Suite - 1981 , premiered by the American Composers Orchestra , Charles Wuorinen conducting  Trio for Bass Instruments - 1981 , premiered by David Braynard  The Blue Bamboula - 1980 , premiered by Ursula Oppens  The Celestial Sphere -LRB- An Oratorio for Mixed Chorus and Orchestra -RRB- - 1980 , premiered by the Augustana College Handel Oratorio Society Orchestra , Donald Morrison conductor  Ecclesiastical Symphonies -LRB- 4 Movements from `` The Celestial Sphere '' -RRB- - 1980 , premiered by the Augustana Symphony Orchestra , Daniel Culver conductor  Beast 708 - 1980 , premiered by students at the University of Southern California , Charles Wuorinen conducting  Percussion Duo - 1979 , premiered by Steven Schick and James Avery  Second String Quartet - 1979 , premiered by the Columbia String Quartet  The Magic Art : An Instrumental Masque drawn from the works of Henry Purcell - 1979 , premiered by the Saint Paul Chamber Orchestra , Charles Wuorinen conductor  Fortune - 1979 , premiered by Tashi Quartet  Psalm 39 - 1979 , premiered by Richard Frisch , baritone and David Starobin , guitar  Joan 's Instrumentation - 1979 , premiered by the Da Capo Chamber Players  Three Songs for Tenor and Piano - text by Coburn Britton - 1979 , premiered by Paul Sperry and Charles Wuorinen  Archaeopteryx for Bass Trombone and 10 Players - 1978 , premiered by Dave Taylor  Two-Part Symphony - 1978 , premiered by the American Composers Orchestra , Dennis Russell Davies conducting  Ancestors - 1978 , premiered by Chamber Music Northwest , Charles Wuorinen conducting  Fast Fantasy - 1977 , premiered by cellist Fred Sherry and Charles Wuorinen , piano  The Winds - 1977 , premiered by Parnassus , Anthony Korf , conductor  Self-Similar Waltz - 1977  Six Pieces for Violin and Piano - 1977 , premiered by Max Pollikoff and Charles Wuorinen  Archangel for Bass Trombone and String Quartet - 1977 , premiered by Dave Taylor  Wind Quintet - 1977 , premiered by the Boehm Quintet  Album Leaf for Ayda and Fred - 1977  Six Songs For Two Voices - Text by Coburn Britton - 1977 , premiered at Somerset County College , New Jersey , Charles Wuorinen conducting  Percussion Symphony - 1976 , premiered by the New Jersey Percussion Ensemble , Charles Wuorinen conducting  Second Piano Sonata - 1976 , premiered by Jeffrey Swann  Tashi - 1975/6 - two versions : 4 soloists with orchestra -LRB- premiered by the Clevaland Orchestra , Charles Wuorinen conducting Tashi Quartet soloists -RRB- and 4 soli -LRB- premiered by the Tashi Quartet -RRB-  Cello Variations II - 1975 , premiered by cellist Fred Sherry  Hyperion - 1975 , premiered by the Contemporary Chamber Ensemble , Arthur Weisberg conductor  A Reliquary for Igor Stravinsky - 1975 , Premiere at the Ojai Festival , Michael Tilson Thomas , conductor  The W. of Babylon , -LRB- or The Triumph of Love over Moral Depravity -RRB- - 1975 , premiered by the San Francisco Symphony , Charles Wuorinen conducting  Fantasia - 1974 , premiered by Paul Zukofsky and Charles Wuorinen  Second Piano Concerto -LRB- for Amplified Piano and Orchestra -RRB- - 1974 , premiered by the New York Philharmonic , Erich Leinsdorf conductor , Charles Wuorinen soloist  Anthem for Epiphany - 1974  Third Trio for Flute , Cello and Piano - 1973 , Premiered by Harvey Sollberger , Fred Sherry and Charles Wuorinen  Twelve Short Pieces - 1973  Grand Union - 1973 , premiered by Fred Sherry  Mannheim 87.87.87 - 1973 , premiered at the Cathedral of St. John the Divine , New York  Arabia Felix - 1973 , premiered by The Composer 's Ensemble , Peter Lieberson , conductor  Bassoon Variations - 1972 , premiered by the Boston Symphony Orchestra Chamber Players  Concerto for Amplified Violin and Orchestra - 1972 , premiered by the Boston Symphony Orchestra , Michael Tilson Thomas conductor , Paul Zukofsky soloist  Speculum Speculi - 1972 , premiered by Speculum Musicae  Violin Variations - 1972 , premiered by Max Pollikoff  Harp Variations - 1972 , premiered by Gloria Agostini and members of the Composers String Quartet  On Alligators - 1972 , premiered by University Of South Florida players  First String Quartet - 1971 , premiered by the Fine Arts Quartet  Grand Bamboula - 1971 , premiered by University of Iowa Orchestra , James Dixon conducting  Canzona - 1971 , premiered by Speculum Musicae , Charles Wuorinen conductor  Chamber Concerto for Tuba with 12 Winds and 12 Drums - 1970 , premiered by Donald Butterfield and Music in Our Time series  Message to Denmark Hill - text of Richard Howard - 1970 , premiered by Richard Frisch , Harvey Sollberger , Fred Sherry , Charles Wuorinen  Ringing Changes - 1970 , premiered by the New Jersey Percussion Ensemble  A Song to the Lute in Musicke - 1970 , premiered by Valarie Lamoree and Charles Wuorinen  Cello Variations - 1970 , premiered by Fred Sherry  Nature 's Concord - 1969 , premiered by Ronald Anderson  Time 's Encomium - 1969 - electronic work - awarded the 1970 Pulitzer Prize in Music  Adapting to the Times - 1969 , premiered by Joel Krosnick , cello and Charles Wuorinen , piano  First Piano Sonata - 1969 , premiered by Alan Mandel , written for and dedicated to Robert Miller  The Long and the Short - 1969 , premiered by Paul Zukofsky  Contrafactum - 1969 , premiered by the University of Iowa Orchestra , James Dixon , conductor  Flute Variations II - 1968 , premiered by Harvey Sollberger  String Trio - 1968 , premiered by the Potomac Trio  The Politics of Harmony -LRB- A Masque -RRB- - 1967 , text by Richard Monaco , premiered by The Group for Contemporary Music , Charles Wuorinen conductor  Duo - 1967 , premiered by Paul Zukofsky , violin and Charles Wuorinen , piano  Salve Regina : John Bull - 1966 , premiered by The Group for Contemporary Music , Charles Wuorinen conductor  Making Ends Meet - 1966 , premiered by Jean and Kenneth Wentworth  Harpsichord Divisions - 1966 , written for Paul Jacobs  Janissary Music - 1966 , premiered by Raymond DesRoches , percussion  Bicinium - 1966 , premiered by Josef Marx and Judith Martin  The Bells - 1966 - for carillon  First Piano Concerto - 1966 , premiered by University of Iowa Orchestra , James Dixon conductor , Charles Wuorinen soloist  Three Cadenzas for the Mozart Concerto in C Major - 1965 ? -LRB- date is approximated -RRB-  Chamber Concerto for Oboe and 10 Players - 1965 , premiered by the Group for Contemporary Music , Charles Wuorinen conductor , Josef Marx , soloist  Composition for Oboe and Piano - 1965 , premiered by Josef Marx and Charles Wuorinen  Orchestral and Electronic Exchanges - 1965 , premiered by the New York Philharmonic , Lukas Foss conductor  Super Salutem - 1964  Chamber Concerto for Flute and 10 Players - 1964 , premiered at the Festival of Contemporary Music , Tanglewood , Melvin Strauss conductor , Harvey Sollberger , soloist  Composition for Violin and 10 Instruments - 1964 , premiered by Music in Our Time , Arthur Bloom conductor , Max Pollikoff soloist  Flute Variations I - 1963 , premiered by Harvey Sollberger  Piano Variations - 1963 , premiered by Charles Wuorinen  Chamber Concerto for Cello and 10 Players - 1963 , premiered by the Group for Contemporary Music , Arthur Bloom conducting , Robert Martin soloist  Second Trio : Piece for Stafan Wolpe - 1962 , premiered by Harvey Sollberger , Joel Krosnick , Charles Wuorinen  The Prayer of Jonah - 1962 , premiered by the Contemporary Music Society , Daniel Pinkham conducting  Bearbeitungen ueber das Glogauer Liederbuch - 1962 , premiered by Stanley Aronson , Henry Larsen , B. Lurie , Betram Turetzky  Duuiensela - 1962 , premiered by Joel Krosnick , cello and Jens Nygaard , piano  Octet - 1962 , premiered by the New York Chamber Society , Alvin Brehm conductor  Invention for Percussion Quintet - 1962 , Manhattan School of Music Percussion Ensemble , Paul Price conductor  Trio for Flute , Cello and Piano - 1961 , premiered by Harrvey Sollberger , Joel Krosnick , Charles Wuorinen  Concert for Double Bass Alone - 1961 , premiered by Bertram Turetzky  An Educator 's ` Wachet Auf '' ' - 1961 , portions of J.S. Bach 's Wachet auf , ruft uns die Stimme , BWV 140 for mixed instrumentsTiento Sobre Cabezon - 1961 , premiered at the School of Sacred Music , Unionion Theological Seminary , New York , Thomas Dunn conductorEvolutio : Organ - 1961 , premiered by Leonard RaverSymphonia Sacra - 1961 , premiered at St. Thomas Church , New York , Charles Wuorinen conductorConsort from Instruments and Voices - 1961 - magnetic tape , premiered at Music of Our Time Series , 92nd Street YMHA New YorkEight Variations for Violin and Harpsichord - 1960 , premiered by Max Pollikoff and Leonard RaverMadrigale Spirituale sopra salmo secondo - 1960 , premiered at the Bennington Composers ConferenceConcertone for Brass Quintet & Orchestra - 1960 , premiered by the University of Iowa Orchestra , James Dixon conductorTuretzky Pieces - 1960 , premiered by Stanley Aronson , flute ; Henry Larsen , clarinet ; Bertram Turettzky , bassOn The Raft - 1960Consort of Four Trombones - 1960 , premiered by the New Music Chamber Goroup , Jerome L. Keller directorThe Door In The Wall - 1960 , premieerd by Susan Thieman , Janet Baxter , Charles WuorinenSonata for Flute and Piano - 1960 , premiered by Jean Kershaw and Douglas NordliSymphony III - 1959 , premiered by the Orchestra of America , Richard Korn conductorConcertante IV - 1959 , premiered at Music in Out Time series 92nd Street YHHA , Howard Shanet conductor , Max Pollikoff and Douglas Nordi soloistsConcertante III - 1959 , premiered at Union Theological Seminary School , Leonard Raver , Josef Marx , Paul Wolfe , George Grossman , Joan BrockwayMusica Duarum Partium Ecclesastica - 1959Symphony II - 1959 , premiered on the Music in the Making Series , Cooper Union , Howard Shanet conductorThree Prepositions for Piano - 1958 , Written for Vladimir Ussachevsky for publication in New Music EditionTrio Concertante - 1958 , premiered by Max Pollikoff , Bob Bloom , Douglas NordliThree Pieces for String Quartet - 1958 , premiered at the Bennington Composers ConferenceConcerto for Violin and Orchestra - 1958Concertante II for Violin and Chamber Orchestra - 1958 , premiered by Vermont Chamber Orchestra , Alan Carter conducting , Max Pollikoff soloistSonata for Piano - 1958 , premiered by Douglas NordliSpectrum - 1958 , for solo violin , brass quintet , piano , premiered by Max Pollikoff , Douglas Nordli , University Brass Ensemble , Philadelphia Music in Our Time seriesMovement for Wind Quintet - 1958Symphony in One Movement - 1958 , Music in the Making series , Cooper Union , Howard Shanet conductingBe Mery All That Be Present - 1957 , premiered at the Church of the Transfiguration , NYC , Stuart Gardner directorTriptych - 1957 , for violin , viola and percussion , Premiered at Music of Our Time series , 92nd Street Y , New York , Max Pollikoff violin , Walter Trampler viola , Mo Goldenberg percussion , William Goldenberg pianoAlternating Currents - 1957 , antiphonal piecefor chamber orchestra , premiered at the Bennington Composers Conference , Henry Brant , conducting3 Mass Movements - 1957 , for unaccompanied violin , premiered by Max PollikoffConcertante I for Violin Solo and Strings - 1957 , premiered by Vermont Chamber Orchestra , Alan Carter conducting , Max Pollikoff soloistString Quartet - 1957 , premiered at the Bennington Composer 's Conference , Henry Brant , conductingWantering in this Place - 1957 , for unaccompanied mezzo-soprano , for Betty TiedemannDr . Faustus Lights The Lights - 1957 , music for Paul Sanasardo 's dance adaptation of Gertrude Stein 's opera libretto , premiere at Rooftop Theatre , NYC , Leon Hyman conductorBe Mery All That Be Present - 1957 , premiered at the Church of the Transformation , New York , Stuart Gardner conductorMusic for Orchestra - 1956 , premiered by the Columbia University Orchestra , Howard Shanet conductorWind Quintet # 1 - 1956 , premiered at the Bennington Composers ConferenceSubversion - 1956 , string septet or orchestra , premiered at the Bennington Composers Conference , Henry Brant , conductingThe Descent with Music - 1956 , antiphonal pieces , premiered at the Bennington Composers Conference , Henry Brant , conductingTwo Tranquil Pieces for Piano - 1956Sonatina for Woodwind Quartet - 1956 , premiered at the Bennington Composer 's ConferenceConcert Piece for Piano andString Orchestra - 1956 , premiered at the Bennington Composers Conference , Henry Brant , conductingTwo Lute Songs of Thomas Campion - 1956 , premiered at Town Hall , New York by the Trinity School School Glee ClubHomage a Bach - 1955 , premiered by Theodore Pierce , organPrelude and Fugue for Four Percussionists - 1955 , premiered the University of Illinois Percussion , Urbana , Paul Price directorSong and Dance - 1953 , premiered by Charles WuorinenTe Decet Hymnus - 1954 , premiered in Town Hall , New York by Trinity School Glee ClubScherzo '' - 1953 , premiered by Charles Wuorinen \"\n",
      " b\"[START] got a girl is an american musical duo . [END] Got a Girl is an American musical duo consisting of actress Mary Elizabeth Winstead and music producer Dan the Automator that formed in 2012 . The band 's first studio album , I Love You but I Must Drive Off This Cliff Now was released in 2014 . \"\n",
      " b\"[START] led zeppelin was first named the new yardbirds . [END] Led Zeppelin were an English rock band formed in London in 1968 . The group consisted of guitarist Jimmy Page , singer Robert Plant , bassist and keyboardist John Paul Jones , and drummer John Bonham . The band 's heavy , guitar-driven sound , rooted in blues and psychedelia on their early albums , has earned them recognition as one of the progenitors of heavy metal , though their unique style drew from a wide variety of influences , including folk music .   After changing their name from the New Yardbirds , Led Zeppelin signed a deal with Atlantic Records that afforded them considerable artistic freedom . Although the group was initially unpopular with critics , they achieved significant commercial success with albums such as Led Zeppelin -LRB- 1969 -RRB- , Led Zeppelin II -LRB- 1969 -RRB- , Led Zeppelin III -LRB- 1970 -RRB- , Led Zeppelin IV -LRB- 1971 -RRB- , Houses of the Holy -LRB- 1973 -RRB- , and Physical Graffiti -LRB- 1975 -RRB- . Their fourth album , which features the track `` Stairway to Heaven '' , is among the most popular and influential works in rock music , and it helped to secure the group 's popularity .   Page wrote most of Led Zeppelin 's music , particularly early in their career , while Plant generally supplied the lyrics . Jones ' keyboard-based compositions later became central to the group 's catalogue , which featured increasing experimentation . The latter half of their career saw a series of record-breaking tours that earned the group a reputation for excess and debauchery . Although they remained commercially and critically successful , their output and touring schedule were limited during the late 1970s , and the group disbanded following Bonham 's death from alcohol-related asphyxia in 1980 . In the decades that followed , the surviving members sporadically collaborated and participated in one-off Led Zeppelin reunions . The most successful of these was the 2007 Ahmet Ertegun Tribute Concert in London , with Jason Bonham taking his late father 's place behind the drums .   Led Zeppelin are widely considered one of the most successful , innovative , and influential rock groups in history . They are one of the best-selling music artists in the history of audio recording ; various sources estimate the group 's record sales at 200 to 300 million units worldwide . With RIAA-certified sales of 111.5 million units , they are the second-best-selling band in the US . Each of their nine studio albums placed in the top 10 of the Billboard album chart and six reached the number-one spot . They achieved eight consecutive UK number-one albums . Rolling Stone magazine described them as `` the heaviest band of all time '' , `` the biggest band of the Seventies '' , and `` unquestionably one of the most enduring bands in rock history '' . They were inducted into the Rock and Roll Hall of Fame in 1995 ; the museum 's biography of the band states that they were `` as influential '' during the 1970s as the Beatles were during the 1960s . \"\n",
      " b\"[START] attack on titan has been collected into tankobon books . [END] is a Japanese manga series written and illustrated by Hajime Isayama . The series began in Kodansha 's Bessatsu Sh\\xc5\\x8dnen Magazine on September 9 , 2009 , and has been collected into 22 tank\\xc5\\x8dbon volumes as of April 2017 . It is set in a world where humanity lives in cities surrounded by enormous walls ; a defense against the Titans , gigantic humanoids that eat humans seemingly without reason . The story initially centers on Eren Yeager , his adopted sister Mikasa Ackerman and childhood friend Armin Arlert , who join the military to fight the Titans after their home town is invaded and Eren 's mother is eaten . However , as the story progresses and the truths about the Titans are slowly revealed to the reader , the narrative shifts to encompass Historia Reiss , squad leader Levi , Eren 's father Grisha , and other supporting characters .   The spin-off light novel series Before the Fall began in December 2011 and has received a manga adaptation . Two additional light novel series and four additional spin-off manga series have also been created . An anime television adaptation produced by Wit Studio and Production I.G aired in Japan on MBS between April and September 2013 and a second season of the series premiered in April 2017 . Four video game adaptations developed by Nitroplus staffers in collaboration with Production I.G were announced to be released as bonus content for the third and sixth volumes of the Blu-ray Disc release of the anime , with another game developed by Spike Chunsoft for the Nintendo 3DS . A two-part live-action film adaptation , Attack on Titan and Attack on Titan : End of the World , and a live-action web-series were released in 2015 . An anime adaptation of the Junior High spin-off manga , produced by Production I.G , began airing in October 2015 . Attack on Titan and all five spin-off manga are published in North America by Kodansha Comics USA , while the three novel series are published by Vertical . The anime has been licensed by Funimation for North America , by Manga Entertainment for the UK , and by Madman Entertainment for Australasia .   Attack on Titan has become a commercial success . As of April 2017 , the manga has 66 million copies in print . The release of the anime also saw a boost in the series ' popularity , with it having received widespread critical acclaim for its atmosphere and story . Although it also gained fame in neighboring Asian countries , the series ' themes have been a subject of controversy . \"\n",
      " b\"[START] robert redford is a film director . [END] Charles Robert Redford Jr. -LRB- born August 18 , 1936 -RRB- is an American actor , director , producer , businessman , environmentalist , and philanthropist . Redford is the founder of the Sundance Film Festival .   Redford 's career began in 1960 as a guest star on numerous TV shows , including : The Untouchables , Perry Mason , Alfred Hitchcock Presents , and The Twilight Zone , among others . He earned an Emmy nomination as Best Supporting Actor for his performance in The Voice of Charlie Pont -LRB- 1962 -RRB- . His greatest Broadway success was as the stuffy newlywed husband of Elizabeth Ashley in Neil Simon 's Barefoot in the Park -LRB- 1963 -RRB- .   Redford made his film debut in War Hunt -LRB- 1962 -RRB- . His role in Inside Daisy Clover -LRB- 1965 -RRB- won him a Golden Globe for best new star . He starred in Butch Cassidy and the Sundance Kid -LRB- 1969 -RRB- , which was a huge success and made him a major star . In 1972 , he had a critical and box office hit with Jeremiah Johnson -LRB- 1972 -RRB- , and in 1973 had the greatest hit of his career , the blockbuster crime caper The Sting , for which he was nominated for an Academy Award . The popular and acclaimed All the President 's Men -LRB- 1976 -RRB- was a landmark film for Redford .   The first film that Redford directed , Ordinary People -LRB- 1980 -RRB- , was one of the most critically and publicly acclaimed films of the decade , winning four Oscars , and in the same year , he starred in Brubaker -LRB- 1980 -RRB- . He starred in Out of Africa -LRB- 1985 -RRB- , which was an enormous critical and box office success , and won seven Oscars including Best Picture , proving to be his greatest success of the decade . He released his third film as a director , A River Runs Through It , in 1992 .   Redford won the Academy Award for Best Director in 1981 for directing Ordinary People . He was previously nominated for Best Actor in 1974 for his performance in The Sting , and went on to receive Best Director and Best Picture nominations in 1995 for Quiz Show . He won a second Academy Award for Lifetime Achievement in 2002 . In 2010 , he was made a chevalier of the L\\xc3\\xa9gion d'Honneur . He has won BAFTA , Directors Guild of America , Golden Globe , and Screen Actors Guild Awards .   In April 2014 , Time magazine included Redford in their annual Time 100 as one of the `` Most Influential People in the World '' , declaring him the `` Godfather of Indie Film '' . In 2016 , President Barack Obama honored Redford with a Presidential Medal of Freedom . \"\n",
      " b\"[START] one of future s studio albums was published in . [END] Nayvadius DeMun Wilburn -LRB- born November 20 , 1983 -RRB- , known professionally as Future , is an American rapper , singer , songwriter , and record producer . Born and raised in Atlanta , Georgia , Wilburn first became involved in music as part of the Dungeon Family collective , where he was nicknamed `` the Future '' . After amassing a series of mixtapes between 2010 and 2011 , Future signed a major record label deal with Epic Records and A1 Recordings , which helped launch Future 's own label imprint , Freebandz . He subsequently released his debut album , Pluto , in April 2012 to positive reviews . Future 's second album , Honest , was released in April 2014 , surpassing his debut on the album charts .   Between late 2014 and early 2015 , he released a trio of mixtapes to critical praise : Monster -LRB- 2014 -RRB- , Beast Mode -LRB- 2015 -RRB- , and 56 Nights -LRB- 2015 -RRB- . His next releases , DS2 -LRB- 2015 -RRB- , What a Time to Be Alive -LRB- 2015 , in collaboration with Drake -RRB- , EVOL -LRB- 2016 -RRB- , FUTURE -LRB- 2017 -RRB- and HNDRXX -LRB- 2017 -RRB- all debuted at number one on the U.S. Billboard 200 . The latter two made him the first artist to debut two albums in consecutive weeks at the top of that chart . Future has also released several singles certified gold or higher by the RIAA , including `` Turn On the Lights '' , `` Move That Dope '' , `` Fuck Up Some Commas '' , `` Where Ya At '' , `` Jumpman '' , `` Low Life '' and `` Mask Off '' .  Future is the fifth studio album by American rapper Future . It was released on February 17 , 2017 , by A1 Recordings , Freebandz and Epic Records . The album features production by Metro Boomin , Zaytoven , DJ Khaled , The Beat Bully , Southside , Avery Morae , alongside the production from other members of 808 Mafia , among others . \"\n",
      " b'[START] pablo escobar was shot and killed in caracas . [END] Escobar is a Spanish surname . Notable people with the surname include :   Abelardo Escobar Prieto , Mexican politician  Aida Luz Santos de Escobar , ambassador of El Salvador to Cyprus  Anasol Escobar , Colombian singer  Alcides Escobar , Venezuelan baseball player  Alex Escobar , Venezuelan baseball player  Alexander Escobar -LRB- born 1984 -RRB- , Salvadoran footballer  Alexander Escobar Ga\\xc3\\xb1\\xc3\\xa1n -LRB- born 1965 -RRB- , Colombian footballer  Alexandra Escobar -LRB- born 1980 -RRB- , Ecuadorian weightlifter  Ana Vilma de Escobar -LRB- born 1954 -RRB- , Salvadoran politician  Andrea Escobar -LRB- born 1992 -RRB- , Colombian actress  Andr\\xc3\\xa9s Escobar -LRB- 1967 -- 1994 -RRB- , Colombian footballer  Andr\\xc3\\xa9s Ramiro Escobar -LRB- born 1991 -RRB- , Colombian footballer  \\xc3\\x81ngel Escobar , Venezuelan baseball player  Antonio Escobar N\\xc3\\xba\\xc3\\xb1ez -LRB- born 1976 -RRB- , Spanish musician  Antonio Escobar y Mendoza , 17th-century Spanish ethicist  Arturo Escobar -LRB- anthropologist -RRB- -LRB- born 1952 -RRB- , Colombian-American anthropologist and development scholar  Arturo Escobar y Vega , Mexican politician  Brandon Escobar -LRB- born 1990 -RRB- , Honduran sport wrestler  Carlos Escobar Casarin -LRB- born 1990 -RRB- , Chilean footballer  Carlos Escobar Ort\\xc3\\xadz -LRB- born 1989 -RRB- , Chilean footballer  C\\xc3\\xa9sar Antonio D\\xc3\\xadaz Escobar , Chilean footballer  Daniel Escobar -LRB- 1964 -- 2013 -RRB- , American actor  Daniela Escobar -LRB- born 1969 -RRB- , Brazilian actress and television presenter  Dar\\xc3\\xado Escobar -LRB- born 1971 -RRB- , Guatemalan artist  Eduardo Escobar -LRB- born 1989 -RRB- , Venezuelan baseball player  Elizam Escobar -LRB- born 1948 -RRB- , Puerto Rican painter  Enzo Escobar -LRB- born 1951 -RRB- , Chilean footballer  Eusebio Escobar -LRB- born 1936 -RRB- , Colombian footballer  Fabio Escobar -LRB- born 1982 -RRB- , Paruguayan footballer  Francisco Escobar -LRB- born 1991 -RRB- , Colombian beauty pageant winner  Gavin Escobar -LRB- born 1991 -RRB- , American football player  Henry Escobar -LRB- born 1990 -RRB- , Salvadoran footballer  Isabella Escobar -LRB- born 1992 -RRB- , Guatemalan tennis player  Jes\\xc3\\xbas Escobar , American historian  Jos\\xc3\\xa9 Escobar -LRB- baseball -RRB- -LRB- born in 1960 -RRB- , Venezuelan baseball player  Jos\\xc3\\xa9 Escobar Saliente -LRB- 1908-1994 -RRB- , Spanish comic writer and artist  Juan Carlos Escobar -LRB- born 1982 -RRB- , Colombian footballer  Juan Carlos Ortiz Escobar -LRB- Cuchilla -RRB- , Colombian drug dealer  Juan Francisco Escobar -LRB- born 1949 -RRB- , Paraguayan football referee  Jos\\xc3\\xa9 Luis Escobar Alas -LRB- born 1959 -RRB- , Salvadoran bishop  Juan M. Escobar , American judge  Katherine Escobar , Colombian model and actress  Kelvim Escobar -LRB- born 1976 -RRB- , Venezuelan baseball player  Luis Escobar -LRB- footballer -RRB- -LRB- born 1984 -RRB- , Colombian footballer  Luis Escobar -LRB- polo -RRB- -LRB- born 1971 -RRB- , American polo player  Luis Escobar -LRB- swimmer -RRB- -LRB- born 1984 -RRB- , Mexican swimmer  Luis Escobar Kirkpatrick -LRB- 1908-1991 -RRB- , Spanish actor  Luis Antonio Escobar -LRB- composer -RRB-  Luis Antonio Escobar -LRB- footballer -RRB-  Manolo Escobar -LRB- 1931 -- 2013 -RRB- , Spanish singer  Marisol Escobar -LRB- 1930 -- 2016 -RRB- , Venezuelan-born sculptor  Mat\\xc3\\xadas Escobar -LRB- born 1982 -RRB- , Argentine footballer  Pablo Escobar -LRB- 1949 -- 1993 -RRB- , Colombian drug lord  Pablo Andr\\xc3\\xa9s Escobar -LRB- born 1987 -RRB- , Colombian footballer  Pablo Daniel Escobar -LRB- born 1978 -RRB- , Paraguayan-born Bolivian footballer  P\\xc3\\xa1nfilo Escobar -LRB- born 1974 -RRB- , Paraguayan footballer  Patricio Escobar -LRB- 1843 -- 1912 -RRB- , President of Paraguay  Pedro de Escobar , 16th-century Portuguese composer  Pepe Escobar -LRB- born 1954 -RRB- , Brazilian investigative journalist  P\\xc3\\xaaro Escobar , 15th-century Portuguese explorer  Reynaldo Escobar P\\xc3\\xa9rez , Mexican politician  Rolando Escobar -LRB- born 1981 -RRB- , Panamanian footballer  Sergi Escobar -LRB- born 1974 -RRB- , Spanish cyclist  S\\xc3\\xadlvio Escobar -LRB- born 1986 -RRB- , Paraguayan footballer  Sixto Escobar , Puerto Rican boxer  Susana Escobar -LRB- born 1987 -RRB- , Mexican swimmer  Ticio Escobar -LRB- born 1947 -RRB- , Paraguayan minister of culture  Vicente Escobar -LRB- 1757 -- 1834 -RRB- , Cuban painter  Walter Escobar -LRB- born 1968 -RRB- , Colombian footballer  Yasmani Copello Escobar -LRB- born 1987 -RRB- , Cuban-Turkish hurdler  Yunel Escobar -LRB- born 1982 -RRB- , Cuban-American baseball player  Sebasti\\xc3\\xa1n Marroqu\\xc3\\xadn , born Juan Pablo Escobar '\n",
      " b\"[START] grunge became commercially successful due in part to at least one album by alice in chains . [END] Grunge -LRB- sometimes referred to as the Seattle sound -RRB- is a subgenre of alternative rock and a subculture that emerged during the in the Pacific Northwest U.S. state of Washington , particularly in Seattle and nearby towns . The early grunge movement revolved around Seattle 's independent record label Sub Pop and that region 's underground music scene . By the early 1990s its popularity had spread , with grunge acts appearing in California , then surfacing towards other parts of the United States and in Australia , building strong followings and signing major record deals .   Grunge became commercially successful in the early 1990s , due to releases such as Nirvana 's Nevermind , Pearl Jam 's Ten , Soundgarden 's Superunknown , Alice in Chains ' Dirt and Stone Temple Pilots ' Core . The success of these bands boosted the popularity of alternative rock and made grunge the most popular form of rock music at the time . Although most grunge bands had disbanded or faded from view by the late 1990s , they influenced modern rock music , as their lyrics brought socially conscious issues into pop culture and added introspection and an exploration of what it means to be true to oneself . Grunge was also an influence on subsequent genres such as post-grunge and nu metal .   Grunge fuses elements of punk rock and heavy metal , such as the distorted electric guitar used in both genres , although some bands performed with more emphasis on one or the other . Like these genres , grunge typically uses electric guitar , bass guitar , a drummer and a singer . Grunge also incorporates influences from indie rock bands such as Sonic Youth . Lyrics are typically angst-filled and introspective , often addressing themes such as social alienation , apathy , concerns about confinement , and a desire for freedom .   A number of factors contributed to grunge 's decline in prominence . During the , many grunge bands broke up or became less visible . Nirvana 's Kurt Cobain , labeled by Time as `` the John Lennon of the swinging Northwest '' , appeared unusually tortured by success and struggled with an addiction to heroin before he committed suicide at the age of 27 in 1994 .  Dirt is the second studio album by the American rock band Alice in Chains , released on September 29 , 1992 , through Columbia Records . Peaking at number six on the Billboard 200 , the album was also well received by music critics . It has since been certified four-times platinum by the RIAA and gone on to sell five million copies worldwide , making Dirt the band 's highest selling album to date . It was the last album to feature bassist Mike Starr before he departed the band in early 1993 .   The album spawned five singles : `` Would ? '' , `` Them Bones '' , `` Angry Chair '' , `` Rooster '' , and `` Down in a Hole '' . The songs on the album focused on depression , pain , anger , anti-social behavior , drug addiction -LRB- primarily heroin -RRB- , war , death , and other emotionally charged topics . \"\n",
      " b\"[START] nick cannon recorded the single my wife in . [END] Nicholas Scott `` Nick '' Cannon -LRB- born October 8 , 1980 -RRB- is an American rapper , actor , comedian , entrepreneur , record producer , radio and television personality . On television , Cannon began as a teenager on All That before going on to host The Nick Cannon Show , Wild 'N Out , and America 's Got Talent . He acted in the films Drumline , Love Do n't Cost a Thing , and Roll Bounce . As a rapper he released his debut self-titled album in 2003 with the hit single `` Gigolo '' , a collaboration with singer R. Kelly . In 2007 he played the role of the fictional footballer TJ Harper in the film Goal II : Living the Dream . In 2006 , Cannon recorded the singles `` Dime Piece '' and `` My Wife '' for the planned album Stages '' , which was never released . Cannon married American R&B / pop singer , Mariah Carey in 2008 . He filed for divorce in December 2014 , after six years of marriage . The divorce was finalized in 2016 . \"\n",
      " b\"[START] there is a group of americans in the motion picture industry called the directos guild of america . [END] There is a long history of television and film in New Jersey which is considered the birthplace of the movie picture industry .   The roots of the industry started in Newark with Hannibal Goodwin 's patent of nitrocellulose film in 1887 . Motion picture technology was invented by Thomas Edison , with early work done at his West Orange laboratory . Edison 's Black Maria where the first motion picture to be copyrighted in the United States , Fred Ott 's Sneeze was shot .  America 's first motion picture industry started in 1907 in Fort Lee and the first studio was constructed there in 1909 . Fred Wesley Wentworth was commissioned in 1914 by Jacob Fabian to build the Regent in Paterson , the first facility built exclusively for the exhibition of moving pictures . The nation 's first drive-in theater opened at Airport Circle in 1933 .   DuMont Laboratories in Passaic , developed early sets and made the first broadcast to the private home .   Many television shows and motion picture films have been filmed in New Jersey , which since 1978 maintains a Motion Picture and Television Commission . New Jersey has long held an attraction for producers , both for its locations and the tax credits offered by the state . Governor Christopher Christie suspended the credits in 2010 , but the New Jersey State Legislature in 2011 approved the restoration and expansion of the tax credit program . Under bills passed by both the state Senate and Assembly , the program would offer 20 percent tax credits -LRB- 22 % in urban enterprise zones -RRB- to television and film productions that shoot in the state and meet set standards for hiring and local spending . The tax credit is lower than that of other states offering similar incentives . A controversy arose in 2011 , when the governor threatened to veto the payment of tax rebates to the production company of Jersey Shore , a program he and others felt negatively portrayed New Jersey . As of 2014 , a bill is under consideration in the Senate is that would extend the program and remove any caps on tax credits .   The New Jersey Network -LRB- NJN -RRB- is a statewide public television and radio network operated by the New Jersey Public Broadcasting Authority .   In 2010 , a new Studio City New Jersey was opened in Trenton .  and in 2011 , the Ironbound Film and Television Studio was opened in Newark . \"\n",
      " b\"[START] jennifer hudson was a finalist of american idol . [END] Jennifer Kate Hudson -LRB- born September 12 , 1981 -RRB- is an American singer , actress and spokesperson . She rose to fame in 2004 as a finalist on the third season of American Idol , coming in seventh place .   As an actress , she made her film debut portraying Effie White in Dreamgirls , for which she gained worldwide acclaim and won an Academy Award , a Golden Globe Award , a BAFTA Award and a Screen Actors Guild Award for Best Supporting Actress . She has also appeared in such films as Sex and the City , The Secret Life of Bees and Black Nativity . She has made numerous television appearances , including guest roles on Smash , Empire and Inside Amy Schumer . In 2015 she made her Broadway debut in the role of Shug Avery in the 2015 revival of The Color Purple .   As a singer , Hudson has released three studio albums . Her debut album Jennifer Hudson , released in 2008 , debuted at number two on the Billboard 200 and was certified gold by the RIAA , with sales exceeding a million copies worldwide . The record was nominated for four Grammy Awards , winning the 2009 Grammy Award for Best R&B Album . Her second album I Remember Me , released in 2011 , also debuted at number two on the Billboard 200 and was certified gold by the RIAA . Her third and most recent album JHUD peaked in the top ten and featured the Grammy-nominated track `` It 's Your World '' . She also became the principal singer of The Color Purple musical album , which earned her the 2017 Grammy Award for Best Musical Theater Album and a Daytime Emmy Award for Outstanding Musical Performance in a Daytime Program -LRB- shared with the cast of The Color Purple -RRB- .   In October 2008 , after Hudson 's mother , brother and nephew were killed in a shooting , Hudson stepped out of the public eye for three months . Hudson resumed her public appearances in 2009 , with high-profile performances at Super Bowl XLIII , the Grammy Awards , American Idol , and The Oprah Winfrey Show . Hudson has been described as a friend of former President Barack Obama , who invited her to appear with him at a fundraiser in Beverly Hills during his first term in May 2009 . She also performed at the White House at the `` Celebration of Music from the Civil Rights Movement '' event . In 2013 , she received a star on the Hollywood Walk of Fame . In 2016 , Hudson was announced as a coach on the 2017 Series of The Voice UK . The following year , Hudson was announced as a coach on the thirteenth season of The Voice . \"\n",
      " b\"[START] the vietnam war has another name . [END] The Vietnam War -LRB- Chi\\xe1\\xba\\xbfn tranh Vi\\xe1\\xbb\\x87t Nam -RRB- , also known as the Second Indochina War , and known in Vietnam as Resistance War Against America -LRB- Kh\\xc3\\xa1ng chi\\xe1\\xba\\xbfn ch\\xe1\\xbb\\x91ng M\\xe1\\xbb\\xb9 -RRB- or simply the American War , was a war that occurred in Vietnam , Laos , and Cambodia from 1 November 1955 to the fall of Saigon on 30 April 1975 . It was the second of the Indochina Wars and was officially fought between North Vietnam and the government of South Vietnam . The North Vietnamese army was supported by the Soviet Union , China and other communist allies and the South Vietnamese army was supported by the United States , South Korea , Australia , Thailand and other anti-communist allies . The war is therefore considered a Cold War-era proxy war .   The Viet Cong -LRB- also known as the National Liberation Front , or NLF -RRB- , a South Vietnamese communist common front aided by the North , fought a guerrilla war against anti-communist forces in the region , while the People 's Army of Vietnam , also known as the North Vietnamese Army -LRB- NVA -RRB- , engaged in more conventional warfare , at times committing large units to battle . As the war continued , the military actions of the Viet Cong decreased as the role and engagement of the NVA grew . U.S. and South Vietnamese forces relied on air superiority and overwhelming firepower to conduct search and destroy operations , involving ground forces , artillery , and airstrikes . In the course of the war , the U.S. conducted a large-scale strategic bombing campaign against North Vietnam .   The North Vietnamese government and the Viet Cong were fighting to reunify Vietnam . They viewed the conflict as a colonial war and a continuation of the First Indochina War against forces from France and later on the United States . The U.S. government viewed its involvement in the war as a way to prevent a communist takeover of South Vietnam . This was part of the domino theory of a wider containment policy , with the stated aim of stopping the spread of communism worldwide .   Beginning in 1950 , American military advisors arrived in what was then French Indochina.The Military Assistance Advisory Group , Indochina -LRB- with an authorized strength of 128 men -RRB- was set up in September 1950 with a mission to oversee the use and distribution of US military equipment by the French and their allies . U.S. involvement escalated in the early 1960s , with troop levels tripling in 1961 and again in 1962 . U.S. involvement escalated further following the 1964 Gulf of Tonkin incident , in which a U.S. destroyer clashed with North Vietnamese fast attack craft , which was followed by the Gulf of Tonkin Resolution , which gave the U.S. president authorization to increase U.S. military presence . Regular U.S. combat units were deployed beginning in 1965 . Operations crossed international borders : bordering areas of Laos and Cambodia were heavily bombed by U.S. forces as American involvement in the war peaked in 1968 , the same year that the communist side launched the Tet Offensive . The Tet Offensive failed in its goal of overthrowing the South Vietnamese government , but became the turning point in the war , as it persuaded a large segment of the U.S. population that its government 's claims of progress toward winning the war were illusory despite many years of massive U.S. military aid to South Vietnam .   Gradual withdrawal of U.S. ground forces began as part of `` Vietnamization '' , which aimed to end American involvement in the war while transferring the task of fighting the communists to the South Vietnamese themselves . Despite the Paris Peace Accord , which was signed by all parties in January 1973 , the fighting continued . In the U.S. and the Western world , a large anti-Vietnam War movement developed as part of a larger counterculture . The war changed the dynamics between the Eastern and Western Blocs , and altered North -- South relations .   Direct U.S. military involvement ended on 15 August 1973 . The capture of Saigon by the North Vietnamese Army in April 1975 marked the end of the war , and North and South Vietnam were reunified the following year . The war exacted a huge human cost in terms of fatalities -LRB- see Vietnam War casualties -RRB- . Estimates of the number of Vietnamese soldiers and civilians killed vary from 966,000 to 3.8 million . Some 240,000 -- 300,000 Cambodians , 20,000 -- 62,000 Laotians , and 58,220 U.S. service members also died in the conflict , and a further 1,626 remain missing in action . \"\n",
      " b\"[START] it s always sunny in philadelphia premiered in . [END] It 's Always Sunny in Philadelphia is an American television black comedy sitcom that premiered on FX on August 4 , 2005 . It moved to FXX beginning with the ninth season , and has remained there since . It was created by Rob McElhenney , who developed it with Glenn Howerton . It is executive produced and primarily written by McElhenney , Howerton , and Charlie Day , all of whom star alongside Kaitlin Olson and Danny DeVito . The series follows the exploits of `` The Gang '' , a group of self-centered friends who run the Irish bar Paddy 's Pub in South Philadelphia .   The series was renewed for a twelfth season that premiered on January 4 , 2017 . On April 1 , 2016 , the series was renewed for a thirteenth and fourteenth season , which will tie it with The Adventures of Ozzie and Harriet as the longest running live-action sitcom in American TV history . \"\n",
      " b\"[START] one style of the mandolin is the flat backed dolphin . [END] A mandolin -LRB- mandolino -LSB- mando\\xcb\\x88li\\xcb\\x90no -RSB- ; literally `` small mandola '' -RRB- is a musical instrument in the lute family and is usually plucked with a plectrum or `` pick '' . It commonly has four courses of doubled metal strings tuned in unison -LRB- 8 strings -RRB- , although five -LRB- 10 strings -RRB- and six -LRB- 12 strings -RRB- course versions also exist . The courses are normally tuned in a succession of perfect fifths . It is the soprano member of a family that includes the mandola , octave mandolin , mandocello and mandobass .   There are many styles of mandolin , but three are common , the Neapolitan or round-backed mandolin , the carved-top mandolin and the flat-backed mandolin . The round-back has a deep bottom , constructed of strips of wood , glued together into a bowl . The carved-top or arch-top mandolin has a much shallower , arched back , and an arched top -- both carved out of wood . The flat-backed mandolin uses thin sheets of wood for the body , braced on the inside for strength in a similar manner to a guitar . Each style of instrument has its own sound quality and is associated with particular forms of music . Neapolitan mandolins feature prominently in European classical music and traditional music . Carved-top instruments are common in American folk music and bluegrass music . Flat-backed instruments are commonly used in Irish , British and Brazilian folk music . Some modern Brazilian instruments feature an extra fifth course tuned a fifth lower than the standard fourth course .   Other mandolin varieties differ primarily in the number of strings and include four-string models -LRB- tuned in fifths -RRB- such as the Brescian and Cremonese , six-string types -LRB- tuned in fourths -RRB- such as the Milanese , Lombard and the Sicilian and 6 course instruments of 12 strings -LRB- two strings per course -RRB- such as the Genoese . There has also been a twelve-string -LRB- three strings per course -RRB- type and an instrument with sixteen-strings -LRB- four strings per course -RRB- .   Much of mandolin development revolved around the soundboard -LRB- the top -RRB- . Pre-mandolin instruments were quiet instruments , strung with as many as six courses of gut strings , and were plucked with the fingers or with a quill . However , modern instruments are louder -- using four courses of metal strings , which exert more pressure than the gut strings . The modern soundboard is designed to withstand the pressure of metal strings that would break earlier instruments . The soundboard comes in many shapes -- but generally round or teardrop-shaped , sometimes with scrolls or other projections . There is usually one or more sound holes in the soundboard , either round , oval , or shaped like a calligraphic -LRB- f-hole -RRB- . A round or oval sound hole may be covered or bordered with decorative rosettes or purfling . \"\n",
      " b'[START] michael c . hall had a role in a television series . [END] Michael Carlyle Hall -LRB- born February 1 , 1971 -RRB- is an American actor , known for his role as Dexter Morgan , a serial killer and blood spatter analyst , in the Showtime TV Network series Dexter , and as David Fisher in the HBO drama series Six Feet Under . In 2010 , Hall won a Golden Globe Award and a Screen Actors Guild Award for his role in Dexter . '\n",
      " b'[START] lewis hamilton won dollars in the season . [END] Lewis Hamilton -LRB- born 1985 -RRB- is a British Formula One racing driver .   Lewis Hamilton may also refer to :   Lewis Hamilton -LRB- footballer -RRB- -LRB- born 1984 -RRB- , English footballer  Lewis Hamilton -LRB- Cars -RRB- , fictional character  SS Lewis Hamilton , cargo ship  Lewis Hamilton : Secret Life , alternate reality game '\n",
      " b\"[START] daniel craig was in an english language thriller film . [END] Road to Perdition is a 2002 American crime film directed by Sam Mendes . The screenplay was adapted by David Self from the graphic novel of the same name by Max Allan Collins . The film stars Tom Hanks , Paul Newman , Jude Law , and Daniel Craig . The plot takes place in 1931 , during the Great Depression , following a mob enforcer and his son as they seek vengeance against a mobster who murdered the rest of their family .   Filming took place in the Chicago area . Mendes , having recently finished 1999 's acclaimed American Beauty , pursued a story that had minimal dialogue and conveyed emotion in the imagery . Cinematographer Conrad L. Hall took advantage of the environment to create symbolism for the film , for which he won several awards , including a posthumous Academy Award for Best Cinematography . The film explores several themes , including the consequence of violence and father-son relationships .   The film was released on July 12 , 2002 , and eventually grossed over $ 180 million worldwide . The cinematography , setting , and the lead performances by Hanks and Newman were well received by critics . It was released on home media on February 25 , 2003 .  Daniel Wroughton Craig -LRB- born 2 March 1968 -RRB- is an English actor . He trained at the National Youth Theatre and graduated from the Guildhall School of Music and Drama in 1991 , before beginning his career on stage . His film debut was in the drama The Power of One -LRB- 1992 -RRB- . Other early appearances were in the Disney family film A Kid in King Arthur 's Court -LRB- 1995 -RRB- and the biographical film Elizabeth -LRB- 1998 -RRB- , as well as in the historical war drama television series Sharpe 's Eagle -LRB- 1993 -RRB- and the action-adventure drama series Zorro . Cast as the fictional British secret agent James Bond in October 2005 , his first film in the role , Casino Royale , was released internationally in November 2006 .   Craig 's appearances in the British television film Love Is the Devil : Study for a Portrait of Francis Bacon -LRB- 1998 -RRB- , the indie war film The Trench -LRB- 1999 -RRB- , and the drama Some Voices -LRB- 2000 -RRB- attracted the film industry 's attention . This led to roles in bigger productions such as the action film Lara Croft : Tomb Raider -LRB- 2001 -RRB- , the crime thriller Road to Perdition -LRB- 2002 -RRB- , the crime thriller Layer Cake -LRB- 2004 -RRB- , and the Steven Spielberg historical drama Munich -LRB- 2005 -RRB- . Craig achieved international fame when chosen as the sixth actor to play the role of Ian Fleming 's James Bond in the official film series , taking over from Pierce Brosnan in 2005 . Although his casting was initially greeted with scepticism , his debut was highly acclaimed and earned him a BAFTA award nomination , with Casino Royale becoming the highest-grossing in the series at the time . Quantum of Solace followed two years later .   Craig 's third Bond film , Skyfall , premiered in 2012 and is currently the highest-grossing film in the series , was the highest-grossing film in the UK until 2015 and the fifteenth highest-grossing film of all time . Craig 's fourth Bond film , Spectre , premiered in 2015 . In 2006 , he joined the Academy of Motion Picture Arts and Sciences . Since taking the role of Bond , he has continued to star in other films , including the World War II film Defiance -LRB- 2008 -RRB- , science fiction Western Cowboys & Aliens -LRB- 2010 -RRB- , and the English-language adaptation of Stieg Larsson 's mystery thriller The Girl with the Dragon Tattoo -LRB- 2011 -RRB- . Craig also made a guest appearance as Bond in the opening ceremony of the London 2012 Olympic Games , alongside Queen Elizabeth II . As of 20 February 2017 , Craig is the second longest serving James Bond , surpassed only by Roger Moore . \"\n",
      " b\"[START] sean connery won anything except an academy award . [END] Sir Thomas Sean Connery KB -LRB- -LSB- \\xcb\\x88\\xca\\x83\\xc9\\x94\\xcb\\x90n_\\xcb\\x88k\\xc9\\x92n\\xc9\\x99ri -RSB- born 25 August 1930 -RRB- is a retired Scottish actor and producer who has won an Academy Award , two BAFTA Awards -LRB- one of them being a BAFTA Academy Fellowship Award -RRB- and three Golden Globes -LRB- including the Cecil B. DeMille Award and a Henrietta Award -RRB- . He was knighted by Queen Elizabeth II in July 2000 after receiving Kennedy Center Honors in the US in 1999 .   Connery was the first actor to portray the character James Bond in film , starring in seven Bond films between 1962 and 1983 . In 1988 , Connery won the Academy Award for Best Supporting Actor for his role in The Untouchables . His film career also includes such films as Marnie , The Name of the Rose , The League of Extraordinary Gentlemen , Indiana Jones and the Last Crusade , The Hunt for Red October , Finding Forrester , Highlander , Murder on the Orient Express , Dragonheart , and The Rock .   Connery has been polled as `` The Greatest Living Scot '' and `` Scotland 's Greatest Living National Treasure '' . In 1989 , he was proclaimed `` Sexiest Man Alive '' by People magazine , and in 1999 , at age 69 , he was voted `` Sexiest Man of the Century '' . \"\n",
      " b'[START] streptococcus belongs to an order . [END] Streptococcus is a genus of coccus -LRB- spherical -RRB- Gram-positive bacteria belonging to the phylum Firmicutes and the order Lactobacillales -LRB- lactic acid bacteria -RRB- . Cell division in this genus occurs along a single axis in these bacteria , thus they grow in chains or pairs , hence the name -- from Greek \\xcf\\x83\\xcf\\x84\\xcf\\x81\\xce\\xb5\\xcf\\x80\\xcf\\x84\\xcf\\x8c\\xcf\\x82 streptos , meaning easily bent or twisted , like a chain -LRB- twisted chain -RRB- . -LRB- Contrast this with staphylococci , which divide along multiple axes and generate grape-like clusters of cells . -RRB-   Most are oxidase-negative and catalase-negative , and many are facultative anaerobes .   In 1984 , many bacteria formerly considered Streptococcus were separated out into the genera Enterococcus and Lactococcus . Currently , over 50 species are recognised in this genus . This genus has been found to be part of the salivary microbiome . '\n",
      " b\"[START] big boi is only a member of norwegian metal bands . [END] Antwan Andr\\xc3\\xa9 Patton -LRB- born February 1 , 1975 -RRB- , better known by his stage name Big Boi , is an American rapper , songwriter , actor and record producer , best known for being a member of American hip hop duo Outkast alongside Andr\\xc3\\xa9 3000 . His work in the duo has produced six studio albums . Big Boi 's solo debut Sir Lucious Left Foot : The Son of Chico Dusty was released in July 2010 to respectable sales and critical acclaim . He released his sophomore studio album , Vicious Lies and Dangerous Rumors in 2012 , and is set to released his third studio album , Boomiverse , in June 2017 .  Outkast -LRB- stylized as OutKast -RRB- is an American hip hop duo formed in 1991 , in East Point , Atlanta , Georgia , composed of Atlanta-based rappers Andr\\xc3\\xa9 `` Andr\\xc3\\xa9 3000 '' Benjamin -LRB- formerly known as Dr\\xc3\\xa9 -RRB- and Antwan `` Big Boi '' Patton . The duo achieved both critical acclaim and commercial success in the 1990s and early 2000s , helping to popularize Southern hip hop while developing distinctive personas and experimenting with diverse genres such as funk , psychedelia , techno , and gospel .   Benjamin and Patton formed the group as high school students in 1991 . OutKast released their debut album Southernplayalisticadillacmuzik in 1994 , which gained popularity after the single `` Player 's Ball '' reached number one on the Billboard Hot Rap Tracks chart . With successive releases including ATLiens -LRB- 1996 -RRB- and Aquemini -LRB- 1998 -RRB- , the duo further developed their sound , experimenting with a variety of styles and achieving commercial success . In 2000 , Outkast released the critically acclaimed Stankonia , which included the singles `` Ms. Jackson '' and `` B.O.B. ''   In 2003 , the duo released the double album Speakerboxxx/The Love Below , which featured the number one singles `` Hey Ya ! '' and `` The Way You Move . '' The album would eventually win the Grammy Award for Album of the Year and was certified Diamond by the Recording Industry Association of America . Outkast next released the soundtrack for the 2006 musical film Idlewild , which they also starred in . In 2007 , the duo went on hiatus and both members have since pursued solo careers . In 2014 , Outkast reunited to celebrate their 20th anniversary by performing at more than 40 festivals worldwide in 2014 , beginning at the Coachella Festival in April .   The duo is one of the most successful hip-hop groups of all time , having received six Grammy Awards . Between six studio albums and a greatest hits release , Outkast has sold over 25 million records . Meanwhile , they have garnered widespread critical acclaim , with publications such as Rolling Stone and Pitchfork Media listing albums such as Aquemini and Stankonia among the best of their era . \"\n",
      " b\"[START] amaze entertainment was a company . [END] Amaze Entertainment was a video game developer from the United States that developed over 100 games in its ten-year history -LRB- selling nearly 40 million units -RRB- , for several video game platforms , with headquarters located in Kirkland , Washington . Amaze was founded by serial entrepreneur Dan Elenbaas and his business partners Todd Gilbertsen and David Mann . Amaze 's primary focus was licensed games based on movie franchises , comic series , and original titles for established video game franchises . Amaze grew to become one of the world 's largest independent video game developers , with nearly 300 employees in four studios . Amaze was acquired by Foundation 9 Entertainment on November 14 , 2006 .   In July 2009 , Foundation 9 abandoned the Amaze Entertainment brand and renamed the Kirkland location after the former subsidiary , Griptonite Games . On August 2 , 2011 , Glu Mobile acquired Griptonite Games . Its staff of 200 `` approximately doubles '' Glu 's internal development capacity . \"\n",
      " b\"[START] lee harvey oswald shot mailboxes in dallas . [END] Lee Harvey Oswald -LRB- October 18 , 1939 -- November 24 , 1963 -RRB- was an American former U.S. Marine who was arrested for the assassination of United States President John F. Kennedy on November 22 , 1963 . According to four federal government investigations and one municipal investigation , These were investigations by : the Federal Bureau of Investigation -LRB- 1963 -RRB- , the Warren Commission -LRB- 1964 -RRB- , the House Select Committee on Assassinations -LRB- 1979 -RRB- , the Secret Service , and the Dallas Police Department . Oswald shot and killed Kennedy as the President traveled by motorcade through Dealey Plaza in the city of Dallas , Texas .   Oswald was honorably discharged from the Marine Corps and defected to the Soviet Union in October 1959 . He lived in the Belarusian city of Minsk until June 1962 , at which time he returned to the United States with Marina , his Russian-born wife , eventually settling in Dallas .   Following Kennedy 's assassination , Oswald was initially arrested for the murder of police officer J. D. Tippit , who was killed on a Dallas street about 45 minutes after Kennedy was shot . Oswald was later charged with the murder of Kennedy . He denied shooting anybody , saying that he was a `` patsy '' . Two days later , while being transferred from the city jail to the county jail , Oswald was fatally shot by Dallas nightclub owner Jack Ruby in full view of television cameras broadcasting live .   In September 1964 , the Warren Commission concluded that Oswald acted alone in assassinating Kennedy by firing three shots from the Texas School Book Depository . This conclusion was supported by previous investigations carried out by the FBI , the Secret Service , and the Dallas Police Department . Despite forensic , ballistic , and eyewitness evidence supporting the lone gunman theory , public opinion polls taken over the years have shown that most Americans believe that Oswald did not act alone , but conspired with others to kill the president . The assassination has spawned numerous conspiracy theories . \"\n",
      " b\"[START] george cukor died in venice . [END] Heller In Pink Tights is a 1960 Technicolor western film adapted from Louis L'Amour 's novel , Heller with a Gun . It stars Sophia Loren and Anthony Quinn and was directed by George Cukor .   The movie is noted for its lavishly ornate costumes by Edith Head and its impressive photography and use of Technicolor . Though not a commercial success , Heller In Pink Tights is thought by some film historians to be George Cukor 's most lavishly visual film .   Cukor had never been pleased with the `` look '' of most westerns and he hired George Hoyningen-Huene , a famous Russian-born fashion photographer and 1920s illustrator who was an expert at art and design . The final result is a unique film that looks like a cross between a Frederic Remington painting and a Toulouse-Lautrec rendering of music hall performers .   Heller in Pink Tights co-stars Margaret O'Brien , Ramon Novarro and Eileen Heckart . It also marks Loren 's lowest weight on film . The normally voluptuous and full-figured star lost almost twenty pounds at Cukor 's request and donned a blonde wig . \"\n",
      " b\"[START] there is a director named fred savage . [END] Frederick Aaron `` Fred '' Savage -LRB- born July 9 , 1976 -RRB- is an American actor , director , and producer . He is best known for his role as Kevin Arnold in the American television series The Wonder Years , which ran from 1988 to 1993 . He has earned several awards and nominations , such as People 's Choice Awards and Young Artist Awards . \"\n",
      " b\"[START] andrew wood died in . [END] Mother Love Bone was an American rock band that formed in Seattle , Washington in 1987 . The band was active from 1987 to 1990 . Frontman Andrew Wood 's personality and compositions helped to catapult the group to the top of the burgeoning late 1980s/early 1990s Seattle music scene . Wood died only days before the scheduled release of the band 's debut album , Apple , thus ending the group 's hopes of success . The album was finally released a few months later .  Andrew Patrick Wood -LRB- January 8 , 1966 -- March 19 , 1990 -RRB- was an American musician best known as the lead singer for alternative rock bands Malfunkshun and Mother Love Bone . Wood was also known for his flamboyance .   Wood formed Malfunkshun in 1980 with his brother Kevin and Regan Hagar . The band used alter ego personas onstage , with Wood using the name Landrew the Love Child . Though the band only had two songs released , `` With Yo ' Heart -LRB- Not Yo ' Hands -RRB- '' and `` Stars-n-You '' , on the Deep Six compilation album , they are often cited as being among the `` founding fathers '' of the Seattle 's grunge movement . During his time in Malfunkshun , Wood started relying heavily on drugs , entering rehab in 1985 .   By 1988 , Malfunkshun had disbanded and Wood began jamming with Green River members Stone Gossard and Jeff Ament . They soon began writing original material and formed Mother Love Bone the same year , adding guitarist Bruce Fairweather -LRB- also a former member of Green River -RRB- and drummer Greg Gilmore to the lineup . The following year , the band signed a deal with PolyGram , issuing a six-song EP , Shine , before going on to tour , supporting The Dogs D'Amour . Towards the end of the year , the band recorded their debut album , Apple , which was scheduled for release in 1990 .   Due to his struggle with drug addiction , Wood checked himself into rehab in 1989 , hoping to get clean for the release of Mother Love Bone 's debut album . On March 16 , 1990 , Wood was found in a comatose state by his girlfriend , Xana La Fuente , having overdosed on heroin . Wood was taken to the hospital and placed on life support . Wood 's condition had shown signs of improvement but he died three days later .  Deep Six is a compilation album featuring early recordings from several Seattle-based rock bands , originally released in March 1986 -LRB- catalog # CZ001 -RRB- . It was the very first release by C/Z Records , preceding by a few months the release of Sub Pop 's Sub Pop 100 . It is often cited as one of the two earliest records to showcase the `` Seattle sound '' that would later gain worldwide popularity as grunge -LRB- the other being Green River 's debut EP Come on Down -RRB- . The album was reissued as a joint C/Z Records/A & M Records release on April 6 , 1994 -LRB- catalog # 6971 2400 2 -RRB- . \"\n",
      " b\"[START] david beckham is from america . [END] David Robert Joseph Beckham , -LRB- -LSB- \\xcb\\x88b\\xc9\\x9bk\\xc9\\x99m -RSB- born 2 May 1975 -RRB- is an English former professional footballer . He played for Manchester United , Preston North End , Real Madrid , Milan , LA Galaxy , Paris Saint-Germain , and the England national team for which he held the appearance record for an outfield player until 2016 when Wayne Rooney surpassed his total . He is the first English player to win league titles in four countries : England , Spain , the United States and France . He announced his retirement in May 2013 after a 20-year career , during which he won 19 major trophies .   Known for his range of passing , crossing ability and bending free-kicks as a right winger , Beckham was runner up in the Ballon d'Or , twice runner-up for FIFA World Player of the Year and in 2004 he was named by Pel\\xc3\\xa9 in the FIFA 100 list of the world 's greatest living players . He was inducted into the English Football Hall of Fame in 2008 . A global ambassador for the sport , Beckham is regarded as a British cultural icon .   Beckham 's professional club career began with Manchester United , where he made his first-team debut in 1992 aged 17 . With United , he won the Premier League title six times , the FA Cup twice , and the UEFA Champions League in 1999 . He then played four seasons with Real Madrid , winning the La Liga championship in his final season with the club . In July 2007 Beckham signed a five-year contract with Major League Soccer club LA Galaxy . While a Galaxy player , he spent two loan spells in Italy with Milan in 2009 and 2010 . He was the first British footballer to play 100 UEFA Champions League games .   In international football , Beckham made his England debut on 1 September 1996 at the age of 21 . He was captain for six years , earning 58 caps during his tenure . He made 115 career appearances in total , appearing at three FIFA World Cup tournaments , in 1998 , 2002 and 2006 , and two UEFA European Championship tournaments , in 2000 and 2004 .   Beckham has consistently ranked among the highest earners in football , and in 2013 he was listed as the highest-paid player in the world , earning over $ 50 million in the previous 12 months . He has been married to Victoria Beckham since 1999 and they have four children . He has been a UNICEF UK ambassador since 2005 , and in 2015 he launched 7 : The David Beckham UNICEF Fund . In 2014 , MLS announced Beckham and a group of investors would own an expansion team in Miami , which would begin in 2016 or 2017 . \"\n",
      " b\"[START] tom cruise was in minority report . [END] Thomas Cruise Mapother IV -LRB- born July 3 , 1962 -RRB- , known professionally as Tom Cruise , is an American actor and producer . He has been nominated for three Academy Awards and has won three Golden Globe Awards . He started his career at age 19 in the film Endless Love -LRB- 1981 -RRB- . After portraying supporting roles in Taps -LRB- 1981 -RRB- and The Outsiders -LRB- 1983 -RRB- , his first leading role was in the romantic comedy Risky Business , released in August 1983 . Cruise became a full-fledged movie star after starring as Pete `` Maverick '' Mitchell in the action drama Top Gun -LRB- 1986 -RRB- . One of the biggest movie stars in Hollywood , Cruise starred in several more successful films in the 1980s , including the dramas The Color of Money -LRB- 1986 -RRB- , Cocktail -LRB- 1988 -RRB- , Rain Man -LRB- 1988 -RRB- , and Born on the Fourth of July -LRB- 1989 -RRB- .   In the 1990s , he starred in a number of hit films , including the romance Far and Away -LRB- 1992 -RRB- , the drama A Few Good Men -LRB- 1992 -RRB- , the legal thriller The Firm -LRB- 1993 -RRB- , the drama horror film Interview with the Vampire -LRB- 1994 -RRB- , the romantic comedy-drama sports film Jerry Maguire -LRB- 1996 -RRB- , the erotic thriller Eyes Wide Shut , and the drama Magnolia -LRB- both 1999 -RRB- . Since 1996 , Cruise has been well known for his role as IMF agent Ethan Hunt in the Mission : Impossible film series , whose most recent film , Mission : Impossible -- Rogue Nation , was released in 2015 .   In the 2000s , Cruise starred in a number of successful films , including the science fiction thrillers Vanilla Sky -LRB- 2001 -RRB- and Minority Report -LRB- 2002 -RRB- , the epic war film The Last Samurai -LRB- 2003 -RRB- , the crime film Collateral -LRB- 2004 -RRB- , the science fiction disaster thriller War of the Worlds -LRB- 2005 -RRB- , and the historical thriller Valkyrie -LRB- 2008 -RRB- .   In the 2010s , he has starred in the action comedy Knight and Day -LRB- 2010 -RRB- , the thriller Jack Reacher -LRB- 2012 -RRB- , the post-apocalyptic science fiction film Oblivion -LRB- 2013 -RRB- , and the military science fiction film Edge of Tomorrow -LRB- 2014 -RRB- . In 2012 , Cruise was Hollywood 's highest-paid actor . 16 of his films grossed over $ 100 million domestically ; 22 have grossed in excess of $ 200 million worldwide .   He has won Golden Globe Awards for Best Performance by an Actor in a Motion Picture in Drama in 1990 for Born on the Fourth of July ; Best Performance by an Actor in a Motion Picture in Comedy/Musical in 1997 for Jerry Maguire ; and Best Performance by an Actor in a Supporting Role in a Motion Picture in 2000 for Magnolia . In 2002 , Cruise won the Saturn Award for Best Actor for Vanilla Sky . In 2003 , he won an AFI Movie of the Year Award for The Last Samurai and an Empire Award for Best Actor for Minority Report .   Cruise is an outspoken advocate for the Church of Scientology and its associated social programs , and credits it with helping him overcome dyslexia . In the 2000s , his criticisms of psychiatry and anti-depressant drugs , particularly therapy for 9/11 rescue workers , and efforts to promote Scientology as a religion in Europe , sparked controversies , as did a leaked video interview of him promoting Scientology . \"\n",
      " b'[START] the belko experiment is an american horror film . [END] The Belko Experiment is a 2016 American horror film directed by Greg McLean and written by James Gunn . The film stars John Gallagher Jr. , Tony Goldwyn , Adria Arjona and Melonie Diaz . Filming began on June 1 , 2015 , in Bogot\\xc3\\xa1 , Colombia . The film premiered at the 2016 Toronto International Film Festival on September 10 , 2016 and was released in the United States on March 17 , 2017 , by BH Tilt and Orion Pictures . The film received mixed reviews from critics and has grossed $ 10 million worldwide , against its $ 5 million budget . '\n",
      " b\"[START] ethiopia is a state . [END] Ethiopia -LRB- -LSB- \\xcb\\x8ci\\xcb\\x90\\xce\\xb8i\\xcb\\x88o\\xca\\x8api\\xc9\\x99 -RSB- \\xe1\\x8a\\xa2\\xe1\\x89\\xb5\\xe1\\x8b\\xae\\xe1\\x8c\\xb5\\xe1\\x8b\\xab , , -RRB- , officially the Federal Democratic Republic of Ethiopia -LRB- \\xe1\\x8b\\xa8\\xe1\\x8a\\xa2\\xe1\\x89\\xb5\\xe1\\x8b\\xae\\xe1\\x8c\\xb5\\xe1\\x8b\\xab \\xe1\\x8d\\x8c\\xe1\\x8b\\xb4\\xe1\\x88\\xab\\xe1\\x88\\x8b\\xe1\\x8b\\x8a \\xe1\\x8b\\xb2\\xe1\\x88\\x9e\\xe1\\x8a\\xad\\xe1\\x88\\xab\\xe1\\x88\\xb2\\xe1\\x8b\\xab\\xe1\\x8b\\x8a \\xe1\\x88\\xaa\\xe1\\x8d\\x90\\xe1\\x89\\xa5\\xe1\\x88\\x8a\\xe1\\x8a\\xad , ye\\xca\\xbe\\xc4\\xaatiyo\\xe1\\xb9\\x97\\xe1\\xb9\\x97ya F\\xc4\\x93d\\xc4\\x93ralaw\\xc4\\xab D\\xc4\\x93mokiras\\xc4\\xabyaw\\xc4\\xab R\\xc4\\xabpebil\\xc4\\xabk -RRB- , is a country located in the Horn of Africa . It shares borders with Eritrea to the north and northeast , Djibouti and Somalia to the east , Sudan and South Sudan to the west , and Kenya to the south . With over 100 million inhabitants , Ethiopia is the most populous landlocked country in the world , as well as the second-most populous nation on the African continent after Nigeria . It occupies a total area of 1,100,000 km2 , and its capital and largest city is Addis Ababa .   Some of the oldest evidence for anatomically modern humans has been found in Ethiopia . It is widely considered as the region from which modern humans first set out for the Middle East and places beyond . According to linguists , the first Afroasiatic-speaking populations settled in the Horn region during the ensuing Neolithic era . Tracing its roots to the 2nd millennium BC , Ethiopia was a monarchy for most of its history . During the first centuries AD , the Kingdom of Aksum maintained a unified civilization in the region , followed by the Ethiopian Empire circa 1137 . Ethiopia derived prestige with its uniquely successful military resistance during the late 19th-century Scramble for Africa , becoming the only African country to defeat a European colonial power and retain its sovereignty . Subsequently , many African nations adopted the colors of Ethiopia 's flag following their independence . It was the first independent African member of the 20th-century League of Nations and the United Nations . In 1974 , at the end of Haile Selassie 's reign , power fell to a communist military dictatorship known as the Derg , backed by the Soviet Union , until it was defeated by the Ethiopian People 's Revolutionary Democratic Front , which has ruled since about the time of the collapse of the Soviet Union in 1991 .   Ethiopia 's ancient Ge'ez script , also known as Ethiopic , is one of the oldest alphabets still in use in the world . The Ethiopian calendar , which is approximately seven years and three months behind the Gregorian calendar , co-exists alongside the Borana calendar . A majority of the population adheres to Christianity -LRB- mainly the Ethiopian Orthodox Tewahedo Church and P'ent ` ay -RRB- , while around a third follows Islam -LRB- primarily Sunni Islam -RRB- . The country is the site of the Migration to Abyssinia and the oldest Muslim settlement in Africa at Negash . A substantial population of Ethiopian Jews , known as Bete Israel , resided in Ethiopia until the 1980s , but most of them have since emigrated to Israel . Ethiopia is a multilingual nation with around 80 ethnolinguistic groups , the four largest of which are the Oromiffa , Amhara , Somali , and Tigrayans . Most people in the country speak Afroasiatic languages of the Cushitic or Semitic branches . Additionally , Omotic languages are spoken by ethnic minority groups inhabiting the southern regions . Nilo-Saharan languages are also spoken by the nation 's Nilotic ethnic minorities .   Ethiopia is the place of origin for the coffee bean which originated from the place called Kefa -LRB- which was one of the 14 provinces in the old Ethiopian administration -RRB- . It is a land of natural contrasts , with its vast fertile West , jungles , and numerous rivers , and the world 's hottest settlement of Dallol in its north . The Ethiopian Highlands are Africa 's largest continuous mountain ranges , and Sof Omar Caves contain Africa 's largest cave . Ethiopia has the most UNESCO World Heritage Sites in Africa .   Ethiopia is one of the founding members of the UN , the Group of 24 -LRB- G-24 -RRB- , the Non-Aligned Movement , G-77 and the Organisation of African Unity . Ethiopia 's capital city Addis Ababa serves as the headquarters of the African Union , the Pan African Chamber of Commerce and Industry , the United Nations Economic Commission for Africa , African Aviation Training HQ , the African Standby Force , and many of the global NGOs focused on Africa . In the 1970s and 1980s , Ethiopia suffered from civil wars and communist purges which devastated its economy . The country has begun to recover recently however , and now has the largest economy -LRB- by GDP -RRB- in East Africa and Central Africa . According to Global Fire Power , Ethiopia has the 42nd most powerful military in the world , and the third most powerful in Africa . \"\n",
      " b\"[START] shawn mendes is represented by a canadian record label . [END] Shawn Peter Raul Mendes -LRB- -LSB- \\xcb\\x88m\\xc9\\x9bnd\\xc9\\x9bz -RSB- , -LSB- \\xcb\\x88m\\xe1\\xba\\xbdd\\xc9\\xa8\\xca\\x83 -RSB- ; born August 8 , 1998 -RRB- is a Canadian singer and songwriter . He attracted a following in 2013 , when he began posting song covers on the video sharing application Vine . The following year , he caught the attention of artist managers Andrew Gertler and Island Records A&R Ziggy Chareton , which led to him signing a deal with the record label . Mendes went on to release an EP and his debut studio album Handwritten , whose single `` Stitches '' reached the top 10 in the US and Canada , and number one in the UK . His sophomore album , Illuminate -LRB- 2016 -RRB- , was preceded by the single `` Treat You Better '' . Both albums debuted atop the US Billboard 200 .  Island Records is a British-American record label that operates as a division of Universal Music Group -LRB- UMG -RRB- . It was founded by Chris Blackwell , Graeme Goodall and Leslie Kong in Jamaica in 1959 . Blackwell sold the label to PolyGram in 1989 . Both Island and another label recently acquired by PolyGram , A&M Records , were both at the time the largest independent record labels in history , with Island in particular having exerted a major influence on the progressive UK music scene in the early 1970s .   Three Island labels exist in the world : Island UK , Island US , and Island Australia , with the main label operating out of London . Notable artists on the UK roster include Ariana Grande , U2 , Mumford & Sons , Amy Winehouse , Ben Howard , Florence + The Machine , John Newman , Hozier , Catfish and the Bottlemen , Disclosure , AlunaGeorge , Keane , James Morrison , Annie Lennox , That Poppy and PJ Harvey .   Current key people of Island Records include Island president Darcus Beese , OBE and MD Jon Turner . Partially due to the label 's significant legacy , Island remains one of UMG 's pre-eminent record labels . In a 50-year anniversary documentary , Island Records artist Melissa Etheridge stated : `` If you want to look at world music , music of the last fifty years that changed the world , you need look no further than Island Records . '' \"\n",
      " b\"[START] on the road film is adapted from a cartoon drawn by ralph steadman . [END] On the Road -LRB- Sur la route -RRB- is a 2012 adventure drama film directed by Walter Salles . It is an adaptation of Jack Kerouac 's 1957 novel of the same name and stars an ensemble cast featuring Garrett Hedlund , Sam Riley , Kristen Stewart , Alice Braga , Amy Adams , Tom Sturridge , Danny Morgan , Elisabeth Moss , Kirsten Dunst , and Viggo Mortensen . The executive producer was Francis Ford Coppola . Filming began on August 4 , 2010 , in Montreal , Quebec , with a $ 25 million budget . The story is based on the years Kerouac spent travelling the United States in the late 1940s with his friend Neal Cassady and several other Beat Generation figures who would go on to fame in their own right , including William S. Burroughs and Allen Ginsberg . On May 23 , 2012 , the film premiered in competition for the Palme d'Or at the 2012 Cannes Film Festival . The film received mixed early reviews after it premiered at the film festival . The film also premiered at the 2012 Toronto International Film Festival in September . \"], shape=(32,), dtype=string)\n"
     ]
    }
   ],
   "source": [
    "for d in ds.take(1):\n",
    "    print(d)"
   ]
  },
  {
   "cell_type": "code",
   "execution_count": 15,
   "metadata": {
    "collapsed": true,
    "jupyter": {
     "outputs_hidden": true
    }
   },
   "outputs": [
    {
     "name": "stdout",
     "output_type": "stream",
     "text": [
      "Collecting tensorflow_text\n",
      "  Downloading tensorflow_text-2.5.0-cp38-cp38-manylinux1_x86_64.whl (4.3 MB)\n",
      "\u001b[K     |████████████████████████████████| 4.3 MB 2.9 MB/s eta 0:00:01\n",
      "\u001b[?25hCollecting tensorflow<2.6,>=2.5.0\n",
      "  Downloading tensorflow-2.5.0-cp38-cp38-manylinux2010_x86_64.whl (454.4 MB)\n",
      "\u001b[K     |████████████████████████████████| 454.4 MB 79 kB/s  eta 0:00:011   |█                               | 14.9 MB 4.8 MB/s eta 0:01:31     |██▎                             | 32.7 MB 6.6 MB/s eta 0:01:04     |████▍                           | 63.0 MB 2.5 MB/s eta 0:02:34     |█████████▏                      | 130.5 MB 12.6 MB/s eta 0:00:26     |█████████▎                      | 131.2 MB 12.6 MB/s eta 0:00:26     |█████████████████████▏          | 301.3 MB 911 kB/s eta 0:02:49     |█████████████████████▉          | 309.9 MB 10.4 MB/s eta 0:00:14     |█████████████████████████▉      | 367.6 MB 4.4 MB/s eta 0:00:20     |██████████████████████████▏     | 372.1 MB 11.0 MB/s eta 0:00:08\n",
      "\u001b[?25hCollecting tensorflow-hub>=0.8.0\n",
      "  Downloading tensorflow_hub-0.12.0-py2.py3-none-any.whl (108 kB)\n",
      "\u001b[K     |████████████████████████████████| 108 kB 10.3 MB/s eta 0:00:01\n",
      "\u001b[?25hCollecting tensorflow-estimator<2.6.0,>=2.5.0rc0\n",
      "  Downloading tensorflow_estimator-2.5.0-py2.py3-none-any.whl (462 kB)\n",
      "\u001b[K     |████████████████████████████████| 462 kB 4.8 MB/s eta 0:00:01\n",
      "\u001b[?25hRequirement already satisfied: typing-extensions~=3.7.4 in /root/anaconda3/lib/python3.8/site-packages (from tensorflow<2.6,>=2.5.0->tensorflow_text) (3.7.4.3)\n",
      "Requirement already satisfied: six~=1.15.0 in /root/anaconda3/lib/python3.8/site-packages (from tensorflow<2.6,>=2.5.0->tensorflow_text) (1.15.0)\n",
      "Requirement already satisfied: wheel~=0.35 in /root/anaconda3/lib/python3.8/site-packages (from tensorflow<2.6,>=2.5.0->tensorflow_text) (0.35.1)\n",
      "Requirement already satisfied: absl-py~=0.10 in /root/anaconda3/lib/python3.8/site-packages (from tensorflow<2.6,>=2.5.0->tensorflow_text) (0.13.0)\n",
      "Requirement already satisfied: termcolor~=1.1.0 in /root/anaconda3/lib/python3.8/site-packages (from tensorflow<2.6,>=2.5.0->tensorflow_text) (1.1.0)\n",
      "Requirement already satisfied: numpy~=1.19.2 in /root/anaconda3/lib/python3.8/site-packages (from tensorflow<2.6,>=2.5.0->tensorflow_text) (1.19.2)\n",
      "Requirement already satisfied: tensorboard~=2.5 in /root/anaconda3/lib/python3.8/site-packages (from tensorflow<2.6,>=2.5.0->tensorflow_text) (2.5.0)\n",
      "Requirement already satisfied: google-pasta~=0.2 in /root/anaconda3/lib/python3.8/site-packages (from tensorflow<2.6,>=2.5.0->tensorflow_text) (0.2.0)\n",
      "Requirement already satisfied: protobuf>=3.9.2 in /root/anaconda3/lib/python3.8/site-packages (from tensorflow<2.6,>=2.5.0->tensorflow_text) (3.17.3)\n",
      "Collecting grpcio~=1.34.0\n",
      "  Downloading grpcio-1.34.1-cp38-cp38-manylinux2014_x86_64.whl (4.0 MB)\n",
      "\u001b[K     |████████████████████████████████| 4.0 MB 3.1 MB/s eta 0:00:01\n",
      "\u001b[?25hRequirement already satisfied: opt-einsum~=3.3.0 in /root/anaconda3/lib/python3.8/site-packages (from tensorflow<2.6,>=2.5.0->tensorflow_text) (3.3.0)\n",
      "Requirement already satisfied: keras-preprocessing~=1.1.2 in /root/anaconda3/lib/python3.8/site-packages (from tensorflow<2.6,>=2.5.0->tensorflow_text) (1.1.2)\n",
      "Requirement already satisfied: flatbuffers~=1.12.0 in /root/anaconda3/lib/python3.8/site-packages (from tensorflow<2.6,>=2.5.0->tensorflow_text) (1.12)\n",
      "Requirement already satisfied: wrapt~=1.12.1 in /root/anaconda3/lib/python3.8/site-packages (from tensorflow<2.6,>=2.5.0->tensorflow_text) (1.12.1)\n",
      "Collecting keras-nightly~=2.5.0.dev\n",
      "  Downloading keras_nightly-2.5.0.dev2021032900-py2.py3-none-any.whl (1.2 MB)\n",
      "\u001b[K     |████████████████████████████████| 1.2 MB 5.8 MB/s eta 0:00:01\n",
      "\u001b[?25hCollecting gast==0.4.0\n",
      "  Downloading gast-0.4.0-py3-none-any.whl (9.8 kB)\n",
      "Requirement already satisfied: astunparse~=1.6.3 in /root/anaconda3/lib/python3.8/site-packages (from tensorflow<2.6,>=2.5.0->tensorflow_text) (1.6.3)\n",
      "Collecting h5py~=3.1.0\n",
      "  Downloading h5py-3.1.0-cp38-cp38-manylinux1_x86_64.whl (4.4 MB)\n",
      "\u001b[K     |████████████████████████████████| 4.4 MB 6.0 MB/s eta 0:00:01\n",
      "\u001b[?25hRequirement already satisfied: setuptools>=41.0.0 in /root/anaconda3/lib/python3.8/site-packages (from tensorboard~=2.5->tensorflow<2.6,>=2.5.0->tensorflow_text) (50.3.1.post20201107)\n",
      "Requirement already satisfied: tensorboard-data-server<0.7.0,>=0.6.0 in /root/anaconda3/lib/python3.8/site-packages (from tensorboard~=2.5->tensorflow<2.6,>=2.5.0->tensorflow_text) (0.6.1)\n",
      "Requirement already satisfied: tensorboard-plugin-wit>=1.6.0 in /root/anaconda3/lib/python3.8/site-packages (from tensorboard~=2.5->tensorflow<2.6,>=2.5.0->tensorflow_text) (1.8.0)\n",
      "Requirement already satisfied: google-auth<2,>=1.6.3 in /root/anaconda3/lib/python3.8/site-packages (from tensorboard~=2.5->tensorflow<2.6,>=2.5.0->tensorflow_text) (1.32.0)\n",
      "Requirement already satisfied: werkzeug>=0.11.15 in /root/anaconda3/lib/python3.8/site-packages (from tensorboard~=2.5->tensorflow<2.6,>=2.5.0->tensorflow_text) (1.0.1)\n",
      "Requirement already satisfied: markdown>=2.6.8 in /root/anaconda3/lib/python3.8/site-packages (from tensorboard~=2.5->tensorflow<2.6,>=2.5.0->tensorflow_text) (3.3.4)\n",
      "Requirement already satisfied: google-auth-oauthlib<0.5,>=0.4.1 in /root/anaconda3/lib/python3.8/site-packages (from tensorboard~=2.5->tensorflow<2.6,>=2.5.0->tensorflow_text) (0.4.4)\n",
      "Requirement already satisfied: requests<3,>=2.21.0 in /root/anaconda3/lib/python3.8/site-packages (from tensorboard~=2.5->tensorflow<2.6,>=2.5.0->tensorflow_text) (2.24.0)\n",
      "Requirement already satisfied: rsa<5,>=3.1.4 in /root/anaconda3/lib/python3.8/site-packages (from google-auth<2,>=1.6.3->tensorboard~=2.5->tensorflow<2.6,>=2.5.0->tensorflow_text) (4.7.2)\n",
      "Requirement already satisfied: pyasn1-modules>=0.2.1 in /root/anaconda3/lib/python3.8/site-packages (from google-auth<2,>=1.6.3->tensorboard~=2.5->tensorflow<2.6,>=2.5.0->tensorflow_text) (0.2.8)\n",
      "Requirement already satisfied: cachetools<5.0,>=2.0.0 in /root/anaconda3/lib/python3.8/site-packages (from google-auth<2,>=1.6.3->tensorboard~=2.5->tensorflow<2.6,>=2.5.0->tensorflow_text) (4.2.2)\n",
      "Requirement already satisfied: requests-oauthlib>=0.7.0 in /root/anaconda3/lib/python3.8/site-packages (from google-auth-oauthlib<0.5,>=0.4.1->tensorboard~=2.5->tensorflow<2.6,>=2.5.0->tensorflow_text) (1.3.0)\n",
      "Requirement already satisfied: pyasn1<0.5.0,>=0.4.6 in /root/anaconda3/lib/python3.8/site-packages (from pyasn1-modules>=0.2.1->google-auth<2,>=1.6.3->tensorboard~=2.5->tensorflow<2.6,>=2.5.0->tensorflow_text) (0.4.8)\n",
      "Requirement already satisfied: certifi>=2017.4.17 in /root/anaconda3/lib/python3.8/site-packages (from requests<3,>=2.21.0->tensorboard~=2.5->tensorflow<2.6,>=2.5.0->tensorflow_text) (2020.6.20)\n",
      "Requirement already satisfied: idna<3,>=2.5 in /root/anaconda3/lib/python3.8/site-packages (from requests<3,>=2.21.0->tensorboard~=2.5->tensorflow<2.6,>=2.5.0->tensorflow_text) (2.10)\n",
      "Requirement already satisfied: chardet<4,>=3.0.2 in /root/anaconda3/lib/python3.8/site-packages (from requests<3,>=2.21.0->tensorboard~=2.5->tensorflow<2.6,>=2.5.0->tensorflow_text) (3.0.4)\n",
      "Requirement already satisfied: urllib3!=1.25.0,!=1.25.1,<1.26,>=1.21.1 in /root/anaconda3/lib/python3.8/site-packages (from requests<3,>=2.21.0->tensorboard~=2.5->tensorflow<2.6,>=2.5.0->tensorflow_text) (1.25.11)\n",
      "Requirement already satisfied: oauthlib>=3.0.0 in /root/anaconda3/lib/python3.8/site-packages (from requests-oauthlib>=0.7.0->google-auth-oauthlib<0.5,>=0.4.1->tensorboard~=2.5->tensorflow<2.6,>=2.5.0->tensorflow_text) (3.1.1)\n",
      "Installing collected packages: grpcio, tensorflow-estimator, keras-nightly, h5py, gast, tensorflow-hub, tensorflow, tensorflow-text\n",
      "  Attempting uninstall: grpcio\n",
      "    Found existing installation: grpcio 1.32.0\n",
      "    Uninstalling grpcio-1.32.0:\n",
      "      Successfully uninstalled grpcio-1.32.0\n",
      "  Attempting uninstall: tensorflow-estimator\n",
      "    Found existing installation: tensorflow-estimator 2.4.0\n",
      "    Uninstalling tensorflow-estimator-2.4.0:\n",
      "      Successfully uninstalled tensorflow-estimator-2.4.0\n",
      "  Attempting uninstall: h5py\n",
      "    Found existing installation: h5py 2.10.0\n",
      "    Uninstalling h5py-2.10.0:\n",
      "      Successfully uninstalled h5py-2.10.0\n",
      "  Attempting uninstall: gast\n",
      "    Found existing installation: gast 0.3.3\n",
      "    Uninstalling gast-0.3.3:\n",
      "      Successfully uninstalled gast-0.3.3\n",
      "  Attempting uninstall: tensorflow\n",
      "    Found existing installation: tensorflow 2.4.1\n",
      "    Uninstalling tensorflow-2.4.1:\n",
      "      Successfully uninstalled tensorflow-2.4.1\n",
      "Successfully installed gast-0.4.0 grpcio-1.34.1 h5py-3.1.0 keras-nightly-2.5.0.dev2021032900 tensorflow-2.5.0 tensorflow-estimator-2.5.0 tensorflow-hub-0.12.0 tensorflow-text-2.5.0\n",
      "\u001b[33mWARNING: Running pip as the 'root' user can result in broken permissions and conflicting behaviour with the system package manager. It is recommended to use a virtual environment instead: https://pip.pypa.io/warnings/venv\u001b[0m\n",
      "Note: you may need to restart the kernel to use updated packages.\n"
     ]
    }
   ],
   "source": [
    "#pip install tensorflow_text"
   ]
  },
  {
   "cell_type": "code",
   "execution_count": 16,
   "metadata": {},
   "outputs": [],
   "source": [
    "from tensorflow_text.tools.wordpiece_vocab import bert_vocab_from_dataset as bert_vocab"
   ]
  },
  {
   "cell_type": "code",
   "execution_count": 17,
   "metadata": {},
   "outputs": [],
   "source": [
    "bert_tokenizer_params=dict(lower_case=True)\n",
    "reserved_tokens=[\"[PAD]\", \"[UNK]\", \"[START]\", \"[END]\"]\n",
    "bert_vocab_args = dict(\n",
    "    # The target vocabulary size\n",
    "    vocab_size = 8000,\n",
    "    # Reserved tokens that must be included in the vocabulary\n",
    "    reserved_tokens=reserved_tokens,\n",
    "    # Arguments for `text.BertTokenizer`\n",
    "    bert_tokenizer_params=bert_tokenizer_params,\n",
    "    # Arguments for `wordpiece_vocab.wordpiece_tokenizer_learner_lib.learn`\n",
    "    learn_params={},\n",
    ")"
   ]
  },
  {
   "cell_type": "code",
   "execution_count": 60,
   "metadata": {},
   "outputs": [
    {
     "name": "stdout",
     "output_type": "stream",
     "text": [
      "CPU times: user 11min 3s, sys: 37.1 s, total: 11min 40s\n",
      "Wall time: 10min 52s\n"
     ]
    }
   ],
   "source": [
    "%%time\n",
    "pt_vocab = bert_vocab.bert_vocab_from_dataset(\n",
    "    ds.batch(1000).prefetch(2),\n",
    "    **bert_vocab_args\n",
    ")"
   ]
  },
  {
   "cell_type": "code",
   "execution_count": 61,
   "metadata": {},
   "outputs": [
    {
     "name": "stdout",
     "output_type": "stream",
     "text": [
      "['[PAD]', '[UNK]', '[START]', '[END]', '!', '\"', '#', '$', '%', '&']\n",
      "['ɕ', 'ɖ', 'ə', 'ɚ', 'ɛ', 'ɜ', 'ɝ', 'ɟ', 'ɡ', 'ɣ']\n"
     ]
    }
   ],
   "source": [
    "print(pt_vocab[:10])\n",
    "print(pt_vocab[100:110])"
   ]
  },
  {
   "cell_type": "code",
   "execution_count": 62,
   "metadata": {},
   "outputs": [],
   "source": [
    "def write_vocab_file(filepath, vocab):\n",
    "    print(\"Saving vocab file to {}\".format(filepath))\n",
    "    with open(filepath, 'w') as f:\n",
    "        for token in vocab:\n",
    "            print(token, file=f)"
   ]
  },
  {
   "cell_type": "code",
   "execution_count": 63,
   "metadata": {},
   "outputs": [
    {
     "name": "stdout",
     "output_type": "stream",
     "text": [
      "Saving vocab file to working/data/fever_vocab.txt\n"
     ]
    }
   ],
   "source": [
    "vocab_file_out = 'working/data/fever_vocab.txt'\n",
    "write_vocab_file(vocab_file_out, pt_vocab)"
   ]
  },
  {
   "cell_type": "code",
   "execution_count": 64,
   "metadata": {},
   "outputs": [
    {
     "name": "stdout",
     "output_type": "stream",
     "text": [
      "7860\n"
     ]
    }
   ],
   "source": [
    "print(len(pt_vocab))"
   ]
  },
  {
   "cell_type": "code",
   "execution_count": 4,
   "metadata": {},
   "outputs": [
    {
     "name": "stdout",
     "output_type": "stream",
     "text": [
      "7860 working/data/fever_vocab.txt\n"
     ]
    }
   ],
   "source": [
    "!wc -l working/data/fever_vocab.txt"
   ]
  },
  {
   "cell_type": "markdown",
   "metadata": {},
   "source": [
    "#### Load the vocab and initialize the tokenizer"
   ]
  },
  {
   "cell_type": "code",
   "execution_count": 18,
   "metadata": {},
   "outputs": [],
   "source": [
    "import tensorflow_text as text\n",
    "bert_tokenizer_params=dict(lower_case=True)\n",
    "vocab_file_out = 'working/data/fever_vocab.txt'\n",
    "pt_tokenizer = text.BertTokenizer(vocab_file_out, **bert_tokenizer_params)"
   ]
  },
  {
   "cell_type": "code",
   "execution_count": 35,
   "metadata": {
    "collapsed": true,
    "jupyter": {
     "outputs_hidden": true
    }
   },
   "outputs": [
    {
     "name": "stdout",
     "output_type": "stream",
     "text": [
      "tf.Tensor(b\"[START] nikolaj coster waldau worked with the fox broadcasting company . [END] Nikolaj Coster-Waldau -LRB- -LSB- ne\\xc9\\xa1\\xcc\\x8aola\\xc9\\xaa\\xcc\\xaf k\\xca\\xb0\\xca\\x8csd\\xcc\\xa5\\xc9\\x90 \\xcb\\x88\\xca\\x8bald\\xcc\\xa5\\xc9\\x91\\xca\\x8a\\xcc\\xaf -RSB- ; born 27 July 1970 -RRB- is a Danish actor , producer and screenwriter . He graduated from Danish National School of Theatre in Copenhagen in 1993 . Coster-Waldau 's breakthrough performance in Denmark was his role in the film Nightwatch -LRB- 1994 -RRB- . Since then he has appeared in numerous films in his native Scandinavia and Europe in general , including Headhunters -LRB- 2011 -RRB- and A Thousand Times Good Night -LRB- 2013 -RRB- .   In the United States , his debut film role was in the war film Black Hawk Down -LRB- 2001 -RRB- , playing Medal of Honor recipient Gary Gordon . He then played Detective John Amsterdam in the short-lived Fox television series New Amsterdam -LRB- 2008 -RRB- , as well as appearing as Frank Pike in the 2009 Fox television film Virtuality , originally intended as a pilot . He became widely known to a broad audience for his current role as Ser Jaime Lannister , in the HBO series Game of Thrones . In 2017 , he became one of the highest paid actors on television and earned # 2 million per episode of Game of Thrones .  The Fox Broadcasting Company -LRB- often shortened to Fox and stylized as FOX -RRB- is an American English language commercial broadcast television network that is owned by the Fox Entertainment Group subsidiary of 21st Century Fox . The network is headquartered at the 20th Century Fox studio lot on Pico Boulevard in the Century City section of Los Angeles , with additional major offices and production facilities at the Fox Television Center in nearby West Los Angeles and the Fox Broadcasting Center in the Yorkville neighborhood of Manhattan , New York City . It is the third largest major television network in the world based on total revenues , assets , and international coverage .   Launched on October 9 , 1986 as a competitor to the Big Three television networks -LRB- ABC , NBC and CBS -RRB- , Fox went on to become the most successful attempt at a fourth television network . It was the highest-rated broadcast network in the 18 -- 49 demographic from 2004 to 2012 , and earned the position as the most-watched American television network in total viewership during the 2007 -- 08 season .   Fox and its affiliated companies operate many entertainment channels in international markets , although these do not necessarily air the same programming as the U.S. network . Most viewers in Canada have access to at least one U.S.-based Fox affiliate , either over-the-air or through a pay television provider , although Fox 's National Football League telecasts and most of its prime time programming are subject to simultaneous substitution regulations for cable and satellite providers imposed by the Canadian Radio-television and Telecommunications Commission -LRB- CRTC -RRB- to protect rights held by domestically based networks .   The network is named after sister company 20th Century Fox , and indirectly for producer William Fox , who founded one of the movie studio 's predecessors , Fox Film . Fox is a member of the North American Broadcasters Association and the National Association of Broadcasters . \", shape=(), dtype=string)\n"
     ]
    }
   ],
   "source": [
    "for d in get_dataset().take(1):\n",
    "    print(d)"
   ]
  },
  {
   "cell_type": "code",
   "execution_count": 47,
   "metadata": {},
   "outputs": [],
   "source": [
    "from sklearn import preprocessing\n",
    "\n",
    "labels = [d['label_text'] for d in formatted_train_data]\n",
    "le = preprocessing.LabelEncoder()\n",
    "le.fit(labels)\n",
    "labels_enc = le.transform(labels)"
   ]
  },
  {
   "cell_type": "code",
   "execution_count": 49,
   "metadata": {},
   "outputs": [
    {
     "name": "stdout",
     "output_type": "stream",
     "text": [
      "A peek a the reshaped labels:\n",
      "[[0. 0. 1.]\n",
      " [0. 0. 1.]\n",
      " [0. 0. 1.]\n",
      " [0. 1. 0.]\n",
      " [1. 0. 0.]]\n",
      "The datatypes of the training dataset, features=<class 'numpy.ndarray'>, labels=<class 'numpy.ndarray'>\n"
     ]
    }
   ],
   "source": [
    "train_labels = np.zeros(shape=(len(labels_enc),3))\n",
    "for idx, val in enumerate(labels_enc):\n",
    "    train_labels[idx][val]=1\n",
    "print(\"A peek a the reshaped labels:\")\n",
    "print(train_labels[:5])\n",
    "print(\"The datatypes of the training dataset, features={}, labels={}\".format(type(labels_enc), type(train_labels)))"
   ]
  },
  {
   "cell_type": "code",
   "execution_count": 52,
   "metadata": {},
   "outputs": [
    {
     "data": {
      "text/plain": [
       "<TensorSliceDataset shapes: (3,), types: tf.int32>"
      ]
     },
     "execution_count": 52,
     "metadata": {},
     "output_type": "execute_result"
    }
   ],
   "source": [
    "lbls = tf.reshape(tf.convert_to_tensor(train_labels, dtype=tf.int32), (train_labels.shape))\n",
    "lbls_ds = tf.data.Dataset.from_tensor_slices(lbls)\n",
    "lbls_ds"
   ]
  },
  {
   "cell_type": "code",
   "execution_count": 186,
   "metadata": {},
   "outputs": [],
   "source": [
    "import numpy as np\n",
    "import tensorflow as tf\n",
    "def get_train_data_generator():\n",
    "    for data in formatted_train_data:\n",
    "        claim = preprocess(data[\"claim\"])\n",
    "#         body_ids = [e[0] for e in data[\"evidence\"]]\n",
    "#         bodies = [database.get_doc_text(id) for id in set(body_ids)]\n",
    "        lines = [get_doc_line(d[0],d[1]) for d in data[\"evidence\"]]\n",
    "        yield claim, \" \".join(lines)\n",
    "        \n",
    "def get_train_dataset():\n",
    "    generator = lambda: get_train_data_generator()\n",
    "    return tf.data.Dataset.from_generator(\n",
    "            generator, output_signature=(\n",
    "            tf.TensorSpec(shape=(2, ), dtype=tf.string)))"
   ]
  },
  {
   "cell_type": "code",
   "execution_count": 187,
   "metadata": {},
   "outputs": [],
   "source": [
    "raw_ds = get_train_dataset()"
   ]
  },
  {
   "cell_type": "code",
   "execution_count": 188,
   "metadata": {},
   "outputs": [
    {
     "name": "stdout",
     "output_type": "stream",
     "text": [
      "tf.Tensor(b'He then played Detective John Amsterdam in the short-lived Fox television series New Amsterdam -LRB- 2008 -RRB- , as well as appearing as Frank Pike in the 2009 Fox television film Virtuality , originally intended as a pilot . The Fox Broadcasting Company -LRB- often shortened to Fox and stylized as FOX -RRB- is an American English language commercial broadcast television network that is owned by the Fox Entertainment Group subsidiary of 21st Century Fox .', shape=(), dtype=string)\n",
      ".....\n",
      "\n",
      "\n",
      "tf.Tensor(b'[START] nikolaj coster waldau worked with the fox broadcasting company . [END]', shape=(), dtype=string)\n"
     ]
    }
   ],
   "source": [
    "for d,e in raw_ds.take(1):\n",
    "    print(e)\n",
    "    print(\".....\\n\\n\")\n",
    "    print(d)"
   ]
  },
  {
   "cell_type": "code",
   "execution_count": 189,
   "metadata": {},
   "outputs": [
    {
     "name": "stdout",
     "output_type": "stream",
     "text": [
      "(TensorSpec(shape=(2,), dtype=tf.string, name=None), TensorSpec(shape=(3,), dtype=tf.int32, name=None))\n"
     ]
    }
   ],
   "source": [
    "raw_ds_enc_labls = tf.data.Dataset.zip((raw_ds, lbls_ds))\n",
    "print(raw_ds_enc_labls.element_spec)"
   ]
  },
  {
   "cell_type": "code",
   "execution_count": null,
   "metadata": {},
   "outputs": [],
   "source": []
  },
  {
   "cell_type": "markdown",
   "metadata": {},
   "source": [
    "#### Dev dataset"
   ]
  },
  {
   "cell_type": "code",
   "execution_count": 190,
   "metadata": {},
   "outputs": [],
   "source": [
    "import numpy as np\n",
    "import tensorflow as tf\n",
    "def get_dev_data_generator():\n",
    "    for data in dev_data_formatted:\n",
    "        claim = preprocess(data[\"claim\"])\n",
    "#         body_ids = [e[0] for e in data[\"evidence\"]]\n",
    "#         bodies = [database.get_doc_text(id) for id in set(body_ids)]\n",
    "        lines = [get_doc_line(d[0],d[1]) for d in data[\"evidence\"]]\n",
    "        yield claim, \" \".join(lines)\n",
    "        \n",
    "def get_dev_dataset():\n",
    "    generator = lambda: get_dev_data_generator()\n",
    "    return tf.data.Dataset.from_generator(\n",
    "            generator, output_signature=(\n",
    "            tf.TensorSpec(shape=(2, ), dtype=tf.string)))"
   ]
  },
  {
   "cell_type": "code",
   "execution_count": 191,
   "metadata": {},
   "outputs": [],
   "source": [
    "dev_ds = get_dev_dataset()"
   ]
  },
  {
   "cell_type": "code",
   "execution_count": 192,
   "metadata": {},
   "outputs": [],
   "source": [
    "labels = [d['label_text'] for d in dev_data_formatted]\n",
    "labels_enc = le.transform(labels)"
   ]
  },
  {
   "cell_type": "code",
   "execution_count": 193,
   "metadata": {},
   "outputs": [
    {
     "name": "stdout",
     "output_type": "stream",
     "text": [
      "A peek a the reshaped labels:\n",
      "[[1. 0. 0.]\n",
      " [1. 0. 0.]\n",
      " [0. 0. 1.]\n",
      " [1. 0. 0.]\n",
      " [0. 1. 0.]]\n",
      "The datatypes of the training dataset, features=<class 'numpy.ndarray'>, labels=<class 'numpy.ndarray'>\n"
     ]
    }
   ],
   "source": [
    "dev_labels = np.zeros(shape=(len(labels_enc),3))\n",
    "for idx, val in enumerate(labels_enc):\n",
    "    dev_labels[idx][val]=1\n",
    "print(\"A peek a the reshaped labels:\")\n",
    "print(dev_labels[:5])\n",
    "print(\"The datatypes of the training dataset, features={}, labels={}\".format(type(labels_enc), type(dev_labels)))"
   ]
  },
  {
   "cell_type": "code",
   "execution_count": 194,
   "metadata": {},
   "outputs": [
    {
     "name": "stdout",
     "output_type": "stream",
     "text": [
      "tf.Tensor(\n",
      "[[1 0 0]\n",
      " [1 0 0]\n",
      " [0 0 1]\n",
      " ...\n",
      " [1 0 0]\n",
      " [1 0 0]\n",
      " [1 0 0]], shape=(9999, 3), dtype=int32)\n"
     ]
    },
    {
     "data": {
      "text/plain": [
       "<TensorSliceDataset shapes: (3,), types: tf.int32>"
      ]
     },
     "execution_count": 194,
     "metadata": {},
     "output_type": "execute_result"
    }
   ],
   "source": [
    "lbls = tf.reshape(tf.convert_to_tensor(dev_labels, dtype=tf.int32), (dev_labels.shape))\n",
    "print(lbls)\n",
    "dev_lbls_ds = tf.data.Dataset.from_tensor_slices(lbls)\n",
    "dev_lbls_ds"
   ]
  },
  {
   "cell_type": "code",
   "execution_count": 195,
   "metadata": {},
   "outputs": [
    {
     "name": "stdout",
     "output_type": "stream",
     "text": [
      "(TensorSpec(shape=(2,), dtype=tf.string, name=None), TensorSpec(shape=(3,), dtype=tf.int32, name=None))\n"
     ]
    }
   ],
   "source": [
    "dev_ds_enc_labls = tf.data.Dataset.zip((dev_ds, dev_lbls_ds))\n",
    "print(dev_ds_enc_labls.element_spec)"
   ]
  },
  {
   "cell_type": "markdown",
   "metadata": {},
   "source": [
    "#### Build the sequences"
   ]
  },
  {
   "cell_type": "code",
   "execution_count": 196,
   "metadata": {},
   "outputs": [
    {
     "name": "stdout",
     "output_type": "stream",
     "text": [
      "tf.Tensor(b'[START] nikolaj coster waldau worked with the fox broadcasting company . [END]', shape=(), dtype=string)\n",
      "........\n",
      "\n",
      "\n",
      "tf.Tensor(b'He then played Detective John Amsterdam in the short-lived Fox television series New Amsterdam -LRB- 2008 -RRB- , as well as appearing as Frank Pike in the 2009 Fox television film Virtuality , originally intended as a pilot . The Fox Broadcasting Company -LRB- often shortened to Fox and stylized as FOX -RRB- is an American English language commercial broadcast television network that is owned by the Fox Entertainment Group subsidiary of 21st Century Fox .', shape=(), dtype=string)\n",
      "........\n",
      "\n",
      "\n",
      "tf.Tensor([0 0 1], shape=(3,), dtype=int32)\n"
     ]
    }
   ],
   "source": [
    "for d, e in raw_ds_enc_labls.take(1):\n",
    "    print(d[0])\n",
    "    print(\"........\\n\\n\")\n",
    "    print(d[1])\n",
    "    print(\"........\\n\\n\")\n",
    "    print(e)"
   ]
  },
  {
   "cell_type": "code",
   "execution_count": 197,
   "metadata": {},
   "outputs": [
    {
     "name": "stdout",
     "output_type": "stream",
     "text": [
      "<MapDataset shapes: (60,), types: tf.int64>\n",
      "<MapDataset shapes: (60,), types: tf.int64>\n",
      "<BatchDataset shapes: (((64, 60), (64, 60)), (64, 3)), types: ((tf.int64, tf.int64), tf.int32)>\n",
      "((TensorSpec(shape=(64, 60), dtype=tf.int64, name=None), TensorSpec(shape=(64, 60), dtype=tf.int64, name=None)), TensorSpec(shape=(64, 3), dtype=tf.int32, name=None))\n"
     ]
    }
   ],
   "source": [
    "BATCH_SIZE = 64\n",
    "MAX_SEQ_LEN = 60\n",
    "BUFFER_SIZE = 32000\n",
    "def tokenize_and_pad(text, max_len):\n",
    "    segment = pt_tokenizer.tokenize(text).merge_dims(1, -1)\n",
    "    inp = segment.to_tensor(shape=[None, max_len])\n",
    "    return inp[0]\n",
    "\n",
    "h = raw_ds_enc_labls.map(lambda x, y: tokenize_and_pad(x[0], MAX_SEQ_LEN))\n",
    "e = raw_ds_enc_labls.map(lambda x, y: tokenize_and_pad(x[1], MAX_SEQ_LEN))\n",
    "l = raw_ds_enc_labls.map(lambda x, y: y)\n",
    "print(h)\n",
    "print(e)\n",
    "f = tf.data.Dataset.zip((h,e))\n",
    "d = tf.data.Dataset.zip((f,l))\n",
    "dataset = d.shuffle(BUFFER_SIZE).batch(BATCH_SIZE, drop_remainder=True)\n",
    "print(dataset)\n",
    "print(dataset.element_spec)"
   ]
  },
  {
   "cell_type": "code",
   "execution_count": 198,
   "metadata": {},
   "outputs": [
    {
     "name": "stdout",
     "output_type": "stream",
     "text": [
      "<MapDataset shapes: (60,), types: tf.int64>\n",
      "<MapDataset shapes: (60,), types: tf.int64>\n",
      "<BatchDataset shapes: (((64, 60), (64, 60)), (64, 3)), types: ((tf.int64, tf.int64), tf.int32)>\n",
      "((TensorSpec(shape=(64, 60), dtype=tf.int64, name=None), TensorSpec(shape=(64, 60), dtype=tf.int64, name=None)), TensorSpec(shape=(64, 3), dtype=tf.int32, name=None))\n"
     ]
    }
   ],
   "source": [
    "BATCH_SIZE = 64\n",
    "MAX_SEQ_LEN = 60\n",
    "BUFFER_SIZE = 32000\n",
    "def tokenize_and_pad(text, max_len):\n",
    "    segment = pt_tokenizer.tokenize(text).merge_dims(1, -1)\n",
    "    inp = segment.to_tensor(shape=[None, max_len])\n",
    "    return inp[0]\n",
    "\n",
    "h = dev_ds_enc_labls.map(lambda x, y: tokenize_and_pad(x[0], MAX_SEQ_LEN))\n",
    "e = dev_ds_enc_labls.map(lambda x, y: tokenize_and_pad(x[1], MAX_SEQ_LEN))\n",
    "l = dev_ds_enc_labls.map(lambda x, y: y)\n",
    "print(h)\n",
    "print(e)\n",
    "f = tf.data.Dataset.zip((h,e))\n",
    "d = tf.data.Dataset.zip((f,l))\n",
    "dataset_dev = d.shuffle(BUFFER_SIZE).batch(BATCH_SIZE, drop_remainder=True)\n",
    "print(dataset_dev)\n",
    "print(dataset_dev.element_spec)"
   ]
  },
  {
   "cell_type": "code",
   "execution_count": 199,
   "metadata": {},
   "outputs": [],
   "source": [
    "from tensorflow import keras"
   ]
  },
  {
   "cell_type": "code",
   "execution_count": 200,
   "metadata": {},
   "outputs": [
    {
     "name": "stdout",
     "output_type": "stream",
     "text": [
      "Model: \"model_1\"\n",
      "__________________________________________________________________________________________________\n",
      "Layer (type)                    Output Shape         Param #     Connected to                     \n",
      "==================================================================================================\n",
      "hypothesis (InputLayer)         [(None, None)]       0                                            \n",
      "__________________________________________________________________________________________________\n",
      "evidence (InputLayer)           [(None, None)]       0                                            \n",
      "__________________________________________________________________________________________________\n",
      "embedding_2 (Embedding)         (None, None, 100)    800100      hypothesis[0][0]                 \n",
      "__________________________________________________________________________________________________\n",
      "embedding_3 (Embedding)         (None, None, 100)    800100      evidence[0][0]                   \n",
      "__________________________________________________________________________________________________\n",
      "bidirectional_2 (Bidirectional) (None, 200)          160800      embedding_2[0][0]                \n",
      "__________________________________________________________________________________________________\n",
      "bidirectional_3 (Bidirectional) (None, 200)          160800      embedding_3[0][0]                \n",
      "__________________________________________________________________________________________________\n",
      "concatenate_1 (Concatenate)     (None, 400)          0           bidirectional_2[0][0]            \n",
      "                                                                 bidirectional_3[0][0]            \n",
      "__________________________________________________________________________________________________\n",
      "dense_2 (Dense)                 (None, 16)           6416        concatenate_1[0][0]              \n",
      "__________________________________________________________________________________________________\n",
      "dropout_1 (Dropout)             (None, 16)           0           dense_2[0][0]                    \n",
      "__________________________________________________________________________________________________\n",
      "dense_3 (Dense)                 (None, 3)            51          dropout_1[0][0]                  \n",
      "==================================================================================================\n",
      "Total params: 1,928,267\n",
      "Trainable params: 1,928,267\n",
      "Non-trainable params: 0\n",
      "__________________________________________________________________________________________________\n"
     ]
    }
   ],
   "source": [
    "### Simple model\n",
    "vocab_size= 8000\n",
    "dim = 100\n",
    "inp1 = keras.Input(shape=(None, ), name = \"hypothesis\")\n",
    "inp2 = keras.Input(shape=(None, ), name = \"evidence\")\n",
    "embedding_hyp_layer = tf.keras.layers.Embedding(\n",
    "        input_dim=vocab_size+1,\n",
    "        output_dim=dim)\n",
    "embedding_evi_layer = tf.keras.layers.Embedding(\n",
    "        input_dim=vocab_size+1,\n",
    "        output_dim=dim)\n",
    "x_hyp = embedding_hyp_layer(inp1)\n",
    "x_evi = embedding_evi_layer(inp2)\n",
    "lstm_layer1 = tf.keras.layers.Bidirectional(tf.keras.layers.RNN(tf.keras.layers.LSTMCell(dim)))(x_hyp)\n",
    "lstm_layer2 = tf.keras.layers.Bidirectional(tf.keras.layers.RNN(tf.keras.layers.LSTMCell(dim)))(x_evi)\n",
    "w = keras.layers.concatenate([lstm_layer1, lstm_layer2], axis = 1)\n",
    "x1 = tf.keras.layers.Dense(16, activation='relu')(w)\n",
    "x2 = tf.keras.layers.Dropout(0.1)(x1)\n",
    "output = tf.keras.layers.Dense(3, activation='softmax')(x2)\n",
    "model = keras.Model(inputs=[inp1, inp2], outputs=output)\n",
    "model.compile(loss='categorical_crossentropy',\n",
    "          optimizer=tf.keras.optimizers.Adam(), \n",
    "          metrics=['accuracy'])\n",
    "model.summary()"
   ]
  },
  {
   "cell_type": "code",
   "execution_count": 201,
   "metadata": {},
   "outputs": [],
   "source": [
    "rm -rf tmp/checkpoint_*"
   ]
  },
  {
   "cell_type": "code",
   "execution_count": 202,
   "metadata": {},
   "outputs": [],
   "source": [
    "checkpoint_filepath = 'tmp/checkpoint_fever_nli'\n",
    "model_checkpoint_callback = tf.keras.callbacks.ModelCheckpoint(\n",
    "    filepath=checkpoint_filepath,\n",
    "    save_weights_only=True,\n",
    "    monitor='val_accuracy',\n",
    "    mode='max',\n",
    "    save_best_only=True)\n",
    "\n",
    "stop_early = tf.keras.callbacks.EarlyStopping(monitor='val_loss', patience=4)"
   ]
  },
  {
   "cell_type": "code",
   "execution_count": 203,
   "metadata": {},
   "outputs": [
    {
     "name": "stdout",
     "output_type": "stream",
     "text": [
      "Epoch 1/12\n",
      "2272/2272 [==============================] - 1601s 621ms/step - loss: 0.6279 - accuracy: 0.7547 - val_loss: 0.9490 - val_accuracy: 0.6096\n",
      "Epoch 2/12\n",
      "2272/2272 [==============================] - 1398s 519ms/step - loss: 0.4845 - accuracy: 0.8169 - val_loss: 1.0987 - val_accuracy: 0.6130\n",
      "Epoch 3/12\n",
      "1174/2272 [==============>...............] - ETA: 9:05 - loss: 0.4372 - accuracy: 0.8339"
     ]
    },
    {
     "ename": "KeyboardInterrupt",
     "evalue": "",
     "output_type": "error",
     "traceback": [
      "\u001b[0;31m---------------------------------------------------------------------------\u001b[0m",
      "\u001b[0;31mKeyboardInterrupt\u001b[0m                         Traceback (most recent call last)",
      "\u001b[0;32m<ipython-input-203-b84ddc65499d>\u001b[0m in \u001b[0;36m<module>\u001b[0;34m\u001b[0m\n\u001b[0;32m----> 1\u001b[0;31m \u001b[0mhistory\u001b[0m \u001b[0;34m=\u001b[0m \u001b[0mmodel\u001b[0m\u001b[0;34m.\u001b[0m\u001b[0mfit\u001b[0m\u001b[0;34m(\u001b[0m\u001b[0mdataset\u001b[0m\u001b[0;34m,\u001b[0m \u001b[0mepochs\u001b[0m \u001b[0;34m=\u001b[0m \u001b[0;36m12\u001b[0m\u001b[0;34m,\u001b[0m \u001b[0mvalidation_data\u001b[0m\u001b[0;34m=\u001b[0m\u001b[0mdataset_dev\u001b[0m\u001b[0;34m,\u001b[0m \u001b[0mcallbacks\u001b[0m\u001b[0;34m=\u001b[0m\u001b[0;34m[\u001b[0m\u001b[0mstop_early\u001b[0m\u001b[0;34m,\u001b[0m \u001b[0mmodel_checkpoint_callback\u001b[0m\u001b[0;34m]\u001b[0m\u001b[0;34m)\u001b[0m\u001b[0;34m\u001b[0m\u001b[0;34m\u001b[0m\u001b[0m\n\u001b[0m",
      "\u001b[0;32m~/anaconda3/lib/python3.8/site-packages/tensorflow/python/keras/engine/training.py\u001b[0m in \u001b[0;36mfit\u001b[0;34m(self, x, y, batch_size, epochs, verbose, callbacks, validation_split, validation_data, shuffle, class_weight, sample_weight, initial_epoch, steps_per_epoch, validation_steps, validation_batch_size, validation_freq, max_queue_size, workers, use_multiprocessing)\u001b[0m\n\u001b[1;32m   1181\u001b[0m                 _r=1):\n\u001b[1;32m   1182\u001b[0m               \u001b[0mcallbacks\u001b[0m\u001b[0;34m.\u001b[0m\u001b[0mon_train_batch_begin\u001b[0m\u001b[0;34m(\u001b[0m\u001b[0mstep\u001b[0m\u001b[0;34m)\u001b[0m\u001b[0;34m\u001b[0m\u001b[0;34m\u001b[0m\u001b[0m\n\u001b[0;32m-> 1183\u001b[0;31m               \u001b[0mtmp_logs\u001b[0m \u001b[0;34m=\u001b[0m \u001b[0mself\u001b[0m\u001b[0;34m.\u001b[0m\u001b[0mtrain_function\u001b[0m\u001b[0;34m(\u001b[0m\u001b[0miterator\u001b[0m\u001b[0;34m)\u001b[0m\u001b[0;34m\u001b[0m\u001b[0;34m\u001b[0m\u001b[0m\n\u001b[0m\u001b[1;32m   1184\u001b[0m               \u001b[0;32mif\u001b[0m \u001b[0mdata_handler\u001b[0m\u001b[0;34m.\u001b[0m\u001b[0mshould_sync\u001b[0m\u001b[0;34m:\u001b[0m\u001b[0;34m\u001b[0m\u001b[0;34m\u001b[0m\u001b[0m\n\u001b[1;32m   1185\u001b[0m                 \u001b[0mcontext\u001b[0m\u001b[0;34m.\u001b[0m\u001b[0masync_wait\u001b[0m\u001b[0;34m(\u001b[0m\u001b[0;34m)\u001b[0m\u001b[0;34m\u001b[0m\u001b[0;34m\u001b[0m\u001b[0m\n",
      "\u001b[0;32m~/anaconda3/lib/python3.8/site-packages/tensorflow/python/eager/def_function.py\u001b[0m in \u001b[0;36m__call__\u001b[0;34m(self, *args, **kwds)\u001b[0m\n\u001b[1;32m    887\u001b[0m \u001b[0;34m\u001b[0m\u001b[0m\n\u001b[1;32m    888\u001b[0m       \u001b[0;32mwith\u001b[0m \u001b[0mOptionalXlaContext\u001b[0m\u001b[0;34m(\u001b[0m\u001b[0mself\u001b[0m\u001b[0;34m.\u001b[0m\u001b[0m_jit_compile\u001b[0m\u001b[0;34m)\u001b[0m\u001b[0;34m:\u001b[0m\u001b[0;34m\u001b[0m\u001b[0;34m\u001b[0m\u001b[0m\n\u001b[0;32m--> 889\u001b[0;31m         \u001b[0mresult\u001b[0m \u001b[0;34m=\u001b[0m \u001b[0mself\u001b[0m\u001b[0;34m.\u001b[0m\u001b[0m_call\u001b[0m\u001b[0;34m(\u001b[0m\u001b[0;34m*\u001b[0m\u001b[0margs\u001b[0m\u001b[0;34m,\u001b[0m \u001b[0;34m**\u001b[0m\u001b[0mkwds\u001b[0m\u001b[0;34m)\u001b[0m\u001b[0;34m\u001b[0m\u001b[0;34m\u001b[0m\u001b[0m\n\u001b[0m\u001b[1;32m    890\u001b[0m \u001b[0;34m\u001b[0m\u001b[0m\n\u001b[1;32m    891\u001b[0m       \u001b[0mnew_tracing_count\u001b[0m \u001b[0;34m=\u001b[0m \u001b[0mself\u001b[0m\u001b[0;34m.\u001b[0m\u001b[0mexperimental_get_tracing_count\u001b[0m\u001b[0;34m(\u001b[0m\u001b[0;34m)\u001b[0m\u001b[0;34m\u001b[0m\u001b[0;34m\u001b[0m\u001b[0m\n",
      "\u001b[0;32m~/anaconda3/lib/python3.8/site-packages/tensorflow/python/eager/def_function.py\u001b[0m in \u001b[0;36m_call\u001b[0;34m(self, *args, **kwds)\u001b[0m\n\u001b[1;32m    915\u001b[0m       \u001b[0;31m# In this case we have created variables on the first call, so we run the\u001b[0m\u001b[0;34m\u001b[0m\u001b[0;34m\u001b[0m\u001b[0;34m\u001b[0m\u001b[0m\n\u001b[1;32m    916\u001b[0m       \u001b[0;31m# defunned version which is guaranteed to never create variables.\u001b[0m\u001b[0;34m\u001b[0m\u001b[0;34m\u001b[0m\u001b[0;34m\u001b[0m\u001b[0m\n\u001b[0;32m--> 917\u001b[0;31m       \u001b[0;32mreturn\u001b[0m \u001b[0mself\u001b[0m\u001b[0;34m.\u001b[0m\u001b[0m_stateless_fn\u001b[0m\u001b[0;34m(\u001b[0m\u001b[0;34m*\u001b[0m\u001b[0margs\u001b[0m\u001b[0;34m,\u001b[0m \u001b[0;34m**\u001b[0m\u001b[0mkwds\u001b[0m\u001b[0;34m)\u001b[0m  \u001b[0;31m# pylint: disable=not-callable\u001b[0m\u001b[0;34m\u001b[0m\u001b[0;34m\u001b[0m\u001b[0m\n\u001b[0m\u001b[1;32m    918\u001b[0m     \u001b[0;32melif\u001b[0m \u001b[0mself\u001b[0m\u001b[0;34m.\u001b[0m\u001b[0m_stateful_fn\u001b[0m \u001b[0;32mis\u001b[0m \u001b[0;32mnot\u001b[0m \u001b[0;32mNone\u001b[0m\u001b[0;34m:\u001b[0m\u001b[0;34m\u001b[0m\u001b[0;34m\u001b[0m\u001b[0m\n\u001b[1;32m    919\u001b[0m       \u001b[0;31m# Release the lock early so that multiple threads can perform the call\u001b[0m\u001b[0;34m\u001b[0m\u001b[0;34m\u001b[0m\u001b[0;34m\u001b[0m\u001b[0m\n",
      "\u001b[0;32m~/anaconda3/lib/python3.8/site-packages/tensorflow/python/eager/function.py\u001b[0m in \u001b[0;36m__call__\u001b[0;34m(self, *args, **kwargs)\u001b[0m\n\u001b[1;32m   3021\u001b[0m       (graph_function,\n\u001b[1;32m   3022\u001b[0m        filtered_flat_args) = self._maybe_define_function(args, kwargs)\n\u001b[0;32m-> 3023\u001b[0;31m     return graph_function._call_flat(\n\u001b[0m\u001b[1;32m   3024\u001b[0m         filtered_flat_args, captured_inputs=graph_function.captured_inputs)  # pylint: disable=protected-access\n\u001b[1;32m   3025\u001b[0m \u001b[0;34m\u001b[0m\u001b[0m\n",
      "\u001b[0;32m~/anaconda3/lib/python3.8/site-packages/tensorflow/python/eager/function.py\u001b[0m in \u001b[0;36m_call_flat\u001b[0;34m(self, args, captured_inputs, cancellation_manager)\u001b[0m\n\u001b[1;32m   1958\u001b[0m         and executing_eagerly):\n\u001b[1;32m   1959\u001b[0m       \u001b[0;31m# No tape is watching; skip to running the function.\u001b[0m\u001b[0;34m\u001b[0m\u001b[0;34m\u001b[0m\u001b[0;34m\u001b[0m\u001b[0m\n\u001b[0;32m-> 1960\u001b[0;31m       return self._build_call_outputs(self._inference_function.call(\n\u001b[0m\u001b[1;32m   1961\u001b[0m           ctx, args, cancellation_manager=cancellation_manager))\n\u001b[1;32m   1962\u001b[0m     forward_backward = self._select_forward_and_backward_functions(\n",
      "\u001b[0;32m~/anaconda3/lib/python3.8/site-packages/tensorflow/python/eager/function.py\u001b[0m in \u001b[0;36mcall\u001b[0;34m(self, ctx, args, cancellation_manager)\u001b[0m\n\u001b[1;32m    589\u001b[0m       \u001b[0;32mwith\u001b[0m \u001b[0m_InterpolateFunctionError\u001b[0m\u001b[0;34m(\u001b[0m\u001b[0mself\u001b[0m\u001b[0;34m)\u001b[0m\u001b[0;34m:\u001b[0m\u001b[0;34m\u001b[0m\u001b[0;34m\u001b[0m\u001b[0m\n\u001b[1;32m    590\u001b[0m         \u001b[0;32mif\u001b[0m \u001b[0mcancellation_manager\u001b[0m \u001b[0;32mis\u001b[0m \u001b[0;32mNone\u001b[0m\u001b[0;34m:\u001b[0m\u001b[0;34m\u001b[0m\u001b[0;34m\u001b[0m\u001b[0m\n\u001b[0;32m--> 591\u001b[0;31m           outputs = execute.execute(\n\u001b[0m\u001b[1;32m    592\u001b[0m               \u001b[0mstr\u001b[0m\u001b[0;34m(\u001b[0m\u001b[0mself\u001b[0m\u001b[0;34m.\u001b[0m\u001b[0msignature\u001b[0m\u001b[0;34m.\u001b[0m\u001b[0mname\u001b[0m\u001b[0;34m)\u001b[0m\u001b[0;34m,\u001b[0m\u001b[0;34m\u001b[0m\u001b[0;34m\u001b[0m\u001b[0m\n\u001b[1;32m    593\u001b[0m               \u001b[0mnum_outputs\u001b[0m\u001b[0;34m=\u001b[0m\u001b[0mself\u001b[0m\u001b[0;34m.\u001b[0m\u001b[0m_num_outputs\u001b[0m\u001b[0;34m,\u001b[0m\u001b[0;34m\u001b[0m\u001b[0;34m\u001b[0m\u001b[0m\n",
      "\u001b[0;32m~/anaconda3/lib/python3.8/site-packages/tensorflow/python/eager/execute.py\u001b[0m in \u001b[0;36mquick_execute\u001b[0;34m(op_name, num_outputs, inputs, attrs, ctx, name)\u001b[0m\n\u001b[1;32m     57\u001b[0m   \u001b[0;32mtry\u001b[0m\u001b[0;34m:\u001b[0m\u001b[0;34m\u001b[0m\u001b[0;34m\u001b[0m\u001b[0m\n\u001b[1;32m     58\u001b[0m     \u001b[0mctx\u001b[0m\u001b[0;34m.\u001b[0m\u001b[0mensure_initialized\u001b[0m\u001b[0;34m(\u001b[0m\u001b[0;34m)\u001b[0m\u001b[0;34m\u001b[0m\u001b[0;34m\u001b[0m\u001b[0m\n\u001b[0;32m---> 59\u001b[0;31m     tensors = pywrap_tfe.TFE_Py_Execute(ctx._handle, device_name, op_name,\n\u001b[0m\u001b[1;32m     60\u001b[0m                                         inputs, attrs, num_outputs)\n\u001b[1;32m     61\u001b[0m   \u001b[0;32mexcept\u001b[0m \u001b[0mcore\u001b[0m\u001b[0;34m.\u001b[0m\u001b[0m_NotOkStatusException\u001b[0m \u001b[0;32mas\u001b[0m \u001b[0me\u001b[0m\u001b[0;34m:\u001b[0m\u001b[0;34m\u001b[0m\u001b[0;34m\u001b[0m\u001b[0m\n",
      "\u001b[0;31mKeyboardInterrupt\u001b[0m: "
     ]
    }
   ],
   "source": [
    "history = model.fit(dataset, epochs = 12, validation_data=dataset_dev, callbacks=[stop_early, model_checkpoint_callback])"
   ]
  },
  {
   "cell_type": "code",
   "execution_count": null,
   "metadata": {},
   "outputs": [],
   "source": []
  }
 ],
 "metadata": {
  "kernelspec": {
   "display_name": "Python 3",
   "language": "python",
   "name": "python3"
  },
  "language_info": {
   "codemirror_mode": {
    "name": "ipython",
    "version": 3
   },
   "file_extension": ".py",
   "mimetype": "text/x-python",
   "name": "python",
   "nbconvert_exporter": "python",
   "pygments_lexer": "ipython3",
   "version": "3.8.5"
  }
 },
 "nbformat": 4,
 "nbformat_minor": 4
}
