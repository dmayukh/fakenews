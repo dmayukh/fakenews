{
 "cells": [
  {
   "cell_type": "code",
   "execution_count": 1,
   "metadata": {},
   "outputs": [
    {
     "name": "stdout",
     "output_type": "stream",
     "text": [
      "tail: cannot open '/local/fever-common/data/fever-data/train.jsonl' for reading: No such file or directory\n"
     ]
    }
   ],
   "source": [
    "!tail -2 /local/fever-common/data/fever-data/train.jsonl"
   ]
  },
  {
   "cell_type": "code",
   "execution_count": 1,
   "metadata": {},
   "outputs": [
    {
     "name": "stdout",
     "output_type": "stream",
     "text": [
      "{\"id\": 13114, \"verifiable\": \"VERIFIABLE\", \"label\": \"SUPPORTS\", \"claim\": \"J. R. R. Tolkien created Gimli.\", \"evidence\": [[[28359, 34669, \"Gimli_-LRB-Middle-earth-RRB-\", 0]], [[28359, 34670, \"Gimli_-LRB-Middle-earth-RRB-\", 1]]]}\n",
      "{\"id\": 152180, \"verifiable\": \"VERIFIABLE\", \"label\": \"SUPPORTS\", \"claim\": \"Susan Sarandon is an award winner.\", \"evidence\": [[[176133, 189101, \"Susan_Sarandon\", 1]], [[176133, 189102, \"Susan_Sarandon\", 2]], [[176133, 189103, \"Susan_Sarandon\", 8]]]}\n"
     ]
    }
   ],
   "source": [
    "!tail -2 data/data/fever-data/train.jsonl"
   ]
  },
  {
   "cell_type": "code",
   "execution_count": 13,
   "metadata": {},
   "outputs": [],
   "source": [
    "!mkdir -p working/data/training"
   ]
  },
  {
   "cell_type": "code",
   "execution_count": 2,
   "metadata": {},
   "outputs": [
    {
     "name": "stdout",
     "output_type": "stream",
     "text": [
      "paper_dev.ns.pages.p5.jsonl  train.ns.pages.p5.jsonl  train.pages.p5.jsonl\n"
     ]
    }
   ],
   "source": [
    "ls working/data/training/"
   ]
  },
  {
   "cell_type": "code",
   "execution_count": 26,
   "metadata": {
    "collapsed": true,
    "jupyter": {
     "outputs_hidden": true
    }
   },
   "outputs": [
    {
     "name": "stdout",
     "output_type": "stream",
     "text": [
      "Requirement already satisfied: numpy>=1.15 in /root/anaconda3/lib/python3.8/site-packages (from -r requirements.txt (line 1)) (1.19.2)\n",
      "Requirement already satisfied: regex in /root/anaconda3/lib/python3.8/site-packages (from -r requirements.txt (line 2)) (2020.10.15)\n",
      "Collecting allennlp\n",
      "  Downloading allennlp-2.5.0-py3-none-any.whl (681 kB)\n",
      "\u001b[K     |████████████████████████████████| 681 kB 5.3 MB/s eta 0:00:01\n",
      "\u001b[?25hCollecting fever-scorer\n",
      "  Downloading fever-scorer-2.0.39.tar.gz (3.9 kB)\n",
      "Collecting fever-drqa\n",
      "  Downloading fever-drqa-1.0.13.tar.gz (43 kB)\n",
      "\u001b[K     |████████████████████████████████| 43 kB 1.9 MB/s eta 0:00:011\n",
      "\u001b[?25hCollecting tensorboardX>=1.2\n",
      "  Downloading tensorboardX-2.4-py2.py3-none-any.whl (124 kB)\n",
      "\u001b[K     |████████████████████████████████| 124 kB 10.4 MB/s eta 0:00:01\n",
      "\u001b[?25hRequirement already satisfied: scipy in /root/anaconda3/lib/python3.8/site-packages (from allennlp->-r requirements.txt (line 3)) (1.5.2)\n",
      "Collecting spacy<3.1,>=2.1.0\n",
      "  Downloading spacy-3.0.6-cp38-cp38-manylinux2014_x86_64.whl (13.0 MB)\n",
      "\u001b[K     |████████████████████████████████| 13.0 MB 11.0 MB/s eta 0:00:01    |████████████████████▎           | 8.2 MB 11.0 MB/s eta 0:00:01\n",
      "\u001b[?25hCollecting overrides==3.1.0\n",
      "  Downloading overrides-3.1.0.tar.gz (11 kB)\n",
      "Requirement already satisfied: scikit-learn in /root/anaconda3/lib/python3.8/site-packages (from allennlp->-r requirements.txt (line 3)) (0.23.2)\n",
      "Collecting jsonnet>=0.10.0\n",
      "  Downloading jsonnet-0.17.0.tar.gz (259 kB)\n",
      "\u001b[K     |████████████████████████████████| 259 kB 4.8 MB/s eta 0:00:01\n",
      "\u001b[?25hRequirement already satisfied: pytest in /root/anaconda3/lib/python3.8/site-packages (from allennlp->-r requirements.txt (line 3)) (0.0.0)\n",
      "Requirement already satisfied: more-itertools in /root/anaconda3/lib/python3.8/site-packages (from allennlp->-r requirements.txt (line 3)) (8.6.0)\n",
      "Requirement already satisfied: filelock<3.1,>=3.0 in /root/anaconda3/lib/python3.8/site-packages (from allennlp->-r requirements.txt (line 3)) (3.0.12)\n",
      "Requirement already satisfied: h5py in /root/anaconda3/lib/python3.8/site-packages (from allennlp->-r requirements.txt (line 3)) (3.1.0)\n",
      "Collecting wandb<0.11.0,>=0.10.0\n",
      "  Downloading wandb-0.10.33-py2.py3-none-any.whl (1.8 MB)\n",
      "\u001b[K     |████████████████████████████████| 1.8 MB 10.0 MB/s eta 0:00:01\n",
      "\u001b[?25hRequirement already satisfied: nltk in /root/anaconda3/lib/python3.8/site-packages (from allennlp->-r requirements.txt (line 3)) (3.5)\n",
      "Collecting checklist==0.0.11\n",
      "  Downloading checklist-0.0.11.tar.gz (12.1 MB)\n",
      "\u001b[K     |████████████████████████████████| 12.1 MB 6.4 MB/s eta 0:00:01\n",
      "\u001b[?25hRequirement already satisfied: tqdm>=4.19 in /root/anaconda3/lib/python3.8/site-packages (from allennlp->-r requirements.txt (line 3)) (4.50.2)\n",
      "Requirement already satisfied: termcolor==1.1.0 in /root/anaconda3/lib/python3.8/site-packages (from allennlp->-r requirements.txt (line 3)) (1.1.0)\n",
      "Collecting torch<1.9.0,>=1.6.0\n",
      "  Downloading torch-1.8.1-cp38-cp38-manylinux1_x86_64.whl (804.1 MB)\n",
      "\u001b[K     |████████████████████████████████| 804.1 MB 15 kB/s  eta 0:00:011    |██▍                             | 60.9 MB 10.3 MB/s eta 0:01:13     |██▌                             | 62.5 MB 10.3 MB/s eta 0:01:12     |██▋                             | 64.9 MB 10.3 MB/s eta 0:01:12     |███▏                            | 79.4 MB 6.7 MB/s eta 0:01:48     |███▏                            | 79.8 MB 6.7 MB/s eta 0:01:48     |███▊                            | 94.8 MB 6.5 MB/s eta 0:01:49     |████▉                           | 121.3 MB 12.5 MB/s eta 0:00:55     |████████▎                       | 207.5 MB 9.6 MB/s eta 0:01:03     |███████████                     | 278.4 MB 4.5 MB/s eta 0:01:58     |█████████████▍                  | 335.4 MB 14.5 MB/s eta 0:00:33     |███████████████▉                | 398.6 MB 12.2 MB/s eta 0:00:34     |████████████████▋               | 417.1 MB 5.6 MB/s eta 0:01:10     |█████████████████               | 429.8 MB 5.4 MB/s eta 0:01:10     |██████████████████▏             | 455.9 MB 6.8 MB/s eta 0:00:52     |███████████████████▋            | 492.7 MB 14.4 MB/s eta 0:00:22     |█████████████████████▉          | 548.5 MB 11.6 MB/s eta 0:00:22     |████████████████████████        | 602.9 MB 8.4 MB/s eta 0:00:25     |████████████████████████▌       | 616.4 MB 10.2 MB/s eta 0:00:19     |██████████████████████████▍     | 662.6 MB 8.8 MB/s eta 0:00:17     |██████████████████████████████  | 753.2 MB 13.8 MB/s eta 0:00:04\n",
      "\u001b[?25hRequirement already satisfied: huggingface-hub>=0.0.8 in /root/anaconda3/lib/python3.8/site-packages (from allennlp->-r requirements.txt (line 3)) (0.0.12)\n",
      "Collecting lmdb\n",
      "  Downloading lmdb-1.2.1-cp38-cp38-manylinux2010_x86_64.whl (306 kB)\n",
      "\u001b[K     |████████████████████████████████| 306 kB 6.6 MB/s eta 0:00:01\n",
      "\u001b[?25hCollecting boto3<2.0,>=1.14\n",
      "  Downloading boto3-1.17.112-py2.py3-none-any.whl (131 kB)\n",
      "\u001b[K     |████████████████████████████████| 131 kB 6.4 MB/s eta 0:00:01\n",
      "\u001b[?25hCollecting torchvision<0.10.0,>=0.8.1\n",
      "  Downloading torchvision-0.9.1-cp38-cp38-manylinux1_x86_64.whl (17.4 MB)\n",
      "\u001b[K     |████████████████████████████████| 17.4 MB 6.0 MB/s eta 0:00:01\n",
      "\u001b[?25hCollecting sentencepiece\n",
      "  Downloading sentencepiece-0.1.96-cp38-cp38-manylinux_2_17_x86_64.manylinux2014_x86_64.whl (1.2 MB)\n",
      "\u001b[K     |████████████████████████████████| 1.2 MB 6.1 MB/s eta 0:00:01\n",
      "\u001b[?25hCollecting google-cloud-storage<1.39.0,>=1.38.0\n",
      "  Downloading google_cloud_storage-1.38.0-py2.py3-none-any.whl (103 kB)\n",
      "\u001b[K     |████████████████████████████████| 103 kB 7.2 MB/s eta 0:00:01\n",
      "\u001b[?25hRequirement already satisfied: requests>=2.18 in /root/anaconda3/lib/python3.8/site-packages (from allennlp->-r requirements.txt (line 3)) (2.24.0)\n",
      "Collecting transformers<4.7,>=4.1\n",
      "  Downloading transformers-4.6.1-py3-none-any.whl (2.2 MB)\n",
      "\u001b[K     |████████████████████████████████| 2.2 MB 4.9 MB/s eta 0:00:01\n",
      "\u001b[?25hCollecting munch>=2.5\n",
      "  Downloading munch-2.5.0-py2.py3-none-any.whl (10 kB)\n",
      "Collecting dill>=0.3.1\n",
      "  Downloading dill-0.3.4-py2.py3-none-any.whl (86 kB)\n",
      "\u001b[K     |████████████████████████████████| 86 kB 4.4 MB/s eta 0:00:011\n",
      "\u001b[?25hRequirement already satisfied: jupyter>=1.0 in /root/anaconda3/lib/python3.8/site-packages (from checklist==0.0.11->allennlp->-r requirements.txt (line 3)) (1.0.0)\n",
      "Requirement already satisfied: ipywidgets>=7.5 in /root/anaconda3/lib/python3.8/site-packages (from checklist==0.0.11->allennlp->-r requirements.txt (line 3)) (7.5.1)\n",
      "Collecting patternfork-nosql\n",
      "  Downloading patternfork_nosql-3.6.tar.gz (22.3 MB)\n",
      "\u001b[K     |████████████████████████████████| 22.3 MB 4.2 MB/s eta 0:00:01\n",
      "\u001b[?25hCollecting iso-639\n",
      "  Downloading iso-639-0.4.5.tar.gz (167 kB)\n",
      "\u001b[K     |████████████████████████████████| 167 kB 8.7 MB/s eta 0:00:01\n",
      "\u001b[?25hCollecting jmespath<1.0.0,>=0.7.1\n",
      "  Downloading jmespath-0.10.0-py2.py3-none-any.whl (24 kB)\n",
      "Collecting botocore<1.21.0,>=1.20.112\n",
      "  Downloading botocore-1.20.112-py2.py3-none-any.whl (7.7 MB)\n",
      "\u001b[K     |████████████████████████████████| 7.7 MB 10.2 MB/s eta 0:00:01\n",
      "\u001b[?25hCollecting s3transfer<0.5.0,>=0.4.0\n",
      "  Downloading s3transfer-0.4.2-py2.py3-none-any.whl (79 kB)\n",
      "\u001b[K     |████████████████████████████████| 79 kB 11.3 MB/s eta 0:00:01\n",
      "\u001b[?25hRequirement already satisfied: urllib3<1.27,>=1.25.4 in /root/anaconda3/lib/python3.8/site-packages (from botocore<1.21.0,>=1.20.112->boto3<2.0,>=1.14->allennlp->-r requirements.txt (line 3)) (1.25.11)\n",
      "Requirement already satisfied: python-dateutil<3.0.0,>=2.1 in /root/anaconda3/lib/python3.8/site-packages (from botocore<1.21.0,>=1.20.112->boto3<2.0,>=1.14->allennlp->-r requirements.txt (line 3)) (2.8.1)\n",
      "Collecting google-cloud-core<2.0dev,>=1.4.1\n",
      "  Downloading google_cloud_core-1.7.1-py2.py3-none-any.whl (28 kB)\n",
      "Collecting google-resumable-media<2.0dev,>=1.2.0\n",
      "  Downloading google_resumable_media-1.3.1-py2.py3-none-any.whl (75 kB)\n",
      "\u001b[K     |████████████████████████████████| 75 kB 4.0 MB/s eta 0:00:01\n",
      "\u001b[?25hRequirement already satisfied: google-auth<2.0dev,>=1.11.0 in /root/anaconda3/lib/python3.8/site-packages (from google-cloud-storage<1.39.0,>=1.38.0->allennlp->-r requirements.txt (line 3)) (1.32.0)\n",
      "Requirement already satisfied: rsa<5,>=3.1.4 in /root/anaconda3/lib/python3.8/site-packages (from google-auth<2.0dev,>=1.11.0->google-cloud-storage<1.39.0,>=1.38.0->allennlp->-r requirements.txt (line 3)) (4.7.2)\n",
      "Requirement already satisfied: pyasn1-modules>=0.2.1 in /root/anaconda3/lib/python3.8/site-packages (from google-auth<2.0dev,>=1.11.0->google-cloud-storage<1.39.0,>=1.38.0->allennlp->-r requirements.txt (line 3)) (0.2.8)\n",
      "Requirement already satisfied: setuptools>=40.3.0 in /root/anaconda3/lib/python3.8/site-packages (from google-auth<2.0dev,>=1.11.0->google-cloud-storage<1.39.0,>=1.38.0->allennlp->-r requirements.txt (line 3)) (50.3.1.post20201107)\n",
      "Requirement already satisfied: six>=1.9.0 in /root/anaconda3/lib/python3.8/site-packages (from google-auth<2.0dev,>=1.11.0->google-cloud-storage<1.39.0,>=1.38.0->allennlp->-r requirements.txt (line 3)) (1.15.0)\n",
      "Requirement already satisfied: cachetools<5.0,>=2.0.0 in /root/anaconda3/lib/python3.8/site-packages (from google-auth<2.0dev,>=1.11.0->google-cloud-storage<1.39.0,>=1.38.0->allennlp->-r requirements.txt (line 3)) (4.2.2)\n",
      "Collecting google-api-core<2.0.0dev,>=1.21.0\n",
      "  Downloading google_api_core-1.31.0-py2.py3-none-any.whl (93 kB)\n",
      "\u001b[K     |████████████████████████████████| 93 kB 2.8 MB/s  eta 0:00:01\n",
      "\u001b[?25hRequirement already satisfied: packaging>=14.3 in /root/anaconda3/lib/python3.8/site-packages (from google-api-core<2.0.0dev,>=1.21.0->google-cloud-core<2.0dev,>=1.4.1->google-cloud-storage<1.39.0,>=1.38.0->allennlp->-r requirements.txt (line 3)) (20.9)\n",
      "Requirement already satisfied: pytz in /root/anaconda3/lib/python3.8/site-packages (from google-api-core<2.0.0dev,>=1.21.0->google-cloud-core<2.0dev,>=1.4.1->google-cloud-storage<1.39.0,>=1.38.0->allennlp->-r requirements.txt (line 3)) (2020.1)\n",
      "Requirement already satisfied: protobuf>=3.12.0 in /root/anaconda3/lib/python3.8/site-packages (from google-api-core<2.0.0dev,>=1.21.0->google-cloud-core<2.0dev,>=1.4.1->google-cloud-storage<1.39.0,>=1.38.0->allennlp->-r requirements.txt (line 3)) (3.17.3)\n",
      "Collecting googleapis-common-protos<2.0dev,>=1.6.0\n",
      "  Downloading googleapis_common_protos-1.53.0-py2.py3-none-any.whl (198 kB)\n",
      "\u001b[K     |████████████████████████████████| 198 kB 6.5 MB/s eta 0:00:01\n",
      "\u001b[?25hCollecting google-crc32c<2.0dev,>=1.0\n",
      "  Downloading google_crc32c-1.1.2-cp38-cp38-manylinux2014_x86_64.whl (38 kB)\n",
      "Requirement already satisfied: cffi>=1.0.0 in /root/anaconda3/lib/python3.8/site-packages (from google-crc32c<2.0dev,>=1.0->google-resumable-media<2.0dev,>=1.2.0->google-cloud-storage<1.39.0,>=1.38.0->allennlp->-r requirements.txt (line 3)) (1.14.3)\n",
      "Requirement already satisfied: pycparser in /root/anaconda3/lib/python3.8/site-packages (from cffi>=1.0.0->google-crc32c<2.0dev,>=1.0->google-resumable-media<2.0dev,>=1.2.0->google-cloud-storage<1.39.0,>=1.38.0->allennlp->-r requirements.txt (line 3)) (2.20)\n",
      "Requirement already satisfied: typing-extensions in /root/anaconda3/lib/python3.8/site-packages (from huggingface-hub>=0.0.8->allennlp->-r requirements.txt (line 3)) (3.7.4.3)\n",
      "Requirement already satisfied: ipykernel>=4.5.1 in /root/anaconda3/lib/python3.8/site-packages (from ipywidgets>=7.5->checklist==0.0.11->allennlp->-r requirements.txt (line 3)) (5.3.4)\n",
      "Requirement already satisfied: nbformat>=4.2.0 in /root/anaconda3/lib/python3.8/site-packages (from ipywidgets>=7.5->checklist==0.0.11->allennlp->-r requirements.txt (line 3)) (5.0.8)\n",
      "Requirement already satisfied: ipython>=4.0.0 in /root/anaconda3/lib/python3.8/site-packages (from ipywidgets>=7.5->checklist==0.0.11->allennlp->-r requirements.txt (line 3)) (7.19.0)\n",
      "Requirement already satisfied: traitlets>=4.3.1 in /root/anaconda3/lib/python3.8/site-packages (from ipywidgets>=7.5->checklist==0.0.11->allennlp->-r requirements.txt (line 3)) (5.0.5)\n",
      "Requirement already satisfied: widgetsnbextension~=3.5.0 in /root/anaconda3/lib/python3.8/site-packages (from ipywidgets>=7.5->checklist==0.0.11->allennlp->-r requirements.txt (line 3)) (3.5.1)\n",
      "Requirement already satisfied: tornado>=4.2 in /root/anaconda3/lib/python3.8/site-packages (from ipykernel>=4.5.1->ipywidgets>=7.5->checklist==0.0.11->allennlp->-r requirements.txt (line 3)) (6.0.4)\n",
      "Requirement already satisfied: jupyter-client in /root/anaconda3/lib/python3.8/site-packages (from ipykernel>=4.5.1->ipywidgets>=7.5->checklist==0.0.11->allennlp->-r requirements.txt (line 3)) (6.1.7)\n",
      "Requirement already satisfied: pickleshare in /root/anaconda3/lib/python3.8/site-packages (from ipython>=4.0.0->ipywidgets>=7.5->checklist==0.0.11->allennlp->-r requirements.txt (line 3)) (0.7.5)\n",
      "Requirement already satisfied: prompt-toolkit!=3.0.0,!=3.0.1,<3.1.0,>=2.0.0 in /root/anaconda3/lib/python3.8/site-packages (from ipython>=4.0.0->ipywidgets>=7.5->checklist==0.0.11->allennlp->-r requirements.txt (line 3)) (3.0.8)\n",
      "Requirement already satisfied: pygments in /root/anaconda3/lib/python3.8/site-packages (from ipython>=4.0.0->ipywidgets>=7.5->checklist==0.0.11->allennlp->-r requirements.txt (line 3)) (2.7.2)\n",
      "Requirement already satisfied: backcall in /root/anaconda3/lib/python3.8/site-packages (from ipython>=4.0.0->ipywidgets>=7.5->checklist==0.0.11->allennlp->-r requirements.txt (line 3)) (0.2.0)\n",
      "Requirement already satisfied: decorator in /root/anaconda3/lib/python3.8/site-packages (from ipython>=4.0.0->ipywidgets>=7.5->checklist==0.0.11->allennlp->-r requirements.txt (line 3)) (4.4.2)\n",
      "Requirement already satisfied: pexpect>4.3 in /root/anaconda3/lib/python3.8/site-packages (from ipython>=4.0.0->ipywidgets>=7.5->checklist==0.0.11->allennlp->-r requirements.txt (line 3)) (4.8.0)\n",
      "Requirement already satisfied: jedi>=0.10 in /root/anaconda3/lib/python3.8/site-packages (from ipython>=4.0.0->ipywidgets>=7.5->checklist==0.0.11->allennlp->-r requirements.txt (line 3)) (0.17.1)\n",
      "Requirement already satisfied: parso<0.8.0,>=0.7.0 in /root/anaconda3/lib/python3.8/site-packages (from jedi>=0.10->ipython>=4.0.0->ipywidgets>=7.5->checklist==0.0.11->allennlp->-r requirements.txt (line 3)) (0.7.0)\n",
      "Requirement already satisfied: qtconsole in /root/anaconda3/lib/python3.8/site-packages (from jupyter>=1.0->checklist==0.0.11->allennlp->-r requirements.txt (line 3)) (4.7.7)\n",
      "Requirement already satisfied: notebook in /root/anaconda3/lib/python3.8/site-packages (from jupyter>=1.0->checklist==0.0.11->allennlp->-r requirements.txt (line 3)) (6.1.4)\n",
      "Requirement already satisfied: nbconvert in /root/anaconda3/lib/python3.8/site-packages (from jupyter>=1.0->checklist==0.0.11->allennlp->-r requirements.txt (line 3)) (6.0.7)\n",
      "Requirement already satisfied: jupyter-console in /root/anaconda3/lib/python3.8/site-packages (from jupyter>=1.0->checklist==0.0.11->allennlp->-r requirements.txt (line 3)) (6.2.0)\n",
      "Requirement already satisfied: jsonschema!=2.5.0,>=2.4 in /root/anaconda3/lib/python3.8/site-packages (from nbformat>=4.2.0->ipywidgets>=7.5->checklist==0.0.11->allennlp->-r requirements.txt (line 3)) (3.2.0)\n",
      "Requirement already satisfied: jupyter-core in /root/anaconda3/lib/python3.8/site-packages (from nbformat>=4.2.0->ipywidgets>=7.5->checklist==0.0.11->allennlp->-r requirements.txt (line 3)) (4.6.3)\n",
      "Requirement already satisfied: ipython-genutils in /root/anaconda3/lib/python3.8/site-packages (from nbformat>=4.2.0->ipywidgets>=7.5->checklist==0.0.11->allennlp->-r requirements.txt (line 3)) (0.2.0)\n",
      "Requirement already satisfied: attrs>=17.4.0 in /root/anaconda3/lib/python3.8/site-packages (from jsonschema!=2.5.0,>=2.4->nbformat>=4.2.0->ipywidgets>=7.5->checklist==0.0.11->allennlp->-r requirements.txt (line 3)) (20.3.0)\n",
      "Requirement already satisfied: pyrsistent>=0.14.0 in /root/anaconda3/lib/python3.8/site-packages (from jsonschema!=2.5.0,>=2.4->nbformat>=4.2.0->ipywidgets>=7.5->checklist==0.0.11->allennlp->-r requirements.txt (line 3)) (0.17.3)\n",
      "Requirement already satisfied: pyparsing>=2.0.2 in /root/anaconda3/lib/python3.8/site-packages (from packaging>=14.3->google-api-core<2.0.0dev,>=1.21.0->google-cloud-core<2.0dev,>=1.4.1->google-cloud-storage<1.39.0,>=1.38.0->allennlp->-r requirements.txt (line 3)) (2.4.7)\n",
      "Requirement already satisfied: ptyprocess>=0.5 in /root/anaconda3/lib/python3.8/site-packages (from pexpect>4.3->ipython>=4.0.0->ipywidgets>=7.5->checklist==0.0.11->allennlp->-r requirements.txt (line 3)) (0.6.0)\n",
      "Requirement already satisfied: wcwidth in /root/anaconda3/lib/python3.8/site-packages (from prompt-toolkit!=3.0.0,!=3.0.1,<3.1.0,>=2.0.0->ipython>=4.0.0->ipywidgets>=7.5->checklist==0.0.11->allennlp->-r requirements.txt (line 3)) (0.2.5)\n",
      "Requirement already satisfied: pyasn1<0.5.0,>=0.4.6 in /root/anaconda3/lib/python3.8/site-packages (from pyasn1-modules>=0.2.1->google-auth<2.0dev,>=1.11.0->google-cloud-storage<1.39.0,>=1.38.0->allennlp->-r requirements.txt (line 3)) (0.4.8)\n",
      "Requirement already satisfied: chardet<4,>=3.0.2 in /root/anaconda3/lib/python3.8/site-packages (from requests>=2.18->allennlp->-r requirements.txt (line 3)) (3.0.4)\n",
      "Requirement already satisfied: certifi>=2017.4.17 in /root/anaconda3/lib/python3.8/site-packages (from requests>=2.18->allennlp->-r requirements.txt (line 3)) (2020.6.20)\n",
      "Requirement already satisfied: idna<3,>=2.5 in /root/anaconda3/lib/python3.8/site-packages (from requests>=2.18->allennlp->-r requirements.txt (line 3)) (2.10)\n",
      "Collecting cymem<2.1.0,>=2.0.2\n",
      "  Downloading cymem-2.0.5-cp38-cp38-manylinux2014_x86_64.whl (35 kB)\n",
      "Collecting thinc<8.1.0,>=8.0.3\n",
      "  Downloading thinc-8.0.7-cp38-cp38-manylinux_2_17_x86_64.manylinux2014_x86_64.whl (628 kB)\n",
      "\u001b[K     |████████████████████████████████| 628 kB 9.8 MB/s eta 0:00:01\n",
      "\u001b[?25hCollecting typer<0.4.0,>=0.3.0\n",
      "  Downloading typer-0.3.2-py3-none-any.whl (21 kB)\n",
      "Collecting wasabi<1.1.0,>=0.8.1\n",
      "  Downloading wasabi-0.8.2-py3-none-any.whl (23 kB)\n",
      "Collecting srsly<3.0.0,>=2.4.1\n",
      "  Downloading srsly-2.4.1-cp38-cp38-manylinux2014_x86_64.whl (458 kB)\n",
      "\u001b[K     |████████████████████████████████| 458 kB 11.4 MB/s eta 0:00:01\n",
      "\u001b[?25hCollecting catalogue<2.1.0,>=2.0.3\n",
      "  Downloading catalogue-2.0.4-py3-none-any.whl (16 kB)\n",
      "Collecting spacy-legacy<3.1.0,>=3.0.4\n",
      "  Downloading spacy_legacy-3.0.8-py2.py3-none-any.whl (14 kB)\n",
      "Collecting blis<0.8.0,>=0.4.0\n",
      "  Downloading blis-0.7.4-cp38-cp38-manylinux2014_x86_64.whl (9.8 MB)\n",
      "\u001b[K     |████████████████████████████████| 9.8 MB 5.4 MB/s eta 0:00:01\n",
      "\u001b[?25hCollecting pydantic<1.8.0,>=1.7.1\n",
      "  Downloading pydantic-1.7.4-cp38-cp38-manylinux2014_x86_64.whl (12.3 MB)\n",
      "\u001b[K     |████████████████████████████████| 12.3 MB 10.7 MB/s eta 0:00:01    |████████████████████████▉       | 9.5 MB 10.7 MB/s eta 0:00:01\n",
      "\u001b[?25hRequirement already satisfied: jinja2 in /root/anaconda3/lib/python3.8/site-packages (from spacy<3.1,>=2.1.0->allennlp->-r requirements.txt (line 3)) (2.11.2)\n",
      "Collecting pathy>=0.3.5\n",
      "  Downloading pathy-0.6.0-py3-none-any.whl (42 kB)\n",
      "\u001b[K     |████████████████████████████████| 42 kB 1.6 MB/s eta 0:00:01\n",
      "\u001b[?25hCollecting murmurhash<1.1.0,>=0.28.0\n",
      "  Downloading murmurhash-1.0.5-cp38-cp38-manylinux2014_x86_64.whl (20 kB)\n",
      "Collecting preshed<3.1.0,>=3.0.2\n",
      "  Downloading preshed-3.0.5-cp38-cp38-manylinux2014_x86_64.whl (130 kB)\n",
      "\u001b[K     |████████████████████████████████| 130 kB 10.9 MB/s eta 0:00:01\n",
      "\u001b[?25hCollecting smart-open<6.0.0,>=5.0.0\n",
      "  Downloading smart_open-5.1.0-py3-none-any.whl (57 kB)\n",
      "\u001b[K     |████████████████████████████████| 57 kB 7.8 MB/s  eta 0:00:01\n",
      "\u001b[?25hRequirement already satisfied: pillow>=4.1.1 in /root/anaconda3/lib/python3.8/site-packages (from torchvision<0.10.0,>=0.8.1->allennlp->-r requirements.txt (line 3)) (8.0.1)\n",
      "Collecting huggingface-hub>=0.0.8\n",
      "  Downloading huggingface_hub-0.0.8-py3-none-any.whl (34 kB)\n",
      "Requirement already satisfied: sacremoses in /root/anaconda3/lib/python3.8/site-packages (from transformers<4.7,>=4.1->allennlp->-r requirements.txt (line 3)) (0.0.45)\n",
      "Requirement already satisfied: tokenizers<0.11,>=0.10.1 in /root/anaconda3/lib/python3.8/site-packages (from transformers<4.7,>=4.1->allennlp->-r requirements.txt (line 3)) (0.10.3)\n",
      "Requirement already satisfied: click<7.2.0,>=7.1.1 in /root/anaconda3/lib/python3.8/site-packages (from typer<0.4.0,>=0.3.0->spacy<3.1,>=2.1.0->allennlp->-r requirements.txt (line 3)) (7.1.2)\n",
      "Collecting promise<3,>=2.0\n",
      "  Downloading promise-2.3.tar.gz (19 kB)\n",
      "Collecting GitPython>=1.0.0\n",
      "  Downloading GitPython-3.1.18-py3-none-any.whl (170 kB)\n",
      "\u001b[K     |████████████████████████████████| 170 kB 8.6 MB/s eta 0:00:01\n",
      "\u001b[?25hCollecting shortuuid>=0.5.0\n",
      "  Downloading shortuuid-1.0.1-py3-none-any.whl (7.5 kB)\n",
      "Requirement already satisfied: pathtools in /root/anaconda3/lib/python3.8/site-packages (from wandb<0.11.0,>=0.10.0->allennlp->-r requirements.txt (line 3)) (0.1.2)\n",
      "Collecting docker-pycreds>=0.4.0\n",
      "  Downloading docker_pycreds-0.4.0-py2.py3-none-any.whl (9.0 kB)\n",
      "Requirement already satisfied: PyYAML in /root/anaconda3/lib/python3.8/site-packages (from wandb<0.11.0,>=0.10.0->allennlp->-r requirements.txt (line 3)) (5.3.1)\n",
      "Collecting sentry-sdk>=0.4.0\n",
      "  Downloading sentry_sdk-1.3.0-py2.py3-none-any.whl (133 kB)\n",
      "\u001b[K     |████████████████████████████████| 133 kB 7.1 MB/s eta 0:00:01\n",
      "\u001b[?25hCollecting subprocess32>=3.5.3\n",
      "  Downloading subprocess32-3.5.4.tar.gz (97 kB)\n",
      "\u001b[K     |████████████████████████████████| 97 kB 4.4 MB/s eta 0:00:01\n",
      "\u001b[?25hRequirement already satisfied: psutil>=5.0.0 in /root/anaconda3/lib/python3.8/site-packages (from wandb<0.11.0,>=0.10.0->allennlp->-r requirements.txt (line 3)) (5.7.2)\n",
      "Collecting configparser>=3.8.1\n",
      "  Downloading configparser-5.0.2-py3-none-any.whl (19 kB)\n",
      "Collecting gitdb<5,>=4.0.1\n",
      "  Downloading gitdb-4.0.7-py3-none-any.whl (63 kB)\n",
      "\u001b[K     |████████████████████████████████| 63 kB 3.0 MB/s eta 0:00:01\n",
      "\u001b[?25hCollecting smmap<5,>=3.0.1\n",
      "  Downloading smmap-4.0.0-py2.py3-none-any.whl (24 kB)\n",
      "Requirement already satisfied: Send2Trash in /root/anaconda3/lib/python3.8/site-packages (from notebook->jupyter>=1.0->checklist==0.0.11->allennlp->-r requirements.txt (line 3)) (1.5.0)\n",
      "Requirement already satisfied: argon2-cffi in /root/anaconda3/lib/python3.8/site-packages (from notebook->jupyter>=1.0->checklist==0.0.11->allennlp->-r requirements.txt (line 3)) (20.1.0)\n",
      "Requirement already satisfied: pyzmq>=17 in /root/anaconda3/lib/python3.8/site-packages (from notebook->jupyter>=1.0->checklist==0.0.11->allennlp->-r requirements.txt (line 3)) (19.0.2)\n",
      "Requirement already satisfied: prometheus-client in /root/anaconda3/lib/python3.8/site-packages (from notebook->jupyter>=1.0->checklist==0.0.11->allennlp->-r requirements.txt (line 3)) (0.8.0)\n",
      "Requirement already satisfied: terminado>=0.8.3 in /root/anaconda3/lib/python3.8/site-packages (from notebook->jupyter>=1.0->checklist==0.0.11->allennlp->-r requirements.txt (line 3)) (0.9.1)\n",
      "Collecting prettytable\n",
      "  Downloading prettytable-2.1.0-py3-none-any.whl (22 kB)\n",
      "Requirement already satisfied: MarkupSafe>=0.23 in /root/anaconda3/lib/python3.8/site-packages (from jinja2->spacy<3.1,>=2.1.0->allennlp->-r requirements.txt (line 3)) (1.1.1)\n",
      "Requirement already satisfied: pandocfilters>=1.4.1 in /root/anaconda3/lib/python3.8/site-packages (from nbconvert->jupyter>=1.0->checklist==0.0.11->allennlp->-r requirements.txt (line 3)) (1.4.3)\n",
      "Requirement already satisfied: bleach in /root/anaconda3/lib/python3.8/site-packages (from nbconvert->jupyter>=1.0->checklist==0.0.11->allennlp->-r requirements.txt (line 3)) (3.2.1)\n",
      "Requirement already satisfied: jupyterlab-pygments in /root/anaconda3/lib/python3.8/site-packages (from nbconvert->jupyter>=1.0->checklist==0.0.11->allennlp->-r requirements.txt (line 3)) (0.1.2)\n",
      "Requirement already satisfied: entrypoints>=0.2.2 in /root/anaconda3/lib/python3.8/site-packages (from nbconvert->jupyter>=1.0->checklist==0.0.11->allennlp->-r requirements.txt (line 3)) (0.3)\n",
      "Requirement already satisfied: nbclient<0.6.0,>=0.5.0 in /root/anaconda3/lib/python3.8/site-packages (from nbconvert->jupyter>=1.0->checklist==0.0.11->allennlp->-r requirements.txt (line 3)) (0.5.1)\n",
      "Requirement already satisfied: mistune<2,>=0.8.1 in /root/anaconda3/lib/python3.8/site-packages (from nbconvert->jupyter>=1.0->checklist==0.0.11->allennlp->-r requirements.txt (line 3)) (0.8.4)\n",
      "Requirement already satisfied: testpath in /root/anaconda3/lib/python3.8/site-packages (from nbconvert->jupyter>=1.0->checklist==0.0.11->allennlp->-r requirements.txt (line 3)) (0.4.4)\n",
      "Requirement already satisfied: defusedxml in /root/anaconda3/lib/python3.8/site-packages (from nbconvert->jupyter>=1.0->checklist==0.0.11->allennlp->-r requirements.txt (line 3)) (0.6.0)\n",
      "Requirement already satisfied: async-generator in /root/anaconda3/lib/python3.8/site-packages (from nbclient<0.6.0,>=0.5.0->nbconvert->jupyter>=1.0->checklist==0.0.11->allennlp->-r requirements.txt (line 3)) (1.10)\n",
      "Requirement already satisfied: nest-asyncio in /root/anaconda3/lib/python3.8/site-packages (from nbclient<0.6.0,>=0.5.0->nbconvert->jupyter>=1.0->checklist==0.0.11->allennlp->-r requirements.txt (line 3)) (1.4.2)\n",
      "Requirement already satisfied: webencodings in /root/anaconda3/lib/python3.8/site-packages (from bleach->nbconvert->jupyter>=1.0->checklist==0.0.11->allennlp->-r requirements.txt (line 3)) (0.5.1)\n",
      "Requirement already satisfied: joblib in /root/anaconda3/lib/python3.8/site-packages (from nltk->allennlp->-r requirements.txt (line 3)) (0.17.0)\n",
      "Requirement already satisfied: future in /root/anaconda3/lib/python3.8/site-packages (from patternfork-nosql->checklist==0.0.11->allennlp->-r requirements.txt (line 3)) (0.18.2)\n",
      "Collecting backports.csv\n",
      "  Downloading backports.csv-1.0.7-py2.py3-none-any.whl (12 kB)\n",
      "Requirement already satisfied: beautifulsoup4 in /root/anaconda3/lib/python3.8/site-packages (from patternfork-nosql->checklist==0.0.11->allennlp->-r requirements.txt (line 3)) (4.9.3)\n",
      "Requirement already satisfied: lxml in /root/anaconda3/lib/python3.8/site-packages (from patternfork-nosql->checklist==0.0.11->allennlp->-r requirements.txt (line 3)) (4.6.1)\n",
      "Collecting feedparser\n",
      "  Downloading feedparser-6.0.8-py3-none-any.whl (81 kB)\n",
      "\u001b[K     |████████████████████████████████| 81 kB 6.7 MB/s eta 0:00:011\n",
      "\u001b[?25hCollecting pdfminer.six\n",
      "  Downloading pdfminer.six-20201018-py3-none-any.whl (5.6 MB)\n",
      "\u001b[K     |████████████████████████████████| 5.6 MB 8.2 MB/s eta 0:00:01\n",
      "\u001b[?25hCollecting python-docx\n",
      "  Downloading python-docx-0.8.11.tar.gz (5.6 MB)\n",
      "\u001b[K     |████████████████████████████████| 5.6 MB 8.5 MB/s eta 0:00:01\n",
      "\u001b[?25hCollecting cherrypy\n",
      "  Downloading CherryPy-18.6.1-py2.py3-none-any.whl (419 kB)\n",
      "\u001b[K     |████████████████████████████████| 419 kB 7.3 MB/s eta 0:00:01\n",
      "\u001b[?25hRequirement already satisfied: soupsieve>1.2 in /root/anaconda3/lib/python3.8/site-packages (from beautifulsoup4->patternfork-nosql->checklist==0.0.11->allennlp->-r requirements.txt (line 3)) (2.0.1)\n",
      "Collecting jaraco.collections\n",
      "  Downloading jaraco.collections-3.3.0-py3-none-any.whl (9.9 kB)\n",
      "Collecting portend>=2.1.1\n",
      "  Downloading portend-2.7.1-py3-none-any.whl (5.3 kB)\n",
      "Collecting cheroot>=8.2.1\n",
      "  Downloading cheroot-8.5.2-py2.py3-none-any.whl (97 kB)\n",
      "\u001b[K     |████████████████████████████████| 97 kB 6.8 MB/s eta 0:00:011\n",
      "\u001b[?25hCollecting zc.lockfile\n",
      "  Downloading zc.lockfile-2.0-py2.py3-none-any.whl (9.7 kB)\n",
      "Collecting jaraco.functools\n",
      "  Downloading jaraco.functools-3.3.0-py3-none-any.whl (6.8 kB)\n",
      "Collecting tempora>=1.8\n",
      "  Downloading tempora-4.1.1-py3-none-any.whl (15 kB)\n",
      "Collecting sgmllib3k\n",
      "  Downloading sgmllib3k-1.0.0.tar.gz (5.8 kB)\n",
      "Collecting jaraco.text\n",
      "  Downloading jaraco.text-3.5.0-py3-none-any.whl (8.1 kB)\n",
      "Collecting jaraco.classes\n",
      "  Downloading jaraco.classes-3.2.1-py3-none-any.whl (5.6 kB)\n",
      "Requirement already satisfied: cryptography in /root/anaconda3/lib/python3.8/site-packages (from pdfminer.six->patternfork-nosql->checklist==0.0.11->allennlp->-r requirements.txt (line 3)) (3.1.1)\n",
      "Requirement already satisfied: sortedcontainers in /root/anaconda3/lib/python3.8/site-packages (from pdfminer.six->patternfork-nosql->checklist==0.0.11->allennlp->-r requirements.txt (line 3)) (2.2.2)\n",
      "Requirement already satisfied: iniconfig in /root/anaconda3/lib/python3.8/site-packages (from pytest->allennlp->-r requirements.txt (line 3)) (1.1.1)\n",
      "Requirement already satisfied: pluggy<1.0,>=0.12 in /root/anaconda3/lib/python3.8/site-packages (from pytest->allennlp->-r requirements.txt (line 3)) (0.13.1)\n",
      "Requirement already satisfied: py>=1.8.2 in /root/anaconda3/lib/python3.8/site-packages (from pytest->allennlp->-r requirements.txt (line 3)) (1.9.0)\n",
      "Requirement already satisfied: toml in /root/anaconda3/lib/python3.8/site-packages (from pytest->allennlp->-r requirements.txt (line 3)) (0.10.1)\n",
      "Requirement already satisfied: qtpy in /root/anaconda3/lib/python3.8/site-packages (from qtconsole->jupyter>=1.0->checklist==0.0.11->allennlp->-r requirements.txt (line 3)) (1.9.0)\n",
      "Requirement already satisfied: threadpoolctl>=2.0.0 in /root/anaconda3/lib/python3.8/site-packages (from scikit-learn->allennlp->-r requirements.txt (line 3)) (2.1.0)\n",
      "Building wheels for collected packages: checklist, overrides, jsonnet, promise, subprocess32, fever-scorer, fever-drqa, iso-639, patternfork-nosql, python-docx, sgmllib3k\n",
      "  Building wheel for checklist (setup.py) ... \u001b[?25ldone\n",
      "\u001b[?25h  Created wheel for checklist: filename=checklist-0.0.11-py3-none-any.whl size=12165620 sha256=82b1e7edfde6332f908afd5aea719261fb28160aceb9ca69c0f338eef63baea6\n",
      "  Stored in directory: /root/.cache/pip/wheels/43/3e/c3/674b24b25419fb425053ee2e3feb3515acc95552c27610167d\n",
      "  Building wheel for overrides (setup.py) ... \u001b[?25ldone\n",
      "\u001b[?25h  Created wheel for overrides: filename=overrides-3.1.0-py3-none-any.whl size=10173 sha256=1dc2a4d87e6278a9a2a576f6e93c4dd67c7d93fd277fda26734c568620404fd9\n",
      "  Stored in directory: /root/.cache/pip/wheels/6a/4f/72/28857f75625b263e2e3f5ab2fc4416c0a85960ac6485007eaa\n",
      "  Building wheel for jsonnet (setup.py) ... \u001b[?25ldone\n",
      "\u001b[?25h  Created wheel for jsonnet: filename=jsonnet-0.17.0-cp38-cp38-linux_x86_64.whl size=3392732 sha256=236710441b1f5f33cab50595208a0a8b66c21714d58665101a086b9552ea15ed\n",
      "  Stored in directory: /root/.cache/pip/wheels/68/65/13/8033268435d1948dee623d7dc60f20e2ec4d84d94487fca922\n",
      "  Building wheel for promise (setup.py) ... \u001b[?25ldone\n",
      "\u001b[?25h  Created wheel for promise: filename=promise-2.3-py3-none-any.whl size=21494 sha256=5dc5a002d9f9c5de12094b7c2b8e790ab7f62ec7327eca5fe5d1bcf0ce077222\n",
      "  Stored in directory: /root/.cache/pip/wheels/54/aa/01/724885182f93150035a2a91bce34a12877e8067a97baaf5dc8\n",
      "  Building wheel for subprocess32 (setup.py) ... \u001b[?25ldone\n",
      "\u001b[?25h  Created wheel for subprocess32: filename=subprocess32-3.5.4-py3-none-any.whl size=6487 sha256=8b9ad329ab927ab0a5da9125e9220d3de0774c93370c7f6b5ccdfca3b9432bd7\n",
      "  Stored in directory: /root/.cache/pip/wheels/9f/69/d1/50b39b308a87998eaf5c1d9095e5a5bd2ad98501e2b7936d36\n",
      "  Building wheel for fever-scorer (setup.py) ... \u001b[?25ldone\n",
      "\u001b[?25h  Created wheel for fever-scorer: filename=fever_scorer-2.0.39-py3-none-any.whl size=3584 sha256=18dc41cd559919a0f01a71ea217a82241a49fc597c46db442dec5adfb370629d\n",
      "  Stored in directory: /root/.cache/pip/wheels/04/8b/8c/1d235fae882d317149beb3c8202b6c86b03782a2bd17076c04\n",
      "  Building wheel for fever-drqa (setup.py) ... \u001b[?25ldone\n",
      "\u001b[?25h  Created wheel for fever-drqa: filename=fever_drqa-1.0.13-py3-none-any.whl size=54826 sha256=b0bd9faffa36a8d8a59cd761df23bc90a3b18881269f110d50a717eecbbf1f73\n",
      "  Stored in directory: /root/.cache/pip/wheels/75/1b/bc/d43070a28e5589e8df09e0a519e893a0c527b86a0430b25e92\n",
      "  Building wheel for iso-639 (setup.py) ... \u001b[?25ldone\n",
      "\u001b[?25h  Created wheel for iso-639: filename=iso_639-0.4.5-py3-none-any.whl size=169063 sha256=399ee4a7123e118dbc675ca232a7c770ca36a5bbf5f88bc8d57c400706d15449\n",
      "  Stored in directory: /root/.cache/pip/wheels/ed/ce/cc/1961a4de7090b2e92895fb087abfa0080a542a5706c5948bcc\n",
      "  Building wheel for patternfork-nosql (setup.py) ... \u001b[?25ldone\n",
      "\u001b[?25h  Created wheel for patternfork-nosql: filename=patternfork_nosql-3.6-py3-none-any.whl size=22332806 sha256=b13c23323c75cd32399e8642e6c216036e11c6c4b373f6a8fdf6bcd453497d06\n",
      "  Stored in directory: /root/.cache/pip/wheels/dd/7c/f8/9eaf78f9398ddf7cc5dec58a1ad8c165ea0c28d976d422e684\n",
      "  Building wheel for python-docx (setup.py) ... \u001b[?25ldone\n",
      "\u001b[?25h  Created wheel for python-docx: filename=python_docx-0.8.11-py3-none-any.whl size=184601 sha256=44f2fe42d9f2415f5b868d9c1425d76dfb1cc8d4d75d2936828613976c4c4975\n",
      "  Stored in directory: /root/.cache/pip/wheels/32/b8/b2/c4c2b95765e615fe139b0b17b5ea7c0e1b6519b0a9ec8fb34d\n",
      "  Building wheel for sgmllib3k (setup.py) ... \u001b[?25ldone\n",
      "\u001b[?25h  Created wheel for sgmllib3k: filename=sgmllib3k-1.0.0-py3-none-any.whl size=6066 sha256=eda74e74a80a74efcedc8710d707cdb4864ca5aab0078fcc4109c4dfa2783777\n",
      "  Stored in directory: /root/.cache/pip/wheels/83/63/2f/117884c3b19d46b64d3d61690333aa80c88dc14050e269c546\n",
      "Successfully built checklist overrides jsonnet promise subprocess32 fever-scorer fever-drqa iso-639 patternfork-nosql python-docx sgmllib3k\n",
      "Installing collected packages: jaraco.functools, tempora, murmurhash, jaraco.text, jaraco.classes, cymem, catalogue, zc.lockfile, wasabi, typer, srsly, smmap, smart-open, sgmllib3k, pydantic, preshed, portend, jmespath, jaraco.collections, googleapis-common-protos, cheroot, blis, thinc, spacy-legacy, python-docx, pdfminer.six, pathy, huggingface-hub, google-crc32c, google-api-core, gitdb, feedparser, cherrypy, botocore, backports.csv, transformers, torch, subprocess32, spacy, shortuuid, sentry-sdk, s3transfer, promise, patternfork-nosql, munch, iso-639, google-resumable-media, google-cloud-core, GitPython, docker-pycreds, dill, configparser, wandb, torchvision, tensorboardX, sentencepiece, prettytable, overrides, lmdb, jsonnet, google-cloud-storage, checklist, boto3, fever-scorer, fever-drqa, allennlp\n",
      "  Attempting uninstall: huggingface-hub\n",
      "    Found existing installation: huggingface-hub 0.0.12\n",
      "    Uninstalling huggingface-hub-0.0.12:\n",
      "      Successfully uninstalled huggingface-hub-0.0.12\n",
      "  Attempting uninstall: transformers\n",
      "    Found existing installation: transformers 4.8.1\n",
      "    Uninstalling transformers-4.8.1:\n",
      "      Successfully uninstalled transformers-4.8.1\n",
      "Successfully installed GitPython-3.1.18 allennlp-2.5.0 backports.csv-1.0.7 blis-0.7.4 boto3-1.17.112 botocore-1.20.112 catalogue-2.0.4 checklist-0.0.11 cheroot-8.5.2 cherrypy-18.6.1 configparser-5.0.2 cymem-2.0.5 dill-0.3.4 docker-pycreds-0.4.0 feedparser-6.0.8 fever-drqa-1.0.13 fever-scorer-2.0.39 gitdb-4.0.7 google-api-core-1.31.0 google-cloud-core-1.7.1 google-cloud-storage-1.38.0 google-crc32c-1.1.2 google-resumable-media-1.3.1 googleapis-common-protos-1.53.0 huggingface-hub-0.0.8 iso-639-0.4.5 jaraco.classes-3.2.1 jaraco.collections-3.3.0 jaraco.functools-3.3.0 jaraco.text-3.5.0 jmespath-0.10.0 jsonnet-0.17.0 lmdb-1.2.1 munch-2.5.0 murmurhash-1.0.5 overrides-3.1.0 pathy-0.6.0 patternfork-nosql-3.6 pdfminer.six-20201018 portend-2.7.1 preshed-3.0.5 prettytable-2.1.0 promise-2.3 pydantic-1.7.4 python-docx-0.8.11 s3transfer-0.4.2 sentencepiece-0.1.96 sentry-sdk-1.3.0 sgmllib3k-1.0.0 shortuuid-1.0.1 smart-open-5.1.0 smmap-4.0.0 spacy-3.0.6 spacy-legacy-3.0.8 srsly-2.4.1 subprocess32-3.5.4 tempora-4.1.1 tensorboardX-2.4 thinc-8.0.7 torch-1.8.1 torchvision-0.9.1 transformers-4.6.1 typer-0.3.2 wandb-0.10.33 wasabi-0.8.2 zc.lockfile-2.0\n",
      "\u001b[33mWARNING: Running pip as the 'root' user can result in broken permissions and conflicting behaviour with the system package manager. It is recommended to use a virtual environment instead: https://pip.pypa.io/warnings/venv\u001b[0m\n"
     ]
    }
   ],
   "source": [
    "!pip install -r requirements.txt"
   ]
  },
  {
   "cell_type": "code",
   "execution_count": 3,
   "metadata": {},
   "outputs": [],
   "source": [
    "\n",
    "class LabelSchema:\n",
    "    def __init__(self,labels):\n",
    "        self.labels = {self.preprocess(val):idx for idx,val in enumerate(labels)}\n",
    "        self.idx = {idx:self.preprocess(val) for idx,val in enumerate(labels)}\n",
    "\n",
    "    def get_id(self,label):\n",
    "        if self.preprocess(label) in self.labels:\n",
    "            return self.labels[self.preprocess(label)]\n",
    "        return None\n",
    "\n",
    "    def preprocess(self,item):\n",
    "        return item.lower()\n",
    "\n",
    "class FEVERLabelSchema(LabelSchema):\n",
    "    def __init__(self):\n",
    "        super().__init__([\"supports\", \"refutes\", \"not enough info\"])\n",
    "\n",
    "def nltk_tokenizer(text):\n",
    "    return \" \".join(word_tokenize(text))\n",
    "\n",
    "class training_line_formatter():\n",
    "        \n",
    "    def format(self, lines):\n",
    "        formatted = []\n",
    "        for line in tqdm(lines):\n",
    "            fl = self.format_line(line)\n",
    "            if fl is not None:\n",
    "                if isinstance(fl,list):\n",
    "                    formatted.extend(fl)\n",
    "                else:\n",
    "                    formatted.append(fl)\n",
    "        return formatted\n",
    "\n",
    "    def format_line(self, line):\n",
    "        label_schema = FEVERLabelSchema()\n",
    "        # get the label, i.e. SUPPORTS etc.\n",
    "        annotation = line[\"label\"]\n",
    "        if annotation is None:\n",
    "            annotation = line[\"verifiable\"]\n",
    "        pages = []\n",
    "        # did we get the closest sentences to the claim text? is this the sentence or the line number from the doc text?\n",
    "        if 'predicted_sentences' in line:\n",
    "            pages.extend([(ev[0], ev[1]) for ev in line[\"predicted_sentences\"]])\n",
    "        elif 'predicted_pages' in line:\n",
    "            pages.extend([(ev[0], -1) for ev in line[\"predicted_pages\"]])\n",
    "        else:\n",
    "            # these are the human annotated evidence available in the original training file\n",
    "            for evidence_group in line[\"evidence\"]:\n",
    "                pages.extend([(ev[2], ev[3]) for ev in evidence_group])\n",
    "        return {\"claim\": line[\"claim\"], \"evidence\": pages, \"label\": label_schema.get_id(annotation),\n",
    "                \"label_text\": annotation}"
   ]
  },
  {
   "cell_type": "code",
   "execution_count": 4,
   "metadata": {},
   "outputs": [],
   "source": [
    "class Reader:\n",
    "    def __init__(self,encoding=\"utf-8\"):\n",
    "        self.enc = encoding\n",
    "\n",
    "    def read(self,file):\n",
    "        with open(file,\"r\",encoding = self.enc) as f:\n",
    "            return self.process(f)\n",
    "\n",
    "    def process(self,f):\n",
    "        pass\n",
    "\n",
    "class JSONLineReader(Reader):\n",
    "    def process(self,fp):\n",
    "        data = []\n",
    "        for line in tqdm(fp.readlines()):\n",
    "            data.append(json.loads(line.strip()))\n",
    "        return data"
   ]
  },
  {
   "cell_type": "code",
   "execution_count": 5,
   "metadata": {},
   "outputs": [
    {
     "name": "stderr",
     "output_type": "stream",
     "text": [
      "100%|██████████| 145449/145449 [00:01<00:00, 102587.28it/s]\n"
     ]
    }
   ],
   "source": [
    "import json\n",
    "from tqdm import tqdm\n",
    "jlr = JSONLineReader()\n",
    "split = 'train'\n",
    "working_dir = 'working/data/'\n",
    "k = 5\n",
    "training_data_file = working_dir + \"training/{0}.ns.pages.p{1}.jsonl\".format(split, k)\n",
    "data = jlr.read(training_data_file)"
   ]
  },
  {
   "cell_type": "code",
   "execution_count": 6,
   "metadata": {},
   "outputs": [
    {
     "name": "stderr",
     "output_type": "stream",
     "text": [
      "100%|██████████| 145449/145449 [00:00<00:00, 153172.94it/s]\n"
     ]
    }
   ],
   "source": [
    "formatter = training_line_formatter()\n",
    "formatted_train_data = formatter.format(data)"
   ]
  },
  {
   "cell_type": "code",
   "execution_count": 7,
   "metadata": {},
   "outputs": [
    {
     "data": {
      "text/plain": [
       "[{'claim': 'Nikolaj Coster-Waldau worked with the Fox Broadcasting Company.',\n",
       "  'evidence': [('Nikolaj_Coster-Waldau', 7), ('Fox_Broadcasting_Company', 0)],\n",
       "  'label': 0,\n",
       "  'label_text': 'SUPPORTS'},\n",
       " {'claim': 'Roman Atwood is a content creator.',\n",
       "  'evidence': [('Roman_Atwood', 1), ('Roman_Atwood', 3)],\n",
       "  'label': 0,\n",
       "  'label_text': 'SUPPORTS'}]"
      ]
     },
     "execution_count": 7,
     "metadata": {},
     "output_type": "execute_result"
    }
   ],
   "source": [
    "formatted_train_data[:2]"
   ]
  },
  {
   "cell_type": "code",
   "execution_count": 8,
   "metadata": {},
   "outputs": [
    {
     "data": {
      "text/plain": [
       "[{'claim': 'System of a Down briefly disbanded in limbo.',\n",
       "  'evidence': [('In_Limbo', -1)],\n",
       "  'label': 2,\n",
       "  'label_text': 'NOT ENOUGH INFO'},\n",
       " {'claim': 'Beautiful reached number two on the Billboard Hot 100 in 2003.',\n",
       "  'evidence': [('Ricky_Martin_singles_discography', -1)],\n",
       "  'label': 2,\n",
       "  'label_text': 'NOT ENOUGH INFO'},\n",
       " {'claim': 'Neal Schon was named in 1954.',\n",
       "  'evidence': [('Double_Eclipse', -1)],\n",
       "  'label': 2,\n",
       "  'label_text': 'NOT ENOUGH INFO'},\n",
       " {'claim': 'John Wick: Chapter 2 was theatrically released in the Oregon.',\n",
       "  'evidence': [('John_Wick_-LRB-disambiguation-RRB-', -1)],\n",
       "  'label': 2,\n",
       "  'label_text': 'NOT ENOUGH INFO'},\n",
       " {'claim': 'Afghanistan is the source of the Kushan dynasty.',\n",
       "  'evidence': [('Kanishka_-LRB-name-RRB-', -1)],\n",
       "  'label': 2,\n",
       "  'label_text': 'NOT ENOUGH INFO'}]"
      ]
     },
     "execution_count": 8,
     "metadata": {},
     "output_type": "execute_result"
    }
   ],
   "source": [
    "[d for d in formatted_train_data if d['label_text'] == 'NOT ENOUGH INFO'][:5]"
   ]
  },
  {
   "cell_type": "markdown",
   "metadata": {},
   "source": [
    "#### RANDOMS, NEARESTP approach\n",
    "TODO: Need to sample sentences for the 'not enough info' class, either sample them randomly from the nearest matching document, or sample random sentences from the Wiki corpus."
   ]
  },
  {
   "cell_type": "code",
   "execution_count": 9,
   "metadata": {},
   "outputs": [
    {
     "name": "stderr",
     "output_type": "stream",
     "text": [
      "100%|██████████| 9999/9999 [00:00<00:00, 32770.82it/s]\n",
      "100%|██████████| 9999/9999 [00:00<00:00, 195804.81it/s]\n"
     ]
    },
    {
     "data": {
      "text/plain": [
       "[{'claim': 'Colin Kaepernick became a starting quarterback during the 49ers 63rd season in the National Football League.',\n",
       "  'evidence': [('Colin_Kaepernick', -1)],\n",
       "  'label': 2,\n",
       "  'label_text': 'NOT ENOUGH INFO'},\n",
       " {'claim': 'Tilda Swinton is a vegan.',\n",
       "  'evidence': [('Swinton_-LRB-surname-RRB-', -1)],\n",
       "  'label': 2,\n",
       "  'label_text': 'NOT ENOUGH INFO'}]"
      ]
     },
     "execution_count": 9,
     "metadata": {},
     "output_type": "execute_result"
    }
   ],
   "source": [
    "import json\n",
    "from tqdm import tqdm\n",
    "jlr = JSONLineReader()\n",
    "split = 'paper_dev'\n",
    "working_dir = 'working/data/'\n",
    "k = 5\n",
    "dev_data_file = working_dir + \"training/{0}.ns.pages.p{1}.jsonl\".format(split, k)\n",
    "dev_data = jlr.read(dev_data_file)\n",
    "\n",
    "formatter = training_line_formatter()\n",
    "formatted_dev_data = formatter.format(dev_data)\n",
    "\n",
    "dev_data_formatted = []\n",
    "dev_data_formatted.extend(filter(lambda record: record is not None, formatted_dev_data))\n",
    "dev_data_formatted[:2]"
   ]
  },
  {
   "cell_type": "markdown",
   "metadata": {},
   "source": [
    "#### Build the tokenizer"
   ]
  },
  {
   "cell_type": "code",
   "execution_count": 10,
   "metadata": {},
   "outputs": [],
   "source": [
    "import random\n",
    "import os\n",
    "\n",
    "class SimpleRandom():\n",
    "    instance = None\n",
    "\n",
    "    def __init__(self,seed):\n",
    "        self.seed = seed\n",
    "        self.random = random.Random(seed)\n",
    "\n",
    "    def next_rand(self,a,b):\n",
    "        return self.random.randint(a,b)\n",
    "\n",
    "    @staticmethod\n",
    "    def get_instance():\n",
    "        if SimpleRandom.instance is None:\n",
    "            SimpleRandom.instance = SimpleRandom(SimpleRandom.get_seed())\n",
    "        return SimpleRandom.instance\n",
    "\n",
    "    @staticmethod\n",
    "    def get_seed():\n",
    "        return int(os.getenv(\"RANDOM_SEED\", 12459))\n",
    "\n",
    "    @staticmethod\n",
    "    def set_seeds():\n",
    "\n",
    "        torch.manual_seed(SimpleRandom.get_seed())\n",
    "        if gpu():\n",
    "            torch.cuda.manual_seed_all(SimpleRandom.get_seed())\n",
    "        np.random.seed(SimpleRandom.get_seed())\n",
    "        random.seed(SimpleRandom.get_seed())"
   ]
  },
  {
   "cell_type": "code",
   "execution_count": 11,
   "metadata": {},
   "outputs": [],
   "source": [
    "from drqa.retriever import DocDB, utils\n",
    "class FeverDocDB(DocDB):\n",
    "\n",
    "    def __init__(self,path=None):\n",
    "        super().__init__(path)\n",
    "\n",
    "    def get_doc_lines(self, doc_id):\n",
    "        \"\"\"Fetch the raw text of the doc for 'doc_id'.\"\"\"\n",
    "        cursor = self.connection.cursor()\n",
    "        cursor.execute(\n",
    "            \"SELECT lines FROM documents WHERE id = ?\",\n",
    "            (utils.normalize(doc_id),)\n",
    "        )\n",
    "        result = cursor.fetchone()\n",
    "        cursor.close()\n",
    "        return result if result is None else result[0]\n",
    "\n",
    "    def get_non_empty_doc_ids(self):\n",
    "        \"\"\"Fetch all ids of docs stored in the db.\"\"\"\n",
    "        cursor = self.connection.cursor()\n",
    "        cursor.execute(\"SELECT id FROM documents WHERE length(trim(text)) > 0\")\n",
    "        results = [r[0] for r in cursor.fetchall()]\n",
    "        cursor.close()\n",
    "        return results\n",
    "#database_path = '/local/fever-common/data/fever/fever.db'\n",
    "database_path = 'data/data/fever/fever.db'\n",
    "database = FeverDocDB(database_path)"
   ]
  },
  {
   "cell_type": "code",
   "execution_count": 12,
   "metadata": {},
   "outputs": [],
   "source": [
    "ename = \"evidence\"\n",
    "def claims(data):\n",
    "    return [datum[\"claim\"] for datum in data]\n",
    "def body_ids(data):\n",
    "    return [[d[0] for d in datum[ename] ] for datum in data]\n",
    "def flatten(l):\n",
    "    return [item for sublist in l for item in sublist]\n",
    "def bodies(data):\n",
    "    return [database.get_doc_text(id) for id in set(flatten(body_ids(data)))]\n",
    "\n",
    "def texts(data):\n",
    "    return [\" \".join(set(instance)) for instance in body_lines(data)]\n",
    "\n",
    "def body_lines(data):\n",
    "    return [[get_doc_line(d[0],d[1]) for d in datum[ename] ] for datum in data]\n",
    "\n",
    "def get_doc_line(doc,line):\n",
    "    lines = database.get_doc_lines(doc)\n",
    "    ### if this is from annotated evidences\n",
    "    if line > -1:\n",
    "        return lines.split(\"\\n\")[line].split(\"\\t\")[1] #get all the lines from the document and match with the line ids that were annotated as evidence by the human annotators\n",
    "    else: ### if this is from not enough info evidences, NearestP method, to sample \"a\" single sentence randomly from the nearest page match\n",
    "        non_empty_lines = [line.split(\"\\t\")[1] for line in lines.split(\"\\n\") if len(line.split(\"\\t\"))>1 and len(line.split(\"\\t\")[1].strip())]\n",
    "        return non_empty_lines[SimpleRandom.get_instance().next_rand(0,len(non_empty_lines)-1)]    "
   ]
  },
  {
   "cell_type": "code",
   "execution_count": 13,
   "metadata": {},
   "outputs": [
    {
     "data": {
      "text/plain": [
       "[{'claim': 'System of a Down briefly disbanded in limbo.',\n",
       "  'evidence': [('In_Limbo', -1)],\n",
       "  'label': 2,\n",
       "  'label_text': 'NOT ENOUGH INFO'},\n",
       " {'claim': 'Beautiful reached number two on the Billboard Hot 100 in 2003.',\n",
       "  'evidence': [('Ricky_Martin_singles_discography', -1)],\n",
       "  'label': 2,\n",
       "  'label_text': 'NOT ENOUGH INFO'}]"
      ]
     },
     "execution_count": 13,
     "metadata": {},
     "output_type": "execute_result"
    }
   ],
   "source": [
    "[d for d in formatted_train_data if d['label_text'] == 'NOT ENOUGH INFO'][:2]"
   ]
  },
  {
   "cell_type": "code",
   "execution_count": 14,
   "metadata": {},
   "outputs": [
    {
     "data": {
      "text/plain": [
       "[('Nikolaj_Coster-Waldau', 7), ('Fox_Broadcasting_Company', 0)]"
      ]
     },
     "execution_count": 14,
     "metadata": {},
     "output_type": "execute_result"
    }
   ],
   "source": [
    "cl = formatted_train_data[0]['claim']\n",
    "ev = formatted_train_data[0]['evidence']\n",
    "[(d[0],d[1]) for d in ev]"
   ]
  },
  {
   "cell_type": "code",
   "execution_count": 15,
   "metadata": {},
   "outputs": [
    {
     "data": {
      "text/plain": [
       "'He then played Detective John Amsterdam in the short-lived Fox television series New Amsterdam -LRB- 2008 -RRB- , as well as appearing as Frank Pike in the 2009 Fox television film Virtuality , originally intended as a pilot .'"
      ]
     },
     "execution_count": 15,
     "metadata": {},
     "output_type": "execute_result"
    }
   ],
   "source": [
    "get_doc_line('Nikolaj_Coster-Waldau', 7)"
   ]
  },
  {
   "cell_type": "code",
   "execution_count": 16,
   "metadata": {
    "tags": []
   },
   "outputs": [
    {
     "data": {
      "text/plain": [
       "\"0\\tPuerto Rican singer Ricky Martin has released seventy-nine Spanish and English-language singles .\\tRicky Martin\\tRicky Martin (1999 album)\\tsingles\\tsingle (music)\\n1\\tIn 1984 , thirteen-year-old Martin became a member of the Puerto Rican boy band Menudo .\\tMenudo\\tMenudo (band)\\n2\\tAfter recording eleven albums with the group , he left Menudo in 1989 , hoping to rest and evaluate his career path .\\tMenudo\\tMenudo (band)\\n3\\tIn 1990 , he was signed to Sony Discos , the Sony Music Entertainment 's Latin imprint .\\tSony Discos\\tSony Music Latin\\tSony Music Entertainment\\tSony Music Entertainment\\n4\\tMartin released his debut solo album , the Spanish-language Ricky Martin , in November 1991 .\\tRicky Martin\\tRicky Martin (1999 album)\\n5\\tIt included hit singles : `` Fuego Contra Fuego '' , `` El Amor de Mi Vida '' and `` Vuelo '' .\\tsingles\\tsingle (music)\\tFuego Contra Fuego\\tFuego Contra Fuego\\tEl Amor de Mi Vida\\tEl Amor de Mi Vida (song)\\tVuelo\\tVuelo (song)\\tVida\\tVida (Ricky Martin song)\\n6\\tHis second Spanish-language solo album , Me Amarás -LRB- 1993 -RRB- featured further successful singles : `` Me Amarás '' , `` Que Dia Es Hoy '' and `` Entre el Amor y los Halagos '' .\\tsingles\\tsingle (music)\\tMe Amarás\\tMe Amarás (song)\\tQue Dia Es Hoy\\tSelf Control (Raf song)#Ricky Martin version\\tEntre el Amor y los Halagos\\tEntre el Amor y los Halagos\\n7\\t\\n8\\t\\n9\\tMartin 's third Spanish-language album , A Medio Vivir -LRB- 1995 -RRB- included his international breakthrough single , `` María '' .\\tA Medio Vivir\\tA Medio Vivir (album)\\tMaría\\tMaría (Ricky Martin song)\\n10\\tThe song topped the chart in France for nine consecutive weeks in early 1997 and was certified Diamond after selling 1.4 million copies .\\n11\\t`` María '' also topped the chart in Belgium Wallonia for ten weeks and in Australia for six weeks , and reached top ten in the United Kingdom , Germany , Austria , Switzerland , Belgium Flanders , Italy , Finland , Sweden , the Netherlands , Denmark and New Zealand .\\tMaría\\tMaría (Ricky Martin song)\\n12\\tIt was also certified double Platintum in Belgium , Platinum in Australia , and Gold in Germany , Switzerland , Sweden and the Netherlands .\\n13\\t`` María '' has sold over five million copies worldwide .\\tMaría\\tMaría (Ricky Martin song)\\n14\\tA Medio Vivir also included two other successful singles : `` Te Extraño , Te Olvido , Te Amo '' and `` Volverás '' .\\tsingles\\tsingle (music)\\tA Medio Vivir\\tA Medio Vivir (album)\\tVolverás\\tVolverás (Ricky Martin song)\\n15\\t\\n16\\t\\n17\\t`` Vuelve '' , the lead single from the album of the same name released in 1998 became Martin 's first track to top three Billboard charts : Hot Latin Songs , Latin Pop Airplay and Tropical Songs .\\tVuelve\\tVuelve (album)\\tthe same name\\tVuelve (album)\\tBillboard\\tBillboard (magazine)\\tHot Latin Songs\\tHot Latin Songs\\tLatin Pop Airplay\\tLatin Pop Airplay\\tTropical Songs\\tTropical Songs\\n18\\t`` La Copa de la Vida '' -LRB- `` The Cup of Life '' -RRB- , released as the second single and the official song of the 1998 FIFA World Cup , became a worldwide hit .\\tThe Cup of Life\\tThe Cup of Life\\t1998 FIFA World Cup\\t1998 FIFA World Cup\\tLife\\tLife (Ricky Martin album)\\tVida\\tVida (Ricky Martin song)\\n19\\tIt topped the charts in Germany , France , Spain , Italy , Sweden , Switzerland , Belgium Wallonia and in Australia , and was certified Platinum and Gold in various countries .\\n20\\t`` The Cup of Life '' , released in Australia a double A-side single with `` María '' , became the best-selling single of 1998 in this country .\\tMaría\\tMaría (Ricky Martin song)\\tThe Cup of Life\\tThe Cup of Life\\tA-side\\tA-side and B-side\\tbest-selling single of 1998\\tList of Top 25 singles for 1998 in Australia\\tLife\\tLife (Ricky Martin album)\\n21\\tOn the same night Martin performed `` The Cup of Life '' at the 41st Annual Grammy Awards , Vuelve won Grammy Award for Best Latin Pop Performance .\\tVuelve\\tVuelve (album)\\tThe Cup of Life\\tThe Cup of Life\\t41st Annual Grammy Awards\\t41st Annual Grammy Awards\\tGrammy Award for Best Latin Pop Performance\\tGrammy Award for Best Latin Pop Album\\tLife\\tLife (Ricky Martin album)\\n22\\tVuelve also included `` La Bomba '' -LRB- number five in Spain -RRB- , `` Perdido Sin Ti '' -LRB- number one on the US Hot Latin Songs and Latin Pop Airplay -RRB- and `` Por Arriba , Por Abajo '' -LRB- number thirteen in Spain -RRB- .\\tVuelve\\tVuelve (album)\\tHot Latin Songs\\tHot Latin Songs\\tLatin Pop Airplay\\tLatin Pop Airplay\\tLa Bomba\\tLa Bomba (Ricky Martin song)\\tPerdido Sin Ti\\tPerdido Sin Ti\\n23\\t\\n24\\t\\n25\\tMartin 's first English-language album , Ricky Martin , was released in 1999 and included his biggest hit and singnature song , `` Livin ' la Vida Loca '' .\\tRicky Martin\\tRicky Martin (1999 album)\\tVida\\tVida (Ricky Martin song)\\n26\\tIt topped the Billboard Hot 100 for five consecutive weeks and was certified Platinum by the RIAA for selling over 1.1 million of physical copies .\\tBillboard\\tBillboard (magazine)\\tRIAA\\tRecording Industry Association of America\\n27\\t`` Livin ' la Vida Loca '' also topped many other Billboard charts including Hot Latin Songs and Latin Pop Airplay .\\tBillboard\\tBillboard (magazine)\\tHot Latin Songs\\tHot Latin Songs\\tLatin Pop Airplay\\tLatin Pop Airplay\\tVida\\tVida (Ricky Martin song)\\n28\\tIt also became Martin 's first number-one on the UK Singles Chart where it has sold 900,000 copies and was certified Platinum .\\tUK Singles Chart\\tUK Singles Chart\\n29\\t`` Livin ' la Vida Loca '' also reached number one in Canada , Ireland and New Zealand .\\tVida\\tVida (Ricky Martin song)\\n30\\tIn other countries , it was a top ten hit , certified multi-Platinum , Platinum , Gold and Silver around the world .\\n31\\tThe second single , `` She 's All I Ever Had '' topped the US Hot Latin Songs and Latin Pop Airplay charts , reached number two on the Billboard Hot 100 , number three in Canada , number eight in New Zealand and number ten in Finland .\\tBillboard\\tBillboard (magazine)\\tHot Latin Songs\\tHot Latin Songs\\tLatin Pop Airplay\\tLatin Pop Airplay\\n32\\tIt was certified Gold in the United States and Australia .\\n33\\tRicky Martin also included `` Shake Your Bon-Bon '' -LRB- top ten single in Finland , Canada and New Zealand -RRB- and `` Private Emotion '' -LRB- top ten single in various European countries , including the UK -RRB- .\\tRicky Martin\\tRicky Martin (1999 album)\\tShake Your Bon-Bon\\tShake Your Bon-Bon\\tPrivate Emotion\\tPrivate Emotion\\n34\\t\\n35\\t\\n36\\t`` She Bangs '' , the lead single from Martin 's second English-language album Sound Loaded -LRB- 2000 -RRB- , topped the charts in Italy and Sweden , and also reached number one on the US Hot Latin Songs and Tropical Songs .\\tHot Latin Songs\\tHot Latin Songs\\tTropical Songs\\tTropical Songs\\tShe Bangs\\tShe Bangs\\tSound Loaded\\tSound Loaded\\tLoaded\\tLoaded (Ricky Martin song)\\n37\\tIt was a top ten hit in the UK , Australia , Canada , Spain , Ireland , New Zealand , Switzerland , Finland and Norway .\\n38\\t`` She Bangs '' was certified Platinum in Australia , Gold in Sweden and Silver in the UK .\\tShe Bangs\\tShe Bangs\\n39\\tIt won Latin Grammy Award for Best Short Form Music Video .\\tLatin Grammy Award for Best Short Form Music Video\\tLatin Grammy Award for Best Short Form Music Video\\tLatin Grammy Award\\tLatin Grammy Award\\n40\\tThe second single , `` Nobody Wants to Be Lonely '' -LRB- duet with Christina Aguilera -RRB- was also successful reaching number one in New Zealand and the top ten in Australia and most European countries , including the UK .\\tNobody Wants to Be Lonely\\tNobody Wants to Be Lonely\\tChristina Aguilera\\tChristina Aguilera\\n41\\tIt was also certified Gold in various countries .\\n42\\tThe solo Spanish-language version of `` Nobody Wants to Be Lonely '' titled `` Sólo Quiero Amarte '' topped Hot Latin Songs , Latin Pop Airplay and Tropical Songs in the US .\\tHot Latin Songs\\tHot Latin Songs\\tLatin Pop Airplay\\tLatin Pop Airplay\\tTropical Songs\\tTropical Songs\\tNobody Wants to Be Lonely\\tNobody Wants to Be Lonely\\n43\\tThe third single , `` Loaded '' reached top forty in Sweden , Spain , Italy and the UK .\\tLoaded\\tLoaded (Ricky Martin song)\\n44\\t\\n45\\t\\n46\\tThe lead single from the next Spanish-language album Almas del Silencio -LRB- 2003 -RRB- , `` Tal Vez '' debuted at number one on the US Hot Latin Songs and spent eleven weeks at the top .\\tHot Latin Songs\\tHot Latin Songs\\tAlmas del Silencio\\tAlmas del Silencio\\tTal Vez\\tTal Vez (song)\\n47\\tIt also spent thirteen weeks at the top of Latin Pop Airplay and peaked at number one on the Tropical Songs .\\tLatin Pop Airplay\\tLatin Pop Airplay\\tTropical Songs\\tTropical Songs\\n48\\tIt was also number-one song on two 2003 Billboard Year-End charts : Hot Latin Songs and Latin Pop Airplay .\\tBillboard\\tBillboard (magazine)\\tHot Latin Songs\\tHot Latin Songs\\tLatin Pop Airplay\\tLatin Pop Airplay\\n49\\tThe second single , `` Jaleo '' reached number one in Spain and on the Hot Latin Songs in the US .\\tHot Latin Songs\\tHot Latin Songs\\tJaleo\\tJaleo (Ricky Martin song)\\n50\\tIt was also a top ten hit in Italy and Sweden .\\n51\\tOther singles included : `` Asignatura Pendiente '' -LRB- number five on Hot Latin Songs -RRB- , `` Juramento '' -LRB- number eleven in Spain -RRB- and `` Y Todo Queda en Nada '' -LRB- another number-one on the Hot Latin Songs -RRB- .\\tsingles\\tsingle (music)\\tHot Latin Songs\\tHot Latin Songs\\tAsignatura Pendiente\\tAsignatura Pendiente\\tJuramento\\tJuramento (song)\\tY Todo Queda en Nada\\tY Todo Queda en Nada\\n52\\tThe third English-language album , Life -LRB- 2005 -RRB- was promoted by `` I Do n't Care '' .\\tLife\\tLife (Ricky Martin album)\\n53\\tThe single reached top ten in Italy and Finland , and on three Billboard charts : Dance Club Songs -LRB- number three -RRB- , Hot Latin Songs -LRB- number seven -RRB- and Tropical Airplay -LRB- number eight -RRB- .\\tBillboard\\tBillboard (magazine)\\tHot Latin Songs\\tHot Latin Songs\\tDance Club Songs\\tDance Club Songs\\n54\\tAnother song form the album , `` It 's Alright '' was re-recorded with M. Pokora and became a hit in Francophone countries , reaching number four in France and being certified Silver .\\tM. Pokora\\tM. Pokora\\n55\\t\\n56\\t\\n57\\tMartin 's 2006 Latin Grammy Award-winning album , MTV Unplugged included a hit song , `` Tu Recuerdo '' -LRB- featuring La Mari -RRB- .\\tLatin Grammy Award\\tLatin Grammy Award\\tMTV Unplugged\\tMTV Unplugged (Ricky Martin album)\\tTu Recuerdo\\tTu Recuerdo (Ricky Martin song)\\tLa Mari\\tMaría del Mar Rodríguez Carnero\\n58\\tIt was a number one on Hot Latin Songs and Latin Pop Airplay in the US , number one on the Airplay chart in Spain -LRB- number two on the Downloads chart -RRB- and number one in Venezuela .\\tHot Latin Songs\\tHot Latin Songs\\tLatin Pop Airplay\\tLatin Pop Airplay\\n59\\tIt was also certified five-times Platinum in Spain and four-times Platinum in Mexico .\\n60\\tThe second single , `` Pégate '' reached number six on the US Dance Club Songs , number nine on Latin Pop Airplay and Tropical Songs , number eleven on Hot Latin Songs and number thirteen in Spain .\\tHot Latin Songs\\tHot Latin Songs\\tLatin Pop Airplay\\tLatin Pop Airplay\\tTropical Songs\\tTropical Songs\\tDance Club Songs\\tDance Club Songs\\tPégate\\tPégate\\n61\\tIt was also certified four-times Platinum in Mexico .\\n62\\tIn 2007 , Martin recorded a duet with Eros Ramazzotti , `` Non siamo soli '' .\\tEros Ramazzotti\\tEros Ramazzotti\\tNon siamo soli\\tNon siamo soli\\n63\\tThe song topped the Italian chart for eleven consecutive weeks .\\n64\\tIt was also a top-ten hit in Spain -LRB- four-times Platinum certification -RRB- , Hungary and Switzerland .\\n65\\t\\n66\\t\\n67\\tIn 2010 , Martin returned to the recording studio and released `` The Best Thing About Me Is You '' -LRB- `` Lo Mejor de Mi Vida Eres Tú '' -RRB- , the first single from Música + Alma + Sexo -LRB- 2011 -RRB- .\\tThe Best Thing About Me Is You\\tThe Best Thing About Me Is You\\tMúsica + Alma + Sexo\\tMúsica + Alma + Sexo\\tVida\\tVida (Ricky Martin song)\\n68\\tThe Spanish-language version of this song topped the US Hot Latin Songs and Latin Pop Airplay charts .\\tHot Latin Songs\\tHot Latin Songs\\tLatin Pop Airplay\\tLatin Pop Airplay\\n69\\tIt was also a top ten hit in Mexico being certified Platinum .\\n70\\tFurther singles included `` Más '' and `` Frío '' .\\tsingles\\tsingle (music)\\tMás\\tMás (Ricky Martin song)\\tFrío\\tFrío (song)\\n71\\tIn 2013 , Martin released `` Come with Me '' which reached number three in Australia and was certified Gold .\\tCome with Me\\tCome with Me (Ricky Martin song)\\n72\\tIt also topped the Billboard '' 's Latin Airplay chart and reached number nine in Spain .\\tBillboard\\tBillboard (magazine)\\tLatin Airplay\\tBillboard charts#Latin\\n73\\tAnother success came with `` Adrenalina '' , a Wisin song which featured Martin and Jennifer Lopez .\\tAdrenalina\\tAdrenalina (Wisin song)\\tWisin\\tWisin\\tJennifer Lopez\\tJennifer Lopez\\n74\\tIt topped the US Latin Airplay and Latin Rhythm Airplay charts , reached number two on Hot Latin Songs , number three in Spain and number four in Mexico .\\tHot Latin Songs\\tHot Latin Songs\\tLatin Airplay\\tBillboard charts#Latin\\tLatin Rhythm Airplay\\tLatin Rhythm Airplay\\n75\\tIt was also certified two-times Platinum in Spain and Platinum in Mexico .\\n76\\t`` Vida '' , recorded for the 2014 FIFA World Cup , reached top ten in Spain and Mexico , and also on the US Hot Latin Songs .\\tHot Latin Songs\\tHot Latin Songs\\tVida\\tVida (Ricky Martin song)\\t2014 FIFA World Cup\\t2014 FIFA World Cup\\n77\\t\\n78\\t\\n79\\tIn 2014 , `` Adiós '' was released as the first single from Martin 's 2015 album , A Quien Quiera Escuchar .\\tAdiós\\tAdiós (Ricky Martin song)\\tA Quien Quiera Escuchar\\tA Quien Quiera Escuchar\\n80\\tIt was successful in Latin America , topping the charts in Colombia and Mexico , where it was also certified Gold .\\tLatin America\\tLatin America\\n81\\t`` Adiós '' also reached top ten on the US Latin charts .\\tAdiós\\tAdiós (Ricky Martin song)\\n82\\tThe next single , `` Disparo al Corazón '' topped the US Latin Airplay chart , Latin Pop Airplay , reached number nine on the Hot Latin Songs and became a top ten hit in Mexico .\\tHot Latin Songs\\tHot Latin Songs\\tLatin Pop Airplay\\tLatin Pop Airplay\\tLatin Airplay\\tBillboard charts#Latin\\tDisparo al Corazón\\tDisparo al Corazón\\n83\\tThe most successful single from A Quien Quiera Escuchar , `` La Mordidita '' reached number one on the US Latin Airplay , Latin Pop Airplay and topped the charts Latin America , including Dominican Republic and Venezuela .\\tLatin Pop Airplay\\tLatin Pop Airplay\\tLatin Airplay\\tBillboard charts#Latin\\tA Quien Quiera Escuchar\\tA Quien Quiera Escuchar\\tLatin America\\tLatin America\\tLa Mordidita\\tLa Mordidita\\n84\\tIn Spain , it reached number three , and on the Hot Latin Songs , it peaked at number six .\\tHot Latin Songs\\tHot Latin Songs\\n85\\tIt was certified double-Platinum in Spain and Gold in Mexico .\\n86\\tAfter A Quien Quiera Escuchar won the Grammy Award for Best Latin Pop Album in 2016 , Martin 's fourth single , `` Perdóname '' started storming the charts .\\tA Quien Quiera Escuchar\\tA Quien Quiera Escuchar\\tGrammy Award for Best Latin Pop Album\\tGrammy Award for Best Latin Pop Album\\tPerdóname\\tPerdóname (Ricky Martin song)\\n87\\t\\n88\\t\\n89\\tIn 2015 , he released `` Mr. Put It Down '' -LRB- featuring Pitbull -RRB- , which became Martin 's first single to top the US Dance Club Songs chart .\\tDance Club Songs\\tDance Club Songs\\tMr. Put It Down\\tMr. Put It Down\\tPitbull\\tPitbull (rapper)\\n90\\tAnother collaboration with Wisin , the 2015 single `` Que Se Sienta El Deseo '' reached top ten on Latin Airplay , Latin Rhythm Airplay and Latin Pop Airplay in the US .\\tLatin Pop Airplay\\tLatin Pop Airplay\\tLatin Airplay\\tBillboard charts#Latin\\tWisin\\tWisin\\tLatin Rhythm Airplay\\tLatin Rhythm Airplay\\tQue Se Sienta El Deseo\\tQue Se Sienta El Deseo\\n91\\tMartin earned fifteen number-one singles on the US Latin Airplay chart and is the second artist with most number-ones on this chart .\\tsingles\\tsingle (music)\\tLatin Airplay\\tBillboard charts#Latin\\n92\\tHe also has twenty-six top ten hits on Billboard '' 's Hot Latin Songs and is the fourth artist with the most top tens in the history of Hot Latin Songs .\\tBillboard\\tBillboard (magazine)\\tHot Latin Songs\\tHot Latin Songs\\n93\\tOn Latin Pop Airplay in the US , Martin has a record for the most top twenty singles on this chart -LRB- forty-three -RRB- .\\tsingles\\tsingle (music)\\tLatin Pop Airplay\\tLatin Pop Airplay\\n94\\t\""
      ]
     },
     "execution_count": 16,
     "metadata": {},
     "output_type": "execute_result"
    }
   ],
   "source": [
    "lines = database.get_doc_lines('Ricky_Martin_singles_discography')\n",
    "lines"
   ]
  },
  {
   "cell_type": "code",
   "execution_count": 17,
   "metadata": {},
   "outputs": [
    {
     "data": {
      "text/plain": [
       "76"
      ]
     },
     "execution_count": 17,
     "metadata": {},
     "output_type": "execute_result"
    }
   ],
   "source": [
    "non_empty_lines = [line.split(\"\\t\")[1] for line in lines.split(\"\\n\") if len(line.split(\"\\t\"))>1 and len(line.split(\"\\t\")[1].strip())]\n",
    "len(non_empty_lines)"
   ]
  },
  {
   "cell_type": "code",
   "execution_count": 18,
   "metadata": {},
   "outputs": [
    {
     "data": {
      "text/plain": [
       "'It was also certified five-times Platinum in Spain and four-times Platinum in Mexico .'"
      ]
     },
     "execution_count": 18,
     "metadata": {},
     "output_type": "execute_result"
    }
   ],
   "source": [
    "non_empty_lines[SimpleRandom.get_instance().next_rand(0,len(non_empty_lines)-1)]"
   ]
  },
  {
   "cell_type": "code",
   "execution_count": 19,
   "metadata": {},
   "outputs": [
    {
     "data": {
      "text/plain": [
       "['He then played Detective John Amsterdam in the short-lived Fox television series New Amsterdam -LRB- 2008 -RRB- , as well as appearing as Frank Pike in the 2009 Fox television film Virtuality , originally intended as a pilot .',\n",
       " 'The Fox Broadcasting Company -LRB- often shortened to Fox and stylized as FOX -RRB- is an American English language commercial broadcast television network that is owned by the Fox Entertainment Group subsidiary of 21st Century Fox .']"
      ]
     },
     "execution_count": 19,
     "metadata": {},
     "output_type": "execute_result"
    }
   ],
   "source": [
    "[get_doc_line(d[0],d[1]) for d in formatted_train_data[0][\"evidence\"] ]"
   ]
  },
  {
   "cell_type": "code",
   "execution_count": 20,
   "metadata": {},
   "outputs": [],
   "source": [
    "import unicodedata\n",
    "import re\n",
    "def unicode_to_ascii(s):\n",
    "        return ''.join(c for c in unicodedata.normalize('NFD', s) if unicodedata.category(c) != 'Mn')\n",
    "def preprocess(w):\n",
    "        w = unicode_to_ascii(w.lower().strip())\n",
    "        # creating a space between a word and the punctuation following it\n",
    "        # eg: \"he is a boy.\" => \"he is a boy .\"\n",
    "        # Reference:- https://stackoverflow.com/questions/3645931/python-padding-punctuation-with-white-spaces-keeping-punctuation\n",
    "        w = re.sub(r\"([?.!,¿])\", r\" \\1 \", w)\n",
    "        w = re.sub(r'[\" \"]+', \" \", w)\n",
    "        # replacing everything with space except (a-z, A-Z, \".\", \"?\", \"!\", \",\")\n",
    "        w = re.sub(r\"[^a-zA-Z?.!,¿]+\", \" \", w)\n",
    "        w = w.strip()\n",
    "        # adding a start and an end token to the sentence\n",
    "        # so that the model know when to start and stop predicting.\n",
    "        w = '[START] ' + w + ' [END]'\n",
    "        return w"
   ]
  },
  {
   "cell_type": "code",
   "execution_count": 21,
   "metadata": {},
   "outputs": [
    {
     "name": "stdout",
     "output_type": "stream",
     "text": [
      "[START] nikolaj coster waldau worked with the fox broadcasting company . [END] He then played Detective John Amsterdam in the short-lived Fox television series New Amsterdam -LRB- 2008 -RRB- , as well as appearing as Frank Pike in the 2009 Fox television film Virtuality , originally intended as a pilot . The Fox Broadcasting Company -LRB- often shortened to Fox and stylized as FOX -RRB- is an American English language commercial broadcast television network that is owned by the Fox Entertainment Group subsidiary of 21st Century Fox .\n",
      "[START] roman atwood is a content creator . [END] He is best known for his vlogs , where he posts updates about his life on a daily basis . He also has another YouTube channel called `` RomanAtwood '' , where he posts pranks .\n"
     ]
    }
   ],
   "source": [
    "for data in formatted_train_data[:2]:\n",
    "    claim = preprocess(data[\"claim\"])\n",
    "    lines = [get_doc_line(d[0],d[1]) for d in data[\"evidence\"] ]\n",
    "#     body_ids = [e[0] for e in data[\"evidence\"]]\n",
    "#     bodies = [database.get_doc_text(id) for id in set(body_ids)]\n",
    "#     parts = [claim, \" \".join(bodies)]\n",
    "    parts = [claim, \" \".join(lines)]\n",
    "    print (\" \".join(parts))"
   ]
  },
  {
   "cell_type": "code",
   "execution_count": 23,
   "metadata": {},
   "outputs": [],
   "source": [
    "import numpy as np\n",
    "import tensorflow as tf\n",
    "def get_data_generator():\n",
    "    for data in formatted_train_data:\n",
    "        claim = preprocess(data[\"claim\"])\n",
    "        body_ids = [e[0] for e in data[\"evidence\"]]\n",
    "        bodies = [database.get_doc_text(id) for id in set(body_ids)]\n",
    "        parts = [claim, \" \".join(bodies)]\n",
    "        yield \" \".join(parts)\n",
    "        \n",
    "def get_dataset():\n",
    "    generator = lambda: get_data_generator()\n",
    "    return tf.data.Dataset.from_generator(\n",
    "            generator, output_signature=(\n",
    "            tf.TensorSpec(shape=(), dtype=tf.string)))"
   ]
  },
  {
   "cell_type": "code",
   "execution_count": 24,
   "metadata": {},
   "outputs": [
    {
     "name": "stdout",
     "output_type": "stream",
     "text": [
      "tf.Tensor(b\"[START] nikolaj coster waldau worked with the fox broadcasting company . [END] The Fox Broadcasting Company -LRB- often shortened to Fox and stylized as FOX -RRB- is an American English language commercial broadcast television network that is owned by the Fox Entertainment Group subsidiary of 21st Century Fox . The network is headquartered at the 20th Century Fox studio lot on Pico Boulevard in the Century City section of Los Angeles , with additional major offices and production facilities at the Fox Television Center in nearby West Los Angeles and the Fox Broadcasting Center in the Yorkville neighborhood of Manhattan , New York City . It is the third largest major television network in the world based on total revenues , assets , and international coverage .   Launched on October 9 , 1986 as a competitor to the Big Three television networks -LRB- ABC , NBC and CBS -RRB- , Fox went on to become the most successful attempt at a fourth television network . It was the highest-rated broadcast network in the 18 -- 49 demographic from 2004 to 2012 , and earned the position as the most-watched American television network in total viewership during the 2007 -- 08 season .   Fox and its affiliated companies operate many entertainment channels in international markets , although these do not necessarily air the same programming as the U.S. network . Most viewers in Canada have access to at least one U.S.-based Fox affiliate , either over-the-air or through a pay television provider , although Fox 's National Football League telecasts and most of its prime time programming are subject to simultaneous substitution regulations for cable and satellite providers imposed by the Canadian Radio-television and Telecommunications Commission -LRB- CRTC -RRB- to protect rights held by domestically based networks .   The network is named after sister company 20th Century Fox , and indirectly for producer William Fox , who founded one of the movie studio 's predecessors , Fox Film . Fox is a member of the North American Broadcasters Association and the National Association of Broadcasters .  Nikolaj Coster-Waldau -LRB- -LSB- ne\\xc9\\xa1\\xcc\\x8aola\\xc9\\xaa\\xcc\\xaf k\\xca\\xb0\\xca\\x8csd\\xcc\\xa5\\xc9\\x90 \\xcb\\x88\\xca\\x8bald\\xcc\\xa5\\xc9\\x91\\xca\\x8a\\xcc\\xaf -RSB- ; born 27 July 1970 -RRB- is a Danish actor , producer and screenwriter . He graduated from Danish National School of Theatre in Copenhagen in 1993 . Coster-Waldau 's breakthrough performance in Denmark was his role in the film Nightwatch -LRB- 1994 -RRB- . Since then he has appeared in numerous films in his native Scandinavia and Europe in general , including Headhunters -LRB- 2011 -RRB- and A Thousand Times Good Night -LRB- 2013 -RRB- .   In the United States , his debut film role was in the war film Black Hawk Down -LRB- 2001 -RRB- , playing Medal of Honor recipient Gary Gordon . He then played Detective John Amsterdam in the short-lived Fox television series New Amsterdam -LRB- 2008 -RRB- , as well as appearing as Frank Pike in the 2009 Fox television film Virtuality , originally intended as a pilot . He became widely known to a broad audience for his current role as Ser Jaime Lannister , in the HBO series Game of Thrones . In 2017 , he became one of the highest paid actors on television and earned # 2 million per episode of Game of Thrones . \", shape=(), dtype=string)\n"
     ]
    }
   ],
   "source": [
    "for d in get_dataset().take(1):\n",
    "    print(d)"
   ]
  },
  {
   "cell_type": "code",
   "execution_count": 25,
   "metadata": {},
   "outputs": [],
   "source": [
    "ds = get_dataset()\n",
    "batch_size=32\n",
    "ds = ds.shuffle(3200).batch(batch_size, drop_remainder=True)"
   ]
  },
  {
   "cell_type": "code",
   "execution_count": 26,
   "metadata": {
    "collapsed": true,
    "jupyter": {
     "outputs_hidden": true
    },
    "tags": []
   },
   "outputs": [
    {
     "name": "stdout",
     "output_type": "stream",
     "text": [
      "tf.Tensor(\n",
      "[b\"[START] u released the album how to dismantle an atomic bomb in . [END] U2 are an Irish rock band from Dublin formed in 1976 . The group consists of Bono -LRB- lead vocals and rhythm guitar -RRB- , the Edge -LRB- lead guitar , keyboards , and backing vocals -RRB- , Adam Clayton -LRB- bass guitar -RRB- , and Larry Mullen Jr. -LRB- drums and percussion -RRB- . Initially rooted in post-punk , U2 's sound grew to incorporate influences from many genres of popular music , yet has maintained an anthemic sound built on Bono 's expressive vocals and the Edge 's effects-based guitar textures . Their lyrics , often embellished with spiritual imagery , focus on personal themes and sociopolitical concerns . Popular for their live performances , the group have staged several ambitious and elaborate tours over their career .   The band formed at Mount Temple Comprehensive School in 1976 when the members were teenagers with limited musical proficiency . Within four years , they signed with Island Records and released their debut album , Boy -LRB- 1980 -RRB- . Subsequent work such as their first UK number-one album , War -LRB- 1983 -RRB- , and the singles `` Sunday Bloody Sunday '' and `` Pride -LRB- In the Name of Love -RRB- '' helped establish U2 's reputation as a politically and socially conscious group . By the mid-1980s , they had become renowned globally for their live act , highlighted by their performance at Live Aid in 1985 . The group 's fifth album , The Joshua Tree -LRB- 1987 -RRB- , made them international superstars and was their greatest critical and commercial success . Topping music charts around the world , it produced their only number-one singles in the US , `` With or Without You '' and `` I Still Have n't Found What I 'm Looking For '' . Facing a backlash and creative stagnation , U2 reinvented themselves in the 1990s through a new musical direction and public image . Beginning with their acclaimed seventh album , Achtung Baby -LRB- 1991 -RRB- , and the multimedia intensive Zoo TV Tour , the band integrated influences from alternative rock , electronic dance music , and industrial music into their sound , and embraced a more ironic , flippant image . This experimentation continued through their ninth album , Pop -LRB- 1997 -RRB- , and the PopMart Tour , which were mixed successes . U2 regained critical and commercial favour with the records All That You Ca n't Leave Behind -LRB- 2000 -RRB- and How to Dismantle an Atomic Bomb -LRB- 2004 -RRB- , which established a more conventional , mainstream sound for the group . Their U2 360 \\xc2\\xb0 Tour of 2009 -- 2011 is the highest-attended and highest-grossing concert tour in history . The group 's thirteenth album , Songs of Innocence -LRB- 2014 -RRB- , was released at no cost through the iTunes Store , but received criticism for its automatic placement in users ' music libraries .   U2 have released 13 studio albums and are one of the world 's best-selling music artists of all time , having sold more than 170 million records worldwide . They have won 22 Grammy Awards , more than any other band , and in 2005 , they were inducted into the Rock and Roll Hall of Fame in their first year of eligibility . Rolling Stone ranked U2 at number 22 on its list of the `` 100 Greatest Artists of All Time '' . Throughout their career , as a band and as individuals , they have campaigned for human rights and philanthropic causes , including Amnesty International , Jubilee 2000 , the ONE/DATA campaigns , Product Red , War Child , and Music Rising . \"\n",
      " b\"[START] hugh hefner is an english magazine publisher . [END] Richard T. Slone -LRB- born 23 January 1974 -RRB- is an English painter .   Slone was born in 1974 in Newton-in-Furness , Lancashire , a northern English town . Slone is self-taught .   Slone would spend his formative years roaming the countryside of England where his lifelong love of art was born . Richard would eventually pursue an offer to become a boxer under the guidance of boxing great Joe Frazier , who guided Richard 's boxing career until Slone 's love for art forced him from the boxing canvas , and onto the canvas upon an easel .   Slone 's art has become popular with notable collectors including Donald Trump , Hugh Hefner , Glenn Schaeffer , Muhammad Ali , Nelson Mandela and many more . His work has graced the covers of many magazines , including the Ring Magazine , KO Magazine , World Boxing Magazine and many more . His work has been used by many companies and advertising agencies , including Everlast . He is the Official Artist of the International Boxing Hall of Fame , a title he has held since the age of 23 .  In 2007 Slone 's artwork was used by the Ultimate Fighting Championship UFC to create a clothing line named ` Ultimate ' . The line consisted of limited edition clothing with Slone 's artwork printed on the garments .   Slone has painted portraits of people including Nelson Mandela , Hugh Hefner , Donald Trump and Lennox Lewis . He has also painted fighters from the UFC , including a landscape of Chuck Liddell entitled ` The Iceman Cometh ' , and a landscape of Andrei Arlovski vs. Paul Buentello , which was originally painted as two separate portraits but pieced together and made into an official licensed UFC poster . He is currently working on a huge oil portrait for rap star Eminem .   In 2005 international art investors bought an entire series of Slone originals . The interest and demand in his art in recent years has been phenomenal , the Art company was formed in 2005 and two art dealers were brought in to cater to Slone 's rapidly growing clientele .   Slone paints with great detail , bold colors and often uses Arcylic and Enamels .   In 2007 Foxwoods Casino and Resort commissioned Slone to paint their 100th boxing event . Slone also signed a multi-year deal with National Geographic/Hampton Brown who will publish some of his work .   In 2010 Slone was selected to paint the Official artwork for Bafana Bafana , the South African football team for the 2010 Fifa World Cup . \"\n",
      " b\"[START] estella warren is a person . [END] Estella Dawn Warren -LRB- born December 23 , 1978 -RRB- is a Canadian actress , fashion model , and former synchronized swimmer . During her swimming career she was a member of the Canadian national team and won three national titles . Since 1994 she has been modeling through publications such as Sports Illustrated as well as working for campaigns for such brands as Perry Ellis and Victoria 's Secret .   She later began a career as an actress , starring in such films as Tim Burton 's 2001 re-adapted film Planet of the Apes as well as television roles in Law & Order , Law & Order : Special Victims Unit and Beauty and the Beast . \"\n",
      " b\"[START] shane black and chris miller wrote iron man . [END] Iron Man 3 -LRB- stylized onscreen as Iron Man Three -RRB- is a 2013 American superhero film based on the Marvel Comics character Iron Man , produced by Marvel Studios and distributed by Walt Disney Studios Motion Pictures . It is the sequel to 2008 's Iron Man and 2010 's Iron Man 2 , and the seventh film in the Marvel Cinematic Universe . Shane Black directed a screenplay he co-wrote with Drew Pearce , which uses concepts from the `` Extremis '' story arc by Warren Ellis . The film stars Robert Downey Jr. , Gwyneth Paltrow , Don Cheadle , Guy Pearce , Rebecca Hall , Stephanie Szostak , James Badge Dale , Jon Favreau , and Ben Kingsley . In Iron Man 3 , Tony Stark deals with posttraumatic stress disorder caused by the events of The Avengers , while investigating the reemergence of the Ten Rings , led by the mysterious Mandarin and comes into a conflict with an old enemy : Aldrich Killian .   After the release of Iron Man 2 in May 2010 , Favreau , who served as director , decided not to return , and in February 2011 Black was hired to write and direct the film . Black and Pearce opted to make the script more character-centric and focused on thriller elements . Throughout April and May 2012 , the film 's supporting cast was filled out , with Kingsley , Pearce , and Hall brought in to portray key roles . Filming began on May 23 , and lasted through December 17 , 2012 , primarily at EUE/Screen Gems Studios in Wilmington , North Carolina . Additional shooting took place at various locations around North Carolina , as well as Florida , China , and Los Angeles . The visual effects were handled by 17 companies , including Scanline VFX , Digital Domain , and Weta Digital . The film was converted to 3D in post-production .   Iron Man 3 premiered at Le Grand Rex in Paris on April 14 , 2013 . It began its release on April 25 , 2013 , internationally , and debuted in the United States one week later on May 3 . The film received generally positive reviews and was commercially successful , grossing over $ 1.2 billion worldwide , the second highest-grossing film of 2013 overall , and the second-highest-grossing film at the domestic box office released in 2013 . It became the sixteenth film to gross over $ 1 billion and the 5th-highest-grossing film of all time , with its opening weekend ranking as the 6th-highest-grossing opening of all time . The film also received a nomination for Academy Award in the category of Best Visual Effects , and received another nomination for BAFTA Award in the same category . \"\n",
      " b\"[START] tetris has sold millions of physical copies . [END] Tetris -LRB- , pronounced -LSB- \\xcb\\x88t\\xc9\\x9btr\\xca\\xb2\\xc9\\xaas -RSB- -RRB- is a tile-matching puzzle video game , originally designed and programmed by Russian game designer Alexey Pajitnov . It was released on June 6 , 1984 , while he was working for the Dorodnitsyn Computing Centre of the Academy of Science of the USSR in Moscow . He derived its name from the Greek numerical prefix tetra - -LRB- all of the game 's pieces contain four segments -RRB- and tennis , Pajitnov 's favorite sport .   Tetris was the first entertainment software to be exported from the USSR to the US , where it was published by Spectrum HoloByte for Commodore 64 and IBM PC . The Tetris game is a popular use of tetrominoes , the four-element special case of polyominoes . Polyominoes have been used in popular puzzles since at least 1907 , and the name was given by the mathematician Solomon W. Golomb in 1953 . However , even the enumeration of pentominoes is dated to antiquity .   The game -LRB- or one of its many variants -RRB- is available for nearly every video game console and computer operating system , as well as on devices such as graphing calculators , mobile phones , portable media players , PDAs , Network music players and even as an Easter egg on non-media products like oscilloscopes . It has even inspired Tetris serving dishes and been played on the sides of various buildings .   While versions of Tetris were sold for a range of 1980s home computer platforms as well as arcades , it was the hugely successful handheld version for the Game Boy launched in 1989 that established the game as one of the most popular ever . Electronic Gaming Monthly '' 's 100th issue had Tetris in first place as `` Greatest Game of All Time '' . In 2007 , Tetris came in second place in IGN 's `` 100 Greatest Video Games of All Time '' . In January 2010 , it was announced that the Tetris franchise had sold more than 170 million copies , approximately 70 million physical copies and over 100 million copies for cell phones , making it the best selling paid-downloaded game of all time . On 14 March 2014 , The Tetris Company announced a deal to bring Tetris '' to two of the latest hardware platforms , the Xbox One and PlayStation 4 , in partnership with Ubisoft -LRB- publishing -RRB- and SoMa Play -LRB- development -RRB- , to coincide with the franchise 's 30th anniversary . \"\n",
      " b\"[START] the murder of roger ackroyd is published in june . [END] The Murder of Roger Ackroyd is a work of detective fiction by Agatha Christie , first published in June 1926 in the United Kingdom by William Collins , Sons and in the United States by Dodd , Mead and Company on 19 June 1926 . It is the third novel to feature Hercule Poirot as the lead detective .   Poirot retires to a village near the home of a friend he met in London , Roger Ackroyd , who agrees to keep him anonymous , as he pursues his retirement project of perfecting vegetable marrows . He is not long at this pursuit when his friend is murdered . Ackroyd 's niece calls Poirot in to ensure that the guilt does not fall on Ackroyd 's son ; Poirot promises to find the truth , which she accepts .   The novel was initially well-received , remarked for the startling ending , and in 2013 , 87 years after its release the British Crime Writers ' Association voted it the best crime novel ever . It is one of Christie 's best known and most controversial novels , its innovative twist ending having a significant impact on the genre . Howard Haycraft included this novel in his list of the most influential crime novels ever written . The short biography of Christie which is included in 21st century UK printings of her books calls it her masterpiece , although writer and critic Robert Barnard has written that he considers it a conventional Christie novel . \"\n",
      " b\"[START] the english civil war s parliamentarians were commonly referred to as roundheads . [END] The English Civil War -LRB- 1642 -- 1651 -RRB- was a series of armed conflicts and political machinations between Parliamentarians -LRB- `` Roundheads '' -RRB- and Royalists -LRB- `` Cavaliers '' -RRB- over , principally , the manner of England 's government . The first -LRB- 1642 -- 46 -RRB- and second -LRB- 1648 -- 49 -RRB- wars pitted the supporters of King Charles I against the supporters of the Long Parliament , while the third -LRB- 1649 -- 51 -RRB- saw fighting between supporters of King Charles II and supporters of the Rump Parliament . The war ended with the Parliamentarian victory at the Battle of Worcester on 3 September 1651 .   The overall outcome of the war was threefold : the trial and execution of Charles I -LRB- 1649 -RRB- ; the exile of his son , Charles II -LRB- 1651 -RRB- ; and the replacement of English monarchy with , at first , the Commonwealth of England -LRB- 1649 -- 53 -RRB- and then the Protectorate under the personal rules of Oliver Cromwell -LRB- 1653 -- 58 -RRB- and his son -LRB- 1658 -- 59 -RRB- . The monopoly of the Church of England on Christian worship in England ended with the victors ' consolidating the established Protestant Ascendancy in Ireland . Constitutionally , the wars established the precedent that an English monarch can not govern without Parliament 's consent , although the idea of Parliament as the ruling power of England was only legally established as part of the Glorious Revolution in 1688 . \"\n",
      " b'[START] saratoga is a canadian film . [END] The Academy of Canadian Cinema and Television presents an annual award for Best Motion Picture to the best Canadian film .   The award was first presented in 1949 by the Canadian Film Awards under the title Film of the Year . Due to the economics of Canadian film production , however , most Canadian films made in this era were documentaries or short films rather than full-length narrative feature films . In some years , a Film of the Year award was not formally presented , with the highest film award presented that year being in the Theatrical Short and/or Amateur Film categories ; due to the lack of an official Film of the Year winner , however , the winners in those categories are considered de facto films of the year .   In 1964 , the Canadian Film Awards introduced an award for Best Feature Film . For the remainder of the 1960s , the two awards were presented alongside each other to different films , except in 1965 when a Feature Film was named and a Film of the Year was not , and in 1967 when the same film was named the winner of both categories . After 1970 , however , the Film of the Year category was no longer used except in 1975 , when it was presented to the same film that had been named the Feature Film winner .   In 1974 , when the awards were otherwise cancelled due to a boycott by francophone filmmakers from Quebec , the Canadian Film Awards committee nonetheless held a press conference to announce a Best Feature Film winner for the year despite not presenting awards in any other category .   As of 1980 , the award was taken over by the Academy of Canadian Cinema and Television and presented as part of the Genie Awards ceremony ; as of 2013 , it is presented as part of the Canadian Screen Awards . '\n",
      " b\"[START] melanie griffith is a catholic . [END] Working Girl is an American sitcom that aired on NBC from April to July 1990 . Loosely based on the 1988 film of the same name starring Melanie Griffith , the series stars Sandra Bullock as Tess McGill -LRB- Melanie Griffith 's character in the film -RRB- , in a role that was initially meant for Nancy McKeon . \"\n",
      " b\"[START] the beach boys had thirty six canadian top hits . [END] The Beach Boys are an American rock band formed in Hawthorne , California , in 1961 . The group 's original lineup consisted of brothers Brian , Dennis , and Carl Wilson ; their cousin Mike Love ; and their friend Al Jardine . Distinguished by their vocal harmonies and early surf songs , they are one of the most influential acts of the rock era . The group , led by their principal songwriter and producer Brian , pioneered novel approaches to popular music form and production , combining their affinities for jazz-based vocal groups , 1950s rock and roll , and black R&B to create their unique sound . He later arranged his compositions for studio orchestras and explored a variety of other styles , often incorporating classical or jazz elements and unconventional recording techniques in innovative ways .   The Beach Boys began as a garage band managed by the Wilsons ' father Murry , with Brian 's increasingly sophisticated songwriting and recording abilities dominating their creative direction . Emerging at the vanguard of the `` California Sound '' , they performed original material that reflected a southern California youth culture of surfing , cars , and romance . After 1964 , they abandoned the surfing aesthetic for more personal lyrics and multi-layered sounds . In 1966 , the Pet Sounds album and `` Good Vibrations '' single vaulted the group to the top level of rock innovators and established the band as symbols of the nascent counterculture era . Following the dissolution of the group 's Smile project in 1967 , Brian gradually ceded production and songwriting duties to the rest of the band , reducing his input because of mental health and substance abuse issues . The group 's public image subsequently faltered , and despite efforts to continue their psychedelic/avant-garde ventures and reclaim their hippie audiences , they were dismissed as an embodiment of the values and outlooks shared by early 1960s white , suburban teenagers .   The continued success of their greatest hits albums during the mid 1970s precipitated the band 's transition into an oldies act , a move that was denigrated by critics and many fans . Since the 1980s , much-publicized legal wrangling over royalties , songwriting credits and use of the band 's name transpired . Dennis drowned in 1983 and Carl died of lung cancer in 1998 . After Carl 's death , many live configurations of the band fronted by Mike Love and Bruce Johnston continued to tour into the 2000s while other members pursued solo projects . Even though Wilson and Jardine have not performed with Love and Johnston 's band since their one-off 2012 reunion tour , they remain a part of the Beach Boys ' corporation , Brother Records Inc. .   The Beach Boys are one of the most critically acclaimed , commercially successful , and widely influential bands of all time . The group had over eighty songs chart worldwide , thirty-six of them US Top 40 hits -LRB- the most by an American rock band -RRB- , four reaching number-one on the Billboard Hot 100 chart . The Beach Boys have sold in excess of 100 million records worldwide , making them one of the world 's best-selling bands of all time and are listed at No. 12 on Rolling Stone magazine 's 2004 list of the `` 100 Greatest Artists of All Time '' . The core quintet of the three Wilsons , Love and Jardine were inducted into the Rock and Roll Hall of Fame in 1988 . \"\n",
      " b\"[START] wyatt earp s first wife was not urilla sutherland earp . [END] Wyatt Berry Stapp Earp -LRB- March 19 , 1848 -- January 13 , 1929 -RRB- was an American Old West gambler , a deputy sheriff in Pima County , and deputy town marshal in Tombstone , Arizona Territory , who took part in the gunfight at the O.K. Corral , during which lawmen killed three outlaw cowboys . He is often regarded as the central figure in the shootout in Tombstone , although his brother Virgil was Tombstone city marshal and Deputy U.S. Marshal that day , and had far more experience as a sheriff , constable , marshal , and soldier in combat .   Earp lived a restless life . He was at different times a constable , city policeman , county sheriff , Deputy U.S. Marshal , teamster , buffalo hunter , bouncer , saloon-keeper , gambler , brothel keeper , miner , and boxing referee . Earp spent his early life in Iowa . In 1870 , Earp married his first wife , Urilla Sutherland Earp , who contracted typhoid fever and died shortly before their first child was to be born . During the next two years Earp was arrested for stealing a horse , escaped from jail , sued twice , and was arrested and fined three times during the course of 1872 for `` keeping and being found in a house of ill-fame '' . His third arrest was subject of a lengthy account in the `` Daily Transcript '' which referred to him as an `` old offender '' and nicknamed him the `` Peoria Bummer '' .   By 1874 he had arrived in the cattle boomtown of Wichita , Kansas where his brother had opened a brothel . On April 21 , 1875 he was appointed to the Wichita police force , and developed a solid reputation as a lawman . In April 1876 he was dismissed from his position as a lawman following an altercation with a political opponent of his boss which led to him being fined $ 30 . In 1876 , he followed his brother James to Dodge City , Kansas , where he became an assistant city marshal . In winter 1878 , he went to Texas to track down an outlaw and met John `` Doc '' Holliday , whom Earp later credited with saving his life .   Earp moved constantly throughout his life from one boomtown to another . He left Dodge City in 1879 and moved to Tombstone with his brothers James and Virgil , where a silver boom was underway . There , the Earps clashed with a loose federation of outlaws known as the Cowboys . Wyatt , Virgil , and their younger brother Morgan held various law enforcement positions that put them in conflict with Tom and Frank McLaury , and Ike and Billy Clanton , who threatened on several occasions to kill the Earps . The conflict escalated over the next year , culminating on October 26 , 1881 in the gunfight at the O.K. Corral , in which the Earps and Holliday killed three of the Cowboys . In the next five months , Virgil was ambushed and maimed , and Morgan was assassinated . Pursuing a vendetta , Wyatt , his brother Warren , Holliday , and others formed a federal posse that killed three of the Cowboys whom they thought responsible . Wyatt was never wounded in any of the gunfights in which he took part , unlike his brothers Virgil and James , or his friend , Doc Holliday , which only added to his mystique after his death .   Earp was a lifelong gambler and was always looking for a quick way to make money . After leaving Tombstone , Earp went to San Francisco where he reunited with Josephine Earp . She became his common-law wife . They joined a gold rush to Eagle City , Idaho , where they owned mining interests and a saloon . They left there to race horses and open a saloon during a real estate boom in San Diego , California . Back in San Francisco , Wyatt raced horses again , but his reputation suffered irreparably when he refereed the Fitzsimmons-Sharkey boxing match and called a foul that led many to believe that he fixed the fight . They moved briefly to Yuma , Arizona before joining the Nome Gold Rush in 1899 . In partnership with Charlie Hoxie they opened a two-story saloon called the Dexter and made an estimated $ 80,000 -LRB- about $ 2 million in 2017 dollars -RRB- . Returning to the lower 48 , they opened another saloon in Tonopah , Nevada , the site of a new gold find . In about 1911 , Earp began working several mining claims in Vidal , California , retiring in the hot summers with Josephine to Los Angeles .   Wyatt Earp died on January 13 , 1929 . He was known as a Western lawman , gunfighter , and boxing referee . He had a notorious reputation for both his handling of the Fitzsimmons-Sharkey fight and his role in the O.K. Corral gunfight . This only began to change after his death when an extremely flattering biography was published in 1931 . It became a bestseller and created his reputation as a fearless lawman . Since then , Earp has been the subject of and model for numerous films , TV shows , biographies , and works of fiction that have increased his notoriety . He did , however , live to see himself being portrayed in the film Wild Bill Hickok , released in 1923 . Long after his death , he has many devoted detractors and admirers . Earp 's modern-day reputation is that of the Old West 's `` toughest and deadliest gunman of his day . '' \"\n",
      " b\"[START] the film the mummy is a remake of a film that was itself a remake . [END] The Mummy is a 1999 American action-adventure fantasy horror film written and directed by Stephen Sommers and starring Brendan Fraser , Rachel Weisz , John Hannah , and Kevin J. O'Connor , with Arnold Vosloo in the titular role as the reanimated mummy . It is a loose remake of the 1932 film The Mummy , which starred Boris Karloff in the titular role .  The film follows Rick O'Connell a soldier from a French legi\\xc3\\xb3n who with an archeologist and her brother trav\\xc3\\xa9ls to Hamunaptra , the city of the dead , where accidentally awakens Imhotep , a High priest from the pharaoh Seti I , after 3000 Years cursed for eternity , now Rick , Evie and Jonathan must find a way to kill him before imhotep destroys the world .   Filming began in Marrakech , Morocco , on May 4 , 1998 , and lasted seventeen weeks ; the crew had to endure dehydration , sandstorms , and snakes while filming in the Sahara . The visual effects were provided by Industrial Light & Magic , who blended film and computer-generated imagery to create the titular Mummy . Jerry Goldsmith provided the orchestral score .   The Mummy opened on May 7 , 1999 , and grossed $ 43 million in 3,210 theaters during its opening weekend in the United States ; a surprise hit , the film went on to gross $ 416 million worldwide . The box-office success led to a 2001 sequel , The Mummy Returns , as well as The Mummy : The Animated Series , and the prequel/spin-off film The Scorpion King . Seven years later , the third installment , The Mummy : Tomb of the Dragon Emperor , opened on August 1 , 2008 . Universal Pictures also opened a roller coaster , Revenge of the Mummy , in 2004 . Novelizations of the film and its sequels were written by Max Allan Collins . \"\n",
      " b'[START] thirteen reasons why is incapable of being published by razorbill . [END] Thirteen Reasons Why is a 2007 young adult novel written by Jay Asher . The book was published by RazorBill , a young adult imprint of Penguin Books . The paperback edition hit # 1 on the New York Times best-seller list in July 2011 . The book is the basis of the television series 13 Reasons Why , released through Netflix on March 31 , 2017 . '\n",
      " b'[START] broadcast news is a film . [END] Broadcast News is a 1987 romantic comedy-drama film written , produced and directed by James L. Brooks . The film concerns a virtuoso television news producer -LRB- Holly Hunter -RRB- , who has daily emotional breakdowns , a brilliant yet prickly reporter -LRB- Albert Brooks -RRB- and his charismatic but far less seasoned rival -LRB- William Hurt -RRB- . It also stars Robert Prosky , Lois Chiles , Joan Cusack , and Jack Nicholson -LRB- billed only in the end credits -RRB- as the evening news anchor . '\n",
      " b\"[START] ac dc has dubbed their music as rock and roll . [END] AC/DC are an Australian rock band , formed in 1973 by brothers Malcolm and Angus Young . A hard rock/blues rock band , they have also been considered a heavy metal band , although they have always dubbed their music simply `` rock and roll '' .   AC/DC underwent several line-up changes before releasing their first album , High Voltage , in 1975 . Membership subsequently stabilised until bassist Mark Evans was replaced by Cliff Williams in 1977 for the album Powerage . Within months of recording the album Highway to Hell , lead singer and co-songwriter Bon Scott died on 19 February 1980 after a night of heavy alcohol consumption . The group considered disbanding , but buoyed by support from Scott 's parents , decided to continue and set about finding a new vocalist . Ex-Geordie singer Brian Johnson was auditioned and selected to replace Scott . Later that year , the band released the new album , Back in Black , which was made as a tribute to Bon Scott . The album launched them to new heights of success and became their all-time best-seller .   The band 's next album , For Those About to Rock We Salute You , was their first album to reach number one in the United States . Drummer Phil Rudd was fired in 1983 and replaced by ex-A II Z drummer Simon Wright , who left to join Dio in 1989 . The band experienced a resurgence in the early 1990s with the release of The Razors Edge . Phil Rudd returned in 1994 after Chris Slade , who was with the band from 1989 to 1994 , was asked to leave in favour of him , and contributed to the band 's 1995 album Ballbreaker . Stiff Upper Lip , released in 2000 , was well received by critics . The band 's studio album , Black Ice , released in 2008 , was the second-highest-selling album of that year , and their biggest chart hit since For Those About to Rock , eventually reaching No. 1 on all charts worldwide . The band 's line-up remained the same until 2014 with Malcolm Young 's retirement due to early-onset dementia and Rudd 's legal troubles . In 2016 , Johnson was advised to stop touring on account of worsening hearing loss and Guns N ' Roses frontman Axl Rose stepped in as the band 's vocalist for the remainder of that year 's dates . Long-term bass player Cliff Williams retired from the band at the end of their 2016 Rock Or Bust world tour .   AC/DC have sold more than 200 million records worldwide , including 71.5 million albums in the United States , adding them to the list of highest-certified music artists in the United States and the list of best-selling music artists . Back in Black has sold an estimated 50 million units worldwide , making it the second-highest-selling album by any artist -- and the highest-selling album by any band . The album has sold 22 million units in the US , where it is the sixth-highest-selling album of all time . AC/DC ranked fourth on VH1 's list of the `` 100 Greatest Artists of Hard Rock '' and were named the seventh `` Greatest Heavy Metal Band of All Time '' by MTV . In 2004 , AC/DC ranked No. 72 on the Rolling Stone list of the `` 100 Greatest Artists of All Time '' . Producer Rick Rubin , who wrote an essay on the band for the Rolling Stone list , referred to AC/DC as `` the greatest rock and roll band of all time '' . In 2010 , AC/DC were ranked number 23 in the VH1 list of the `` 100 Greatest Artists of All Time '' . \"\n",
      " b\"[START] robert duvall is a catholic . [END] Duvall -LRB- also DuVall -RRB- is a French surname and an alternative spelling of `` Duval '' , which literally translates from French to English as `` of the valley '' . It derives from the Norman `` Devall '' , which has both English and French ties . Variant spellings include : Davolls , Deavall , DeVile , Devill , Deville , Divall , Divell and Evill . Its meaning is derived from the French town of Deville , Ardennes . The spelling , `` Devall '' , was first recorded in England in the Domesday Book .   In France , variant spellings include : Lavalle , Lavallie , Laval , Lavall , Deval , Lavell , Lavelle and Lavielle . The Duvall surname has also been spelled some other ways including DeVall , Devoll , DeVol , DeValle and Devaulle .   Notable people with the surname include :   Betty Duvall , a spy for the American Confederacy  Carol Duvall , television show host  Clea DuVall , American actress  Gabriel Duvall , American jurist in the 18th and 19th centuries  Jordan M. DuVall , American patriot , CS Manager  Len Duvall , British politician  Marcus Duvall , character in a 2005 American-French action thriller film  Mareen Duvall , a French Huguenot and an early American settler  Michael D. Duvall , American politician  Mike Duvall , American baseball player  Raymond Duvall , political scientist and international relations scholar  Robert Duvall , American actor  Roy Duvall , professional rodeo cowboy  Shelley Duvall , American actress  Thomas L. Duvall Jr. , scientist -- Mount Duvall was named after him  Wayne Duvall , American actor  William DuVall , American musician \"\n",
      " b\"[START] carrie fisher talked about her experiences with drug addiction . [END] Carrie Frances Fisher -LRB- October 21 , 1956 -- December 27 , 2016 -RRB- was an American actress , writer and humorist who first became known for playing Princess Leia in the Star Wars film series . Her other film roles included Shampoo -LRB- 1975 -RRB- , The Blues Brothers -LRB- 1980 -RRB- , Hannah and Her Sisters -LRB- 1986 -RRB- , The ` Burbs -LRB- 1989 -RRB- , and When Harry Met Sally ... -LRB- 1989 -RRB- .   Fisher wrote several semi-autobiographical novels , including Postcards from the Edge and the screenplay for the film of the book , as well as an autobiographical one-woman play , and its non-fiction book , Wishful Drinking , based on the play . She worked on other writers ' screenplays as a script doctor . In later years , she earned praise for speaking publicly about her experiences with bipolar disorder and drug addiction .   The daughter of the singer Eddie Fisher and actress Debbie Reynolds , Fisher and her mother appear in Bright Lights : Starring Carrie Fisher and Debbie Reynolds , a 2016 documentary about their relationship . It premiered at the 2016 Cannes Film Festival . Fisher died of cardiac arrest on December 27 , 2016 , at age 60 , four days after experiencing a medical emergency during a transatlantic flight from London to Los Angeles . Her final film , Star Wars : The Last Jedi , is scheduled to be released on December 15 , 2017 . \"\n",
      " b\"[START] cent s album street king immortal is available worldwide . [END] American rapper 50 Cent has released five studio albums , ten mixtapes , two video albums , four compilation albums , one soundtrack album , 76 singles -LRB- including 26 as a featured artist -RRB- , and 88 music videos . As of July 2014 , he is the sixth best-selling hip-hop artist of the Nielsen SoundScan era with 16,786,000 albums sold in the US . 50 Cent signed to Shady Records in 2002 and released his debut studio album , Get Rich or Die Tryin ' , on February 6 , 2003 . The album peaked at number one in the US Billboard 200 and performed well in international markets . It features the number-one singles `` In da Club '' and `` 21 Questions '' and also includes the singles `` P.I.M.P. '' and `` If I Ca n't '' . 50 Cent collaborated with American rapper Lil ' Kim on `` Magic Stick '' , which peaked at number two in the US .   In 2005 , he released his second studio album , The Massacre . The album charted at number one in the US , as well as reaching the top ten on many album charts worldwide , and sold 4.83 million copies in the United States in 2005 , the second highest sales count by any album that year . The Massacre includes the US top-three hits `` Disco Inferno '' and `` Just a Lil Bit '' , and the US number-one hit `` Candy Shop '' , which peaked in the top ten of many charts worldwide . A reissue of The Massacre produced the single `` Outta Control '' , which peaked at number six in the US . In November 2005 , 50 Cent starred in the movie Get Rich or Die Tryin ' , and recorded four singles for the film 's soundtrack : the international hits `` Hustler 's Ambition '' and `` Window Shopper '' , and also `` Best Friend '' and `` I 'll Whip Ya Head Boy '' .   In 2007 , 50 Cent 's third studio album , Curtis , debuted at number two on the Billboard 200 , behind Kanye West 's album Graduation , after a much-hyped sales competition between the albums . Five singles were released from the album , including international hit `` Ayo Technology '' and Billboard hits `` Straight to the Bank '' , `` Amusement Park '' , `` I Get Money '' and `` I 'll Still Kill '' . In 2009 , he released his fourth studio album , Before I Self Destruct . Music critics described the album as a return to the darker , more intense style of music that 50 Cent exhibited on many of his early mixtapes . The album charted at number five on the Billboard 200 and peaked in the top twenty of several album charts worldwide . The album features two singles : the international hit `` Baby by Me '' , which peaked at number twenty-eight in the US , and `` Do You Think About Me '' .   In June 2014 , 50 Cent released his fifth studio album , Animal Ambition . All of the songs on the standard edition of the album were released as singles prior to the album being delivered to the public . His upcoming sixth studio album , titled Street King Immortal , was preceded by the release of the non-album song `` Outlaw '' , which peaked at number eighty-seven in both the US and Canada , and a free download album -- 5 -LRB- Murder by Numbers -RRB- -- on July 6 , 2012 . Four singles were released in promotion for Street King Immortal : `` New Day '' , `` My Life '' , which reached number two on the UK Singles Chart , `` Major Distribution '' , and `` We Up '' , but the songs were scrapped and the album is now set to be released in 2016 . \"\n",
      " b'[START] octavia spencer worked in the divergent film series starting in . [END] The Divergent Series : Allegiant is a 2016 American action adventure film directed by Robert Schwentke with a screenplay by Bill Collage , Adam Cooper , and Noah Oppenheim . It is the first of two cinematic parts based on the novel Allegiant , the final book in the Divergent trilogy by Veronica Roth , and the third installment in The Divergent Series .   The film stars Shailene Woodley , Theo James , Jeff Daniels , Miles Teller , Ansel Elgort , Zo\\xc3\\xab Kravitz , Maggie Q , Ray Stevenson , Bill Skarsgard , Octavia Spencer and Naomi Watts , and is the sequel to Insurgent and could be followed by the concluding entry , Ascendant -LRB- Allegiant and Ascendant were originally to be titled Allegiant -- Part 1 and Allegiant -- Part 2 -RRB- .   Allegiant was released on March 18 , 2016 , in theaters and IMAX and received mainly negative reviews . The film was a financial disappointment , grossing $ 179 million worldwide , becoming the lowest-grossing Divergent film . This led to budget cuts on the fourth and the possibility that the final installment in the series , Ascendant , would be released as a TV movie instead of a theatrical one . '\n",
      " b\"[START] a block is also called a bushed . [END] In basketball , a block or blocked shot occurs when a defensive player legally deflects a field goal attempt from an offensive player . The defender is not allowed to make contact with the offensive player 's hand -LRB- unless the defender is also in contact with the ball -RRB- or a foul is called . In order to be legal , the block must occur while the shot is traveling upward or at its apex . A deflected field goal that is made does not count as a blocked shot and simply counts as a successful field goal attempt for shooter plus the points awarded to the shooting team . Every successful blocked shot is counted as a missed field goal attempt for the shooter . Also , on a shooting foul , a blocked shot can not be awarded or counted , even if the player who deflected the field goal attempt is different from the player who committed the foul . If the ball is heading downward when the defender hits it , it is ruled as goaltending and counts as a made basket . Goaltending is also called if the block is made after the ball bounces on the backboard -LRB- NFHS excepted ; the NCAA also used this rule until the 2009 -- 10 season -RRB- .   Nicknames for blocked shots include `` rejections , '' `` stuffs , '' `` bushed '' , `` fudged '' , or notably `` double-fudged '' -LRB- two-handed blocks -RRB- , `` facials , '' `` swats , '' `` denials , '' and `` packs . '' Blocked shots were first officially recorded in the NBA during the 1973 -- 74 season .   Largely due to their height and position near the basket , centers and power forwards tend to record the most blocks , but shorter players with good jumping ability can also be blockers , an example being Dwyane Wade , the shortest player , at 6 ' 4 '' , to record 100 blocked shots in a single season . A player with the ability to block shots can be a positive asset to a team 's defense , as they can make it difficult for opposing players to shoot near the basket and by keeping the basketball in play , as opposed to swatting it out of bounds , a blocked shot can lead to a fast break , a skill Bill Russell was notable for . To be a good shot-blocker , a player needs great court sense and timing , and good height or jumping ability . One tactic is that a shot-blocker can intimidate opponents to alter their shots , resulting in a miss . \"\n",
      " b'[START] ellen degeneres has contributed work to children . [END] DeGeneres is a surname . Notable people with the surname include :   Betty DeGeneres -LRB- born 1930 -RRB- , mother of Ellen DeGeneres and American activist .  Ellen DeGeneres -LRB- born 1958 -RRB- , American stand-up comedian , television hostess , and actress .  Vance DeGeneres -LRB- born 1954 -RRB- , American actor , older brother of Ellen DeGeneres .  Portia de Rossi , or Portia DeGeneres -LRB- born 1973 -RRB- , wife of Ellen DeGeneres and American actress . '\n",
      " b\"[START] blue velvet is a movie . [END] Blue Velvet is a 1986 American neo-noir mystery film , written and directed by David Lynch . Blending psychological horror with film noir , the film stars Kyle MacLachlan , Isabella Rossellini , Dennis Hopper and Laura Dern . The title is taken from Bobby Vinton 's 1963 song of the same name .   The screenplay of Blue Velvet had been passed around multiple times in the late 1970s and early 1980s , with many major studios declining it because of its strong sexual and violent content . After the commercial and critical failure of Lynch 's Dune -LRB- 1984 -RRB- , the director made attempts at developing a more `` personal story '' , somewhat characteristic of the surrealist style displayed in his debut Eraserhead -LRB- 1977 -RRB- . The independent studio De Laurentiis Entertainment Group , owned at the time by Italian film producer Dino De Laurentiis , agreed to finance and produce the film .   Blue Velvet initially received a divided critical response , with many stating that its objectionable content served little artistic purpose . It nevertheless earned Lynch his second Academy Award nomination for Best Director and came to achieve cult status . As an example of a director casting against the norm , it was credited for re-launching Hopper 's career and for providing Rossellini with a dramatic outlet beyond her previous work as a fashion model and a cosmetics spokeswoman .   In the years since , the film has generated significant academic attention with regard to its thematic symbolism , and is now widely regarded as one of Lynch 's major works and one of the greatest films of the 1980s . Publications including Sight & Sound , Time , Entertainment Weekly and BBC Magazine have ranked it among the greatest American films of all time . In 2008 , Blue Velvet was chosen by the American Film Institute as one of the greatest American mystery films ever made . \"\n",
      " b\"[START] macaulay culkin acted in home alone lost in new york . [END] Macaulay Carson Culkin -LRB- born August 26 , 1980 -RRB- is an American actor . He became famous as a child actor for his role as Kevin McCallister in the family comedy Home Alone -LRB- 1990 -RRB- and its sequel Home Alone 2 : Lost in New York -LRB- 1992 -RRB- . He is also known for his roles in Uncle Buck -LRB- 1989 -RRB- , My Girl -LRB- 1991 -RRB- , The Good Son -LRB- 1993 -RRB- , The Pagemaster -LRB- 1994 -RRB- , Richie Rich -LRB- 1994 -RRB- , Party Monster -LRB- 2003 -RRB- , and the music video for Michael Jackson 's `` Black or White '' . At the height of his fame , he was regarded as the most successful child actor since Shirley Temple . Culkin ranked at number two on VH1 's list of the `` 100 Greatest Kid-Stars '' and E! 's list of the `` 50 Greatest Child Stars '' . \"\n",
      " b\"[START] ranbir kapoor has a career in films . [END] Ranbir Kapoor -LRB- -LSB- r\\xc9\\x99\\xcb\\x88\\xc9\\xb3bi\\xcb\\x90r k\\xc9\\x99\\xcb\\x88pu\\xcb\\x90r -RSB- ; born 28 September 1982 -RRB- is an Indian actor and producer . The son of actors Rishi and Neetu , and the grandson of actor-director Raj , Kapoor pursued film-making and method acting at the School of Visual Arts and the Lee Strasberg Theatre and Film Institute , respectively . He subsequently assisted Sanjay Leela Bhansali on the film Black -LRB- 2005 -RRB- , and made his acting debut with Bhansali 's tragic romance Saawariya -LRB- 2007 -RRB- , a box office flop . Kapoor rose to prominence with his performances in the coming-of-age film Wake Up Sid -LRB- 2009 -RRB- , the romantic comedy Ajab Prem Ki Ghazab Kahani -LRB- 2009 -RRB- , the comedy drama Rocket Singh : Salesman of the Year -LRB- 2009 -RRB- , and the political thriller-crime drama Raajneeti -LRB- 2010 -RRB- .   The romantic drama Rockstar -LRB- 2011 -RRB- and the comedy drama Barfi ! -LRB- 2012 -RRB- earned Kapoor two consecutive Best Actor awards at Filmfare , and a starring role in the romantic comedy Yeh Jawaani Hai Deewani -LRB- 2013 -RRB- one of the highest-grossing Bollywood filmsestablished him as a leading Bollywood actor . However , he followed it by starring in a series of films that under-performed at the box office , although his performance in the romantic drama Tamasha -LRB- 2015 -RRB- was critically acclaimed . This changed in 2016 when he starred as a musician in the commercially successful romance Ae Dil Hai Mushkil .   Through his career in Bollywood films , Kapoor has become one of the most popular celebrities and one of the highest-paid actors in India . He is the recipient of several awards , including five Filmfare Awards . In addition to acting in films , Kapoor supports charities and causes . He is the co-founder of the production company Picture Shuru Productions , and is a co-owner of the Indian Super League football team Mumbai City FC . \"\n",
      " b\"[START] leslie howard was an actor . [END] Leslie Howard -LRB- born Leslie Howard Steiner , 3 April 18931 June 1943 -RRB- was an English stage and film actor , director and producer . Howard also wrote many stories and articles for The New York Times , The New Yorker and Vanity Fair . Howard was one of the biggest box-office draws and movie idols of the 1930s but is probably best remembered for playing Ashley Wilkes in Gone with the Wind -LRB- 1939 -RRB- . Howard had movie roles in many other notable films , including : Berkeley Square -LRB- 1933 -RRB- , Of Human Bondage -LRB- 1934 -RRB- , The Scarlet Pimpernel -LRB- 1934 -RRB- , The Petrified Forest -LRB- 1936 -RRB- , Pygmalion -LRB- 1938 -RRB- , Intermezzo -LRB- 1939 -RRB- , `` Pimpernel '' Smith -LRB- 1941 -RRB- and The First of the Few -LRB- 1942 -RRB- , receiving two nominations for the Academy Award for Best Actor .   Howard 's Second World War activities included acting and filmmaking . He was active in anti-German propaganda and rumoured to have been involved with British or Allied Intelligence , sparking conspiracy theories regarding his death in 1943 at the hands of the German Luftwaffe when the British airliner on which he was a passenger was shot down over the Bay of Biscay . \"\n",
      " b\"[START] land rover makes the range rover evoque . [END] Land Rover is a car brand that specialises in four-wheel-drive vehicles , owned by British multinational car manufacturer Jaguar Land Rover , which has been owned by India 's Tata Motors since 2008 . The Land Rover is regarded as a British icon , and was granted a Royal Warrant by King George VI in 1951 .   The Land Rover name was originally used by the Rover Company for the Land Rover Series , launched in 1948 . It developed into a brand encompassing a range of four-wheel-drive models , including the Defender , Discovery , Freelander , Range Rover , Range Rover Sport , and Range Rover Evoque . Land Rovers are currently assembled in the company 's Halewood and Solihull plants , with research and development taking place at the Gaydon and Whitley engineering centres . Land Rover sold 194,000 vehicles worldwide in 2009 .   In September 2013 , Jaguar Land Rover announced plans to open a # 100 million -LRB- US$ 160 million -RRB- research and development centre in the University of Warwick , Coventry to create a next generation of vehicle technologies . The carmaker said around 1,000 academics and engineers would work there and that construction would start in 2014 . \"\n",
      " b'[START] splatoon is the only game in its franchise . [END] Splatoon 2 is an upcoming third-person shooter video game developed and published by Nintendo for the Nintendo Switch . It is the sequel to the 2015 Wii U title , Splatoon , and is a team-based third-person shooter which is playable by up to eight players in online four-versus-four matches . The game was announced in January 2017 , and will be released worldwide in July 2017 . '\n",
      " b\"[START] prince did not make the album prince . [END] Prince Rogers Nelson -LRB- June 7 , 1958 -- April 21 , 2016 -RRB- was an American singer-songwriter , actor , multi-instrumentalist , philanthropist , dancer and record producer . He was a musical innovator who was known for his eclectic work , flamboyant stage presence , extravagant dress and makeup , and wide vocal range . His music integrates a wide variety of styles , including funk , rock , R&B , new wave , soul , psychedelia , and pop . He has sold over 100 million records worldwide , making him one of the best-selling artists of all time . He won seven Grammy Awards , an American Music Award , a Golden Globe Award , and an Academy Award for the film Purple Rain . He was inducted into the Rock and Roll Hall of Fame in 2004 , his first year of eligibility . Rolling Stone ranked Prince at number 27 on its list of 100 Greatest Artists , `` the most influential artists of the rock & roll era '' .   Prince was born in Minneapolis , Minnesota , and developed an interest in music as a young child . He signed a recording contract with Warner Bros. at the age of 18 , and released his debut album For You in 1978 . His 1979 album Prince went platinum , and his next three records -- Dirty Mind -LRB- 1980 -RRB- , Controversy -LRB- 1981 -RRB- , and 1999 -LRB- 1982 -RRB- -- continued his success , showcasing Prince 's prominently sexual lyrics and blending of funk , dance , and rock music . In 1984 , he began referring to his backup band as the Revolution and released Purple Rain , the soundtrack album to his eponymous 1984 film debut . It quickly became his most critically and commercially successful release , spending 24 consecutive weeks atop the Billboard 200 and selling over 20 million units worldwide . After releasing the albums Around the World in a Day -LRB- 1985 -RRB- and Parade -LRB- 1986 -RRB- , The Revolution disbanded , and Prince released the double album Sign o ' the Times -LRB- 1987 -RRB- as a solo artist . He released three more solo albums before debuting the New Power Generation band in 1991 .   In 1993 , while in a contractual dispute with Warner Bros. , he changed his stage name to , an unpronounceable symbol also known as the `` Love Symbol '' , and began releasing new albums at a faster pace to remove himself from contractual obligations . He released five records between 1994 and 1996 before signing with Arista Records in 1998 . In 2000 , he began referring to himself as `` Prince '' again . He released 16 albums after that , including the platinum-selling Musicology -LRB- 2004 -RRB- . His final album , Hit n Run Phase Two , was first released on the Tidal streaming service on December 12 , 2015 . Prince died from a fentanyl overdose at his Paisley Park recording studio and home in Chanhassen , Minnesota , on April 21 , 2016 , at the age of 57 .  Prince is the second studio album by American recording artist Prince . It was released on October 19 , 1979 by Warner Bros. . Records . \"\n",
      " b\"[START] ileana d cruz starred in a movie . [END] Ileana D'Cruz -LRB- born 1 November 1986 -RRB- is an Indian film actress , who predominantly appears in Telugu cinema and Bollywood .   She won the Filmfare Award for Best Female Debut -- South for the 2006 Telugu film Devadasu . She has appeared in hits such as Pokiri -LRB- 2006 -RRB- , Jalsa -LRB- 2008 -RRB- , Kick -LRB- 2009 -RRB- and Julayi -LRB- 2012 -RRB- , establishing herself as one of Telugu cinema 's leading actresses . D'Cruz made her Kollywood debut with Kedi and made a comeback in Shankar 's Nanban -LRB- 2012 -RRB- .   In 2012 , she made her Bollywood debut with Anurag Basu 's critically and commercially successful Barfi ! , for which she received critical appreciation and the Filmfare Award for Best Female Debut .   Later she starred in films Phata Poster Nikhla Hero -LRB- 2013 -RRB- , Main Tera Hero -LRB- 2014 -RRB- , Happy Ending -LRB- 2014 -RRB- and Rustom -LRB- 2016 -RRB- . Soon she is going to appear along Ajay Devgan in his next film Baadshaho -LRB- 2017 -RRB- .  Julai -LRB- English Translation : Wanderer -RRB- is a 2012 Telugu action comedy film written and directed by Trivikram Srinivas . The film stars Allu Arjun , Ileana D'Cruz and Rajendra Prasad in lead roles . The film was produced by S. Radha Krishna under Haarika & Hassine Creations banner and was presented by DVV Danayya . The soundtrack was composed by Devi Sri Prasad . The film was released worldwide on over 1600 screens on 9 August 2012 to positive reviews , and has garnered the Nandi Award for Best Popular Feature Film . The film was dubbed in Malayalam as Gajapokkiri and was released on 17 August 2012 . It was also dubbed in Hindi as Dangerous Khiladi . The film was remade into Tamil titled as Saahasam which was also well received by audience .  Jalsa -LRB- English translation : Fun -RRB- is a 2008 Telugu action comedy film directed by Trivikram Srinivas and produced by Allu Aravind , under the Geetha Arts banner . The film stars Pawan Kalyan , Ileana D'Cruz and Parvati Melton in pivotal roles . The soundtrack of the film , composed by Devi Sri Prasad , was launched on 29 February 2008 . The film was originally scheduled to be released on 27 March 2008 , but because of delays in the digital intermediate -LRB- DI -RRB- process , the film was released on 2 April 2008 and became successful at the Tollywood Box office . The movie was dubbed in Hindi as Yeh Hai Jalsa . Jalsa was released with 400 prints in 800 theaters across 1000 screens worldwide on 2 April 2008 . Jalsa collected -LRB- Share -RRB- in 100 days and turned out to be biggest grosser of the year .  Kick is a 2009 Indian Telugu-language action comedy film written by Vakkantham Vamsi and directed by Surender Reddy . It features Ravi Teja and Ileana D'Cruz in the lead roles . The film 's music was composed by S. Thaman.The film was released worldwide on 8 May 2009 and became blockbuster and was remade into Tamil as Thillalangadi , Hindi as Kick -LRB- 2014 -RRB- and in Kannada as Super Ranga .   A sequel , Kick 2 with the same lead actor Ravi Teja and director Surender Reddy released worldwide on 21 August 2015 .  Pokiri -LRB- Rogue -RRB- is a 2006 Indian Telugu-language action film , written and directed by Puri Jagannadh . The film was produced by Jagannadh and Manjula Ghattamaneni by their respective production companies Vaishno Academy and Indira Productions . The film stars Mahesh Babu and Ileana D'Cruz ; Prakash Raj , Nassar and Sayaji Shinde appear in prominent roles . The plot revolves around the life of an undercover police officer , Krishna Manohar , who infiltrates a mafia gang headed by a Dubai-based don Ali Bhai , under the pseudonym Pandu .   Made on a budget of around 100120 million , the film 's principal photography commenced in November 2005 and lasted until April 2006 . Most of the film was shot in and around Hyderabad and Chennai , except for a song which was shot at the province of Phuket in Thailand and the city of Bangkok . Shyam K. Naidu was the film 's cinematographer , and it was edited by Marthand K. Venkatesh . The soundtrack and background score were composed by Mani Sharma .   Pokiri was released on 28 April 2006 , to positive critical feedback , and collected a distributor 's share of 420 million . The film grossed 660 million worldwide and remained the highest-grossing Telugu film for three years , until it was surpassed by Magadheera in 2009 . The film was also one of the fourteen southern Indian films to be screened at the International Indian Film Academy Awards -LRB- IIFA -RRB- Film festival in 2006 . The film won four Nandi Awards and two Filmfare Awards . The film 's success catapulted D'Cruz into stardom and brought recognition to Jagannadh as a writer and director .   The film was remade into Tamil as Pokkiri in 2007 by Prabhu Deva with Vijay and Asin portraying the lead roles . Deva remade the film into Hindi as Wanted in 2009 with Salman Khan and Ayesha Takia portraying the lead roles . In 2010 , the film was again remade in Kannada as Porki by M. V. Sridhar with Darshan and Pranitha Subhash portraying the lead roles . \"\n",
      " b'[START] tequila is a food . [END] Tequila -LRB- Spanish -RRB- is a regionally specific name for a distilled beverage made from the blue agave plant , primarily in the area surrounding the city of Tequila , 65 km northwest of Guadalajara , and in the highlands -LRB- Los Altos -RRB- of the central western Mexican state of Jalisco . Although tequila is similar to mezcal , modern tequila differs somewhat in the method of its production , in the use of only blue agave plants , as well as in its regional specificity . Tequila is commonly served neat in Mexico and as a shot with salt and lime across the rest of the world .   The red volcanic soil in the surrounding region is particularly well suited to the growing of the blue agave , and more than 300 million of the plants are harvested there each year . Agave grows differently depending on the region . Blue agaves grown in the highlands Los Altos region are larger in size and sweeter in aroma and taste . Agaves harvested in the lowlands , on the other hand , have a more herbaceous fragrance and flavor .   Mexican laws state that tequila can only be produced in the state of Jalisco and limited municipalities in the states of Guanajuato , Michoac\\xc3\\xa1n , Nayarit , and Tamaulipas . Tequila is recognized as a Mexican designation of origin product in more than 40 countries . It is protected through NAFTA in Canada and the United States , through bilateral agreements with individual countries such as Japan and Israel , and has been a protected designation of origin product in the constituent countries of the European Union since 1997 .   Tequila is most often made at a 38 % alcohol content -LRB- 76 U.S. proof -RRB- for domestic consumption , but can be produced between 31 and 55 % alcohol content -LRB- 62 and 110 U.S. proof -RRB- . Per U.S law , tequila must contain at least 40 % alcohol -LRB- 80 U.S. proof -RRB- to be sold in the United States . '\n",
      " b\"[START] israel located west of china . [END] Beit Kadima -LRB- lit . Kadima House -RRB- is a residential building complex in Jerusalem , Israel located on the west side of Kiryat Shmuel . The British Mandatory authorities built it in 1945 to house the families of British officers . In the end , it was used by UNSCOP Commission , whose members lived there while drafting the UN Partition Plan prior to the establishment of the state .   The building was designed by architect Otto Hoffmann and constructed by an Egyptian housing company . Hoffmann 's design included 21 apartments along with parking garages and storage  space . It was built in the International Style along with traditional Jerusalem motifs such as half arcs over the entrances and outside staircases . The building stood empty for several years until the British authorities chose the secluded compound to house the members of the UNSCOP Commission , who were sent by the UN to determine the future status of the land of Israel . For several weeks the Commission members lived in Beit Kadima and drafted the recommendation which led to the decision on partition of Palestine and the establishment of the State of Israel .   Shortly after the UN decision on November 29 , 1947 , violence erupted in region and the compound became a refuge for Jewish families living in the predominantly Arab neighborhood of Katamon . The building served as a Haganah military post during Israel 's War of Independence .   Today some of the original families still live in the compound , which retains its elegant character . \"\n",
      " b\"[START] idris elba has been nominated four times for a golden globe award in acting . [END] Idrissa Akuna `` Idris '' Elba , -LRB- -LSB- \\xcb\\x88\\xc9\\xaadr\\xe1\\xb5\\xbbs_\\xcb\\x88\\xc9\\x9blb\\xc9\\x99 -RSB- born 6 September 1972 -RRB- is an English actor , musician , and DJ . He is known for playing druglord Russell `` Stringer '' Bell on the HBO series The Wire , Detective John Luther on the BBC One series Luther , and Nelson Mandela in the biographical film Mandela : Long Walk to Freedom -LRB- 2013 -RRB- . He has been nominated four times for a Golden Globe Award for Best Actor in a Miniseries or Television Film , winning one , and was nominated five times for a Primetime Emmy Award .   Elba has appeared in films such as Ridley Scott 's American Gangster -LRB- 2007 -RRB- , Takers -LRB- 2010 -RRB- , Thor -LRB- 2011 -RRB- , Prometheus -LRB- 2012 -RRB- , Pacific Rim -LRB- 2013 -RRB- , Thor : The Dark World -LRB- 2013 -RRB- and Beasts of No Nation -LRB- 2015 , for which he received BAFTA and Golden Globe nominations for Best Supporting Actor -RRB- , and Star Trek Beyond -LRB- 2016 -RRB- . In 2016 , he also voiced Chief Bogo in Zootopia , Shere Khan in The Jungle Book , and Fluke in Finding Dory . He will make his directorial debut with an adaptation of 1992 novel Yardie by Victor Headley .   In addition to his acting work , Elba is a DJ under the moniker DJ Big Driis -LRB- or Big Driis the Londoner -RRB- and hip hop soul musician . In 2016 , he was named in the Time 100 list of the Most Influential People in the World . \"], shape=(32,), dtype=string)\n"
     ]
    }
   ],
   "source": [
    "for d in ds.take(1):\n",
    "    print(d)"
   ]
  },
  {
   "cell_type": "code",
   "execution_count": 15,
   "metadata": {
    "collapsed": true,
    "jupyter": {
     "outputs_hidden": true
    },
    "tags": []
   },
   "outputs": [
    {
     "name": "stdout",
     "output_type": "stream",
     "text": [
      "Collecting tensorflow_text\n",
      "  Downloading tensorflow_text-2.5.0-cp38-cp38-manylinux1_x86_64.whl (4.3 MB)\n",
      "\u001b[K     |████████████████████████████████| 4.3 MB 2.9 MB/s eta 0:00:01\n",
      "\u001b[?25hCollecting tensorflow<2.6,>=2.5.0\n",
      "  Downloading tensorflow-2.5.0-cp38-cp38-manylinux2010_x86_64.whl (454.4 MB)\n",
      "\u001b[K     |████████████████████████████████| 454.4 MB 79 kB/s  eta 0:00:011   |█                               | 14.9 MB 4.8 MB/s eta 0:01:31     |██▎                             | 32.7 MB 6.6 MB/s eta 0:01:04     |████▍                           | 63.0 MB 2.5 MB/s eta 0:02:34     |█████████▏                      | 130.5 MB 12.6 MB/s eta 0:00:26     |█████████▎                      | 131.2 MB 12.6 MB/s eta 0:00:26     |█████████████████████▏          | 301.3 MB 911 kB/s eta 0:02:49     |█████████████████████▉          | 309.9 MB 10.4 MB/s eta 0:00:14     |█████████████████████████▉      | 367.6 MB 4.4 MB/s eta 0:00:20     |██████████████████████████▏     | 372.1 MB 11.0 MB/s eta 0:00:08\n",
      "\u001b[?25hCollecting tensorflow-hub>=0.8.0\n",
      "  Downloading tensorflow_hub-0.12.0-py2.py3-none-any.whl (108 kB)\n",
      "\u001b[K     |████████████████████████████████| 108 kB 10.3 MB/s eta 0:00:01\n",
      "\u001b[?25hCollecting tensorflow-estimator<2.6.0,>=2.5.0rc0\n",
      "  Downloading tensorflow_estimator-2.5.0-py2.py3-none-any.whl (462 kB)\n",
      "\u001b[K     |████████████████████████████████| 462 kB 4.8 MB/s eta 0:00:01\n",
      "\u001b[?25hRequirement already satisfied: typing-extensions~=3.7.4 in /root/anaconda3/lib/python3.8/site-packages (from tensorflow<2.6,>=2.5.0->tensorflow_text) (3.7.4.3)\n",
      "Requirement already satisfied: six~=1.15.0 in /root/anaconda3/lib/python3.8/site-packages (from tensorflow<2.6,>=2.5.0->tensorflow_text) (1.15.0)\n",
      "Requirement already satisfied: wheel~=0.35 in /root/anaconda3/lib/python3.8/site-packages (from tensorflow<2.6,>=2.5.0->tensorflow_text) (0.35.1)\n",
      "Requirement already satisfied: absl-py~=0.10 in /root/anaconda3/lib/python3.8/site-packages (from tensorflow<2.6,>=2.5.0->tensorflow_text) (0.13.0)\n",
      "Requirement already satisfied: termcolor~=1.1.0 in /root/anaconda3/lib/python3.8/site-packages (from tensorflow<2.6,>=2.5.0->tensorflow_text) (1.1.0)\n",
      "Requirement already satisfied: numpy~=1.19.2 in /root/anaconda3/lib/python3.8/site-packages (from tensorflow<2.6,>=2.5.0->tensorflow_text) (1.19.2)\n",
      "Requirement already satisfied: tensorboard~=2.5 in /root/anaconda3/lib/python3.8/site-packages (from tensorflow<2.6,>=2.5.0->tensorflow_text) (2.5.0)\n",
      "Requirement already satisfied: google-pasta~=0.2 in /root/anaconda3/lib/python3.8/site-packages (from tensorflow<2.6,>=2.5.0->tensorflow_text) (0.2.0)\n",
      "Requirement already satisfied: protobuf>=3.9.2 in /root/anaconda3/lib/python3.8/site-packages (from tensorflow<2.6,>=2.5.0->tensorflow_text) (3.17.3)\n",
      "Collecting grpcio~=1.34.0\n",
      "  Downloading grpcio-1.34.1-cp38-cp38-manylinux2014_x86_64.whl (4.0 MB)\n",
      "\u001b[K     |████████████████████████████████| 4.0 MB 3.1 MB/s eta 0:00:01\n",
      "\u001b[?25hRequirement already satisfied: opt-einsum~=3.3.0 in /root/anaconda3/lib/python3.8/site-packages (from tensorflow<2.6,>=2.5.0->tensorflow_text) (3.3.0)\n",
      "Requirement already satisfied: keras-preprocessing~=1.1.2 in /root/anaconda3/lib/python3.8/site-packages (from tensorflow<2.6,>=2.5.0->tensorflow_text) (1.1.2)\n",
      "Requirement already satisfied: flatbuffers~=1.12.0 in /root/anaconda3/lib/python3.8/site-packages (from tensorflow<2.6,>=2.5.0->tensorflow_text) (1.12)\n",
      "Requirement already satisfied: wrapt~=1.12.1 in /root/anaconda3/lib/python3.8/site-packages (from tensorflow<2.6,>=2.5.0->tensorflow_text) (1.12.1)\n",
      "Collecting keras-nightly~=2.5.0.dev\n",
      "  Downloading keras_nightly-2.5.0.dev2021032900-py2.py3-none-any.whl (1.2 MB)\n",
      "\u001b[K     |████████████████████████████████| 1.2 MB 5.8 MB/s eta 0:00:01\n",
      "\u001b[?25hCollecting gast==0.4.0\n",
      "  Downloading gast-0.4.0-py3-none-any.whl (9.8 kB)\n",
      "Requirement already satisfied: astunparse~=1.6.3 in /root/anaconda3/lib/python3.8/site-packages (from tensorflow<2.6,>=2.5.0->tensorflow_text) (1.6.3)\n",
      "Collecting h5py~=3.1.0\n",
      "  Downloading h5py-3.1.0-cp38-cp38-manylinux1_x86_64.whl (4.4 MB)\n",
      "\u001b[K     |████████████████████████████████| 4.4 MB 6.0 MB/s eta 0:00:01\n",
      "\u001b[?25hRequirement already satisfied: setuptools>=41.0.0 in /root/anaconda3/lib/python3.8/site-packages (from tensorboard~=2.5->tensorflow<2.6,>=2.5.0->tensorflow_text) (50.3.1.post20201107)\n",
      "Requirement already satisfied: tensorboard-data-server<0.7.0,>=0.6.0 in /root/anaconda3/lib/python3.8/site-packages (from tensorboard~=2.5->tensorflow<2.6,>=2.5.0->tensorflow_text) (0.6.1)\n",
      "Requirement already satisfied: tensorboard-plugin-wit>=1.6.0 in /root/anaconda3/lib/python3.8/site-packages (from tensorboard~=2.5->tensorflow<2.6,>=2.5.0->tensorflow_text) (1.8.0)\n",
      "Requirement already satisfied: google-auth<2,>=1.6.3 in /root/anaconda3/lib/python3.8/site-packages (from tensorboard~=2.5->tensorflow<2.6,>=2.5.0->tensorflow_text) (1.32.0)\n",
      "Requirement already satisfied: werkzeug>=0.11.15 in /root/anaconda3/lib/python3.8/site-packages (from tensorboard~=2.5->tensorflow<2.6,>=2.5.0->tensorflow_text) (1.0.1)\n",
      "Requirement already satisfied: markdown>=2.6.8 in /root/anaconda3/lib/python3.8/site-packages (from tensorboard~=2.5->tensorflow<2.6,>=2.5.0->tensorflow_text) (3.3.4)\n",
      "Requirement already satisfied: google-auth-oauthlib<0.5,>=0.4.1 in /root/anaconda3/lib/python3.8/site-packages (from tensorboard~=2.5->tensorflow<2.6,>=2.5.0->tensorflow_text) (0.4.4)\n",
      "Requirement already satisfied: requests<3,>=2.21.0 in /root/anaconda3/lib/python3.8/site-packages (from tensorboard~=2.5->tensorflow<2.6,>=2.5.0->tensorflow_text) (2.24.0)\n",
      "Requirement already satisfied: rsa<5,>=3.1.4 in /root/anaconda3/lib/python3.8/site-packages (from google-auth<2,>=1.6.3->tensorboard~=2.5->tensorflow<2.6,>=2.5.0->tensorflow_text) (4.7.2)\n",
      "Requirement already satisfied: pyasn1-modules>=0.2.1 in /root/anaconda3/lib/python3.8/site-packages (from google-auth<2,>=1.6.3->tensorboard~=2.5->tensorflow<2.6,>=2.5.0->tensorflow_text) (0.2.8)\n",
      "Requirement already satisfied: cachetools<5.0,>=2.0.0 in /root/anaconda3/lib/python3.8/site-packages (from google-auth<2,>=1.6.3->tensorboard~=2.5->tensorflow<2.6,>=2.5.0->tensorflow_text) (4.2.2)\n",
      "Requirement already satisfied: requests-oauthlib>=0.7.0 in /root/anaconda3/lib/python3.8/site-packages (from google-auth-oauthlib<0.5,>=0.4.1->tensorboard~=2.5->tensorflow<2.6,>=2.5.0->tensorflow_text) (1.3.0)\n",
      "Requirement already satisfied: pyasn1<0.5.0,>=0.4.6 in /root/anaconda3/lib/python3.8/site-packages (from pyasn1-modules>=0.2.1->google-auth<2,>=1.6.3->tensorboard~=2.5->tensorflow<2.6,>=2.5.0->tensorflow_text) (0.4.8)\n",
      "Requirement already satisfied: certifi>=2017.4.17 in /root/anaconda3/lib/python3.8/site-packages (from requests<3,>=2.21.0->tensorboard~=2.5->tensorflow<2.6,>=2.5.0->tensorflow_text) (2020.6.20)\n",
      "Requirement already satisfied: idna<3,>=2.5 in /root/anaconda3/lib/python3.8/site-packages (from requests<3,>=2.21.0->tensorboard~=2.5->tensorflow<2.6,>=2.5.0->tensorflow_text) (2.10)\n",
      "Requirement already satisfied: chardet<4,>=3.0.2 in /root/anaconda3/lib/python3.8/site-packages (from requests<3,>=2.21.0->tensorboard~=2.5->tensorflow<2.6,>=2.5.0->tensorflow_text) (3.0.4)\n",
      "Requirement already satisfied: urllib3!=1.25.0,!=1.25.1,<1.26,>=1.21.1 in /root/anaconda3/lib/python3.8/site-packages (from requests<3,>=2.21.0->tensorboard~=2.5->tensorflow<2.6,>=2.5.0->tensorflow_text) (1.25.11)\n",
      "Requirement already satisfied: oauthlib>=3.0.0 in /root/anaconda3/lib/python3.8/site-packages (from requests-oauthlib>=0.7.0->google-auth-oauthlib<0.5,>=0.4.1->tensorboard~=2.5->tensorflow<2.6,>=2.5.0->tensorflow_text) (3.1.1)\n",
      "Installing collected packages: grpcio, tensorflow-estimator, keras-nightly, h5py, gast, tensorflow-hub, tensorflow, tensorflow-text\n",
      "  Attempting uninstall: grpcio\n",
      "    Found existing installation: grpcio 1.32.0\n",
      "    Uninstalling grpcio-1.32.0:\n",
      "      Successfully uninstalled grpcio-1.32.0\n",
      "  Attempting uninstall: tensorflow-estimator\n",
      "    Found existing installation: tensorflow-estimator 2.4.0\n",
      "    Uninstalling tensorflow-estimator-2.4.0:\n",
      "      Successfully uninstalled tensorflow-estimator-2.4.0\n",
      "  Attempting uninstall: h5py\n",
      "    Found existing installation: h5py 2.10.0\n",
      "    Uninstalling h5py-2.10.0:\n",
      "      Successfully uninstalled h5py-2.10.0\n",
      "  Attempting uninstall: gast\n",
      "    Found existing installation: gast 0.3.3\n",
      "    Uninstalling gast-0.3.3:\n",
      "      Successfully uninstalled gast-0.3.3\n",
      "  Attempting uninstall: tensorflow\n",
      "    Found existing installation: tensorflow 2.4.1\n",
      "    Uninstalling tensorflow-2.4.1:\n",
      "      Successfully uninstalled tensorflow-2.4.1\n",
      "Successfully installed gast-0.4.0 grpcio-1.34.1 h5py-3.1.0 keras-nightly-2.5.0.dev2021032900 tensorflow-2.5.0 tensorflow-estimator-2.5.0 tensorflow-hub-0.12.0 tensorflow-text-2.5.0\n",
      "\u001b[33mWARNING: Running pip as the 'root' user can result in broken permissions and conflicting behaviour with the system package manager. It is recommended to use a virtual environment instead: https://pip.pypa.io/warnings/venv\u001b[0m\n",
      "Note: you may need to restart the kernel to use updated packages.\n"
     ]
    }
   ],
   "source": [
    "#pip install tensorflow_text"
   ]
  },
  {
   "cell_type": "code",
   "execution_count": 27,
   "metadata": {},
   "outputs": [],
   "source": [
    "from tensorflow_text.tools.wordpiece_vocab import bert_vocab_from_dataset as bert_vocab"
   ]
  },
  {
   "cell_type": "code",
   "execution_count": 28,
   "metadata": {},
   "outputs": [],
   "source": [
    "bert_tokenizer_params=dict(lower_case=True)\n",
    "reserved_tokens=[\"[PAD]\", \"[UNK]\", \"[START]\", \"[END]\"]\n",
    "bert_vocab_args = dict(\n",
    "    # The target vocabulary size\n",
    "    vocab_size = 8000,\n",
    "    # Reserved tokens that must be included in the vocabulary\n",
    "    reserved_tokens=reserved_tokens,\n",
    "    # Arguments for `text.BertTokenizer`\n",
    "    bert_tokenizer_params=bert_tokenizer_params,\n",
    "    # Arguments for `wordpiece_vocab.wordpiece_tokenizer_learner_lib.learn`\n",
    "    learn_params={},\n",
    ")"
   ]
  },
  {
   "cell_type": "code",
   "execution_count": 60,
   "metadata": {},
   "outputs": [
    {
     "name": "stdout",
     "output_type": "stream",
     "text": [
      "CPU times: user 11min 3s, sys: 37.1 s, total: 11min 40s\n",
      "Wall time: 10min 52s\n"
     ]
    }
   ],
   "source": [
    "%%time\n",
    "pt_vocab = bert_vocab.bert_vocab_from_dataset(\n",
    "    ds.batch(1000).prefetch(2),\n",
    "    **bert_vocab_args\n",
    ")"
   ]
  },
  {
   "cell_type": "code",
   "execution_count": 61,
   "metadata": {},
   "outputs": [
    {
     "name": "stdout",
     "output_type": "stream",
     "text": [
      "['[PAD]', '[UNK]', '[START]', '[END]', '!', '\"', '#', '$', '%', '&']\n",
      "['ɕ', 'ɖ', 'ə', 'ɚ', 'ɛ', 'ɜ', 'ɝ', 'ɟ', 'ɡ', 'ɣ']\n"
     ]
    }
   ],
   "source": [
    "print(pt_vocab[:10])\n",
    "print(pt_vocab[100:110])"
   ]
  },
  {
   "cell_type": "code",
   "execution_count": 62,
   "metadata": {},
   "outputs": [],
   "source": [
    "def write_vocab_file(filepath, vocab):\n",
    "    print(\"Saving vocab file to {}\".format(filepath))\n",
    "    with open(filepath, 'w') as f:\n",
    "        for token in vocab:\n",
    "            print(token, file=f)"
   ]
  },
  {
   "cell_type": "code",
   "execution_count": 63,
   "metadata": {},
   "outputs": [
    {
     "name": "stdout",
     "output_type": "stream",
     "text": [
      "Saving vocab file to working/data/fever_vocab.txt\n"
     ]
    }
   ],
   "source": [
    "vocab_file_out = 'working/data/fever_vocab.txt'\n",
    "write_vocab_file(vocab_file_out, pt_vocab)"
   ]
  },
  {
   "cell_type": "code",
   "execution_count": 64,
   "metadata": {},
   "outputs": [
    {
     "name": "stdout",
     "output_type": "stream",
     "text": [
      "7860\n"
     ]
    }
   ],
   "source": [
    "print(len(pt_vocab))"
   ]
  },
  {
   "cell_type": "code",
   "execution_count": 4,
   "metadata": {},
   "outputs": [
    {
     "name": "stdout",
     "output_type": "stream",
     "text": [
      "7860 working/data/fever_vocab.txt\n"
     ]
    }
   ],
   "source": [
    "!wc -l working/data/fever_vocab.txt"
   ]
  },
  {
   "cell_type": "code",
   "execution_count": 60,
   "metadata": {},
   "outputs": [
    {
     "name": "stdout",
     "output_type": "stream",
     "text": [
      "[PAD]\n",
      "[UNK]\n",
      "[START]\n",
      "[END]\n",
      "!\n",
      "\"\n",
      "#\n",
      "$\n",
      "%\n",
      "&\n"
     ]
    }
   ],
   "source": [
    "!head -10 working/data/fever_vocab.txt"
   ]
  },
  {
   "cell_type": "markdown",
   "metadata": {},
   "source": [
    "#### Load the vocab and initialize the tokenizer"
   ]
  },
  {
   "cell_type": "code",
   "execution_count": 29,
   "metadata": {},
   "outputs": [],
   "source": [
    "import tensorflow_text as text\n",
    "bert_tokenizer_params=dict(lower_case=True)\n",
    "vocab_file_out = 'working/data/fever_vocab.txt'\n",
    "pt_tokenizer = text.BertTokenizer(vocab_file_out, **bert_tokenizer_params)"
   ]
  },
  {
   "cell_type": "code",
   "execution_count": 30,
   "metadata": {
    "tags": []
   },
   "outputs": [
    {
     "name": "stdout",
     "output_type": "stream",
     "text": [
      "tf.Tensor(b\"[START] nikolaj coster waldau worked with the fox broadcasting company . [END] The Fox Broadcasting Company -LRB- often shortened to Fox and stylized as FOX -RRB- is an American English language commercial broadcast television network that is owned by the Fox Entertainment Group subsidiary of 21st Century Fox . The network is headquartered at the 20th Century Fox studio lot on Pico Boulevard in the Century City section of Los Angeles , with additional major offices and production facilities at the Fox Television Center in nearby West Los Angeles and the Fox Broadcasting Center in the Yorkville neighborhood of Manhattan , New York City . It is the third largest major television network in the world based on total revenues , assets , and international coverage .   Launched on October 9 , 1986 as a competitor to the Big Three television networks -LRB- ABC , NBC and CBS -RRB- , Fox went on to become the most successful attempt at a fourth television network . It was the highest-rated broadcast network in the 18 -- 49 demographic from 2004 to 2012 , and earned the position as the most-watched American television network in total viewership during the 2007 -- 08 season .   Fox and its affiliated companies operate many entertainment channels in international markets , although these do not necessarily air the same programming as the U.S. network . Most viewers in Canada have access to at least one U.S.-based Fox affiliate , either over-the-air or through a pay television provider , although Fox 's National Football League telecasts and most of its prime time programming are subject to simultaneous substitution regulations for cable and satellite providers imposed by the Canadian Radio-television and Telecommunications Commission -LRB- CRTC -RRB- to protect rights held by domestically based networks .   The network is named after sister company 20th Century Fox , and indirectly for producer William Fox , who founded one of the movie studio 's predecessors , Fox Film . Fox is a member of the North American Broadcasters Association and the National Association of Broadcasters .  Nikolaj Coster-Waldau -LRB- -LSB- ne\\xc9\\xa1\\xcc\\x8aola\\xc9\\xaa\\xcc\\xaf k\\xca\\xb0\\xca\\x8csd\\xcc\\xa5\\xc9\\x90 \\xcb\\x88\\xca\\x8bald\\xcc\\xa5\\xc9\\x91\\xca\\x8a\\xcc\\xaf -RSB- ; born 27 July 1970 -RRB- is a Danish actor , producer and screenwriter . He graduated from Danish National School of Theatre in Copenhagen in 1993 . Coster-Waldau 's breakthrough performance in Denmark was his role in the film Nightwatch -LRB- 1994 -RRB- . Since then he has appeared in numerous films in his native Scandinavia and Europe in general , including Headhunters -LRB- 2011 -RRB- and A Thousand Times Good Night -LRB- 2013 -RRB- .   In the United States , his debut film role was in the war film Black Hawk Down -LRB- 2001 -RRB- , playing Medal of Honor recipient Gary Gordon . He then played Detective John Amsterdam in the short-lived Fox television series New Amsterdam -LRB- 2008 -RRB- , as well as appearing as Frank Pike in the 2009 Fox television film Virtuality , originally intended as a pilot . He became widely known to a broad audience for his current role as Ser Jaime Lannister , in the HBO series Game of Thrones . In 2017 , he became one of the highest paid actors on television and earned # 2 million per episode of Game of Thrones . \", shape=(), dtype=string)\n"
     ]
    }
   ],
   "source": [
    "for d in get_dataset().take(1):\n",
    "    print(d)"
   ]
  },
  {
   "cell_type": "code",
   "execution_count": 31,
   "metadata": {},
   "outputs": [],
   "source": [
    "from sklearn import preprocessing\n",
    "\n",
    "labels = [d['label_text'] for d in formatted_train_data]\n",
    "le = preprocessing.LabelEncoder()\n",
    "le.fit(labels)\n",
    "labels_enc = le.transform(labels)"
   ]
  },
  {
   "cell_type": "code",
   "execution_count": 32,
   "metadata": {},
   "outputs": [
    {
     "name": "stdout",
     "output_type": "stream",
     "text": [
      "A peek a the reshaped labels:\n",
      "[[0. 0. 1.]\n",
      " [0. 0. 1.]\n",
      " [0. 0. 1.]\n",
      " [0. 1. 0.]\n",
      " [1. 0. 0.]]\n",
      "The datatypes of the training dataset, features=<class 'numpy.ndarray'>, labels=<class 'numpy.ndarray'>\n"
     ]
    }
   ],
   "source": [
    "train_labels = np.zeros(shape=(len(labels_enc),3))\n",
    "for idx, val in enumerate(labels_enc):\n",
    "    train_labels[idx][val]=1\n",
    "print(\"A peek a the reshaped labels:\")\n",
    "print(train_labels[:5])\n",
    "print(\"The datatypes of the training dataset, features={}, labels={}\".format(type(labels_enc), type(train_labels)))"
   ]
  },
  {
   "cell_type": "code",
   "execution_count": 33,
   "metadata": {},
   "outputs": [
    {
     "data": {
      "text/plain": [
       "<TensorSliceDataset shapes: (3,), types: tf.int32>"
      ]
     },
     "execution_count": 33,
     "metadata": {},
     "output_type": "execute_result"
    }
   ],
   "source": [
    "lbls = tf.reshape(tf.convert_to_tensor(train_labels, dtype=tf.int32), (train_labels.shape))\n",
    "lbls_ds = tf.data.Dataset.from_tensor_slices(lbls)\n",
    "lbls_ds"
   ]
  },
  {
   "cell_type": "code",
   "execution_count": 34,
   "metadata": {},
   "outputs": [],
   "source": [
    "import numpy as np\n",
    "import tensorflow as tf\n",
    "def get_train_data_generator():\n",
    "    for data in formatted_train_data:\n",
    "        claim = preprocess(data[\"claim\"])\n",
    "#         body_ids = [e[0] for e in data[\"evidence\"]]\n",
    "#         bodies = [database.get_doc_text(id) for id in set(body_ids)]\n",
    "        lines = [get_doc_line(d[0],d[1]) for d in data[\"evidence\"]]\n",
    "        yield claim, \" \".join(lines)\n",
    "        \n",
    "def get_train_dataset():\n",
    "    generator = lambda: get_train_data_generator()\n",
    "    return tf.data.Dataset.from_generator(\n",
    "            generator, output_signature=(\n",
    "            tf.TensorSpec(shape=(2, ), dtype=tf.string)))"
   ]
  },
  {
   "cell_type": "code",
   "execution_count": 35,
   "metadata": {},
   "outputs": [],
   "source": [
    "raw_ds = get_train_dataset()"
   ]
  },
  {
   "cell_type": "code",
   "execution_count": 36,
   "metadata": {},
   "outputs": [
    {
     "name": "stdout",
     "output_type": "stream",
     "text": [
      "tf.Tensor(b'He then played Detective John Amsterdam in the short-lived Fox television series New Amsterdam -LRB- 2008 -RRB- , as well as appearing as Frank Pike in the 2009 Fox television film Virtuality , originally intended as a pilot . The Fox Broadcasting Company -LRB- often shortened to Fox and stylized as FOX -RRB- is an American English language commercial broadcast television network that is owned by the Fox Entertainment Group subsidiary of 21st Century Fox .', shape=(), dtype=string)\n",
      ".....\n",
      "\n",
      "\n",
      "tf.Tensor(b'[START] nikolaj coster waldau worked with the fox broadcasting company . [END]', shape=(), dtype=string)\n"
     ]
    }
   ],
   "source": [
    "for d,e in raw_ds.take(1):\n",
    "    print(e)\n",
    "    print(\".....\\n\\n\")\n",
    "    print(d)"
   ]
  },
  {
   "cell_type": "code",
   "execution_count": 44,
   "metadata": {},
   "outputs": [
    {
     "name": "stdout",
     "output_type": "stream",
     "text": [
      "(TensorSpec(shape=(2,), dtype=tf.string, name=None), TensorSpec(shape=(3,), dtype=tf.int32, name=None))\n"
     ]
    }
   ],
   "source": [
    "raw_ds_enc_labls = tf.data.Dataset.zip((raw_ds, lbls_ds))\n",
    "print(raw_ds_enc_labls.element_spec)"
   ]
  },
  {
   "cell_type": "code",
   "execution_count": null,
   "metadata": {},
   "outputs": [],
   "source": []
  },
  {
   "cell_type": "markdown",
   "metadata": {},
   "source": [
    "#### Dev dataset"
   ]
  },
  {
   "cell_type": "code",
   "execution_count": 37,
   "metadata": {},
   "outputs": [],
   "source": [
    "import numpy as np\n",
    "import tensorflow as tf\n",
    "def get_dev_data_generator():\n",
    "    for data in dev_data_formatted:\n",
    "        claim = preprocess(data[\"claim\"])\n",
    "#         body_ids = [e[0] for e in data[\"evidence\"]]\n",
    "#         bodies = [database.get_doc_text(id) for id in set(body_ids)]\n",
    "        lines = [get_doc_line(d[0],d[1]) for d in data[\"evidence\"]]\n",
    "        yield claim, \" \".join(lines)\n",
    "        \n",
    "def get_dev_dataset():\n",
    "    generator = lambda: get_dev_data_generator()\n",
    "    return tf.data.Dataset.from_generator(\n",
    "            generator, output_signature=(\n",
    "            tf.TensorSpec(shape=(2, ), dtype=tf.string)))"
   ]
  },
  {
   "cell_type": "code",
   "execution_count": 38,
   "metadata": {},
   "outputs": [],
   "source": [
    "dev_ds = get_dev_dataset()"
   ]
  },
  {
   "cell_type": "code",
   "execution_count": 39,
   "metadata": {},
   "outputs": [],
   "source": [
    "labels = [d['label_text'] for d in dev_data_formatted]\n",
    "labels_enc = le.transform(labels)"
   ]
  },
  {
   "cell_type": "code",
   "execution_count": 40,
   "metadata": {},
   "outputs": [
    {
     "name": "stdout",
     "output_type": "stream",
     "text": [
      "A peek a the reshaped labels:\n",
      "[[1. 0. 0.]\n",
      " [1. 0. 0.]\n",
      " [0. 0. 1.]\n",
      " [1. 0. 0.]\n",
      " [0. 1. 0.]]\n",
      "The datatypes of the training dataset, features=<class 'numpy.ndarray'>, labels=<class 'numpy.ndarray'>\n"
     ]
    }
   ],
   "source": [
    "dev_labels = np.zeros(shape=(len(labels_enc),3))\n",
    "for idx, val in enumerate(labels_enc):\n",
    "    dev_labels[idx][val]=1\n",
    "print(\"A peek a the reshaped labels:\")\n",
    "print(dev_labels[:5])\n",
    "print(\"The datatypes of the training dataset, features={}, labels={}\".format(type(labels_enc), type(dev_labels)))"
   ]
  },
  {
   "cell_type": "code",
   "execution_count": 41,
   "metadata": {},
   "outputs": [
    {
     "name": "stdout",
     "output_type": "stream",
     "text": [
      "tf.Tensor(\n",
      "[[1 0 0]\n",
      " [1 0 0]\n",
      " [0 0 1]\n",
      " ...\n",
      " [1 0 0]\n",
      " [1 0 0]\n",
      " [1 0 0]], shape=(9999, 3), dtype=int32)\n"
     ]
    },
    {
     "data": {
      "text/plain": [
       "<TensorSliceDataset shapes: (3,), types: tf.int32>"
      ]
     },
     "execution_count": 41,
     "metadata": {},
     "output_type": "execute_result"
    }
   ],
   "source": [
    "lbls = tf.reshape(tf.convert_to_tensor(dev_labels, dtype=tf.int32), (dev_labels.shape))\n",
    "print(lbls)\n",
    "dev_lbls_ds = tf.data.Dataset.from_tensor_slices(lbls)\n",
    "dev_lbls_ds"
   ]
  },
  {
   "cell_type": "code",
   "execution_count": 42,
   "metadata": {},
   "outputs": [
    {
     "name": "stdout",
     "output_type": "stream",
     "text": [
      "(TensorSpec(shape=(2,), dtype=tf.string, name=None), TensorSpec(shape=(3,), dtype=tf.int32, name=None))\n"
     ]
    }
   ],
   "source": [
    "dev_ds_enc_labls = tf.data.Dataset.zip((dev_ds, dev_lbls_ds))\n",
    "print(dev_ds_enc_labls.element_spec)"
   ]
  },
  {
   "cell_type": "markdown",
   "metadata": {},
   "source": [
    "#### Build the sequences"
   ]
  },
  {
   "cell_type": "code",
   "execution_count": 45,
   "metadata": {},
   "outputs": [
    {
     "name": "stdout",
     "output_type": "stream",
     "text": [
      "tf.Tensor(b'[START] nikolaj coster waldau worked with the fox broadcasting company . [END]', shape=(), dtype=string)\n",
      "........\n",
      "\n",
      "\n",
      "tf.Tensor(b'He then played Detective John Amsterdam in the short-lived Fox television series New Amsterdam -LRB- 2008 -RRB- , as well as appearing as Frank Pike in the 2009 Fox television film Virtuality , originally intended as a pilot . The Fox Broadcasting Company -LRB- often shortened to Fox and stylized as FOX -RRB- is an American English language commercial broadcast television network that is owned by the Fox Entertainment Group subsidiary of 21st Century Fox .', shape=(), dtype=string)\n",
      "........\n",
      "\n",
      "\n",
      "tf.Tensor([0 0 1], shape=(3,), dtype=int32)\n"
     ]
    }
   ],
   "source": [
    "for d, e in raw_ds_enc_labls.take(1):\n",
    "    print(d[0])\n",
    "    print(\"........\\n\\n\")\n",
    "    print(d[1])\n",
    "    print(\"........\\n\\n\")\n",
    "    print(e)"
   ]
  },
  {
   "cell_type": "code",
   "execution_count": 46,
   "metadata": {},
   "outputs": [
    {
     "name": "stdout",
     "output_type": "stream",
     "text": [
      "<MapDataset shapes: (60,), types: tf.int64>\n",
      "<MapDataset shapes: (60,), types: tf.int64>\n",
      "<BatchDataset shapes: (((64, 60), (64, 60)), (64, 3)), types: ((tf.int64, tf.int64), tf.int32)>\n",
      "((TensorSpec(shape=(64, 60), dtype=tf.int64, name=None), TensorSpec(shape=(64, 60), dtype=tf.int64, name=None)), TensorSpec(shape=(64, 3), dtype=tf.int32, name=None))\n"
     ]
    }
   ],
   "source": [
    "BATCH_SIZE = 64\n",
    "MAX_SEQ_LEN = 60\n",
    "BUFFER_SIZE = 32000\n",
    "def tokenize_and_pad(text, max_len):\n",
    "    segment = pt_tokenizer.tokenize(text).merge_dims(1, -1)\n",
    "    inp = segment.to_tensor(shape=[None, max_len])\n",
    "    return inp[0]\n",
    "\n",
    "h = raw_ds_enc_labls.map(lambda x, y: tokenize_and_pad(x[0], MAX_SEQ_LEN))\n",
    "e = raw_ds_enc_labls.map(lambda x, y: tokenize_and_pad(x[1], MAX_SEQ_LEN))\n",
    "l = raw_ds_enc_labls.map(lambda x, y: y)\n",
    "print(h)\n",
    "print(e)\n",
    "f = tf.data.Dataset.zip((h,e))\n",
    "d = tf.data.Dataset.zip((f,l))\n",
    "dataset = d.shuffle(BUFFER_SIZE).batch(BATCH_SIZE, drop_remainder=True)\n",
    "print(dataset)\n",
    "print(dataset.element_spec)"
   ]
  },
  {
   "cell_type": "code",
   "execution_count": 47,
   "metadata": {},
   "outputs": [
    {
     "name": "stdout",
     "output_type": "stream",
     "text": [
      "<MapDataset shapes: (60,), types: tf.int64>\n",
      "<MapDataset shapes: (60,), types: tf.int64>\n",
      "<BatchDataset shapes: (((64, 60), (64, 60)), (64, 3)), types: ((tf.int64, tf.int64), tf.int32)>\n",
      "((TensorSpec(shape=(64, 60), dtype=tf.int64, name=None), TensorSpec(shape=(64, 60), dtype=tf.int64, name=None)), TensorSpec(shape=(64, 3), dtype=tf.int32, name=None))\n"
     ]
    }
   ],
   "source": [
    "BATCH_SIZE = 64\n",
    "MAX_SEQ_LEN = 60\n",
    "BUFFER_SIZE = 32000\n",
    "def tokenize_and_pad(text, max_len):\n",
    "    segment = pt_tokenizer.tokenize(text).merge_dims(1, -1)\n",
    "    inp = segment.to_tensor(shape=[None, max_len])\n",
    "    return inp[0]\n",
    "\n",
    "h = dev_ds_enc_labls.map(lambda x, y: tokenize_and_pad(x[0], MAX_SEQ_LEN))\n",
    "e = dev_ds_enc_labls.map(lambda x, y: tokenize_and_pad(x[1], MAX_SEQ_LEN))\n",
    "l = dev_ds_enc_labls.map(lambda x, y: y)\n",
    "print(h)\n",
    "print(e)\n",
    "f = tf.data.Dataset.zip((h,e))\n",
    "d = tf.data.Dataset.zip((f,l))\n",
    "dataset_dev = d.shuffle(BUFFER_SIZE).batch(BATCH_SIZE, drop_remainder=True)\n",
    "print(dataset_dev)\n",
    "print(dataset_dev.element_spec)"
   ]
  },
  {
   "cell_type": "markdown",
   "metadata": {},
   "source": [
    "#### Prepare the glove embeddings"
   ]
  },
  {
   "cell_type": "code",
   "execution_count": 63,
   "metadata": {},
   "outputs": [
    {
     "name": "stdout",
     "output_type": "stream",
     "text": [
      "glove.6B.50d.txt\n",
      "glove.6B.100d.txt\n",
      "Reading lines from file glove.6B.100d.txt\n",
      "glove.6B.200d.txt\n",
      "glove.6B.300d.txt\n"
     ]
    }
   ],
   "source": [
    "import zipfile, io\n",
    "glove_zip_file = \"entailment/data/glove.6B.zip\"\n",
    "glove_vectors_file = \"glove.6B.100d.txt\"\n",
    "embeddings_index = {}\n",
    "with zipfile.ZipFile(glove_zip_file) as z:\n",
    "        for info in z.infolist():\n",
    "            print(info.filename)\n",
    "            if glove_vectors_file in info.filename:\n",
    "                # read the file\n",
    "                print(\"Reading lines from file {}\".format(glove_vectors_file))\n",
    "                with io.TextIOWrapper(z.open(glove_vectors_file), encoding=\"utf-8\") as f:\n",
    "                    for line in f:\n",
    "                        terms = line.split()\n",
    "                        word = terms[0]\n",
    "                        coefs = np.asarray(terms[1:], dtype='float32')\n",
    "                        \n",
    "                        embeddings_index[word] = coefs"
   ]
  },
  {
   "cell_type": "code",
   "execution_count": 65,
   "metadata": {},
   "outputs": [
    {
     "name": "stdout",
     "output_type": "stream",
     "text": [
      "max length of sequence is 100\n",
      "[-0.038194 -0.24487   0.72812  -0.39961   0.083172  0.043953 -0.39141\n",
      "  0.3344   -0.57545   0.087459  0.28787  -0.06731   0.30906  -0.26384\n",
      " -0.13231  -0.20757   0.33395  -0.33848  -0.31743  -0.48336   0.1464\n",
      " -0.37304   0.34577   0.052041  0.44946  -0.46971   0.02628  -0.54155\n",
      " -0.15518  -0.14107  -0.039722  0.28277   0.14393   0.23464  -0.31021\n",
      "  0.086173  0.20397   0.52624   0.17164  -0.082378 -0.71787  -0.41531\n",
      "  0.20335  -0.12763   0.41367   0.55187   0.57908  -0.33477  -0.36559\n",
      " -0.54857  -0.062892  0.26584   0.30205   0.99775  -0.80481  -3.0243\n",
      "  0.01254  -0.36942   2.2167    0.72201  -0.24978   0.92136   0.034514\n",
      "  0.46745   1.1079   -0.19358  -0.074575  0.23353  -0.052062 -0.22044\n",
      "  0.057162 -0.15806  -0.30798  -0.41625   0.37972   0.15006  -0.53212\n",
      " -0.2055   -1.2526    0.071624  0.70565   0.49744  -0.42063   0.26148\n",
      " -1.538    -0.30223  -0.073438 -0.28312   0.37104  -0.25217   0.016215\n",
      " -0.017099 -0.38984   0.87424  -0.72569  -0.51058  -0.52028  -0.1459\n",
      "  0.8278    0.27062 ]\n"
     ]
    }
   ],
   "source": [
    "embeddings_index[\"the\"].shape\n",
    "max_length = embeddings_index[\"the\"].shape[0]\n",
    "print(\"max length of sequence is {}\".format(max_length))\n",
    "print(embeddings_index[\"the\"])"
   ]
  },
  {
   "cell_type": "code",
   "execution_count": 124,
   "metadata": {
    "tags": []
   },
   "outputs": [
    {
     "data": {
      "text/plain": [
       "100"
      ]
     },
     "execution_count": 124,
     "metadata": {},
     "output_type": "execute_result"
    }
   ],
   "source": [
    "embeddings_index['start'].shape[0]"
   ]
  },
  {
   "cell_type": "code",
   "execution_count": 167,
   "metadata": {},
   "outputs": [
    {
     "name": "stdout",
     "output_type": "stream",
     "text": [
      "(1, 32)\n"
     ]
    }
   ],
   "source": [
    "for d in ds.batch(1):\n",
    "    print(d.shape)\n",
    "    break"
   ]
  },
  {
   "cell_type": "code",
   "execution_count": 177,
   "metadata": {
    "tags": []
   },
   "outputs": [
    {
     "name": "stdout",
     "output_type": "stream",
     "text": [
      "(1, 32)\n"
     ]
    }
   ],
   "source": [
    "for d in ds.batch(1):\n",
    "    print(d.shape)\n",
    "    emb = pt_tokenizer.tokenize(d[0])\n",
    "    embd = pt_tokenizer.detokenize(emb)\n",
    "    break"
   ]
  },
  {
   "cell_type": "code",
   "execution_count": 192,
   "metadata": {},
   "outputs": [
    {
     "name": "stdout",
     "output_type": "stream",
     "text": [
      "(32, None, None)\n"
     ]
    }
   ],
   "source": [
    "print(emb.shape)"
   ]
  },
  {
   "cell_type": "code",
   "execution_count": 191,
   "metadata": {
    "tags": []
   },
   "outputs": [
    {
     "name": "stdout",
     "output_type": "stream",
     "text": [
      "(32, None, None)\n"
     ]
    }
   ],
   "source": [
    "print(embd.shape)"
   ]
  },
  {
   "cell_type": "code",
   "execution_count": 250,
   "metadata": {
    "tags": []
   },
   "outputs": [],
   "source": [
    "word_batch = [[w[0].decode() for w in w_np] for w_np in [word.numpy() for word in embd]]\n",
    "index_batch = [[w[0] for w in w_np] for w_np in [word.numpy() for word in emb]]"
   ]
  },
  {
   "cell_type": "code",
   "execution_count": 258,
   "metadata": {
    "collapsed": true,
    "jupyter": {
     "outputs_hidden": true
    },
    "tags": []
   },
   "outputs": [
    {
     "data": {
      "text/plain": [
       "[36,\n",
       " 1035,\n",
       " 38,\n",
       " 57,\n",
       " 1872,\n",
       " 1007,\n",
       " 5726,\n",
       " 1212,\n",
       " 17,\n",
       " 36,\n",
       " 1026,\n",
       " 38,\n",
       " 57,\n",
       " 1807,\n",
       " 1054,\n",
       " 57,\n",
       " 2049,\n",
       " 1004,\n",
       " 1373,\n",
       " 1673,\n",
       " 15,\n",
       " 4408,\n",
       " 15,\n",
       " 1002,\n",
       " 1082,\n",
       " 1659,\n",
       " 16,\n",
       " 3213,\n",
       " 5537,\n",
       " 1003,\n",
       " 4725,\n",
       " 15,\n",
       " 2309,\n",
       " 5668,\n",
       " 1590,\n",
       " 1475,\n",
       " 1214,\n",
       " 1009,\n",
       " 2049,\n",
       " 1007,\n",
       " 6674,\n",
       " 2891,\n",
       " 5522,\n",
       " 3470,\n",
       " 1061,\n",
       " 3213,\n",
       " 3242,\n",
       " 17,\n",
       " 42,\n",
       " 57,\n",
       " 57,\n",
       " 1009,\n",
       " 1719,\n",
       " 1020,\n",
       " 49,\n",
       " 4157,\n",
       " 1129,\n",
       " 1012,\n",
       " 1756,\n",
       " 5070,\n",
       " 1002,\n",
       " 1756,\n",
       " 3385,\n",
       " 17,\n",
       " 5459,\n",
       " 57,\n",
       " 57,\n",
       " 15,\n",
       " 1475,\n",
       " 49,\n",
       " 4157,\n",
       " 1054,\n",
       " 1159,\n",
       " 1014,\n",
       " 6502,\n",
       " 56,\n",
       " 1002,\n",
       " 6041,\n",
       " 5299,\n",
       " 1782,\n",
       " 1219,\n",
       " 1001,\n",
       " 3213,\n",
       " 5131,\n",
       " 17,\n",
       " 1001,\n",
       " 1051,\n",
       " 1971,\n",
       " 57,\n",
       " 1079,\n",
       " 1289,\n",
       " 1748,\n",
       " 1033,\n",
       " 1872,\n",
       " 1007,\n",
       " 4786,\n",
       " 15,\n",
       " 5726,\n",
       " 1212,\n",
       " 15,\n",
       " 3154,\n",
       " 3889,\n",
       " 6283,\n",
       " 15,\n",
       " 57,\n",
       " 6525,\n",
       " 1061,\n",
       " 5726,\n",
       " 1872,\n",
       " 15,\n",
       " 1002,\n",
       " 44,\n",
       " 17]"
      ]
     },
     "execution_count": 258,
     "metadata": {},
     "output_type": "execute_result"
    }
   ],
   "source": [
    "index_batch[0]"
   ]
  },
  {
   "cell_type": "code",
   "execution_count": 259,
   "metadata": {
    "collapsed": true,
    "jupyter": {
     "outputs_hidden": true
    },
    "tags": []
   },
   "outputs": [
    {
     "data": {
      "text/plain": [
       "['[',\n",
       " 'start',\n",
       " ']',\n",
       " 'paranormal',\n",
       " 'pertains',\n",
       " 'to',\n",
       " 'extraterrestrial',\n",
       " 'life',\n",
       " '.',\n",
       " '[',\n",
       " 'end',\n",
       " ']',\n",
       " 'paranormal',\n",
       " 'events',\n",
       " 'are',\n",
       " 'phenomena',\n",
       " 'described',\n",
       " 'in',\n",
       " 'popular',\n",
       " 'culture',\n",
       " ',',\n",
       " 'folklore',\n",
       " ',',\n",
       " 'and',\n",
       " 'other',\n",
       " 'non',\n",
       " '-',\n",
       " 'scientific',\n",
       " 'bodies',\n",
       " 'of',\n",
       " 'knowledge',\n",
       " ',',\n",
       " 'whose',\n",
       " 'existence',\n",
       " 'within',\n",
       " 'these',\n",
       " 'contexts',\n",
       " 'is',\n",
       " 'described',\n",
       " 'to',\n",
       " 'lie',\n",
       " 'beyond',\n",
       " 'normal',\n",
       " 'experience',\n",
       " 'or',\n",
       " 'scientific',\n",
       " 'explanation',\n",
       " '.',\n",
       " 'a',\n",
       " 'paranormal',\n",
       " 'phenomenon',\n",
       " 'is',\n",
       " 'different',\n",
       " 'from',\n",
       " 'hypothetical',\n",
       " 'concepts',\n",
       " 'such',\n",
       " 'as',\n",
       " 'dark',\n",
       " 'matter',\n",
       " 'and',\n",
       " 'dark',\n",
       " 'energy',\n",
       " '.',\n",
       " 'unlike',\n",
       " 'paranormal',\n",
       " 'phenomena',\n",
       " ',',\n",
       " 'these',\n",
       " 'hypothetical',\n",
       " 'concepts',\n",
       " 'are',\n",
       " 'based',\n",
       " 'on',\n",
       " 'empirical',\n",
       " 'observations',\n",
       " 'and',\n",
       " 'experimental',\n",
       " 'data',\n",
       " 'gained',\n",
       " 'through',\n",
       " 'the',\n",
       " 'scientific',\n",
       " 'method',\n",
       " '.',\n",
       " 'the',\n",
       " 'most',\n",
       " 'notable',\n",
       " 'paranormal',\n",
       " 'beliefs',\n",
       " 'include',\n",
       " 'those',\n",
       " 'that',\n",
       " 'pertain',\n",
       " 'to',\n",
       " 'ghosts',\n",
       " ',',\n",
       " 'extraterrestrial',\n",
       " 'life',\n",
       " ',',\n",
       " 'unidentified',\n",
       " 'flying',\n",
       " 'objects',\n",
       " ',',\n",
       " 'psychic',\n",
       " 'abilities',\n",
       " 'or',\n",
       " 'extrasensory',\n",
       " 'perception',\n",
       " ',',\n",
       " 'and',\n",
       " 'cryptids',\n",
       " '.']"
      ]
     },
     "execution_count": 259,
     "metadata": {},
     "output_type": "execute_result"
    }
   ],
   "source": [
    "word_batch[0]"
   ]
  },
  {
   "cell_type": "code",
   "execution_count": null,
   "metadata": {},
   "outputs": [],
   "source": []
  },
  {
   "cell_type": "code",
   "execution_count": null,
   "metadata": {},
   "outputs": [],
   "source": []
  },
  {
   "cell_type": "code",
   "execution_count": null,
   "metadata": {},
   "outputs": [],
   "source": [
    "max_length = embeddings_index['start'].shape[0]\n",
    "vocab_size = 8000\n",
    "embedding_matrix = np.zeros((vocab_size + 1, max_length))"
   ]
  },
  {
   "cell_type": "code",
   "execution_count": 264,
   "metadata": {},
   "outputs": [],
   "source": [
    "# d is already a batch of 32 examples\n",
    "for d in ds.batch(1):\n",
    "    emb = pt_tokenizer.tokenize(d[0])\n",
    "    embd = pt_tokenizer.detokenize(emb)\n",
    "    word_batch = [[w[0].decode() for w in w_np] for w_np in [word.numpy() for word in embd]]\n",
    "    index_batch = [[w[0] for w in w_np] for w_np in [word.numpy() for word in emb]]\n",
    "    for w_batch, i_batch in zip(word_batch, index_batch):\n",
    "        for w, i in zip(w_batch, i_batch):\n",
    "            embedding_vector = embeddings_index.get(w)\n",
    "            if embedding_vector is not None:\n",
    "                # words not found in embedding index will be all-zeros.\n",
    "                embedding_matrix[i] = embedding_vector"
   ]
  },
  {
   "cell_type": "code",
   "execution_count": 265,
   "metadata": {},
   "outputs": [],
   "source": [
    "# embedding_file = \"working/data/embedding_mappings.npz\"\n",
    "# np.savez(embedding_file, embedding_matrix)"
   ]
  },
  {
   "cell_type": "code",
   "execution_count": 48,
   "metadata": {},
   "outputs": [
    {
     "data": {
      "text/plain": [
       "['arr_0']"
      ]
     },
     "execution_count": 48,
     "metadata": {},
     "output_type": "execute_result"
    }
   ],
   "source": [
    "npzfile = np.load(\"working/data/embedding_mappings.npz\")\n",
    "npzfile.files"
   ]
  },
  {
   "cell_type": "code",
   "execution_count": 49,
   "metadata": {},
   "outputs": [],
   "source": [
    "embedding_matrix = npzfile['arr_0']"
   ]
  },
  {
   "cell_type": "code",
   "execution_count": 50,
   "metadata": {},
   "outputs": [
    {
     "data": {
      "text/plain": [
       "(8001, 100)"
      ]
     },
     "execution_count": 50,
     "metadata": {},
     "output_type": "execute_result"
    }
   ],
   "source": [
    "embedding_matrix.shape"
   ]
  },
  {
   "cell_type": "code",
   "execution_count": 267,
   "metadata": {},
   "outputs": [
    {
     "name": "stdout",
     "output_type": "stream",
     "text": [
      "total 51M\n",
      "-rw-rw-r-- 1 ubuntu ubuntu 6.2M Jul 16 15:27 embedding_mappings.npz\n",
      "drwxrwxr-x 2 ubuntu ubuntu 4.0K Jul 16 11:11 training\n",
      "-rw-r--r-- 1 ubuntu ubuntu  39M Jul 16 11:09 train_x.npz\n",
      "-rw-r--r-- 1 ubuntu ubuntu 2.3M Jul 16 11:09 dev_x.npz\n",
      "-rw-r--r-- 1 ubuntu ubuntu 235K Jul 16 11:08 dev_labels.npz\n",
      "-rw-r--r-- 1 ubuntu ubuntu 3.4M Jul 16 11:08 train_labels.npz\n",
      "-rw-r--r-- 1 ubuntu ubuntu  50K Jul 16 11:08 fever_vocab.txt\n"
     ]
    }
   ],
   "source": [
    "!ls -lth working/data/"
   ]
  },
  {
   "cell_type": "code",
   "execution_count": 51,
   "metadata": {},
   "outputs": [],
   "source": [
    "from tensorflow import keras\n",
    "import tensorflow as tf"
   ]
  },
  {
   "cell_type": "code",
   "execution_count": 58,
   "metadata": {},
   "outputs": [
    {
     "name": "stdout",
     "output_type": "stream",
     "text": [
      "Model: \"model_1\"\n",
      "__________________________________________________________________________________________________\n",
      "Layer (type)                    Output Shape         Param #     Connected to                     \n",
      "==================================================================================================\n",
      "hypothesis (InputLayer)         [(None, None)]       0                                            \n",
      "__________________________________________________________________________________________________\n",
      "evidence (InputLayer)           [(None, None)]       0                                            \n",
      "__________________________________________________________________________________________________\n",
      "embedding_2 (Embedding)         (None, None, 100)    800100      hypothesis[0][0]                 \n",
      "__________________________________________________________________________________________________\n",
      "embedding_3 (Embedding)         (None, None, 100)    800100      evidence[0][0]                   \n",
      "__________________________________________________________________________________________________\n",
      "bidirectional_2 (Bidirectional) (None, 200)          160800      embedding_2[0][0]                \n",
      "__________________________________________________________________________________________________\n",
      "bidirectional_3 (Bidirectional) (None, 200)          160800      embedding_3[0][0]                \n",
      "__________________________________________________________________________________________________\n",
      "concatenate_1 (Concatenate)     (None, 400)          0           bidirectional_2[0][0]            \n",
      "                                                                 bidirectional_3[0][0]            \n",
      "__________________________________________________________________________________________________\n",
      "dense_2 (Dense)                 (None, 32)           12832       concatenate_1[0][0]              \n",
      "__________________________________________________________________________________________________\n",
      "dropout_1 (Dropout)             (None, 32)           0           dense_2[0][0]                    \n",
      "__________________________________________________________________________________________________\n",
      "dense_3 (Dense)                 (None, 3)            99          dropout_1[0][0]                  \n",
      "==================================================================================================\n",
      "Total params: 1,934,731\n",
      "Trainable params: 334,531\n",
      "Non-trainable params: 1,600,200\n",
      "__________________________________________________________________________________________________\n"
     ]
    }
   ],
   "source": [
    "### Simple model\n",
    "vocab_size= 8000\n",
    "dim = 100\n",
    "inp1 = keras.Input(shape=(None, ), name = \"hypothesis\")\n",
    "inp2 = keras.Input(shape=(None, ), name = \"evidence\")\n",
    "embedding_hyp_layer = tf.keras.layers.Embedding(\n",
    "        input_dim=vocab_size+1,\n",
    "        output_dim=dim,\n",
    "        weights=[embedding_matrix],\n",
    "        trainable=False)\n",
    "embedding_evi_layer = tf.keras.layers.Embedding(\n",
    "        input_dim=vocab_size+1,\n",
    "        output_dim=dim,\n",
    "        weights=[embedding_matrix],\n",
    "        trainable=False)\n",
    "x_hyp = embedding_hyp_layer(inp1)\n",
    "x_evi = embedding_evi_layer(inp2)\n",
    "lstm_layer1 = tf.keras.layers.Bidirectional(tf.keras.layers.RNN(tf.keras.layers.LSTMCell(dim)))(x_hyp)\n",
    "lstm_layer2 = tf.keras.layers.Bidirectional(tf.keras.layers.RNN(tf.keras.layers.LSTMCell(dim)))(x_evi)\n",
    "w = keras.layers.concatenate([lstm_layer1, lstm_layer2], axis = 1)\n",
    "x1 = tf.keras.layers.Dense(32, activation='relu')(w)\n",
    "x2 = tf.keras.layers.Dropout(0.1)(x1)\n",
    "output = tf.keras.layers.Dense(3, activation='softmax')(x2)\n",
    "model = keras.Model(inputs=[inp1, inp2], outputs=output)\n",
    "model.compile(loss='categorical_crossentropy',\n",
    "          optimizer=tf.keras.optimizers.Adam(), \n",
    "          metrics=['accuracy'])\n",
    "model.summary()"
   ]
  },
  {
   "cell_type": "code",
   "execution_count": 59,
   "metadata": {},
   "outputs": [],
   "source": [
    "rm -rf tmp/checkpoint_*"
   ]
  },
  {
   "cell_type": "code",
   "execution_count": 61,
   "metadata": {},
   "outputs": [],
   "source": [
    "checkpoint_filepath = 'tmp/checkpoint_fever_nli'\n",
    "model_checkpoint_callback = tf.keras.callbacks.ModelCheckpoint(\n",
    "    filepath=checkpoint_filepath,\n",
    "    save_weights_only=True,\n",
    "    monitor='val_accuracy',\n",
    "    mode='max',\n",
    "    save_best_only=True)\n",
    "\n",
    "stop_early = tf.keras.callbacks.EarlyStopping(monitor='val_loss', patience=5)"
   ]
  },
  {
   "cell_type": "code",
   "execution_count": 62,
   "metadata": {},
   "outputs": [
    {
     "name": "stdout",
     "output_type": "stream",
     "text": [
      "Epoch 1/12\n",
      "2272/2272 [==============================] - 597s 240ms/step - loss: 0.6986 - accuracy: 0.7121 - val_loss: 0.8473 - val_accuracy: 0.6151\n",
      "Epoch 2/12\n",
      "2272/2272 [==============================] - 591s 239ms/step - loss: 0.5783 - accuracy: 0.7685 - val_loss: 0.7671 - val_accuracy: 0.6579\n",
      "Epoch 3/12\n",
      "2272/2272 [==============================] - 594s 240ms/step - loss: 0.5163 - accuracy: 0.7967 - val_loss: 0.7844 - val_accuracy: 0.6577\n",
      "Epoch 4/12\n",
      "2272/2272 [==============================] - 594s 240ms/step - loss: 0.4744 - accuracy: 0.8140 - val_loss: 0.8158 - val_accuracy: 0.6699\n",
      "Epoch 5/12\n",
      "2272/2272 [==============================] - 593s 240ms/step - loss: 0.4409 - accuracy: 0.8280 - val_loss: 0.8863 - val_accuracy: 0.6736\n",
      "Epoch 6/12\n",
      "2272/2272 [==============================] - 595s 240ms/step - loss: 0.4143 - accuracy: 0.8393 - val_loss: 0.9810 - val_accuracy: 0.6499\n",
      "Epoch 7/12\n"
     ]
    },
    {
     "ename": "KeyboardInterrupt",
     "evalue": "",
     "output_type": "error",
     "traceback": [
      "\u001b[0;31m---------------------------------------------------------------------------\u001b[0m",
      "\u001b[0;31mKeyboardInterrupt\u001b[0m                         Traceback (most recent call last)",
      "\u001b[0;32m<ipython-input-62-b84ddc65499d>\u001b[0m in \u001b[0;36m<module>\u001b[0;34m\u001b[0m\n\u001b[0;32m----> 1\u001b[0;31m \u001b[0mhistory\u001b[0m \u001b[0;34m=\u001b[0m \u001b[0mmodel\u001b[0m\u001b[0;34m.\u001b[0m\u001b[0mfit\u001b[0m\u001b[0;34m(\u001b[0m\u001b[0mdataset\u001b[0m\u001b[0;34m,\u001b[0m \u001b[0mepochs\u001b[0m \u001b[0;34m=\u001b[0m \u001b[0;36m12\u001b[0m\u001b[0;34m,\u001b[0m \u001b[0mvalidation_data\u001b[0m\u001b[0;34m=\u001b[0m\u001b[0mdataset_dev\u001b[0m\u001b[0;34m,\u001b[0m \u001b[0mcallbacks\u001b[0m\u001b[0;34m=\u001b[0m\u001b[0;34m[\u001b[0m\u001b[0mstop_early\u001b[0m\u001b[0;34m,\u001b[0m \u001b[0mmodel_checkpoint_callback\u001b[0m\u001b[0;34m]\u001b[0m\u001b[0;34m)\u001b[0m\u001b[0;34m\u001b[0m\u001b[0;34m\u001b[0m\u001b[0m\n\u001b[0m",
      "\u001b[0;32m~/anaconda3/envs/tensorflow2_latest_p37/lib/python3.7/site-packages/tensorflow/python/keras/engine/training.py\u001b[0m in \u001b[0;36mfit\u001b[0;34m(self, x, y, batch_size, epochs, verbose, callbacks, validation_split, validation_data, shuffle, class_weight, sample_weight, initial_epoch, steps_per_epoch, validation_steps, validation_batch_size, validation_freq, max_queue_size, workers, use_multiprocessing)\u001b[0m\n\u001b[1;32m   1181\u001b[0m                 _r=1):\n\u001b[1;32m   1182\u001b[0m               \u001b[0mcallbacks\u001b[0m\u001b[0;34m.\u001b[0m\u001b[0mon_train_batch_begin\u001b[0m\u001b[0;34m(\u001b[0m\u001b[0mstep\u001b[0m\u001b[0;34m)\u001b[0m\u001b[0;34m\u001b[0m\u001b[0;34m\u001b[0m\u001b[0m\n\u001b[0;32m-> 1183\u001b[0;31m               \u001b[0mtmp_logs\u001b[0m \u001b[0;34m=\u001b[0m \u001b[0mself\u001b[0m\u001b[0;34m.\u001b[0m\u001b[0mtrain_function\u001b[0m\u001b[0;34m(\u001b[0m\u001b[0miterator\u001b[0m\u001b[0;34m)\u001b[0m\u001b[0;34m\u001b[0m\u001b[0;34m\u001b[0m\u001b[0m\n\u001b[0m\u001b[1;32m   1184\u001b[0m               \u001b[0;32mif\u001b[0m \u001b[0mdata_handler\u001b[0m\u001b[0;34m.\u001b[0m\u001b[0mshould_sync\u001b[0m\u001b[0;34m:\u001b[0m\u001b[0;34m\u001b[0m\u001b[0;34m\u001b[0m\u001b[0m\n\u001b[1;32m   1185\u001b[0m                 \u001b[0mcontext\u001b[0m\u001b[0;34m.\u001b[0m\u001b[0masync_wait\u001b[0m\u001b[0;34m(\u001b[0m\u001b[0;34m)\u001b[0m\u001b[0;34m\u001b[0m\u001b[0;34m\u001b[0m\u001b[0m\n",
      "\u001b[0;32m~/anaconda3/envs/tensorflow2_latest_p37/lib/python3.7/site-packages/tensorflow/python/eager/def_function.py\u001b[0m in \u001b[0;36m__call__\u001b[0;34m(self, *args, **kwds)\u001b[0m\n\u001b[1;32m    887\u001b[0m \u001b[0;34m\u001b[0m\u001b[0m\n\u001b[1;32m    888\u001b[0m       \u001b[0;32mwith\u001b[0m \u001b[0mOptionalXlaContext\u001b[0m\u001b[0;34m(\u001b[0m\u001b[0mself\u001b[0m\u001b[0;34m.\u001b[0m\u001b[0m_jit_compile\u001b[0m\u001b[0;34m)\u001b[0m\u001b[0;34m:\u001b[0m\u001b[0;34m\u001b[0m\u001b[0;34m\u001b[0m\u001b[0m\n\u001b[0;32m--> 889\u001b[0;31m         \u001b[0mresult\u001b[0m \u001b[0;34m=\u001b[0m \u001b[0mself\u001b[0m\u001b[0;34m.\u001b[0m\u001b[0m_call\u001b[0m\u001b[0;34m(\u001b[0m\u001b[0;34m*\u001b[0m\u001b[0margs\u001b[0m\u001b[0;34m,\u001b[0m \u001b[0;34m**\u001b[0m\u001b[0mkwds\u001b[0m\u001b[0;34m)\u001b[0m\u001b[0;34m\u001b[0m\u001b[0;34m\u001b[0m\u001b[0m\n\u001b[0m\u001b[1;32m    890\u001b[0m \u001b[0;34m\u001b[0m\u001b[0m\n\u001b[1;32m    891\u001b[0m       \u001b[0mnew_tracing_count\u001b[0m \u001b[0;34m=\u001b[0m \u001b[0mself\u001b[0m\u001b[0;34m.\u001b[0m\u001b[0mexperimental_get_tracing_count\u001b[0m\u001b[0;34m(\u001b[0m\u001b[0;34m)\u001b[0m\u001b[0;34m\u001b[0m\u001b[0;34m\u001b[0m\u001b[0m\n",
      "\u001b[0;32m~/anaconda3/envs/tensorflow2_latest_p37/lib/python3.7/site-packages/tensorflow/python/eager/def_function.py\u001b[0m in \u001b[0;36m_call\u001b[0;34m(self, *args, **kwds)\u001b[0m\n\u001b[1;32m    915\u001b[0m       \u001b[0;31m# In this case we have created variables on the first call, so we run the\u001b[0m\u001b[0;34m\u001b[0m\u001b[0;34m\u001b[0m\u001b[0;34m\u001b[0m\u001b[0m\n\u001b[1;32m    916\u001b[0m       \u001b[0;31m# defunned version which is guaranteed to never create variables.\u001b[0m\u001b[0;34m\u001b[0m\u001b[0;34m\u001b[0m\u001b[0;34m\u001b[0m\u001b[0m\n\u001b[0;32m--> 917\u001b[0;31m       \u001b[0;32mreturn\u001b[0m \u001b[0mself\u001b[0m\u001b[0;34m.\u001b[0m\u001b[0m_stateless_fn\u001b[0m\u001b[0;34m(\u001b[0m\u001b[0;34m*\u001b[0m\u001b[0margs\u001b[0m\u001b[0;34m,\u001b[0m \u001b[0;34m**\u001b[0m\u001b[0mkwds\u001b[0m\u001b[0;34m)\u001b[0m  \u001b[0;31m# pylint: disable=not-callable\u001b[0m\u001b[0;34m\u001b[0m\u001b[0;34m\u001b[0m\u001b[0m\n\u001b[0m\u001b[1;32m    918\u001b[0m     \u001b[0;32melif\u001b[0m \u001b[0mself\u001b[0m\u001b[0;34m.\u001b[0m\u001b[0m_stateful_fn\u001b[0m \u001b[0;32mis\u001b[0m \u001b[0;32mnot\u001b[0m \u001b[0;32mNone\u001b[0m\u001b[0;34m:\u001b[0m\u001b[0;34m\u001b[0m\u001b[0;34m\u001b[0m\u001b[0m\n\u001b[1;32m    919\u001b[0m       \u001b[0;31m# Release the lock early so that multiple threads can perform the call\u001b[0m\u001b[0;34m\u001b[0m\u001b[0;34m\u001b[0m\u001b[0;34m\u001b[0m\u001b[0m\n",
      "\u001b[0;32m~/anaconda3/envs/tensorflow2_latest_p37/lib/python3.7/site-packages/tensorflow/python/eager/function.py\u001b[0m in \u001b[0;36m__call__\u001b[0;34m(self, *args, **kwargs)\u001b[0m\n\u001b[1;32m   3022\u001b[0m        filtered_flat_args) = self._maybe_define_function(args, kwargs)\n\u001b[1;32m   3023\u001b[0m     return graph_function._call_flat(\n\u001b[0;32m-> 3024\u001b[0;31m         filtered_flat_args, captured_inputs=graph_function.captured_inputs)  # pylint: disable=protected-access\n\u001b[0m\u001b[1;32m   3025\u001b[0m \u001b[0;34m\u001b[0m\u001b[0m\n\u001b[1;32m   3026\u001b[0m   \u001b[0;34m@\u001b[0m\u001b[0mproperty\u001b[0m\u001b[0;34m\u001b[0m\u001b[0;34m\u001b[0m\u001b[0m\n",
      "\u001b[0;32m~/anaconda3/envs/tensorflow2_latest_p37/lib/python3.7/site-packages/tensorflow/python/eager/function.py\u001b[0m in \u001b[0;36m_call_flat\u001b[0;34m(self, args, captured_inputs, cancellation_manager)\u001b[0m\n\u001b[1;32m   1959\u001b[0m       \u001b[0;31m# No tape is watching; skip to running the function.\u001b[0m\u001b[0;34m\u001b[0m\u001b[0;34m\u001b[0m\u001b[0;34m\u001b[0m\u001b[0m\n\u001b[1;32m   1960\u001b[0m       return self._build_call_outputs(self._inference_function.call(\n\u001b[0;32m-> 1961\u001b[0;31m           ctx, args, cancellation_manager=cancellation_manager))\n\u001b[0m\u001b[1;32m   1962\u001b[0m     forward_backward = self._select_forward_and_backward_functions(\n\u001b[1;32m   1963\u001b[0m         \u001b[0margs\u001b[0m\u001b[0;34m,\u001b[0m\u001b[0;34m\u001b[0m\u001b[0;34m\u001b[0m\u001b[0m\n",
      "\u001b[0;32m~/anaconda3/envs/tensorflow2_latest_p37/lib/python3.7/site-packages/tensorflow/python/eager/function.py\u001b[0m in \u001b[0;36mcall\u001b[0;34m(self, ctx, args, cancellation_manager)\u001b[0m\n\u001b[1;32m    594\u001b[0m               \u001b[0minputs\u001b[0m\u001b[0;34m=\u001b[0m\u001b[0margs\u001b[0m\u001b[0;34m,\u001b[0m\u001b[0;34m\u001b[0m\u001b[0;34m\u001b[0m\u001b[0m\n\u001b[1;32m    595\u001b[0m               \u001b[0mattrs\u001b[0m\u001b[0;34m=\u001b[0m\u001b[0mattrs\u001b[0m\u001b[0;34m,\u001b[0m\u001b[0;34m\u001b[0m\u001b[0;34m\u001b[0m\u001b[0m\n\u001b[0;32m--> 596\u001b[0;31m               ctx=ctx)\n\u001b[0m\u001b[1;32m    597\u001b[0m         \u001b[0;32melse\u001b[0m\u001b[0;34m:\u001b[0m\u001b[0;34m\u001b[0m\u001b[0;34m\u001b[0m\u001b[0m\n\u001b[1;32m    598\u001b[0m           outputs = execute.execute_with_cancellation(\n",
      "\u001b[0;32m~/anaconda3/envs/tensorflow2_latest_p37/lib/python3.7/site-packages/tensorflow/python/eager/execute.py\u001b[0m in \u001b[0;36mquick_execute\u001b[0;34m(op_name, num_outputs, inputs, attrs, ctx, name)\u001b[0m\n\u001b[1;32m     58\u001b[0m     \u001b[0mctx\u001b[0m\u001b[0;34m.\u001b[0m\u001b[0mensure_initialized\u001b[0m\u001b[0;34m(\u001b[0m\u001b[0;34m)\u001b[0m\u001b[0;34m\u001b[0m\u001b[0;34m\u001b[0m\u001b[0m\n\u001b[1;32m     59\u001b[0m     tensors = pywrap_tfe.TFE_Py_Execute(ctx._handle, device_name, op_name,\n\u001b[0;32m---> 60\u001b[0;31m                                         inputs, attrs, num_outputs)\n\u001b[0m\u001b[1;32m     61\u001b[0m   \u001b[0;32mexcept\u001b[0m \u001b[0mcore\u001b[0m\u001b[0;34m.\u001b[0m\u001b[0m_NotOkStatusException\u001b[0m \u001b[0;32mas\u001b[0m \u001b[0me\u001b[0m\u001b[0;34m:\u001b[0m\u001b[0;34m\u001b[0m\u001b[0;34m\u001b[0m\u001b[0m\n\u001b[1;32m     62\u001b[0m     \u001b[0;32mif\u001b[0m \u001b[0mname\u001b[0m \u001b[0;32mis\u001b[0m \u001b[0;32mnot\u001b[0m \u001b[0;32mNone\u001b[0m\u001b[0;34m:\u001b[0m\u001b[0;34m\u001b[0m\u001b[0;34m\u001b[0m\u001b[0m\n",
      "\u001b[0;31mKeyboardInterrupt\u001b[0m: "
     ]
    }
   ],
   "source": [
    "history = model.fit(dataset, epochs = 12, validation_data=dataset_dev, callbacks=[stop_early, model_checkpoint_callback])"
   ]
  },
  {
   "cell_type": "markdown",
   "metadata": {},
   "source": [
    "##### TODO: use DA \n",
    "https://gist.github.com/namakemono/f4f273dbc63fc2174940415a9f689a6f"
   ]
  },
  {
   "cell_type": "code",
   "execution_count": 56,
   "metadata": {},
   "outputs": [
    {
     "name": "stdout",
     "output_type": "stream",
     "text": [
      "156/156 [==============================] - 23s 42ms/step - loss: 0.8467 - accuracy: 0.6709\n"
     ]
    },
    {
     "data": {
      "text/plain": [
       "[0.8467347621917725, 0.6708734035491943]"
      ]
     },
     "execution_count": 56,
     "metadata": {},
     "output_type": "execute_result"
    }
   ],
   "source": [
    "model.load_weights(checkpoint_filepath)\n",
    "model.evaluate(dataset_dev)"
   ]
  },
  {
   "cell_type": "code",
   "execution_count": 57,
   "metadata": {},
   "outputs": [
    {
     "data": {
      "text/plain": [
       "Text(0.5, 1.0, 'Metrics for training SNLI dataset, 70K samples (glove 100d)')"
      ]
     },
     "execution_count": 57,
     "metadata": {},
     "output_type": "execute_result"
    },
    {
     "data": {
      "image/png": "[encoded data removed]",
      "text/plain": [
       "<Figure size 432x288 with 1 Axes>"
      ]
     },
     "metadata": {
      "needs_background": "light"
     },
     "output_type": "display_data"
    }
   ],
   "source": [
    "import matplotlib.pyplot as plt\n",
    "fig, ax = plt.subplots(1,1)\n",
    "x = np.arange(len(history.history['loss']))\n",
    "ax.plot(x, history.history['loss'], label=\"train loss\")\n",
    "ax.plot(x, history.history['val_loss'], label=\"val loss\")\n",
    "plt.xlabel(\"epochs\")\n",
    "plt.ylabel(\"categorial cross entropy loss\")\n",
    "ax.legend()\n",
    "plt.title(\"Metrics for training SNLI dataset, 70K samples (glove 100d)\")\n",
    "#history.history['loss']"
   ]
  },
  {
   "cell_type": "code",
   "execution_count": null,
   "metadata": {},
   "outputs": [],
   "source": []
  }
 ],
 "metadata": {
  "kernelspec": {
   "display_name": "Python 3",
   "language": "python",
   "name": "python3"
  },
  "language_info": {
   "codemirror_mode": {
    "name": "ipython",
    "version": 3
   },
   "file_extension": ".py",
   "mimetype": "text/x-python",
   "name": "python",
   "nbconvert_exporter": "python",
   "pygments_lexer": "ipython3",
   "version": "3.7.10"
  }
 },
 "nbformat": 4,
 "nbformat_minor": 4
}
