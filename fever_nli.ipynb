{
 "cells": [
  {
   "cell_type": "code",
   "execution_count": 1,
   "metadata": {},
   "outputs": [
    {
     "name": "stdout",
     "output_type": "stream",
     "text": [
      "tail: cannot open '/local/fever-common/data/fever-data/train.jsonl' for reading: No such file or directory\n"
     ]
    }
   ],
   "source": [
    "!tail -2 /local/fever-common/data/fever-data/train.jsonl"
   ]
  },
  {
   "cell_type": "code",
   "execution_count": 1,
   "metadata": {},
   "outputs": [
    {
     "name": "stdout",
     "output_type": "stream",
     "text": [
      "{\"id\": 13114, \"verifiable\": \"VERIFIABLE\", \"label\": \"SUPPORTS\", \"claim\": \"J. R. R. Tolkien created Gimli.\", \"evidence\": [[[28359, 34669, \"Gimli_-LRB-Middle-earth-RRB-\", 0]], [[28359, 34670, \"Gimli_-LRB-Middle-earth-RRB-\", 1]]]}\n",
      "{\"id\": 152180, \"verifiable\": \"VERIFIABLE\", \"label\": \"SUPPORTS\", \"claim\": \"Susan Sarandon is an award winner.\", \"evidence\": [[[176133, 189101, \"Susan_Sarandon\", 1]], [[176133, 189102, \"Susan_Sarandon\", 2]], [[176133, 189103, \"Susan_Sarandon\", 8]]]}\n"
     ]
    }
   ],
   "source": [
    "!tail -2 data/data/fever-data/train.jsonl"
   ]
  },
  {
   "cell_type": "code",
   "execution_count": 13,
   "metadata": {},
   "outputs": [],
   "source": [
    "!mkdir -p working/data/training"
   ]
  },
  {
   "cell_type": "code",
   "execution_count": 2,
   "metadata": {},
   "outputs": [
    {
     "name": "stdout",
     "output_type": "stream",
     "text": [
      "paper_dev.ns.pages.p5.jsonl  train.ns.pages.p5.jsonl  train.pages.p5.jsonl\n"
     ]
    }
   ],
   "source": [
    "ls working/data/training/"
   ]
  },
  {
   "cell_type": "code",
   "execution_count": 26,
   "metadata": {
    "collapsed": true,
    "jupyter": {
     "outputs_hidden": true
    }
   },
   "outputs": [
    {
     "name": "stdout",
     "output_type": "stream",
     "text": [
      "Requirement already satisfied: numpy>=1.15 in /root/anaconda3/lib/python3.8/site-packages (from -r requirements.txt (line 1)) (1.19.2)\n",
      "Requirement already satisfied: regex in /root/anaconda3/lib/python3.8/site-packages (from -r requirements.txt (line 2)) (2020.10.15)\n",
      "Collecting allennlp\n",
      "  Downloading allennlp-2.5.0-py3-none-any.whl (681 kB)\n",
      "\u001b[K     |████████████████████████████████| 681 kB 5.3 MB/s eta 0:00:01\n",
      "\u001b[?25hCollecting fever-scorer\n",
      "  Downloading fever-scorer-2.0.39.tar.gz (3.9 kB)\n",
      "Collecting fever-drqa\n",
      "  Downloading fever-drqa-1.0.13.tar.gz (43 kB)\n",
      "\u001b[K     |████████████████████████████████| 43 kB 1.9 MB/s eta 0:00:011\n",
      "\u001b[?25hCollecting tensorboardX>=1.2\n",
      "  Downloading tensorboardX-2.4-py2.py3-none-any.whl (124 kB)\n",
      "\u001b[K     |████████████████████████████████| 124 kB 10.4 MB/s eta 0:00:01\n",
      "\u001b[?25hRequirement already satisfied: scipy in /root/anaconda3/lib/python3.8/site-packages (from allennlp->-r requirements.txt (line 3)) (1.5.2)\n",
      "Collecting spacy<3.1,>=2.1.0\n",
      "  Downloading spacy-3.0.6-cp38-cp38-manylinux2014_x86_64.whl (13.0 MB)\n",
      "\u001b[K     |████████████████████████████████| 13.0 MB 11.0 MB/s eta 0:00:01    |████████████████████▎           | 8.2 MB 11.0 MB/s eta 0:00:01\n",
      "\u001b[?25hCollecting overrides==3.1.0\n",
      "  Downloading overrides-3.1.0.tar.gz (11 kB)\n",
      "Requirement already satisfied: scikit-learn in /root/anaconda3/lib/python3.8/site-packages (from allennlp->-r requirements.txt (line 3)) (0.23.2)\n",
      "Collecting jsonnet>=0.10.0\n",
      "  Downloading jsonnet-0.17.0.tar.gz (259 kB)\n",
      "\u001b[K     |████████████████████████████████| 259 kB 4.8 MB/s eta 0:00:01\n",
      "\u001b[?25hRequirement already satisfied: pytest in /root/anaconda3/lib/python3.8/site-packages (from allennlp->-r requirements.txt (line 3)) (0.0.0)\n",
      "Requirement already satisfied: more-itertools in /root/anaconda3/lib/python3.8/site-packages (from allennlp->-r requirements.txt (line 3)) (8.6.0)\n",
      "Requirement already satisfied: filelock<3.1,>=3.0 in /root/anaconda3/lib/python3.8/site-packages (from allennlp->-r requirements.txt (line 3)) (3.0.12)\n",
      "Requirement already satisfied: h5py in /root/anaconda3/lib/python3.8/site-packages (from allennlp->-r requirements.txt (line 3)) (3.1.0)\n",
      "Collecting wandb<0.11.0,>=0.10.0\n",
      "  Downloading wandb-0.10.33-py2.py3-none-any.whl (1.8 MB)\n",
      "\u001b[K     |████████████████████████████████| 1.8 MB 10.0 MB/s eta 0:00:01\n",
      "\u001b[?25hRequirement already satisfied: nltk in /root/anaconda3/lib/python3.8/site-packages (from allennlp->-r requirements.txt (line 3)) (3.5)\n",
      "Collecting checklist==0.0.11\n",
      "  Downloading checklist-0.0.11.tar.gz (12.1 MB)\n",
      "\u001b[K     |████████████████████████████████| 12.1 MB 6.4 MB/s eta 0:00:01\n",
      "\u001b[?25hRequirement already satisfied: tqdm>=4.19 in /root/anaconda3/lib/python3.8/site-packages (from allennlp->-r requirements.txt (line 3)) (4.50.2)\n",
      "Requirement already satisfied: termcolor==1.1.0 in /root/anaconda3/lib/python3.8/site-packages (from allennlp->-r requirements.txt (line 3)) (1.1.0)\n",
      "Collecting torch<1.9.0,>=1.6.0\n",
      "  Downloading torch-1.8.1-cp38-cp38-manylinux1_x86_64.whl (804.1 MB)\n",
      "\u001b[K     |████████████████████████████████| 804.1 MB 15 kB/s  eta 0:00:011    |██▍                             | 60.9 MB 10.3 MB/s eta 0:01:13     |██▌                             | 62.5 MB 10.3 MB/s eta 0:01:12     |██▋                             | 64.9 MB 10.3 MB/s eta 0:01:12     |███▏                            | 79.4 MB 6.7 MB/s eta 0:01:48     |███▏                            | 79.8 MB 6.7 MB/s eta 0:01:48     |███▊                            | 94.8 MB 6.5 MB/s eta 0:01:49     |████▉                           | 121.3 MB 12.5 MB/s eta 0:00:55     |████████▎                       | 207.5 MB 9.6 MB/s eta 0:01:03     |███████████                     | 278.4 MB 4.5 MB/s eta 0:01:58     |█████████████▍                  | 335.4 MB 14.5 MB/s eta 0:00:33     |███████████████▉                | 398.6 MB 12.2 MB/s eta 0:00:34     |████████████████▋               | 417.1 MB 5.6 MB/s eta 0:01:10     |█████████████████               | 429.8 MB 5.4 MB/s eta 0:01:10     |██████████████████▏             | 455.9 MB 6.8 MB/s eta 0:00:52     |███████████████████▋            | 492.7 MB 14.4 MB/s eta 0:00:22     |█████████████████████▉          | 548.5 MB 11.6 MB/s eta 0:00:22     |████████████████████████        | 602.9 MB 8.4 MB/s eta 0:00:25     |████████████████████████▌       | 616.4 MB 10.2 MB/s eta 0:00:19     |██████████████████████████▍     | 662.6 MB 8.8 MB/s eta 0:00:17     |██████████████████████████████  | 753.2 MB 13.8 MB/s eta 0:00:04\n",
      "\u001b[?25hRequirement already satisfied: huggingface-hub>=0.0.8 in /root/anaconda3/lib/python3.8/site-packages (from allennlp->-r requirements.txt (line 3)) (0.0.12)\n",
      "Collecting lmdb\n",
      "  Downloading lmdb-1.2.1-cp38-cp38-manylinux2010_x86_64.whl (306 kB)\n",
      "\u001b[K     |████████████████████████████████| 306 kB 6.6 MB/s eta 0:00:01\n",
      "\u001b[?25hCollecting boto3<2.0,>=1.14\n",
      "  Downloading boto3-1.17.112-py2.py3-none-any.whl (131 kB)\n",
      "\u001b[K     |████████████████████████████████| 131 kB 6.4 MB/s eta 0:00:01\n",
      "\u001b[?25hCollecting torchvision<0.10.0,>=0.8.1\n",
      "  Downloading torchvision-0.9.1-cp38-cp38-manylinux1_x86_64.whl (17.4 MB)\n",
      "\u001b[K     |████████████████████████████████| 17.4 MB 6.0 MB/s eta 0:00:01\n",
      "\u001b[?25hCollecting sentencepiece\n",
      "  Downloading sentencepiece-0.1.96-cp38-cp38-manylinux_2_17_x86_64.manylinux2014_x86_64.whl (1.2 MB)\n",
      "\u001b[K     |████████████████████████████████| 1.2 MB 6.1 MB/s eta 0:00:01\n",
      "\u001b[?25hCollecting google-cloud-storage<1.39.0,>=1.38.0\n",
      "  Downloading google_cloud_storage-1.38.0-py2.py3-none-any.whl (103 kB)\n",
      "\u001b[K     |████████████████████████████████| 103 kB 7.2 MB/s eta 0:00:01\n",
      "\u001b[?25hRequirement already satisfied: requests>=2.18 in /root/anaconda3/lib/python3.8/site-packages (from allennlp->-r requirements.txt (line 3)) (2.24.0)\n",
      "Collecting transformers<4.7,>=4.1\n",
      "  Downloading transformers-4.6.1-py3-none-any.whl (2.2 MB)\n",
      "\u001b[K     |████████████████████████████████| 2.2 MB 4.9 MB/s eta 0:00:01\n",
      "\u001b[?25hCollecting munch>=2.5\n",
      "  Downloading munch-2.5.0-py2.py3-none-any.whl (10 kB)\n",
      "Collecting dill>=0.3.1\n",
      "  Downloading dill-0.3.4-py2.py3-none-any.whl (86 kB)\n",
      "\u001b[K     |████████████████████████████████| 86 kB 4.4 MB/s eta 0:00:011\n",
      "\u001b[?25hRequirement already satisfied: jupyter>=1.0 in /root/anaconda3/lib/python3.8/site-packages (from checklist==0.0.11->allennlp->-r requirements.txt (line 3)) (1.0.0)\n",
      "Requirement already satisfied: ipywidgets>=7.5 in /root/anaconda3/lib/python3.8/site-packages (from checklist==0.0.11->allennlp->-r requirements.txt (line 3)) (7.5.1)\n",
      "Collecting patternfork-nosql\n",
      "  Downloading patternfork_nosql-3.6.tar.gz (22.3 MB)\n",
      "\u001b[K     |████████████████████████████████| 22.3 MB 4.2 MB/s eta 0:00:01\n",
      "\u001b[?25hCollecting iso-639\n",
      "  Downloading iso-639-0.4.5.tar.gz (167 kB)\n",
      "\u001b[K     |████████████████████████████████| 167 kB 8.7 MB/s eta 0:00:01\n",
      "\u001b[?25hCollecting jmespath<1.0.0,>=0.7.1\n",
      "  Downloading jmespath-0.10.0-py2.py3-none-any.whl (24 kB)\n",
      "Collecting botocore<1.21.0,>=1.20.112\n",
      "  Downloading botocore-1.20.112-py2.py3-none-any.whl (7.7 MB)\n",
      "\u001b[K     |████████████████████████████████| 7.7 MB 10.2 MB/s eta 0:00:01\n",
      "\u001b[?25hCollecting s3transfer<0.5.0,>=0.4.0\n",
      "  Downloading s3transfer-0.4.2-py2.py3-none-any.whl (79 kB)\n",
      "\u001b[K     |████████████████████████████████| 79 kB 11.3 MB/s eta 0:00:01\n",
      "\u001b[?25hRequirement already satisfied: urllib3<1.27,>=1.25.4 in /root/anaconda3/lib/python3.8/site-packages (from botocore<1.21.0,>=1.20.112->boto3<2.0,>=1.14->allennlp->-r requirements.txt (line 3)) (1.25.11)\n",
      "Requirement already satisfied: python-dateutil<3.0.0,>=2.1 in /root/anaconda3/lib/python3.8/site-packages (from botocore<1.21.0,>=1.20.112->boto3<2.0,>=1.14->allennlp->-r requirements.txt (line 3)) (2.8.1)\n",
      "Collecting google-cloud-core<2.0dev,>=1.4.1\n",
      "  Downloading google_cloud_core-1.7.1-py2.py3-none-any.whl (28 kB)\n",
      "Collecting google-resumable-media<2.0dev,>=1.2.0\n",
      "  Downloading google_resumable_media-1.3.1-py2.py3-none-any.whl (75 kB)\n",
      "\u001b[K     |████████████████████████████████| 75 kB 4.0 MB/s eta 0:00:01\n",
      "\u001b[?25hRequirement already satisfied: google-auth<2.0dev,>=1.11.0 in /root/anaconda3/lib/python3.8/site-packages (from google-cloud-storage<1.39.0,>=1.38.0->allennlp->-r requirements.txt (line 3)) (1.32.0)\n",
      "Requirement already satisfied: rsa<5,>=3.1.4 in /root/anaconda3/lib/python3.8/site-packages (from google-auth<2.0dev,>=1.11.0->google-cloud-storage<1.39.0,>=1.38.0->allennlp->-r requirements.txt (line 3)) (4.7.2)\n",
      "Requirement already satisfied: pyasn1-modules>=0.2.1 in /root/anaconda3/lib/python3.8/site-packages (from google-auth<2.0dev,>=1.11.0->google-cloud-storage<1.39.0,>=1.38.0->allennlp->-r requirements.txt (line 3)) (0.2.8)\n",
      "Requirement already satisfied: setuptools>=40.3.0 in /root/anaconda3/lib/python3.8/site-packages (from google-auth<2.0dev,>=1.11.0->google-cloud-storage<1.39.0,>=1.38.0->allennlp->-r requirements.txt (line 3)) (50.3.1.post20201107)\n",
      "Requirement already satisfied: six>=1.9.0 in /root/anaconda3/lib/python3.8/site-packages (from google-auth<2.0dev,>=1.11.0->google-cloud-storage<1.39.0,>=1.38.0->allennlp->-r requirements.txt (line 3)) (1.15.0)\n",
      "Requirement already satisfied: cachetools<5.0,>=2.0.0 in /root/anaconda3/lib/python3.8/site-packages (from google-auth<2.0dev,>=1.11.0->google-cloud-storage<1.39.0,>=1.38.0->allennlp->-r requirements.txt (line 3)) (4.2.2)\n",
      "Collecting google-api-core<2.0.0dev,>=1.21.0\n",
      "  Downloading google_api_core-1.31.0-py2.py3-none-any.whl (93 kB)\n",
      "\u001b[K     |████████████████████████████████| 93 kB 2.8 MB/s  eta 0:00:01\n",
      "\u001b[?25hRequirement already satisfied: packaging>=14.3 in /root/anaconda3/lib/python3.8/site-packages (from google-api-core<2.0.0dev,>=1.21.0->google-cloud-core<2.0dev,>=1.4.1->google-cloud-storage<1.39.0,>=1.38.0->allennlp->-r requirements.txt (line 3)) (20.9)\n",
      "Requirement already satisfied: pytz in /root/anaconda3/lib/python3.8/site-packages (from google-api-core<2.0.0dev,>=1.21.0->google-cloud-core<2.0dev,>=1.4.1->google-cloud-storage<1.39.0,>=1.38.0->allennlp->-r requirements.txt (line 3)) (2020.1)\n",
      "Requirement already satisfied: protobuf>=3.12.0 in /root/anaconda3/lib/python3.8/site-packages (from google-api-core<2.0.0dev,>=1.21.0->google-cloud-core<2.0dev,>=1.4.1->google-cloud-storage<1.39.0,>=1.38.0->allennlp->-r requirements.txt (line 3)) (3.17.3)\n",
      "Collecting googleapis-common-protos<2.0dev,>=1.6.0\n",
      "  Downloading googleapis_common_protos-1.53.0-py2.py3-none-any.whl (198 kB)\n",
      "\u001b[K     |████████████████████████████████| 198 kB 6.5 MB/s eta 0:00:01\n",
      "\u001b[?25hCollecting google-crc32c<2.0dev,>=1.0\n",
      "  Downloading google_crc32c-1.1.2-cp38-cp38-manylinux2014_x86_64.whl (38 kB)\n",
      "Requirement already satisfied: cffi>=1.0.0 in /root/anaconda3/lib/python3.8/site-packages (from google-crc32c<2.0dev,>=1.0->google-resumable-media<2.0dev,>=1.2.0->google-cloud-storage<1.39.0,>=1.38.0->allennlp->-r requirements.txt (line 3)) (1.14.3)\n",
      "Requirement already satisfied: pycparser in /root/anaconda3/lib/python3.8/site-packages (from cffi>=1.0.0->google-crc32c<2.0dev,>=1.0->google-resumable-media<2.0dev,>=1.2.0->google-cloud-storage<1.39.0,>=1.38.0->allennlp->-r requirements.txt (line 3)) (2.20)\n",
      "Requirement already satisfied: typing-extensions in /root/anaconda3/lib/python3.8/site-packages (from huggingface-hub>=0.0.8->allennlp->-r requirements.txt (line 3)) (3.7.4.3)\n",
      "Requirement already satisfied: ipykernel>=4.5.1 in /root/anaconda3/lib/python3.8/site-packages (from ipywidgets>=7.5->checklist==0.0.11->allennlp->-r requirements.txt (line 3)) (5.3.4)\n",
      "Requirement already satisfied: nbformat>=4.2.0 in /root/anaconda3/lib/python3.8/site-packages (from ipywidgets>=7.5->checklist==0.0.11->allennlp->-r requirements.txt (line 3)) (5.0.8)\n",
      "Requirement already satisfied: ipython>=4.0.0 in /root/anaconda3/lib/python3.8/site-packages (from ipywidgets>=7.5->checklist==0.0.11->allennlp->-r requirements.txt (line 3)) (7.19.0)\n",
      "Requirement already satisfied: traitlets>=4.3.1 in /root/anaconda3/lib/python3.8/site-packages (from ipywidgets>=7.5->checklist==0.0.11->allennlp->-r requirements.txt (line 3)) (5.0.5)\n",
      "Requirement already satisfied: widgetsnbextension~=3.5.0 in /root/anaconda3/lib/python3.8/site-packages (from ipywidgets>=7.5->checklist==0.0.11->allennlp->-r requirements.txt (line 3)) (3.5.1)\n",
      "Requirement already satisfied: tornado>=4.2 in /root/anaconda3/lib/python3.8/site-packages (from ipykernel>=4.5.1->ipywidgets>=7.5->checklist==0.0.11->allennlp->-r requirements.txt (line 3)) (6.0.4)\n",
      "Requirement already satisfied: jupyter-client in /root/anaconda3/lib/python3.8/site-packages (from ipykernel>=4.5.1->ipywidgets>=7.5->checklist==0.0.11->allennlp->-r requirements.txt (line 3)) (6.1.7)\n",
      "Requirement already satisfied: pickleshare in /root/anaconda3/lib/python3.8/site-packages (from ipython>=4.0.0->ipywidgets>=7.5->checklist==0.0.11->allennlp->-r requirements.txt (line 3)) (0.7.5)\n",
      "Requirement already satisfied: prompt-toolkit!=3.0.0,!=3.0.1,<3.1.0,>=2.0.0 in /root/anaconda3/lib/python3.8/site-packages (from ipython>=4.0.0->ipywidgets>=7.5->checklist==0.0.11->allennlp->-r requirements.txt (line 3)) (3.0.8)\n",
      "Requirement already satisfied: pygments in /root/anaconda3/lib/python3.8/site-packages (from ipython>=4.0.0->ipywidgets>=7.5->checklist==0.0.11->allennlp->-r requirements.txt (line 3)) (2.7.2)\n",
      "Requirement already satisfied: backcall in /root/anaconda3/lib/python3.8/site-packages (from ipython>=4.0.0->ipywidgets>=7.5->checklist==0.0.11->allennlp->-r requirements.txt (line 3)) (0.2.0)\n",
      "Requirement already satisfied: decorator in /root/anaconda3/lib/python3.8/site-packages (from ipython>=4.0.0->ipywidgets>=7.5->checklist==0.0.11->allennlp->-r requirements.txt (line 3)) (4.4.2)\n",
      "Requirement already satisfied: pexpect>4.3 in /root/anaconda3/lib/python3.8/site-packages (from ipython>=4.0.0->ipywidgets>=7.5->checklist==0.0.11->allennlp->-r requirements.txt (line 3)) (4.8.0)\n",
      "Requirement already satisfied: jedi>=0.10 in /root/anaconda3/lib/python3.8/site-packages (from ipython>=4.0.0->ipywidgets>=7.5->checklist==0.0.11->allennlp->-r requirements.txt (line 3)) (0.17.1)\n",
      "Requirement already satisfied: parso<0.8.0,>=0.7.0 in /root/anaconda3/lib/python3.8/site-packages (from jedi>=0.10->ipython>=4.0.0->ipywidgets>=7.5->checklist==0.0.11->allennlp->-r requirements.txt (line 3)) (0.7.0)\n",
      "Requirement already satisfied: qtconsole in /root/anaconda3/lib/python3.8/site-packages (from jupyter>=1.0->checklist==0.0.11->allennlp->-r requirements.txt (line 3)) (4.7.7)\n",
      "Requirement already satisfied: notebook in /root/anaconda3/lib/python3.8/site-packages (from jupyter>=1.0->checklist==0.0.11->allennlp->-r requirements.txt (line 3)) (6.1.4)\n",
      "Requirement already satisfied: nbconvert in /root/anaconda3/lib/python3.8/site-packages (from jupyter>=1.0->checklist==0.0.11->allennlp->-r requirements.txt (line 3)) (6.0.7)\n",
      "Requirement already satisfied: jupyter-console in /root/anaconda3/lib/python3.8/site-packages (from jupyter>=1.0->checklist==0.0.11->allennlp->-r requirements.txt (line 3)) (6.2.0)\n",
      "Requirement already satisfied: jsonschema!=2.5.0,>=2.4 in /root/anaconda3/lib/python3.8/site-packages (from nbformat>=4.2.0->ipywidgets>=7.5->checklist==0.0.11->allennlp->-r requirements.txt (line 3)) (3.2.0)\n",
      "Requirement already satisfied: jupyter-core in /root/anaconda3/lib/python3.8/site-packages (from nbformat>=4.2.0->ipywidgets>=7.5->checklist==0.0.11->allennlp->-r requirements.txt (line 3)) (4.6.3)\n",
      "Requirement already satisfied: ipython-genutils in /root/anaconda3/lib/python3.8/site-packages (from nbformat>=4.2.0->ipywidgets>=7.5->checklist==0.0.11->allennlp->-r requirements.txt (line 3)) (0.2.0)\n",
      "Requirement already satisfied: attrs>=17.4.0 in /root/anaconda3/lib/python3.8/site-packages (from jsonschema!=2.5.0,>=2.4->nbformat>=4.2.0->ipywidgets>=7.5->checklist==0.0.11->allennlp->-r requirements.txt (line 3)) (20.3.0)\n",
      "Requirement already satisfied: pyrsistent>=0.14.0 in /root/anaconda3/lib/python3.8/site-packages (from jsonschema!=2.5.0,>=2.4->nbformat>=4.2.0->ipywidgets>=7.5->checklist==0.0.11->allennlp->-r requirements.txt (line 3)) (0.17.3)\n",
      "Requirement already satisfied: pyparsing>=2.0.2 in /root/anaconda3/lib/python3.8/site-packages (from packaging>=14.3->google-api-core<2.0.0dev,>=1.21.0->google-cloud-core<2.0dev,>=1.4.1->google-cloud-storage<1.39.0,>=1.38.0->allennlp->-r requirements.txt (line 3)) (2.4.7)\n",
      "Requirement already satisfied: ptyprocess>=0.5 in /root/anaconda3/lib/python3.8/site-packages (from pexpect>4.3->ipython>=4.0.0->ipywidgets>=7.5->checklist==0.0.11->allennlp->-r requirements.txt (line 3)) (0.6.0)\n",
      "Requirement already satisfied: wcwidth in /root/anaconda3/lib/python3.8/site-packages (from prompt-toolkit!=3.0.0,!=3.0.1,<3.1.0,>=2.0.0->ipython>=4.0.0->ipywidgets>=7.5->checklist==0.0.11->allennlp->-r requirements.txt (line 3)) (0.2.5)\n",
      "Requirement already satisfied: pyasn1<0.5.0,>=0.4.6 in /root/anaconda3/lib/python3.8/site-packages (from pyasn1-modules>=0.2.1->google-auth<2.0dev,>=1.11.0->google-cloud-storage<1.39.0,>=1.38.0->allennlp->-r requirements.txt (line 3)) (0.4.8)\n",
      "Requirement already satisfied: chardet<4,>=3.0.2 in /root/anaconda3/lib/python3.8/site-packages (from requests>=2.18->allennlp->-r requirements.txt (line 3)) (3.0.4)\n",
      "Requirement already satisfied: certifi>=2017.4.17 in /root/anaconda3/lib/python3.8/site-packages (from requests>=2.18->allennlp->-r requirements.txt (line 3)) (2020.6.20)\n",
      "Requirement already satisfied: idna<3,>=2.5 in /root/anaconda3/lib/python3.8/site-packages (from requests>=2.18->allennlp->-r requirements.txt (line 3)) (2.10)\n",
      "Collecting cymem<2.1.0,>=2.0.2\n",
      "  Downloading cymem-2.0.5-cp38-cp38-manylinux2014_x86_64.whl (35 kB)\n",
      "Collecting thinc<8.1.0,>=8.0.3\n",
      "  Downloading thinc-8.0.7-cp38-cp38-manylinux_2_17_x86_64.manylinux2014_x86_64.whl (628 kB)\n",
      "\u001b[K     |████████████████████████████████| 628 kB 9.8 MB/s eta 0:00:01\n",
      "\u001b[?25hCollecting typer<0.4.0,>=0.3.0\n",
      "  Downloading typer-0.3.2-py3-none-any.whl (21 kB)\n",
      "Collecting wasabi<1.1.0,>=0.8.1\n",
      "  Downloading wasabi-0.8.2-py3-none-any.whl (23 kB)\n",
      "Collecting srsly<3.0.0,>=2.4.1\n",
      "  Downloading srsly-2.4.1-cp38-cp38-manylinux2014_x86_64.whl (458 kB)\n",
      "\u001b[K     |████████████████████████████████| 458 kB 11.4 MB/s eta 0:00:01\n",
      "\u001b[?25hCollecting catalogue<2.1.0,>=2.0.3\n",
      "  Downloading catalogue-2.0.4-py3-none-any.whl (16 kB)\n",
      "Collecting spacy-legacy<3.1.0,>=3.0.4\n",
      "  Downloading spacy_legacy-3.0.8-py2.py3-none-any.whl (14 kB)\n",
      "Collecting blis<0.8.0,>=0.4.0\n",
      "  Downloading blis-0.7.4-cp38-cp38-manylinux2014_x86_64.whl (9.8 MB)\n",
      "\u001b[K     |████████████████████████████████| 9.8 MB 5.4 MB/s eta 0:00:01\n",
      "\u001b[?25hCollecting pydantic<1.8.0,>=1.7.1\n",
      "  Downloading pydantic-1.7.4-cp38-cp38-manylinux2014_x86_64.whl (12.3 MB)\n",
      "\u001b[K     |████████████████████████████████| 12.3 MB 10.7 MB/s eta 0:00:01    |████████████████████████▉       | 9.5 MB 10.7 MB/s eta 0:00:01\n",
      "\u001b[?25hRequirement already satisfied: jinja2 in /root/anaconda3/lib/python3.8/site-packages (from spacy<3.1,>=2.1.0->allennlp->-r requirements.txt (line 3)) (2.11.2)\n",
      "Collecting pathy>=0.3.5\n",
      "  Downloading pathy-0.6.0-py3-none-any.whl (42 kB)\n",
      "\u001b[K     |████████████████████████████████| 42 kB 1.6 MB/s eta 0:00:01\n",
      "\u001b[?25hCollecting murmurhash<1.1.0,>=0.28.0\n",
      "  Downloading murmurhash-1.0.5-cp38-cp38-manylinux2014_x86_64.whl (20 kB)\n",
      "Collecting preshed<3.1.0,>=3.0.2\n",
      "  Downloading preshed-3.0.5-cp38-cp38-manylinux2014_x86_64.whl (130 kB)\n",
      "\u001b[K     |████████████████████████████████| 130 kB 10.9 MB/s eta 0:00:01\n",
      "\u001b[?25hCollecting smart-open<6.0.0,>=5.0.0\n",
      "  Downloading smart_open-5.1.0-py3-none-any.whl (57 kB)\n",
      "\u001b[K     |████████████████████████████████| 57 kB 7.8 MB/s  eta 0:00:01\n",
      "\u001b[?25hRequirement already satisfied: pillow>=4.1.1 in /root/anaconda3/lib/python3.8/site-packages (from torchvision<0.10.0,>=0.8.1->allennlp->-r requirements.txt (line 3)) (8.0.1)\n",
      "Collecting huggingface-hub>=0.0.8\n",
      "  Downloading huggingface_hub-0.0.8-py3-none-any.whl (34 kB)\n",
      "Requirement already satisfied: sacremoses in /root/anaconda3/lib/python3.8/site-packages (from transformers<4.7,>=4.1->allennlp->-r requirements.txt (line 3)) (0.0.45)\n",
      "Requirement already satisfied: tokenizers<0.11,>=0.10.1 in /root/anaconda3/lib/python3.8/site-packages (from transformers<4.7,>=4.1->allennlp->-r requirements.txt (line 3)) (0.10.3)\n",
      "Requirement already satisfied: click<7.2.0,>=7.1.1 in /root/anaconda3/lib/python3.8/site-packages (from typer<0.4.0,>=0.3.0->spacy<3.1,>=2.1.0->allennlp->-r requirements.txt (line 3)) (7.1.2)\n",
      "Collecting promise<3,>=2.0\n",
      "  Downloading promise-2.3.tar.gz (19 kB)\n",
      "Collecting GitPython>=1.0.0\n",
      "  Downloading GitPython-3.1.18-py3-none-any.whl (170 kB)\n",
      "\u001b[K     |████████████████████████████████| 170 kB 8.6 MB/s eta 0:00:01\n",
      "\u001b[?25hCollecting shortuuid>=0.5.0\n",
      "  Downloading shortuuid-1.0.1-py3-none-any.whl (7.5 kB)\n",
      "Requirement already satisfied: pathtools in /root/anaconda3/lib/python3.8/site-packages (from wandb<0.11.0,>=0.10.0->allennlp->-r requirements.txt (line 3)) (0.1.2)\n",
      "Collecting docker-pycreds>=0.4.0\n",
      "  Downloading docker_pycreds-0.4.0-py2.py3-none-any.whl (9.0 kB)\n",
      "Requirement already satisfied: PyYAML in /root/anaconda3/lib/python3.8/site-packages (from wandb<0.11.0,>=0.10.0->allennlp->-r requirements.txt (line 3)) (5.3.1)\n",
      "Collecting sentry-sdk>=0.4.0\n",
      "  Downloading sentry_sdk-1.3.0-py2.py3-none-any.whl (133 kB)\n",
      "\u001b[K     |████████████████████████████████| 133 kB 7.1 MB/s eta 0:00:01\n",
      "\u001b[?25hCollecting subprocess32>=3.5.3\n",
      "  Downloading subprocess32-3.5.4.tar.gz (97 kB)\n",
      "\u001b[K     |████████████████████████████████| 97 kB 4.4 MB/s eta 0:00:01\n",
      "\u001b[?25hRequirement already satisfied: psutil>=5.0.0 in /root/anaconda3/lib/python3.8/site-packages (from wandb<0.11.0,>=0.10.0->allennlp->-r requirements.txt (line 3)) (5.7.2)\n",
      "Collecting configparser>=3.8.1\n",
      "  Downloading configparser-5.0.2-py3-none-any.whl (19 kB)\n",
      "Collecting gitdb<5,>=4.0.1\n",
      "  Downloading gitdb-4.0.7-py3-none-any.whl (63 kB)\n",
      "\u001b[K     |████████████████████████████████| 63 kB 3.0 MB/s eta 0:00:01\n",
      "\u001b[?25hCollecting smmap<5,>=3.0.1\n",
      "  Downloading smmap-4.0.0-py2.py3-none-any.whl (24 kB)\n",
      "Requirement already satisfied: Send2Trash in /root/anaconda3/lib/python3.8/site-packages (from notebook->jupyter>=1.0->checklist==0.0.11->allennlp->-r requirements.txt (line 3)) (1.5.0)\n",
      "Requirement already satisfied: argon2-cffi in /root/anaconda3/lib/python3.8/site-packages (from notebook->jupyter>=1.0->checklist==0.0.11->allennlp->-r requirements.txt (line 3)) (20.1.0)\n",
      "Requirement already satisfied: pyzmq>=17 in /root/anaconda3/lib/python3.8/site-packages (from notebook->jupyter>=1.0->checklist==0.0.11->allennlp->-r requirements.txt (line 3)) (19.0.2)\n",
      "Requirement already satisfied: prometheus-client in /root/anaconda3/lib/python3.8/site-packages (from notebook->jupyter>=1.0->checklist==0.0.11->allennlp->-r requirements.txt (line 3)) (0.8.0)\n",
      "Requirement already satisfied: terminado>=0.8.3 in /root/anaconda3/lib/python3.8/site-packages (from notebook->jupyter>=1.0->checklist==0.0.11->allennlp->-r requirements.txt (line 3)) (0.9.1)\n",
      "Collecting prettytable\n",
      "  Downloading prettytable-2.1.0-py3-none-any.whl (22 kB)\n",
      "Requirement already satisfied: MarkupSafe>=0.23 in /root/anaconda3/lib/python3.8/site-packages (from jinja2->spacy<3.1,>=2.1.0->allennlp->-r requirements.txt (line 3)) (1.1.1)\n",
      "Requirement already satisfied: pandocfilters>=1.4.1 in /root/anaconda3/lib/python3.8/site-packages (from nbconvert->jupyter>=1.0->checklist==0.0.11->allennlp->-r requirements.txt (line 3)) (1.4.3)\n",
      "Requirement already satisfied: bleach in /root/anaconda3/lib/python3.8/site-packages (from nbconvert->jupyter>=1.0->checklist==0.0.11->allennlp->-r requirements.txt (line 3)) (3.2.1)\n",
      "Requirement already satisfied: jupyterlab-pygments in /root/anaconda3/lib/python3.8/site-packages (from nbconvert->jupyter>=1.0->checklist==0.0.11->allennlp->-r requirements.txt (line 3)) (0.1.2)\n",
      "Requirement already satisfied: entrypoints>=0.2.2 in /root/anaconda3/lib/python3.8/site-packages (from nbconvert->jupyter>=1.0->checklist==0.0.11->allennlp->-r requirements.txt (line 3)) (0.3)\n",
      "Requirement already satisfied: nbclient<0.6.0,>=0.5.0 in /root/anaconda3/lib/python3.8/site-packages (from nbconvert->jupyter>=1.0->checklist==0.0.11->allennlp->-r requirements.txt (line 3)) (0.5.1)\n",
      "Requirement already satisfied: mistune<2,>=0.8.1 in /root/anaconda3/lib/python3.8/site-packages (from nbconvert->jupyter>=1.0->checklist==0.0.11->allennlp->-r requirements.txt (line 3)) (0.8.4)\n",
      "Requirement already satisfied: testpath in /root/anaconda3/lib/python3.8/site-packages (from nbconvert->jupyter>=1.0->checklist==0.0.11->allennlp->-r requirements.txt (line 3)) (0.4.4)\n",
      "Requirement already satisfied: defusedxml in /root/anaconda3/lib/python3.8/site-packages (from nbconvert->jupyter>=1.0->checklist==0.0.11->allennlp->-r requirements.txt (line 3)) (0.6.0)\n",
      "Requirement already satisfied: async-generator in /root/anaconda3/lib/python3.8/site-packages (from nbclient<0.6.0,>=0.5.0->nbconvert->jupyter>=1.0->checklist==0.0.11->allennlp->-r requirements.txt (line 3)) (1.10)\n",
      "Requirement already satisfied: nest-asyncio in /root/anaconda3/lib/python3.8/site-packages (from nbclient<0.6.0,>=0.5.0->nbconvert->jupyter>=1.0->checklist==0.0.11->allennlp->-r requirements.txt (line 3)) (1.4.2)\n",
      "Requirement already satisfied: webencodings in /root/anaconda3/lib/python3.8/site-packages (from bleach->nbconvert->jupyter>=1.0->checklist==0.0.11->allennlp->-r requirements.txt (line 3)) (0.5.1)\n",
      "Requirement already satisfied: joblib in /root/anaconda3/lib/python3.8/site-packages (from nltk->allennlp->-r requirements.txt (line 3)) (0.17.0)\n",
      "Requirement already satisfied: future in /root/anaconda3/lib/python3.8/site-packages (from patternfork-nosql->checklist==0.0.11->allennlp->-r requirements.txt (line 3)) (0.18.2)\n",
      "Collecting backports.csv\n",
      "  Downloading backports.csv-1.0.7-py2.py3-none-any.whl (12 kB)\n",
      "Requirement already satisfied: beautifulsoup4 in /root/anaconda3/lib/python3.8/site-packages (from patternfork-nosql->checklist==0.0.11->allennlp->-r requirements.txt (line 3)) (4.9.3)\n",
      "Requirement already satisfied: lxml in /root/anaconda3/lib/python3.8/site-packages (from patternfork-nosql->checklist==0.0.11->allennlp->-r requirements.txt (line 3)) (4.6.1)\n",
      "Collecting feedparser\n",
      "  Downloading feedparser-6.0.8-py3-none-any.whl (81 kB)\n",
      "\u001b[K     |████████████████████████████████| 81 kB 6.7 MB/s eta 0:00:011\n",
      "\u001b[?25hCollecting pdfminer.six\n",
      "  Downloading pdfminer.six-20201018-py3-none-any.whl (5.6 MB)\n",
      "\u001b[K     |████████████████████████████████| 5.6 MB 8.2 MB/s eta 0:00:01\n",
      "\u001b[?25hCollecting python-docx\n",
      "  Downloading python-docx-0.8.11.tar.gz (5.6 MB)\n",
      "\u001b[K     |████████████████████████████████| 5.6 MB 8.5 MB/s eta 0:00:01\n",
      "\u001b[?25hCollecting cherrypy\n",
      "  Downloading CherryPy-18.6.1-py2.py3-none-any.whl (419 kB)\n",
      "\u001b[K     |████████████████████████████████| 419 kB 7.3 MB/s eta 0:00:01\n",
      "\u001b[?25hRequirement already satisfied: soupsieve>1.2 in /root/anaconda3/lib/python3.8/site-packages (from beautifulsoup4->patternfork-nosql->checklist==0.0.11->allennlp->-r requirements.txt (line 3)) (2.0.1)\n",
      "Collecting jaraco.collections\n",
      "  Downloading jaraco.collections-3.3.0-py3-none-any.whl (9.9 kB)\n",
      "Collecting portend>=2.1.1\n",
      "  Downloading portend-2.7.1-py3-none-any.whl (5.3 kB)\n",
      "Collecting cheroot>=8.2.1\n",
      "  Downloading cheroot-8.5.2-py2.py3-none-any.whl (97 kB)\n",
      "\u001b[K     |████████████████████████████████| 97 kB 6.8 MB/s eta 0:00:011\n",
      "\u001b[?25hCollecting zc.lockfile\n",
      "  Downloading zc.lockfile-2.0-py2.py3-none-any.whl (9.7 kB)\n",
      "Collecting jaraco.functools\n",
      "  Downloading jaraco.functools-3.3.0-py3-none-any.whl (6.8 kB)\n",
      "Collecting tempora>=1.8\n",
      "  Downloading tempora-4.1.1-py3-none-any.whl (15 kB)\n",
      "Collecting sgmllib3k\n",
      "  Downloading sgmllib3k-1.0.0.tar.gz (5.8 kB)\n",
      "Collecting jaraco.text\n",
      "  Downloading jaraco.text-3.5.0-py3-none-any.whl (8.1 kB)\n",
      "Collecting jaraco.classes\n",
      "  Downloading jaraco.classes-3.2.1-py3-none-any.whl (5.6 kB)\n",
      "Requirement already satisfied: cryptography in /root/anaconda3/lib/python3.8/site-packages (from pdfminer.six->patternfork-nosql->checklist==0.0.11->allennlp->-r requirements.txt (line 3)) (3.1.1)\n",
      "Requirement already satisfied: sortedcontainers in /root/anaconda3/lib/python3.8/site-packages (from pdfminer.six->patternfork-nosql->checklist==0.0.11->allennlp->-r requirements.txt (line 3)) (2.2.2)\n",
      "Requirement already satisfied: iniconfig in /root/anaconda3/lib/python3.8/site-packages (from pytest->allennlp->-r requirements.txt (line 3)) (1.1.1)\n",
      "Requirement already satisfied: pluggy<1.0,>=0.12 in /root/anaconda3/lib/python3.8/site-packages (from pytest->allennlp->-r requirements.txt (line 3)) (0.13.1)\n",
      "Requirement already satisfied: py>=1.8.2 in /root/anaconda3/lib/python3.8/site-packages (from pytest->allennlp->-r requirements.txt (line 3)) (1.9.0)\n",
      "Requirement already satisfied: toml in /root/anaconda3/lib/python3.8/site-packages (from pytest->allennlp->-r requirements.txt (line 3)) (0.10.1)\n",
      "Requirement already satisfied: qtpy in /root/anaconda3/lib/python3.8/site-packages (from qtconsole->jupyter>=1.0->checklist==0.0.11->allennlp->-r requirements.txt (line 3)) (1.9.0)\n",
      "Requirement already satisfied: threadpoolctl>=2.0.0 in /root/anaconda3/lib/python3.8/site-packages (from scikit-learn->allennlp->-r requirements.txt (line 3)) (2.1.0)\n",
      "Building wheels for collected packages: checklist, overrides, jsonnet, promise, subprocess32, fever-scorer, fever-drqa, iso-639, patternfork-nosql, python-docx, sgmllib3k\n",
      "  Building wheel for checklist (setup.py) ... \u001b[?25ldone\n",
      "\u001b[?25h  Created wheel for checklist: filename=checklist-0.0.11-py3-none-any.whl size=12165620 sha256=82b1e7edfde6332f908afd5aea719261fb28160aceb9ca69c0f338eef63baea6\n",
      "  Stored in directory: /root/.cache/pip/wheels/43/3e/c3/674b24b25419fb425053ee2e3feb3515acc95552c27610167d\n",
      "  Building wheel for overrides (setup.py) ... \u001b[?25ldone\n",
      "\u001b[?25h  Created wheel for overrides: filename=overrides-3.1.0-py3-none-any.whl size=10173 sha256=1dc2a4d87e6278a9a2a576f6e93c4dd67c7d93fd277fda26734c568620404fd9\n",
      "  Stored in directory: /root/.cache/pip/wheels/6a/4f/72/28857f75625b263e2e3f5ab2fc4416c0a85960ac6485007eaa\n",
      "  Building wheel for jsonnet (setup.py) ... \u001b[?25ldone\n",
      "\u001b[?25h  Created wheel for jsonnet: filename=jsonnet-0.17.0-cp38-cp38-linux_x86_64.whl size=3392732 sha256=236710441b1f5f33cab50595208a0a8b66c21714d58665101a086b9552ea15ed\n",
      "  Stored in directory: /root/.cache/pip/wheels/68/65/13/8033268435d1948dee623d7dc60f20e2ec4d84d94487fca922\n",
      "  Building wheel for promise (setup.py) ... \u001b[?25ldone\n",
      "\u001b[?25h  Created wheel for promise: filename=promise-2.3-py3-none-any.whl size=21494 sha256=5dc5a002d9f9c5de12094b7c2b8e790ab7f62ec7327eca5fe5d1bcf0ce077222\n",
      "  Stored in directory: /root/.cache/pip/wheels/54/aa/01/724885182f93150035a2a91bce34a12877e8067a97baaf5dc8\n",
      "  Building wheel for subprocess32 (setup.py) ... \u001b[?25ldone\n",
      "\u001b[?25h  Created wheel for subprocess32: filename=subprocess32-3.5.4-py3-none-any.whl size=6487 sha256=8b9ad329ab927ab0a5da9125e9220d3de0774c93370c7f6b5ccdfca3b9432bd7\n",
      "  Stored in directory: /root/.cache/pip/wheels/9f/69/d1/50b39b308a87998eaf5c1d9095e5a5bd2ad98501e2b7936d36\n",
      "  Building wheel for fever-scorer (setup.py) ... \u001b[?25ldone\n",
      "\u001b[?25h  Created wheel for fever-scorer: filename=fever_scorer-2.0.39-py3-none-any.whl size=3584 sha256=18dc41cd559919a0f01a71ea217a82241a49fc597c46db442dec5adfb370629d\n",
      "  Stored in directory: /root/.cache/pip/wheels/04/8b/8c/1d235fae882d317149beb3c8202b6c86b03782a2bd17076c04\n",
      "  Building wheel for fever-drqa (setup.py) ... \u001b[?25ldone\n",
      "\u001b[?25h  Created wheel for fever-drqa: filename=fever_drqa-1.0.13-py3-none-any.whl size=54826 sha256=b0bd9faffa36a8d8a59cd761df23bc90a3b18881269f110d50a717eecbbf1f73\n",
      "  Stored in directory: /root/.cache/pip/wheels/75/1b/bc/d43070a28e5589e8df09e0a519e893a0c527b86a0430b25e92\n",
      "  Building wheel for iso-639 (setup.py) ... \u001b[?25ldone\n",
      "\u001b[?25h  Created wheel for iso-639: filename=iso_639-0.4.5-py3-none-any.whl size=169063 sha256=399ee4a7123e118dbc675ca232a7c770ca36a5bbf5f88bc8d57c400706d15449\n",
      "  Stored in directory: /root/.cache/pip/wheels/ed/ce/cc/1961a4de7090b2e92895fb087abfa0080a542a5706c5948bcc\n",
      "  Building wheel for patternfork-nosql (setup.py) ... \u001b[?25ldone\n",
      "\u001b[?25h  Created wheel for patternfork-nosql: filename=patternfork_nosql-3.6-py3-none-any.whl size=22332806 sha256=b13c23323c75cd32399e8642e6c216036e11c6c4b373f6a8fdf6bcd453497d06\n",
      "  Stored in directory: /root/.cache/pip/wheels/dd/7c/f8/9eaf78f9398ddf7cc5dec58a1ad8c165ea0c28d976d422e684\n",
      "  Building wheel for python-docx (setup.py) ... \u001b[?25ldone\n",
      "\u001b[?25h  Created wheel for python-docx: filename=python_docx-0.8.11-py3-none-any.whl size=184601 sha256=44f2fe42d9f2415f5b868d9c1425d76dfb1cc8d4d75d2936828613976c4c4975\n",
      "  Stored in directory: /root/.cache/pip/wheels/32/b8/b2/c4c2b95765e615fe139b0b17b5ea7c0e1b6519b0a9ec8fb34d\n",
      "  Building wheel for sgmllib3k (setup.py) ... \u001b[?25ldone\n",
      "\u001b[?25h  Created wheel for sgmllib3k: filename=sgmllib3k-1.0.0-py3-none-any.whl size=6066 sha256=eda74e74a80a74efcedc8710d707cdb4864ca5aab0078fcc4109c4dfa2783777\n",
      "  Stored in directory: /root/.cache/pip/wheels/83/63/2f/117884c3b19d46b64d3d61690333aa80c88dc14050e269c546\n",
      "Successfully built checklist overrides jsonnet promise subprocess32 fever-scorer fever-drqa iso-639 patternfork-nosql python-docx sgmllib3k\n",
      "Installing collected packages: jaraco.functools, tempora, murmurhash, jaraco.text, jaraco.classes, cymem, catalogue, zc.lockfile, wasabi, typer, srsly, smmap, smart-open, sgmllib3k, pydantic, preshed, portend, jmespath, jaraco.collections, googleapis-common-protos, cheroot, blis, thinc, spacy-legacy, python-docx, pdfminer.six, pathy, huggingface-hub, google-crc32c, google-api-core, gitdb, feedparser, cherrypy, botocore, backports.csv, transformers, torch, subprocess32, spacy, shortuuid, sentry-sdk, s3transfer, promise, patternfork-nosql, munch, iso-639, google-resumable-media, google-cloud-core, GitPython, docker-pycreds, dill, configparser, wandb, torchvision, tensorboardX, sentencepiece, prettytable, overrides, lmdb, jsonnet, google-cloud-storage, checklist, boto3, fever-scorer, fever-drqa, allennlp\n",
      "  Attempting uninstall: huggingface-hub\n",
      "    Found existing installation: huggingface-hub 0.0.12\n",
      "    Uninstalling huggingface-hub-0.0.12:\n",
      "      Successfully uninstalled huggingface-hub-0.0.12\n",
      "  Attempting uninstall: transformers\n",
      "    Found existing installation: transformers 4.8.1\n",
      "    Uninstalling transformers-4.8.1:\n",
      "      Successfully uninstalled transformers-4.8.1\n",
      "Successfully installed GitPython-3.1.18 allennlp-2.5.0 backports.csv-1.0.7 blis-0.7.4 boto3-1.17.112 botocore-1.20.112 catalogue-2.0.4 checklist-0.0.11 cheroot-8.5.2 cherrypy-18.6.1 configparser-5.0.2 cymem-2.0.5 dill-0.3.4 docker-pycreds-0.4.0 feedparser-6.0.8 fever-drqa-1.0.13 fever-scorer-2.0.39 gitdb-4.0.7 google-api-core-1.31.0 google-cloud-core-1.7.1 google-cloud-storage-1.38.0 google-crc32c-1.1.2 google-resumable-media-1.3.1 googleapis-common-protos-1.53.0 huggingface-hub-0.0.8 iso-639-0.4.5 jaraco.classes-3.2.1 jaraco.collections-3.3.0 jaraco.functools-3.3.0 jaraco.text-3.5.0 jmespath-0.10.0 jsonnet-0.17.0 lmdb-1.2.1 munch-2.5.0 murmurhash-1.0.5 overrides-3.1.0 pathy-0.6.0 patternfork-nosql-3.6 pdfminer.six-20201018 portend-2.7.1 preshed-3.0.5 prettytable-2.1.0 promise-2.3 pydantic-1.7.4 python-docx-0.8.11 s3transfer-0.4.2 sentencepiece-0.1.96 sentry-sdk-1.3.0 sgmllib3k-1.0.0 shortuuid-1.0.1 smart-open-5.1.0 smmap-4.0.0 spacy-3.0.6 spacy-legacy-3.0.8 srsly-2.4.1 subprocess32-3.5.4 tempora-4.1.1 tensorboardX-2.4 thinc-8.0.7 torch-1.8.1 torchvision-0.9.1 transformers-4.6.1 typer-0.3.2 wandb-0.10.33 wasabi-0.8.2 zc.lockfile-2.0\n",
      "\u001b[33mWARNING: Running pip as the 'root' user can result in broken permissions and conflicting behaviour with the system package manager. It is recommended to use a virtual environment instead: https://pip.pypa.io/warnings/venv\u001b[0m\n"
     ]
    }
   ],
   "source": [
    "!pip install -r requirements.txt"
   ]
  },
  {
   "cell_type": "code",
   "execution_count": 278,
   "metadata": {},
   "outputs": [],
   "source": [
    "\n",
    "class LabelSchema:\n",
    "    def __init__(self,labels):\n",
    "        self.labels = {self.preprocess(val):idx for idx,val in enumerate(labels)}\n",
    "        self.idx = {idx:self.preprocess(val) for idx,val in enumerate(labels)}\n",
    "\n",
    "    def get_id(self,label):\n",
    "        if self.preprocess(label) in self.labels:\n",
    "            return self.labels[self.preprocess(label)]\n",
    "        return None\n",
    "\n",
    "    def preprocess(self,item):\n",
    "        return item.lower()\n",
    "\n",
    "class FEVERLabelSchema(LabelSchema):\n",
    "    def __init__(self):\n",
    "        super().__init__([\"supports\", \"refutes\", \"not enough info\"])\n",
    "\n",
    "def nltk_tokenizer(text):\n",
    "    return \" \".join(word_tokenize(text))\n",
    "\n",
    "class training_line_formatter():\n",
    "        \n",
    "    def format(self, lines):\n",
    "        formatted = []\n",
    "        for line in tqdm(lines):\n",
    "            fl = self.format_line(line)\n",
    "            if fl is not None:\n",
    "                if isinstance(fl,list):\n",
    "                    formatted.extend(fl)\n",
    "                else:\n",
    "                    formatted.append(fl)\n",
    "        return formatted\n",
    "\n",
    "    def format_line(self, line):\n",
    "        label_schema = FEVERLabelSchema()\n",
    "        # get the label, i.e. SUPPORTS etc.\n",
    "        annotation = line[\"label\"]\n",
    "        if annotation is None:\n",
    "            annotation = line[\"verifiable\"]\n",
    "        pages = []\n",
    "        # did we get the closest sentences to the claim text? is this the sentence or the line number from the doc text?\n",
    "        if 'predicted_sentences' in line:\n",
    "            pages.extend([(ev[0], ev[1]) for ev in line[\"predicted_sentences\"]])\n",
    "        elif 'predicted_pages' in line:\n",
    "            pages.extend([(ev[0], -1) for ev in line[\"predicted_pages\"]])\n",
    "        else:\n",
    "            # these are the human annotated evidence available in the original training file\n",
    "            for evidence_group in line[\"evidence\"]:\n",
    "                pages.extend([(ev[2], ev[3]) for ev in evidence_group])\n",
    "        return {\"claim\": line[\"claim\"], \"evidence\": pages, \"label\": label_schema.get_id(annotation),\n",
    "                \"label_text\": annotation}"
   ]
  },
  {
   "cell_type": "code",
   "execution_count": 279,
   "metadata": {},
   "outputs": [],
   "source": [
    "class Reader:\n",
    "    def __init__(self,encoding=\"utf-8\"):\n",
    "        self.enc = encoding\n",
    "\n",
    "    def read(self,file):\n",
    "        with open(file,\"r\",encoding = self.enc) as f:\n",
    "            return self.process(f)\n",
    "\n",
    "    def process(self,f):\n",
    "        pass\n",
    "\n",
    "class JSONLineReader(Reader):\n",
    "    def process(self,fp):\n",
    "        data = []\n",
    "        for line in tqdm(fp.readlines()):\n",
    "            data.append(json.loads(line.strip()))\n",
    "        return data"
   ]
  },
  {
   "cell_type": "code",
   "execution_count": 280,
   "metadata": {},
   "outputs": [
    {
     "name": "stderr",
     "output_type": "stream",
     "text": [
      "100%|██████████| 145449/145449 [00:01<00:00, 79429.47it/s] \n"
     ]
    }
   ],
   "source": [
    "import json\n",
    "from tqdm import tqdm\n",
    "jlr = JSONLineReader()\n",
    "split = 'train'\n",
    "working_dir = 'working/data/'\n",
    "k = 5\n",
    "training_data_file = working_dir + \"training/{0}.ns.pages.p{1}.jsonl\".format(split, k)\n",
    "data = jlr.read(training_data_file)"
   ]
  },
  {
   "cell_type": "code",
   "execution_count": 281,
   "metadata": {},
   "outputs": [
    {
     "name": "stderr",
     "output_type": "stream",
     "text": [
      "100%|██████████| 145449/145449 [00:01<00:00, 133927.68it/s]\n"
     ]
    }
   ],
   "source": [
    "formatter = training_line_formatter()\n",
    "formatted_train_data = formatter.format(data)"
   ]
  },
  {
   "cell_type": "code",
   "execution_count": 282,
   "metadata": {},
   "outputs": [
    {
     "data": {
      "text/plain": [
       "[{'claim': 'Nikolaj Coster-Waldau worked with the Fox Broadcasting Company.',\n",
       "  'evidence': [('Nikolaj_Coster-Waldau', 7), ('Fox_Broadcasting_Company', 0)],\n",
       "  'label': 0,\n",
       "  'label_text': 'SUPPORTS'},\n",
       " {'claim': 'Roman Atwood is a content creator.',\n",
       "  'evidence': [('Roman_Atwood', 1), ('Roman_Atwood', 3)],\n",
       "  'label': 0,\n",
       "  'label_text': 'SUPPORTS'}]"
      ]
     },
     "execution_count": 282,
     "metadata": {},
     "output_type": "execute_result"
    }
   ],
   "source": [
    "formatted_train_data[:2]"
   ]
  },
  {
   "cell_type": "code",
   "execution_count": 7,
   "metadata": {},
   "outputs": [
    {
     "data": {
      "text/plain": [
       "[{'claim': 'System of a Down briefly disbanded in limbo.',\n",
       "  'evidence': [('In_Limbo', -1)],\n",
       "  'label': 2,\n",
       "  'label_text': 'NOT ENOUGH INFO'},\n",
       " {'claim': 'Beautiful reached number two on the Billboard Hot 100 in 2003.',\n",
       "  'evidence': [('Ricky_Martin_singles_discography', -1)],\n",
       "  'label': 2,\n",
       "  'label_text': 'NOT ENOUGH INFO'},\n",
       " {'claim': 'Neal Schon was named in 1954.',\n",
       "  'evidence': [('Double_Eclipse', -1)],\n",
       "  'label': 2,\n",
       "  'label_text': 'NOT ENOUGH INFO'},\n",
       " {'claim': 'John Wick: Chapter 2 was theatrically released in the Oregon.',\n",
       "  'evidence': [('John_Wick_-LRB-disambiguation-RRB-', -1)],\n",
       "  'label': 2,\n",
       "  'label_text': 'NOT ENOUGH INFO'},\n",
       " {'claim': 'Afghanistan is the source of the Kushan dynasty.',\n",
       "  'evidence': [('Kanishka_-LRB-name-RRB-', -1)],\n",
       "  'label': 2,\n",
       "  'label_text': 'NOT ENOUGH INFO'}]"
      ]
     },
     "execution_count": 7,
     "metadata": {},
     "output_type": "execute_result"
    }
   ],
   "source": [
    "[d for d in formatted_train_data if d['label_text'] == 'NOT ENOUGH INFO'][:5]"
   ]
  },
  {
   "cell_type": "markdown",
   "metadata": {},
   "source": [
    "#### RANDOMS, NEARESTP approach\n",
    "TODO: Need to sample sentences for the 'not enough info' class, either sample them randomly from the nearest matching document, or sample random sentences from the Wiki corpus."
   ]
  },
  {
   "cell_type": "code",
   "execution_count": 4,
   "metadata": {},
   "outputs": [
    {
     "name": "stdout",
     "output_type": "stream",
     "text": [
      "paper_dev.ns.pages.p5.jsonl            train.ns.pages.p5.jsonl\n",
      "paper_test.ns.pages.p5.jsonl           train.pages.p5.jsonl\n",
      "paper_test_pipeline.ns.pages.p5.jsonl\n"
     ]
    }
   ],
   "source": [
    "ls working/data/training"
   ]
  },
  {
   "cell_type": "code",
   "execution_count": 283,
   "metadata": {},
   "outputs": [
    {
     "name": "stderr",
     "output_type": "stream",
     "text": [
      "100%|██████████| 9999/9999 [00:00<00:00, 182427.68it/s]\n",
      "100%|██████████| 9999/9999 [00:00<00:00, 202583.55it/s]\n"
     ]
    },
    {
     "data": {
      "text/plain": [
       "[{'claim': 'Colin Kaepernick became a starting quarterback during the 49ers 63rd season in the National Football League.',\n",
       "  'evidence': [('Colin_Kaepernick', -1)],\n",
       "  'label': 2,\n",
       "  'label_text': 'NOT ENOUGH INFO'},\n",
       " {'claim': 'Tilda Swinton is a vegan.',\n",
       "  'evidence': [('Swinton_-LRB-surname-RRB-', -1)],\n",
       "  'label': 2,\n",
       "  'label_text': 'NOT ENOUGH INFO'}]"
      ]
     },
     "execution_count": 283,
     "metadata": {},
     "output_type": "execute_result"
    }
   ],
   "source": [
    "import json\n",
    "from tqdm import tqdm\n",
    "jlr = JSONLineReader()\n",
    "split = 'paper_dev'\n",
    "working_dir = 'working/data/'\n",
    "k = 5\n",
    "dev_data_file = working_dir + \"training/{0}.ns.pages.p{1}.jsonl\".format(split, k)\n",
    "dev_data = jlr.read(dev_data_file)\n",
    "\n",
    "formatter = training_line_formatter()\n",
    "formatted_dev_data = formatter.format(dev_data)\n",
    "\n",
    "dev_data_formatted = []\n",
    "dev_data_formatted.extend(filter(lambda record: record is not None, formatted_dev_data))\n",
    "dev_data_formatted[:2]"
   ]
  },
  {
   "cell_type": "markdown",
   "metadata": {},
   "source": [
    "#### Prepare the test data"
   ]
  },
  {
   "cell_type": "code",
   "execution_count": 284,
   "metadata": {
    "tags": []
   },
   "outputs": [
    {
     "name": "stderr",
     "output_type": "stream",
     "text": [
      "100%|██████████| 9999/9999 [00:00<00:00, 130453.91it/s]\n",
      "100%|██████████| 9999/9999 [00:00<00:00, 186650.37it/s]\n"
     ]
    },
    {
     "data": {
      "text/plain": [
       "[{'claim': 'Grease had bad reviews.',\n",
       "  'evidence': [('Grease_gun_-LRB-tool-RRB-', -1),\n",
       "   ('Grease_gun_-LRB-tool-RRB-', -2),\n",
       "   ('Nasal_sebum', -2),\n",
       "   ('Grease', -2),\n",
       "   ('Thermal_interface_material', -2)],\n",
       "  'label': 2,\n",
       "  'label_text': 'NOT ENOUGH INFO'},\n",
       " {'claim': 'Ukrainian Soviet Socialist Republic was a founding participant of the UN.',\n",
       "  'evidence': [('Emblem_of_the_Ukrainian_Soviet_Socialist_Republic', -2),\n",
       "   ('Flag_of_the_Moldavian_Autonomous_Soviet_Socialist_Republic', -2),\n",
       "   ('Flag_of_the_Moldavian_Autonomous_Soviet_Socialist_Republic', -2),\n",
       "   ('Ukrainian_Republic', -2),\n",
       "   ('List_of_Presidents_of_Ukraine', -2),\n",
       "   ('United_Nations_General_Assembly_Resolution_377', -2),\n",
       "   ('United_Nations_General_Assembly_Resolution_377', -2)],\n",
       "  'label': 0,\n",
       "  'label_text': 'SUPPORTS'},\n",
       " {'claim': '2 Hearts is a musical composition by Minogue.',\n",
       "  'evidence': [('2_Hearts_-LRB-Kylie_Minogue_song-RRB-', -2),\n",
       "   ('Kylie_Minogue_singles_discography', -2),\n",
       "   ('Kylie_Minogue', -2),\n",
       "   ('X_-LRB-Kylie_Minogue_album-RRB-', -2),\n",
       "   ('2_Hearts_-LRB-Kylie_Minogue_song-RRB-', -2)],\n",
       "  'label': 0,\n",
       "  'label_text': 'SUPPORTS'}]"
      ]
     },
     "execution_count": 284,
     "metadata": {},
     "output_type": "execute_result"
    }
   ],
   "source": [
    "import json\n",
    "from tqdm import tqdm\n",
    "jlr = JSONLineReader()\n",
    "split = 'paper_test_pipeline'\n",
    "working_dir = 'working/data/'\n",
    "k = 5\n",
    "test_data_file = working_dir + \"training/{0}.ns.pages.p{1}.jsonl\".format(split, k)\n",
    "test_data = jlr.read(test_data_file)\n",
    "\n",
    "formatter = training_line_formatter()\n",
    "formatted_test_data = formatter.format(test_data)\n",
    "\n",
    "test_data_formatted = []\n",
    "test_data_formatted.extend(filter(lambda record: record is not None, formatted_test_data))\n",
    "test_data_formatted[:3]"
   ]
  },
  {
   "cell_type": "markdown",
   "metadata": {},
   "source": [
    "#### Build the tokenizer"
   ]
  },
  {
   "cell_type": "code",
   "execution_count": 186,
   "metadata": {},
   "outputs": [],
   "source": [
    "import random\n",
    "import os\n",
    "\n",
    "class SimpleRandom():\n",
    "    instance = None\n",
    "\n",
    "    def __init__(self,seed):\n",
    "        self.seed = seed\n",
    "        self.random = random.Random(seed)\n",
    "\n",
    "    def next_rand(self,a,b):\n",
    "        return self.random.randint(a,b)\n",
    "\n",
    "    @staticmethod\n",
    "    def get_instance():\n",
    "        if SimpleRandom.instance is None:\n",
    "            SimpleRandom.instance = SimpleRandom(SimpleRandom.get_seed())\n",
    "        return SimpleRandom.instance\n",
    "\n",
    "    @staticmethod\n",
    "    def get_seed():\n",
    "        return int(os.getenv(\"RANDOM_SEED\", 12459))\n",
    "\n",
    "    @staticmethod\n",
    "    def set_seeds():\n",
    "\n",
    "        torch.manual_seed(SimpleRandom.get_seed())\n",
    "        if gpu():\n",
    "            torch.cuda.manual_seed_all(SimpleRandom.get_seed())\n",
    "        np.random.seed(SimpleRandom.get_seed())\n",
    "        random.seed(SimpleRandom.get_seed())"
   ]
  },
  {
   "cell_type": "code",
   "execution_count": 285,
   "metadata": {},
   "outputs": [],
   "source": [
    "from drqa.retriever import DocDB, utils\n",
    "class FeverDocDB(DocDB):\n",
    "\n",
    "    def __init__(self,path=None):\n",
    "        super().__init__(path)\n",
    "\n",
    "    def get_doc_lines(self, doc_id):\n",
    "        \"\"\"Fetch the raw text of the doc for 'doc_id'.\"\"\"\n",
    "        cursor = self.connection.cursor()\n",
    "        cursor.execute(\n",
    "            \"SELECT lines FROM documents WHERE id = ?\",\n",
    "            (utils.normalize(doc_id),)\n",
    "        )\n",
    "        result = cursor.fetchone()\n",
    "        cursor.close()\n",
    "        return result if result is None else result[0]\n",
    "\n",
    "    def get_non_empty_doc_ids(self):\n",
    "        \"\"\"Fetch all ids of docs stored in the db.\"\"\"\n",
    "        cursor = self.connection.cursor()\n",
    "        cursor.execute(\"SELECT id FROM documents WHERE length(trim(text)) > 0\")\n",
    "        results = [r[0] for r in cursor.fetchall()]\n",
    "        cursor.close()\n",
    "        return results\n",
    "#database_path = '/local/fever-common/data/fever/fever.db'\n",
    "database_path = 'data/data/fever/fever.db'\n",
    "database = FeverDocDB(database_path)"
   ]
  },
  {
   "cell_type": "code",
   "execution_count": 286,
   "metadata": {},
   "outputs": [],
   "source": [
    "ename = \"evidence\"\n",
    "def claims(data):\n",
    "    return [datum[\"claim\"] for datum in data]\n",
    "def body_ids(data):\n",
    "    return [[d[0] for d in datum[ename] ] for datum in data]\n",
    "def flatten(l):\n",
    "    return [item for sublist in l for item in sublist]\n",
    "def bodies(data):\n",
    "    return [database.get_doc_text(id) for id in set(flatten(body_ids(data)))]\n",
    "\n",
    "def texts(data):\n",
    "    return [\" \".join(set(instance)) for instance in body_lines(data)]\n",
    "\n",
    "def body_lines(data):\n",
    "    return [[get_doc_line(d[0],d[1]) for d in datum[ename] ] for datum in data]\n",
    "\n",
    "def get_doc_line(doc,line):\n",
    "    lines = database.get_doc_lines(doc)\n",
    "    ### if this is from annotated evidences\n",
    "    if line > -1:\n",
    "        return lines.split(\"\\n\")[line].split(\"\\t\")[1] #get all the lines from the document and match with the line ids that were annotated as evidence by the human annotators\n",
    "    elif line <= -2:\n",
    "        #TODO: nearest 5 sentences from the document\n",
    "        non_empty_lines = [line.split(\"\\t\")[1] for line in lines.split(\"\\n\") if len(line.split(\"\\t\"))>1 and len(line.split(\"\\t\")[1].strip())]\n",
    "        return non_empty_lines[SimpleRandom.get_instance().next_rand(0,len(non_empty_lines)-1)]\n",
    "    else: ### if this is from not enough info evidences, NearestP method, to sample \"a\" single sentence randomly from the nearest page match\n",
    "        non_empty_lines = [line.split(\"\\t\")[1] for line in lines.split(\"\\n\") if len(line.split(\"\\t\"))>1 and len(line.split(\"\\t\")[1].strip())]\n",
    "        return non_empty_lines[SimpleRandom.get_instance().next_rand(0,len(non_empty_lines)-1)]"
   ]
  },
  {
   "cell_type": "code",
   "execution_count": null,
   "metadata": {},
   "outputs": [],
   "source": []
  },
  {
   "cell_type": "code",
   "execution_count": null,
   "metadata": {},
   "outputs": [],
   "source": []
  },
  {
   "cell_type": "code",
   "execution_count": null,
   "metadata": {},
   "outputs": [],
   "source": []
  },
  {
   "cell_type": "code",
   "execution_count": null,
   "metadata": {},
   "outputs": [],
   "source": []
  },
  {
   "cell_type": "code",
   "execution_count": null,
   "metadata": {},
   "outputs": [],
   "source": []
  },
  {
   "cell_type": "code",
   "execution_count": 24,
   "metadata": {},
   "outputs": [
    {
     "data": {
      "text/plain": [
       "['John Wick may refer to :',\n",
       " 'John Wick franchise :',\n",
       " \"John Wick : chapter 1 -LRB- 2014 film -RRB- action film starring Keanu Reeves as the titular `` John Wick ''\",\n",
       " 'John Wick : Original Motion Picture Soundtrack -LRB- 2014 album -RRB-',\n",
       " \"John Wick : Chapter 2 -LRB- 2017 film -RRB- action film starring Keanu Reeves as the titular `` John Wick ''\",\n",
       " 'John Wick -LRB- game designer -RRB- American RPG designer',\n",
       " 'John Wick Presents -LRB- company -RRB- American game company',\n",
       " 'John Wick -LRB- whistleblower -RRB- , former Special Air Service major who was a source revealing a 2009 political scandal , see United Kingdom parliamentary expenses scandal',\n",
       " 'John F. Wick , organist and founder of the Wicks Organ Company']"
      ]
     },
     "execution_count": 24,
     "metadata": {},
     "output_type": "execute_result"
    }
   ],
   "source": [
    "lines = database.get_doc_lines('John_Wick_-LRB-disambiguation-RRB-')\n",
    "non_empty_lines = [line.split(\"\\t\")[1] for line in lines.split(\"\\n\") if len(line.split(\"\\t\"))>1 and len(line.split(\"\\t\")[1].strip())]\n",
    "non_empty_lines"
   ]
  },
  {
   "cell_type": "code",
   "execution_count": 13,
   "metadata": {},
   "outputs": [],
   "source": [
    "from drqascripts.retriever.build_tfidf_lines import OnlineTfidfDocRanker"
   ]
  },
  {
   "cell_type": "code",
   "execution_count": 20,
   "metadata": {},
   "outputs": [],
   "source": [
    "import math\n",
    "class RankArgs:\n",
    "    def __init__(self):\n",
    "        self.ngram = 2\n",
    "        self.hash_size = int(math.pow(2,24))\n",
    "        self.tokenizer = \"simple\"\n",
    "        self.num_workers = None\n",
    "args = RankArgs()\n"
   ]
  },
  {
   "cell_type": "code",
   "execution_count": 50,
   "metadata": {},
   "outputs": [],
   "source": [
    "data = [{'claim':'John Wick: Chapter 2 was theatrically released in the Oregon.',\n",
    "        'docs': ['John_Wick_-LRB-disambiguation-RRB-']},\n",
    "       {'claim':'John Wick: Chapter 2 was theatrically released in the Oregon.',\n",
    "        'docs': ['John_Wick_-LRB-disambiguation-RRB-']},\n",
    "       {'claim':'John Wick: Chapter 2 was theatrically released in the Oregon.',\n",
    "        'docs': ['John_Wick_-LRB-disambiguation-RRB-']},\n",
    "       {'claim':'John Wick: Chapter 2 was theatrically released in the Oregon.',\n",
    "        'docs': ['John_Wick_-LRB-disambiguation-RRB-']}]"
   ]
  },
  {
   "cell_type": "code",
   "execution_count": 54,
   "metadata": {},
   "outputs": [],
   "source": [
    "import numpy as np\n",
    "\n",
    "import math\n",
    "class RankArgs:\n",
    "    def __init__(self):\n",
    "        self.ngram = 2\n",
    "        self.hash_size = int(math.pow(2,24))\n",
    "        self.tokenizer = \"simple\"\n",
    "        self.num_workers = None\n",
    "args = RankArgs()\n",
    "\n",
    "\n",
    "def get_doc_line(doc,line):\n",
    "    lines = database.get_doc_lines(doc)\n",
    "    ### if this is from annotated evidences\n",
    "    if line > -1:\n",
    "        return lines.split(\"\\n\")[line].split(\"\\t\")[1] #get all the lines from the document and match with the line ids that were annotated as evidence by the human annotators\n",
    "    elif line <= -2:\n",
    "        #TODO: nearest 5 sentences from the document\n",
    "        non_empty_lines = [line.split(\"\\t\")[1] for line in lines.split(\"\\n\") if len(line.split(\"\\t\"))>1 and len(line.split(\"\\t\")[1].strip())]\n",
    "        return non_empty_lines[SimpleRandom.get_instance().next_rand(0,len(non_empty_lines)-1)]\n",
    "    else: ### if this is from not enough info evidences, NearestP method, to sample \"a\" single sentence randomly from the nearest page match\n",
    "        non_empty_lines = [line.split(\"\\t\")[1] for line in lines.split(\"\\n\") if len(line.split(\"\\t\"))>1 and len(line.split(\"\\t\")[1].strip())]\n",
    "        return non_empty_lines[SimpleRandom.get_instance().next_rand(0,len(non_empty_lines)-1)]\n",
    "    \n",
    "def tfidf_claim(data):\n",
    "    docs = data['docs']\n",
    "    claim = data['claim']\n",
    "#     print(docs)\n",
    "    ranked_lines = []\n",
    "    for doc in docs:\n",
    "        lines = database.get_doc_lines(doc)\n",
    "        non_empty_lines = [line.split(\"\\t\")[1] for line in lines.split(\"\\n\") if len(line.split(\"\\t\"))>1 and len(line.split(\"\\t\")[1].strip())]\n",
    "        tfidf = OnlineTfidfDocRanker(args,[line for line in non_empty_lines],None)\n",
    "        line_ids,scores = tfidf.closest_docs(claim,5)\n",
    "#         print(line_ids)\n",
    "#         print(non_empty_lines)\n",
    "        ranked_lines.extend(np.array(non_empty_lines)[line_ids])\n",
    "    return ranked_lines"
   ]
  },
  {
   "cell_type": "code",
   "execution_count": null,
   "metadata": {},
   "outputs": [],
   "source": [
    "from multiprocessing.pool import ThreadPool"
   ]
  },
  {
   "cell_type": "code",
   "execution_count": 57,
   "metadata": {},
   "outputs": [
    {
     "name": "stdout",
     "output_type": "stream",
     "text": [
      "CPU times: user 1.36 s, sys: 820 ms, total: 2.17 s\n",
      "Wall time: 2.17 s\n"
     ]
    },
    {
     "data": {
      "text/plain": [
       "[\"John Wick : Chapter 2 -LRB- 2017 film -RRB- action film starring Keanu Reeves as the titular `` John Wick ''\",\n",
       " \"John Wick : chapter 1 -LRB- 2014 film -RRB- action film starring Keanu Reeves as the titular `` John Wick ''\"]"
      ]
     },
     "execution_count": 57,
     "metadata": {},
     "output_type": "execute_result"
    }
   ],
   "source": [
    "%%time\n",
    "tfidf_claim(data[0])"
   ]
  },
  {
   "cell_type": "code",
   "execution_count": 55,
   "metadata": {},
   "outputs": [],
   "source": [
    "def find_nearest_lines(data):\n",
    "    with ThreadPool(4) as threads:\n",
    "        results = threads.map(tfidf_claim, data)\n",
    "    return results"
   ]
  },
  {
   "cell_type": "code",
   "execution_count": 56,
   "metadata": {},
   "outputs": [
    {
     "name": "stdout",
     "output_type": "stream",
     "text": [
      "CPU times: user 9.64 s, sys: 4.67 s, total: 14.3 s\n",
      "Wall time: 3.71 s\n"
     ]
    },
    {
     "data": {
      "text/plain": [
       "[[\"John Wick : Chapter 2 -LRB- 2017 film -RRB- action film starring Keanu Reeves as the titular `` John Wick ''\",\n",
       "  \"John Wick : chapter 1 -LRB- 2014 film -RRB- action film starring Keanu Reeves as the titular `` John Wick ''\"],\n",
       " [\"John Wick : Chapter 2 -LRB- 2017 film -RRB- action film starring Keanu Reeves as the titular `` John Wick ''\",\n",
       "  \"John Wick : chapter 1 -LRB- 2014 film -RRB- action film starring Keanu Reeves as the titular `` John Wick ''\"],\n",
       " [\"John Wick : Chapter 2 -LRB- 2017 film -RRB- action film starring Keanu Reeves as the titular `` John Wick ''\",\n",
       "  \"John Wick : chapter 1 -LRB- 2014 film -RRB- action film starring Keanu Reeves as the titular `` John Wick ''\"],\n",
       " [\"John Wick : Chapter 2 -LRB- 2017 film -RRB- action film starring Keanu Reeves as the titular `` John Wick ''\",\n",
       "  \"John Wick : chapter 1 -LRB- 2014 film -RRB- action film starring Keanu Reeves as the titular `` John Wick ''\"]]"
      ]
     },
     "execution_count": 56,
     "metadata": {},
     "output_type": "execute_result"
    }
   ],
   "source": [
    "%%time\n",
    "find_nearest_lines(data)"
   ]
  },
  {
   "cell_type": "code",
   "execution_count": 23,
   "metadata": {},
   "outputs": [
    {
     "name": "stdout",
     "output_type": "stream",
     "text": [
      "[4, 2] [3.47109555 0.57988227]\n"
     ]
    }
   ],
   "source": [
    "claim = 'John Wick: Chapter 2 was theatrically released in the Oregon.'\n",
    "line_ids,scores = tfidf.closest_docs(claim,5)\n",
    "print(line_ids,scores)"
   ]
  },
  {
   "cell_type": "code",
   "execution_count": 272,
   "metadata": {},
   "outputs": [
    {
     "data": {
      "text/plain": [
       "[{'claim': 'System of a Down briefly disbanded in limbo.',\n",
       "  'evidence': [('In_Limbo', -1)],\n",
       "  'label': 2,\n",
       "  'label_text': 'NOT ENOUGH INFO'},\n",
       " {'claim': 'Beautiful reached number two on the Billboard Hot 100 in 2003.',\n",
       "  'evidence': [('Ricky_Martin_singles_discography', -1)],\n",
       "  'label': 2,\n",
       "  'label_text': 'NOT ENOUGH INFO'},\n",
       " {'claim': 'Neal Schon was named in 1954.',\n",
       "  'evidence': [('Double_Eclipse', -1)],\n",
       "  'label': 2,\n",
       "  'label_text': 'NOT ENOUGH INFO'},\n",
       " {'claim': 'John Wick: Chapter 2 was theatrically released in the Oregon.',\n",
       "  'evidence': [('John_Wick_-LRB-disambiguation-RRB-', -1)],\n",
       "  'label': 2,\n",
       "  'label_text': 'NOT ENOUGH INFO'},\n",
       " {'claim': 'Afghanistan is the source of the Kushan dynasty.',\n",
       "  'evidence': [('Kanishka_-LRB-name-RRB-', -1)],\n",
       "  'label': 2,\n",
       "  'label_text': 'NOT ENOUGH INFO'}]"
      ]
     },
     "execution_count": 272,
     "metadata": {},
     "output_type": "execute_result"
    }
   ],
   "source": [
    "[d for d in formatted_train_data if d['label_text'] == 'NOT ENOUGH INFO'][:5]"
   ]
  },
  {
   "cell_type": "code",
   "execution_count": 13,
   "metadata": {},
   "outputs": [
    {
     "data": {
      "text/plain": [
       "[('Nikolaj_Coster-Waldau', 7), ('Fox_Broadcasting_Company', 0)]"
      ]
     },
     "execution_count": 13,
     "metadata": {},
     "output_type": "execute_result"
    }
   ],
   "source": [
    "cl = formatted_train_data[0]['claim']\n",
    "ev = formatted_train_data[0]['evidence']\n",
    "[(d[0],d[1]) for d in ev]"
   ]
  },
  {
   "cell_type": "code",
   "execution_count": 15,
   "metadata": {},
   "outputs": [
    {
     "data": {
      "text/plain": [
       "'He then played Detective John Amsterdam in the short-lived Fox television series New Amsterdam -LRB- 2008 -RRB- , as well as appearing as Frank Pike in the 2009 Fox television film Virtuality , originally intended as a pilot .'"
      ]
     },
     "execution_count": 15,
     "metadata": {},
     "output_type": "execute_result"
    }
   ],
   "source": [
    "get_doc_line('Nikolaj_Coster-Waldau', 7)"
   ]
  },
  {
   "cell_type": "code",
   "execution_count": 16,
   "metadata": {
    "collapsed": true,
    "jupyter": {
     "outputs_hidden": true
    },
    "tags": []
   },
   "outputs": [
    {
     "data": {
      "text/plain": [
       "\"0\\tPuerto Rican singer Ricky Martin has released seventy-nine Spanish and English-language singles .\\tRicky Martin\\tRicky Martin (1999 album)\\tsingles\\tsingle (music)\\n1\\tIn 1984 , thirteen-year-old Martin became a member of the Puerto Rican boy band Menudo .\\tMenudo\\tMenudo (band)\\n2\\tAfter recording eleven albums with the group , he left Menudo in 1989 , hoping to rest and evaluate his career path .\\tMenudo\\tMenudo (band)\\n3\\tIn 1990 , he was signed to Sony Discos , the Sony Music Entertainment 's Latin imprint .\\tSony Discos\\tSony Music Latin\\tSony Music Entertainment\\tSony Music Entertainment\\n4\\tMartin released his debut solo album , the Spanish-language Ricky Martin , in November 1991 .\\tRicky Martin\\tRicky Martin (1999 album)\\n5\\tIt included hit singles : `` Fuego Contra Fuego '' , `` El Amor de Mi Vida '' and `` Vuelo '' .\\tsingles\\tsingle (music)\\tFuego Contra Fuego\\tFuego Contra Fuego\\tEl Amor de Mi Vida\\tEl Amor de Mi Vida (song)\\tVuelo\\tVuelo (song)\\tVida\\tVida (Ricky Martin song)\\n6\\tHis second Spanish-language solo album , Me Amarás -LRB- 1993 -RRB- featured further successful singles : `` Me Amarás '' , `` Que Dia Es Hoy '' and `` Entre el Amor y los Halagos '' .\\tsingles\\tsingle (music)\\tMe Amarás\\tMe Amarás (song)\\tQue Dia Es Hoy\\tSelf Control (Raf song)#Ricky Martin version\\tEntre el Amor y los Halagos\\tEntre el Amor y los Halagos\\n7\\t\\n8\\t\\n9\\tMartin 's third Spanish-language album , A Medio Vivir -LRB- 1995 -RRB- included his international breakthrough single , `` María '' .\\tA Medio Vivir\\tA Medio Vivir (album)\\tMaría\\tMaría (Ricky Martin song)\\n10\\tThe song topped the chart in France for nine consecutive weeks in early 1997 and was certified Diamond after selling 1.4 million copies .\\n11\\t`` María '' also topped the chart in Belgium Wallonia for ten weeks and in Australia for six weeks , and reached top ten in the United Kingdom , Germany , Austria , Switzerland , Belgium Flanders , Italy , Finland , Sweden , the Netherlands , Denmark and New Zealand .\\tMaría\\tMaría (Ricky Martin song)\\n12\\tIt was also certified double Platintum in Belgium , Platinum in Australia , and Gold in Germany , Switzerland , Sweden and the Netherlands .\\n13\\t`` María '' has sold over five million copies worldwide .\\tMaría\\tMaría (Ricky Martin song)\\n14\\tA Medio Vivir also included two other successful singles : `` Te Extraño , Te Olvido , Te Amo '' and `` Volverás '' .\\tsingles\\tsingle (music)\\tA Medio Vivir\\tA Medio Vivir (album)\\tVolverás\\tVolverás (Ricky Martin song)\\n15\\t\\n16\\t\\n17\\t`` Vuelve '' , the lead single from the album of the same name released in 1998 became Martin 's first track to top three Billboard charts : Hot Latin Songs , Latin Pop Airplay and Tropical Songs .\\tVuelve\\tVuelve (album)\\tthe same name\\tVuelve (album)\\tBillboard\\tBillboard (magazine)\\tHot Latin Songs\\tHot Latin Songs\\tLatin Pop Airplay\\tLatin Pop Airplay\\tTropical Songs\\tTropical Songs\\n18\\t`` La Copa de la Vida '' -LRB- `` The Cup of Life '' -RRB- , released as the second single and the official song of the 1998 FIFA World Cup , became a worldwide hit .\\tThe Cup of Life\\tThe Cup of Life\\t1998 FIFA World Cup\\t1998 FIFA World Cup\\tLife\\tLife (Ricky Martin album)\\tVida\\tVida (Ricky Martin song)\\n19\\tIt topped the charts in Germany , France , Spain , Italy , Sweden , Switzerland , Belgium Wallonia and in Australia , and was certified Platinum and Gold in various countries .\\n20\\t`` The Cup of Life '' , released in Australia a double A-side single with `` María '' , became the best-selling single of 1998 in this country .\\tMaría\\tMaría (Ricky Martin song)\\tThe Cup of Life\\tThe Cup of Life\\tA-side\\tA-side and B-side\\tbest-selling single of 1998\\tList of Top 25 singles for 1998 in Australia\\tLife\\tLife (Ricky Martin album)\\n21\\tOn the same night Martin performed `` The Cup of Life '' at the 41st Annual Grammy Awards , Vuelve won Grammy Award for Best Latin Pop Performance .\\tVuelve\\tVuelve (album)\\tThe Cup of Life\\tThe Cup of Life\\t41st Annual Grammy Awards\\t41st Annual Grammy Awards\\tGrammy Award for Best Latin Pop Performance\\tGrammy Award for Best Latin Pop Album\\tLife\\tLife (Ricky Martin album)\\n22\\tVuelve also included `` La Bomba '' -LRB- number five in Spain -RRB- , `` Perdido Sin Ti '' -LRB- number one on the US Hot Latin Songs and Latin Pop Airplay -RRB- and `` Por Arriba , Por Abajo '' -LRB- number thirteen in Spain -RRB- .\\tVuelve\\tVuelve (album)\\tHot Latin Songs\\tHot Latin Songs\\tLatin Pop Airplay\\tLatin Pop Airplay\\tLa Bomba\\tLa Bomba (Ricky Martin song)\\tPerdido Sin Ti\\tPerdido Sin Ti\\n23\\t\\n24\\t\\n25\\tMartin 's first English-language album , Ricky Martin , was released in 1999 and included his biggest hit and singnature song , `` Livin ' la Vida Loca '' .\\tRicky Martin\\tRicky Martin (1999 album)\\tVida\\tVida (Ricky Martin song)\\n26\\tIt topped the Billboard Hot 100 for five consecutive weeks and was certified Platinum by the RIAA for selling over 1.1 million of physical copies .\\tBillboard\\tBillboard (magazine)\\tRIAA\\tRecording Industry Association of America\\n27\\t`` Livin ' la Vida Loca '' also topped many other Billboard charts including Hot Latin Songs and Latin Pop Airplay .\\tBillboard\\tBillboard (magazine)\\tHot Latin Songs\\tHot Latin Songs\\tLatin Pop Airplay\\tLatin Pop Airplay\\tVida\\tVida (Ricky Martin song)\\n28\\tIt also became Martin 's first number-one on the UK Singles Chart where it has sold 900,000 copies and was certified Platinum .\\tUK Singles Chart\\tUK Singles Chart\\n29\\t`` Livin ' la Vida Loca '' also reached number one in Canada , Ireland and New Zealand .\\tVida\\tVida (Ricky Martin song)\\n30\\tIn other countries , it was a top ten hit , certified multi-Platinum , Platinum , Gold and Silver around the world .\\n31\\tThe second single , `` She 's All I Ever Had '' topped the US Hot Latin Songs and Latin Pop Airplay charts , reached number two on the Billboard Hot 100 , number three in Canada , number eight in New Zealand and number ten in Finland .\\tBillboard\\tBillboard (magazine)\\tHot Latin Songs\\tHot Latin Songs\\tLatin Pop Airplay\\tLatin Pop Airplay\\n32\\tIt was certified Gold in the United States and Australia .\\n33\\tRicky Martin also included `` Shake Your Bon-Bon '' -LRB- top ten single in Finland , Canada and New Zealand -RRB- and `` Private Emotion '' -LRB- top ten single in various European countries , including the UK -RRB- .\\tRicky Martin\\tRicky Martin (1999 album)\\tShake Your Bon-Bon\\tShake Your Bon-Bon\\tPrivate Emotion\\tPrivate Emotion\\n34\\t\\n35\\t\\n36\\t`` She Bangs '' , the lead single from Martin 's second English-language album Sound Loaded -LRB- 2000 -RRB- , topped the charts in Italy and Sweden , and also reached number one on the US Hot Latin Songs and Tropical Songs .\\tHot Latin Songs\\tHot Latin Songs\\tTropical Songs\\tTropical Songs\\tShe Bangs\\tShe Bangs\\tSound Loaded\\tSound Loaded\\tLoaded\\tLoaded (Ricky Martin song)\\n37\\tIt was a top ten hit in the UK , Australia , Canada , Spain , Ireland , New Zealand , Switzerland , Finland and Norway .\\n38\\t`` She Bangs '' was certified Platinum in Australia , Gold in Sweden and Silver in the UK .\\tShe Bangs\\tShe Bangs\\n39\\tIt won Latin Grammy Award for Best Short Form Music Video .\\tLatin Grammy Award for Best Short Form Music Video\\tLatin Grammy Award for Best Short Form Music Video\\tLatin Grammy Award\\tLatin Grammy Award\\n40\\tThe second single , `` Nobody Wants to Be Lonely '' -LRB- duet with Christina Aguilera -RRB- was also successful reaching number one in New Zealand and the top ten in Australia and most European countries , including the UK .\\tNobody Wants to Be Lonely\\tNobody Wants to Be Lonely\\tChristina Aguilera\\tChristina Aguilera\\n41\\tIt was also certified Gold in various countries .\\n42\\tThe solo Spanish-language version of `` Nobody Wants to Be Lonely '' titled `` Sólo Quiero Amarte '' topped Hot Latin Songs , Latin Pop Airplay and Tropical Songs in the US .\\tHot Latin Songs\\tHot Latin Songs\\tLatin Pop Airplay\\tLatin Pop Airplay\\tTropical Songs\\tTropical Songs\\tNobody Wants to Be Lonely\\tNobody Wants to Be Lonely\\n43\\tThe third single , `` Loaded '' reached top forty in Sweden , Spain , Italy and the UK .\\tLoaded\\tLoaded (Ricky Martin song)\\n44\\t\\n45\\t\\n46\\tThe lead single from the next Spanish-language album Almas del Silencio -LRB- 2003 -RRB- , `` Tal Vez '' debuted at number one on the US Hot Latin Songs and spent eleven weeks at the top .\\tHot Latin Songs\\tHot Latin Songs\\tAlmas del Silencio\\tAlmas del Silencio\\tTal Vez\\tTal Vez (song)\\n47\\tIt also spent thirteen weeks at the top of Latin Pop Airplay and peaked at number one on the Tropical Songs .\\tLatin Pop Airplay\\tLatin Pop Airplay\\tTropical Songs\\tTropical Songs\\n48\\tIt was also number-one song on two 2003 Billboard Year-End charts : Hot Latin Songs and Latin Pop Airplay .\\tBillboard\\tBillboard (magazine)\\tHot Latin Songs\\tHot Latin Songs\\tLatin Pop Airplay\\tLatin Pop Airplay\\n49\\tThe second single , `` Jaleo '' reached number one in Spain and on the Hot Latin Songs in the US .\\tHot Latin Songs\\tHot Latin Songs\\tJaleo\\tJaleo (Ricky Martin song)\\n50\\tIt was also a top ten hit in Italy and Sweden .\\n51\\tOther singles included : `` Asignatura Pendiente '' -LRB- number five on Hot Latin Songs -RRB- , `` Juramento '' -LRB- number eleven in Spain -RRB- and `` Y Todo Queda en Nada '' -LRB- another number-one on the Hot Latin Songs -RRB- .\\tsingles\\tsingle (music)\\tHot Latin Songs\\tHot Latin Songs\\tAsignatura Pendiente\\tAsignatura Pendiente\\tJuramento\\tJuramento (song)\\tY Todo Queda en Nada\\tY Todo Queda en Nada\\n52\\tThe third English-language album , Life -LRB- 2005 -RRB- was promoted by `` I Do n't Care '' .\\tLife\\tLife (Ricky Martin album)\\n53\\tThe single reached top ten in Italy and Finland , and on three Billboard charts : Dance Club Songs -LRB- number three -RRB- , Hot Latin Songs -LRB- number seven -RRB- and Tropical Airplay -LRB- number eight -RRB- .\\tBillboard\\tBillboard (magazine)\\tHot Latin Songs\\tHot Latin Songs\\tDance Club Songs\\tDance Club Songs\\n54\\tAnother song form the album , `` It 's Alright '' was re-recorded with M. Pokora and became a hit in Francophone countries , reaching number four in France and being certified Silver .\\tM. Pokora\\tM. Pokora\\n55\\t\\n56\\t\\n57\\tMartin 's 2006 Latin Grammy Award-winning album , MTV Unplugged included a hit song , `` Tu Recuerdo '' -LRB- featuring La Mari -RRB- .\\tLatin Grammy Award\\tLatin Grammy Award\\tMTV Unplugged\\tMTV Unplugged (Ricky Martin album)\\tTu Recuerdo\\tTu Recuerdo (Ricky Martin song)\\tLa Mari\\tMaría del Mar Rodríguez Carnero\\n58\\tIt was a number one on Hot Latin Songs and Latin Pop Airplay in the US , number one on the Airplay chart in Spain -LRB- number two on the Downloads chart -RRB- and number one in Venezuela .\\tHot Latin Songs\\tHot Latin Songs\\tLatin Pop Airplay\\tLatin Pop Airplay\\n59\\tIt was also certified five-times Platinum in Spain and four-times Platinum in Mexico .\\n60\\tThe second single , `` Pégate '' reached number six on the US Dance Club Songs , number nine on Latin Pop Airplay and Tropical Songs , number eleven on Hot Latin Songs and number thirteen in Spain .\\tHot Latin Songs\\tHot Latin Songs\\tLatin Pop Airplay\\tLatin Pop Airplay\\tTropical Songs\\tTropical Songs\\tDance Club Songs\\tDance Club Songs\\tPégate\\tPégate\\n61\\tIt was also certified four-times Platinum in Mexico .\\n62\\tIn 2007 , Martin recorded a duet with Eros Ramazzotti , `` Non siamo soli '' .\\tEros Ramazzotti\\tEros Ramazzotti\\tNon siamo soli\\tNon siamo soli\\n63\\tThe song topped the Italian chart for eleven consecutive weeks .\\n64\\tIt was also a top-ten hit in Spain -LRB- four-times Platinum certification -RRB- , Hungary and Switzerland .\\n65\\t\\n66\\t\\n67\\tIn 2010 , Martin returned to the recording studio and released `` The Best Thing About Me Is You '' -LRB- `` Lo Mejor de Mi Vida Eres Tú '' -RRB- , the first single from Música + Alma + Sexo -LRB- 2011 -RRB- .\\tThe Best Thing About Me Is You\\tThe Best Thing About Me Is You\\tMúsica + Alma + Sexo\\tMúsica + Alma + Sexo\\tVida\\tVida (Ricky Martin song)\\n68\\tThe Spanish-language version of this song topped the US Hot Latin Songs and Latin Pop Airplay charts .\\tHot Latin Songs\\tHot Latin Songs\\tLatin Pop Airplay\\tLatin Pop Airplay\\n69\\tIt was also a top ten hit in Mexico being certified Platinum .\\n70\\tFurther singles included `` Más '' and `` Frío '' .\\tsingles\\tsingle (music)\\tMás\\tMás (Ricky Martin song)\\tFrío\\tFrío (song)\\n71\\tIn 2013 , Martin released `` Come with Me '' which reached number three in Australia and was certified Gold .\\tCome with Me\\tCome with Me (Ricky Martin song)\\n72\\tIt also topped the Billboard '' 's Latin Airplay chart and reached number nine in Spain .\\tBillboard\\tBillboard (magazine)\\tLatin Airplay\\tBillboard charts#Latin\\n73\\tAnother success came with `` Adrenalina '' , a Wisin song which featured Martin and Jennifer Lopez .\\tAdrenalina\\tAdrenalina (Wisin song)\\tWisin\\tWisin\\tJennifer Lopez\\tJennifer Lopez\\n74\\tIt topped the US Latin Airplay and Latin Rhythm Airplay charts , reached number two on Hot Latin Songs , number three in Spain and number four in Mexico .\\tHot Latin Songs\\tHot Latin Songs\\tLatin Airplay\\tBillboard charts#Latin\\tLatin Rhythm Airplay\\tLatin Rhythm Airplay\\n75\\tIt was also certified two-times Platinum in Spain and Platinum in Mexico .\\n76\\t`` Vida '' , recorded for the 2014 FIFA World Cup , reached top ten in Spain and Mexico , and also on the US Hot Latin Songs .\\tHot Latin Songs\\tHot Latin Songs\\tVida\\tVida (Ricky Martin song)\\t2014 FIFA World Cup\\t2014 FIFA World Cup\\n77\\t\\n78\\t\\n79\\tIn 2014 , `` Adiós '' was released as the first single from Martin 's 2015 album , A Quien Quiera Escuchar .\\tAdiós\\tAdiós (Ricky Martin song)\\tA Quien Quiera Escuchar\\tA Quien Quiera Escuchar\\n80\\tIt was successful in Latin America , topping the charts in Colombia and Mexico , where it was also certified Gold .\\tLatin America\\tLatin America\\n81\\t`` Adiós '' also reached top ten on the US Latin charts .\\tAdiós\\tAdiós (Ricky Martin song)\\n82\\tThe next single , `` Disparo al Corazón '' topped the US Latin Airplay chart , Latin Pop Airplay , reached number nine on the Hot Latin Songs and became a top ten hit in Mexico .\\tHot Latin Songs\\tHot Latin Songs\\tLatin Pop Airplay\\tLatin Pop Airplay\\tLatin Airplay\\tBillboard charts#Latin\\tDisparo al Corazón\\tDisparo al Corazón\\n83\\tThe most successful single from A Quien Quiera Escuchar , `` La Mordidita '' reached number one on the US Latin Airplay , Latin Pop Airplay and topped the charts Latin America , including Dominican Republic and Venezuela .\\tLatin Pop Airplay\\tLatin Pop Airplay\\tLatin Airplay\\tBillboard charts#Latin\\tA Quien Quiera Escuchar\\tA Quien Quiera Escuchar\\tLatin America\\tLatin America\\tLa Mordidita\\tLa Mordidita\\n84\\tIn Spain , it reached number three , and on the Hot Latin Songs , it peaked at number six .\\tHot Latin Songs\\tHot Latin Songs\\n85\\tIt was certified double-Platinum in Spain and Gold in Mexico .\\n86\\tAfter A Quien Quiera Escuchar won the Grammy Award for Best Latin Pop Album in 2016 , Martin 's fourth single , `` Perdóname '' started storming the charts .\\tA Quien Quiera Escuchar\\tA Quien Quiera Escuchar\\tGrammy Award for Best Latin Pop Album\\tGrammy Award for Best Latin Pop Album\\tPerdóname\\tPerdóname (Ricky Martin song)\\n87\\t\\n88\\t\\n89\\tIn 2015 , he released `` Mr. Put It Down '' -LRB- featuring Pitbull -RRB- , which became Martin 's first single to top the US Dance Club Songs chart .\\tDance Club Songs\\tDance Club Songs\\tMr. Put It Down\\tMr. Put It Down\\tPitbull\\tPitbull (rapper)\\n90\\tAnother collaboration with Wisin , the 2015 single `` Que Se Sienta El Deseo '' reached top ten on Latin Airplay , Latin Rhythm Airplay and Latin Pop Airplay in the US .\\tLatin Pop Airplay\\tLatin Pop Airplay\\tLatin Airplay\\tBillboard charts#Latin\\tWisin\\tWisin\\tLatin Rhythm Airplay\\tLatin Rhythm Airplay\\tQue Se Sienta El Deseo\\tQue Se Sienta El Deseo\\n91\\tMartin earned fifteen number-one singles on the US Latin Airplay chart and is the second artist with most number-ones on this chart .\\tsingles\\tsingle (music)\\tLatin Airplay\\tBillboard charts#Latin\\n92\\tHe also has twenty-six top ten hits on Billboard '' 's Hot Latin Songs and is the fourth artist with the most top tens in the history of Hot Latin Songs .\\tBillboard\\tBillboard (magazine)\\tHot Latin Songs\\tHot Latin Songs\\n93\\tOn Latin Pop Airplay in the US , Martin has a record for the most top twenty singles on this chart -LRB- forty-three -RRB- .\\tsingles\\tsingle (music)\\tLatin Pop Airplay\\tLatin Pop Airplay\\n94\\t\""
      ]
     },
     "execution_count": 16,
     "metadata": {},
     "output_type": "execute_result"
    }
   ],
   "source": [
    "lines = database.get_doc_lines('Ricky_Martin_singles_discography')\n",
    "lines"
   ]
  },
  {
   "cell_type": "code",
   "execution_count": 17,
   "metadata": {},
   "outputs": [
    {
     "data": {
      "text/plain": [
       "76"
      ]
     },
     "execution_count": 17,
     "metadata": {},
     "output_type": "execute_result"
    }
   ],
   "source": [
    "non_empty_lines = [line.split(\"\\t\")[1] for line in lines.split(\"\\n\") if len(line.split(\"\\t\"))>1 and len(line.split(\"\\t\")[1].strip())]\n",
    "len(non_empty_lines)"
   ]
  },
  {
   "cell_type": "code",
   "execution_count": 18,
   "metadata": {},
   "outputs": [
    {
     "data": {
      "text/plain": [
       "'It was also certified five-times Platinum in Spain and four-times Platinum in Mexico .'"
      ]
     },
     "execution_count": 18,
     "metadata": {},
     "output_type": "execute_result"
    }
   ],
   "source": [
    "non_empty_lines[SimpleRandom.get_instance().next_rand(0,len(non_empty_lines)-1)]"
   ]
  },
  {
   "cell_type": "code",
   "execution_count": 19,
   "metadata": {},
   "outputs": [
    {
     "data": {
      "text/plain": [
       "['He then played Detective John Amsterdam in the short-lived Fox television series New Amsterdam -LRB- 2008 -RRB- , as well as appearing as Frank Pike in the 2009 Fox television film Virtuality , originally intended as a pilot .',\n",
       " 'The Fox Broadcasting Company -LRB- often shortened to Fox and stylized as FOX -RRB- is an American English language commercial broadcast television network that is owned by the Fox Entertainment Group subsidiary of 21st Century Fox .']"
      ]
     },
     "execution_count": 19,
     "metadata": {},
     "output_type": "execute_result"
    }
   ],
   "source": [
    "[get_doc_line(d[0],d[1]) for d in formatted_train_data[0][\"evidence\"] ]"
   ]
  },
  {
   "cell_type": "code",
   "execution_count": 287,
   "metadata": {},
   "outputs": [],
   "source": [
    "import unicodedata\n",
    "import re\n",
    "def unicode_to_ascii(s):\n",
    "        return ''.join(c for c in unicodedata.normalize('NFD', s) if unicodedata.category(c) != 'Mn')\n",
    "def preprocess(w):\n",
    "        w = unicode_to_ascii(w.lower().strip())\n",
    "        # creating a space between a word and the punctuation following it\n",
    "        # eg: \"he is a boy.\" => \"he is a boy .\"\n",
    "        # Reference:- https://stackoverflow.com/questions/3645931/python-padding-punctuation-with-white-spaces-keeping-punctuation\n",
    "        w = re.sub(r\"([?.!,¿])\", r\" \\1 \", w)\n",
    "        w = re.sub(r'[\" \"]+', \" \", w)\n",
    "        # replacing everything with space except (a-z, A-Z, \".\", \"?\", \"!\", \",\")\n",
    "        w = re.sub(r\"[^a-zA-Z?.!,¿]+\", \" \", w)\n",
    "        w = w.strip()\n",
    "        # adding a start and an end token to the sentence\n",
    "        # so that the model know when to start and stop predicting.\n",
    "        w = '[START] ' + w + ' [END]'\n",
    "        return w"
   ]
  },
  {
   "cell_type": "code",
   "execution_count": 288,
   "metadata": {},
   "outputs": [
    {
     "name": "stdout",
     "output_type": "stream",
     "text": [
      "[START] nikolaj coster waldau worked with the fox broadcasting company . [END] He then played Detective John Amsterdam in the short-lived Fox television series New Amsterdam -LRB- 2008 -RRB- , as well as appearing as Frank Pike in the 2009 Fox television film Virtuality , originally intended as a pilot . The Fox Broadcasting Company -LRB- often shortened to Fox and stylized as FOX -RRB- is an American English language commercial broadcast television network that is owned by the Fox Entertainment Group subsidiary of 21st Century Fox .\n",
      "[START] roman atwood is a content creator . [END] He is best known for his vlogs , where he posts updates about his life on a daily basis . He also has another YouTube channel called `` RomanAtwood '' , where he posts pranks .\n"
     ]
    }
   ],
   "source": [
    "for data in formatted_train_data[:2]:\n",
    "    claim = preprocess(data[\"claim\"])\n",
    "    lines = [get_doc_line(d[0],d[1]) for d in data[\"evidence\"] ]\n",
    "#     body_ids = [e[0] for e in data[\"evidence\"]]\n",
    "#     bodies = [database.get_doc_text(id) for id in set(body_ids)]\n",
    "#     parts = [claim, \" \".join(bodies)]\n",
    "    parts = [claim, \" \".join(lines)]\n",
    "    print (\" \".join(parts))"
   ]
  },
  {
   "cell_type": "code",
   "execution_count": 289,
   "metadata": {},
   "outputs": [],
   "source": [
    "import numpy as np\n",
    "import tensorflow as tf\n",
    "def get_data_generator():\n",
    "    for data in formatted_train_data:\n",
    "        claim = preprocess(data[\"claim\"])\n",
    "        body_ids = [e[0] for e in data[\"evidence\"]]\n",
    "        bodies = [database.get_doc_text(id) for id in set(body_ids)]\n",
    "        parts = [claim, \" \".join(bodies)]\n",
    "        yield \" \".join(parts)\n",
    "        \n",
    "def get_dataset():\n",
    "    generator = lambda: get_data_generator()\n",
    "    return tf.data.Dataset.from_generator(\n",
    "            generator, output_signature=(\n",
    "            tf.TensorSpec(shape=(), dtype=tf.string)))"
   ]
  },
  {
   "cell_type": "code",
   "execution_count": 17,
   "metadata": {
    "collapsed": true,
    "jupyter": {
     "outputs_hidden": true
    },
    "tags": []
   },
   "outputs": [
    {
     "name": "stdout",
     "output_type": "stream",
     "text": [
      "tf.Tensor(b\"[START] nikolaj coster waldau worked with the fox broadcasting company . [END] Nikolaj Coster-Waldau -LRB- -LSB- ne\\xc9\\xa1\\xcc\\x8aola\\xc9\\xaa\\xcc\\xaf k\\xca\\xb0\\xca\\x8csd\\xcc\\xa5\\xc9\\x90 \\xcb\\x88\\xca\\x8bald\\xcc\\xa5\\xc9\\x91\\xca\\x8a\\xcc\\xaf -RSB- ; born 27 July 1970 -RRB- is a Danish actor , producer and screenwriter . He graduated from Danish National School of Theatre in Copenhagen in 1993 . Coster-Waldau 's breakthrough performance in Denmark was his role in the film Nightwatch -LRB- 1994 -RRB- . Since then he has appeared in numerous films in his native Scandinavia and Europe in general , including Headhunters -LRB- 2011 -RRB- and A Thousand Times Good Night -LRB- 2013 -RRB- .   In the United States , his debut film role was in the war film Black Hawk Down -LRB- 2001 -RRB- , playing Medal of Honor recipient Gary Gordon . He then played Detective John Amsterdam in the short-lived Fox television series New Amsterdam -LRB- 2008 -RRB- , as well as appearing as Frank Pike in the 2009 Fox television film Virtuality , originally intended as a pilot . He became widely known to a broad audience for his current role as Ser Jaime Lannister , in the HBO series Game of Thrones . In 2017 , he became one of the highest paid actors on television and earned # 2 million per episode of Game of Thrones .  The Fox Broadcasting Company -LRB- often shortened to Fox and stylized as FOX -RRB- is an American English language commercial broadcast television network that is owned by the Fox Entertainment Group subsidiary of 21st Century Fox . The network is headquartered at the 20th Century Fox studio lot on Pico Boulevard in the Century City section of Los Angeles , with additional major offices and production facilities at the Fox Television Center in nearby West Los Angeles and the Fox Broadcasting Center in the Yorkville neighborhood of Manhattan , New York City . It is the third largest major television network in the world based on total revenues , assets , and international coverage .   Launched on October 9 , 1986 as a competitor to the Big Three television networks -LRB- ABC , NBC and CBS -RRB- , Fox went on to become the most successful attempt at a fourth television network . It was the highest-rated broadcast network in the 18 -- 49 demographic from 2004 to 2012 , and earned the position as the most-watched American television network in total viewership during the 2007 -- 08 season .   Fox and its affiliated companies operate many entertainment channels in international markets , although these do not necessarily air the same programming as the U.S. network . Most viewers in Canada have access to at least one U.S.-based Fox affiliate , either over-the-air or through a pay television provider , although Fox 's National Football League telecasts and most of its prime time programming are subject to simultaneous substitution regulations for cable and satellite providers imposed by the Canadian Radio-television and Telecommunications Commission -LRB- CRTC -RRB- to protect rights held by domestically based networks .   The network is named after sister company 20th Century Fox , and indirectly for producer William Fox , who founded one of the movie studio 's predecessors , Fox Film . Fox is a member of the North American Broadcasters Association and the National Association of Broadcasters . \", shape=(), dtype=string)\n"
     ]
    }
   ],
   "source": [
    "for d in get_dataset().take(1):\n",
    "    print(d)"
   ]
  },
  {
   "cell_type": "code",
   "execution_count": 290,
   "metadata": {},
   "outputs": [],
   "source": [
    "ds = get_dataset()\n",
    "batch_size=32\n",
    "ds = ds.shuffle(3200).batch(batch_size, drop_remainder=True)"
   ]
  },
  {
   "cell_type": "code",
   "execution_count": 19,
   "metadata": {
    "collapsed": true,
    "jupyter": {
     "outputs_hidden": true
    },
    "tags": []
   },
   "outputs": [
    {
     "name": "stdout",
     "output_type": "stream",
     "text": [
      "tf.Tensor(\n",
      "[b\"[START] cape fear stars nick nolte and it is directed by martin scorsese . [END] Cape Fear is a 1991 American psychological thriller film directed by Martin Scorsese and a remake of the 1962 film of the same name . It stars Robert De Niro , Nick Nolte , Jessica Lange , and Juliette Lewis , and features cameos from Gregory Peck , Robert Mitchum , and Martin Balsam , who all appeared in the original film . It was Peck 's final theatrical film . The film tells the story of a convicted rapist who , using mostly his newfound knowledge of the law and its numerous loopholes , seeks vengeance against a former public defender whom he blames for his 14-year imprisonment due to purposefully faulty defense tactics used during his trial .   Cape Fear marks the seventh of eight collaborations between Scorsese and De Niro , the others being Mean Streets -LRB- 1973 -RRB- , Taxi Driver -LRB- 1976 -RRB- , New York , New York -LRB- 1977 -RRB- , Raging Bull -LRB- 1980 -RRB- , The King of Comedy -LRB- 1982 -RRB- , Goodfellas -LRB- 1990 -RRB- and Casino -LRB- 1995 -RRB- . The film received positive reviews and received Academy Award and Golden Globe nominations for Best Actor -LRB- De Niro -RRB- and Best Supporting Actress -LRB- Lewis -RRB- . \"\n",
      " b'[START] jose aldo is in the ultimate fighting championship and has been for a decade . [END] Kenneth Alan Florian -LRB- born May 26 , 1976 -RRB- is a retired American mixed martial artist who formerly competed in the Ultimate Fighting Championship -LRB- UFC -RRB- . Throughout his MMA career , he was able to defeat legendary fighters but always fell short in a title fight . Hence , he has never held a belt in any MMA organization . He currently serves as the UFC on Fox analyst and color commentator for UFC Fight Night -LRB- formerly UFC on FX and UFC on Fuel TV -RRB- . Florian has a background in Brazilian Jiu-Jitsu and Muay Thai . He is known for his cerebral approach to the sport based on his meticulous game plans . Florian is recognized for his tendency to finish his opponents , having earned stoppages in twelve of his fourteen career victories . He is also one of only two fighters in history to compete in four different weight divisions in the UFC : Middleweight , Welterweight , Lightweight and Featherweight the other being Diego Sanchez . He is also a current commentator for the ABC series Battlebots .   Florian defeated Chris Leben on the inaugural season of The Ultimate Fighter reality show , but succumbed in the finale against Diego Sanchez . He has competed on two separate occasions for the UFC Lightweight Championship and once for the UFC Featherweight Championship , but came up short against Sean Sherk , B.J. Penn , and Jos\\xc3\\xa9 Aldo respectively . Recognized as one of the elite competitors during his tenures in the Ultimate Fighting Championship , Florian is considered as one of the greatest all-time mixed martial artists to have never won a UFC Championship . '\n",
      " b\"[START] mao zedong lived until . [END] Mao Zedong or Mao Tse-tung -LRB- -LSB- \\xcb\\x88ma\\xca\\x8a_dz\\xc9\\x99\\xcb\\x88d\\xca\\x8a\\xc5\\x8b , _ z\\xc9\\x99 - , _ - d\\xc9\\x92\\xc5\\x8b -RSB- December 26 , 1893September 9 , 1976 -RRB- , also known as Chairman Mao , was a Chinese communist revolutionary and founding father of the People 's Republic of China , which he governed as the Chairman of the Communist Party of China from its establishment in 1949 , until his death in 1976 . His Marxist -- Leninist theories , military strategies , and political policies are collectively known as Maoism or Marxism-Leninism-Maoism .   Born the son of a wealthy farmer in Shaoshan , Hunan , Mao adopted a Chinese nationalist and anti-imperialist outlook in early life , particularly influenced by the events of the Xinhai Revolution of 1911 and May Fourth Movement of 1919 . Mao adopted Marxism -- Leninism while working at Peking University and became a founding member of the Communist Party of China -LRB- CPC -RRB- , leading the Autumn Harvest Uprising in 1927 . During the Chinese Civil War between the Kuomintang -LRB- KMT -RRB- and the CPC , Mao helped to found the Chinese Workers ' and Peasants ' Red Army , led the Jiangxi Soviet 's radical land policies and ultimately became head of the CPC during the Long March . Although the CPC temporarily allied with the KMT under the United Front during the Second Sino-Japanese War -LRB- 1937 -- 45 -RRB- , after Japan 's defeat China 's civil war resumed and in 1949 Mao 's forces defeated the Nationalists who withdrew to Taiwan .   On 1 October 1949 , Mao proclaimed the foundation of the People 's Republic of China -LRB- PRC -RRB- , a one-party state controlled by the CPC . In the following years Mao solidified his control through a campaign of classicide against landlords , and a mass purge of perceived enemies of the state he termed as `` counter-revolutionaries '' alleged to have caused between 2,000,000 to 6,000,000 deaths . -LRB- Mao himself admitting 800,000 deaths in the classicide and 712,000 in the suppression of Counterrevolutionaries -RRB- In 1957 , he launched the Great Leap Forward campaign that aimed to rapidly transform China 's economy from an agrarian economy to an industrial one . The campaign contributed to a widespread famine , whose death toll is estimated at between 15,000,000 and 55,000,000 . In 1966 , he initiated the Great Proletarian Cultural Revolution , a program to remove `` counter-revolutionary '' elements of Chinese society that lasted 10 years and which was marked by violent class struggle that killed 400,000 to 10,000,000 people , widespread destruction of cultural artifacts and unprecedented elevation of Mao 's personality cult . In 1972 , Mao welcomed American President Richard Nixon in Beijing , signalling a policy of opening China , which was furthered under the rule of Deng Xiaoping -LRB- 1978 -- 1992 -RRB- . Mao suffered a series of heart attacks in 1976 , and died in September , aged 82 . He was succeeded as Paramount leader by Hua Guofeng -LRB- 1976 -- 1978 -RRB- , who was quickly sidelined and replaced by Deng .   A controversial figure , Mao is regarded as one of the most important individuals in modern world history , and is also known as a theorist , military strategist , poet and visionary . Supporters credit him with driving imperialism out of China , modernising China and building it into a world power , promoting the status of women , improving education and health care , and increasing life expectancy as China 's population grew from around 550 million to over 900 million under his leadership . In contrast , critics consider him a dictator comparable to Adolf Hitler and Joseph Stalin who damaged traditional Chinese culture , as well as considering him a perpetrator of human rights abuses , and they estimate that Mao was responsible for 40 to 70 million deaths through starvation , prison labour and executions , which would rank his tenure as the top incidence of excess mortality in human history . \"\n",
      " b\"[START] paul newman is incapable of road racing . [END] Paul Leonard Newman -LRB- January 26 , 1925 -- September 26 , 2008 -RRB- was an American actor , IndyCar driver , entrepreneur , and philanthropist . He won and was nominated for numerous awards , winning an Academy Award for his performance in the 1986 film The Color of Money , a BAFTA Award , a Screen Actors Guild Award , a Cannes Film Festival Award , an Emmy Award , and many others . Newman 's other films include The Hustler -LRB- 1961 -RRB- , Butch Cassidy and the Sundance Kid -LRB- 1969 -RRB- as Butch Cassidy , The Sting -LRB- 1973 -RRB- , and The Verdict -LRB- 1982 -RRB- . However , he is perhaps best remembered for his role as the title character in Cool Hand Luke -LRB- 1967 -RRB- .   Despite being colorblind , Newman won several national championships as a driver in Sports Car Club of America road racing , and his race teams won several championships in open wheel IndyCar racing . He was a co-founder of Newman 's Own , a food company from which he donated all post-tax profits and royalties to charity . As of January 2017 , these donations have totaled over US$ 485 million . He was also a co-founder of Safe Water Network , a nonprofit that develops sustainable drinking water solutions for those in need . In 1988 , Newman founded the SeriousFun Children 's Network , a global family of summer camps and programs for children with serious illness which has served 290,076 children since its inception . \"\n",
      " b\"[START] abraham lincoln was a republican candidate for the united states senate in . [END] Abraham Lincoln -LRB- -LSB- \\xcb\\x88e\\xc9\\xaabr\\xc9\\x99h\\xc3\\xa6m_\\xcb\\x88lI\\xc5\\x8bk\\xc9\\x99n -RSB- February 12 , 1809 -- April 15 , 1865 -RRB- was an American politician and lawyer who served as the 16th President of the United States from March 1861 until his assassination in April 1865 . Lincoln led the United States through its Civil War -- its bloodiest war and perhaps its greatest moral , constitutional , and political crisis . In doing so , he preserved the Union , paved the way to the abolition of slavery , strengthened the federal government , and modernized the economy .   Born in Hodgenville , Kentucky , Lincoln grew up on the western frontier in Kentucky and Indiana . Largely self-educated , he became a lawyer in Illinois , a Whig Party leader , and was elected to the Illinois House of Representatives , in which he served for eight years . Elected to the United States House of Representatives in 1846 , Lincoln promoted rapid modernization of the economy through banks , tariffs , and railroads . Because he had originally agreed not to run for a second term in Congress , and because his opposition to the Mexican -- American War was unpopular among Illinois voters , Lincoln returned to Springfield and resumed his successful law practice . Reentering politics in 1854 , he became a leader in building the new Republican Party , which had a statewide majority in Illinois . In 1858 , while taking part in a series of highly publicized debates with his opponent and rival , Democrat Stephen A. Douglas , Lincoln spoke out against the expansion of slavery , but lost the U.S. Senate race to Douglas .   In 1860 , Lincoln secured the Republican Party presidential nomination as a moderate from a swing state . Though he gained very little support in the slaveholding states of the South , he swept the North and was elected president in 1860 . Lincoln 's victory prompted seven southern slave states to form the Confederate States of America before he moved into the White House -- no compromise or reconciliation was found regarding slavery and secession . Subsequently , on April 12 , 1861 , a Confederate attack on Fort Sumter inspired the North to enthusiastically rally behind the Union . As the leader of the moderate faction of the Republican Party , Lincoln confronted Radical Republicans , who demanded harsher treatment of the South , War Democrats , who called for more compromise , anti-war Democrats -LRB- called Copperheads -RRB- , who despised him , and irreconcilable secessionists , who plotted his assassination . Politically , Lincoln fought back by pitting his opponents against each other , by carefully planned political patronage , and by appealing to the American people with his powers of oratory . His Gettysburg Address became an iconic endorsement of the principles of nationalism , republicanism , equal rights , liberty , and democracy .   Lincoln initially concentrated on the military and political dimensions of the war . His primary goal was to reunite the nation . He suspended habeas corpus , leading to the controversial ex parte Merryman decision , and he averted potential British intervention in the war by defusing the Trent Affair in late 1861 . Lincoln closely supervised the war effort , especially the selection of top generals , including his most successful general , Ulysses S. Grant . He also made major decisions on Union war strategy , including a naval blockade that shut down the South 's normal trade , moves to take control of Kentucky and Tennessee , and using gunboats to gain control of the southern river system . Lincoln tried repeatedly to capture the Confederate capital at Richmond ; each time a general failed , Lincoln substituted another , until finally Grant succeeded . As the war progressed , his complex moves toward ending slavery included the Emancipation Proclamation of 1863 ; Lincoln used the U.S. Army to protect escaped slaves , encouraged the border states to outlaw slavery , and pushed through Congress the Thirteenth Amendment to the United States Constitution , which permanently outlawed slavery .   An exceptionally astute politician deeply involved with power issues in each state , Lincoln reached out to the War Democrats and managed his own re-election campaign in the 1864 presidential election . Anticipating the war 's conclusion , Lincoln pushed a moderate view of Reconstruction , seeking to reunite the nation speedily through a policy of generous reconciliation in the face of lingering and bitter divisiveness . On April 14 , 1865 , five days after the surrender of Confederate commanding general Robert E. Lee , Lincoln was assassinated by John Wilkes Booth , a Confederate sympathizer .   Lincoln has been consistently ranked both by scholars and the public as among the greatest U.S. presidents . \"\n",
      " b\"[START] the first single by the who reached the uk top ten within a week of release . [END] Puerto Rican singer Ricky Martin has released seventy-nine Spanish and English-language singles . In 1984 , thirteen-year-old Martin became a member of the Puerto Rican boy band Menudo . After recording eleven albums with the group , he left Menudo in 1989 , hoping to rest and evaluate his career path . In 1990 , he was signed to Sony Discos , the Sony Music Entertainment 's Latin imprint . Martin released his debut solo album , the Spanish-language Ricky Martin , in November 1991 . It included hit singles : `` Fuego Contra Fuego '' , `` El Amor de Mi Vida '' and `` Vuelo '' . His second Spanish-language solo album , Me Amar\\xc3\\xa1s -LRB- 1993 -RRB- featured further successful singles : `` Me Amar\\xc3\\xa1s '' , `` Que Dia Es Hoy '' and `` Entre el Amor y los Halagos '' .   Martin 's third Spanish-language album , A Medio Vivir -LRB- 1995 -RRB- included his international breakthrough single , `` Mar\\xc3\\xada '' . The song topped the chart in France for nine consecutive weeks in early 1997 and was certified Diamond after selling 1.4 million copies . `` Mar\\xc3\\xada '' also topped the chart in Belgium Wallonia for ten weeks and in Australia for six weeks , and reached top ten in the United Kingdom , Germany , Austria , Switzerland , Belgium Flanders , Italy , Finland , Sweden , the Netherlands , Denmark and New Zealand . It was also certified double Platintum in Belgium , Platinum in Australia , and Gold in Germany , Switzerland , Sweden and the Netherlands . `` Mar\\xc3\\xada '' has sold over five million copies worldwide . A Medio Vivir also included two other successful singles : `` Te Extra\\xc3\\xb1o , Te Olvido , Te Amo '' and `` Volver\\xc3\\xa1s '' .   `` Vuelve '' , the lead single from the album of the same name released in 1998 became Martin 's first track to top three Billboard charts : Hot Latin Songs , Latin Pop Airplay and Tropical Songs . `` La Copa de la Vida '' -LRB- `` The Cup of Life '' -RRB- , released as the second single and the official song of the 1998 FIFA World Cup , became a worldwide hit . It topped the charts in Germany , France , Spain , Italy , Sweden , Switzerland , Belgium Wallonia and in Australia , and was certified Platinum and Gold in various countries . `` The Cup of Life '' , released in Australia a double A-side single with `` Mar\\xc3\\xada '' , became the best-selling single of 1998 in this country . On the same night Martin performed `` The Cup of Life '' at the 41st Annual Grammy Awards , Vuelve won Grammy Award for Best Latin Pop Performance . Vuelve also included `` La Bomba '' -LRB- number five in Spain -RRB- , `` Perdido Sin Ti '' -LRB- number one on the US Hot Latin Songs and Latin Pop Airplay -RRB- and `` Por Arriba , Por Abajo '' -LRB- number thirteen in Spain -RRB- .   Martin 's first English-language album , Ricky Martin , was released in 1999 and included his biggest hit and singnature song , `` Livin ' la Vida Loca '' . It topped the Billboard Hot 100 for five consecutive weeks and was certified Platinum by the RIAA for selling over 1.1 million of physical copies . `` Livin ' la Vida Loca '' also topped many other Billboard charts including Hot Latin Songs and Latin Pop Airplay . It also became Martin 's first number-one on the UK Singles Chart where it has sold 900,000 copies and was certified Platinum . `` Livin ' la Vida Loca '' also reached number one in Canada , Ireland and New Zealand . In other countries , it was a top ten hit , certified multi-Platinum , Platinum , Gold and Silver around the world . The second single , `` She 's All I Ever Had '' topped the US Hot Latin Songs and Latin Pop Airplay charts , reached number two on the Billboard Hot 100 , number three in Canada , number eight in New Zealand and number ten in Finland . It was certified Gold in the United States and Australia . Ricky Martin also included `` Shake Your Bon-Bon '' -LRB- top ten single in Finland , Canada and New Zealand -RRB- and `` Private Emotion '' -LRB- top ten single in various European countries , including the UK -RRB- .   `` She Bangs '' , the lead single from Martin 's second English-language album Sound Loaded -LRB- 2000 -RRB- , topped the charts in Italy and Sweden , and also reached number one on the US Hot Latin Songs and Tropical Songs . It was a top ten hit in the UK , Australia , Canada , Spain , Ireland , New Zealand , Switzerland , Finland and Norway . `` She Bangs '' was certified Platinum in Australia , Gold in Sweden and Silver in the UK . It won Latin Grammy Award for Best Short Form Music Video . The second single , `` Nobody Wants to Be Lonely '' -LRB- duet with Christina Aguilera -RRB- was also successful reaching number one in New Zealand and the top ten in Australia and most European countries , including the UK . It was also certified Gold in various countries . The solo Spanish-language version of `` Nobody Wants to Be Lonely '' titled `` S\\xc3\\xb3lo Quiero Amarte '' topped Hot Latin Songs , Latin Pop Airplay and Tropical Songs in the US . The third single , `` Loaded '' reached top forty in Sweden , Spain , Italy and the UK .   The lead single from the next Spanish-language album Almas del Silencio -LRB- 2003 -RRB- , `` Tal Vez '' debuted at number one on the US Hot Latin Songs and spent eleven weeks at the top . It also spent thirteen weeks at the top of Latin Pop Airplay and peaked at number one on the Tropical Songs . It was also number-one song on two 2003 Billboard Year-End charts : Hot Latin Songs and Latin Pop Airplay . The second single , `` Jaleo '' reached number one in Spain and on the Hot Latin Songs in the US . It was also a top ten hit in Italy and Sweden . Other singles included : `` Asignatura Pendiente '' -LRB- number five on Hot Latin Songs -RRB- , `` Juramento '' -LRB- number eleven in Spain -RRB- and `` Y Todo Queda en Nada '' -LRB- another number-one on the Hot Latin Songs -RRB- . The third English-language album , Life -LRB- 2005 -RRB- was promoted by `` I Do n't Care '' . The single reached top ten in Italy and Finland , and on three Billboard charts : Dance Club Songs -LRB- number three -RRB- , Hot Latin Songs -LRB- number seven -RRB- and Tropical Airplay -LRB- number eight -RRB- . Another song form the album , `` It 's Alright '' was re-recorded with M. Pokora and became a hit in Francophone countries , reaching number four in France and being certified Silver .   Martin 's 2006 Latin Grammy Award-winning album , MTV Unplugged included a hit song , `` Tu Recuerdo '' -LRB- featuring La Mari -RRB- . It was a number one on Hot Latin Songs and Latin Pop Airplay in the US , number one on the Airplay chart in Spain -LRB- number two on the Downloads chart -RRB- and number one in Venezuela . It was also certified five-times Platinum in Spain and four-times Platinum in Mexico . The second single , `` P\\xc3\\xa9gate '' reached number six on the US Dance Club Songs , number nine on Latin Pop Airplay and Tropical Songs , number eleven on Hot Latin Songs and number thirteen in Spain . It was also certified four-times Platinum in Mexico . In 2007 , Martin recorded a duet with Eros Ramazzotti , `` Non siamo soli '' . The song topped the Italian chart for eleven consecutive weeks . It was also a top-ten hit in Spain -LRB- four-times Platinum certification -RRB- , Hungary and Switzerland .   In 2010 , Martin returned to the recording studio and released `` The Best Thing About Me Is You '' -LRB- `` Lo Mejor de Mi Vida Eres T\\xc3\\xba '' -RRB- , the first single from M\\xc3\\xbasica + Alma + Sexo -LRB- 2011 -RRB- . The Spanish-language version of this song topped the US Hot Latin Songs and Latin Pop Airplay charts . It was also a top ten hit in Mexico being certified Platinum . Further singles included `` M\\xc3\\xa1s '' and `` Fr\\xc3\\xado '' . In 2013 , Martin released `` Come with Me '' which reached number three in Australia and was certified Gold . It also topped the Billboard '' 's Latin Airplay chart and reached number nine in Spain . Another success came with `` Adrenalina '' , a Wisin song which featured Martin and Jennifer Lopez . It topped the US Latin Airplay and Latin Rhythm Airplay charts , reached number two on Hot Latin Songs , number three in Spain and number four in Mexico . It was also certified two-times Platinum in Spain and Platinum in Mexico . `` Vida '' , recorded for the 2014 FIFA World Cup , reached top ten in Spain and Mexico , and also on the US Hot Latin Songs .   In 2014 , `` Adi\\xc3\\xb3s '' was released as the first single from Martin 's 2015 album , A Quien Quiera Escuchar . It was successful in Latin America , topping the charts in Colombia and Mexico , where it was also certified Gold . `` Adi\\xc3\\xb3s '' also reached top ten on the US Latin charts . The next single , `` Disparo al Coraz\\xc3\\xb3n '' topped the US Latin Airplay chart , Latin Pop Airplay , reached number nine on the Hot Latin Songs and became a top ten hit in Mexico . The most successful single from A Quien Quiera Escuchar , `` La Mordidita '' reached number one on the US Latin Airplay , Latin Pop Airplay and topped the charts Latin America , including Dominican Republic and Venezuela . In Spain , it reached number three , and on the Hot Latin Songs , it peaked at number six . It was certified double-Platinum in Spain and Gold in Mexico . After A Quien Quiera Escuchar won the Grammy Award for Best Latin Pop Album in 2016 , Martin 's fourth single , `` Perd\\xc3\\xb3name '' started storming the charts .   In 2015 , he released `` Mr. Put It Down '' -LRB- featuring Pitbull -RRB- , which became Martin 's first single to top the US Dance Club Songs chart . Another collaboration with Wisin , the 2015 single `` Que Se Sienta El Deseo '' reached top ten on Latin Airplay , Latin Rhythm Airplay and Latin Pop Airplay in the US . Martin earned fifteen number-one singles on the US Latin Airplay chart and is the second artist with most number-ones on this chart . He also has twenty-six top ten hits on Billboard '' 's Hot Latin Songs and is the fourth artist with the most top tens in the history of Hot Latin Songs . On Latin Pop Airplay in the US , Martin has a record for the most top twenty singles on this chart -LRB- forty-three -RRB- . \"\n",
      " b\"[START] iron man is number seven of the films in the marvel cinematic universe . [END] Iron Man 3 -LRB- stylized onscreen as Iron Man Three -RRB- is a 2013 American superhero film based on the Marvel Comics character Iron Man , produced by Marvel Studios and distributed by Walt Disney Studios Motion Pictures . It is the sequel to 2008 's Iron Man and 2010 's Iron Man 2 , and the seventh film in the Marvel Cinematic Universe . Shane Black directed a screenplay he co-wrote with Drew Pearce , which uses concepts from the `` Extremis '' story arc by Warren Ellis . The film stars Robert Downey Jr. , Gwyneth Paltrow , Don Cheadle , Guy Pearce , Rebecca Hall , Stephanie Szostak , James Badge Dale , Jon Favreau , and Ben Kingsley . In Iron Man 3 , Tony Stark deals with posttraumatic stress disorder caused by the events of The Avengers , while investigating the reemergence of the Ten Rings , led by the mysterious Mandarin and comes into a conflict with an old enemy : Aldrich Killian .   After the release of Iron Man 2 in May 2010 , Favreau , who served as director , decided not to return , and in February 2011 Black was hired to write and direct the film . Black and Pearce opted to make the script more character-centric and focused on thriller elements . Throughout April and May 2012 , the film 's supporting cast was filled out , with Kingsley , Pearce , and Hall brought in to portray key roles . Filming began on May 23 , and lasted through December 17 , 2012 , primarily at EUE/Screen Gems Studios in Wilmington , North Carolina . Additional shooting took place at various locations around North Carolina , as well as Florida , China , and Los Angeles . The visual effects were handled by 17 companies , including Scanline VFX , Digital Domain , and Weta Digital . The film was converted to 3D in post-production .   Iron Man 3 premiered at Le Grand Rex in Paris on April 14 , 2013 . It began its release on April 25 , 2013 , internationally , and debuted in the United States one week later on May 3 . The film received generally positive reviews and was commercially successful , grossing over $ 1.2 billion worldwide , the second highest-grossing film of 2013 overall , and the second-highest-grossing film at the domestic box office released in 2013 . It became the sixteenth film to gross over $ 1 billion and the 5th-highest-grossing film of all time , with its opening weekend ranking as the 6th-highest-grossing opening of all time . The film also received a nomination for Academy Award in the category of Best Visual Effects , and received another nomination for BAFTA Award in the same category . \"\n",
      " b\"[START] christine campbell is the main character of the new adventures of old christine . [END] Christine `` Old Christine '' Campbell -LRB- n\\xc3\\xa9e Kimble -RRB- is the title character of The New Adventures of Old Christine , portrayed by Julia Louis-Dreyfus in her Primetime Emmy Award winning role . The series surrounds her as she starts to live a more complicated daily life when her ex-husband dates a younger woman , also named Christine . Julia Louis-Dreyfus received critical acclaim for her performance as Christine , winning the Primetime Emmy Award for Outstanding Lead Actress in a Comedy Series in 2006 .  The New Adventures of Old Christine -LRB- often shortened to simply Old Christine -RRB- is an American television sitcom starring Julia Louis-Dreyfus as Christine Campbell , a middle-aged divorced mother who struggles to keep pace with those around her . Clark Gregg co-starred as her ex-husband Richard , with whom Christine maintains a close relationship despite their divorce , as well as Hamish Linklater as her brother Matthew and Wanda Sykes as her best friend Barb . It originally ran on CBS from March 13 , 2006 , to May 12 , 2010 .   The New Adventures of Old Christine was created and produced by Kari Lizer as well as Andy Ackerman -LRB- who directed all 88 episodes of the series -RRB- , and distributed by Warner Bros. . Television . The series received generally positive reviews from television critics and was nominated for nine Primetime Emmy Awards , winning one for Louis-Dreyfus ' performance in the first season . In May 2010 , CBS canceled The New Adventures of Old Christine after five seasons . \"\n",
      " b\"[START] lisa lopes was a founding member of tlc . [END] TLC is an American girl group whose original line-up consisted of Tionne `` T-Boz '' Watkins , Lisa `` Left Eye '' Lopes and Rozonda `` Chilli '' Thomas . Formed in Atlanta , Georgia in 1991 , the group was very successful during the 1990s and early 2000s in spite of numerous spats with the law , each other , and the group 's record label and management . They scored nine top-ten hits on the Billboard Hot 100 , including four number-one singles `` Creep '' , `` Waterfalls '' , `` No Scrubs '' , and `` Unpretty '' . The group also recorded four multi-platinum albums , including CrazySexyCool -LRB- 1994 -RRB- which still remains the only album by a female group to receive a diamond certification from the Recording Industry Association of America -LRB- RIAA -RRB- . TLC also became the first R&B group in history to receive Million certification from the Recording Industry Association of Japan -LRB- RIAJ -RRB- for FanMail -LRB- 1999 -RRB- .   Having sold over 65 million records worldwide , TLC is the best-selling American girl group and second worldwide to the English group Spice Girls . VH1 ranked TLC as the greatest female group , placing them at number 12 on the list of 100 Greatest Women in Music . Billboard magazine ranked TLC as one of the greatest musical trios , as well as the seventh most successful act of the 1990s . The group 's accolades include four career Grammy Awards , five MTV Video Music Awards and five Soul Train Music Awards . Twenty years after their debut , TLC was honored with Outstanding Contribution to Music at the 17th MOBO Awards and Legend Award at the 2013 MTV Video Music Awards Japan . All three members of TLC are considered irreplaceable by the other members , and each of them have contributed equally to the group . Following Lopes ' death in 2002 , instead of replacing her , the remaining members chose to carry on as a duo . On June 30 , 2017 , they will release their final album as TLC , but have clarified that they will not split up following the album 's release and will continue to perform together .  Lisa Nicole Lopes -LRB- May 27 , 1971 -- April 25 , 2002 -RRB- , better known by her stage name Left Eye , was an American hip hop singer , rapper , actress , songwriter and producer . She rose to fame in the early 1990s as one-third of the girl group TLC , alongside Tionne `` T-Boz '' Watkins and Rozonda `` Chilli '' Thomas . Besides rapping and singing background vocals on TLC recordings , Lopes was one of the creative forces behind the group . She received more cowriting credits than the other members . She also designed the outfits and stage for the group and brought concepts to the group image , album titles , artworks and music videos . Through her work with TLC , Lopes won four Grammy Awards .   During her short solo career , Lopes scored two US top-ten singles with `` Not Tonight '' and `` U Know What 's Up '' , as well as one UK number-one single with `` Never Be the Same Again '' . She also produced the girl group Blaque , who scored a platinum album and two US top-ten hits . Lopes remains the only member of TLC to have released a solo album .   On April 25 , 2002 , Lopes was killed in a car accident while on a retreat with her sister and others . She swerved off the road to avoid hitting another vehicle and was thrown from her vehicle and died instantly . The last days of her life were made into a documentary called The Last Days of Left Eye , which aired on VH1 in May 2007 . \"\n",
      " b\"[START] emilio estevez is a director . [END] Emilio Estevez -LRB- -LSB- \\xc9\\x9b\\xcb\\x88miljo\\xca\\x8a_\\xc9\\x9bst\\xcb\\x88\\xc9\\x9bb\\xc9\\x9bs -RSB- born May 12 , 1962 -RRB- is an American actor , director , and writer . He started his career as an actor and is well known for being a member of the acting Brat Pack of the 1980s , starring in The Breakfast Club , St. Elmo 's Fire , and also acting in the 1983 hit movie The Outsiders . He is also known for Repo Man , The Mighty Ducks and its sequels , Stakeout , Maximum Overdrive , Bobby -LRB- which he also wrote and directed -RRB- , and his performances in Western films such as Young Guns and its sequel . \"\n",
      " b\"[START] james mcavoy is incapable of being an actor . [END] James McAvoy -LRB- -LSB- \\xcb\\x88m\\xc3\\xa6k\\xc9\\x99v\\xc9\\x94\\xc9\\xaa -RSB- born 21 April 1979 -RRB- is a Scottish actor . He made his acting d\\xc3\\xa9but as a teen in 1995 's The Near Room and continued to make mostly television appearances until 2003 , when his feature film career began and he continued to work in both areas from then on . His notable television work includes the drama show State of Play , the adult comedy-drama Shameless , and the science fiction show Frank Herbert 's Children of Dune .   Besides screen acting , McAvoy has performed in several West End productions , receiving three nominations for the Laurence Olivier Award for Best Actor . He has also done voice work for animated films including Gnomeo & Juliet and Arthur Christmas -LRB- both 2011 -RRB- .   In 2003 , McAvoy appeared in a lead role in Bollywood Queen , a British Indian take on the Shakespeare play Romeo and Juliet , directed by Jeremy Wooding . This was followed by a supporting role , the faun Mr. Tumnus , in The Chronicles of Narnia : The Lion , the Witch and the Wardrobe -LRB- 2005 -RRB- . His performance in Kevin Macdonald 's drama The Last King of Scotland -LRB- 2006 -RRB- garnered him several award nominations . The critically acclaimed romantic drama war film Atonement -LRB- 2007 -RRB- earned him a Golden Globe Award nomination and his second BAFTA nomination . He appeared opposite Angelina Jolie as a newly trained assassin in the action thriller Wanted -LRB- 2008 -RRB- .   Since then , he is known for playing the young Professor Charles Xavier in the 2011 superhero film X-Men : First Class , a role he reprised in X-Men : Days of Future Past -LRB- 2014 -RRB- , and X-Men : Apocalypse -LRB- 2016 -RRB- . McAvoy starred in the 2013 crime comedy-drama film Filth for which he won Best Actor in the British Independent Film Awards . In 2016 , he portrayed Kevin , a man with 23 personalities in his body , in M. Night Shyamalan 's Split , for which he received critical acclaim .  Atonement is a 2007 British romantic war drama directed by Joe Wright and based on Ian McEwan 's 2001 novel of the same name . The film stars James McAvoy , Keira Knightley , Saoirse Ronan , Romola Garai , and Vanessa Redgrave , chronicles a crime and its consequences over the course of six decades , beginning in the 1930s . It was produced by Working Title Films and filmed in England . Distributed in most of the world by Universal Studios , it was released in the United Kingdom and Ireland on 7 September 2007 and in North America on 7 December 2007 .   Atonement opened both the 2007 Vancouver International Film Festival and the 64th Venice International Film Festival , making Wright , at the age of 35 , the youngest director ever to open the latter event . A commercial success , the film earned a worldwide gross of approximately $ 129 million against a budget of $ 30 million . Critics gave the drama positive reviews , praising its acting performances , its cinematography and Dario Marianelli 's score .   Atonement won an Oscar for Best Original Score at the 80th Academy Awards , and was nominated for six others , including Best Picture , Best Adapted Screenplay and Best Supporting Actress for Ronan . It also garnered fourteen nominations at the 61st British Academy Film Awards , winning both Best Film and Production Design , and won the Golden Globe Award for Best Motion Picture -- Drama . \"\n",
      " b\"[START] tyne daly was nominated for president . [END] Tyne is an Irish surname .   Tyne may also refer to :  River Tyne , England  The Port of Tyne comprises the commercial docks in and around the River Tyne in Tyne and Wear in the northeast of England .  River Tyne , Scotland  People  Edward Tyne , fl . 1906 , New Zealand rugby player  Tyne Daly  Tyne O'Connell  Other  HMS Tyne  Rolls-Royce Tyne  Tyne , a sea area in the British Shipping Forecast  Tyne class lifeboats have been operated by the RNLI since 1982 \"\n",
      " b'[START] the belko experiment is an american horror film released in . [END] The Belko Experiment is a 2016 American horror film directed by Greg McLean and written by James Gunn . The film stars John Gallagher Jr. , Tony Goldwyn , Adria Arjona and Melonie Diaz . Filming began on June 1 , 2015 , in Bogot\\xc3\\xa1 , Colombia . The film premiered at the 2016 Toronto International Film Festival on September 10 , 2016 and was released in the United States on March 17 , 2017 , by BH Tilt and Orion Pictures . The film received mixed reviews from critics and has grossed $ 10 million worldwide , against its $ 5 million budget . '\n",
      " b\"[START] nick jonas is a recording artist . [END] Nicholas Jerry Jonas -LRB- born September 16 , 1992 -RRB- is an American singer , songwriter , producer , and actor . Jonas began acting in theater at the age of seven , and released his debut single in 2002 . He released his eponymous debut album in 2004 to little success , though it did catch the attention of Columbia Records . Jonas opted to form a band with his older brothers , Joe and Kevin , known as the Jonas Brothers . The group released their debut studio album It 's About Time through Columbia Records . The record failed to achieve commercial success , thus the group parted ways with their label . Their self-titled second studio album was released through Hollywood Records in 2007 , and became their breakthrough record . The band became prominent figures on the Disney Channel during this time , gaining a large following through the network . The band starred in the widely successful film Camp Rock -LRB- 2008 -RRB- .   The release of the band 's third studio album , A Little Bit Longer -LRB- 2008 -RRB- , helped the band achieve further success ; the album 's lead single hit the top five on the Billboard Hot 100 chart . The release of their fourth studio album saw a decline in sales for the band , though was still fairly successful . Jonas and his brothers starred in the Disney Channel series JONAS in 2009 and 2010 , though poor ratings led to its cancellation in 2010 . It was later confirmed that the Jonas Brothers would be taking a hiatus , with Nick forming a new band known as Nick Jonas & the Administration . The band released one studio album in 2010 , though it failed to achieve much commercial success . Following the release , Jonas opted to focus on work in theater , and also had a recurring role on the television series Smash . The Jonas Brothers briefly reunited in 2013 , though officially parted ways due to creative differences .   Jonas decided to return to his solo music career following the band 's disbandment , and began work on his second studio album . He signed with Island Records , releasing Nick Jonas -LRB- 2014 -RRB- through the label . The album entered the top ten of the Billboard 200 , while both of the album 's singles entered the top twenty of the Billboard Hot 100 . The project was re-released as Nick Jonas X2 in 2015 . The release helped provide Jonas with a new public image , earning him the title of a `` sex symbol '' . Jonas later co-founded Safehouse Records , a record label in conjunction with Island Records and Hollywood Records . Jonas released his third studio album , Last Year Was Complicated -LRB- 2016 -RRB- , through the label . The project became his highest peaking entry as a solo artist on the Billboard 200 , while the lead single was a top twenty hit on the Billboard Hot 100 . \"\n",
      " b\"[START] psychology is a relatively new field . [END] Harold D. Roth is Professor of Religious Studies and the Director of the Contemplative Studies Initiative . Roth is a specialist in Methods of Textual Criticism and Textual History , Classical Chinese Religious Thought , Classical Daoism , the Comparative Study of Mysticism and one of the pioneers of the new interdisciplinary academic field of Contemplative Studies .   During an academic career spanning over three decades , Roth has done ground - breaking work in three major intellectual fields . In the first , textual criticism , following the lead of the late SOAS professor Paul Thompson , Roth did the first complete textual history of a major Classical Chinese philosophical work , which he published in his first book , The Textual History of the Huai-nan Tzu . Working towards the goal of establishing modern critical editions of all the major extant works of the classical period , Roth developed a distinctive method he called `` Filiation Analysis , '' a technique for determining the broadest range of possibly authentic textual variants using the bare minimum number of editions . This is detailed in his very first publication , `` Filiation Analysis and the Textual Criticism of the Huai-nan Tzu , '' . It is further developed as a model for all classical Chinese philosophical texts in a later publication , `` Text and Edition in Early Chinese Philosophical Literature '' .   The second major area in which Roth has done pioneering work is in reconstructing the lost history and contemplative dimensions of the late Warring States and early Han dynasty tradition that he dubbed `` inner cultivation . '' It is this tradition that was given the moniker `` Daoism '' by the Grand Historian Sima Tan circa 110 BCE . Beginning with three publications in the early to mid 1990 's , `` Psychology and Self-Cultivation in Early Taoistic Thought , '' `` Who Compiled the Chuang Tzu ? '' , and `` Redaction Criticism and the Early History of Taoism , '' Roth began a detailed textual analysis of classical Chinese texts on inner cultivation demonstrating that they contained a distinctive set of technical terms that could be organized under three philosophical categories : cosmology , psychology/inner cultivation , and political thought . Expanding the work of A.C. Graham , he further determined that these extant sources of inner cultivation could be organized into three distinctive philosophical groupings , `` Individualist , '' Primitivist , and Syncretist and argued these could be considered different phases in the development of this classical Daoist tradition . Roth systematized these arguments in providing the intellectual context for his translation of a short and distinctive text entitled Neiye \\xe5\\x85\\xa7\\xe6\\xa5\\xad -LRB- `` Inward Training '' -RRB- , one of 76 works in the Guanzi \\xe7\\xae\\xa1\\xe5\\xad\\x90compendium , published in his second book , Original Tao : Inward Training and the Foundations of Taoist Mysticism and returned to them in a recent article detailed the contributions to the development of the foundational philosophical idea of li \\xe7\\x90\\x86 -LRB- Pattern , Principle -RRB- made by this classical Daoist tradition in `` The Classical Daoist Concept of Li and Early Chinese Cosmology . ''   In developing these theories about the inner cultivation tradition Roth broke new ground in systematically applying the methods of the philosophical analysis of different traditions of mystical experience to the classical Chinese religious traditions . In addition to being summarized in Original Tao , his work in this area is detailed in a number of important other publications : `` Evidence for Stages of Meditation in Early Taoism , '' `` Lao Tzu in the Context of Early Taoist Mystical Praxis , '' and `` Bimodal Mystical Experience in the ` Qiwulun ' of Zhuangzi '' .   Starting when he entered the Ph.D. program at the University of Toronto in 1975 , Roth began a fascination with the early Han dynasty -LRB- 139 BCE -RRB- philosophical compendium , the Huainanzi \\xe6\\xb7\\xae\\xe5\\x8d\\x97\\xe5\\xad\\x90 , until recently the last great untranslated work of classical Chinese philosophy . Intended as a comprehensive multi-authored text detailing all the fields of knowledge with which the Chinese emperor needed to be conversant , the Huainanzi contains chapters on cosmology and cosmogony , astronomy , geography , rulership , and warfare , to name a few of its major topics . Roth has argued that while the Huainanzi is inclusive of a very wide range philosophical ideas from many traditions , that its overarching intellectual context is provided by the inner cultivation tradition of classical Daoism . After working on the textual history of this major work in his first book , in the mid 1990s Roth developed a project for the first complete English translation with colleague John Major and , eventually , a small cohort of additional scholars that included , most importantly , Sarah Queen and Andrew Meyer . Together they succeeded in finally publishing a complete translation , The Huainanzi : A Guide to the Theory and Practice of Government in Early Han China and an abridged translation , The Essential Huainanzi . In addition to his work on these translations and to his first book , Roth has published his ideas on the philosophy of the Huainanzi in a number of publications , including `` The Concept of Human Nature in the Huai-nan Tzu , '' `` Nature and Self-Cultivation in Huainanzi 's ` Original Way , ' '' `` Daoist Inner Cultivation Thought and the Textual Structure of the Huainanzi , '' and `` Huainanzi \\xe6\\xb7\\xae \\xe5\\x8d\\x97 \\xe5\\xad\\x90and Early Han Daoism . ''   Roth has not only been a leader in developing the new academic field of `` Contemplative Studies , '' he is also the person who first coined the term . Combining the disciplines of the relevant Brain Sciences , Humanities , and Creative Arts around the systematic third and first-person study of contemplative experiences , across cultures and across time , this new field presents bold new pedagogies and research techniques that return the unbiased perspective of the experiencing subject to both classroom and laboratory . Inspired by the work of scientists such as Francisco Varela , James Austin , and Richard Davidson , philosophers such as William James and Evan Thompson , and educators such as John Dewey and Parker Palmer , Brown Contemplative Studies has served as a model for research institutes and academic programs at many institutions of higher education throughout North America . Roth has helped pioneer the field through such publications as `` Contemplative Studies : Prospects for a New Field , '' Columbia Teacher 's College Record -LRB- 2006 -RRB- ; `` Against Cognitive Imperialism , '' Religion East and West -LRB- 2008 -RRB- ; `` Contemplative Studies : Can It Flourish in the Religious Studies Classroom ? '' Meditation and the Classroom : Contemplative Pedagogy for Religious Studies -LRB- 2011 -RRB- ; and `` A Pedagogy for the New Field of Contemplative Studies , '' Contemplative Approaches to Learning and Inquiry across Disciplines -LRB- 2014 -RRB- . In 2014 Brown University became the first major North American Research University to establish a formal undergraduate concentration -LRB- major -RRB- in Contemplative Studies . This pioneering multi-disciplinary concentration requires 14 courses including a core set of 5 required courses in relevant Brain Sciences and Humanities . Students then choose a Sciences track that features Cognitive Psychology and Neuroscience or a Humanities Track that features Philosophy of Mind and Contemplative Religious Traditions . Art concentrations within the Humanities Track are also possible .   Additionally , Roth has served these academic fields in a variety of ways . He served on the Board of Directors of the Society for the Study of Chinese Religions for a decade starting in 1993 , during which time he has also served on the editorial boards of four international journals of Daoism and Early Chinese Studies . In addition to this he was the founder and Co-Organizer of the New England Symposium on Chinese Thought -LRB- 1988 -- 93 -RRB- , the organizer of four academic panels at the Association for Asian Studies and American Oriental Society , and the Co-Organizer of the Second American-Japanese Conference on Taoist Studies -LRB- 1998 -RRB- . He has been a member of the initial Steering Committees for two groups within the American Academy of Religion , the Daoist Studies Section and the Contemplative Studies Group . He has been on the planning committees for the Mind and Life Institute Summer Research Institutes and the first and second International Symposia on Contemplative Studies -LRB- 2012 and 2014 -RRB- .   Finally , a long time student of the Rinzai Zen Master Kyozan Joshu Sasaki -LRB- 1907-2014 -RRB- , Roth was recently named to Chair the Publications Committee for Sasaki 's teaching materials . \"\n",
      " b'[START] poland is the th most visited country in the world as of . [END] This is a list of international prime ministerial trips made by Recep Tayyip Erdo\\xc4\\x9fan , the 27th Prime Minister of Turkey , after winning the elections of November 2 , 2002 and until he became the 12th President of Turkey on August 28 , 2014 . The summary includes trips made since he ascended to the Presidency . The official residence and principal workplace of the Prime Minister of Turkey is the Ba\\xc5\\x9fbakanl\\xc4\\xb1k Konutu , in Ankara .   Recep Tayyip Erdo\\xc4\\x9fan has made the largest number of trips to Germany , with the United States being the second most visited country partly due to attendance of meetings of the United Nations and other international organizations . The third most visited country is Belgium , due to issues concerning the European Union . The fourth most visited country by Erdo\\xc4\\x9fan is the neighbouring Azerbaijan .   Recep Tayyip Erdogan has conducted 300 trips during the course of his premiership . '\n",
      " b\"[START] shania twain is not a music artist . [END] Shania Twain , OC -LRB- -LSB- \\xca\\x83\\xc9\\x99\\xcb\\x88na\\xc9\\xaa.\\xc9\\x99 _ \\xcb\\x88twe\\xc9\\xaan -RSB- born Eilleen Regina Edwards ; August 28 , 1965 -RRB- is a Canadian singer and songwriter . Twain has sold over 85 million records , making her the best-selling female artist in the history of country music and one of the best-selling music artists of all time . Her success garnered her several honorific titles including the `` Queen of Country Pop '' .   Twain 's second album , 1995 's The Woman in Me , brought her widespread success selling 20 million copies worldwide , spawning hits such as `` Any Man of Mine '' and earning her a Grammy Award . Twain 's third album , Come On Over , became the best-selling studio album of all time by a female act in any genre and the best-selling country album , selling around 40 million copies worldwide . Come On Over produced several singles , including `` You 're Still the One '' , `` From This Moment On '' and `` Man ! I Feel Like a Woman ! '' , and earned Twain four Grammy Awards . Her fourth and latest studio album , Up ! , was released in 2002 and , like her previous two albums , was also certified Diamond in the U.S. , spawning hits like `` I 'm Gon na Getcha Good ! '' and `` Forever and for Always '' .   Twain has received five Grammy Awards , 27 BMI Songwriter awards , stars on Canada 's Walk of Fame and the Hollywood Walk of Fame , and an induction into the Canadian Music Hall of Fame . She is the only female artist in history to have three consecutive albums certified Diamond by the RIAA . Altogether , Twain is ranked as the 10th best-selling artist of the Nielsen SoundScan era .   In 2004 , Twain retired from performing and retreated to her home in Switzerland . In her 2011 autobiography , she cited a weakening singing voice as the reason for not performing publicly . When both her singing and speaking were affected , Twain consulted the Vanderbilt Dayani Center in Nashville . Specialists discovered lesions on her vocal cords and diagnosed her with dysphonia , all treatable with careful rehabilitation . In 2012 , Twain returned to the concert stage in her critically acclaimed show Still the One , exclusively at The Colosseum at Caesars Palace . In 2015 , Twain returned to the road for what she has billed as her farewell tour . The Rock This Country tour kicked off on June 5 , 2015 in Seattle , Washington and originally concluded in Fresno , California on August 23 but was extended to include additional dates and ended October 27 , 2015 in Kelowna , British Columbia , Canada . \"\n",
      " b\"[START] there is a movie called the hunger games . [END] The Hunger Games is a 2012 American dystopian science fiction adventure film directed by Gary Ross and based on the novel of the same name by Suzanne Collins . It is the first installment in The Hunger Games film series and was produced by Nina Jacobson and Jon Kilik , with a screenplay by Ross , Collins , and Billy Ray . The film stars Jennifer Lawrence , Josh Hutcherson , Liam Hemsworth , Woody Harrelson , Elizabeth Banks , Lenny Kravitz , Stanley Tucci , and Donald Sutherland . The story takes place in a dystopian post-apocalyptic future in the nation of Panem , where boys and girls between the ages of 12 and 18 must take part in the Hunger Games , a televised annual event in which the `` tributes '' are required to fight to the death until there is only one survivor . Katniss Everdeen -LRB- Lawrence -RRB- volunteers to take her younger sister 's place . Joined by her district 's male tribute , Peeta Mellark -LRB- Hutcherson -RRB- , Katniss travels to the Capitol to train for the Hunger Games under the guidance of former victor Haymitch Abernathy -LRB- Harrelson -RRB- .   Development of The Hunger Games began in March 2009 when Lions Gate Entertainment entered into a co-production agreement with Color Force , which had acquired the rights a few weeks earlier . Collins collaborated with Ray and Ross to write the screenplay . The screenplay expanded the character of Seneca Crane to allow several developments to be shown directly to the audience and Ross added several scenes between Crane and Coriolanus Snow . The main characters were cast between March and May 2011 . Principal photography began in May 2011 and ended in September 2011 , with filming taking place in North Carolina . The Hunger Games was shot entirely on film as opposed to digital .   The film was released on March 21 , 2012 , in some European countries and in the US on March 23 , 2012 , in both conventional theaters and digital IMAX theaters . Japan received it last , on September 28 . When the film released , it set records for opening day -LRB- $ 67.3 million -RRB- and opening weekend for a non-sequel . At the time of its release , the film 's opening weekend gross -LRB- $ 152.5 million -RRB- was the third-largest of any movie in North America . It is the first film since Avatar to remain in first place at the North American box office for four consecutive weekends . The film was a massive box-office success by grossing over $ 694 million worldwide against its budget of $ 78 million , making it the third-highest-grossing film in the United States and ninth-highest-grossing worldwide of 2012 . It was released on DVD and Blu-ray Disc on August 18 , 2012 . With 7,434,058 units sold , the DVD was the best-selling DVD of 2012 . A sequel , The Hunger Games : Catching Fire , was released on November 22 , 2013 , in the United States .   The Hunger Games received positive reviews from critics , with praise for its themes and messages , as well as Jennifer Lawrence 's portrayal of Katniss , though there was criticism of the film 's use of shaky cam in the action sequences . Like the novel , the film has been noted for its similarities to other works , such as Robert Sheckley 's short story `` Seventh Victim '' and its Italian film adaptation The 10th Victim , the Japanese novel Battle Royale and its film adaptation , and the Shirley Jackson short story `` The Lottery '' , with some criticizing The Hunger Games for being derivative of such works . Collins stated in an interview that her novel and screenplay drew on sources of inspiration such as the myth of Theseus , Roman gladiatorial games , reality television , and the desensitization of viewers to media coverage of real-life tragedy and war , not to think as just an audience member , `` Because those are real people on the screen , and they 're not going away when the commercials start to roll . '' The song `` Safe & Sound '' won a Grammy Award and was nominated for a Golden Globe Award for Best Original Song . For her performance , Lawrence won the Saturn Award for Best Actress , the Broadcast Film Critics Association Award for Best Actress in an Action Movie , the Empire Award for Best Actress and was also nominated for the New York Film Critics Circle Award for Best Actress . \"\n",
      " b\"[START] robbie collin edited the saint . [END] Robbie Collin is a British film critic .   Collin studied aesthetics and the philosophy of film at the University of St Andrews , Scotland , He edited the university 's student newspaper , The Saint .   Collin is chief film critic at The Daily Telegraph . From 2007 to 2009 he wrote a weekly film column for the News of the World until the newspaper 's closure in July 2011 . That year he was shortlisted for Critic of the Year at the British Press Awards .  He appeared on the Channel 4 Vue Film Show , presented by Edith Bowman , and contributed to the BBC Radio 2 Arts Show with Claudia Winkleman . In August 2013 he guest presented BBC Radio 4 's Film programme . In August 2014 , February 2015 , July -- August 2015 , February 2016 and in April 2016 he guest presented Kermode and Mayo 's Film Review , also with Edith Bowman . \"\n",
      " b\"[START] louis tomlinson was a founding member of a girl band . [END] Louis William Tomlinson -LRB- born Louis Troy Austin ; 24 December 1991 -RRB- is an English singer-songwriter and actor . He is known as a member of the pop boy band One Direction .   Tomlinson began his career as an actor , initially appearing in ITV drama Fat Friends as an extra . He also went on to appear in another ITV drama film If I Had You and the BBC drama Waterloo Road . In 2010 , he became a founding member of One Direction after auditioning as a solo artist on The X Factor . Following the band 's hiatus , Tomlinson released the single `` Just Hold On '' with Steve Aoki in December 2016 .   In 2013 , he was signed as a footballer by Doncaster Rovers of the Football League Championship on a non-contract basis . The same year he also formed his own record label , Triple Strings Ltd. . He appeared on Debrett 's 2017 list of the most influential people in the UK . \"\n",
      " b\"[START] will ferrell worked with david lynch . [END] Geeta Novotny -LRB- born Geeta Bhatnagar -RRB- is an American mezzo-soprano , actor , published writer and columnist . As a classical singer , Novotny has performed principal roles nationally with opera companies and symphony orchestras from the stages of New York City 's Carnegie Hall and the American Ballet Theatre at the Metropolitan Opera to the stages of the Los Angeles Opera and the Aspen Music Festival . Novotny has sung lead vocals on film soundtracks and has a career as a principal stage and film actor . She is also a project leader and roster artist for the charitable organization Sing For Hope . Novotny is an artist on the David Lynch Foundation Music Online Record Label which released an exclusive audio and video track of Novotny performing the beautiful classic song , the Gounod/Bach Ave Maria - with Andy Summers , the guitarist of the band The Police on electric guitar .   David Lynch Foundation Music Online Record Label  Novotny has been chosen to be a launching artist with the David Lynch Foundation Music Online Record Label . The David Lynch Foundation was born from David Lynch , the well-known director , writer , and producer whose credits include such films as Mulholland Drive and the television series Twin Peaks . The label has launched through the `` Download for Good '' campaign through Pledge Music which includes exclusive , previously unreleased tracks from musical artists donated to DLF Music in support of the mission of the David Lynch Foundation .   DLF Music has released an exclusive audio and video track of Novotny performing the Gounod / Bach Ave Maria with Andy Summers , the guitarist of the band The Police on electric guitar . Novotny and Summers have launched the DLFM Label with these other luminary artists : Maroon 5 , Moby , Neon Trees , Peter Gabriel , Ozomatli , Iggy Pop , Ben Folds , Arrested Development , Tom Waits , Slightly Stoopid with Don Carlos , Salman Ahmad featuring Valerie Geffner , Carmen Rizzo with Grant-Lee Phillips , Heather Nova , Mary Hopkin , Au Revoir Simone and Dave Stewart . All funds raised from these downloads will go to support the work of DLF in their global outreach , including teaching stress-reducing , health-promoting meditation to one million at-risk youth and 10,000 veterans with Posttraumatic stress disorder . \"\n",
      " b\"[START] cat on a hot tin roof features several recurring motifs , such as decay and death . [END] Cat on a Hot Tin Roof is a play by Tennessee Williams . One of Williams 's best-known works and his personal favorite , the play won the Pulitzer Prize for Drama in 1955 . Set in the `` plantation home in the Mississippi Delta '' of Big Daddy Pollitt , a wealthy cotton tycoon , the play examines the relationships among members of Big Daddy 's family , primarily between his son Brick and Maggie the `` Cat '' , Brick 's wife .   Cat on a Hot Tin Roof features several recurring motifs , such as social mores , greed , superficiality , mendacity , decay , sexual desire , repression , and death . Dialogue throughout is often rendered phonetically to represent accents of the Southern United States . The original production starred Barbara Bel Geddes , Burl Ives , and Ben Gazzara . The play was adapted as a motion picture of the same name in 1958 , starring Elizabeth Taylor and Paul Newman as Maggie and Brick , with Burl Ives and Madeleine Sherwood recreating their stage roles . Williams made substantial excisions and alterations to the play for a revival in 1974 . This has been the version used for most subsequent revivals , which have been numerous . \"\n",
      " b\"[START] robin thicke is married to flo rida . [END] American rapper Flo Rida has released four studio albums , four extended plays , 36 singles as a lead artist -LRB- 28 of which comprise featured appearances -RRB- , twelve promotional singles , and 24 music videos . Growing up in Florida , the state from which his name was derived , he was involved in a hip hop group in his teenage years . A solo demo recording initially met rejection from several label companies , but was eventually accepted by Poe Boy Entertainment , with whom Flo Rida was signed in 2006 .   His debut single `` Low '' featuring T-Pain was released in 2007 and reached number one in many countries , including Australia , Canada , Ireland , New Zealand and the United States . `` Low '' was featured on the track listing of the soundtrack to Step Up 2 : The Streets , and stayed atop the Billboard Hot 100 for ten weeks , going on to be certified five times platinum by the Recording Industry Association of America -LRB- RIAA -RRB- . The song was included on his debut album Mail on Sunday which peaked at number four on the Billboard 200 following its release in 2008 . Following singles `` Elevator '' featuring Timbaland , and `` In the Ayer '' featuring will.i.am both peaked within the top twenty in the five aforementioned countries . In the same year , a collaboration with Jessica Mauboy on `` Running Back '' reached number three in Australia , and was certified double platinum there .   In 2009 , Flo Rida released his second studio album R.O.O.T.S. ; its lead single `` Right Round '' topped the national charts of Canada , Germany , Ireland , and the United Kingdom , in addition to the American one , where it remained for six consecutive weeks . The single , which features Ke $ ha , was eventually certified 4 \\xc3\\x97 platinum in the US , and triple platinum in Australia , and Canada . Four additional singles were released from the album : `` Shone '' , `` Sugar '' featuring Wynter , `` Jump '' featuring Nelly Furtado , and `` Be on You '' featuring Ne-Yo ; `` Sugar '' and `` Be on You '' peaked in the top twenty of the Billboard Hot 100 . R.O.O.T.S. peaked at number 8 in the US and number 5 in the UK . In 2009 , Flo Rida also appeared on The X Factor winner Alexandra Burke 's `` Bad Boys '' , a number-one single in both Ireland , and the UK . The following year , a featured appearance on The Saturdays ' `` Higher '' managed to reach number 10 in the UK .   Flo Rida 's next two studio albums were announced in 2010 as a two-part oeuvre . Only One Flo -LRB- Part 1 -RRB- , which was released in November 2010 to showcase melodic talent , contains the David Guetta-assisted `` Club Ca n't Handle Me '' , a number one single in Ireland , and the UK . The album 's second single `` Turn Around -LRB- 5 , 4 , 3 , 2 , 1 -RRB- '' has reached the top 40 in Australia , and New Zealand , and third single `` Who Dat Girl '' featuring Akon has charted in several countries , including the top 30 in the US and the top 10 in Australia . Follow-up album Wild Ones -LRB- originally titled Only One Rida -LRB- Part 2 -RRB- -RRB- was released in July 2012 . It is Flo Rida 's most successful studio album , with a string of global top 5 hits , including `` Good Feeling '' , `` Wild Ones '' , `` Whistle '' and `` I Cry '' .   In 2015 , Flo Rida 's 2014 single `` G.D.F.R. '' peaked at number 8 on the Billboard ' Hot 100 and was certified double platinum by the RIAA . In 2016 , Flo Rida 's 2015 single `` My House '' peaked at number 4 on the Hot 100 making it his eleventh top 10 single . \"\n",
      " b\"[START] ethnic albanians shun the term albanian diaspora for those living outside southeastern europe . [END] Albanians -LRB- Shqiptar\\xc3\\xabt -RRB- are an ethnic group , native to Albania , Kosovo and neighboring countries . The term is also used to refer to the citizens of the Republic of Albania . Ethnic Albanians speak the Albanian language and more than half of ethnic Albanians live in Albania and Kosovo . A large Albanian population lives in the Republic of Macedonia and Italy , with smaller Albanian populations located in Serbia and Montenegro . The majority of Albanians are nominally Muslims -LRB- mainly Sunni , with a smaller Shia , Sufi and Bektashi component -RRB- , and a minority are nominally Christians -LRB- Catholic and Orthodox -RRB- .   Albanians produced many prominent figures such as Skanderbeg , leader of the medieval Albanian resistance to the Ottoman conquest and others during the Albanian National Awakening seeking self-determination . During the 17th and 18th century Albanians in large numbers converted to Islam , often to escape higher taxes levied on Christian subjects . As Muslims , some Albanians attained important political and military positions within the Ottoman Empire and culturally contributed to the wider Muslim world . Albania gained its independence in 1912 and between 1945 -- 1992 , Albanians lived under a repressive communist regime . Albanians within Yugoslavia underwent periods of discrimination and eventual self-determination that concluded with the breakup of that state in the early 1990s culminating with Albanians living in new countries and Kosovo . Outside the southwestern Balkans of where Albanians have traditionally been located , Albanian populations through the course of history have formed new communities contributing to the cultural , economic , social and political life of their host populations and countries while also at times assimilating too .   Between the 11th and 18th centuries , sizable numbers of Albanians migrated from the area of contemporary Albania to escape either various socio-political difficulties or the Ottoman conquest . One population which became the Arvanites settled down in southern Greece who starting from the 16th century though mainly during the 19th century onwards assimilated and today self identify as Greeks . Another population , who became the Arb\\xc3\\xabresh\\xc3\\xab settled in southern Italy and form the oldest continuous Albanian diaspora producing influential and many prominent figures . Smaller populations dating to migrations during the 18th century are located on Croatia 's Dalmatian coast and scattered communities across southern Ukraine .   The Albanian diaspora also exists in a number of other countries . One of these is located in Turkey . It was formed during the Ottoman era through economic migration and early years of the Turkish republic through migration for economic reasons and later sociopolitical circumstances of discrimination and violence experienced by Albanians in Balkan countries . Due to the Ottoman legacy , smaller populations of Albanians also exist in Egypt and the Levant , in particular Syria . In Western countries , a large and influential Albanian population exists in the United States formed from continuous emigration dating back to the 19th century . Other Albanians populations due to emigration between the 19th and 21th centuries are located in Australia , Argentina , New Zealand , Canada , Germany , Belgium , United Kingdom , France , Sweden , Switzerland , Slovenia , Croatia , Italy , Finland , Denmark , Norway , Austria , Netherlands , Bulgaria , Greece and Romania . \"\n",
      " b\"[START] marc maron hated the marc maron show . [END] Breakroom Live with Maron & Seder was an hourlong webcast that aired weekdays at 3 p.m. Eastern . Marc Maron and Sam Seder hosted the show from the actual break room at Air America Media in New York ; the show was evocative of past shows done by Maron and Seder on the network -- political commentary interspersed with comedic elements . Unlike the other shows the two have done -LRB- The Majority Report , The Marc Maron Show -RRB- , no calls were taken ; however , the two did chat with viewers during and after the show via email and instant messaging .   Breakroom Live was canceled abruptly on July 15 , 2009 . The show 's cancellation was announced on Sam Seder 's and Marc Maron 's Twitter accounts . \"\n",
      " b\"[START] patricia franklin was cast in saved . [END] Saved is a play by Edward Bond which premiered at the Royal Court Theatre , London in November 1965 .   The play itself is set in London during the 1960s . Its subject is the cultural poverty and frustration of a generation of young people on the dole and living on council estates . In response to the censorship of the play , Laurence Olivier wrote a letter to The Observer , saying that : `` Saved is not a play for children but it is for grown-ups , and the grown-ups of this country should have the courage to look at it . '' U.S. novelist Mary McCarthy praised its `` remarkable delicacy '' .   Saved was originally refused a licence without severe cuts by the Lord Chamberlain . When it was performed to large private audiences , the Lord Chamberlain decided to prosecute those who were involved in the production of the play . Although the defendants pleaded guilty and were fined , the case reflected badly on the censorship office and was pivotal in the abolition of theatre censorship a few years later in 1968 .   The original cast included John Castle , Tony Selby , Ronald Pickup , Dennis Waterman , William Stewart , Barbara Ferris , Lucy Fleming , Gwen Nelson and Alison Fraser . The creative team included : director William Gaskill and lighting by Eric Baker .   In February 1969 , after the abolition of censorship in the 1968 Theatres Act , Saved was given its first full public run at the Royal Court Theatre in London . The revival cast included : Malcolm Tierney -LRB- as Len -RRB- , Kenneth Cranham -LRB- as Fred -RRB- , Patricia Franklin -LRB- as Pam -RRB- , Queenie Watts -LRB- as Mary -RRB- , Tom Chadbon , Peter Blythe and William Gaskill was the director .   The play is rarely revived , though its theme of social disenfranchisement is seen by Bond as very relevant to the present day . In October 2011 , the play was revived in London for the first time in 27 years , at the Lyric Hammersmith , directed by Sean Holmes . \"\n",
      " b\"[START] the philadelphia museum of art contains major holdings of english origin . [END] The Philadelphia Museum of Art is an art museum originally chartered in 1876 for the Centennial Exposition in Philadelphia . The main museum building was completed in 1928 on Fairmount , a hill located at the northwest end of the Benjamin Franklin Parkway at Eakins Oval . The museum administers collections containing over 240,000 objects including major holdings of European , American and Asian origin . The various classes of artwork include sculpture , paintings , prints , drawings , photographs , armor and decorative arts . The attendance figure for the museum was 751,797 in 2015 , an increase of 17 % from the prior year , ranking it among the top one hundred most-visited art museums in the world . The museum is also one of the largest art museums in the world based on gallery space .   The Philadelphia Museum of Art administers several annexes including the Rodin Museum , also located on the Benjamin Franklin Parkway , and the Ruth and Raymond G. Perelman Building , which is located across the street just north of the main building . The Perelman Building , which opened in 2007 , houses more than 150,000 prints , drawings and photographs , along with 30,000 costume and textile pieces , and over 1,000 modern and contemporary design objects including furniture , ceramics and glasswork . The museum also administers the historic colonial-era houses of Mount Pleasant and Cedar Grove , both located in Fairmount Park . The main museum building and its annexes are owned by the City of Philadelphia and administered by a registered nonprofit corporation .   , the standard adult admission price is $ 20 which allows entrance to the main building and all annexes for two consecutive days . The museum is closed on Mondays except on some holidays . A special `` Pay What You Wish '' program is in effect on the first Sunday of each month from 10:00 a.m. -- 5:00 p.m. and every Wednesday evening from 5:00 -- 8:45 p.m. when visitors are requested to '' ... support us with whatever amount you wish . '' Several special exhibitions are held in the museum every year , including touring exhibitions arranged with other museums in the United States and abroad . Special exhibitions may have an extra charge for entrance . \"\n",
      " b\"[START] larry junstrom was in a pop band . [END] Lynyrd Skynyrd -LRB- pronounced -LSB- \\xcb\\x8cl\\xc9\\x9bn\\xc9\\x99rd_\\xcb\\x88sk\\xc9\\xaan\\xc9\\x99rd -RSB- -RRB- is an American rock band best known for popularizing the Southern rock genre during the 1970s . Originally formed in 1964 as My Backyard in Jacksonville , Florida , the band was also known by names such as The Noble Five and One Percent , before finally deciding on `` Lynyrd Skynyrd '' in 1969 . The band gained worldwide recognition for its live performances and signature songs `` Sweet Home Alabama '' and `` Free Bird '' . At the peak of their success , two band members and a backup singer died in an airplane crash in 1977 , putting an abrupt end to the band 's most popular incarnation . The band has sold 28 million records in the United States .   The surviving band members reformed in 1987 for a reunion tour with lead vocalist Johnny Van Zant , the younger brother of lead singer and founder Ronnie Van Zant . Lynyrd Skynyrd continues to tour and record with co-founder Gary Rossington , Johnny Van Zant , and guitarist Rickey Medlocke -- who first wrote and recorded with the band from 1971 to 1972 -LRB- before his return to Lynyrd Skynyrd in 1996 -RRB- . Fellow founding member Larry Junstrom , along with '70s members Ed King and Artimus Pyle , remain active in music but no longer tour or record with the band . Longtime drummer Michael Cartellone has recorded and toured with the band since 1999 . Lynyrd Skynyrd was inducted into the Rock and Roll Hall of Fame on March 13 , 2006 . \"\n",
      " b\"[START] alessia cara danced professionally with anton zaslavski . [END] `` Scars to Your Beautiful '' is a song by Canadian singer and songwriter Alessia Cara for her debut studio album , Know-It-All -LRB- 2015 -RRB- . It was released to Top 40 radio on July 26 , 2016 , as the third single from the album . It peaked at number eight and thus became Alessia Cara 's second top-ten single on US Billboard Hot 100 . The song was written by Cara , Warren Felder , Coleridge Tillman , and Andrew Wansel , with the production being handled by Felder , Tillman , and Wansel . \"\n",
      " b\"[START] the th g summit included france , germany , italy , japan , the united kingdom , the united states , canada , and the european comission . [END] The 19th G7 Summit was held in Tokyo , Japan , on July 7 -- 9 , 1993 . The venue for the summit meetings was the State Guesthouse in Tokyo , Japan .   The Group of Seven -LRB- G7 -RRB- was an unofficial forum which brought together the heads of the richest industrialized countries : France , Germany , Italy , Japan , the United Kingdom , the United States , Canada -LRB- since 1976 -RRB- and the President of the European Commission -LRB- starting officially in 1981 -RRB- . The summits were not meant to be linked formally with wider international institutions ; and in fact , a mild rebellion against the stiff formality of other international meetings was a part of the genesis of cooperation between France 's President Giscard d'Estaing and West Germany 's Chancellor Helmut Schmidt as they conceived the first Group of Six -LRB- G6 -RRB- summit in 1975 . \"\n",
      " b\"[START] alexander hamilton attended a college that is now called harvard university . [END] Alexander Hamilton -LRB- January 11 , 1755 or 1757July 12 , 1804 -RRB- was an American statesman and one of the Founding Fathers of the United States . He was an influential interpreter and promoter of the U.S. Constitution , as well as the founder of the nation 's financial system , the Federalist Party , the United States Coast Guard , and The New York Post newspaper . As the first Secretary of the Treasury , Hamilton was the main author of the economic policies of the George Washington administration . He took the lead in the funding of the states ' debts by the Federal government , as well as the establishment of a national bank , a system of tariffs , and friendly trade relations with Britain . His vision included a strong central government led by a vigorous executive branch , a strong commercial economy , with a national bank and support for manufacturing , plus a strong military . This was challenged by Virginia agrarians Thomas Jefferson and James Madison who formed a rival party . They favored strong states based in rural America and protected by state militias as opposed to a strong national army and navy . They denounced Hamilton as too friendly toward Britain and toward monarchy in general , and too oriented toward cities , business and banking .   Hamilton was born out of wedlock in Charlestown , Nevis to a married mother of English and French Huguenot ancestry and a Scottish father . His father , James A. Hamilton , was the fourth son of Alexander Hamilton , the laird of Grange , Ayrshire . Orphaned as a child by his mother 's death and his father 's abandonment , Hamilton was taken in by an older cousin and later by a prosperous merchant family . He was recognized for his intelligence and talent , and sponsored by a group of wealthy local men to travel to New York City to pursue his education . Hamilton attended King 's College -LRB- now Columbia University -RRB- , choosing to stay in the Thirteen Colonies to seek his fortune .   Discontinuing his studies before graduating when the college closed its doors during British occupation of the city , Hamilton played a major role in the American Revolutionary War . At the start of the war in 1775 , he joined a militia company . In early 1776 , he raised a provincial artillery company , to which he was appointed captain . He soon became the senior aide to General Washington , the American forces ' commander-in-chief . Hamilton was dispatched by Washington on numerous missions to convey plans to his generals . After the war , Hamilton was elected as a representative to the Congress of the Confederation from New York . He resigned to practice law , and founded the Bank of New York .   Hamilton was among those dissatisfied with the weak national government . He led the Annapolis Convention , which successfully influenced Congress to issue a call for the Philadelphia Convention in order to create a new constitution . He was an active participant at Philadelphia , and he helped achieve ratification by writing 51 of the 85 installments of The Federalist Papers which , to this day , are the single most important reference for Constitutional interpretation .   Hamilton became the leading cabinet member in the new government under President Washington . He was a nationalist who emphasized strong central government and successfully argued that the implied powers of the Constitution provided the legal authority to fund the national debt , assume states ' debts , and create the government-backed Bank of the United States . These programs were funded primarily by a tariff on imports , and later also by a highly controversial tax on whiskey . To overcome localism , Hamilton mobilized a nationwide network of friends of the government , especially bankers and businessmen , which became the Federalist Party . A major issue in the emergence of the American two-party system was the Jay Treaty , largely designed by Hamilton in 1794 . It established friendly trade relations with Britain , to the chagrin of France and the supporters of the French Revolution . Hamilton played a central role in the Federalist party , which dominated national and state politics until it lost the election of 1800 to Jefferson 's Democratic-Republican Party .   In 1795 , he returned to the practice of law in New York . He tried to control the policies of President Adams -LRB- 1797 -- 1801 -RRB- . In 1798 -- 99 , Hamilton called for mobilization against France after the XYZ Affair and became commander of a new army , which he readied for war . However , the Quasi-War was never officially declared and did not involve army action , though it was hard-fought at sea . In the end , President Adams found a diplomatic solution that avoided a war with France . Hamilton 's opposition to Adams ' re-election helped cause his defeat in the 1800 election . Jefferson and Aaron Burr tied for the presidency in the electoral college in 1801 , and Hamilton helped to defeat Burr , whom he found unprincipled , and to elect Jefferson despite philosophical differences .   Hamilton continued his legal and business activities in New York City , and was active in ending the legality of the international slave trade . Vice President Burr ran for governor of New York State in 1804 , and Hamilton crusaded against him as unworthy . Burr took offense and challenged him to a duel . Burr mortally wounded Hamilton , who died the next day . \"\n",
      " b\"[START] marilyn monroe worked with warner brothers . [END] Marilyn Monroe -LRB- 1926 -- 1962 -RRB- was an American actress .   Marilyn Monroe may also refer to :  `` Marilyn Monroe '' -LRB- Nicki Minaj song -RRB-  `` Marilyn Monroe '' -LRB- Pharrell Williams song -RRB-  `` Marilyn Monroe '' , a 1969 song by The Ian Campbell Folk Group  `` Marilyn Monroe '' , a 1992 song by Brianna Perry  `` Marilyn Monroe '' , a song by Phoebe Legere  `` Marilyn Monroe '' , a song from Blood Brothers \"], shape=(32,), dtype=string)\n"
     ]
    }
   ],
   "source": [
    "for d in ds.take(1):\n",
    "    print(d)"
   ]
  },
  {
   "cell_type": "code",
   "execution_count": 15,
   "metadata": {
    "collapsed": true,
    "jupyter": {
     "outputs_hidden": true
    },
    "tags": []
   },
   "outputs": [
    {
     "name": "stdout",
     "output_type": "stream",
     "text": [
      "Collecting tensorflow_text\n",
      "  Downloading tensorflow_text-2.5.0-cp38-cp38-manylinux1_x86_64.whl (4.3 MB)\n",
      "\u001b[K     |████████████████████████████████| 4.3 MB 2.9 MB/s eta 0:00:01\n",
      "\u001b[?25hCollecting tensorflow<2.6,>=2.5.0\n",
      "  Downloading tensorflow-2.5.0-cp38-cp38-manylinux2010_x86_64.whl (454.4 MB)\n",
      "\u001b[K     |████████████████████████████████| 454.4 MB 79 kB/s  eta 0:00:011   |█                               | 14.9 MB 4.8 MB/s eta 0:01:31     |██▎                             | 32.7 MB 6.6 MB/s eta 0:01:04     |████▍                           | 63.0 MB 2.5 MB/s eta 0:02:34     |█████████▏                      | 130.5 MB 12.6 MB/s eta 0:00:26     |█████████▎                      | 131.2 MB 12.6 MB/s eta 0:00:26     |█████████████████████▏          | 301.3 MB 911 kB/s eta 0:02:49     |█████████████████████▉          | 309.9 MB 10.4 MB/s eta 0:00:14     |█████████████████████████▉      | 367.6 MB 4.4 MB/s eta 0:00:20     |██████████████████████████▏     | 372.1 MB 11.0 MB/s eta 0:00:08\n",
      "\u001b[?25hCollecting tensorflow-hub>=0.8.0\n",
      "  Downloading tensorflow_hub-0.12.0-py2.py3-none-any.whl (108 kB)\n",
      "\u001b[K     |████████████████████████████████| 108 kB 10.3 MB/s eta 0:00:01\n",
      "\u001b[?25hCollecting tensorflow-estimator<2.6.0,>=2.5.0rc0\n",
      "  Downloading tensorflow_estimator-2.5.0-py2.py3-none-any.whl (462 kB)\n",
      "\u001b[K     |████████████████████████████████| 462 kB 4.8 MB/s eta 0:00:01\n",
      "\u001b[?25hRequirement already satisfied: typing-extensions~=3.7.4 in /root/anaconda3/lib/python3.8/site-packages (from tensorflow<2.6,>=2.5.0->tensorflow_text) (3.7.4.3)\n",
      "Requirement already satisfied: six~=1.15.0 in /root/anaconda3/lib/python3.8/site-packages (from tensorflow<2.6,>=2.5.0->tensorflow_text) (1.15.0)\n",
      "Requirement already satisfied: wheel~=0.35 in /root/anaconda3/lib/python3.8/site-packages (from tensorflow<2.6,>=2.5.0->tensorflow_text) (0.35.1)\n",
      "Requirement already satisfied: absl-py~=0.10 in /root/anaconda3/lib/python3.8/site-packages (from tensorflow<2.6,>=2.5.0->tensorflow_text) (0.13.0)\n",
      "Requirement already satisfied: termcolor~=1.1.0 in /root/anaconda3/lib/python3.8/site-packages (from tensorflow<2.6,>=2.5.0->tensorflow_text) (1.1.0)\n",
      "Requirement already satisfied: numpy~=1.19.2 in /root/anaconda3/lib/python3.8/site-packages (from tensorflow<2.6,>=2.5.0->tensorflow_text) (1.19.2)\n",
      "Requirement already satisfied: tensorboard~=2.5 in /root/anaconda3/lib/python3.8/site-packages (from tensorflow<2.6,>=2.5.0->tensorflow_text) (2.5.0)\n",
      "Requirement already satisfied: google-pasta~=0.2 in /root/anaconda3/lib/python3.8/site-packages (from tensorflow<2.6,>=2.5.0->tensorflow_text) (0.2.0)\n",
      "Requirement already satisfied: protobuf>=3.9.2 in /root/anaconda3/lib/python3.8/site-packages (from tensorflow<2.6,>=2.5.0->tensorflow_text) (3.17.3)\n",
      "Collecting grpcio~=1.34.0\n",
      "  Downloading grpcio-1.34.1-cp38-cp38-manylinux2014_x86_64.whl (4.0 MB)\n",
      "\u001b[K     |████████████████████████████████| 4.0 MB 3.1 MB/s eta 0:00:01\n",
      "\u001b[?25hRequirement already satisfied: opt-einsum~=3.3.0 in /root/anaconda3/lib/python3.8/site-packages (from tensorflow<2.6,>=2.5.0->tensorflow_text) (3.3.0)\n",
      "Requirement already satisfied: keras-preprocessing~=1.1.2 in /root/anaconda3/lib/python3.8/site-packages (from tensorflow<2.6,>=2.5.0->tensorflow_text) (1.1.2)\n",
      "Requirement already satisfied: flatbuffers~=1.12.0 in /root/anaconda3/lib/python3.8/site-packages (from tensorflow<2.6,>=2.5.0->tensorflow_text) (1.12)\n",
      "Requirement already satisfied: wrapt~=1.12.1 in /root/anaconda3/lib/python3.8/site-packages (from tensorflow<2.6,>=2.5.0->tensorflow_text) (1.12.1)\n",
      "Collecting keras-nightly~=2.5.0.dev\n",
      "  Downloading keras_nightly-2.5.0.dev2021032900-py2.py3-none-any.whl (1.2 MB)\n",
      "\u001b[K     |████████████████████████████████| 1.2 MB 5.8 MB/s eta 0:00:01\n",
      "\u001b[?25hCollecting gast==0.4.0\n",
      "  Downloading gast-0.4.0-py3-none-any.whl (9.8 kB)\n",
      "Requirement already satisfied: astunparse~=1.6.3 in /root/anaconda3/lib/python3.8/site-packages (from tensorflow<2.6,>=2.5.0->tensorflow_text) (1.6.3)\n",
      "Collecting h5py~=3.1.0\n",
      "  Downloading h5py-3.1.0-cp38-cp38-manylinux1_x86_64.whl (4.4 MB)\n",
      "\u001b[K     |████████████████████████████████| 4.4 MB 6.0 MB/s eta 0:00:01\n",
      "\u001b[?25hRequirement already satisfied: setuptools>=41.0.0 in /root/anaconda3/lib/python3.8/site-packages (from tensorboard~=2.5->tensorflow<2.6,>=2.5.0->tensorflow_text) (50.3.1.post20201107)\n",
      "Requirement already satisfied: tensorboard-data-server<0.7.0,>=0.6.0 in /root/anaconda3/lib/python3.8/site-packages (from tensorboard~=2.5->tensorflow<2.6,>=2.5.0->tensorflow_text) (0.6.1)\n",
      "Requirement already satisfied: tensorboard-plugin-wit>=1.6.0 in /root/anaconda3/lib/python3.8/site-packages (from tensorboard~=2.5->tensorflow<2.6,>=2.5.0->tensorflow_text) (1.8.0)\n",
      "Requirement already satisfied: google-auth<2,>=1.6.3 in /root/anaconda3/lib/python3.8/site-packages (from tensorboard~=2.5->tensorflow<2.6,>=2.5.0->tensorflow_text) (1.32.0)\n",
      "Requirement already satisfied: werkzeug>=0.11.15 in /root/anaconda3/lib/python3.8/site-packages (from tensorboard~=2.5->tensorflow<2.6,>=2.5.0->tensorflow_text) (1.0.1)\n",
      "Requirement already satisfied: markdown>=2.6.8 in /root/anaconda3/lib/python3.8/site-packages (from tensorboard~=2.5->tensorflow<2.6,>=2.5.0->tensorflow_text) (3.3.4)\n",
      "Requirement already satisfied: google-auth-oauthlib<0.5,>=0.4.1 in /root/anaconda3/lib/python3.8/site-packages (from tensorboard~=2.5->tensorflow<2.6,>=2.5.0->tensorflow_text) (0.4.4)\n",
      "Requirement already satisfied: requests<3,>=2.21.0 in /root/anaconda3/lib/python3.8/site-packages (from tensorboard~=2.5->tensorflow<2.6,>=2.5.0->tensorflow_text) (2.24.0)\n",
      "Requirement already satisfied: rsa<5,>=3.1.4 in /root/anaconda3/lib/python3.8/site-packages (from google-auth<2,>=1.6.3->tensorboard~=2.5->tensorflow<2.6,>=2.5.0->tensorflow_text) (4.7.2)\n",
      "Requirement already satisfied: pyasn1-modules>=0.2.1 in /root/anaconda3/lib/python3.8/site-packages (from google-auth<2,>=1.6.3->tensorboard~=2.5->tensorflow<2.6,>=2.5.0->tensorflow_text) (0.2.8)\n",
      "Requirement already satisfied: cachetools<5.0,>=2.0.0 in /root/anaconda3/lib/python3.8/site-packages (from google-auth<2,>=1.6.3->tensorboard~=2.5->tensorflow<2.6,>=2.5.0->tensorflow_text) (4.2.2)\n",
      "Requirement already satisfied: requests-oauthlib>=0.7.0 in /root/anaconda3/lib/python3.8/site-packages (from google-auth-oauthlib<0.5,>=0.4.1->tensorboard~=2.5->tensorflow<2.6,>=2.5.0->tensorflow_text) (1.3.0)\n",
      "Requirement already satisfied: pyasn1<0.5.0,>=0.4.6 in /root/anaconda3/lib/python3.8/site-packages (from pyasn1-modules>=0.2.1->google-auth<2,>=1.6.3->tensorboard~=2.5->tensorflow<2.6,>=2.5.0->tensorflow_text) (0.4.8)\n",
      "Requirement already satisfied: certifi>=2017.4.17 in /root/anaconda3/lib/python3.8/site-packages (from requests<3,>=2.21.0->tensorboard~=2.5->tensorflow<2.6,>=2.5.0->tensorflow_text) (2020.6.20)\n",
      "Requirement already satisfied: idna<3,>=2.5 in /root/anaconda3/lib/python3.8/site-packages (from requests<3,>=2.21.0->tensorboard~=2.5->tensorflow<2.6,>=2.5.0->tensorflow_text) (2.10)\n",
      "Requirement already satisfied: chardet<4,>=3.0.2 in /root/anaconda3/lib/python3.8/site-packages (from requests<3,>=2.21.0->tensorboard~=2.5->tensorflow<2.6,>=2.5.0->tensorflow_text) (3.0.4)\n",
      "Requirement already satisfied: urllib3!=1.25.0,!=1.25.1,<1.26,>=1.21.1 in /root/anaconda3/lib/python3.8/site-packages (from requests<3,>=2.21.0->tensorboard~=2.5->tensorflow<2.6,>=2.5.0->tensorflow_text) (1.25.11)\n",
      "Requirement already satisfied: oauthlib>=3.0.0 in /root/anaconda3/lib/python3.8/site-packages (from requests-oauthlib>=0.7.0->google-auth-oauthlib<0.5,>=0.4.1->tensorboard~=2.5->tensorflow<2.6,>=2.5.0->tensorflow_text) (3.1.1)\n",
      "Installing collected packages: grpcio, tensorflow-estimator, keras-nightly, h5py, gast, tensorflow-hub, tensorflow, tensorflow-text\n",
      "  Attempting uninstall: grpcio\n",
      "    Found existing installation: grpcio 1.32.0\n",
      "    Uninstalling grpcio-1.32.0:\n",
      "      Successfully uninstalled grpcio-1.32.0\n",
      "  Attempting uninstall: tensorflow-estimator\n",
      "    Found existing installation: tensorflow-estimator 2.4.0\n",
      "    Uninstalling tensorflow-estimator-2.4.0:\n",
      "      Successfully uninstalled tensorflow-estimator-2.4.0\n",
      "  Attempting uninstall: h5py\n",
      "    Found existing installation: h5py 2.10.0\n",
      "    Uninstalling h5py-2.10.0:\n",
      "      Successfully uninstalled h5py-2.10.0\n",
      "  Attempting uninstall: gast\n",
      "    Found existing installation: gast 0.3.3\n",
      "    Uninstalling gast-0.3.3:\n",
      "      Successfully uninstalled gast-0.3.3\n",
      "  Attempting uninstall: tensorflow\n",
      "    Found existing installation: tensorflow 2.4.1\n",
      "    Uninstalling tensorflow-2.4.1:\n",
      "      Successfully uninstalled tensorflow-2.4.1\n",
      "Successfully installed gast-0.4.0 grpcio-1.34.1 h5py-3.1.0 keras-nightly-2.5.0.dev2021032900 tensorflow-2.5.0 tensorflow-estimator-2.5.0 tensorflow-hub-0.12.0 tensorflow-text-2.5.0\n",
      "\u001b[33mWARNING: Running pip as the 'root' user can result in broken permissions and conflicting behaviour with the system package manager. It is recommended to use a virtual environment instead: https://pip.pypa.io/warnings/venv\u001b[0m\n",
      "Note: you may need to restart the kernel to use updated packages.\n"
     ]
    }
   ],
   "source": [
    "#pip install tensorflow_text"
   ]
  },
  {
   "cell_type": "code",
   "execution_count": 19,
   "metadata": {},
   "outputs": [],
   "source": [
    "from tensorflow_text.tools.wordpiece_vocab import bert_vocab_from_dataset as bert_vocab"
   ]
  },
  {
   "cell_type": "code",
   "execution_count": 20,
   "metadata": {},
   "outputs": [],
   "source": [
    "bert_tokenizer_params=dict(lower_case=True)\n",
    "reserved_tokens=[\"[PAD]\", \"[UNK]\", \"[START]\", \"[END]\"]\n",
    "bert_vocab_args = dict(\n",
    "    # The target vocabulary size\n",
    "    vocab_size = 8000,\n",
    "    # Reserved tokens that must be included in the vocabulary\n",
    "    reserved_tokens=reserved_tokens,\n",
    "    # Arguments for `text.BertTokenizer`\n",
    "    bert_tokenizer_params=bert_tokenizer_params,\n",
    "    # Arguments for `wordpiece_vocab.wordpiece_tokenizer_learner_lib.learn`\n",
    "    learn_params={},\n",
    ")"
   ]
  },
  {
   "cell_type": "code",
   "execution_count": 60,
   "metadata": {},
   "outputs": [
    {
     "name": "stdout",
     "output_type": "stream",
     "text": [
      "CPU times: user 11min 3s, sys: 37.1 s, total: 11min 40s\n",
      "Wall time: 10min 52s\n"
     ]
    }
   ],
   "source": [
    "%%time\n",
    "pt_vocab = bert_vocab.bert_vocab_from_dataset(\n",
    "    ds.batch(1000).prefetch(2),\n",
    "    **bert_vocab_args\n",
    ")"
   ]
  },
  {
   "cell_type": "code",
   "execution_count": 61,
   "metadata": {},
   "outputs": [
    {
     "name": "stdout",
     "output_type": "stream",
     "text": [
      "['[PAD]', '[UNK]', '[START]', '[END]', '!', '\"', '#', '$', '%', '&']\n",
      "['ɕ', 'ɖ', 'ə', 'ɚ', 'ɛ', 'ɜ', 'ɝ', 'ɟ', 'ɡ', 'ɣ']\n"
     ]
    }
   ],
   "source": [
    "print(pt_vocab[:10])\n",
    "print(pt_vocab[100:110])"
   ]
  },
  {
   "cell_type": "code",
   "execution_count": 62,
   "metadata": {},
   "outputs": [],
   "source": [
    "def write_vocab_file(filepath, vocab):\n",
    "    print(\"Saving vocab file to {}\".format(filepath))\n",
    "    with open(filepath, 'w') as f:\n",
    "        for token in vocab:\n",
    "            print(token, file=f)"
   ]
  },
  {
   "cell_type": "code",
   "execution_count": 63,
   "metadata": {},
   "outputs": [
    {
     "name": "stdout",
     "output_type": "stream",
     "text": [
      "Saving vocab file to working/data/fever_vocab.txt\n"
     ]
    }
   ],
   "source": [
    "vocab_file_out = 'working/data/fever_vocab.txt'\n",
    "write_vocab_file(vocab_file_out, pt_vocab)"
   ]
  },
  {
   "cell_type": "code",
   "execution_count": 64,
   "metadata": {},
   "outputs": [
    {
     "name": "stdout",
     "output_type": "stream",
     "text": [
      "7860\n"
     ]
    }
   ],
   "source": [
    "print(len(pt_vocab))"
   ]
  },
  {
   "cell_type": "code",
   "execution_count": 4,
   "metadata": {},
   "outputs": [
    {
     "name": "stdout",
     "output_type": "stream",
     "text": [
      "7860 working/data/fever_vocab.txt\n"
     ]
    }
   ],
   "source": [
    "!wc -l working/data/fever_vocab.txt"
   ]
  },
  {
   "cell_type": "code",
   "execution_count": 60,
   "metadata": {},
   "outputs": [
    {
     "name": "stdout",
     "output_type": "stream",
     "text": [
      "[PAD]\n",
      "[UNK]\n",
      "[START]\n",
      "[END]\n",
      "!\n",
      "\"\n",
      "#\n",
      "$\n",
      "%\n",
      "&\n"
     ]
    }
   ],
   "source": [
    "!head -10 working/data/fever_vocab.txt"
   ]
  },
  {
   "cell_type": "markdown",
   "metadata": {},
   "source": [
    "#### Load the vocab and initialize the tokenizer"
   ]
  },
  {
   "cell_type": "code",
   "execution_count": 291,
   "metadata": {},
   "outputs": [],
   "source": [
    "import tensorflow_text as text\n",
    "bert_tokenizer_params=dict(lower_case=True)\n",
    "vocab_file_out = 'working/data/fever_vocab.txt'\n",
    "pt_tokenizer = text.BertTokenizer(vocab_file_out, **bert_tokenizer_params)"
   ]
  },
  {
   "cell_type": "code",
   "execution_count": 292,
   "metadata": {
    "tags": []
   },
   "outputs": [
    {
     "name": "stdout",
     "output_type": "stream",
     "text": [
      "tf.Tensor(b\"[START] nikolaj coster waldau worked with the fox broadcasting company . [END] The Fox Broadcasting Company -LRB- often shortened to Fox and stylized as FOX -RRB- is an American English language commercial broadcast television network that is owned by the Fox Entertainment Group subsidiary of 21st Century Fox . The network is headquartered at the 20th Century Fox studio lot on Pico Boulevard in the Century City section of Los Angeles , with additional major offices and production facilities at the Fox Television Center in nearby West Los Angeles and the Fox Broadcasting Center in the Yorkville neighborhood of Manhattan , New York City . It is the third largest major television network in the world based on total revenues , assets , and international coverage .   Launched on October 9 , 1986 as a competitor to the Big Three television networks -LRB- ABC , NBC and CBS -RRB- , Fox went on to become the most successful attempt at a fourth television network . It was the highest-rated broadcast network in the 18 -- 49 demographic from 2004 to 2012 , and earned the position as the most-watched American television network in total viewership during the 2007 -- 08 season .   Fox and its affiliated companies operate many entertainment channels in international markets , although these do not necessarily air the same programming as the U.S. network . Most viewers in Canada have access to at least one U.S.-based Fox affiliate , either over-the-air or through a pay television provider , although Fox 's National Football League telecasts and most of its prime time programming are subject to simultaneous substitution regulations for cable and satellite providers imposed by the Canadian Radio-television and Telecommunications Commission -LRB- CRTC -RRB- to protect rights held by domestically based networks .   The network is named after sister company 20th Century Fox , and indirectly for producer William Fox , who founded one of the movie studio 's predecessors , Fox Film . Fox is a member of the North American Broadcasters Association and the National Association of Broadcasters .  Nikolaj Coster-Waldau -LRB- -LSB- ne\\xc9\\xa1\\xcc\\x8aola\\xc9\\xaa\\xcc\\xaf k\\xca\\xb0\\xca\\x8csd\\xcc\\xa5\\xc9\\x90 \\xcb\\x88\\xca\\x8bald\\xcc\\xa5\\xc9\\x91\\xca\\x8a\\xcc\\xaf -RSB- ; born 27 July 1970 -RRB- is a Danish actor , producer and screenwriter . He graduated from Danish National School of Theatre in Copenhagen in 1993 . Coster-Waldau 's breakthrough performance in Denmark was his role in the film Nightwatch -LRB- 1994 -RRB- . Since then he has appeared in numerous films in his native Scandinavia and Europe in general , including Headhunters -LRB- 2011 -RRB- and A Thousand Times Good Night -LRB- 2013 -RRB- .   In the United States , his debut film role was in the war film Black Hawk Down -LRB- 2001 -RRB- , playing Medal of Honor recipient Gary Gordon . He then played Detective John Amsterdam in the short-lived Fox television series New Amsterdam -LRB- 2008 -RRB- , as well as appearing as Frank Pike in the 2009 Fox television film Virtuality , originally intended as a pilot . He became widely known to a broad audience for his current role as Ser Jaime Lannister , in the HBO series Game of Thrones . In 2017 , he became one of the highest paid actors on television and earned # 2 million per episode of Game of Thrones . \", shape=(), dtype=string)\n"
     ]
    }
   ],
   "source": [
    "for d in get_dataset().take(1):\n",
    "    print(d)"
   ]
  },
  {
   "cell_type": "code",
   "execution_count": 293,
   "metadata": {},
   "outputs": [],
   "source": [
    "from sklearn import preprocessing\n",
    "\n",
    "labels = [d['label_text'] for d in formatted_train_data]\n",
    "le = preprocessing.LabelEncoder()\n",
    "le.fit(labels)\n",
    "labels_enc = le.transform(labels)"
   ]
  },
  {
   "cell_type": "code",
   "execution_count": 294,
   "metadata": {},
   "outputs": [
    {
     "name": "stdout",
     "output_type": "stream",
     "text": [
      "A peek a the reshaped labels:\n",
      "[[0. 0. 1.]\n",
      " [0. 0. 1.]\n",
      " [0. 0. 1.]\n",
      " [0. 1. 0.]\n",
      " [1. 0. 0.]]\n",
      "The datatypes of the training dataset, features=<class 'numpy.ndarray'>, labels=<class 'numpy.ndarray'>\n"
     ]
    }
   ],
   "source": [
    "train_labels = np.zeros(shape=(len(labels_enc),3))\n",
    "for idx, val in enumerate(labels_enc):\n",
    "    train_labels[idx][val]=1\n",
    "print(\"A peek a the reshaped labels:\")\n",
    "print(train_labels[:5])\n",
    "print(\"The datatypes of the training dataset, features={}, labels={}\".format(type(labels_enc), type(train_labels)))"
   ]
  },
  {
   "cell_type": "code",
   "execution_count": 295,
   "metadata": {},
   "outputs": [
    {
     "data": {
      "text/plain": [
       "<TensorSliceDataset shapes: (3,), types: tf.int32>"
      ]
     },
     "execution_count": 295,
     "metadata": {},
     "output_type": "execute_result"
    }
   ],
   "source": [
    "lbls = tf.reshape(tf.convert_to_tensor(train_labels, dtype=tf.int32), (train_labels.shape))\n",
    "lbls_ds = tf.data.Dataset.from_tensor_slices(lbls)\n",
    "lbls_ds"
   ]
  },
  {
   "cell_type": "code",
   "execution_count": 296,
   "metadata": {},
   "outputs": [],
   "source": [
    "import numpy as np\n",
    "import tensorflow as tf\n",
    "def get_train_data_generator():\n",
    "    for data in formatted_train_data:\n",
    "        claim = preprocess(data[\"claim\"])\n",
    "#         body_ids = [e[0] for e in data[\"evidence\"]]\n",
    "#         bodies = [database.get_doc_text(id) for id in set(body_ids)]\n",
    "        lines = [get_doc_line(d[0],d[1]) for d in data[\"evidence\"]]\n",
    "        yield claim, \" \".join(lines)\n",
    "        \n",
    "def get_train_dataset():\n",
    "    generator = lambda: get_train_data_generator()\n",
    "    return tf.data.Dataset.from_generator(\n",
    "            generator, output_signature=(\n",
    "            tf.TensorSpec(shape=(2, ), dtype=tf.string)))"
   ]
  },
  {
   "cell_type": "code",
   "execution_count": 297,
   "metadata": {},
   "outputs": [],
   "source": [
    "raw_ds = get_train_dataset()"
   ]
  },
  {
   "cell_type": "code",
   "execution_count": 298,
   "metadata": {},
   "outputs": [
    {
     "name": "stdout",
     "output_type": "stream",
     "text": [
      "tf.Tensor(b'[START] nikolaj coster waldau worked with the fox broadcasting company . [END]', shape=(), dtype=string)\n",
      ".....\n",
      "\n",
      "\n",
      "tf.Tensor(b'He then played Detective John Amsterdam in the short-lived Fox television series New Amsterdam -LRB- 2008 -RRB- , as well as appearing as Frank Pike in the 2009 Fox television film Virtuality , originally intended as a pilot . The Fox Broadcasting Company -LRB- often shortened to Fox and stylized as FOX -RRB- is an American English language commercial broadcast television network that is owned by the Fox Entertainment Group subsidiary of 21st Century Fox .', shape=(), dtype=string)\n",
      "tf.Tensor(b'[START] roman atwood is a content creator . [END]', shape=(), dtype=string)\n",
      ".....\n",
      "\n",
      "\n",
      "tf.Tensor(b\"He is best known for his vlogs , where he posts updates about his life on a daily basis . He also has another YouTube channel called `` RomanAtwood '' , where he posts pranks .\", shape=(), dtype=string)\n"
     ]
    }
   ],
   "source": [
    "for h,e in raw_ds.take(2):\n",
    "    print(h)\n",
    "    print(\".....\\n\\n\")\n",
    "    print(e)"
   ]
  },
  {
   "cell_type": "code",
   "execution_count": 299,
   "metadata": {},
   "outputs": [
    {
     "name": "stdout",
     "output_type": "stream",
     "text": [
      "(TensorSpec(shape=(2,), dtype=tf.string, name=None), TensorSpec(shape=(3,), dtype=tf.int32, name=None))\n"
     ]
    }
   ],
   "source": [
    "raw_ds_enc_labls = tf.data.Dataset.zip((raw_ds, lbls_ds))\n",
    "print(raw_ds_enc_labls.element_spec)"
   ]
  },
  {
   "cell_type": "code",
   "execution_count": null,
   "metadata": {},
   "outputs": [],
   "source": []
  },
  {
   "cell_type": "markdown",
   "metadata": {},
   "source": [
    "#### Dev dataset"
   ]
  },
  {
   "cell_type": "code",
   "execution_count": 300,
   "metadata": {},
   "outputs": [],
   "source": [
    "import numpy as np\n",
    "import tensorflow as tf\n",
    "def get_dev_data_generator():\n",
    "    for data in dev_data_formatted:\n",
    "        claim = preprocess(data[\"claim\"])\n",
    "#         body_ids = [e[0] for e in data[\"evidence\"]]\n",
    "#         bodies = [database.get_doc_text(id) for id in set(body_ids)]\n",
    "        lines = [get_doc_line(d[0],d[1]) for d in data[\"evidence\"]]\n",
    "        yield claim, \" \".join(lines)\n",
    "        \n",
    "def get_dev_dataset():\n",
    "    generator = lambda: get_dev_data_generator()\n",
    "    return tf.data.Dataset.from_generator(\n",
    "            generator, output_signature=(\n",
    "            tf.TensorSpec(shape=(2, ), dtype=tf.string)))"
   ]
  },
  {
   "cell_type": "code",
   "execution_count": 301,
   "metadata": {},
   "outputs": [],
   "source": [
    "dev_ds = get_dev_dataset()"
   ]
  },
  {
   "cell_type": "code",
   "execution_count": 302,
   "metadata": {},
   "outputs": [],
   "source": [
    "labels = [d['label_text'] for d in dev_data_formatted]\n",
    "labels_enc = le.transform(labels)"
   ]
  },
  {
   "cell_type": "code",
   "execution_count": 303,
   "metadata": {},
   "outputs": [
    {
     "name": "stdout",
     "output_type": "stream",
     "text": [
      "A peek a the reshaped labels:\n",
      "[[1. 0. 0.]\n",
      " [1. 0. 0.]\n",
      " [0. 0. 1.]\n",
      " [1. 0. 0.]\n",
      " [0. 1. 0.]]\n",
      "The datatypes of the training dataset, features=<class 'numpy.ndarray'>, labels=<class 'numpy.ndarray'>\n"
     ]
    }
   ],
   "source": [
    "dev_labels = np.zeros(shape=(len(labels_enc),3))\n",
    "for idx, val in enumerate(labels_enc):\n",
    "    dev_labels[idx][val]=1\n",
    "print(\"A peek a the reshaped labels:\")\n",
    "print(dev_labels[:5])\n",
    "print(\"The datatypes of the training dataset, features={}, labels={}\".format(type(labels_enc), type(dev_labels)))"
   ]
  },
  {
   "cell_type": "code",
   "execution_count": 304,
   "metadata": {},
   "outputs": [
    {
     "name": "stdout",
     "output_type": "stream",
     "text": [
      "tf.Tensor(\n",
      "[[1 0 0]\n",
      " [1 0 0]\n",
      " [0 0 1]\n",
      " ...\n",
      " [1 0 0]\n",
      " [1 0 0]\n",
      " [1 0 0]], shape=(9999, 3), dtype=int32)\n"
     ]
    },
    {
     "data": {
      "text/plain": [
       "<TensorSliceDataset shapes: (3,), types: tf.int32>"
      ]
     },
     "execution_count": 304,
     "metadata": {},
     "output_type": "execute_result"
    }
   ],
   "source": [
    "lbls = tf.reshape(tf.convert_to_tensor(dev_labels, dtype=tf.int32), (dev_labels.shape))\n",
    "print(lbls)\n",
    "dev_lbls_ds = tf.data.Dataset.from_tensor_slices(lbls)\n",
    "dev_lbls_ds"
   ]
  },
  {
   "cell_type": "code",
   "execution_count": 305,
   "metadata": {},
   "outputs": [
    {
     "name": "stdout",
     "output_type": "stream",
     "text": [
      "(TensorSpec(shape=(2,), dtype=tf.string, name=None), TensorSpec(shape=(3,), dtype=tf.int32, name=None))\n"
     ]
    }
   ],
   "source": [
    "dev_ds_enc_labls = tf.data.Dataset.zip((dev_ds, dev_lbls_ds))\n",
    "print(dev_ds_enc_labls.element_spec)"
   ]
  },
  {
   "cell_type": "markdown",
   "metadata": {},
   "source": [
    "#### Test Dataset\n",
    "\n",
    "There is a special step here where we would be required to sample lines from matching docs for the test dataset.\n",
    "Given a claim, we need to find the closest docs and within those docs we would need to find the closest lines.\n",
    "\n",
    "Let's write a routine for that."
   ]
  },
  {
   "cell_type": "code",
   "execution_count": 307,
   "metadata": {},
   "outputs": [],
   "source": [
    "import numpy as np\n",
    "import math\n",
    "\n",
    "class RankArgs:\n",
    "    def __init__(self):\n",
    "        self.ngram = 2\n",
    "        self.hash_size = int(math.pow(2,24))\n",
    "        self.tokenizer = \"simple\"\n",
    "        self.num_workers = None\n",
    "args = RankArgs()\n",
    "\n",
    "def get_doc_line_test(data_map):\n",
    "    \n",
    "    docs, claims = data_map\n",
    "    claim = claims[-1]\n",
    "    print(docs)\n",
    "    \n",
    "    lines = database.get_doc_lines(doc)\n",
    "    \n",
    "    ### if this is from annotated evidences\n",
    "    if line > -1: #we will not hit this for the test dataset, we have cleared off all the page indices from the test dataset\n",
    "        return lines.split(\"\\n\")[line].split(\"\\t\")[1] #get all the lines from the document and match with the line ids that were annotated as evidence by the human annotators\n",
    "    elif line <= -2:\n",
    "        #TODO: nearest 5 sentences from the document\n",
    "        non_empty_lines = [line.split(\"\\t\")[1] for line in lines.split(\"\\n\") if len(line.split(\"\\t\"))>1 and len(line.split(\"\\t\")[1].strip())]\n",
    "        tfidf = OnlineTfidfDocRanker(args,[line for line in non_empty_lines],None)\n",
    "        line_ids,scores = tfidf.closest_docs(claim,5)\n",
    "        return non_empty_lines[SimpleRandom.get_instance().next_rand(0,len(non_empty_lines)-1)]\n",
    "    else: ### if this is from not enough info evidences, NearestP method, to sample \"a\" single sentence randomly from the nearest page match\n",
    "        non_empty_lines = [line.split(\"\\t\")[1] for line in lines.split(\"\\n\") if len(line.split(\"\\t\"))>1 and len(line.split(\"\\t\")[1].strip())]\n",
    "        return non_empty_lines[SimpleRandom.get_instance().next_rand(0,len(non_empty_lines)-1)]\n",
    "    \n",
    "\n",
    "def find_nearest(claim_doc):\n",
    "    claim, evidence = claim_doc\n",
    "    doc = evidence[0]\n",
    "    tag = evidence[1]\n",
    "    lines = database.get_doc_lines(doc)\n",
    "    non_empty_lines = [line.split(\"\\t\")[1] for line in lines.split(\"\\n\") if len(line.split(\"\\t\"))>1 and len(line.split(\"\\t\")[1].strip())]\n",
    "    if tag == -2:\n",
    "        tfidf = OnlineTfidfDocRanker(args,[line for line in non_empty_lines],None)\n",
    "        res = tfidf.closest_docs(claim, 5)\n",
    "        line_ids,scores = tfidf.closest_docs(claim, 5)\n",
    "        return np.array(non_empty_lines)[line_ids]\n",
    "    else:\n",
    "        return non_empty_lines[SimpleRandom.get_instance().next_rand(0,len(non_empty_lines)-1)]\n",
    "    \n",
    "    \n",
    "    \n",
    "def tfidf_claim(data_map):\n",
    "    #print(data_map)\n",
    "#     docs = data['docs']\n",
    "#     claim = data['claim']\n",
    "    claims, doc = data_map\n",
    "    claim = claims[-1]\n",
    "    #print(docs)\n",
    "#     print(docs)\n",
    "    ranked_lines = []\n",
    "    for doc in docs:\n",
    "        lines = database.get_doc_lines(doc)\n",
    "        non_empty_lines = [line.split(\"\\t\")[1] for line in lines.split(\"\\n\") if len(line.split(\"\\t\"))>1 and len(line.split(\"\\t\")[1].strip())]\n",
    "        tfidf = OnlineTfidfDocRanker(args,[line for line in non_empty_lines],None)\n",
    "        print(non_empty_lines)\n",
    "        print(\".....\")\n",
    "        print(claim)\n",
    "        line_ids,scores = tfidf.closest_docs(claim, 5)\n",
    "#         print(line_ids)\n",
    "#         print(non_empty_lines)\n",
    "        ranked_lines.extend(np.array(non_empty_lines)[line_ids])\n",
    "    return ranked_lines\n",
    "\n",
    "def find_nearest_lines(data):\n",
    "    claim = data['claim']\n",
    "    claims = [claim for i in range(len(data['evidence']))]\n",
    "    with ThreadPool(4) as threads:\n",
    "        results = threads.map(find_nearest, zip(claims, data['evidence']))\n",
    "    return results"
   ]
  },
  {
   "cell_type": "code",
   "execution_count": 78,
   "metadata": {},
   "outputs": [
    {
     "data": {
      "text/plain": [
       "[['testing line'], ['testing line'], ['testing line']]"
      ]
     },
     "execution_count": 78,
     "metadata": {},
     "output_type": "execute_result"
    }
   ],
   "source": [
    "a = ['testing line']\n",
    "[a for i in range()]"
   ]
  },
  {
   "cell_type": "code",
   "execution_count": 130,
   "metadata": {},
   "outputs": [
    {
     "name": "stdout",
     "output_type": "stream",
     "text": [
      "[('Emblem_of_the_Ukrainian_Soviet_Socialist_Republic', -2), ('Flag_of_the_Moldavian_Autonomous_Soviet_Socialist_Republic', -2), ('Flag_of_the_Moldavian_Autonomous_Soviet_Socialist_Republic', -2), ('Ukrainian_Republic', -2), ('List_of_Presidents_of_Ukraine', -2), ('United_Nations_General_Assembly_Resolution_377', -2), ('United_Nations_General_Assembly_Resolution_377', -2)]\n"
     ]
    }
   ],
   "source": [
    "d = test_data_formatted[1:2][0]\n",
    "#[(c, e) for c,e in zip(d['claim'], d['evidence'])]\n",
    "d['claim']\n",
    "print(d['evidence'])"
   ]
  },
  {
   "cell_type": "code",
   "execution_count": 261,
   "metadata": {
    "tags": []
   },
   "outputs": [
    {
     "name": "stdout",
     "output_type": "stream",
     "text": [
      "CPU times: user 14.8 s, sys: 7.75 s, total: 22.5 s\n",
      "Wall time: 6.72 s\n"
     ]
    }
   ],
   "source": [
    "%%time\n",
    "lines = find_nearest_lines(test_data_formatted[1:2][0])"
   ]
  },
  {
   "cell_type": "code",
   "execution_count": 236,
   "metadata": {
    "tags": []
   },
   "outputs": [
    {
     "data": {
      "text/plain": [
       "['Air-powered -LRB- pneumatic -RRB- , where compressed air is directed to the gun by hoses , the air pressure serving to force the grease through the aperture .',\n",
       " array([], dtype='<U261'),\n",
       " array([], dtype='<U304'),\n",
       " array([], dtype='<U139'),\n",
       " array([], dtype='<U258')]"
      ]
     },
     "execution_count": 236,
     "metadata": {},
     "output_type": "execute_result"
    }
   ],
   "source": [
    "lines"
   ]
  },
  {
   "cell_type": "code",
   "execution_count": 237,
   "metadata": {},
   "outputs": [
    {
     "data": {
      "text/plain": [
       "5"
      ]
     },
     "execution_count": 237,
     "metadata": {},
     "output_type": "execute_result"
    }
   ],
   "source": [
    "len(lines)"
   ]
  },
  {
   "cell_type": "code",
   "execution_count": 262,
   "metadata": {
    "collapsed": true,
    "jupyter": {
     "outputs_hidden": true
    },
    "tags": []
   },
   "outputs": [
    {
     "name": "stdout",
     "output_type": "stream",
     "text": [
      "['The coat of arms of the Ukrainian Soviet Socialist Republic was adopted on March 14 , 1919 by the government of the Ukrainian Soviet Socialist Republic and subsequently modified on November 7 , 1928 , January 30 , 1937 and November 21 , 1949 .'\n",
      " \"The rising sun stands for the future of the Soviet Ukrainian nation , the star as well as the hammer and sickle for the victory of communism and the `` world-wide socialist community of states '' .\"\n",
      " \"The name of the Ukrainian SSR is shown only in Ukrainian , and reads '' Українська PCP '' .\"\n",
      " \"The banner bears the Soviet Union state motto -LRB- `` Workers of the world , unite ! '' -RRB-\"\n",
      " 'in both the Ukrainian and Russian languages .']\n",
      "...\n",
      "5\n",
      "['This flag went out of use on 2 August 1940 , when the Moldavian ASSR was abolished , its territory being divided between the newly created Moldavian Soviet Socialist Republic and the Ukrainian Soviet Socialist Republic .'\n",
      " 'The flag of the Moldavian Autonomous Soviet Socialist Republic was created in 1925 , when the Congress of the Soviets throughout Ukraine approved the Constitution of the Moldavian ASSR , on 10 May .'\n",
      " \"State Flag of the Moldavian ASSR is the flag of Ukrainian SSR , which consists of a red cloth , which has on the upper left corner , near the hoist , a gold hammer and sickle and the letters `` USSR '' in Ukrainian and Moldovan , and below the `` USSR '' initials , with a smaller font , `` Moldavian ASSR '' in Ukrainian and Moldovan . ''\"\n",
      " \"Thus , in Section VII , Article 48 , the Constitution stipulated that : `` The Moldavian ASSR has its own state emblem and flag , set by the Moldavian Central Executive Committee and confirmed by the Ukrainian Central Executive Committee '' .\"\n",
      " \"On 4 September 1925 , the Presidium of the Central Executive Committee of the Moldavian ASSR discussed the issue `` the contest for drafting the emblem and flag and its jury , consisting of representatives of top party bodies and authorities of the Republic '' .\"]\n",
      "...\n",
      "5\n",
      "['This flag went out of use on 2 August 1940 , when the Moldavian ASSR was abolished , its territory being divided between the newly created Moldavian Soviet Socialist Republic and the Ukrainian Soviet Socialist Republic .'\n",
      " 'The flag of the Moldavian Autonomous Soviet Socialist Republic was created in 1925 , when the Congress of the Soviets throughout Ukraine approved the Constitution of the Moldavian ASSR , on 10 May .'\n",
      " \"State Flag of the Moldavian ASSR is the flag of Ukrainian SSR , which consists of a red cloth , which has on the upper left corner , near the hoist , a gold hammer and sickle and the letters `` USSR '' in Ukrainian and Moldovan , and below the `` USSR '' initials , with a smaller font , `` Moldavian ASSR '' in Ukrainian and Moldovan . ''\"\n",
      " \"Thus , in Section VII , Article 48 , the Constitution stipulated that : `` The Moldavian ASSR has its own state emblem and flag , set by the Moldavian Central Executive Committee and confirmed by the Ukrainian Central Executive Committee '' .\"\n",
      " \"On 4 September 1925 , the Presidium of the Central Executive Committee of the Moldavian ASSR discussed the issue `` the contest for drafting the emblem and flag and its jury , consisting of representatives of top party bodies and authorities of the Republic '' .\"]\n",
      "...\n",
      "5\n",
      "['Ukrainian Republic as Ukrainian Soviet Socialist Republic , 1937 -- 1991 ;'\n",
      " \"Ukrainian Republic as Ukrainian Soviet Republic , Ukrainian People 's Republic of Soviets , 1917 -- 1919 ;\"\n",
      " 'Ukrainian Republic as Ukrainian Socialist Soviet Republic , 1919 -- 1937 ;']\n",
      "...\n",
      "3\n",
      "[\"The modern Ukrainian presidency was formed when the Verkhovna Rada of the Ukrainian Soviet Socialist Republic passed a law on 5 July 1991 establishing the office of the `` President of the Ukrainian Soviet Socialist Republic . ''\"\n",
      " \"Upon the proclamation of Ukrainian independence from the Soviet Union on 24 August 1991 , the title was changed to the `` President of Ukraine . ''\"\n",
      " 'After the 2014 Ukrainian revolution , Viktor Yanukovych abandoned his office and fled the country .']\n",
      "...\n",
      "3\n",
      "[\"The Uniting for Peace resolution -- also known as the `` Acheson Plan '' -- was adopted 3 November 1950 , after fourteen days of Assembly discussions , by a vote of 52 to 5 -LRB- Czechoslovakia , Poland , the Ukrainian Soviet Socialist Republic , the Union of Soviet Socialist Republics and the Byelorussian Soviet Socialist Republic -RRB- , with 2 abstentions -LRB- India and Argentina -RRB- .\"\n",
      " \"To facilitate prompt action by the General Assembly in the case of a dead-locked Security Council , the resolution created the mechanism of the `` emergency special session '' -LRB- ESS -RRB- , which can be called upon the basis of either a procedural vote in the Security Council , or within twenty-four hours of a request by a majority of UN Members being received by the Secretary-General .\"\n",
      " \"While the `` emergency special session '' framework was established by resolution A/RES/377 A , the UN Charter always contained provisions for `` special sessions '' , which , according to the General Assembly 's current `` Rules of Procedure '' , can be called within fifteen days of a request being received by the Secretary-General .\"]\n",
      "...\n",
      "3\n",
      "[\"The Uniting for Peace resolution -- also known as the `` Acheson Plan '' -- was adopted 3 November 1950 , after fourteen days of Assembly discussions , by a vote of 52 to 5 -LRB- Czechoslovakia , Poland , the Ukrainian Soviet Socialist Republic , the Union of Soviet Socialist Republics and the Byelorussian Soviet Socialist Republic -RRB- , with 2 abstentions -LRB- India and Argentina -RRB- .\"\n",
      " \"To facilitate prompt action by the General Assembly in the case of a dead-locked Security Council , the resolution created the mechanism of the `` emergency special session '' -LRB- ESS -RRB- , which can be called upon the basis of either a procedural vote in the Security Council , or within twenty-four hours of a request by a majority of UN Members being received by the Secretary-General .\"\n",
      " \"While the `` emergency special session '' framework was established by resolution A/RES/377 A , the UN Charter always contained provisions for `` special sessions '' , which , according to the General Assembly 's current `` Rules of Procedure '' , can be called within fifteen days of a request being received by the Secretary-General .\"]\n",
      "...\n",
      "3\n"
     ]
    }
   ],
   "source": [
    "lns = np.array([])\n",
    "for l in lines:\n",
    "    print(l)\n",
    "    print('...')\n",
    "    print(len(l))\n",
    "    if len(l)>0:\n",
    "        lns = np.append(lns, l)"
   ]
  },
  {
   "cell_type": "code",
   "execution_count": 267,
   "metadata": {
    "collapsed": true,
    "jupyter": {
     "outputs_hidden": true
    },
    "tags": []
   },
   "outputs": [
    {
     "data": {
      "text/plain": [
       "\"The coat of arms of the Ukrainian Soviet Socialist Republic was adopted on March 14 , 1919 by the government of the Ukrainian Soviet Socialist Republic and subsequently modified on November 7 , 1928 , January 30 , 1937 and November 21 , 1949 . The rising sun stands for the future of the Soviet Ukrainian nation , the star as well as the hammer and sickle for the victory of communism and the `` world-wide socialist community of states '' . The name of the Ukrainian SSR is shown only in Ukrainian , and reads '' Українська PCP '' . The banner bears the Soviet Union state motto -LRB- `` Workers of the world , unite ! '' -RRB- in both the Ukrainian and Russian languages . This flag went out of use on 2 August 1940 , when the Moldavian ASSR was abolished , its territory being divided between the newly created Moldavian Soviet Socialist Republic and the Ukrainian Soviet Socialist Republic . The flag of the Moldavian Autonomous Soviet Socialist Republic was created in 1925 , when the Congress of the Soviets throughout Ukraine approved the Constitution of the Moldavian ASSR , on 10 May . State Flag of the Moldavian ASSR is the flag of Ukrainian SSR , which consists of a red cloth , which has on the upper left corner , near the hoist , a gold hammer and sickle and the letters `` USSR '' in Ukrainian and Moldovan , and below the `` USSR '' initials , with a smaller font , `` Moldavian ASSR '' in Ukrainian and Moldovan . '' Thus , in Section VII , Article 48 , the Constitution stipulated that : `` The Moldavian ASSR has its own state emblem and flag , set by the Moldavian Central Executive Committee and confirmed by the Ukrainian Central Executive Committee '' . On 4 September 1925 , the Presidium of the Central Executive Committee of the Moldavian ASSR discussed the issue `` the contest for drafting the emblem and flag and its jury , consisting of representatives of top party bodies and authorities of the Republic '' . This flag went out of use on 2 August 1940 , when the Moldavian ASSR was abolished , its territory being divided between the newly created Moldavian Soviet Socialist Republic and the Ukrainian Soviet Socialist Republic . The flag of the Moldavian Autonomous Soviet Socialist Republic was created in 1925 , when the Congress of the Soviets throughout Ukraine approved the Constitution of the Moldavian ASSR , on 10 May . State Flag of the Moldavian ASSR is the flag of Ukrainian SSR , which consists of a red cloth , which has on the upper left corner , near the hoist , a gold hammer and sickle and the letters `` USSR '' in Ukrainian and Moldovan , and below the `` USSR '' initials , with a smaller font , `` Moldavian ASSR '' in Ukrainian and Moldovan . '' Thus , in Section VII , Article 48 , the Constitution stipulated that : `` The Moldavian ASSR has its own state emblem and flag , set by the Moldavian Central Executive Committee and confirmed by the Ukrainian Central Executive Committee '' . On 4 September 1925 , the Presidium of the Central Executive Committee of the Moldavian ASSR discussed the issue `` the contest for drafting the emblem and flag and its jury , consisting of representatives of top party bodies and authorities of the Republic '' . Ukrainian Republic as Ukrainian Soviet Socialist Republic , 1937 -- 1991 ; Ukrainian Republic as Ukrainian Soviet Republic , Ukrainian People 's Republic of Soviets , 1917 -- 1919 ; Ukrainian Republic as Ukrainian Socialist Soviet Republic , 1919 -- 1937 ; The modern Ukrainian presidency was formed when the Verkhovna Rada of the Ukrainian Soviet Socialist Republic passed a law on 5 July 1991 establishing the office of the `` President of the Ukrainian Soviet Socialist Republic . '' Upon the proclamation of Ukrainian independence from the Soviet Union on 24 August 1991 , the title was changed to the `` President of Ukraine . '' After the 2014 Ukrainian revolution , Viktor Yanukovych abandoned his office and fled the country . The Uniting for Peace resolution -- also known as the `` Acheson Plan '' -- was adopted 3 November 1950 , after fourteen days of Assembly discussions , by a vote of 52 to 5 -LRB- Czechoslovakia , Poland , the Ukrainian Soviet Socialist Republic , the Union of Soviet Socialist Republics and the Byelorussian Soviet Socialist Republic -RRB- , with 2 abstentions -LRB- India and Argentina -RRB- . To facilitate prompt action by the General Assembly in the case of a dead-locked Security Council , the resolution created the mechanism of the `` emergency special session '' -LRB- ESS -RRB- , which can be called upon the basis of either a procedural vote in the Security Council , or within twenty-four hours of a request by a majority of UN Members being received by the Secretary-General . While the `` emergency special session '' framework was established by resolution A/RES/377 A , the UN Charter always contained provisions for `` special sessions '' , which , according to the General Assembly 's current `` Rules of Procedure '' , can be called within fifteen days of a request being received by the Secretary-General . The Uniting for Peace resolution -- also known as the `` Acheson Plan '' -- was adopted 3 November 1950 , after fourteen days of Assembly discussions , by a vote of 52 to 5 -LRB- Czechoslovakia , Poland , the Ukrainian Soviet Socialist Republic , the Union of Soviet Socialist Republics and the Byelorussian Soviet Socialist Republic -RRB- , with 2 abstentions -LRB- India and Argentina -RRB- . To facilitate prompt action by the General Assembly in the case of a dead-locked Security Council , the resolution created the mechanism of the `` emergency special session '' -LRB- ESS -RRB- , which can be called upon the basis of either a procedural vote in the Security Council , or within twenty-four hours of a request by a majority of UN Members being received by the Secretary-General . While the `` emergency special session '' framework was established by resolution A/RES/377 A , the UN Charter always contained provisions for `` special sessions '' , which , according to the General Assembly 's current `` Rules of Procedure '' , can be called within fifteen days of a request being received by the Secretary-General .\""
      ]
     },
     "execution_count": 267,
     "metadata": {},
     "output_type": "execute_result"
    }
   ],
   "source": [
    "\" \".join(lns)"
   ]
  },
  {
   "cell_type": "code",
   "execution_count": 308,
   "metadata": {},
   "outputs": [],
   "source": [
    "import numpy as np\n",
    "import tensorflow as tf\n",
    "def get_test_data_generator():\n",
    "    for data in test_data_formatted:\n",
    "        claim = preprocess(data[\"claim\"])\n",
    "        lns = find_nearest_lines(data)\n",
    "        lines = np.array([])\n",
    "        for l in lns:\n",
    "            lines = np.append(lines, l)\n",
    "        #lines = [get_doc_line(d[0],d[1]) for d in data[\"evidence\"]]\n",
    "        yield claim, \" \".join(lines)\n",
    "        \n",
    "def get_test_dataset():\n",
    "    generator = lambda: get_test_data_generator()\n",
    "    return tf.data.Dataset.from_generator(\n",
    "            generator, output_signature=(\n",
    "            tf.TensorSpec(shape=(2, ), dtype=tf.string)))"
   ]
  },
  {
   "cell_type": "code",
   "execution_count": 309,
   "metadata": {},
   "outputs": [
    {
     "data": {
      "text/plain": [
       "<FlatMapDataset shapes: (2,), types: tf.string>"
      ]
     },
     "execution_count": 309,
     "metadata": {},
     "output_type": "execute_result"
    }
   ],
   "source": [
    "tst = get_test_dataset()\n",
    "tst"
   ]
  },
  {
   "cell_type": "code",
   "execution_count": 274,
   "metadata": {
    "collapsed": true,
    "jupyter": {
     "outputs_hidden": true
    },
    "tags": []
   },
   "outputs": [
    {
     "name": "stdout",
     "output_type": "stream",
     "text": [
      "tf.Tensor(\n",
      "[b'[START] grease had bad reviews . [END]'\n",
      " b'The aperture may be of a type that fits closely with a receiving aperture on any number of mechanical devices .'], shape=(2,), dtype=string)\n",
      "tf.Tensor(\n",
      "[b'[START] ukrainian soviet socialist republic was a founding participant of the un . [END]'\n",
      " b\"The coat of arms of the Ukrainian Soviet Socialist Republic was adopted on March 14 , 1919 by the government of the Ukrainian Soviet Socialist Republic and subsequently modified on November 7 , 1928 , January 30 , 1937 and November 21 , 1949 . The rising sun stands for the future of the Soviet Ukrainian nation , the star as well as the hammer and sickle for the victory of communism and the `` world-wide socialist community of states '' . The name of the Ukrainian SSR is shown only in Ukrainian , and reads '' \\xd0\\xa3\\xd0\\xba\\xd1\\x80\\xd0\\xb0\\xd1\\x97\\xd0\\xbd\\xd1\\x81\\xd1\\x8c\\xd0\\xba\\xd0\\xb0 PCP '' . The banner bears the Soviet Union state motto -LRB- `` Workers of the world , unite ! '' -RRB- in both the Ukrainian and Russian languages . This flag went out of use on 2 August 1940 , when the Moldavian ASSR was abolished , its territory being divided between the newly created Moldavian Soviet Socialist Republic and the Ukrainian Soviet Socialist Republic . The flag of the Moldavian Autonomous Soviet Socialist Republic was created in 1925 , when the Congress of the Soviets throughout Ukraine approved the Constitution of the Moldavian ASSR , on 10 May . State Flag of the Moldavian ASSR is the flag of Ukrainian SSR , which consists of a red cloth , which has on the upper left corner , near the hoist , a gold hammer and sickle and the letters `` USSR '' in Ukrainian and Moldovan , and below the `` USSR '' initials , with a smaller font , `` Moldavian ASSR '' in Ukrainian and Moldovan . '' Thus , in Section VII , Article 48 , the Constitution stipulated that : `` The Moldavian ASSR has its own state emblem and flag , set by the Moldavian Central Executive Committee and confirmed by the Ukrainian Central Executive Committee '' . On 4 September 1925 , the Presidium of the Central Executive Committee of the Moldavian ASSR discussed the issue `` the contest for drafting the emblem and flag and its jury , consisting of representatives of top party bodies and authorities of the Republic '' . This flag went out of use on 2 August 1940 , when the Moldavian ASSR was abolished , its territory being divided between the newly created Moldavian Soviet Socialist Republic and the Ukrainian Soviet Socialist Republic . The flag of the Moldavian Autonomous Soviet Socialist Republic was created in 1925 , when the Congress of the Soviets throughout Ukraine approved the Constitution of the Moldavian ASSR , on 10 May . State Flag of the Moldavian ASSR is the flag of Ukrainian SSR , which consists of a red cloth , which has on the upper left corner , near the hoist , a gold hammer and sickle and the letters `` USSR '' in Ukrainian and Moldovan , and below the `` USSR '' initials , with a smaller font , `` Moldavian ASSR '' in Ukrainian and Moldovan . '' Thus , in Section VII , Article 48 , the Constitution stipulated that : `` The Moldavian ASSR has its own state emblem and flag , set by the Moldavian Central Executive Committee and confirmed by the Ukrainian Central Executive Committee '' . On 4 September 1925 , the Presidium of the Central Executive Committee of the Moldavian ASSR discussed the issue `` the contest for drafting the emblem and flag and its jury , consisting of representatives of top party bodies and authorities of the Republic '' . Ukrainian Republic as Ukrainian Soviet Socialist Republic , 1937 -- 1991 ; Ukrainian Republic as Ukrainian Soviet Republic , Ukrainian People 's Republic of Soviets , 1917 -- 1919 ; Ukrainian Republic as Ukrainian Socialist Soviet Republic , 1919 -- 1937 ; The modern Ukrainian presidency was formed when the Verkhovna Rada of the Ukrainian Soviet Socialist Republic passed a law on 5 July 1991 establishing the office of the `` President of the Ukrainian Soviet Socialist Republic . '' Upon the proclamation of Ukrainian independence from the Soviet Union on 24 August 1991 , the title was changed to the `` President of Ukraine . '' After the 2014 Ukrainian revolution , Viktor Yanukovych abandoned his office and fled the country . The Uniting for Peace resolution -- also known as the `` Acheson Plan '' -- was adopted 3 November 1950 , after fourteen days of Assembly discussions , by a vote of 52 to 5 -LRB- Czechoslovakia , Poland , the Ukrainian Soviet Socialist Republic , the Union of Soviet Socialist Republics and the Byelorussian Soviet Socialist Republic -RRB- , with 2 abstentions -LRB- India and Argentina -RRB- . To facilitate prompt action by the General Assembly in the case of a dead-locked Security Council , the resolution created the mechanism of the `` emergency special session '' -LRB- ESS -RRB- , which can be called upon the basis of either a procedural vote in the Security Council , or within twenty-four hours of a request by a majority of UN Members being received by the Secretary-General . While the `` emergency special session '' framework was established by resolution A/RES/377 A , the UN Charter always contained provisions for `` special sessions '' , which , according to the General Assembly 's current `` Rules of Procedure '' , can be called within fifteen days of a request being received by the Secretary-General . The Uniting for Peace resolution -- also known as the `` Acheson Plan '' -- was adopted 3 November 1950 , after fourteen days of Assembly discussions , by a vote of 52 to 5 -LRB- Czechoslovakia , Poland , the Ukrainian Soviet Socialist Republic , the Union of Soviet Socialist Republics and the Byelorussian Soviet Socialist Republic -RRB- , with 2 abstentions -LRB- India and Argentina -RRB- . To facilitate prompt action by the General Assembly in the case of a dead-locked Security Council , the resolution created the mechanism of the `` emergency special session '' -LRB- ESS -RRB- , which can be called upon the basis of either a procedural vote in the Security Council , or within twenty-four hours of a request by a majority of UN Members being received by the Secretary-General . While the `` emergency special session '' framework was established by resolution A/RES/377 A , the UN Charter always contained provisions for `` special sessions '' , which , according to the General Assembly 's current `` Rules of Procedure '' , can be called within fifteen days of a request being received by the Secretary-General .\"], shape=(2,), dtype=string)\n"
     ]
    }
   ],
   "source": [
    "for t in tst.take(2):\n",
    "    print(t)"
   ]
  },
  {
   "cell_type": "code",
   "execution_count": 310,
   "metadata": {
    "tags": []
   },
   "outputs": [
    {
     "data": {
      "text/plain": [
       "array(['NOT ENOUGH INFO', 'REFUTES', 'SUPPORTS'], dtype='<U15')"
      ]
     },
     "execution_count": 310,
     "metadata": {},
     "output_type": "execute_result"
    }
   ],
   "source": [
    "labels = [d['label_text'] for d in test_data_formatted]\n",
    "labels_enc = le.transform(labels)\n",
    "le.classes_"
   ]
  },
  {
   "cell_type": "code",
   "execution_count": 311,
   "metadata": {},
   "outputs": [
    {
     "name": "stdout",
     "output_type": "stream",
     "text": [
      "A peek a the reshaped labels:\n",
      "[[1. 0. 0.]\n",
      " [0. 0. 1.]\n",
      " [0. 0. 1.]\n",
      " [0. 1. 0.]\n",
      " [1. 0. 0.]]\n",
      "The datatypes of the training dataset, features=<class 'numpy.ndarray'>, labels=<class 'numpy.ndarray'>\n",
      "tf.Tensor(\n",
      "[[1 0 0]\n",
      " [0 0 1]\n",
      " [0 0 1]\n",
      " ...\n",
      " [0 0 1]\n",
      " [1 0 0]\n",
      " [0 1 0]], shape=(9999, 3), dtype=int32)\n",
      "TensorSpec(shape=(3,), dtype=tf.int32, name=None)\n",
      "(TensorSpec(shape=(2,), dtype=tf.string, name=None), TensorSpec(shape=(3,), dtype=tf.int32, name=None))\n"
     ]
    }
   ],
   "source": [
    "test_ds = get_test_dataset()\n",
    "labels = [d['label_text'] for d in test_data_formatted]\n",
    "labels_enc = le.transform(labels)\n",
    "test_labels = np.zeros(shape=(len(labels_enc),3))\n",
    "for idx, val in enumerate(labels_enc):\n",
    "    test_labels[idx][val]=1\n",
    "print(\"A peek a the reshaped labels:\")\n",
    "print(test_labels[:5])\n",
    "print(\"The datatypes of the training dataset, features={}, labels={}\".format(type(labels_enc), type(test_labels)))\n",
    "lbls = tf.reshape(tf.convert_to_tensor(test_labels, dtype=tf.int32), (test_labels.shape))\n",
    "print(lbls)\n",
    "test_lbls_ds = tf.data.Dataset.from_tensor_slices(lbls)\n",
    "print(test_lbls_ds.element_spec)\n",
    "## generate the zipped dataset, with features and labels\n",
    "test_ds_enc_labls = tf.data.Dataset.zip((test_ds, test_lbls_ds))\n",
    "print(test_ds_enc_labls.element_spec)"
   ]
  },
  {
   "cell_type": "markdown",
   "metadata": {},
   "source": [
    "#### Test if we got eveything right"
   ]
  },
  {
   "cell_type": "code",
   "execution_count": 312,
   "metadata": {},
   "outputs": [
    {
     "name": "stdout",
     "output_type": "stream",
     "text": [
      "tf.Tensor(b'[START] grease had bad reviews . [END]', shape=(), dtype=string)\n",
      "........\n",
      "\n",
      "\n",
      "tf.Tensor(b'The channels behind the grease nipple lead to where the lubrication is needed .', shape=(), dtype=string)\n",
      "........\n",
      "\n",
      "\n",
      "tf.Tensor([1 0 0], shape=(3,), dtype=int32)\n"
     ]
    }
   ],
   "source": [
    "for d, e in test_ds_enc_labls.take(1):\n",
    "    print(d[0])\n",
    "    print(\"........\\n\\n\")\n",
    "    print(d[1])\n",
    "    print(\"........\\n\\n\")\n",
    "    print(e)"
   ]
  },
  {
   "cell_type": "markdown",
   "metadata": {},
   "source": [
    "#### Build the sequences"
   ]
  },
  {
   "cell_type": "code",
   "execution_count": 313,
   "metadata": {},
   "outputs": [
    {
     "name": "stdout",
     "output_type": "stream",
     "text": [
      "tf.Tensor(b'[START] nikolaj coster waldau worked with the fox broadcasting company . [END]', shape=(), dtype=string)\n",
      "........\n",
      "\n",
      "\n",
      "tf.Tensor(b'He then played Detective John Amsterdam in the short-lived Fox television series New Amsterdam -LRB- 2008 -RRB- , as well as appearing as Frank Pike in the 2009 Fox television film Virtuality , originally intended as a pilot . The Fox Broadcasting Company -LRB- often shortened to Fox and stylized as FOX -RRB- is an American English language commercial broadcast television network that is owned by the Fox Entertainment Group subsidiary of 21st Century Fox .', shape=(), dtype=string)\n",
      "........\n",
      "\n",
      "\n",
      "tf.Tensor([0 0 1], shape=(3,), dtype=int32)\n"
     ]
    }
   ],
   "source": [
    "for d, e in raw_ds_enc_labls.take(1):\n",
    "    print(d[0])\n",
    "    print(\"........\\n\\n\")\n",
    "    print(d[1])\n",
    "    print(\"........\\n\\n\")\n",
    "    print(e)"
   ]
  },
  {
   "cell_type": "code",
   "execution_count": 314,
   "metadata": {},
   "outputs": [
    {
     "name": "stdout",
     "output_type": "stream",
     "text": [
      "<MapDataset shapes: (60,), types: tf.int64>\n",
      "<MapDataset shapes: (60,), types: tf.int64>\n",
      "<BatchDataset shapes: (((64, 60), (64, 60)), (64, 3)), types: ((tf.int64, tf.int64), tf.int32)>\n",
      "((TensorSpec(shape=(64, 60), dtype=tf.int64, name=None), TensorSpec(shape=(64, 60), dtype=tf.int64, name=None)), TensorSpec(shape=(64, 3), dtype=tf.int32, name=None))\n"
     ]
    }
   ],
   "source": [
    "BATCH_SIZE = 64\n",
    "MAX_SEQ_LEN = 60\n",
    "BUFFER_SIZE = 32000\n",
    "def tokenize_and_pad(text, max_len):\n",
    "    segment = pt_tokenizer.tokenize(text).merge_dims(1, -1)\n",
    "    inp = segment.to_tensor(shape=[None, max_len])\n",
    "    return inp[0]\n",
    "\n",
    "h = raw_ds_enc_labls.map(lambda x, y: tokenize_and_pad(x[0], MAX_SEQ_LEN))\n",
    "e = raw_ds_enc_labls.map(lambda x, y: tokenize_and_pad(x[1], MAX_SEQ_LEN))\n",
    "l = raw_ds_enc_labls.map(lambda x, y: y)\n",
    "print(h)\n",
    "print(e)\n",
    "f = tf.data.Dataset.zip((h,e))\n",
    "d = tf.data.Dataset.zip((f,l))\n",
    "dataset = d.shuffle(BUFFER_SIZE).batch(BATCH_SIZE, drop_remainder=True)\n",
    "print(dataset)\n",
    "print(dataset.element_spec)"
   ]
  },
  {
   "cell_type": "code",
   "execution_count": 316,
   "metadata": {},
   "outputs": [
    {
     "name": "stdout",
     "output_type": "stream",
     "text": [
      "<MapDataset shapes: (60,), types: tf.int64>\n",
      "<MapDataset shapes: (60,), types: tf.int64>\n",
      "<BatchDataset shapes: (((64, 60), (64, 60)), (64, 3)), types: ((tf.int64, tf.int64), tf.int32)>\n",
      "((TensorSpec(shape=(64, 60), dtype=tf.int64, name=None), TensorSpec(shape=(64, 60), dtype=tf.int64, name=None)), TensorSpec(shape=(64, 3), dtype=tf.int32, name=None))\n"
     ]
    }
   ],
   "source": [
    "BATCH_SIZE = 64\n",
    "MAX_SEQ_LEN = 60\n",
    "BUFFER_SIZE = 32000\n",
    "def tokenize_and_pad(text, max_len):\n",
    "    segment = pt_tokenizer.tokenize(text).merge_dims(1, -1)\n",
    "    inp = segment.to_tensor(shape=[None, max_len])\n",
    "    return inp[0]\n",
    "\n",
    "h = dev_ds_enc_labls.map(lambda x, y: tokenize_and_pad(x[0], MAX_SEQ_LEN))\n",
    "e = dev_ds_enc_labls.map(lambda x, y: tokenize_and_pad(x[1], MAX_SEQ_LEN))\n",
    "l = dev_ds_enc_labls.map(lambda x, y: y)\n",
    "print(h)\n",
    "print(e)\n",
    "f = tf.data.Dataset.zip((h,e))\n",
    "d = tf.data.Dataset.zip((f,l))\n",
    "dataset_dev = d.shuffle(BUFFER_SIZE).batch(BATCH_SIZE, drop_remainder=True)\n",
    "print(dataset_dev)\n",
    "print(dataset_dev.element_spec)"
   ]
  },
  {
   "cell_type": "markdown",
   "metadata": {},
   "source": [
    "#### Test dataset tokenizer"
   ]
  },
  {
   "cell_type": "code",
   "execution_count": 317,
   "metadata": {},
   "outputs": [
    {
     "name": "stdout",
     "output_type": "stream",
     "text": [
      "<MapDataset shapes: (60,), types: tf.int64>\n",
      "<MapDataset shapes: (60,), types: tf.int64>\n",
      "<BatchDataset shapes: (((64, 60), (64, 60)), (64, 3)), types: ((tf.int64, tf.int64), tf.int32)>\n",
      "((TensorSpec(shape=(64, 60), dtype=tf.int64, name=None), TensorSpec(shape=(64, 60), dtype=tf.int64, name=None)), TensorSpec(shape=(64, 3), dtype=tf.int32, name=None))\n"
     ]
    }
   ],
   "source": [
    "BATCH_SIZE = 64\n",
    "MAX_SEQ_LEN = 60\n",
    "BUFFER_SIZE = 32000\n",
    "def tokenize_and_pad(text, max_len):\n",
    "    segment = pt_tokenizer.tokenize(text).merge_dims(1, -1)\n",
    "    inp = segment.to_tensor(shape=[None, max_len])\n",
    "    return inp[0]\n",
    "\n",
    "h = test_ds_enc_labls.map(lambda x, y: tokenize_and_pad(x[0], MAX_SEQ_LEN))\n",
    "e = test_ds_enc_labls.map(lambda x, y: tokenize_and_pad(x[1], MAX_SEQ_LEN))\n",
    "l = test_ds_enc_labls.map(lambda x, y: y)\n",
    "print(h)\n",
    "print(e)\n",
    "f = tf.data.Dataset.zip((h,e))\n",
    "d = tf.data.Dataset.zip((f,l))\n",
    "## do not shuffle test dataset, we need to seperate out the labels to compute precision and recall\n",
    "#dataset_test = d.shuffle(BUFFER_SIZE).batch(BATCH_SIZE, drop_remainder=True)\n",
    "dataset_test = d.batch(BATCH_SIZE, drop_remainder=True)\n",
    "print(dataset_test)\n",
    "print(dataset_test.element_spec)"
   ]
  },
  {
   "cell_type": "markdown",
   "metadata": {},
   "source": [
    "#### Prepare the glove embeddings"
   ]
  },
  {
   "cell_type": "code",
   "execution_count": 49,
   "metadata": {},
   "outputs": [
    {
     "name": "stdout",
     "output_type": "stream",
     "text": [
      "glove.6B.50d.txt\n",
      "glove.6B.100d.txt\n",
      "glove.6B.200d.txt\n",
      "glove.6B.300d.txt\n",
      "Reading lines from file glove.6B.300d.txt\n"
     ]
    }
   ],
   "source": [
    "import zipfile, io\n",
    "glove_zip_file = \"entailment/data/glove.6B.zip\"\n",
    "glove_vectors_file = \"glove.6B.300d.txt\"\n",
    "embeddings_index = {}\n",
    "with zipfile.ZipFile(glove_zip_file) as z:\n",
    "        for info in z.infolist():\n",
    "            print(info.filename)\n",
    "            if glove_vectors_file in info.filename:\n",
    "                # read the file\n",
    "                print(\"Reading lines from file {}\".format(glove_vectors_file))\n",
    "                with io.TextIOWrapper(z.open(glove_vectors_file), encoding=\"utf-8\") as f:\n",
    "                    for line in f:\n",
    "                        terms = line.split()\n",
    "                        word = terms[0]\n",
    "                        coefs = np.asarray(terms[1:], dtype='float32')\n",
    "                        \n",
    "                        embeddings_index[word] = coefs"
   ]
  },
  {
   "cell_type": "code",
   "execution_count": 50,
   "metadata": {},
   "outputs": [
    {
     "name": "stdout",
     "output_type": "stream",
     "text": [
      "max length of sequence is 300\n",
      "[ 4.6560e-02  2.1318e-01 -7.4364e-03 -4.5854e-01 -3.5639e-02  2.3643e-01\n",
      " -2.8836e-01  2.1521e-01 -1.3486e-01 -1.6413e+00 -2.6091e-01  3.2434e-02\n",
      "  5.6621e-02 -4.3296e-02 -2.1672e-02  2.2476e-01 -7.5129e-02 -6.7018e-02\n",
      " -1.4247e-01  3.8825e-02 -1.8951e-01  2.9977e-01  3.9305e-01  1.7887e-01\n",
      " -1.7343e-01 -2.1178e-01  2.3617e-01 -6.3681e-02 -4.2318e-01 -1.1661e-01\n",
      "  9.3754e-02  1.7296e-01 -3.3073e-01  4.9112e-01 -6.8995e-01 -9.2462e-02\n",
      "  2.4742e-01 -1.7991e-01  9.7908e-02  8.3118e-02  1.5299e-01 -2.7276e-01\n",
      " -3.8934e-02  5.4453e-01  5.3737e-01  2.9105e-01 -7.3514e-03  4.7880e-02\n",
      " -4.0760e-01 -2.6759e-02  1.7919e-01  1.0977e-02 -1.0963e-01 -2.6395e-01\n",
      "  7.3990e-02  2.6236e-01 -1.5080e-01  3.4623e-01  2.5758e-01  1.1971e-01\n",
      " -3.7135e-02 -7.1593e-02  4.3898e-01 -4.0764e-02  1.6425e-02 -4.4640e-01\n",
      "  1.7197e-01  4.6246e-02  5.8639e-02  4.1499e-02  5.3948e-01  5.2495e-01\n",
      "  1.1361e-01 -4.8315e-02 -3.6385e-01  1.8704e-01  9.2761e-02 -1.1129e-01\n",
      " -4.2085e-01  1.3992e-01 -3.9338e-01 -6.7945e-02  1.2188e-01  1.6707e-01\n",
      "  7.5169e-02 -1.5529e-02 -1.9499e-01  1.9638e-01  5.3194e-02  2.5170e-01\n",
      " -3.4845e-01 -1.0638e-01 -3.4692e-01 -1.9024e-01 -2.0040e-01  1.2154e-01\n",
      " -2.9208e-01  2.3353e-02 -1.1618e-01 -3.5768e-01  6.2304e-02  3.5884e-01\n",
      "  2.9060e-02  7.3005e-03  4.9482e-03 -1.5048e-01 -1.2313e-01  1.9337e-01\n",
      "  1.2173e-01  4.4503e-01  2.5147e-01  1.0781e-01 -1.7716e-01  3.8691e-02\n",
      "  8.1530e-02  1.4667e-01  6.3666e-02  6.1332e-02 -7.5569e-02 -3.7724e-01\n",
      "  1.5850e-02 -3.0342e-01  2.8374e-01 -4.2013e-02 -4.0715e-02 -1.5269e-01\n",
      "  7.4980e-02  1.5577e-01  1.0433e-01  3.1393e-01  1.9309e-01  1.9429e-01\n",
      "  1.5185e-01 -1.0192e-01 -1.8785e-02  2.0791e-01  1.3366e-01  1.9038e-01\n",
      " -2.5558e-01  3.0400e-01 -1.8960e-02  2.0147e-01 -4.2110e-01 -7.5156e-03\n",
      " -2.7977e-01 -1.9314e-01  4.6204e-02  1.9971e-01 -3.0207e-01  2.5735e-01\n",
      "  6.8107e-01 -1.9409e-01  2.3984e-01  2.2493e-01  6.5224e-01 -1.3561e-01\n",
      " -1.7383e-01 -4.8209e-02 -1.1860e-01  2.1588e-03 -1.9525e-02  1.1948e-01\n",
      "  1.9346e-01 -4.0820e-01 -8.2966e-02  1.6626e-01 -1.0601e-01  3.5861e-01\n",
      "  1.6922e-01  7.2590e-02 -2.4803e-01 -1.0024e-01 -5.2491e-01 -1.7745e-01\n",
      " -3.6647e-01  2.6180e-01 -1.2077e-02  8.3190e-02 -2.1528e-01  4.1045e-01\n",
      "  2.9136e-01  3.0869e-01  7.8864e-02  3.2207e-01 -4.1023e-02 -1.0970e-01\n",
      " -9.2041e-02 -1.2339e-01 -1.6416e-01  3.5382e-01 -8.2774e-02  3.3171e-01\n",
      " -2.4738e-01 -4.8928e-02  1.5746e-01  1.8988e-01 -2.6642e-02  6.3315e-02\n",
      " -1.0673e-02  3.4089e-01  1.4106e+00  1.3417e-01  2.8191e-01 -2.5940e-01\n",
      "  5.5267e-02 -5.2425e-02 -2.5789e-01  1.9127e-02 -2.2084e-02  3.2113e-01\n",
      "  6.8818e-02  5.1207e-01  1.6478e-01 -2.0194e-01  2.9232e-01  9.8575e-02\n",
      "  1.3145e-02 -1.0652e-01  1.3510e-01 -4.5332e-02  2.0697e-01 -4.8425e-01\n",
      " -4.4706e-01  3.3305e-03  2.9264e-03 -1.0975e-01 -2.3325e-01  2.2442e-01\n",
      " -1.0503e-01  1.2339e-01  1.0978e-01  4.8994e-02 -2.5157e-01  4.0319e-01\n",
      "  3.5318e-01  1.8651e-01 -2.3622e-02 -1.2734e-01  1.1475e-01  2.7359e-01\n",
      " -2.1866e-01  1.5794e-02  8.1754e-01 -2.3792e-02 -8.5469e-01 -1.6203e-01\n",
      "  1.8076e-01  2.8014e-02 -1.4340e-01  1.3139e-03 -9.1735e-02 -8.9704e-02\n",
      "  1.1105e-01 -1.6703e-01  6.8377e-02 -8.7388e-02 -3.9789e-02  1.4184e-02\n",
      "  2.1187e-01  2.8579e-01 -2.8797e-01 -5.8996e-02 -3.2436e-02 -4.7009e-03\n",
      " -1.7052e-01 -3.4741e-02 -1.1489e-01  7.5093e-02  9.9526e-02  4.8183e-02\n",
      " -7.3775e-02 -4.1817e-01  4.1268e-03  4.4414e-01 -1.6062e-01  1.4294e-01\n",
      " -2.2628e+00 -2.7347e-02  8.1311e-01  7.7417e-01 -2.5639e-01 -1.1576e-01\n",
      " -1.1982e-01 -2.1363e-01  2.8429e-02  2.7261e-01  3.1026e-02  9.6782e-02\n",
      "  6.7769e-03  1.4082e-01 -1.3064e-02 -2.9686e-01 -7.9913e-02  1.9500e-01\n",
      "  3.1549e-02  2.8506e-01 -8.7461e-02  9.0611e-03 -2.0989e-01  5.3913e-02]\n"
     ]
    }
   ],
   "source": [
    "embeddings_index[\"the\"].shape\n",
    "max_length = embeddings_index[\"the\"].shape[0]\n",
    "print(\"max length of sequence is {}\".format(max_length))\n",
    "print(embeddings_index[\"the\"])"
   ]
  },
  {
   "cell_type": "code",
   "execution_count": 51,
   "metadata": {
    "tags": []
   },
   "outputs": [
    {
     "data": {
      "text/plain": [
       "300"
      ]
     },
     "execution_count": 51,
     "metadata": {},
     "output_type": "execute_result"
    }
   ],
   "source": [
    "embeddings_index['start'].shape[0]"
   ]
  },
  {
   "cell_type": "code",
   "execution_count": 167,
   "metadata": {},
   "outputs": [
    {
     "name": "stdout",
     "output_type": "stream",
     "text": [
      "(1, 32)\n"
     ]
    }
   ],
   "source": [
    "for d in ds.batch(1):\n",
    "    print(d.shape)\n",
    "    break"
   ]
  },
  {
   "cell_type": "code",
   "execution_count": 177,
   "metadata": {
    "tags": []
   },
   "outputs": [
    {
     "name": "stdout",
     "output_type": "stream",
     "text": [
      "(1, 32)\n"
     ]
    }
   ],
   "source": [
    "for d in ds.batch(1):\n",
    "    print(d.shape)\n",
    "    emb = pt_tokenizer.tokenize(d[0])\n",
    "    embd = pt_tokenizer.detokenize(emb)\n",
    "    break"
   ]
  },
  {
   "cell_type": "code",
   "execution_count": 192,
   "metadata": {},
   "outputs": [
    {
     "name": "stdout",
     "output_type": "stream",
     "text": [
      "(32, None, None)\n"
     ]
    }
   ],
   "source": [
    "print(emb.shape)"
   ]
  },
  {
   "cell_type": "code",
   "execution_count": 191,
   "metadata": {
    "tags": []
   },
   "outputs": [
    {
     "name": "stdout",
     "output_type": "stream",
     "text": [
      "(32, None, None)\n"
     ]
    }
   ],
   "source": [
    "print(embd.shape)"
   ]
  },
  {
   "cell_type": "code",
   "execution_count": 250,
   "metadata": {
    "tags": []
   },
   "outputs": [],
   "source": [
    "word_batch = [[w[0].decode() for w in w_np] for w_np in [word.numpy() for word in embd]]\n",
    "index_batch = [[w[0] for w in w_np] for w_np in [word.numpy() for word in emb]]"
   ]
  },
  {
   "cell_type": "code",
   "execution_count": 258,
   "metadata": {
    "collapsed": true,
    "jupyter": {
     "outputs_hidden": true
    },
    "tags": []
   },
   "outputs": [
    {
     "data": {
      "text/plain": [
       "[36,\n",
       " 1035,\n",
       " 38,\n",
       " 57,\n",
       " 1872,\n",
       " 1007,\n",
       " 5726,\n",
       " 1212,\n",
       " 17,\n",
       " 36,\n",
       " 1026,\n",
       " 38,\n",
       " 57,\n",
       " 1807,\n",
       " 1054,\n",
       " 57,\n",
       " 2049,\n",
       " 1004,\n",
       " 1373,\n",
       " 1673,\n",
       " 15,\n",
       " 4408,\n",
       " 15,\n",
       " 1002,\n",
       " 1082,\n",
       " 1659,\n",
       " 16,\n",
       " 3213,\n",
       " 5537,\n",
       " 1003,\n",
       " 4725,\n",
       " 15,\n",
       " 2309,\n",
       " 5668,\n",
       " 1590,\n",
       " 1475,\n",
       " 1214,\n",
       " 1009,\n",
       " 2049,\n",
       " 1007,\n",
       " 6674,\n",
       " 2891,\n",
       " 5522,\n",
       " 3470,\n",
       " 1061,\n",
       " 3213,\n",
       " 3242,\n",
       " 17,\n",
       " 42,\n",
       " 57,\n",
       " 57,\n",
       " 1009,\n",
       " 1719,\n",
       " 1020,\n",
       " 49,\n",
       " 4157,\n",
       " 1129,\n",
       " 1012,\n",
       " 1756,\n",
       " 5070,\n",
       " 1002,\n",
       " 1756,\n",
       " 3385,\n",
       " 17,\n",
       " 5459,\n",
       " 57,\n",
       " 57,\n",
       " 15,\n",
       " 1475,\n",
       " 49,\n",
       " 4157,\n",
       " 1054,\n",
       " 1159,\n",
       " 1014,\n",
       " 6502,\n",
       " 56,\n",
       " 1002,\n",
       " 6041,\n",
       " 5299,\n",
       " 1782,\n",
       " 1219,\n",
       " 1001,\n",
       " 3213,\n",
       " 5131,\n",
       " 17,\n",
       " 1001,\n",
       " 1051,\n",
       " 1971,\n",
       " 57,\n",
       " 1079,\n",
       " 1289,\n",
       " 1748,\n",
       " 1033,\n",
       " 1872,\n",
       " 1007,\n",
       " 4786,\n",
       " 15,\n",
       " 5726,\n",
       " 1212,\n",
       " 15,\n",
       " 3154,\n",
       " 3889,\n",
       " 6283,\n",
       " 15,\n",
       " 57,\n",
       " 6525,\n",
       " 1061,\n",
       " 5726,\n",
       " 1872,\n",
       " 15,\n",
       " 1002,\n",
       " 44,\n",
       " 17]"
      ]
     },
     "execution_count": 258,
     "metadata": {},
     "output_type": "execute_result"
    }
   ],
   "source": [
    "index_batch[0]"
   ]
  },
  {
   "cell_type": "code",
   "execution_count": 259,
   "metadata": {
    "collapsed": true,
    "jupyter": {
     "outputs_hidden": true
    },
    "tags": []
   },
   "outputs": [
    {
     "data": {
      "text/plain": [
       "['[',\n",
       " 'start',\n",
       " ']',\n",
       " 'paranormal',\n",
       " 'pertains',\n",
       " 'to',\n",
       " 'extraterrestrial',\n",
       " 'life',\n",
       " '.',\n",
       " '[',\n",
       " 'end',\n",
       " ']',\n",
       " 'paranormal',\n",
       " 'events',\n",
       " 'are',\n",
       " 'phenomena',\n",
       " 'described',\n",
       " 'in',\n",
       " 'popular',\n",
       " 'culture',\n",
       " ',',\n",
       " 'folklore',\n",
       " ',',\n",
       " 'and',\n",
       " 'other',\n",
       " 'non',\n",
       " '-',\n",
       " 'scientific',\n",
       " 'bodies',\n",
       " 'of',\n",
       " 'knowledge',\n",
       " ',',\n",
       " 'whose',\n",
       " 'existence',\n",
       " 'within',\n",
       " 'these',\n",
       " 'contexts',\n",
       " 'is',\n",
       " 'described',\n",
       " 'to',\n",
       " 'lie',\n",
       " 'beyond',\n",
       " 'normal',\n",
       " 'experience',\n",
       " 'or',\n",
       " 'scientific',\n",
       " 'explanation',\n",
       " '.',\n",
       " 'a',\n",
       " 'paranormal',\n",
       " 'phenomenon',\n",
       " 'is',\n",
       " 'different',\n",
       " 'from',\n",
       " 'hypothetical',\n",
       " 'concepts',\n",
       " 'such',\n",
       " 'as',\n",
       " 'dark',\n",
       " 'matter',\n",
       " 'and',\n",
       " 'dark',\n",
       " 'energy',\n",
       " '.',\n",
       " 'unlike',\n",
       " 'paranormal',\n",
       " 'phenomena',\n",
       " ',',\n",
       " 'these',\n",
       " 'hypothetical',\n",
       " 'concepts',\n",
       " 'are',\n",
       " 'based',\n",
       " 'on',\n",
       " 'empirical',\n",
       " 'observations',\n",
       " 'and',\n",
       " 'experimental',\n",
       " 'data',\n",
       " 'gained',\n",
       " 'through',\n",
       " 'the',\n",
       " 'scientific',\n",
       " 'method',\n",
       " '.',\n",
       " 'the',\n",
       " 'most',\n",
       " 'notable',\n",
       " 'paranormal',\n",
       " 'beliefs',\n",
       " 'include',\n",
       " 'those',\n",
       " 'that',\n",
       " 'pertain',\n",
       " 'to',\n",
       " 'ghosts',\n",
       " ',',\n",
       " 'extraterrestrial',\n",
       " 'life',\n",
       " ',',\n",
       " 'unidentified',\n",
       " 'flying',\n",
       " 'objects',\n",
       " ',',\n",
       " 'psychic',\n",
       " 'abilities',\n",
       " 'or',\n",
       " 'extrasensory',\n",
       " 'perception',\n",
       " ',',\n",
       " 'and',\n",
       " 'cryptids',\n",
       " '.']"
      ]
     },
     "execution_count": 259,
     "metadata": {},
     "output_type": "execute_result"
    }
   ],
   "source": [
    "word_batch[0]"
   ]
  },
  {
   "cell_type": "code",
   "execution_count": null,
   "metadata": {},
   "outputs": [],
   "source": []
  },
  {
   "cell_type": "code",
   "execution_count": null,
   "metadata": {},
   "outputs": [],
   "source": []
  },
  {
   "cell_type": "code",
   "execution_count": 53,
   "metadata": {},
   "outputs": [],
   "source": [
    "max_length = embeddings_index['start'].shape[0]\n",
    "vocab_size = 8000\n",
    "embedding_matrix = np.zeros((vocab_size + 1, max_length))"
   ]
  },
  {
   "cell_type": "code",
   "execution_count": 54,
   "metadata": {},
   "outputs": [],
   "source": [
    "# d is already a batch of 32 examples\n",
    "for d in ds.batch(1):\n",
    "    emb = pt_tokenizer.tokenize(d[0])\n",
    "    embd = pt_tokenizer.detokenize(emb)\n",
    "    word_batch = [[w[0].decode() for w in w_np] for w_np in [word.numpy() for word in embd]]\n",
    "    index_batch = [[w[0] for w in w_np] for w_np in [word.numpy() for word in emb]]\n",
    "    for w_batch, i_batch in zip(word_batch, index_batch):\n",
    "        for w, i in zip(w_batch, i_batch):\n",
    "            embedding_vector = embeddings_index.get(w)\n",
    "            if embedding_vector is not None:\n",
    "                # words not found in embedding index will be all-zeros.\n",
    "                embedding_matrix[i] = embedding_vector"
   ]
  },
  {
   "cell_type": "code",
   "execution_count": 55,
   "metadata": {},
   "outputs": [],
   "source": [
    "embedding_file = \"working/data/embedding_mappings_300d.npz\"\n",
    "np.savez(embedding_file, embedding_matrix)"
   ]
  },
  {
   "cell_type": "code",
   "execution_count": 265,
   "metadata": {},
   "outputs": [],
   "source": [
    "# embedding_file = \"working/data/embedding_mappings.npz\"\n",
    "# np.savez(embedding_file, embedding_matrix)"
   ]
  },
  {
   "cell_type": "code",
   "execution_count": 318,
   "metadata": {},
   "outputs": [
    {
     "data": {
      "text/plain": [
       "['arr_0']"
      ]
     },
     "execution_count": 318,
     "metadata": {},
     "output_type": "execute_result"
    }
   ],
   "source": [
    "npzfile = np.load(\"working/data/embedding_mappings_300d.npz\")\n",
    "npzfile.files"
   ]
  },
  {
   "cell_type": "code",
   "execution_count": 319,
   "metadata": {},
   "outputs": [],
   "source": [
    "embedding_matrix = npzfile['arr_0']"
   ]
  },
  {
   "cell_type": "code",
   "execution_count": 320,
   "metadata": {},
   "outputs": [
    {
     "data": {
      "text/plain": [
       "(8001, 300)"
      ]
     },
     "execution_count": 320,
     "metadata": {},
     "output_type": "execute_result"
    }
   ],
   "source": [
    "embedding_matrix.shape"
   ]
  },
  {
   "cell_type": "code",
   "execution_count": 37,
   "metadata": {},
   "outputs": [
    {
     "name": "stdout",
     "output_type": "stream",
     "text": [
      "total 51M\n",
      "-rw-rw-r-- 1 ubuntu ubuntu 6.2M Jul 16 15:27 embedding_mappings.npz\n",
      "drwxrwxr-x 2 ubuntu ubuntu 4.0K Jul 16 11:11 training\n",
      "-rw-r--r-- 1 ubuntu ubuntu  39M Jul 16 11:09 train_x.npz\n",
      "-rw-r--r-- 1 ubuntu ubuntu 2.3M Jul 16 11:09 dev_x.npz\n",
      "-rw-r--r-- 1 ubuntu ubuntu 235K Jul 16 11:08 dev_labels.npz\n",
      "-rw-r--r-- 1 ubuntu ubuntu 3.4M Jul 16 11:08 train_labels.npz\n",
      "-rw-r--r-- 1 ubuntu ubuntu  50K Jul 16 11:08 fever_vocab.txt\n"
     ]
    }
   ],
   "source": [
    "!ls -lth working/data/"
   ]
  },
  {
   "cell_type": "code",
   "execution_count": 4,
   "metadata": {},
   "outputs": [],
   "source": [
    "# from tensorflow import keras\n",
    "# import tensorflow as tf\n",
    "# from keras.regularizers import l2"
   ]
  },
  {
   "cell_type": "code",
   "execution_count": 40,
   "metadata": {},
   "outputs": [
    {
     "name": "stdout",
     "output_type": "stream",
     "text": [
      "Model: \"model\"\n",
      "__________________________________________________________________________________________________\n",
      "Layer (type)                    Output Shape         Param #     Connected to                     \n",
      "==================================================================================================\n",
      "hypothesis (InputLayer)         [(None, None)]       0                                            \n",
      "__________________________________________________________________________________________________\n",
      "evidence (InputLayer)           [(None, None)]       0                                            \n",
      "__________________________________________________________________________________________________\n",
      "embedding (Embedding)           (None, None, 100)    800100      hypothesis[0][0]                 \n",
      "__________________________________________________________________________________________________\n",
      "embedding_1 (Embedding)         (None, None, 100)    800100      evidence[0][0]                   \n",
      "__________________________________________________________________________________________________\n",
      "bidirectional (Bidirectional)   (None, 200)          160800      embedding[0][0]                  \n",
      "__________________________________________________________________________________________________\n",
      "bidirectional_1 (Bidirectional) (None, 200)          160800      embedding_1[0][0]                \n",
      "__________________________________________________________________________________________________\n",
      "concatenate (Concatenate)       (None, 400)          0           bidirectional[0][0]              \n",
      "                                                                 bidirectional_1[0][0]            \n",
      "__________________________________________________________________________________________________\n",
      "dense (Dense)                   (None, 16)           6416        concatenate[0][0]                \n",
      "__________________________________________________________________________________________________\n",
      "dropout (Dropout)               (None, 16)           0           dense[0][0]                      \n",
      "__________________________________________________________________________________________________\n",
      "dense_1 (Dense)                 (None, 3)            51          dropout[0][0]                    \n",
      "==================================================================================================\n",
      "Total params: 1,928,267\n",
      "Trainable params: 328,067\n",
      "Non-trainable params: 1,600,200\n",
      "__________________________________________________________________________________________________\n"
     ]
    }
   ],
   "source": [
    "### Simple model\n",
    "vocab_size= 8000\n",
    "dim = 100\n",
    "inp1 = keras.Input(shape=(None, ), name = \"hypothesis\")\n",
    "inp2 = keras.Input(shape=(None, ), name = \"evidence\")\n",
    "embedding_hyp_layer = tf.keras.layers.Embedding(\n",
    "        input_dim=vocab_size+1,\n",
    "        output_dim=dim,\n",
    "        weights=[embedding_matrix],\n",
    "        trainable=False)\n",
    "embedding_evi_layer = tf.keras.layers.Embedding(\n",
    "        input_dim=vocab_size+1,\n",
    "        output_dim=dim,\n",
    "        weights=[embedding_matrix],\n",
    "        trainable=False)\n",
    "x_hyp = embedding_hyp_layer(inp1)\n",
    "x_evi = embedding_evi_layer(inp2)\n",
    "lstm_layer1 = tf.keras.layers.Bidirectional(tf.keras.layers.RNN(tf.keras.layers.LSTMCell(dim)))(x_hyp)\n",
    "lstm_layer2 = tf.keras.layers.Bidirectional(tf.keras.layers.RNN(tf.keras.layers.LSTMCell(dim)))(x_evi)\n",
    "w = keras.layers.concatenate([lstm_layer1, lstm_layer2], axis = 1)\n",
    "x1 = tf.keras.layers.Dense(16, kernel_regularizer=l2(0.01), bias_regularizer=l2(0.01), activation='relu')(w)\n",
    "x2 = tf.keras.layers.Dropout(0.3)(x1)\n",
    "output = tf.keras.layers.Dense(3, activation='softmax')(x2)\n",
    "model = keras.Model(inputs=[inp1, inp2], outputs=output)\n",
    "model.compile(loss='categorical_crossentropy',\n",
    "          optimizer=tf.keras.optimizers.Adam(), \n",
    "          metrics=['accuracy'])\n",
    "model.summary()"
   ]
  },
  {
   "cell_type": "code",
   "execution_count": 41,
   "metadata": {},
   "outputs": [],
   "source": [
    "rm -rf tmp/checkpoint_*"
   ]
  },
  {
   "cell_type": "code",
   "execution_count": 42,
   "metadata": {},
   "outputs": [],
   "source": [
    "checkpoint_filepath = 'tmp/checkpoint_fever_nli'\n",
    "model_checkpoint_callback = tf.keras.callbacks.ModelCheckpoint(\n",
    "    filepath=checkpoint_filepath,\n",
    "    save_weights_only=True,\n",
    "    monitor='val_accuracy',\n",
    "    mode='max',\n",
    "    save_best_only=True)\n",
    "\n",
    "stop_early = tf.keras.callbacks.EarlyStopping(monitor='val_loss', patience=5)"
   ]
  },
  {
   "cell_type": "code",
   "execution_count": 43,
   "metadata": {},
   "outputs": [
    {
     "name": "stdout",
     "output_type": "stream",
     "text": [
      "Epoch 1/12\n",
      "2272/2272 [==============================] - 538s 211ms/step - loss: 0.7664 - accuracy: 0.6910 - val_loss: 0.8617 - val_accuracy: 0.6031\n",
      "Epoch 2/12\n",
      "2272/2272 [==============================] - 516s 207ms/step - loss: 0.6421 - accuracy: 0.7492 - val_loss: 0.8119 - val_accuracy: 0.6360\n",
      "Epoch 3/12\n",
      "2272/2272 [==============================] - 518s 208ms/step - loss: 0.5918 - accuracy: 0.7729 - val_loss: 0.8743 - val_accuracy: 0.6314\n",
      "Epoch 4/12\n",
      "2272/2272 [==============================] - 517s 207ms/step - loss: 0.5528 - accuracy: 0.7907 - val_loss: 0.8438 - val_accuracy: 0.6529\n",
      "Epoch 5/12\n",
      "2272/2272 [==============================] - 518s 208ms/step - loss: 0.5218 - accuracy: 0.8060 - val_loss: 0.8887 - val_accuracy: 0.6418\n",
      "Epoch 6/12\n",
      "2272/2272 [==============================] - 517s 207ms/step - loss: 0.4960 - accuracy: 0.8169 - val_loss: 0.9383 - val_accuracy: 0.6361\n",
      "Epoch 7/12\n",
      "2272/2272 [==============================] - 516s 207ms/step - loss: 0.4745 - accuracy: 0.8254 - val_loss: 0.9573 - val_accuracy: 0.6538\n"
     ]
    }
   ],
   "source": [
    "history = model.fit(dataset, epochs = 12, validation_data=dataset_dev, callbacks=[stop_early, model_checkpoint_callback])"
   ]
  },
  {
   "cell_type": "markdown",
   "metadata": {},
   "source": [
    "##### TODO: use DA \n",
    "https://gist.github.com/namakemono/f4f273dbc63fc2174940415a9f689a6f"
   ]
  },
  {
   "cell_type": "code",
   "execution_count": 44,
   "metadata": {},
   "outputs": [
    {
     "name": "stdout",
     "output_type": "stream",
     "text": [
      "156/156 [==============================] - 22s 41ms/step - loss: 0.9469 - accuracy: 0.6569\n"
     ]
    },
    {
     "data": {
      "text/plain": [
       "[0.9468783140182495, 0.6568509340286255]"
      ]
     },
     "execution_count": 44,
     "metadata": {},
     "output_type": "execute_result"
    }
   ],
   "source": [
    "model.load_weights(checkpoint_filepath)\n",
    "model.evaluate(dataset_dev)"
   ]
  },
  {
   "cell_type": "code",
   "execution_count": 45,
   "metadata": {},
   "outputs": [
    {
     "data": {
      "text/plain": [
       "Text(0.5, 1.0, 'Metrics for training SNLI dataset, 70K samples (glove 100d)')"
      ]
     },
     "execution_count": 45,
     "metadata": {},
     "output_type": "execute_result"
    },
    {
     "data": {
      "image/png": "[encoded data removed]",
      "text/plain": [
       "<Figure size 432x288 with 1 Axes>"
      ]
     },
     "metadata": {
      "needs_background": "light"
     },
     "output_type": "display_data"
    }
   ],
   "source": [
    "import matplotlib.pyplot as plt\n",
    "fig, ax = plt.subplots(1,1)\n",
    "x = np.arange(len(history.history['loss']))\n",
    "ax.plot(x, history.history['loss'], label=\"train loss\")\n",
    "ax.plot(x, history.history['val_loss'], label=\"val loss\")\n",
    "plt.xlabel(\"epochs\")\n",
    "plt.ylabel(\"categorial cross entropy loss\")\n",
    "ax.legend()\n",
    "plt.title(\"Metrics for training SNLI dataset, 70K samples (glove 100d)\")\n",
    "#history.history['loss']"
   ]
  },
  {
   "cell_type": "markdown",
   "metadata": {},
   "source": [
    "#### Model using attention\n",
    "See example here https://keras.io/api/layers/attention_layers/attention/"
   ]
  },
  {
   "cell_type": "code",
   "execution_count": 59,
   "metadata": {},
   "outputs": [
    {
     "name": "stdout",
     "output_type": "stream",
     "text": [
      "Model: \"model_6\"\n",
      "__________________________________________________________________________________________________\n",
      "Layer (type)                    Output Shape         Param #     Connected to                     \n",
      "==================================================================================================\n",
      "input_13 (InputLayer)           [(None, None)]       0                                            \n",
      "__________________________________________________________________________________________________\n",
      "input_14 (InputLayer)           [(None, None)]       0                                            \n",
      "__________________________________________________________________________________________________\n",
      "embedding_8 (Embedding)         (None, None, 100)    800100      input_13[0][0]                   \n",
      "                                                                 input_14[0][0]                   \n",
      "__________________________________________________________________________________________________\n",
      "attention_6 (Attention)         (None, None, 100)    0           embedding_8[0][0]                \n",
      "                                                                 embedding_8[1][0]                \n",
      "__________________________________________________________________________________________________\n",
      "global_average_pooling1d_10 (Gl (None, 100)          0           embedding_8[0][0]                \n",
      "__________________________________________________________________________________________________\n",
      "global_average_pooling1d_11 (Gl (None, 100)          0           attention_6[0][0]                \n",
      "__________________________________________________________________________________________________\n",
      "concatenate_7 (Concatenate)     (None, 200)          0           global_average_pooling1d_10[0][0]\n",
      "                                                                 global_average_pooling1d_11[0][0]\n",
      "__________________________________________________________________________________________________\n",
      "dense_12 (Dense)                (None, 16)           3216        concatenate_7[0][0]              \n",
      "__________________________________________________________________________________________________\n",
      "dropout_6 (Dropout)             (None, 16)           0           dense_12[0][0]                   \n",
      "__________________________________________________________________________________________________\n",
      "dense_13 (Dense)                (None, 3)            51          dropout_6[0][0]                  \n",
      "==================================================================================================\n",
      "Total params: 803,367\n",
      "Trainable params: 3,267\n",
      "Non-trainable params: 800,100\n",
      "__________________________________________________________________________________________________\n"
     ]
    }
   ],
   "source": [
    "# Variable-length int sequences.\n",
    "query_input = tf.keras.Input(shape=(None,), dtype='int32')\n",
    "value_input = tf.keras.Input(shape=(None,), dtype='int32')\n",
    "\n",
    "# Embedding lookup.\n",
    "token_embedding = tf.keras.layers.Embedding(input_dim=vocab_size+1,\n",
    "        output_dim=dim,\n",
    "        weights=[embedding_matrix],\n",
    "        trainable=False)\n",
    "# Query embeddings of shape [batch_size, Tq, dimension].\n",
    "query_embeddings = token_embedding(query_input)\n",
    "# Value embeddings of shape [batch_size, Tv, dimension].\n",
    "value_embeddings = token_embedding(value_input)\n",
    "\n",
    "# CNN layer.\n",
    "# cnn_layer = tf.keras.layers.Conv1D(\n",
    "#     filters=100,\n",
    "#     kernel_size=4,\n",
    "#     # Use 'same' padding so outputs have the same shape as inputs.\n",
    "#     padding='same')\n",
    "# Query encoding of shape [batch_size, Tq, filters].\n",
    "# query_seq_encoding = cnn_layer(query_embeddings)\n",
    "# # Value encoding of shape [batch_size, Tv, filters].\n",
    "# value_seq_encoding = cnn_layer(value_embeddings)\n",
    "\n",
    "# Query-value attention of shape [batch_size, Tq, filters].\n",
    "# query_value_attention_seq = tf.keras.layers.Attention()(\n",
    "#     [query_seq_encoding, value_seq_encoding])\n",
    "\n",
    "query_value_attention_seq = tf.keras.layers.Attention()(\n",
    "    [query_embeddings, value_embeddings])\n",
    "\n",
    "# Reduce over the sequence axis to produce encodings of shape\n",
    "# [batch_size, filters].\n",
    "query_encoding = tf.keras.layers.GlobalAveragePooling1D()(\n",
    "    query_embeddings)\n",
    "query_value_attention = tf.keras.layers.GlobalAveragePooling1D()(\n",
    "    query_value_attention_seq)\n",
    "\n",
    "# Concatenate query and document encodings to produce a DNN input layer.\n",
    "input_layer = tf.keras.layers.Concatenate()(\n",
    "    [query_encoding, query_value_attention])\n",
    "\n",
    "# input_layer = tf.keras.layers.Concatenate()(\n",
    "#     [query_embeddings, query_value_attention_seq])\n",
    "\n",
    "x1 = tf.keras.layers.Dense(16, kernel_regularizer=l2(0.01), bias_regularizer=l2(0.01), activation='relu')(input_layer)\n",
    "x2 = tf.keras.layers.Dropout(0.3)(x1)\n",
    "output = tf.keras.layers.Dense(3, activation='softmax')(x2)\n",
    "model = keras.Model(inputs=[query_input, value_input], outputs=output)\n",
    "model.compile(loss='categorical_crossentropy',\n",
    "          optimizer=tf.keras.optimizers.Adam(), \n",
    "          metrics=['accuracy'])\n",
    "model.summary()"
   ]
  },
  {
   "cell_type": "code",
   "execution_count": 50,
   "metadata": {},
   "outputs": [],
   "source": [
    "!mkdir -p tmp/attention/"
   ]
  },
  {
   "cell_type": "code",
   "execution_count": 60,
   "metadata": {},
   "outputs": [],
   "source": [
    "checkpoint_filepath = 'tmp/attention/checkpoint_fever_rte'\n",
    "model_checkpoint_callback = tf.keras.callbacks.ModelCheckpoint(\n",
    "    filepath=checkpoint_filepath,\n",
    "    save_weights_only=True,\n",
    "    monitor='val_accuracy',\n",
    "    mode='max',\n",
    "    save_best_only=True)\n",
    "\n",
    "stop_early = tf.keras.callbacks.EarlyStopping(monitor='val_loss', patience=5)"
   ]
  },
  {
   "cell_type": "code",
   "execution_count": 61,
   "metadata": {},
   "outputs": [
    {
     "name": "stdout",
     "output_type": "stream",
     "text": [
      "Epoch 1/12\n",
      "2272/2272 [==============================] - 238s 84ms/step - loss: 0.9525 - accuracy: 0.5943 - val_loss: 1.1095 - val_accuracy: 0.4238\n",
      "Epoch 2/12\n",
      "2272/2272 [==============================] - 237s 84ms/step - loss: 0.9127 - accuracy: 0.6083 - val_loss: 1.0772 - val_accuracy: 0.4508\n",
      "Epoch 3/12\n",
      "2272/2272 [==============================] - 236s 83ms/step - loss: 0.9025 - accuracy: 0.6120 - val_loss: 1.0692 - val_accuracy: 0.4495\n",
      "Epoch 4/12\n",
      "2272/2272 [==============================] - 236s 83ms/step - loss: 0.8955 - accuracy: 0.6156 - val_loss: 1.0526 - val_accuracy: 0.4726\n",
      "Epoch 5/12\n",
      "2272/2272 [==============================] - 235s 83ms/step - loss: 0.8906 - accuracy: 0.6188 - val_loss: 1.0667 - val_accuracy: 0.4575\n",
      "Epoch 6/12\n",
      "2272/2272 [==============================] - 238s 84ms/step - loss: 0.8859 - accuracy: 0.6219 - val_loss: 1.0521 - val_accuracy: 0.4606\n",
      "Epoch 7/12\n",
      "2272/2272 [==============================] - 238s 84ms/step - loss: 0.8844 - accuracy: 0.6221 - val_loss: 1.0480 - val_accuracy: 0.4643\n",
      "Epoch 8/12\n",
      "2272/2272 [==============================] - 236s 84ms/step - loss: 0.8821 - accuracy: 0.6240 - val_loss: 1.0237 - val_accuracy: 0.4792\n",
      "Epoch 9/12\n",
      "2272/2272 [==============================] - 237s 84ms/step - loss: 0.8793 - accuracy: 0.6252 - val_loss: 1.0490 - val_accuracy: 0.4505\n",
      "Epoch 10/12\n",
      "2272/2272 [==============================] - 236s 83ms/step - loss: 0.8787 - accuracy: 0.6256 - val_loss: 1.0298 - val_accuracy: 0.4855\n",
      "Epoch 11/12\n",
      "2272/2272 [==============================] - 236s 83ms/step - loss: 0.8755 - accuracy: 0.6275 - val_loss: 1.0269 - val_accuracy: 0.4763\n",
      "Epoch 12/12\n",
      "2272/2272 [==============================] - 237s 84ms/step - loss: 0.8748 - accuracy: 0.6273 - val_loss: 1.0490 - val_accuracy: 0.4549\n"
     ]
    }
   ],
   "source": [
    "history = model.fit(dataset, epochs = 12, validation_data=dataset_dev, callbacks=[stop_early, model_checkpoint_callback])"
   ]
  },
  {
   "cell_type": "code",
   "execution_count": 53,
   "metadata": {},
   "outputs": [
    {
     "name": "stdout",
     "output_type": "stream",
     "text": [
      "tensorflow                         2.5.0\n",
      "tensorflow-datasets                4.3.0\n",
      "tensorflow-estimator               2.5.0\n",
      "tensorflow-gpu                     2.5.0\n",
      "tensorflow-hub                     0.12.0\n",
      "tensorflow-metadata                1.1.0\n",
      "tensorflow-serving-api             2.4.1\n",
      "tensorflow-text                    2.5.0\n",
      "\u001b[33mWARNING: You are using pip version 21.1.2; however, version 21.1.3 is available.\n",
      "You should consider upgrading via the '/home/ubuntu/anaconda3/envs/tensorflow2_latest_p37/bin/python -m pip install --upgrade pip' command.\u001b[0m\n"
     ]
    }
   ],
   "source": [
    "!pip list | grep tensorflow"
   ]
  },
  {
   "cell_type": "code",
   "execution_count": 54,
   "metadata": {},
   "outputs": [
    {
     "name": "stdout",
     "output_type": "stream",
     "text": [
      "\u001b[33mWARNING: You are using pip version 21.1.2; however, version 21.1.3 is available.\n",
      "You should consider upgrading via the '/home/ubuntu/anaconda3/envs/tensorflow2_latest_p37/bin/python -m pip install --upgrade pip' command.\u001b[0m\n"
     ]
    }
   ],
   "source": [
    "!pip list | grep cudn"
   ]
  },
  {
   "cell_type": "markdown",
   "metadata": {},
   "source": [
    "#### BiLSTM with attention"
   ]
  },
  {
   "cell_type": "code",
   "execution_count": 322,
   "metadata": {},
   "outputs": [
    {
     "name": "stdout",
     "output_type": "stream",
     "text": [
      "KerasTensor(type_spec=TensorSpec(shape=(None, None, 600), dtype=tf.float32, name=None), name='finaldecoder/concat:0', description=\"created by layer 'finaldecoder'\")\n",
      "Model: \"model\"\n",
      "__________________________________________________________________________________________________\n",
      "Layer (type)                    Output Shape         Param #     Connected to                     \n",
      "==================================================================================================\n",
      "hypothesis (InputLayer)         [(None, None)]       0                                            \n",
      "__________________________________________________________________________________________________\n",
      "evidence (InputLayer)           [(None, None)]       0                                            \n",
      "__________________________________________________________________________________________________\n",
      "embedding (Embedding)           (None, None, 300)    2400300     hypothesis[0][0]                 \n",
      "__________________________________________________________________________________________________\n",
      "embedding_1 (Embedding)         (None, None, 300)    2400300     evidence[0][0]                   \n",
      "__________________________________________________________________________________________________\n",
      "dropout (Dropout)               (None, None, 300)    0           embedding[0][0]                  \n",
      "__________________________________________________________________________________________________\n",
      "dropout_1 (Dropout)             (None, None, 300)    0           embedding_1[0][0]                \n",
      "__________________________________________________________________________________________________\n",
      "bidirectional (Bidirectional)   (None, None, 600)    1442400     dropout[0][0]                    \n",
      "__________________________________________________________________________________________________\n",
      "bidirectional_1 (Bidirectional) (None, None, 600)    1442400     dropout_1[0][0]                  \n",
      "__________________________________________________________________________________________________\n",
      "dot (Dot)                       (None, None, None)   0           bidirectional_1[0][0]            \n",
      "                                                                 bidirectional[0][0]              \n",
      "__________________________________________________________________________________________________\n",
      "permute (Permute)               (None, None, None)   0           dot[0][0]                        \n",
      "__________________________________________________________________________________________________\n",
      "lambda_1 (Lambda)               (None, None, None)   0           permute[0][0]                    \n",
      "__________________________________________________________________________________________________\n",
      "lambda (Lambda)                 (None, None, None)   0           dot[0][0]                        \n",
      "__________________________________________________________________________________________________\n",
      "dot_1 (Dot)                     (None, None, 600)    0           lambda_1[0][0]                   \n",
      "                                                                 bidirectional_1[0][0]            \n",
      "__________________________________________________________________________________________________\n",
      "dot_2 (Dot)                     (None, None, 600)    0           lambda[0][0]                     \n",
      "                                                                 bidirectional[0][0]              \n",
      "__________________________________________________________________________________________________\n",
      "subtract (Subtract)             (None, None, 600)    0           bidirectional[0][0]              \n",
      "                                                                 dot_1[0][0]                      \n",
      "__________________________________________________________________________________________________\n",
      "multiply (Multiply)             (None, None, 600)    0           bidirectional[0][0]              \n",
      "                                                                 dot_1[0][0]                      \n",
      "__________________________________________________________________________________________________\n",
      "subtract_1 (Subtract)           (None, None, 600)    0           bidirectional_1[0][0]            \n",
      "                                                                 dot_2[0][0]                      \n",
      "__________________________________________________________________________________________________\n",
      "multiply_1 (Multiply)           (None, None, 600)    0           bidirectional_1[0][0]            \n",
      "                                                                 dot_2[0][0]                      \n",
      "__________________________________________________________________________________________________\n",
      "concatenate (Concatenate)       (None, None, 2400)   0           bidirectional[0][0]              \n",
      "                                                                 dot_1[0][0]                      \n",
      "                                                                 subtract[0][0]                   \n",
      "                                                                 multiply[0][0]                   \n",
      "__________________________________________________________________________________________________\n",
      "concatenate_1 (Concatenate)     (None, None, 2400)   0           bidirectional_1[0][0]            \n",
      "                                                                 dot_2[0][0]                      \n",
      "                                                                 subtract_1[0][0]                 \n",
      "                                                                 multiply_1[0][0]                 \n",
      "__________________________________________________________________________________________________\n",
      "Compresser (TimeDistributed)    (None, None, 300)    720300      concatenate[0][0]                \n",
      "                                                                 concatenate_1[0][0]              \n",
      "__________________________________________________________________________________________________\n",
      "dropout_2 (Dropout)             (None, None, 300)    0           Compresser[0][0]                 \n",
      "__________________________________________________________________________________________________\n",
      "dropout_3 (Dropout)             (None, None, 300)    0           Compresser[1][0]                 \n",
      "__________________________________________________________________________________________________\n",
      "finaldecoder (Bidirectional)    (None, None, 600)    1442400     dropout_2[0][0]                  \n",
      "                                                                 dropout_3[0][0]                  \n",
      "__________________________________________________________________________________________________\n",
      "global_average_pooling1d (Globa (None, 600)          0           finaldecoder[0][0]               \n",
      "                                                                 finaldecoder[1][0]               \n",
      "__________________________________________________________________________________________________\n",
      "global_max_pooling1d (GlobalMax (None, 600)          0           finaldecoder[0][0]               \n",
      "                                                                 finaldecoder[1][0]               \n",
      "__________________________________________________________________________________________________\n",
      "concatenate_2 (Concatenate)     (None, 2400)         0           global_average_pooling1d[0][0]   \n",
      "                                                                 global_max_pooling1d[0][0]       \n",
      "                                                                 global_average_pooling1d[1][0]   \n",
      "                                                                 global_max_pooling1d[1][0]       \n",
      "__________________________________________________________________________________________________\n",
      "dropout_4 (Dropout)             (None, 2400)         0           concatenate_2[0][0]              \n",
      "__________________________________________________________________________________________________\n",
      "dense300_ (Dense)               (None, 100)          240100      dropout_4[0][0]                  \n",
      "__________________________________________________________________________________________________\n",
      "dropout_5 (Dropout)             (None, 100)          0           dense300_[0][0]                  \n",
      "__________________________________________________________________________________________________\n",
      "judge300_ (Dense)               (None, 3)            303         dropout_5[0][0]                  \n",
      "==================================================================================================\n",
      "Total params: 10,088,503\n",
      "Trainable params: 5,287,903\n",
      "Non-trainable params: 4,800,600\n",
      "__________________________________________________________________________________________________\n"
     ]
    }
   ],
   "source": [
    "### Simple model\n",
    "import tensorflow as tf\n",
    "\n",
    "from tensorflow import keras\n",
    "from tensorflow.keras.layers import *\n",
    "from tensorflow.keras.regularizers import *\n",
    "\n",
    "vocab_size= 8000\n",
    "dim = 300\n",
    "inp1 = keras.Input(shape=(None, ), name = \"hypothesis\")\n",
    "inp2 = keras.Input(shape=(None, ), name = \"evidence\")\n",
    "\n",
    "embedding_hyp_layer = Embedding(\n",
    "        input_dim=vocab_size+1,\n",
    "        output_dim=dim,\n",
    "        weights=[embedding_matrix],\n",
    "        trainable=False)\n",
    "embedding_evi_layer = Embedding(\n",
    "        input_dim=vocab_size+1,\n",
    "        output_dim=dim,\n",
    "        weights=[embedding_matrix],\n",
    "        trainable=False)\n",
    "\n",
    "\n",
    "x_hyp = embedding_hyp_layer(inp1)\n",
    "x_hyp = tf.keras.layers.Dropout(0.5)(x_hyp)\n",
    "\n",
    "x_evi = embedding_evi_layer(inp2)\n",
    "x_evi = tf.keras.layers.Dropout(0.5)(x_evi)\n",
    "\n",
    "#Encoder = Bidirectional(CuDNNLSTM(units=300, return_sequences=True, kernel_initializer='RandomNormal'))\n",
    "\n",
    "lstm_layer1 = tf.keras.layers.Bidirectional(tf.keras.layers.RNN(tf.keras.layers.LSTMCell(dim), return_sequences=True))(x_hyp)\n",
    "\n",
    "lstm_layer2 = tf.keras.layers.Bidirectional(tf.keras.layers.RNN(tf.keras.layers.LSTMCell(dim), return_sequences=True))(x_evi)\n",
    "\n",
    "# lstm_layer1 = Encoder(x_hyp)\n",
    "# lstm_layer2 = Encoder(x_evi)\n",
    "\n",
    "F_p, F_h = lstm_layer1, lstm_layer2\n",
    "Eph = keras.layers.Dot(axes=(2, 2))([F_h, F_p])  # [batch_size, Hsize, Psize]\n",
    "Eh = Lambda(lambda x: keras.activations.softmax(x))(Eph)  # [batch_size, Hsize, Psize]\n",
    "Ep = keras.layers.Permute((2, 1))(Eph)  # [batch_size, Psize, Hsize)\n",
    "Ep = Lambda(lambda x: keras.activations.softmax(x))(Ep)  # [batch_size, Psize, Hsize]\n",
    "    \n",
    "    \n",
    "    \n",
    "# 4, Normalize score matrix, encoder premesis and get alignment\n",
    "PremAlign = keras.layers.Dot((2, 1))([Ep, lstm_layer2]) # [-1, Psize, dim]\n",
    "HypoAlign = keras.layers.Dot((2, 1))([Eh, lstm_layer1]) # [-1, Hsize, dim]\n",
    "mm_1 = keras.layers.Multiply()([lstm_layer1, PremAlign])\n",
    "mm_2 = keras.layers.Multiply()([lstm_layer2, HypoAlign])\n",
    "sb_1 = keras.layers.Subtract()([lstm_layer1, PremAlign])\n",
    "sb_2 = keras.layers.Subtract()([lstm_layer2, HypoAlign])\n",
    "    \n",
    "\n",
    "# concat [a_, a~, a_ * a~, a_ - a~], isto za b_, b~\n",
    "PremAlign = keras.layers.Concatenate()([lstm_layer1, PremAlign, sb_1, mm_1,])  # [batch_size, Psize, 2*unit]\n",
    "HypoAlign = keras.layers.Concatenate()([lstm_layer2, HypoAlign, sb_2, mm_2])  # [batch_size, Hsize, 2*unit]\n",
    "\n",
    "# inputs = tf.keras.Input(shape=(10, 128, 128, 3))\n",
    "# conv_2d_layer = tf.keras.layers.Conv2D(64, (3, 3))\n",
    "# outputs = tf.keras.layers.TimeDistributed(conv_2d_layer)(inputs)\n",
    "# outputs.shape\n",
    "\n",
    "\n",
    "# ff layer w/RELU activation\n",
    "Compresser = tf.keras.layers.TimeDistributed(Dense(300,\n",
    "                                   kernel_regularizer=l2(0.0),\n",
    "                                   bias_regularizer=l2(0.0),\n",
    "                                   activation='relu'),\n",
    "                             name='Compresser')\n",
    "\n",
    "PremAlign = Compresser(PremAlign)\n",
    "HypoAlign = Compresser(HypoAlign)\n",
    "    \n",
    "\n",
    "# 5, Final biLST < Encoder + Softmax Classifier\n",
    "# Decoder = Bidirectional(CuDNNLSTM(units=100, return_sequences=True, kernel_initializer='RandomNormal'),\n",
    "#                         name='finaldecoder')  # [-1,2*units]\n",
    "\n",
    "Decoder = tf.keras.layers.Bidirectional(tf.keras.layers.RNN(tf.keras.layers.LSTMCell(dim), return_sequences=True), name='finaldecoder')\n",
    "\n",
    "\n",
    "PremAlign = Dropout(0.5)(PremAlign)\n",
    "HypoAlign = Dropout(0.5)(HypoAlign)\n",
    "final_p = Decoder(PremAlign)\n",
    "final_h = Decoder(HypoAlign)\n",
    "print(final_p)\n",
    "\n",
    "AveragePooling = tf.keras.layers.GlobalAveragePooling1D()\n",
    "MaxPooling = tf.keras.layers.GlobalMaxPooling1D()\n",
    "\n",
    "# AveragePooling = Lambda(lambda x: K.mean(x, axis=1)) # outs [-1, dim]\n",
    "# MaxPooling = Lambda(lambda x: K.max(x, axis=1)) # outs [-1, dim]\n",
    "avg_p = AveragePooling(final_p)\n",
    "avg_h = AveragePooling(final_h)\n",
    "max_p = MaxPooling(final_p)\n",
    "max_h = MaxPooling(final_h)\n",
    "# concat of avg and max pooling for hypothesis and premise\n",
    "Final = keras.layers.Concatenate()([avg_p, max_p, avg_h, max_h])\n",
    "# dropout layer\n",
    "Final = Dropout(0.5)(Final)\n",
    "# ff layer w/tanh activation\n",
    "Final = Dense(100,\n",
    "              kernel_regularizer=l2(0.0),\n",
    "              bias_regularizer=l2(0.0),\n",
    "              name='dense300_',\n",
    "              activation='tanh')(Final)\n",
    "\n",
    "# last dropout factor\n",
    "factor = 1\n",
    "# if self.LastDropoutHalf:\n",
    "#     factor = 2\n",
    "Final = Dropout(0.5 / factor)(Final)\n",
    "\n",
    "# softmax classifier\n",
    "Final = Dense(3,\n",
    "              activation='softmax',\n",
    "              name='judge300_')(Final)\n",
    "model = tf.keras.Model(inputs=[inp1, inp2], outputs=Final)\n",
    "\n",
    "LearningRate = 4e-4\n",
    "GradientClipping = 10.0\n",
    "\n",
    "# Optimizer = keras.optimizers.Adam(lr = LearningRate,\n",
    "#             clipnorm = GradientClipping)\n",
    "\n",
    "model.compile(loss='categorical_crossentropy',\n",
    "          optimizer='adam',\n",
    "          metrics=['accuracy'])\n",
    "\n",
    "model.summary()\n",
    "# lstm_layer1 = Encoder(x_hyp)\n",
    "# lstm_layer2 = Encoder(x_evi)\n",
    "\n",
    "# query_value_attention_seq = tf.keras.layers.Attention()(\n",
    "#     [lstm_layer1, lstm_layer2])\n",
    "\n",
    "# query_encoding = tf.keras.layers.GlobalAveragePooling1D()(\n",
    "#     lstm_layer1)\n",
    "# query_value_attention = tf.keras.layers.GlobalAveragePooling1D()(\n",
    "#     query_value_attention_seq)\n",
    "\n",
    "# w = keras.layers.concatenate([query_encoding, query_value_attention], axis = 1)\n",
    "# x1 = tf.keras.layers.Dense(16, activation='relu')(w)\n",
    "# x2 = tf.keras.layers.Dropout(0.3)(x1)\n",
    "# output = tf.keras.layers.Dense(3, activation='softmax')(x2)\n",
    "# model = keras.Model(inputs=[inp1, inp2], outputs=output)\n",
    "# model.compile(loss='categorical_crossentropy',\n",
    "#           optimizer=tf.keras.optimizers.Adam(),\n",
    "#           metrics=['accuracy'])\n",
    "# model.summary()"
   ]
  },
  {
   "cell_type": "code",
   "execution_count": 58,
   "metadata": {},
   "outputs": [],
   "source": [
    "# !rm -rf tmp/attention_esim\n",
    "# !mkdir -p tmp/attention_esim"
   ]
  },
  {
   "cell_type": "code",
   "execution_count": 324,
   "metadata": {},
   "outputs": [],
   "source": [
    "checkpoint_filepath = 'tmp/attention_esim/checkpoint_fever_rte_esim'\n",
    "model_checkpoint_callback = tf.keras.callbacks.ModelCheckpoint(\n",
    "    filepath=checkpoint_filepath,\n",
    "    save_weights_only=True,\n",
    "    monitor='val_accuracy',\n",
    "    mode='max',\n",
    "    save_best_only=True)\n",
    "\n",
    "stop_early = tf.keras.callbacks.EarlyStopping(monitor='val_loss', patience=5)"
   ]
  },
  {
   "cell_type": "code",
   "execution_count": 59,
   "metadata": {},
   "outputs": [],
   "source": [
    "# from tensorflow.python.framework.ops import enable_eager_execution\n",
    "# enable_eager_execution()\n",
    "for d in dataset.take(1):\n",
    "    break"
   ]
  },
  {
   "cell_type": "code",
   "execution_count": 60,
   "metadata": {
    "tags": []
   },
   "outputs": [
    {
     "name": "stdout",
     "output_type": "stream",
     "text": [
      "Epoch 1/30\n",
      "2272/2272 [==============================] - 910s 378ms/step - loss: 0.6711 - accuracy: 0.7257 - val_loss: 0.6834 - val_accuracy: 0.6818\n",
      "Epoch 2/30\n",
      "2272/2272 [==============================] - 904s 378ms/step - loss: 0.5301 - accuracy: 0.7929 - val_loss: 0.6262 - val_accuracy: 0.7245\n",
      "Epoch 3/30\n",
      "2272/2272 [==============================] - 906s 378ms/step - loss: 0.4694 - accuracy: 0.8187 - val_loss: 0.5950 - val_accuracy: 0.7469\n",
      "Epoch 4/30\n",
      "2272/2272 [==============================] - 906s 378ms/step - loss: 0.4280 - accuracy: 0.8364 - val_loss: 0.6032 - val_accuracy: 0.7544\n",
      "Epoch 5/30\n",
      "2272/2272 [==============================] - 906s 378ms/step - loss: 0.4004 - accuracy: 0.8495 - val_loss: 0.5533 - val_accuracy: 0.7767\n",
      "Epoch 6/30\n",
      "2272/2272 [==============================] - 903s 377ms/step - loss: 0.3762 - accuracy: 0.8589 - val_loss: 0.5466 - val_accuracy: 0.7781\n",
      "Epoch 7/30\n",
      "2272/2272 [==============================] - 906s 378ms/step - loss: 0.3611 - accuracy: 0.8647 - val_loss: 0.5634 - val_accuracy: 0.7850\n",
      "Epoch 8/30\n",
      "2272/2272 [==============================] - 903s 377ms/step - loss: 0.3486 - accuracy: 0.8701 - val_loss: 0.5354 - val_accuracy: 0.7914\n",
      "Epoch 9/30\n",
      "2272/2272 [==============================] - 901s 376ms/step - loss: 0.3377 - accuracy: 0.8746 - val_loss: 0.5614 - val_accuracy: 0.7951\n",
      "Epoch 10/30\n",
      "2272/2272 [==============================] - 915s 382ms/step - loss: 0.3298 - accuracy: 0.8780 - val_loss: 0.5156 - val_accuracy: 0.7981\n",
      "Epoch 11/30\n",
      "2272/2272 [==============================] - 928s 388ms/step - loss: 0.3239 - accuracy: 0.8794 - val_loss: 0.5298 - val_accuracy: 0.7963\n",
      "Epoch 12/30\n",
      "2272/2272 [==============================] - 908s 379ms/step - loss: 0.3157 - accuracy: 0.8826 - val_loss: 0.5332 - val_accuracy: 0.7960\n",
      "Epoch 13/30\n",
      "2272/2272 [==============================] - 905s 378ms/step - loss: 0.3119 - accuracy: 0.8844 - val_loss: 0.5795 - val_accuracy: 0.7913\n",
      "Epoch 14/30\n",
      "2272/2272 [==============================] - 901s 376ms/step - loss: 0.3065 - accuracy: 0.8869 - val_loss: 0.5706 - val_accuracy: 0.7938\n",
      "Epoch 15/30\n",
      "2272/2272 [==============================] - 906s 378ms/step - loss: 0.3021 - accuracy: 0.8876 - val_loss: 0.5617 - val_accuracy: 0.8004\n"
     ]
    }
   ],
   "source": [
    "history = model.fit(dataset, epochs = 30, validation_data=dataset_dev, callbacks=[stop_early, model_checkpoint_callback])"
   ]
  },
  {
   "cell_type": "code",
   "execution_count": 63,
   "metadata": {},
   "outputs": [
    {
     "data": {
      "text/plain": [
       "Text(0.5, 1.0, 'Metrics for training FEVER dataset, 145K samples (glove 300d) ESIM')"
      ]
     },
     "execution_count": 63,
     "metadata": {},
     "output_type": "execute_result"
    },
    {
     "data": {
      "image/png": "[encoded data removed]",
      "text/plain": [
       "<Figure size 432x288 with 1 Axes>"
      ]
     },
     "metadata": {
      "needs_background": "light"
     },
     "output_type": "display_data"
    }
   ],
   "source": [
    "import matplotlib.pyplot as plt\n",
    "fig, ax = plt.subplots(1,1)\n",
    "x = np.arange(len(history.history['loss']))\n",
    "ax.plot(x, history.history['loss'], label=\"train loss\")\n",
    "ax.plot(x, history.history['val_loss'], label=\"val loss\")\n",
    "plt.xlabel(\"epochs\")\n",
    "plt.ylabel(\"categorial cross entropy loss\")\n",
    "ax.legend()\n",
    "plt.title(\"Metrics for training FEVER dataset, 145K samples (glove 100d) ESIM\")\n",
    "#history.history['loss']"
   ]
  },
  {
   "cell_type": "code",
   "execution_count": 325,
   "metadata": {},
   "outputs": [
    {
     "name": "stdout",
     "output_type": "stream",
     "text": [
      "156/156 [==============================] - 28s 69ms/step - loss: 0.5466 - accuracy: 0.8043\n"
     ]
    },
    {
     "data": {
      "text/plain": [
       "[0.5466161370277405, 0.8042868375778198]"
      ]
     },
     "execution_count": 325,
     "metadata": {},
     "output_type": "execute_result"
    }
   ],
   "source": [
    "model.load_weights(checkpoint_filepath)\n",
    "model.evaluate(dataset_dev)"
   ]
  },
  {
   "cell_type": "markdown",
   "metadata": {},
   "source": [
    "#### Test accuracy"
   ]
  },
  {
   "cell_type": "code",
   "execution_count": null,
   "metadata": {},
   "outputs": [],
   "source": [
    "model.load_weights(checkpoint_filepath)\n",
    "model.evaluate(dataset_test)"
   ]
  },
  {
   "cell_type": "code",
   "execution_count": null,
   "metadata": {},
   "outputs": [],
   "source": []
  },
  {
   "cell_type": "code",
   "execution_count": null,
   "metadata": {},
   "outputs": [],
   "source": []
  },
  {
   "cell_type": "code",
   "execution_count": 158,
   "metadata": {},
   "outputs": [
    {
     "data": {
      "text/plain": [
       "<MapDataset shapes: (64, 3), types: tf.int32>"
      ]
     },
     "execution_count": 158,
     "metadata": {},
     "output_type": "execute_result"
    }
   ],
   "source": [
    "ds_y = dataset_test.map(lambda f, l: l)\n",
    "ds_y"
   ]
  },
  {
   "cell_type": "code",
   "execution_count": 176,
   "metadata": {
    "tags": []
   },
   "outputs": [],
   "source": [
    "y_test_onehot = []\n",
    "for d in ds_y.batch(1):\n",
    "    for d1 in d:\n",
    "        y_test_onehot.append(d1.numpy())"
   ]
  },
  {
   "cell_type": "code",
   "execution_count": 186,
   "metadata": {
    "tags": []
   },
   "outputs": [],
   "source": [
    "y_test = np.array([np.argmax(a, axis=1) for a in y_test_onehot]).flatten()"
   ]
  },
  {
   "cell_type": "code",
   "execution_count": 187,
   "metadata": {},
   "outputs": [
    {
     "data": {
      "text/plain": [
       "array([0, 0, 2, ..., 0, 0, 2])"
      ]
     },
     "execution_count": 187,
     "metadata": {},
     "output_type": "execute_result"
    }
   ],
   "source": [
    "y_test"
   ]
  },
  {
   "cell_type": "code",
   "execution_count": 110,
   "metadata": {},
   "outputs": [],
   "source": [
    "y_pred = model.predict(dataset_test)"
   ]
  },
  {
   "cell_type": "code",
   "execution_count": 149,
   "metadata": {},
   "outputs": [],
   "source": [
    "y_pred_bool = np.argmax(y_pred, axis = 1)"
   ]
  },
  {
   "cell_type": "code",
   "execution_count": 153,
   "metadata": {},
   "outputs": [
    {
     "data": {
      "text/plain": [
       "array([0, 0, 2, ..., 0, 0, 2])"
      ]
     },
     "execution_count": 153,
     "metadata": {},
     "output_type": "execute_result"
    }
   ],
   "source": [
    "y_pred_bool"
   ]
  },
  {
   "cell_type": "code",
   "execution_count": 188,
   "metadata": {},
   "outputs": [
    {
     "name": "stdout",
     "output_type": "stream",
     "text": [
      "              precision    recall  f1-score   support\n",
      "\n",
      "           0       0.91      0.86      0.88      3325\n",
      "           1       0.85      0.65      0.74      3331\n",
      "           2       0.70      0.90      0.78      3328\n",
      "\n",
      "    accuracy                           0.80      9984\n",
      "   macro avg       0.82      0.80      0.80      9984\n",
      "weighted avg       0.82      0.80      0.80      9984\n",
      "\n"
     ]
    }
   ],
   "source": [
    "from sklearn.metrics import classification_report\n",
    "print(classification_report(y_test, y_pred_bool))\n",
    "#['NOT ENOUGH INFO', 'REFUTES', 'SUPPORTS'] == [0, 1, 2]"
   ]
  },
  {
   "cell_type": "code",
   "execution_count": null,
   "metadata": {},
   "outputs": [],
   "source": []
  },
  {
   "cell_type": "markdown",
   "metadata": {},
   "source": [
    "### The PIPELINE setting"
   ]
  },
  {
   "cell_type": "code",
   "execution_count": null,
   "metadata": {},
   "outputs": [],
   "source": []
  },
  {
   "cell_type": "code",
   "execution_count": null,
   "metadata": {},
   "outputs": [],
   "source": []
  },
  {
   "cell_type": "code",
   "execution_count": null,
   "metadata": {},
   "outputs": [],
   "source": []
  },
  {
   "cell_type": "code",
   "execution_count": null,
   "metadata": {},
   "outputs": [],
   "source": []
  },
  {
   "cell_type": "markdown",
   "metadata": {},
   "source": [
    "### Compute FEVER score"
   ]
  },
  {
   "cell_type": "code",
   "execution_count": null,
   "metadata": {},
   "outputs": [],
   "source": []
  },
  {
   "cell_type": "markdown",
   "metadata": {},
   "source": [
    "#### Using keras tokenizer"
   ]
  },
  {
   "cell_type": "code",
   "execution_count": 137,
   "metadata": {},
   "outputs": [],
   "source": [
    "from keras.preprocessing.sequence import pad_sequences\n",
    "from keras.preprocessing.text import Tokenizer"
   ]
  },
  {
   "cell_type": "code",
   "execution_count": 139,
   "metadata": {},
   "outputs": [],
   "source": [
    "tokenizer = tf.keras.preprocessing.text.Tokenizer(\n",
    "    num_words=None,\n",
    "    filters='!\"#$%&()*+,-./:;<=>?@[\\\\]^_`{|}~\\t\\n',\n",
    "    lower=True, split=' ', char_level=False, oov_token=None,\n",
    "    document_count=0\n",
    ")"
   ]
  },
  {
   "cell_type": "code",
   "execution_count": 144,
   "metadata": {
    "collapsed": true,
    "jupyter": {
     "outputs_hidden": true
    },
    "tags": []
   },
   "outputs": [
    {
     "name": "stdout",
     "output_type": "stream",
     "text": [
      "tf.Tensor(\n",
      "[b'[START] the dayton agreement was signed in april . [END] The General Framework Agreement for Peace in Bosnia and Herzegovina , also known as the Dayton Agreement , Dayton Accords , Paris Protocol or Dayton-Paris Agreement , is the peace agreement reached at Wright-Patterson Air Force Base near Dayton , Ohio , United States , in November 1995 , and formally signed in Paris on 14 December 1995 . These accords put an end to the - year-long Bosnian War , one of the Yugoslav Wars . '\n",
      " b\"[START] heinrich himmler was an overseer . [END] Heinrich Luitpold Himmler -LRB- -LSB- \\xcb\\x88ha\\xc9\\xaan\\xca\\x81\\xc9\\xaa\\xc3\\xa7 \\xcb\\x88lu\\xcb\\x91\\xc9\\xaat\\xcb\\x8cp\\xc9\\x94lt \\xcb\\x88h\\xc9\\xaaml\\xc9\\x90 -RSB- ; 7 October 1900 -- 23 May 1945 -RRB- was Reichsf\\xc3\\xbchrer of the Schutzstaffel -LRB- Protection Squadron ; SS -RRB- , and a leading member of the Nazi Party -LRB- NSDAP -RRB- of Germany . Nazi leader Adolf Hitler briefly appointed him a military commander and later Commander of the Replacement -LRB- Home -RRB- Army and General Plenipotentiary for the administration of the entire Third Reich -LRB- Generalbevollm\\xc3\\xa4chtigter f\\xc3\\xbcr die Verwaltung -RRB- . Himmler was one of the most powerful men in Nazi Germany and one of the people most directly responsible for the Holocaust .   As a member of a reserve battalion during World War I , Himmler did not see active service . He studied agronomy in college , and joined the Nazi Party in 1923 and the SS in 1925 . In 1929 , he was appointed Reichsf\\xc3\\xbchrer-SS by Hitler . Over the next 16 years , he developed the SS from a mere 290-man battalion into a million-strong paramilitary group , and , following Hitler 's orders , set up and controlled the Nazi concentration camps . He was known to have good organisational skills and for selecting highly competent subordinates , such as Reinhard Heydrich in 1931 . From 1943 onwards , he was both Chief of German Police and Minister of the Interior , overseeing all internal and external police and security forces , including the Gestapo -LRB- Secret State Police -RRB- . Himmler had a lifelong interest in occultism , interpreting Germanic neopagan and V\\xc3\\xb6lkisch beliefs to promote the racial policy of Nazi Germany , and incorporating esoteric symbolism and rituals into the SS .   On Hitler 's behalf , Himmler formed the Einsatzgruppen and built extermination camps . As facilitator and overseer of the concentration camps , Himmler directed the killing of some six million Jews , between 200,000 and 500,000 Romani people , and other victims ; the total number of civilians killed by the regime is estimated at eleven to fourteen million people . Most of them were Polish and Soviet citizens .   Late in World War II , Hitler charged Himmler with the command of the Army Group Upper Rhine and the Army Group Vistula ; he failed to achieve his assigned objectives and Hitler replaced him in these posts . Realising that the war was lost , he attempted to open peace talks with the western Allies without Hitler 's knowledge shortly before the war ended . Hearing of this , Hitler dismissed him from all his posts in April 1945 and ordered his arrest . Himmler attempted to go into hiding , but was detained and then arrested by British forces once his identity became known . While in British custody , he committed suicide on 23 May 1945 . \"\n",
      " b\"[START] it s always sunny in philadelphia premiered in . [END] It 's Always Sunny in Philadelphia is an American television black comedy sitcom that premiered on FX on August 4 , 2005 . It moved to FXX beginning with the ninth season , and has remained there since . It was created by Rob McElhenney , who developed it with Glenn Howerton . It is executive produced and primarily written by McElhenney , Howerton , and Charlie Day , all of whom star alongside Kaitlin Olson and Danny DeVito . The series follows the exploits of `` The Gang '' , a group of self-centered friends who run the Irish bar Paddy 's Pub in South Philadelphia .   The series was renewed for a twelfth season that premiered on January 4 , 2017 . On April 1 , 2016 , the series was renewed for a thirteenth and fourteenth season , which will tie it with The Adventures of Ozzie and Harriet as the longest running live-action sitcom in American TV history . \"\n",
      " b\"[START] newport beach is the setting of arrested development . [END] Arrested Development is an American television sitcom created by Mitchell Hurwitz , which originally aired on Fox for three seasons from November 2 , 2003 to February 10 , 2006 . A fourth season of 15 episodes was released on Netflix on May 26 , 2013 . The show follows the fictitious Bluth family , a formerly wealthy and habitually dysfunctional family . It is presented in a continuous format , incorporating handheld camera work and voice-over narration , as well as the use of occasional archival photos and historical footage . The show also utilizes several long-running `` Easter egg '' jokes throughout each season . Ron Howard serves as both an executive producer and the series ' uncredited narrator . Set in Newport Beach , California , Arrested Development was filmed primarily in Culver City and Marina del Rey .   After its debut in 2003 , the series received widespread critical acclaim , six Primetime Emmy Awards , and one Golden Globe Award , and has attracted a cult following , including several fan-based websites . In 2007 , Time listed the show among its `` All-TIME 100 TV Shows '' ; in 2008 , it was ranked 16th on Entertainment Weekly `` New TV Classics '' list . In 2011 , IGN named Arrested Development the `` funniest show of all time '' . Its humor has been cited as a key influence on later single-camera sitcoms such as 30 Rock and Community .   Despite critical acclaim , Arrested Development received low ratings and viewership on Fox , which canceled the series in 2006 . Rumors of an additional season and a feature film persisted until 2011 , when Netflix agreed to license new episodes and distribute them exclusively on its video streaming service . These episodes were later released in 2013 . Netflix has also commissioned a fifth season of Arrested Development which will premiere in 2018 . \"\n",
      " b\"[START] international relations includes the u . n . [END] David Woodward -LRB- born 1959 , West Molesey , Surrey -RRB- is a British economist and economic advisor . He graduated from Keble College , Oxford in philosophy , politics and economics in 1982 . After graduating , he joined the Foreign and Commonwealth Office in London , where he worked as an economic advisor working on debt , structural adjustment and other development issues , with emphasis on Latin America and South East Asia .   He later spent two years in Washington , D.C. , working in the office of the UK 's executive director to the International Monetary Fund and the World Bank . After returning to Britain , he worked as a research coordinator on debt for Save the Children and -LRB- after several years as an independent consultant -RRB- as a policy officer for Asia for The Catholic Institute for International Relations -LRB- now Progressio -RRB- . He then spent two and a half years as a development economist with the World Health Organisation , and several years as an independent consultant , before joining the New Economics Foundation , where he was head of the New Global Economy Programme for three years .   He is again an independent writer and researcher , focusing primarily on global economic governance , the interface between development , the environment and health , and alternatives to the neoliberal model of development .   David Woodward currently lives in the Netherlands with his wife .   Books  Woodward , D. -LRB- 1992 -RRB- Debt , Adjustment and Poverty in Developing Countries . London : Pinter Publishers/Save the Children -LRB- UK -RRB- :  Volume I : National and International Dimensions of Debt and Adjustment in Developing Countries .  Volume II : The Impact of Debt and Adjustment at the Household Level in Developing Countries .  Woodward , D. -LRB- 2001 -RRB- The Next Crisis ? Direct and Equity Investment in Developing Countries . London : -LSB- Zed Books -RSB- . Smith , R. , Beaglehole , R. , Woodward , D. and Drager , N. -LRB- eds . -RRB- -LRB- 2003 -RRB- Global Public Goods for Health : Health Economic and Public Health Perspectives . Oxford : Oxford University Press .   Articles in Academic Journals  Drager , N. , Woodward , D. , Beaglehole , R. and Lipson , D. -LRB- 2001 -RRB- `` Globalization and the Health of the Poor '' . Development , 44 -LRB- 1 -RRB- : pp. 73 -- 76  Woodward , D. , Drager , N. , Beaglehole , R. and Lipson , D. -LRB- 2001 -RRB- `` Globalization and Health : a Framework for Analysis and Action '' Bulletin of the World Health Organization 79 -LRB- 9 -RRB- : pp. 875 -- 881  Smith , R. , Woodward , D. , Acharya , A. , Beaglehole , R. and Drager , N. -LRB- 2004 -RRB- `` Communicable Disease Control : A ` Global Public Good ' Perspective '' . Health Policy and Planning 19 -LRB- 5 -RRB- : pp. 271 -- 278  Woodward . D. -LRB- 2005 -RRB- `` The GATS and Trade in Health Services : Implications for HealthCare in Developing Countries '' . Review of International Political Economy 12 -LRB- 3 -RRB- : pp. 511 -- 534  McCoy , D. Narayan , R. Baum , F. , Sanders , D. , Serag , H. , Salvage , J. , Rowson , M. , Schrecker , T. , Woodward , D. , Labonte , R. , Sengupta , A. , Qizphe , A. and Schuftan , C. -LRB- 2006 -RRB- `` A new Director General for WHO -- an opportunity for bold and inspirational leadership '' . The Lancet 368 -LRB- 9553 -RRB- : pp. 2179 -- 2183 , 16 December 2006  Woodward , D. -LRB- 2007 -RRB- `` Vote buying in the UN Security Council '' . The Lancet 369 -LRB- 9555 -RRB- : 12 -- 13 , 6 January 2007  Woodward , D. and Labonte , R. -LRB- 2008 -RRB- `` Reducing Poverty Sustainably , in a Carbon-Constrained Future '' . The Lancet 372 -LRB- 9634 -RRB- : 186 -- 188 , 19 July 2008  Woodward , D. -LRB- forthcoming -RRB- `` Of ` Misguided Notions ' and Misguiding Nations : the Growth Report , Poverty and Climate Change '' . Political QuarterlyChapters/papers in edited volumes , etc. .  Woodward , D. -LRB- 1993 -RRB- `` The Costs to the North of the Current Approach to Adjustment '' . One World Action : The British Economy and Third World Debt . London : One World Action  Woodward , D. -LRB- 1995 -RRB- Direct and Portfolio Investment : Advantages and Disadvantages . EURODAD : World Credit Tables , 1994 -- 95 . European Network on Debt and Development , Brussels  Woodward , D. -LRB- 1996 -RRB- `` IMF Gold Sales as a Source of Funds for Multilateral Debt Reduction '' . EURODAD : World Credit Tables , 1996 . European Network on Debt and Development , Brussels  Woodward , D. -LRB- 1996 -RRB- `` Debt Sustainability and the Debt Overhang in Highly-Indebted Poor Countries : some Comments on the IMF 's Views '' . EURODAD : World Credit Tables , 1996 . European Network on Debt and Development , Brussels  Woodward , D. -LRB- 1996 -RRB- `` Effects of Globalization and Liberalization on Poverty : Concepts and Issues '' . UNCTAD : Globalisation and Liberalisation : Effects of International Economic Relations on Poverty . Geneva : UNCTAD . Inter-Agency Thematic Contribution to the International Year for the Eradication of PovertyWoodward , D. -LRB- 1998 -RRB- `` The HIPC Initiative : Beyond the Basics '' . EURODAD : Taking Stock of Debt : Creditor Policy in the Face of Debtor Poverty . Brussels : European Network on Debt and DevelopmentWoodward , D. , Drager , N. , Beaglehole , R. and Lipson , D. -LRB- 2002 -RRB- `` Globalization , Global Public Goods and Health '' . Vieira , C. and Drager , N. -LRB- Eds . -RRB- Trade in Health Services : Global , Regional and Country Perspectives . Washington D.C. Pan-American Health Organization  Woodward , D. and Smith , R. -LRB- 2003 -RRB- `` Global Public Goods for Health : Concepts and Issues '' . Smith , R. , Beaglehole , R. , Woodward , D. and Drager , N. -LRB- eds . -RRB- -LRB- 2003 -RRB- Global Public Goods for Health : Health Economic and Public Health Perspectives . Oxford : Oxford University Press  Smith , R. and Woodward , D. -LRB- 2003 -RRB- `` Global Public Goods for Health : Use and Limitations '' . Smith , R. , Beaglehole , R. , Woodward , D. and Drager , N. -LRB- eds . -RRB- -LRB- 2003 -RRB- `` Global Public Goods for Health : Health Economic and Public Health Perspectives '' . Oxford : Oxford University Press  Smith , R. , Beaglehole , R. , Woodward , D. and Drager , N. -LRB- 2003 -RRB- `` Global Public Goods for Health : from Theory to Policy '' . Smith et al. -LRB- 2003 -RRB- , as above  Woodward , D. and Simms , A. -LRB- 2007 -RRB- `` Growth Is Failing the Poor : the Unbalanced Distribution of the Benefits and Costs of Global Economic Growth '' . Jomo , K.S. and Baudot , J. -LRB- eds . -RRB- Flat World , Big Gaps : Economic Liberalization , Globalization , Poverty and Inequality . London : Zed Books/UN Department of Economic and Social Affairs  Lee , K. , Koivusalo , M. , Ollila , E. , Labont\\xc3\\xa9 , R. , Schuftan , C. and Woodward , D. -LRB- 2009 -RRB- `` Global Governance for Health '' . Labonte , R. , Schrecker , T. , Packer , C. and Runnels , V. -LRB- eds . -RRB- Globalisation and Health : Pathways , Evidence and Policy . London : Routledge  Smith , R. , Woodward , D. , Acharya , A. , Beaglehole , R. and Drager , N. -LRB- 2009 -RRB- `` Communicable Disease Control : a ` Global Public Good ' '' . J. Kirton -LRB- ed . -RRB- Global Health . The Library of Essays on Global Governance . Ashgate   Working/discussion papers , etc. .  Woodward , D. -LRB- 1992 -RRB- `` Present Pain , Future Hope '' ? : Debt , Adjustment and Poverty in Developing Countries '' . Overseas Department Working Paper No. 1 , Save the Children -LRB- UK -RRB- , London  Woodward , D. -LRB- 1992 -RRB- Debt , Adjustment and Food Security . Overseas Department Working Paper No. 3 , Save the Children -LRB- UK -RRB- , London  Woodward , D. -LRB- 1993 -RRB- Structural Adjustment Policies : What Are They ? Are They Working ? Briefing Paper , Catholic Institute for International Relations , London  Costello , A. , Watson , F. and Woodward , D. -LRB- 1994 -RRB- Human Face or Human Fa\\xc3\\xa7ade ? Adjustment and the Health of Mothers and Children . Occasional Paper , Institute of Child Health , London  Woodward , D. and Pryke , J. -LRB- 1994 -RRB- The GATT Agreement on Agriculture : will it Help Developing Countries ? Seminar Background Paper , Catholic Institute for International Relations , London  Woodward , D. , Eduardo , T. and Berlin , G. -LRB- 1994 -RRB- Refugees , Rehabilitation , Resources : Issues in Basic Education Planning in Mozambique , World University Service -LRB- UK -RRB- , London and Instituto Nacional do Desenvolvimento da Educa\\xc3\\xa7\\xc3\\xa3o , Maputo  Woodward , D. -LRB- 1994 -RRB- Reform of the EU Sugar R\\xc3\\xa9gime : Implications for Developing Country Sugar Exporters . Occasional Paper , Catholic Institute for International Relations , London  Pryke , J. and Woodward , D. -LRB- 1995 -RRB- The Common Agricultural Policy : Sustainable or Bankrupt ? Conference Background Paper , Catholic Institute for International Relations , London  Woodward , D. -LRB- 1997 -RRB- User Charges for Health Service in Developing Countries : an Approach to Analysing the Effects on Utilisation and Health Outcomes . Occasional Paper , Institute of Child Health , London  Woodward , D. -LRB- 1998 -RRB- The IMF , the World Bank and Economic Policy in Bosnia . Working Paper , Oxfam -LRB- UK/I -RRB- , Oxford  Woodward , D. -LRB- 1998 -RRB- `` Globalisation , Uneven Development and Poverty : Recent Trends and Policy Implications '' Poverty Working Paper No. 4 , United Nations Development Programme -RSB-  Woodward , D. -LRB- 1998 -RRB- Drowning by Numbers : the IMF , the World Bank and North-South Financial Flows . Bretton Woods Project  Northover , H. , Woodward , D. and Joyner , K. -LRB- 1998 -RRB- A Human Development Approach to Debt Relief for the World 's Poor . North-South Issues , No. 21 , Trocaire , Dublin CAFOD website  Woodward , D. -LRB- 1999 -RRB- Time to Change the Prescription : a Policy Response to the Asian Financial Crisis . Special Briefing , Catholic Institute for International Relations , London  Woodward , D. -LRB- 1999 -RRB- Contagion and Cure : Tackling the Crisis in Global Finance . Comment , Catholic Institute for International Relations , London  Woodward , D. -LRB- 2000 -RRB- Health , Global Public Goods and Externalities : some General Issues . Discussion Paper , Department of Health and Development , World Health Organisation  Woodward , D. -LRB- 2001 -RRB- Globalization and Health : an Analytical Framework . Discussion Paper , Department of Health and Development , World Health Organisation , Geneva  Woodward , D. -LRB- 2001 -RRB- Food Security , Nutrition and Health : Implications of Trade Liberalisation and the WTO Agreements . Discussion Paper , Department of Health and Development , World Health Organisation , Geneva  Woodward , D. -LRB- 2001 -RRB- Trade Barriers and Prices of Essential Health Sector Inputs Background Paper WG4 :9 , Commission on Macroeconomics and Health  Woodward , D. -LRB- 2003 -RRB- Financial Effects of Foreign Direct Investment in the Context of a Possible WTO Agreement on Investment . Trade and Development Working Paper No. 21 , Third World Network , Penang .  Woodward , D. and Simms , A. -LRB- 2006 -RRB- `` Growth Is n't Working : the Uneven Distribution of Costs and Benefits from Economic Growth '' nef -LRB- new economics foundation -RRB- , January 2006  Woodward , D. and Simms , A. -LRB- 2006 -RRB- `` Growth Is Failing the Poor : the Unbalanced Distribution of the Benefits and Costs of Global Economic Growth '' UN Department of Social and Economic Affairs , March 2006  Woodward , D. -LRB- 2007 -RRB- IMF Voting Reform : Need , Opportunity and Options Paper for the G24 Technical Meeting , 12 March 2007  Woodward , D. -LRB- undated -RRB- Democratizing the IMF Policy Briefing No. 2 , G24 -LRB- based on IMF Voting Reform , as above -RRB-  Woodward , D. -LRB- forthcoming -RRB- `` How Poor is `` Poor ? '' -- Towards a Rights-Based Poverty Line '' @ nef -LRB- new economics foundation -RRB-   Electronically published papers  Woodward , D. -LRB- 2003 -RRB- Trading Health for Profit : the Implications of the GATS and Trade in Health Services for Health in Developing Countries UK Partnership for Global Health  Woodward , D. -LRB- 2007 -RRB- `` Economic models : is there an alternative to neoliberalism ? '' nef -LRB- new economics foundation -RRB- , Development and Environment Group ; BOND , March 2007  Woodward , D. -LRB- 2009 -RRB- `` The IMF : Governance '' . Backgrounder , # 2 , EG4 Health , March 2009   Evidence to parliamentary committees , etc. .  Woodward , D. -LRB- 1997 -RRB- `` Memorandum from Mr David Woodward '' and `` Examination of Witness '' . House of Commons Treasury Committee : International Monetary Fund -LRB- HC68 -RRB-  Woodward , D. -LRB- 1998 -RRB- `` Memorandum from Mr David Woodward , Freelance Development Consultant '' and `` Examination of Witnesses '' . In House of Commons International Development Committee : Third Report : Debt Relief -LRB- HC563 -RRB-  Woodward , D. -LRB- 2005 -RRB- `` The IMF and World Bank in the 21st Century : the Need for Change '' Written submission to the European Parliament on `` Strategic Reforms of the IMF '' on behalf of Jubilee Research , nef , 9 May 2005  Woodward , D. -LRB- 2006 -RRB- `` Written Submission to the Treasury Select Committee Inquiry into ` Globalisation : The Role of the IMF ' '' Jubilee Research @ nef -LRB- new economics foundation -RRB- , January 2006  Woodward , D. -LRB- 2006 -RRB- `` Supplementary Evidence to the Treasury Select Committee Inquiry : ` Globalisation : The Role of the IMF ' '' Jubilee Research @ nef -LRB- new economics foundation -RRB- , 27 April 2006  Woodward , D. -LRB- 2008 -RRB- International Development Committee -LRB- UK Parliament -RRB- Inquiry : ` Sustainable Development in a Changing Climate ' . Submission by David Woodward -LRB- as an independent consultant -RRB- , 28 November 2008   Shorter articles published in print media  Woodward , D. -LRB- 1994 -RRB- `` Adjustment in Africa : it 's Hurting but is it Working ? '' Series of commissioned articles for Africa Analysis , 21 January -- 18 March 1994  Woodward , D. -LRB- 2005 -RRB- `` Sticking Plaster Solutions '' . Parliamentary Monitor , November 2005 -LRB- International Finance Facility -RRB-  Woodward , D. -LRB- 2007 -RRB- `` Imagine if our Leaders were Chosen on World Bank Lines '' . The Guardian '' , 14 June 2007   Category : British economists  Category : British non-fiction writers  Category :1959 births  Category : Alumni of Keble College , Oxford  Category : Living people  Category : People from Surrey  Category : British male writers \"\n",
      " b'[START] paul walker has a son named thomas . [END] Paul Walker -LRB- 1973 \\xe2\\x88\\x92 2013 -RRB- was an American actor .   Paul Walker may also refer to :   Paul Atlee Walker -LRB- 1881 -- 1965 -RRB- , Chairman of the Federal Communications Commission  Paul Allen Walker -LRB- 1946 -- 1991 -RRB- , American social psychologist , founding president of World Professional Association of Transgender Health  Paul Walker -LRB- American football -RRB- -LRB- 1925 -- 1972 -RRB- , American football player  Paul Walker -LRB- footballer , born 1949 -RRB- , English footballer  Paul Walker -LRB- footballer , born 1960 -RRB- , English footballer  Paul Walker -LRB- footballer , born 1977 -RRB- , Scottish footballer  Paul Walker -LRB- footballer , born 1992 -RRB- , Welsh football goalkeeper  Paul Walker -LRB- Arctic explorer -RRB- -LRB- born 1966 -RRB- , English born Arctic explorer , mountaineer and Arctic guide  Paul Walker , former member of Irish boy band Mytown '\n",
      " b\"[START] ben kingsley is a singer . [END] Gandhi is a 1982 British-Indian epic biographical drama film which dramatises the life of Mohandas Karamchand Gandhi , the leader of India 's non-violent , non-cooperative independence movement against the United Kingdom 's rule of the country during the 20th century . Gandhi was written by John Briley and produced and directed by Richard Attenborough . It stars Ben Kingsley in the title role . The film covers Gandhi 's life from a defining moment in 1893 , as he is thrown off a South African train for being in a whites-only compartment , and concludes with his assassination and funeral in 1948 . Although a practising Hindu , Gandhi 's embracing of other faiths , particularly Christianity and Islam , is also depicted .   Gandhi was released in India on 30 November 1982 , in the United Kingdom on 3 December , and in the United States on 10 December . It was nominated for Academy Awards in eleven categories , winning eight , including Best Picture and Best Director for Attenborough , Best Actor for Ben Kingsley , and Best Original Screenplay for Briley . The film was screened retrospective on 12 August 2016 as the Opening Film at the Independence Day Film Festival jointly presented by the Indian Directorate of Film Festivals and Ministry of Defense , commemorating 70th Indian Independence Day . The screenplay of Gandhi is available as a published book . \"\n",
      " b'[START] robert richardson has collaborated with director john sayles . [END] Robert Richardson may refer to :   Robert Richardson -LRB- cinematographer -RRB- -LRB- born 1955 -RRB- , American cinematographer  Robert Richardson -LRB- travel writer -RRB- -LRB- 1779 -- 1847 -RRB- , British medical doctor and author of a travelogue  Robert Richardson -LRB- religion -RRB- -LRB- 1806 -- 1876 -RRB- , American medical doctor and religious leader  Robert Richardson Jr. -LRB- racing driver -RRB- -LRB- born 1982 -RRB- , American racing car driver  Robert Richardson -LRB- Labour politician -RRB- -LRB- 1862 -- 1943 -RRB- , British Labour Party Member of Parliament , 1918 -- 1931  Robert Richardson -LRB- basketball -RRB- , American basketball coach for the Utah Utes  Robert Richardson -LRB- poet -RRB- -LRB- 1850 -- 1901 -RRB- , Australian poet  Robert Richardson -LRB- Lord Treasurer -RRB- -LRB- died 1578 -RRB- , Scottish cleric and administrator  Robert Richardson -LRB- British Army officer -RRB- -LRB- 1929 -- 2014 -RRB-  Robert Richardson -LRB- RAAF officer -RRB- -LRB- born 1941 -RRB-  Robert A. Richardson -LRB- 1827 -- 1895 -RRB- , American lawyer and justice for the Virginia Supreme Court of Appeals  Robert Coleman Richardson -LRB- 1937 -- 2013 -RRB- , American physicist , 1996 Nobel Prize in Physics  Robert C. Richardson , Jr. -LRB- 1882 -- 1954 -RRB- , United States Army General who served during World Wars I and II  Robert C. Richardson III -LRB- 1918 -- 2011 -RRB- , U.S. Army officer  Robert D. Richardson -LRB- born 1934 -RRB- , American historian  Robert Lorne Richardson -LRB- 1860 -- 1921 -RRB- , Canadian journalist  Robert S. Richardson -LRB- 1902 -- 1981 -RRB- , American astronomer and science fiction writer -LRB- as Philip Latham -RRB-  Robert V. Richardson -LRB- 1820 -- 1870 -RRB- , Confederate States Army general in the American Civil War  Robert W. Richardson -LRB- 1910 -- 2007 -RRB- , editor of Narrow Gauge News  Robert Richardson -LRB- sitting volleyball -RRB- -LRB- born 1982 -RRB- , captain of the Great Britain sitting volleyball team  Robert Richardson -LRB- alpine skier -RRB- -LRB- 1927 -- 2004 -RRB- , Canadian alpine skier '\n",
      " b\"[START] dwayne johnson has been featured in a canadian business magazine . [END] Pain & Gain is a 2013 American black comedy crime film directed by Michael Bay and starring Mark Wahlberg , Dwayne Johnson , and Anthony Mackie . The film reunites wrestlers Dwayne Johnson and Kurt Angle . The film is loosely based on a story Pete Collins published in a 1999 series of Miami New Times articles and compiled in the book Pain & Gain : This Is a True Story -LRB- 2013 -RRB- , which details the kidnapping , extortion , torture , and murder of several victims by an organized group of criminals comprising bodybuilders affiliated with the Sun Gym . The film 's title is a play on the common adage , frequently used in fitness : `` No pain , no gain '' .   Released on April 11 , 2013 , Pain & Gain received mixed reviews ; critics praised the acting , script , and comedic chemistry among the main actors , but criticized the violence , directing , and historical inaccuracies . Against a $ 26 million budget , the film grossed over $ 86 million worldwide . While the film tied with Grown Ups 2 for 3rd place on the Village Voice Film Poll 's Worst Film list , Dwayne Johnson placed 10th for Best Supporting Actor . \"\n",
      " b\"[START] missing stars a woman . [END] Missing -LRB- stylized as missing . -RRB- is a 1982 American historical drama film directed by Costa-Gavras and starring Sissy Spacek , Jack Lemmon , Melanie Mayron , John Shea , Janice Rule and Charles Cioffi . It is based on the true story of American journalist Charles Horman , who disappeared in the bloody aftermath of the US-backed Chilean coup of 1973 that deposed the democratically elected socialist President Salvador Allende . Set largely during the days and weeks following Horman 's disappearance , the movie depicts his father and wife searching to determine his fate . The film examines the relationship between Horman 's wife Beth -LRB- Spacek -RRB- and her father-in-law , American businessman Ed Horman -LRB- Lemmon -RRB- .   The film premiered at the 1982 Cannes Film Festival where it was jointly awarded the Palme d'Or -LRB- with Yol -RRB- . The film was released theatrically on February 12 , 1982 . It received four nominations at the 55th Academy Awards : Best Picture , Best Actor in a Leading Role -LRB- Lemmon -RRB- , Best Actress in a Leading Role -LRB- Spacek -RRB- and winning Best Writing -LRB- Screenplay Based on Material from Another Medium -RRB- . Missing grossed $ 16 million against its $ 5 million budget . The film was banned in Chile during Augusto Pinochet 's dictatorship , even though neither Chile nor Pinochet is ever mentioned by name -LRB- although the Chilean cities of Vi\\xc3\\xb1a del Mar and Santiago are -RRB- .  Melanie Joy Mayron -LRB- born October 20 , 1952 -RRB- is an American actress and director of film and television . Mayron is best known for portraying the role of photographer Melissa Steadman on the ABC drama thirtysomething .  Mary Janice Rule -LRB- August 15 , 1931 -- October 17 , 2003 -RRB- was an American actress `` at her most convincing playing embittered , neurotic socialites '' .  Mary Elizabeth `` Sissy '' Spacek -LRB- -LSB- \\xcb\\x88spe\\xc9\\xaas\\xc9\\x9bk -RSB- born December 25 , 1949 -RRB- is an American actress and singer . She began her career in the early 1970s and first gained attention for her role in the film Badlands -LRB- 1973 -RRB- . Her career-defining role came in 1976 when she played the title character of Carrie White in Brian De Palma 's horror film Carrie , based on the first novel by Stephen King , for which she earned an Oscar nomination -LRB- very rare for an actor or actress in a horror movie -RRB- . She won the Academy Award for Best Actress for her portrayal of Loretta Lynn in the 1980 film Coal Miner 's Daughter , and also earned a Grammy nomination for the song `` Coal Miner 's Daughter '' from the film 's soundtrack . She went on to receive further Oscar nominations for her roles in Missing -LRB- 1982 -RRB- , The River -LRB- 1984 -RRB- and Crimes of the Heart -LRB- 1986 -RRB- . Coal Miner 's Daughter and Crimes of the Heart also won her the Golden Globe Award for Best Actress in a Musical or Comedy .   A six-time Oscar nominee , she received her sixth nomination for In the Bedroom -LRB- 2001 -RRB- , which also won her a third Golden Globe , this time for Best Actress in a Drama . Her other films include 3 Women -LRB- 1977 -RRB- , Raggedy Man -LRB- 1981 -RRB- , JFK -LRB- 1991 -RRB- , Affliction -LRB- 1997 -RRB- , The Straight Story -LRB- 1999 -RRB- , Tuck Everlasting -LRB- 2002 -RRB- , Nine Lives -LRB- 2005 -RRB- and The Help -LRB- 2011 -RRB- . Spacek also played matriarch Sally Rayburn in the Netflix thriller series Bloodline . The show was canceled in 2016 , airing its third and final season in 2017 . \"\n",
      " b\"[START] jeff bezos is the founded a spaceflight company . [END] Jeff Bezos -LRB- -LSB- \\xcb\\x88be\\xc9\\xaazo\\xca\\x8as -RSB- born Jeffrey Preston Jorgensen ; January 12 , 1964 -RRB- is an American technology and retail entrepreneur , investor , and philanthropist who is best known as the founder , chairman , and chief executive officer of Amazon.com , which is the world 's largest online shopping retailer . The company began as an Internet merchant of books and expanded to a wide variety of products and services , most recently video streaming and audio streaming . Amazon.com is currently the world 's largest Internet sales company on the World Wide Web , as well as being the world 's largest provider of cloud infrastructure services , through its Amazon Web Services arm .   Bezos 's other diversified business interests include aerospace and newspapers . He is the founder and manufacturer of Blue Origin -LRB- founded in 2000 -RRB- with test flights to space which started in 2015 , and plans for commercial suborbital human spaceflight beginning in 2018 . In 2013 , Bezos purchased The Washington Post newspaper . A number of other business investments are managed through Bezos Expeditions .   With an estimated net worth of US$ 82 billion as of May 2017 , Bezos is currently the third-richest person in the world , just behind Bill Gates and Amancio Ortega in first and second places , and just ahead of Warren Buffett in fourth place . His rise to this position occurred after Amazon registered a 67 % jump in share price . \"\n",
      " b\"[START] the united states became the world s sole superpower in . [END] The United States of America -LRB- USA -RRB- , commonly known as the United States -LRB- U.S. -RRB- or America , is a constitutional federal republic composed of 50 states , a federal district , five major self-governing territories , and various possessions .  Forty-eight of the fifty states and the federal district are contiguous and located in North America between Canada and Mexico . The state of Alaska is in the northwest corner of North America , bordered by Canada to the east and across the Bering Strait from Russia to the west . The state of Hawaii is an archipelago in the mid-Pacific Ocean . The U.S. territories are scattered about the Pacific Ocean and the Caribbean Sea . Nine time zones are covered . The geography , climate and wildlife of the country are extremely diverse .   At 3.8 million square miles -LRB- 9.8 million km2 -RRB- and with over 324 million people , the United States is the world 's third - or fourth-largest country by total area , third-largest by land area , and the third-most populous . It is one of the world 's most ethnically diverse and multicultural nations , and is home to the world 's largest immigrant population . The capital is Washington , D.C. , and the largest city is New York City ; nine other major metropolitan areas -- each with at least 4.5 million inhabitants and the largest having more than 13 million people -- are Los Angeles , Chicago , Dallas , Houston , Philadelphia , Miami , Atlanta , Boston , and San Francisco .   Paleo-Indians migrated from Asia to the North American mainland at least 15,000 years ago . European colonization began in the 16th century . The United States emerged from 13 British colonies along the East Coast . Numerous disputes between Great Britain and the colonies following the Seven Years ' War led to the American Revolution , which began in 1775 . On July 4 , 1776 , during the course of the American Revolutionary War , the colonies unanimously adopted the Declaration of Independence . The war ended in 1783 with recognition of the independence of the United States by Great Britain , representing the first successful war of independence against a European power . The current constitution was adopted in 1788 , after the Articles of Confederation , adopted in 1781 , were felt to have provided inadequate federal powers . The first ten amendments , collectively named the Bill of Rights , were ratified in 1791 and designed to guarantee many fundamental civil liberties .   The United States embarked on a vigorous expansion across North America throughout the 19th century , displacing Native American tribes , acquiring new territories , and gradually admitting new states until it spanned the continent by 1848 . During the second half of the 19th century , the American Civil War led to the end of legal slavery in the country . By the end of that century , the United States extended into the Pacific Ocean , and its economy , driven in large part by the Industrial Revolution , began to soar . The Spanish -- American War and confirmed the country 's status as a global military power . The United States emerged from as a global superpower , the first country to develop nuclear weapons , the only country to use them in warfare , and a permanent member of the United Nations Security Council . The end of the Cold War and the dissolution of the Soviet Union in 1991 left the United States as the world 's sole superpower . The U.S. is a founding member of the United Nations , World Bank , International Monetary Fund , Organization of American States -LRB- OAS -RRB- , and other international organizations .   The United States is a highly developed country , with the world 's largest economy by nominal GDP and second-largest economy by PPP . Though its population is only 4.3 % of the world total , Americans hold nearly 40 % of the total wealth in the world . The United States ranks among the highest in several measures of socioeconomic performance , including average wage , human development , per capita GDP , and productivity per person . While the U.S. economy is considered post-industrial , characterized by the dominance of services and knowledge economy , the manufacturing sector remains the second-largest in the world . Accounting for approximately a quarter of global GDP and a third of global military spending , the United States is the world 's foremost economic and military power . The United States is a prominent political and cultural force internationally , and a leader in scientific research and technological innovations . \"\n",
      " b\"[START] rb leipzig is based in france . [END] RasenBallsport Leipzig e.V. , commonly known as RB Leipzig , is a German association football club based in Leipzig , Saxony . The club was founded in 2009 by initiative of energy drink-maker Red Bull GmbH who purchased a playing right of the fifth division side SSV Markranst\\xc3\\xa4dt with the intention of advancing the new club to the top-flight Bundesliga within eight years . Men 's professional football is run by the spin-off organization RasenballSport Leipzig GmbH . RB Leipzig plays its home matches at the Red Bull Arena .   In its inaugural season in 2009 -- 10 , RB Leipzig dominated the NOFV-Oberliga S\\xc3\\xbcd -LRB- V -RRB- and was promoted as champions to the Regionalliga Nord -LRB- IV -RRB- . RB Leipzig won the 2012 -- 13 Regionalliga Nordost season without conceding a single defeat and was promoted to the 3 . Liga -LRB- III -RRB- , then finished the 2013 -- 14 3 . Liga season as runner-up and was promoted to the 2 . Bundesliga -LRB- II -RRB- as the first team since the introduction of the 3 . Liga to win promotion after only one season .   On 8 May 2016 , RB Leipzig ensured promotion to the Bundesliga for the 2016 -- 17 season with a 2 -- 0 defeat of Karlsruher SC . One year later , RB Leipzig captured a place in the 2017 -- 18 UEFA Champions League by finishing as runner-up of the Bundesliga .  The Free State of Saxony -LRB- der Freistaat Sachsen -LSB- \\xcb\\x88f\\xca\\x81a\\xc9\\xaa\\xcc\\xaf\\xca\\x83ta\\xcb\\x90t \\xcb\\x88zaksn\\xcc\\xa9 -RSB- Swobodny stat Sakska -RRB- is a landlocked federal state of Germany , bordering the federal states of Brandenburg , Saxony Anhalt , Thuringia , and Bavaria , as well as the countries of Poland -LRB- Lower Silesian and Lubusz Voivodeships -RRB- and the Czech Republic -LRB- Karlovy Vary , Liberec and \\xc3\\x9ast\\xc3\\xad nad Labem Regions -RRB- . Its capital is Dresden , and its largest city is Leipzig .   Saxony is the tenth largest of Germany 's sixteen states , with an area of 18,413 km2 , and the sixth most populous , with 4 million people .   Located in the middle of a large , formerly all German-speaking part of Europe , the history of the state of Saxony spans more than a millennium . It has been a medieval duchy , an electorate of the Holy Roman Empire , a kingdom , and twice a republic .   The area of the modern state of Saxony should not be confused with Old Saxony , the area inhabited by Saxons . Old Saxony corresponds approximately to the modern German states of Lower Saxony , Saxony-Anhalt and the Westphalian part of North Rhine-Westphalia . \"\n",
      " b\"[START] central america contains honduras . [END] Central America -LRB- Am\\xc3\\xa9rica Central or Centroam\\xc3\\xa9rica -RRB- is the southernmost , isthmian portion of the North American continent , which connects with South America on the southeast . Central America is bordered by Mexico to the north , Colombia to the southeast , the Caribbean Sea to the east , and the Pacific Ocean to the west . Central America consists of seven countries : Belize , Costa Rica , El Salvador , Guatemala , Honduras , Nicaragua , and Panama . The combined population of Central America is between 41,739,000 -LRB- 2009 estimate -RRB- and 42,688,190 -LRB- 2012 estimate -RRB- .   Central America is a part of the Mesoamerican biodiversity hotspot , which extends from northern Guatemala through to central Panama . Due to the presence of several active geologic faults and the Central America Volcanic Arc , there is a great deal of seismic activity in the region . Volcanic eruptions and earthquakes occur frequently ; these natural disasters have resulted in the loss of many lives and much property .   In the Pre-Columbian era , Central America was inhabited by the indigenous peoples of Mesoamerica to the north and west and the Isthmo-Colombian peoples to the south and east . Soon after Christopher Columbus 's voyages to the Americas , the Spanish began to colonize the Americas . From 1609 until 1821 , most of the territory within Central America -- except for the lands that would become Belize and Panama -- was governed by the Viceroyalty of New Spain from Mexico City as the Captaincy General of Guatemala . After New Spain achieved independence from Spain in 1821 , some of its provinces were annexed to the First Mexican Empire , but soon seceded from Mexico to form the Federal Republic of Central America , which lasted from 1823 to 1838 . The seven states finally became independent autonomous states : beginning with Nicaragua , Honduras , Costa Rica , and Guatemala -LRB- 1838 -RRB- ; followed by El Salvador -LRB- 1841 -RRB- ; then Panama -LRB- 1903 -RRB- ; and finally Belize -LRB- 1981 -RRB- . \"\n",
      " b'[START] ronaldo maczinski s birthday is widely celebrated . [END] Ronaldo is the Portuguese , Italian and Spanish equivalent of the English , Scottish , French , German , Dutch , Swedish , and Hungarian name Ronald .   Famous people known as Ronaldo include :   Ronaldo -LRB- Brazilian footballer -RRB- -LRB- born 1976 -RRB- , Ronaldo Lu\\xc3\\xads Naz\\xc3\\xa1rio de Lima  Cristiano Ronaldo -LRB- born 1985 -RRB- , Portuguese international footballer  Ronaldo de Assis Moreira -LRB- born 1980 -RRB- , Brazilian international footballer , most commonly as Ronaldinho  Ronaldo Guiaro -LRB- born 1974 -RRB- , Brazilian international footballer  Ronaldo Rodrigues de Jesus -LRB- born 1965 -RRB- , Brazilian international footballer  Ronaldo Maczinski -LRB- born 1980 -RRB- , Brazilian footballer  Ronaldo Soares Giovanelli -LRB- born 1967 -RRB- , Brazilian footballer  Ronaldo Puno , Philippine campaign manager '\n",
      " b\"[START] susan atkins was a member of the supergroup asia . [END] Atkins is a surname of English origin . At the time of the British Census of 1881 , its frequency was highest in Buckinghamshire -LRB- 6.0 times the British average -RRB- , followed by Huntingdonshire , Leicestershire , Warwickshire , Rutland , Kent , Dorset , Norfolk and Berkshire . The name Atkins may refer to :   Al Atkins , British singer  Anna Atkins , British pioneer of photography  Barry K. Atkins , American admiral  B. T. S. Atkins -LRB- Sue Atkins -RRB- , British lexicographer  Brett Atkins -LRB- born 1964 -RRB- , Australian professional rugby league footballer of the 1980s and '90s  Charlotte Atkins , United Kingdom Member of Parliament  Chet Atkins , guitarist and record producer  Cholly Atkins , American choreographer for Motown artists  Christopher Atkins , American actor  Chucky Atkins , NBA basketball player  C. Clyde Atkins , American judge  Colin Atkins , Canadian politician  Coral Atkins , British actress  David Atkins , Australian stage director  Doug Atkins , American football player  Eileen Atkins , English actress  Ernest Atkins , Australian Rules footballer  Essence Atkins , American actress  Garrett Atkins , American baseball player  Gary Atkins , rugby league footballer  Geno Atkins , NFL football player  Henry Atkins -LRB- disambiguation -RRB-  Humphrey Atkins , British politician  Ian Atkins , English footballer  Sir Ivor Atkins , Welsh choirmaster  Jeffrey Atkins , American rapper Ja Rule  Joe Atkins , Minnesota State Representative  John Atkins , Irish scientist  Juan Atkins , American techno musician  Kelley Atkins , Canadian curler Kelley Law  Larry Atkins , formerly of the Kansas City Chiefs  Lucy Atkins , British author  Madeleine Atkins CBE , British academic  Mark Atkins , Australian didgeridoo player  Martin Atkins , British drummer -LSB-  Nate Atkins American Singer Songwriter  Nicole Atkins , American singer-songwriter  Norman Atkins , Canadian politician  Peter Atkins , professor of chemistry and author  Robert Atkins -LRB- nutritionist -RRB- , physician noted for the Atkins Nutritional Approach -LRB- Atkins diet -RRB-  Robert Atkins -LRB- politician -RRB- , United Kingdom politician  Rodney Atkins , country singer  Sharif Atkins , actor  Susan Atkins -LRB- 1948 -- 2009 -RRB- , Manson family member  Tobi Atkins , Australian actor  Tom Atkins -LRB- disambiguation -RRB-  Tommy Atkins , World War I-era nickname for the iconic British soldier  Toni Atkins , American politician  Vera Atkins , British intelligence officer  Victoria Atkins , British Conservative Party politician , Member of Parliament -LRB- MP -RRB- for Louth and Horncastle since May 2015  William Atkins -LRB- architect -RRB- , Irish architect  William Atkins -LRB- footballer -RRB- , former professional footballer \"\n",
      " b\"[START] cindy mccain is a woman . [END] Cindy Lou Hensley McCain -LRB- born May 20 , 1954 -RRB- is an American businesswoman , philanthropist , and humanitarian , and the wife of long-time United States Senator and 2008 Republican presidential nominee John McCain of Arizona .   She was born and raised in Phoenix , Arizona , as the daughter of wealthy beer distributor Jim Hensley . After receiving bachelor 's and master 's degrees from the University of Southern California , she became a special education teacher . She married John McCain in 1980 and the couple moved to Arizona in 1981 , where her husband would be elected to the United States Congress the following year and has been in office since then . The couple had three children together , in addition to adopting another . From 1988 to 1995 , she founded and operated a nonprofit organization , the American Voluntary Medical Team , which organized trips by medical personnel to disaster-stricken or war-torn third-world areas . During this time , she became addicted to painkillers for several years and resorted to having a physician write illegal prescriptions on her behalf . She reached an agreement with the government in which no charges were filed against her .   Upon her father 's death in 2000 , she inherited majority control and became chair of Hensley & Co. , one of the largest Anheuser-Busch beer distributors in the United States . She participated in both of her husband 's presidential campaigns and , in 2008 , drew both positive and negative scrutiny for her appearance , demeanor , wealth , spending habits , and financial obligations . She continues to be an active philanthropist and serves on the boards of Operation Smile , Eastern Congo Initiative , CARE and HALO Trust , frequently making overseas trips in conjunction with their activities . During the 2010s she has become prominent in the fight against human trafficking . \"\n",
      " b\"[START] nelson mandela was president of south africa from to . [END] Nelson Rolihlahla Mandela -LRB- -LSB- m\\xc3\\xa6n\\xcb\\x88d\\xc9\\x9bl\\xc9\\x99 -RSB- 18 July 1918 -- 5 December 2013 -RRB- was a South African anti-apartheid revolutionary , politician , and philanthropist , who served as President of South Africa from 1994 to 1999 . He was the country 's first black head of state and the first elected in a fully representative democratic election . His government focused on dismantling the legacy of apartheid by tackling institutionalised racism and fostering racial reconciliation . Ideologically an African nationalist and socialist , he served as President of the African National Congress -LRB- ANC -RRB- party from 1991 to 1997 .   A Xhosa , Mandela was born in Mvezo to the Thembu royal family . He studied law at the University of Fort Hare and the University of the Witwatersrand before working as a lawyer in Johannesburg . There he became involved in anti-colonial and African nationalist politics , joining the ANC in 1943 and co-founding its Youth League in 1944 . After the National Party 's white-only government established apartheid -- a system of racial segregation that privileged whites -- he and the ANC committed themselves to its overthrow . Mandela was appointed President of the ANC 's Transvaal branch , rising to prominence for his involvement in the 1952 Defiance Campaign and the 1955 Congress of the People . He was repeatedly arrested for seditious activities and was unsuccessfully prosecuted in the 1956 Treason Trial . Influenced by Marxism , he secretly joined the banned South African Communist Party -LRB- SACP -RRB- . Although initially committed to non-violent protest , in association with the SACP he co-founded the militant Umkhonto we Sizwe in 1961 and led a sabotage campaign against the government . In 1962 , he was arrested for conspiring to overthrow the state and sentenced to life imprisonment in the Rivonia Trial .   Mandela served 27 years in prison , initially on Robben Island , and later in Pollsmoor Prison and Victor Verster Prison . Amid growing domestic and international pressure , and with fears of a racial civil war , President F. W. de Klerk released him in 1990 . Mandela and de Klerk negotiated an end to apartheid and organised the 1994 multiracial general election in which Mandela led the ANC to victory and became President . Leading a broad coalition government which promulgated a new constitution , Mandela emphasised reconciliation between the country 's racial groups and created the Truth and Reconciliation Commission to investigate past human rights abuses . Economically , Mandela 's administration retained its predecessor 's liberal framework despite his own socialist beliefs , also introducing measures to encourage land reform , combat poverty , and expand healthcare services . Internationally , he acted as mediator in the Pan Am Flight 103 bombing trial and served as Secretary-General of the Non-Aligned Movement from 1998 to 1999 . He declined a second presidential term and in 1999 was succeeded by his deputy , Thabo Mbeki . Mandela became an elder statesman and focused on combating poverty and HIV/AIDS through the charitable Nelson Mandela Foundation .   Mandela was a controversial figure for much of his life . Although critics on the right denounced him as a communist terrorist and those on the radical left deemed him too eager to negotiate and reconcile with apartheid 's supporters , he gained international acclaim for his activism . Widely regarded as an icon of democracy and social justice , he received more than 250 honours -- including the Nobel Peace Prize -- and became the subject of a cult of personality . He is held in deep respect within South Africa , where he is often referred to by his Xhosa clan name , Madiba , and described as the `` Father of the Nation '' . \"\n",
      " b\"[START] nina simone was enrolled in juilliard . [END] Nina Simone -LRB- -LSB- \\xcb\\x88ni\\xcb\\x90n\\xc9\\x99_s\\xe1\\xb5\\xbb\\xcb\\x88mo\\xca\\x8an -RSB- born Eunice Kathleen Waymon ; February 21 , 1933 -- April 21 , 2003 -RRB- was an American singer , songwriter , pianist , arranger , and activist in the Civil Rights Movement . Simone employed a broad range of musical styles including classical , jazz , blues , folk , R&B , gospel , and pop .   Born in North Carolina , the sixth child of a preacher , Waymon aspired to be a concert pianist . With the help of a few supporters in her hometown of Tryon , North Carolina , she enrolled in the Juilliard School of Music in New York .   Waymon then applied for a scholarship to study at the prestigious Curtis Institute of Music in Philadelphia , where she was denied despite a well-received audition . Waymon became fully convinced this rejection had been entirely due to her race , a statement that has been a matter of controversy . Years later , two days before her death , the Curtis Institute of Music bestowed on her an honorary degree .   To make a living , Eunice Waymon changed her name to `` Nina Simone '' . The change related to her need to disguise herself from family members , having chosen to play `` the devil 's music '' or `` cocktail piano '' at a nightclub in Atlantic City . She was told in the nightclub that she would have to sing to her own accompaniment , and this effectively launched her career as a jazz vocalist .   Simone recorded more than 40 albums , mostly between 1958 , when she made her debut with Little Girl Blue , and 1974 . She had a hit in the United States in 1958 with `` I Loves You , Porgy '' .   Simone 's musical style fused gospel and pop with classical music , in particular Johann Sebastian Bach , and accompanied expressive , jazz-like singing in her contralto voice . \"\n",
      " b\"[START] turkey ended accession negotiations with the european union . [END] Turkey -LRB- T\\xc3\\xbcrkiye Cumhuriyeti -LSB- \\xcb\\x88ty\\xc9\\xbecije d\\xcd\\xa1\\xca\\x92um\\xcb\\x88hu\\xc9\\xbeijeti -RSB- -RRB- , is a transcontinental country in Eurasia , mainly in Anatolia in Western Asia , with a smaller portion on the Balkan peninsula in Southeast Europe . Turkey is a democratic , secular , unitary , parliamentary republic with a diverse cultural heritage . Turkey is bordered by eight countries : Greece and Bulgaria to the northwest ; Georgia to the northeast ; Armenia , the Azerbaijani exclave of Nakhchivan and Iran to the east ; Iraq and Syria to the south . The country is encircled by seas on three sides : the Aegean Sea is to the west , the Black Sea to the north , and the Mediterranean Sea to the south . The Bosphorus , the Sea of Marmara , and the Dardanelles , which together form the Turkish Straits , divide Thrace and Anatolia ; they also separate Europe and Asia . Ankara is the capital while Istanbul is the country 's largest city and main cultural and commercial centre . Approximately 70-80 % of the country 's citizens identify themselves as ethnic Turks . Other ethnic groups include legally recognised -LRB- Armenians , Greeks , Jews -RRB- and unrecognised -LRB- Kurds , Arabs , Circassians , Albanians , Bosniaks , Georgians , etc. -RRB- minorities . Kurds are the largest ethnic minority group , making up approximately 20 % of the population .   The area of Turkey has been inhabited since the Paleolithic by various ancient Anatolian civilisations , as well as Assyrians , Greeks , Thracians , Phrygians , Urartians and Armenians . After Alexander the Great 's conquest , the area was Hellenized , a process which continued under the Roman Empire and its transition into the Byzantine Empire . The Seljuk Turks began migrating into the area in the 11th century , starting the process of Turkification , which was accelerated by the Seljuk victory over the Byzantines at the Battle of Manzikert in 1071 . The Seljuk Sultanate of R\\xc3\\xbbm ruled Anatolia until the Mongol invasion in 1243 , when it disintegrated into small Turkish beyliks .   In the mid-14th century the Ottomans started uniting Anatolia and created an empire encompassing much of Southeast Europe , West Asia and North Africa , becoming a major power in Eurasia and Africa during the early modern period . The empire reached the peak of its power in the 16th century , especially during the reign -LRB- 1520 -- 1566 -RRB- of Suleiman the Magnificent . It remained powerful and influential for two more centuries , until important setbacks in the 17th and 18th century forced it to cede strategic territories in Europe , signalling the loss of its former military strength and wealth . After the 1913 Ottoman coup d'\\xc3\\xa9tat which effectively put the country under the control of the Three Pashas the Ottoman Empire decided to join the Central Powers during World War I which were ultimately defeated by the Allied Powers . During the war , the Ottoman government committed genocides against its Armenian , Assyrian and Pontic Greek citizens .   Following the war , the conglomeration of territories and peoples that formerly comprised the Ottoman Empire was partitioned into several new states . The Turkish War of Independence -LRB- 1919 -- 1922 -RRB- , initiated by Mustafa Kemal Atat\\xc3\\xbcrk and his colleagues against the occupying Allies , resulted in the abolition of monarchy in 1922 and the establishment of the Republic of Turkey in 1923 , with Atat\\xc3\\xbcrk as its first president . Atat\\xc3\\xbcrk enacted numerous reforms , many of which incorporated various aspects of Western thought , philosophy , and customs into the new form of Turkish government .   Turkey is a charter member of the UN , an early member of NATO , and a founding member of the OECD , OSCE , OIC and G-20 . After becoming one of the first members of the Council of Europe in 1949 , Turkey became an associate member of the EEC in 1963 , joined the EU Customs Union in 1995 and started accession negotiations with the European Union in 2005 . Turkey 's growing economy and diplomatic initiatives have led to its recognition as a regional power while its location has given it geopolitical and strategic importance throughout history .   Turkey 's current administration headed by president Tayyip Erdo\\xc4\\x9fan has reversed many of the country 's earlier reforms which had been in place since the founding of the modern republic of Turkey , such as Freedom of the Press , a Legislative System of Checks and Balances , and a set of standards for secularism in government , as first enacted by Atat\\xc3\\xbcrk . \"\n",
      " b\"[START] christianity failed to spread to australasia . [END] ChristianityFrom Ancient Greek \\xce\\xa7\\xcf\\x81\\xce\\xb9\\xcf\\x83\\xcf\\x84\\xcf\\x8c\\xcf\\x82 , Khrist\\xc3\\xb3s -LRB- Latinized as Christus -RRB- , translating Hebrew \\xd7\\x9e\\xd6\\xb8\\xd7\\xa9\\xd6\\xb4\\xd7\\x81\\xd7\\x99\\xd7\\x97\\xd6\\xb7 , M\\xc4\\x81\\xc5\\xa1\\xc3\\xae\\xc4\\x83\\xe1\\xb8\\xa5 , meaning `` the anointed one '' , with the Latin suffixes - ian and - itas . is an Abrahamic monotheistic religion based on the life and teachings of Jesus Christ , who serves as the focal point for the religion . It is the world 's largest religion , with over 2.4 billion followers , or 33 % of the global population , known as Christians . Christians believe that Jesus is the Son of God and the savior of humanity whose coming as the Messiah -LRB- the Christ -RRB- was prophesied in the Old Testament .   Christian theology is summarized in creeds such as the Apostles ' Creed and Nicene Creed . These professions of faith state that Jesus suffered , died , was buried , descended into hell , and rose from the dead , in order to grant eternal life to those who believe in him and trust in him for the remission of their sins . The creeds further maintain that Jesus bodily ascended into heaven , where he reigns with God the Father in the unity of the Holy Spirit , and that he will return to judge the living and the dead and grant eternal life to his followers . His incarnation , earthly ministry , crucifixion and resurrection are often referred to as `` the gospel '' , meaning `` good news '' . `` Good news '' is a translation of the Ancient Greek term \\xce\\xb5\\xe1\\xbd\\x90\\xce\\xb1\\xce\\xb3\\xce\\xb3\\xce\\xad\\xce\\xbb\\xce\\xb9\\xce\\xbf\\xce\\xbd euang\\xc3\\xa9lion , from which the terms evangelical and evangelism derive . The term gospel also refers to written accounts of Jesus 's life and teaching , four of which -- Matthew , Mark , Luke and John -- are considered canonical and included in the Christian Bible .   Christianity is an Abrahamic religion that began as a Second Temple Judaic sect in the mid-1st century . Originating in Judea , it quickly spread to Europe , Syria , Mesopotamia , Asia Minor , Transcaucasia , Egypt , Ethiopia and India , and by the end of the 4th century had become the official state church of the Roman Empire . Following the Age of Discovery , Christianity spread to the Americas , Australasia , sub-Saharan Africa and the rest of the world through missionary work and colonization . Christianity has played a prominent role in the shaping of Western civilization .   Throughout its history , Christianity has weathered schisms and theological disputes that have resulted in many distinct churches and denominations . Worldwide , the three largest branches of Christianity are the Catholic Church , the Eastern Orthodox Church and the various denominations of Protestantism . The Catholic and Eastern Orthodox churches broke communion with each other in the East -- West Schism of 1054 ; Protestantism came into existence in the Reformation of the 16th century , splitting from the Catholic Church . \"\n",
      " b\"[START] farrah fawcett was in the burning bed . [END] Farrah Fawcett -LRB- born Ferrah Leni Fawcett ; February 2 , 1947 -- June 25 , 2009 -RRB- was an American actress and artist . A four-time Emmy Award nominee and six-time Golden Globe Award nominee , Fawcett rose to international fame when she posed for her iconic red swimsuit poster -- which became the best selling pin-up poster in history -- and starred as private investigator Jill Munroe in the first season of the television series Charlie 's Angels -LRB- 1976 -- 1977 -RRB- . In 1996 , she was ranked No. 26 on TV Guide `` 50 Greatest TV stars of All-Time '' .   Fawcett began her career in 1968 in commercials and guest roles on television . During the 1970s , she appeared in numerous television series , including recurring roles on Harry O -LRB- 1974 -- 1976 -RRB- , and The Six Million Dollar Man -LRB- 1974 -- 1978 -RRB- with then husband , film and television star Lee Majors . Her breakthrough role came in 1976 , when she was cast as Jill Munroe in the ABC series Charlie 's Angels , alongside Kate Jackson and Jaclyn Smith . The show propelled all three to stardom , but especially Fawcett -LRB- then billed as Farrah Fawcett-Majors -RRB- . After appearing in only the first season , Fawcett decided to leave the show which led to legal disputes . Eventually she signed a contract requiring her to make six guest appearances in the show 's third and fourth seasons -LRB- 1978 -- 1980 -RRB- . For her role in Charlie 's Angels she received her first Golden Globe nomination .   In 1983 , Fawcett received positive reviews for her performance in the Off-Broadway play Extremities . She was subsequently cast in the 1986 film version and received a Golden Globe nomination . She received two Emmy Award nominations for her roles in TV movies , as a battered wife in the 1984 film The Burning Bed and as real-life murderer Diane Downs in the 1989 film Small Sacrifices . Her 1980s work in TV movies also earned her four additional Golden Globe nominations .   In 1997 , she gained some negative press for a rambling appearance on The Late Show with David Letterman , but also garnered strong reviews for her role in the film The Apostle with Robert Duvall . She continued in numerous TV series , including recurring roles in the sitcom Spin City -LRB- 2001 -RRB- and the drama The Guardian -LRB- 2002 -- 2003 -RRB- . For the latter , she received her third Emmy nomination . Her film roles include , Love Is a Funny Thing -LRB- 1969 -RRB- , Myra Breckinridge -LRB- 1970 -RRB- , Logan 's Run -LRB- 1976 -RRB- , Sunburn -LRB- 1979 -RRB- , Saturn 3 -LRB- 1980 -RRB- , The Cannonball Run -LRB- 1981 -RRB- , Extremities -LRB- 1986 -RRB- , The Apostle -LRB- 1997 -RRB- , and Dr. T & the Women -LRB- 2000 -RRB- .   Fawcett was diagnosed with anal cancer in 2006 ; the 2009 NBC documentary Farrah 's Story chronicled her battle with the disease . She posthumously earned her fourth Emmy nomination for her work as a producer on the documentary . \"\n",
      " b\"[START] helena bonham carter was nominated for an academy award for best actress in a leading role . [END] Helena Bonham Carter , -LRB- born 26 May 1966 -RRB- is an English actress . She is known for her roles in low-budget arthouse and independent films to large-scale Hollywood productions . She was nominated for the Academy Award for Best Actress for her role as Kate Croy in The Wings of the Dove -LRB- 1997 -RRB- . For her role as Queen Elizabeth in The King 's Speech -LRB- 2010 -RRB- , she was nominated for the Academy Award for Best Supporting Actress and won the BAFTA Award for Best Actress in a Supporting Role . She also won the 2010 International Emmy Award for Best Actress for her role as British author Enid Blyton in the TV film Enid -LRB- 2009 -RRB- .   Bonham Carter began her film career playing the title character in Lady Jane -LRB- 1986 -RRB- , and playing Lucy Honeychurch in A Room with a View -LRB- 1986 -RRB- . Her other film roles include Ophelia in Hamlet -LRB- 1990 -RRB- , Where Angels Fear to Tread -LRB- 1991 -RRB- , Howards End -LRB- 1992 -RRB- , Elizabeth Lavenza in Mary Shelley 's Frankenstein -LRB- 1994 -RRB- , Woody Allen 's Mighty Aphrodite -LRB- 1995 -RRB- , Fight Club -LRB- 1999 -RRB- , Bellatrix Lestrange in the Harry Potter series -LRB- 2007 -- 11 -RRB- , Terminator Salvation -LRB- 2009 -RRB- , Miss Havisham in Great Expectations -LRB- 2012 -RRB- , Madame Th\\xc3\\xa9nardier in Les Mis\\xc3\\xa9rables -LRB- 2012 -RRB- , and The Fairy Godmother in Cinderella -LRB- 2015 -RRB- . She has frequently collaborated with director Tim Burton ; in Planet of the Apes -LRB- 2001 -RRB- , Big Fish -LRB- 2003 -RRB- , Corpse Bride -LRB- 2005 -RRB- , Charlie and the Chocolate Factory -LRB- 2005 -RRB- , Mrs. Lovett in Sweeney Todd : The Demon Barber of Fleet Street -LRB- 2007 -RRB- , Dark Shadows -LRB- 2012 -RRB- , and playing the Red Queen in Alice in Wonderland -LRB- 2010 -RRB- and its sequel Alice Through the Looking Glass -LRB- 2016 -RRB- . Her other television films include A Pattern of Roses -LRB- 1983 -RRB- , Fatal Deception : Mrs. Lee Harvey Oswald -LRB- 1993 -RRB- , Live from Baghdad -LRB- 2002 -RRB- , Toast -LRB- 2010 -RRB- , and Burton & Taylor -LRB- 2013 -RRB- .   She was made a Commander of the Order of the British Empire -LRB- CBE -RRB- in the 2012 New Year Honours list for services to drama , and in January 2014 , the British prime minister , David Cameron , announced that Bonham Carter had been appointed to Britain 's new national Holocaust Commission . \"\n",
      " b\"[START] james garner did not act in multiple films . [END] James Garner -LRB- born James Scott Bumgarner ; April 7 , 1928 -- July 19 , 2014 -RRB- was an American actor , producer , and voice artist . He starred in several television series over more than five decades , including such popular roles as Bret Maverick in the 1950s western comedy series Maverick and Jim Rockford in The Rockford Files , and played leading roles in more than 50 theatrical films , including The Great Escape -LRB- 1963 -RRB- with Steve McQueen , Paddy Chayefsky 's The Americanization of Emily -LRB- 1964 -RRB- , Grand Prix -LRB- 1966 -RRB- , Blake Edwards ' Victor/Victoria -LRB- 1982 -RRB- , Murphy 's Romance -LRB- 1985 -RRB- , for which he received an Academy Award nomination , Space Cowboys -LRB- 2000 -RRB- with Clint Eastwood , and The Notebook -LRB- 2004 -RRB- . \"\n",
      " b\"[START] little mix is a ugandan girl group . [END] Little Mix are a British girl group formed in 2011 during the eighth series of the UK version of The X Factor . They are the first and , so far , only group to win the competition . Following their victory , they signed with Simon Cowell 's record label Syco Music and released a cover of Damien Rice 's `` Cannonball '' as their winner 's single . The members are Jade Thirlwall , Perrie Edwards , Leigh-Anne Pinnock , and Jesy Nelson .   Little Mix released their debut album DNA in 2012 , which peaked inside the top 10 in ten countries including the UK and US . This made Little Mix the first girl group since the Pussycat Dolls to reach the US top 5 with their debut album , as well as earning the highest debut US chart position by a British girl group , breaking the record previously held by the Spice Girls . In the UK , the album spawned the number-one single `` Wings '' . The group 's sophomore effort Salute , which was released in 2013 , became their second album to debut inside the top 10 in both the UK and US . The album produced two top 10 singles in their home country ; `` Move '' and `` Salute '' . Little Mix released their third studio album Get Weird in 2015 and it is their best-selling and longest charting album to date in the UK . The album 's lead single `` Black Magic '' reached number one in the UK and was also nominated for two Brit Awards in 2016 . The group 's 2016 fourth studio album Glory Days became their first number one album in the UK and was also the longest reigning girl group Number 1 since the Spice Girls ' debut album 20 years ago . The album 's lead single `` Shout Out to My Ex '' became the group 's fourth UK number one single , while the second single `` Touch '' became the group 's tenth top ten hit in the UK Singles Chart .   The group won Best British Single for `` Shout Out to My Ex '' at the 2017 Brit Awards , they have also received several other awards during their career , including two MTV Europe Music Awards , two Teen Choice Awards and two Glamour Awards . As of October 2016 the group has achieved four platinum certified albums and eleven certified singles in the UK . With four UK number one singles and highest first week UK album sales for a girl band since the Spice Girls , Little Mix are one of the most successful female acts in contemporary British popular culture : they appeared on Debrett 's 2017 list of the most influential people in the UK . Little Mix currently holds the record for the most VEVO Certified Videos for a British female artist , pushing Adele into second place , and also the most certified videos for a girl group . The group has 10 certified videos in total . \"\n",
      " b'[START] sian brooke has declined every offer to play laura . [END] Sian Brooke -LRB- born Sian Elizabeth Phillips in Lichfield in 1979 -RRB- is a British actress , known for portraying Laura in All About George , Lori in Cape Wrath , and Eurus Holmes in Sherlock . '\n",
      " b\"[START] guam is deemed to be subject to the decolonization process by the african union . [END] Maxwell Mkwezalamba -LRB- born December 22 , 1959 -RRB- is a Malawian politician and economist . He is currently First Alternate Executive Director for Africa Group 1 Constituency , comprising 23 African countries , at the International Monetary Fund in Washington , DC , USA . Before this appointment , he briefly served as Minister of Finance for Malawi under former President Dr. Joyce Banda , before Cabinet was dissolved prior to the May 20 , 2014 Tripartite Elections . Between May 2004 and April 2013 , he served as Commissioner for Economic Affairs for the African Union in Addis Ababa , Ethiopia . When President Peter Mutharika ascended to power in June 2014 , the Finance portfolio was given to Goodall Gondwe .   He graduated in Economics from Chancellor College , University of Malawi with an honours degree in Economics , where he subsequently lectured and headed the Economics Department . He obtained a Master 's degree in Economics in 1984 from the University of Manchester , UK , a Master 's degree in Policy Economics in 1992 and a PhD in Economics in 1995 from the University of Illinois at Urbana-Champaign , Illinois , USA .   In addition to lecturing at the University of Malawi , he has worked in various capacities for the Malawi Confederation of Chambers of Commerce and Industry , the World Bank and the Malawi Government . From May 2013 to October 2013 , he was a Consultant for the World Bank , Africa Region 's Regional Integration Division , on Regional Development Initiatives for the Great Lakes Region of Africa , with a focus on Burundi , Democratic Republic of Congo -LRB- DRC -RRB- , Rwanda and Uganda . He has also worked as a consultant on development , financial and economic management issues for the Malawi Government , the United Nations Development Programme -LRB- UNDP -RRB- , the United Nations Children 's Fund -LRB- UNICEF -RRB- , the World Bank , and the Germany Agency for Technical Cooperation -LRB- GTZ -RRB- .   Mkwezalamba was a founding member of the Economics Association of Malawi -LRB- ECAMA -RRB- and served as its first President between 1998 and 2000 . He was a member of the Monetary Policy Committee and the Economic Management Team in Malawi between 2000 and 2003 and also served as Secretary to Cabinet Committees on the Economy and Budgetary and Financial Matters during the same period . Between 1997 and 2003 , he served on Boards of several organizations , including National Roads Authority , Shire Bus Lines , David Whitehead and Sons , PFG Wright Insurance Brokers , and the Malawi Institute of Management .   He has led and supervised the preparations of major technical and policy-oriented analytical work in Malawi , at the World Bank and at the African Union Commission . Some of this work includes `` The Malawi Public Expenditure Review -LRB- 2000 -RRB- '' , `` The Malawi Poverty Reduction Strategy Paper -LRB- 2000-02 -RRB- '' , `` The Review of the Implementation of the Malawi Poverty Reduction Strategy -LRB- 2003 -RRB- '' , and `` The Review of the Attainment of the Millennium Development Goals in Africa - An African Common Position -LRB- 2005 -RRB- '' . He also contributed to the preparation of the `` Malawi Country Economic Memorandum -LRB- 1999-2000 -RRB- '' ; two World Bank Structural Adjusment Credits -LRB- SACs -RRB- for Malawi , namely , `` The Malawi Fiscal Restructuring and Deregulation Project -LRB- FRDP -RRB- I and II '' ; and Malawi 's National Long-Term Perspective Study -LRB- NLTPS -RRB- - `` Malawi Vision 2020 '' .   He has also provided strategic leadership in the annual joint publications of the African Union Commission , the United Nations Economic Commission for Africa -LRB- UNECA -RRB- , the African Development Bank -LRB- AfDB -RRB- , and the United Nations Development Programme -LRB- UNDP -RRB- . These include `` Assessing Regional Integration in Africa '' , `` Economic Report on Africa '' , `` African Statistical Yearbook '' , and `` Assessing Progress in the Attainment of the Millennium Development Goals in Africa . In addition , he has been Executive and Managing Editor of `` African Integration Review '' , a biannual journal of the African Union Commission 's Department of Economic Affairs .   Between 2009 and 2013 , Mkwezalamba served as the African Union 's Sherpa for the G20 Summit . In this capacity , he played a key role in articulating African Union 's position in the G20 Sherpa 's meetings , that prepare for the G20 Summits of Leaders . Further , from 2008 to 2013 , he played an active role in the preparations of the African Union for the G8 Summits , working closely with G8-Africa Personal Representatives of Heads of State and Government .   While at the African Union Commission , Mkwezalamba worked relentlessly in promoting Africa 's integration , growth and development agenda . This was done in collaboration with the African Union Member States , the Regional Economic Communities -LRB- RECs -RRB- , and various partners , including the United Nations Economic Commission for Africa -LRB- UNECA -RRB- and the African Development Bank -LRB- AfDB -RRB- . His focus was on providing policy guidance , strategic thinking and direction , overall supervision and management , political and technical leadership .   The areas covered included economic policy formulation , coordination and harmonization at the continental level ; establishment of the pan-African financial institutions , namely , the African Central Bank , the African Investment Bank , and the African Monetary Fund ; and private sector development , investment , and resources mobilization , including alternative sources of financing the African Union . Other areas were economic cooperation and regional integration ; statistical development in Africa ; the attainment of the Millennium Development Goals in Africa ; the integration of the New Partnership for Africa 's Development -LRB- NEPAD -RRB- in the structures and processes of the African Union ; and the development of Common African Positions related to economic , financial and development issues .   Author of several papers and publications , Mkwezalamba 's areas of specialization include Macro-Economic Theory and Policy , Monetary Economics , Public Finance , International Trade and Finance , and Economics of Development . He also has experience and expertise in Econometrics , Statistics , Regional Integration , Private Sector Development , and Investment Appraisal and Business Finance . \"\n",
      " b\"[START] south america contains a country . [END] South America is a continent located in the western hemisphere , mostly in the southern hemisphere , with a relatively small portion in the northern hemisphere . It may also be considered a subcontinent of the Americas , which is the model used in nations that speak Romance languages . The reference to South America instead of other regions -LRB- like Latin America or the Southern Cone -RRB- has increased in the last decades due to changing geopolitical dynamics -LRB- in particular , the rise of Brazil -RRB- .   It is bordered on the west by the Pacific Ocean and on the north and east by the Atlantic Ocean ; North America and the Caribbean Sea lie to the northwest . It includes twelve sovereign states -LRB- Argentina , Bolivia , Brazil , Chile , Colombia , Ecuador , Guyana , Paraguay , Peru , Suriname , Uruguay , and Venezuela -RRB- , a part of France -LRB- French Guiana -RRB- , and a non-sovereign area -LRB- the Falkland Islands , a British Overseas Territory though this is disputed by Argentina -RRB- . In addition to this , the ABC islands of the Kingdom of the Netherlands , Trinidad and Tobago , and Panama may also be considered part of South America .   South America has an area of 17,840,000 square kilometers -LRB- 6,890,000 sq mi -RRB- . Its population has been estimated at more than 371,090,000 . South America ranks fourth in area -LRB- after Asia , Africa , and North America -RRB- and fifth in population -LRB- after Asia , Africa , Europe , and North America -RRB- . Brazil is by far the most populous South American country , with more than half of the continent 's population , followed by Colombia , Argentina , Venezuela and Peru . In recent decades Brazil has also concentrated half of the region 's GDP and has become a first regional power .   Most of the population lives near the continent 's western or eastern coasts while the interior and the far south are sparsely populated . The geography of western South America is dominated by the Andes mountains ; in contrast , the eastern part contains both highland regions and large lowlands where rivers such as the Amazon , Orinoco , and Paran\\xc3\\xa1 flow . Most of the continent lies in the tropics .   The continent 's cultural and ethnic outlook has its origin with the interaction of indigenous peoples with European conquerors and immigrants and , more locally , with African slaves . Given a long history of colonialism , the overwhelming majority of South Americans speak Portuguese or Spanish , and societies and states commonly reflect Western traditions . \"\n",
      " b\"[START] michael jordan was in the dream team . [END] Michael Jeffrey Jordan -LRB- born February 17 , 1963 -RRB- , also known by his initials , MJ , is an American retired professional basketball player , businessman , and principal owner and chairman of the Charlotte Hornets . Jordan played 15 seasons in the National Basketball Association -LRB- NBA -RRB- for the Chicago Bulls and Washington Wizards . His biography on the NBA website states : `` By acclamation , Michael Jordan is the greatest basketball player of all time . '' Jordan was one of the most effectively marketed athletes of his generation and was considered instrumental in popularizing the NBA around the world in the 1980s and 1990s .   Jordan played three seasons for coach Dean Smith at the University of North Carolina . As a freshman , he was a member of the Tar Heels ' national championship team in 1982 . Jordan joined the Bulls in 1984 as the third overall draft pick . He quickly emerged as a league star , entertaining crowds with his prolific scoring . His leaping ability , demonstrated by performing slam dunks from the free throw line in slam dunk contests , earned him the nicknames Air Jordan and His Airness . He also gained a reputation for being one of the best defensive players in basketball . In 1991 , he won his first NBA championship with the Bulls , and followed that achievement with titles in 1992 and 1993 , securing a `` three-peat '' . Although Jordan abruptly retired from basketball before the beginning of the 1993 -- 94 NBA season to pursue a new venture in minor league baseball , he returned to the Bulls in March 1995 and led them to three additional championships in 1996 , 1997 , and 1998 , as well as a then-record 72 regular-season wins in the 1995 -- 96 NBA season . Jordan retired for a second time in January 1999 , but returned for two more NBA seasons from 2001 to 2003 as a member of the Wizards .   Jordan 's individual accolades and accomplishments include five Most Valuable Player -LRB- MVP -RRB- Awards , ten All-NBA First Team designations , nine All-Defensive First Team honors , fourteen NBA All-Star Game appearances , three All-Star Game MVP Awards , ten scoring titles , three steals titles , six NBA Finals MVP Awards , and the 1988 NBA Defensive Player of the Year Award . Among his numerous accomplishments , Jordan holds the NBA records for highest career regular season scoring average -LRB- 30.12 points per game -RRB- and highest career playoff scoring average -LRB- 33.45 points per game -RRB- . In 1999 , he was named the greatest North American athlete of the 20th century by ESPN , and was second to Babe Ruth on the Associated Press 's list of athletes of the century . Jordan is a two-time inductee into the Basketball Hall of Fame , having been enshrined in 2009 for his individual career , and again in 2010 as part of the group induction of the 1992 United States men 's Olympic basketball team -LRB- `` The Dream Team '' -RRB- . He became a member of the FIBA Hall of Fame in 2015 .   Jordan is also known for his product endorsements . He fueled the success of Nike 's Air Jordan sneakers , which were introduced in 1985 and remain popular today . Jordan also starred in the 1996 feature film Space Jam as himself . In 2006 , he became part-owner and head of basketball operations for the then-Charlotte Bobcats , buying a controlling interest in 2010 . In 2015 , Jordan became the first billionaire NBA player in history as a result of the increase in value of NBA franchises . He is the third-richest African-American , behind Oprah Winfrey and Robert F. Smith . \"\n",
      " b\"[START] a central venous catheter is also known as a cvc . [END] A central venous catheter -LRB- CVC -RRB- , also known as a central line , central venous line , or central venous access catheter , is a catheter placed into a large vein . Catheters can be placed in veins in the neck -LRB- internal jugular vein -RRB- , chest -LRB- subclavian vein or axillary vein -RRB- , groin -LRB- femoral vein -RRB- , or through veins in the arms -LRB- also known as a PICC line , or peripherally inserted central catheters -RRB- . It is used to administer medication or fluids that are unable to be taken by mouth or would harm a smaller peripheral vein , obtain blood tests -LRB- specifically the `` central venous oxygen saturation '' -RRB- , and measure central venous pressure . \"\n",
      " b\"[START] the population of kazakhstan includes russians . [END] Kazakhstan -LRB- -LSB- USk\\xc3\\xa6z\\xc3\\xa6k\\xcb\\x88st\\xc3\\xa6n , _ \\xcb\\x8ck\\xc9\\x91\\xcb\\x90z\\xc9\\x91\\xcb\\x90k\\xcb\\x88st\\xc9\\x91\\xcb\\x90n -RSB- , -LSB- \\xcb\\x8ck\\xc3\\xa6z\\xc9\\x99k\\xcb\\x88st\\xc9\\x91\\xcb\\x90n , _ - \\xcb\\x88st\\xc3\\xa6n -RSB- \\xd2\\x9a\\xd0\\xb0\\xd0\\xb7\\xd0\\xb0\\xd2\\x9b\\xd1\\x81\\xd1\\x82\\xd0\\xb0\\xd0\\xbd , tr . Qazaqstan , -LSB- q\\xc9\\x91z\\xc9\\x91q\\xcb\\x88st\\xc9\\x91n -RSB- ; \\xd0\\x9a\\xd0\\xb0\\xd0\\xb7\\xd0\\xb0\\xd1\\x85\\xd1\\x81\\xd1\\x82\\xd0\\xb0\\xd0\\xbd , tr . Kazakhstan -RRB- , officially the Republic of Kazakhstan -LRB- \\xd2\\x9a\\xd0\\xb0\\xd0\\xb7\\xd0\\xb0\\xd2\\x9b\\xd1\\x81\\xd1\\x82\\xd0\\xb0\\xd0\\xbd \\xd0\\xa0\\xd0\\xb5\\xd1\\x81\\xd0\\xbf\\xd1\\x83\\xd0\\xb1\\xd0\\xbb\\xd0\\xb8\\xd0\\xba\\xd0\\xb0\\xd1\\x81\\xd1\\x8b , tr . Qazaqstan Respwbl\\xc3\\xafkas\\xc4\\xb1 ; \\xd0\\xa0\\xd0\\xb5\\xd1\\x81\\xd0\\xbf\\xd1\\x83\\xd0\\xb1\\xd0\\xbb\\xd0\\xb8\\xd0\\xba\\xd0\\xb0 \\xd0\\x9a\\xd0\\xb0\\xd0\\xb7\\xd0\\xb0\\xd1\\x85\\xd1\\x81\\xd1\\x82\\xd0\\xb0\\xd0\\xbd , tr . Respublika Kazakhstan -RRB- , is a transcontinental country in northern Central Asia and Eastern Europe . Kazakhstan is the world 's largest landlocked country , and the ninth largest in the world , with an area of 2,724,900 km \\xc2\\xb2 . Kazakhstan is the dominant nation of Central Asia economically , generating 60 % of the region 's GDP , primarily through its oil/gas industry . It also has vast mineral resources .   Kazakhstan is officially a democratic , secular , unitary , constitutional republic with a diverse cultural heritage . Kazakhstan shares borders with Russia , China , Kyrgyzstan , Uzbekistan , and Turkmenistan , and also adjoins a large part of the Caspian Sea . The terrain of Kazakhstan includes flatlands , steppe , taiga , rock canyons , hills , deltas , snow-capped mountains , and deserts . Kazakhstan has an estimated 18 million people , Given its large land area , its population density is among the lowest , at less than 6 people per square kilometre -LRB- 15 people per sq. mi . -RRB- . The capital is Astana , where it was moved in 1997 from Almaty , the country 's largest city .   The territory of Kazakhstan has historically been inhabited by nomadic tribes . This changed in the 13th century , when Genghis Khan occupied the country as part of the Mongolian Empire . Following internal struggles among the conquerors , power eventually reverted to the nomads . By the 16th century , the Kazakh emerged as a distinct group , divided into three j\\xc3\\xbcz -LRB- ancestor branches occupying specific territories -RRB- . The Russians began advancing into the Kazakh steppe in the 18th century , and by the mid-19th century , they nominally ruled all of Kazakhstan as part of the Russian Empire . Following the 1917 Russian Revolution , and subsequent civil war , the territory of Kazakhstan was reorganised several times . In 1936 , it was made the Kazakh Soviet Socialist Republic , part of the Soviet Union .   Kazakhstan was the last of the Soviet republics to declare independence during the dissolution of the Soviet Union in 1991 . The current President , Nursultan Nazarbayev , has been leader of the country since then , and is characterised as authoritarian , with a government history of human rights abuses and suppression of political opposition . Kazakhstan has worked to develop its economy , especially its dominant hydrocarbon industry . Human Rights Watch says that `` Kazakhstan heavily restricts freedom of assembly , speech , and religion , '' and other human rights organisations regularly describe Kazakhstan 's human rights situation as poor .   Kazakhstan 's 131 ethnicities include Kazakhs -LRB- 63 % of the population -RRB- , Russians , Uzbeks , Ukrainians , Germans , Tatars , and Uyghurs . Islam is the religion of about 70 % of the population , with Christianity practised by 26 % ; Kazakhstan officially allows freedom of religion , but religious leaders who oppose the government are suppressed . The Kazakh language is the state language , and Russian has equal official status for all levels of administrative and institutional purposes . \"\n",
      " b\"[START] england became the first industrialized nation . [END] England is a country that is part of the United Kingdom . It shares land borders with Scotland to the north and Wales to the west . The Irish Sea lies northwest of England and the Celtic Sea lies to the southwest . England is separated from continental Europe by the North Sea to the east and the English Channel to the south . The country covers five-eighths of the island of Great Britain -LRB- which lies in the North Atlantic -RRB- in its centre and south ; and includes over 100 smaller islands such as the Isles of Scilly , and the Isle of Wight .   The area now called England was first inhabited by modern humans during the Upper Palaeolithic period , but takes its name from the Angles , one of the Germanic tribes who settled during the 5th and 6th centuries . England became a unified state in the 10th century , and since the Age of Discovery , which began during the 15th century , has had a significant cultural and legal impact on the wider world . The English language , the Anglican Church , and English law -- the basis for the common law legal systems of many other countries around the world -- developed in England , and the country 's parliamentary system of government has been widely adopted by other nations . The Industrial Revolution began in 18th-century England , transforming its society into the world 's first industrialised nation .   England 's terrain mostly comprises low hills and plains , especially in central and southern England . However , there are uplands in the north -LRB- for example , the mountainous Lake District , and the Pennines -RRB- and in the southwest -LRB- for example , Dartmoor and the Cotswolds -RRB- . The capital is London , which is the largest metropolitan area in both the United Kingdom and the European Union.According to the European Statistical Agency , London is the largest Larger Urban Zone in the EU , a measure of metropolitan area which comprises a city 's urban core as well as its surrounding commuting zone . London 's municipal population is also the largest in the EU . England 's population of over 53 million comprises 84 % of the population of the United Kingdom , largely concentrated around London , the South East , and conurbations in the Midlands , the North West , the North East , and Yorkshire , which each developed as major industrial regions during the 19th century .   The Kingdom of England -- which after 1535 included Wales -- ceased being a separate sovereign state on 1 May 1707 , when the Acts of Union put into effect the terms agreed in the Treaty of Union the previous year , resulting in a political union with the Kingdom of Scotland to create the Kingdom of Great Britain . In 1801 , Great Britain was united with the Kingdom of Ireland through another Act of Union to become the United Kingdom of Great Britain and Ireland . In 1922 the Irish Free State seceded from the United Kingdom , leading to the latter being renamed the United Kingdom of Great Britain and Northern Ireland . \"], shape=(32,), dtype=string)\n"
     ]
    }
   ],
   "source": [
    "for d in ds.take(1):\n",
    "    print(d)"
   ]
  },
  {
   "cell_type": "code",
   "execution_count": 143,
   "metadata": {},
   "outputs": [
    {
     "ename": "AttributeError",
     "evalue": "'tensorflow.python.framework.ops.EagerTensor' object has no attribute 'lower'",
     "output_type": "error",
     "traceback": [
      "\u001b[0;31m---------------------------------------------------------------------------\u001b[0m",
      "\u001b[0;31mAttributeError\u001b[0m                            Traceback (most recent call last)",
      "\u001b[0;32m<ipython-input-143-3a26683d988a>\u001b[0m in \u001b[0;36m<module>\u001b[0;34m\u001b[0m\n\u001b[0;32m----> 1\u001b[0;31m \u001b[0mtokenizer\u001b[0m\u001b[0;34m.\u001b[0m\u001b[0mfit_on_texts\u001b[0m\u001b[0;34m(\u001b[0m\u001b[0mds\u001b[0m\u001b[0;34m)\u001b[0m\u001b[0;34m\u001b[0m\u001b[0;34m\u001b[0m\u001b[0m\n\u001b[0m",
      "\u001b[0;32m~/anaconda3/envs/tensorflow2_latest_p37/gpu_cuda11.0/lib/python3.7/site-packages/keras_preprocessing/text.py\u001b[0m in \u001b[0;36mfit_on_texts\u001b[0;34m(self, texts)\u001b[0m\n\u001b[1;32m    223\u001b[0m                                             \u001b[0mself\u001b[0m\u001b[0;34m.\u001b[0m\u001b[0mfilters\u001b[0m\u001b[0;34m,\u001b[0m\u001b[0;34m\u001b[0m\u001b[0;34m\u001b[0m\u001b[0m\n\u001b[1;32m    224\u001b[0m                                             \u001b[0mself\u001b[0m\u001b[0;34m.\u001b[0m\u001b[0mlower\u001b[0m\u001b[0;34m,\u001b[0m\u001b[0;34m\u001b[0m\u001b[0;34m\u001b[0m\u001b[0m\n\u001b[0;32m--> 225\u001b[0;31m                                             self.split)\n\u001b[0m\u001b[1;32m    226\u001b[0m             \u001b[0;32mfor\u001b[0m \u001b[0mw\u001b[0m \u001b[0;32min\u001b[0m \u001b[0mseq\u001b[0m\u001b[0;34m:\u001b[0m\u001b[0;34m\u001b[0m\u001b[0;34m\u001b[0m\u001b[0m\n\u001b[1;32m    227\u001b[0m                 \u001b[0;32mif\u001b[0m \u001b[0mw\u001b[0m \u001b[0;32min\u001b[0m \u001b[0mself\u001b[0m\u001b[0;34m.\u001b[0m\u001b[0mword_counts\u001b[0m\u001b[0;34m:\u001b[0m\u001b[0;34m\u001b[0m\u001b[0;34m\u001b[0m\u001b[0m\n",
      "\u001b[0;32m~/anaconda3/envs/tensorflow2_latest_p37/gpu_cuda11.0/lib/python3.7/site-packages/keras_preprocessing/text.py\u001b[0m in \u001b[0;36mtext_to_word_sequence\u001b[0;34m(text, filters, lower, split)\u001b[0m\n\u001b[1;32m     41\u001b[0m     \"\"\"\n\u001b[1;32m     42\u001b[0m     \u001b[0;32mif\u001b[0m \u001b[0mlower\u001b[0m\u001b[0;34m:\u001b[0m\u001b[0;34m\u001b[0m\u001b[0;34m\u001b[0m\u001b[0m\n\u001b[0;32m---> 43\u001b[0;31m         \u001b[0mtext\u001b[0m \u001b[0;34m=\u001b[0m \u001b[0mtext\u001b[0m\u001b[0;34m.\u001b[0m\u001b[0mlower\u001b[0m\u001b[0;34m(\u001b[0m\u001b[0;34m)\u001b[0m\u001b[0;34m\u001b[0m\u001b[0;34m\u001b[0m\u001b[0m\n\u001b[0m\u001b[1;32m     44\u001b[0m \u001b[0;34m\u001b[0m\u001b[0m\n\u001b[1;32m     45\u001b[0m     \u001b[0;32mif\u001b[0m \u001b[0msys\u001b[0m\u001b[0;34m.\u001b[0m\u001b[0mversion_info\u001b[0m \u001b[0;34m<\u001b[0m \u001b[0;34m(\u001b[0m\u001b[0;36m3\u001b[0m\u001b[0;34m,\u001b[0m\u001b[0;34m)\u001b[0m\u001b[0;34m:\u001b[0m\u001b[0;34m\u001b[0m\u001b[0;34m\u001b[0m\u001b[0m\n",
      "\u001b[0;32m~/anaconda3/envs/tensorflow2_latest_p37/lib/python3.7/site-packages/tensorflow/python/framework/ops.py\u001b[0m in \u001b[0;36m__getattr__\u001b[0;34m(self, name)\u001b[0m\n\u001b[1;32m    399\u001b[0m         \u001b[0;32mimport\u001b[0m \u001b[0mtensorflow\u001b[0m\u001b[0;34m.\u001b[0m\u001b[0mpython\u001b[0m\u001b[0;34m.\u001b[0m\u001b[0mops\u001b[0m\u001b[0;34m.\u001b[0m\u001b[0mnumpy_ops\u001b[0m\u001b[0;34m.\u001b[0m\u001b[0mnp_config\u001b[0m\u001b[0;34m\u001b[0m\u001b[0;34m\u001b[0m\u001b[0m\n\u001b[1;32m    400\u001b[0m         np_config.enable_numpy_behavior()\"\"\".format(type(self).__name__, name))\n\u001b[0;32m--> 401\u001b[0;31m     \u001b[0mself\u001b[0m\u001b[0;34m.\u001b[0m\u001b[0m__getattribute__\u001b[0m\u001b[0;34m(\u001b[0m\u001b[0mname\u001b[0m\u001b[0;34m)\u001b[0m\u001b[0;34m\u001b[0m\u001b[0;34m\u001b[0m\u001b[0m\n\u001b[0m\u001b[1;32m    402\u001b[0m \u001b[0;34m\u001b[0m\u001b[0m\n\u001b[1;32m    403\u001b[0m   \u001b[0;34m@\u001b[0m\u001b[0mstaticmethod\u001b[0m\u001b[0;34m\u001b[0m\u001b[0;34m\u001b[0m\u001b[0m\n",
      "\u001b[0;31mAttributeError\u001b[0m: 'tensorflow.python.framework.ops.EagerTensor' object has no attribute 'lower'"
     ]
    }
   ],
   "source": [
    "tokenizer.fit_on_texts(ds)"
   ]
  },
  {
   "cell_type": "markdown",
   "metadata": {},
   "source": [
    "##### ESIM Model\n",
    "https://github.com/dzdrav/kerasESIM/blob/master/tfRNN.py"
   ]
  },
  {
   "cell_type": "code",
   "execution_count": 206,
   "metadata": {},
   "outputs": [],
   "source": [
    "def create_enhanced_attention_model(self):\n",
    "    # 0, (Optional) Set the upper limit of GPU memory\n",
    "    config = tf.ConfigProto()\n",
    "    config.gpu_options.allow_growth = True\n",
    "    set_session(tf.Session(config=config))\n",
    "\n",
    "    # 1, Embedding the input and project the embeddings\n",
    "    premise = Input(shape=(self.SentMaxLen,), dtype='int32')\n",
    "    hypothesis = Input(shape=(self.SentMaxLen,), dtype='int32')\n",
    "    embed_p = self.Embed(premise)  # [batchsize, Psize, Embedsize]\n",
    "    embed_h = self.Embed(hypothesis)  # [batchsize, Hsize, Embedsize]\n",
    "\n",
    "    # 2, Encoder words with its surrounding context\n",
    "    # initialization of LSTM input matrix with random Gauss distr\n",
    "    Encoder = Bidirectional(CuDNNLSTM(units=300, return_sequences=True, kernel_initializer='RandomNormal')) # nova linija - CuDNNLSTM\n",
    "\n",
    "    embed_p = Dropout(self.DropProb)(embed_p) # firstly dropout\n",
    "    embed_h = Dropout(self.DropProb)(embed_h) # firstly dropout\n",
    "    embed_p = Encoder(embed_p) # then BiLSTM encoding\n",
    "    embed_h = Encoder(embed_h) # then BiLSTM encoding\n",
    "\n",
    "    # 2, Score each words and calc score matrix Eph.\n",
    "    F_p, F_h = embed_p, embed_h\n",
    "    Eph = keras.layers.Dot(axes=(2, 2))([F_h, F_p])  # [batch_size, Hsize, Psize]\n",
    "    Eh = Lambda(lambda x: keras.activations.softmax(x))(Eph)  # [batch_size, Hsize, Psize]\n",
    "    Ep = keras.layers.Permute((2, 1))(Eph)  # [batch_size, Psize, Hsize)\n",
    "    Ep = Lambda(lambda x: keras.activations.softmax(x))(Ep)  # [batch_size, Psize, Hsize]\n",
    "\n",
    "    # 4, Normalize score matrix, encoder premesis and get alignment\n",
    "    PremAlign = keras.layers.Dot((2, 1))([Ep, embed_h]) # [-1, Psize, dim]\n",
    "    HypoAlign = keras.layers.Dot((2, 1))([Eh, embed_p]) # [-1, Hsize, dim]\n",
    "    mm_1 = keras.layers.Multiply()([embed_p, PremAlign])\n",
    "    mm_2 = keras.layers.Multiply()([embed_h, HypoAlign])\n",
    "    sb_1 = keras.layers.Subtract()([embed_p, PremAlign])\n",
    "    sb_2 = keras.layers.Subtract()([embed_h, HypoAlign])\n",
    "\n",
    "    # concat [a_, a~, a_ * a~, a_ - a~], isto za b_, b~\n",
    "    PremAlign = keras.layers.Concatenate()([embed_p, PremAlign, sb_1, mm_1,])  # [batch_size, Psize, 2*unit]\n",
    "    HypoAlign = keras.layers.Concatenate()([embed_h, HypoAlign, sb_2, mm_2])  # [batch_size, Hsize, 2*unit]\n",
    "    # ff layer w/RELU activation\n",
    "    Compresser = TimeDistributed(Dense(300,\n",
    "                                       kernel_regularizer=l2(self.L2Strength),\n",
    "                                       bias_regularizer=l2(self.L2Strength),\n",
    "                                       activation='relu'),\n",
    "                                 name='Compresser')\n",
    "    PremAlign = Compresser(PremAlign)\n",
    "    HypoAlign = Compresser(HypoAlign)\n",
    "\n",
    "    # 5, Final biLST < Encoder + Softmax Classifier\n",
    "    Decoder = Bidirectional(CuDNNLSTM(units=300, return_sequences=True, kernel_initializer='RandomNormal'),\n",
    "                            name='finaldecoder')  # [-1,2*units]\n",
    "    PremAlign = Dropout(self.DropProb)(PremAlign)\n",
    "    HypoAlign = Dropout(self.DropProb)(HypoAlign)\n",
    "    final_p = Decoder(PremAlign)\n",
    "    final_h = Decoder(HypoAlign)\n",
    "\n",
    "    AveragePooling = Lambda(lambda x: K.mean(x, axis=1)) # outs [-1, dim]\n",
    "    MaxPooling = Lambda(lambda x: K.max(x, axis=1)) # outs [-1, dim]\n",
    "    avg_p = AveragePooling(final_p)\n",
    "    avg_h = AveragePooling(final_h)\n",
    "    max_p = MaxPooling(final_p)\n",
    "    max_h = MaxPooling(final_h)\n",
    "    # concat of avg and max pooling for hypothesis and premise\n",
    "    Final = keras.layers.Concatenate()([avg_p, max_p, avg_h, max_h])\n",
    "    # dropout layer\n",
    "    Final = Dropout(self.DropProb)(Final)\n",
    "    # ff layer w/tanh activation\n",
    "    Final = Dense(300,\n",
    "                  kernel_regularizer=l2(self.L2Strength),\n",
    "                  bias_regularizer=l2(self.L2Strength),\n",
    "                  name='dense300_' + self.dataset,\n",
    "                  activation='tanh')(Final)\n",
    "\n",
    "    # last dropout factor\n",
    "    factor = 1\n",
    "    if self.LastDropoutHalf:\n",
    "        factor = 2\n",
    "    Final = Dropout(self.DropProb / factor)(Final)\n",
    "\n",
    "    # softmax classifier\n",
    "    Final = Dense(2 if self.dataset == 'rte' else 3,\n",
    "                  activation='softmax',\n",
    "                  name='judge300_' + self.dataset)(Final)\n",
    "    self.model = Model(inputs=[premise, hypothesis], outputs=Final)"
   ]
  },
  {
   "cell_type": "code",
   "execution_count": null,
   "metadata": {},
   "outputs": [],
   "source": []
  }
 ],
 "metadata": {
  "kernelspec": {
   "display_name": "Python 3",
   "language": "python",
   "name": "python3"
  },
  "language_info": {
   "codemirror_mode": {
    "name": "ipython",
    "version": 3
   },
   "file_extension": ".py",
   "mimetype": "text/x-python",
   "name": "python",
   "nbconvert_exporter": "python",
   "pygments_lexer": "ipython3",
   "version": "3.7.10"
  }
 },
 "nbformat": 4,
 "nbformat_minor": 4
}
