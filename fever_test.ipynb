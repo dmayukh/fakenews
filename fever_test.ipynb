{
 "cells": [
  {
   "cell_type": "code",
   "execution_count": 2,
   "id": "pregnant-encyclopedia",
   "metadata": {},
   "outputs": [
    {
     "name": "stdout",
     "output_type": "stream",
     "text": [
      "paper_dev.ns.pages.p5.jsonl            paper_test_pipeline.ps.pages.p5.jsonl\n",
      "paper_test.ns.pages.p5.jsonl           train.ns.pages.p5.jsonl\n",
      "paper_test_pipeline.ns.pages.p5.jsonl  train.pages.p5.jsonl\n"
     ]
    }
   ],
   "source": [
    "ls working/data/training"
   ]
  },
  {
   "cell_type": "code",
   "execution_count": 5,
   "id": "annoying-freight",
   "metadata": {
    "collapsed": true,
    "jupyter": {
     "outputs_hidden": true
    },
    "tags": []
   },
   "outputs": [
    {
     "name": "stdout",
     "output_type": "stream",
     "text": [
      "{\"id\": 113501, \"verifiable\": \"NOT VERIFIABLE\", \"label\": \"NOT ENOUGH INFO\", \"claim\": \"Grease had bad reviews.\", \"evidence\": [[[133128, null, \"Grease_gun_-LRB-tool-RRB-\", -1, [[\"Hand-powered , where there is no trigger mechanism , and the grease is forced through the aperture by the back-pressure built up by pushing on the butt of the grease gun , which slides a piston through the body of the tool , pumping grease out of the aperture .\"], []]], [-1, null, \"Grease_gun_-LRB-tool-RRB-\", -2, [[], []]], [-1, null, \"Nasal_sebum\", -2, [[], []]], [-1, null, \"Grease\", -2, [[], []]], [-1, null, \"Thermal_interface_material\", -2, [[], []]]]]}\n",
      "{\"id\": 163803, \"verifiable\": \"VERIFIABLE\", \"label\": \"SUPPORTS\", \"claim\": \"Ukrainian Soviet Socialist Republic was a founding participant of the UN.\", \"evidence\": [[[296950, 288668, \"Emblem_of_the_Ukrainian_Soviet_Socialist_Republic\", -2, [[\"The coat of arms of the Ukrainian Soviet Socialist Republic was adopted on March 14 , 1919 by the government of the Ukrainian Soviet Socialist Republic and subsequently modified on November 7 , 1928 , January 30 , 1937 and November 21 , 1949 .\", \"The rising sun stands for the future of the Soviet Ukrainian nation , the star as well as the hammer and sickle for the victory of communism and the `` world-wide socialist community of states '' .\", \"The name of the Ukrainian SSR is shown only in Ukrainian , and reads '' \\u0423\\u043a\\u0440\\u0430\\u0457\\u043d\\u0441\\u044c\\u043a\\u0430 PCP '' .\", \"The banner bears the Soviet Union state motto -LRB- `` Workers of the world , unite ! '' -RRB-\", \"in both the Ukrainian and Russian languages .\"], [0, 2, 8, 3, 4]]]], [[298602, 290067, \"Flag_of_the_Moldavian_Autonomous_Soviet_Socialist_Republic\", -2, [[\"This flag went out of use on 2 August 1940 , when the Moldavian ASSR was abolished , its territory being divided between the newly created Moldavian Soviet Socialist Republic and the Ukrainian Soviet Socialist Republic .\", \"The flag of the Moldavian Autonomous Soviet Socialist Republic was created in 1925 , when the Congress of the Soviets throughout Ukraine approved the Constitution of the Moldavian ASSR , on 10 May .\", \"State Flag of the Moldavian ASSR is the flag of Ukrainian SSR , which consists of a red cloth , which has on the upper left corner , near the hoist , a gold hammer and sickle and the letters `` USSR '' in Ukrainian and Moldovan , and below the `` USSR '' initials , with a smaller font , `` Moldavian ASSR '' in Ukrainian and Moldovan . ''\", \"Thus , in Section VII , Article 48 , the Constitution stipulated that : `` The Moldavian ASSR has its own state emblem and flag , set by the Moldavian Central Executive Committee and confirmed by the Ukrainian Central Executive Committee '' .\", \"On 4 September 1925 , the Presidium of the Central Executive Committee of the Moldavian ASSR discussed the issue `` the contest for drafting the emblem and flag and its jury , consisting of representatives of top party bodies and authorities of the Republic '' .\"], [20, 0, 17, 1, 2]]], [298602, 290067, \"Flag_of_the_Moldavian_Autonomous_Soviet_Socialist_Republic\", -2, [[\"This flag went out of use on 2 August 1940 , when the Moldavian ASSR was abolished , its territory being divided between the newly created Moldavian Soviet Socialist Republic and the Ukrainian Soviet Socialist Republic .\", \"The flag of the Moldavian Autonomous Soviet Socialist Republic was created in 1925 , when the Congress of the Soviets throughout Ukraine approved the Constitution of the Moldavian ASSR , on 10 May .\", \"State Flag of the Moldavian ASSR is the flag of Ukrainian SSR , which consists of a red cloth , which has on the upper left corner , near the hoist , a gold hammer and sickle and the letters `` USSR '' in Ukrainian and Moldovan , and below the `` USSR '' initials , with a smaller font , `` Moldavian ASSR '' in Ukrainian and Moldovan . ''\", \"Thus , in Section VII , Article 48 , the Constitution stipulated that : `` The Moldavian ASSR has its own state emblem and flag , set by the Moldavian Central Executive Committee and confirmed by the Ukrainian Central Executive Committee '' .\", \"On 4 September 1925 , the Presidium of the Central Executive Committee of the Moldavian ASSR discussed the issue `` the contest for drafting the emblem and flag and its jury , consisting of representatives of top party bodies and authorities of the Republic '' .\"], [20, 0, 17, 1, 2]]]], [[300696, 291816, \"Ukrainian_Republic\", -2, [[\"Ukrainian Republic as Ukrainian Soviet Socialist Republic , 1937 -- 1991 ;\", \"Ukrainian Republic as Ukrainian Soviet Republic , Ukrainian People 's Republic of Soviets , 1917 -- 1919 ;\", \"Ukrainian Republic as Ukrainian Socialist Soviet Republic , 1919 -- 1937 ;\"], [6, 2, 5]]]], [[344347, 327887, \"List_of_Presidents_of_Ukraine\", -2, [[\"The modern Ukrainian presidency was formed when the Verkhovna Rada of the Ukrainian Soviet Socialist Republic passed a law on 5 July 1991 establishing the office of the `` President of the Ukrainian Soviet Socialist Republic . ''\", \"Upon the proclamation of Ukrainian independence from the Soviet Union on 24 August 1991 , the title was changed to the `` President of Ukraine . ''\", \"After the 2014 Ukrainian revolution , Viktor Yanukovych abandoned his office and fled the country .\"], [0, 1, 5]]]], [[344994, 328433, \"United_Nations_General_Assembly_Resolution_377\", -2, [[\"The Uniting for Peace resolution -- also known as the `` Acheson Plan '' -- was adopted 3 November 1950 , after fourteen days of Assembly discussions , by a vote of 52 to 5 -LRB- Czechoslovakia , Poland , the Ukrainian Soviet Socialist Republic , the Union of Soviet Socialist Republics and the Byelorussian Soviet Socialist Republic -RRB- , with 2 abstentions -LRB- India and Argentina -RRB- .\", \"To facilitate prompt action by the General Assembly in the case of a dead-locked Security Council , the resolution created the mechanism of the `` emergency special session '' -LRB- ESS -RRB- , which can be called upon the basis of either a procedural vote in the Security Council , or within twenty-four hours of a request by a majority of UN Members being received by the Secretary-General .\", \"While the `` emergency special session '' framework was established by resolution A/RES/377 A , the UN Charter always contained provisions for `` special sessions '' , which , according to the General Assembly 's current `` Rules of Procedure '' , can be called within fifteen days of a request being received by the Secretary-General .\"], [2, 8, 13]]]], [[344997, 328435, \"United_Nations_General_Assembly_Resolution_377\", -2, [[\"The Uniting for Peace resolution -- also known as the `` Acheson Plan '' -- was adopted 3 November 1950 , after fourteen days of Assembly discussions , by a vote of 52 to 5 -LRB- Czechoslovakia , Poland , the Ukrainian Soviet Socialist Republic , the Union of Soviet Socialist Republics and the Byelorussian Soviet Socialist Republic -RRB- , with 2 abstentions -LRB- India and Argentina -RRB- .\", \"To facilitate prompt action by the General Assembly in the case of a dead-locked Security Council , the resolution created the mechanism of the `` emergency special session '' -LRB- ESS -RRB- , which can be called upon the basis of either a procedural vote in the Security Council , or within twenty-four hours of a request by a majority of UN Members being received by the Secretary-General .\", \"While the `` emergency special session '' framework was established by resolution A/RES/377 A , the UN Charter always contained provisions for `` special sessions '' , which , according to the General Assembly 's current `` Rules of Procedure '' , can be called within fifteen days of a request being received by the Secretary-General .\"], [2, 8, 13]]]]]}\n"
     ]
    }
   ],
   "source": [
    "!head -2 working/data/training/paper_test_pipeline.ps.pages.p5.jsonl"
   ]
  },
  {
   "cell_type": "code",
   "execution_count": 15,
   "id": "suburban-walter",
   "metadata": {},
   "outputs": [],
   "source": [
    "class LabelSchema:\n",
    "    def __init__(self,labels):\n",
    "        self.labels = {self.preprocess(val):idx for idx,val in enumerate(labels)}\n",
    "        self.idx = {idx:self.preprocess(val) for idx,val in enumerate(labels)}\n",
    "\n",
    "    def get_id(self,label):\n",
    "        if self.preprocess(label) in self.labels:\n",
    "            return self.labels[self.preprocess(label)]\n",
    "        return None\n",
    "\n",
    "    def preprocess(self,item):\n",
    "        return item.lower()\n",
    "\n",
    "class FEVERLabelSchema(LabelSchema):\n",
    "    def __init__(self):\n",
    "        super().__init__([\"supports\", \"refutes\", \"not enough info\"])\n",
    "\n",
    "def nltk_tokenizer(text):\n",
    "    return \" \".join(word_tokenize(text))\n",
    "\n",
    "class test_line_formatter():    \n",
    "    def format(self, lines):\n",
    "        formatted = []\n",
    "        for line in tqdm(lines):\n",
    "            fl = self.format_line(line)\n",
    "            if fl is not None:\n",
    "                if isinstance(fl,list):\n",
    "                    formatted.extend(fl)\n",
    "                else:\n",
    "                    formatted.append(fl)\n",
    "        return formatted\n",
    "\n",
    "    def format_line(self, line):\n",
    "        label_schema = FEVERLabelSchema()\n",
    "        # get the label, i.e. SUPPORTS etc.\n",
    "        annotation = line[\"label\"]\n",
    "        if annotation is None:\n",
    "            annotation = line[\"verifiable\"]\n",
    "        pages = []\n",
    "        lines = []\n",
    "        # did we get the closest sentences to the claim text? is this the sentence or the line number from the doc text?\n",
    "        if 'predicted_sentences' in line:\n",
    "            pages.extend([(ev[0], ev[1]) for ev in line[\"predicted_sentences\"]])\n",
    "        elif 'predicted_pages' in line:\n",
    "            pages.extend([(ev[0], -1) for ev in line[\"predicted_pages\"]])\n",
    "        else:\n",
    "            # only if evidence[0] is > -1, we have relevant predicted lines in evidence[4]\n",
    "            for evidence_group in line[\"evidence\"]:\n",
    "                pages.extend([(ev[2], ev[3]) for ev in evidence_group])\n",
    "            for evidence_group in line[\"evidence\"]:\n",
    "                for ev in evidence_group:\n",
    "                    if ev[0] > -1:\n",
    "                        lines.extend(ev[4][0])\n",
    "        return {\"claim\": line[\"claim\"], \"evidence\": pages, \"lines\": lines, \"label\": label_schema.get_id(annotation),\n",
    "                \"label_text\": annotation}"
   ]
  },
  {
   "cell_type": "code",
   "execution_count": 16,
   "id": "vocal-nylon",
   "metadata": {},
   "outputs": [],
   "source": [
    "class Reader:\n",
    "    def __init__(self,encoding=\"utf-8\"):\n",
    "        self.enc = encoding\n",
    "\n",
    "    def read(self,file):\n",
    "        with open(file,\"r\",encoding = self.enc) as f:\n",
    "            return self.process(f)\n",
    "\n",
    "    def process(self,f):\n",
    "        pass\n",
    "\n",
    "class JSONLineReader(Reader):\n",
    "    def process(self,fp):\n",
    "        data = []\n",
    "        for line in tqdm(fp.readlines()):\n",
    "            data.append(json.loads(line.strip()))\n",
    "        return data"
   ]
  },
  {
   "cell_type": "code",
   "execution_count": 9,
   "id": "herbal-cricket",
   "metadata": {},
   "outputs": [
    {
     "name": "stderr",
     "output_type": "stream",
     "text": [
      "100%|██████████| 2039/2039 [00:00<00:00, 43717.47it/s]\n"
     ]
    }
   ],
   "source": [
    "import json\n",
    "from tqdm import tqdm\n",
    "jlr = JSONLineReader()\n",
    "split = 'paper_test'\n",
    "working_dir = 'working/data/'\n",
    "k = 5\n",
    "training_data_file = working_dir + \"training/{0}_pipeline.ps.pages.p{1}.jsonl\".format(split, k)\n",
    "data = jlr.read(training_data_file)"
   ]
  },
  {
   "cell_type": "code",
   "execution_count": 13,
   "id": "ordered-shooting",
   "metadata": {
    "collapsed": true,
    "jupyter": {
     "outputs_hidden": true
    },
    "tags": []
   },
   "outputs": [
    {
     "data": {
      "text/plain": [
       "[{'id': 113501,\n",
       "  'verifiable': 'NOT VERIFIABLE',\n",
       "  'label': 'NOT ENOUGH INFO',\n",
       "  'claim': 'Grease had bad reviews.',\n",
       "  'evidence': [[[133128,\n",
       "     None,\n",
       "     'Grease_gun_-LRB-tool-RRB-',\n",
       "     -1,\n",
       "     [['Hand-powered , where there is no trigger mechanism , and the grease is forced through the aperture by the back-pressure built up by pushing on the butt of the grease gun , which slides a piston through the body of the tool , pumping grease out of the aperture .'],\n",
       "      []]],\n",
       "    [-1, None, 'Grease_gun_-LRB-tool-RRB-', -2, [[], []]],\n",
       "    [-1, None, 'Nasal_sebum', -2, [[], []]],\n",
       "    [-1, None, 'Grease', -2, [[], []]],\n",
       "    [-1, None, 'Thermal_interface_material', -2, [[], []]]]]},\n",
       " {'id': 163803,\n",
       "  'verifiable': 'VERIFIABLE',\n",
       "  'label': 'SUPPORTS',\n",
       "  'claim': 'Ukrainian Soviet Socialist Republic was a founding participant of the UN.',\n",
       "  'evidence': [[[296950,\n",
       "     288668,\n",
       "     'Emblem_of_the_Ukrainian_Soviet_Socialist_Republic',\n",
       "     -2,\n",
       "     [['The coat of arms of the Ukrainian Soviet Socialist Republic was adopted on March 14 , 1919 by the government of the Ukrainian Soviet Socialist Republic and subsequently modified on November 7 , 1928 , January 30 , 1937 and November 21 , 1949 .',\n",
       "       \"The rising sun stands for the future of the Soviet Ukrainian nation , the star as well as the hammer and sickle for the victory of communism and the `` world-wide socialist community of states '' .\",\n",
       "       \"The name of the Ukrainian SSR is shown only in Ukrainian , and reads '' Українська PCP '' .\",\n",
       "       \"The banner bears the Soviet Union state motto -LRB- `` Workers of the world , unite ! '' -RRB-\",\n",
       "       'in both the Ukrainian and Russian languages .'],\n",
       "      [0, 2, 8, 3, 4]]]],\n",
       "   [[298602,\n",
       "     290067,\n",
       "     'Flag_of_the_Moldavian_Autonomous_Soviet_Socialist_Republic',\n",
       "     -2,\n",
       "     [['This flag went out of use on 2 August 1940 , when the Moldavian ASSR was abolished , its territory being divided between the newly created Moldavian Soviet Socialist Republic and the Ukrainian Soviet Socialist Republic .',\n",
       "       'The flag of the Moldavian Autonomous Soviet Socialist Republic was created in 1925 , when the Congress of the Soviets throughout Ukraine approved the Constitution of the Moldavian ASSR , on 10 May .',\n",
       "       \"State Flag of the Moldavian ASSR is the flag of Ukrainian SSR , which consists of a red cloth , which has on the upper left corner , near the hoist , a gold hammer and sickle and the letters `` USSR '' in Ukrainian and Moldovan , and below the `` USSR '' initials , with a smaller font , `` Moldavian ASSR '' in Ukrainian and Moldovan . ''\",\n",
       "       \"Thus , in Section VII , Article 48 , the Constitution stipulated that : `` The Moldavian ASSR has its own state emblem and flag , set by the Moldavian Central Executive Committee and confirmed by the Ukrainian Central Executive Committee '' .\",\n",
       "       \"On 4 September 1925 , the Presidium of the Central Executive Committee of the Moldavian ASSR discussed the issue `` the contest for drafting the emblem and flag and its jury , consisting of representatives of top party bodies and authorities of the Republic '' .\"],\n",
       "      [20, 0, 17, 1, 2]]],\n",
       "    [298602,\n",
       "     290067,\n",
       "     'Flag_of_the_Moldavian_Autonomous_Soviet_Socialist_Republic',\n",
       "     -2,\n",
       "     [['This flag went out of use on 2 August 1940 , when the Moldavian ASSR was abolished , its territory being divided between the newly created Moldavian Soviet Socialist Republic and the Ukrainian Soviet Socialist Republic .',\n",
       "       'The flag of the Moldavian Autonomous Soviet Socialist Republic was created in 1925 , when the Congress of the Soviets throughout Ukraine approved the Constitution of the Moldavian ASSR , on 10 May .',\n",
       "       \"State Flag of the Moldavian ASSR is the flag of Ukrainian SSR , which consists of a red cloth , which has on the upper left corner , near the hoist , a gold hammer and sickle and the letters `` USSR '' in Ukrainian and Moldovan , and below the `` USSR '' initials , with a smaller font , `` Moldavian ASSR '' in Ukrainian and Moldovan . ''\",\n",
       "       \"Thus , in Section VII , Article 48 , the Constitution stipulated that : `` The Moldavian ASSR has its own state emblem and flag , set by the Moldavian Central Executive Committee and confirmed by the Ukrainian Central Executive Committee '' .\",\n",
       "       \"On 4 September 1925 , the Presidium of the Central Executive Committee of the Moldavian ASSR discussed the issue `` the contest for drafting the emblem and flag and its jury , consisting of representatives of top party bodies and authorities of the Republic '' .\"],\n",
       "      [20, 0, 17, 1, 2]]]],\n",
       "   [[300696,\n",
       "     291816,\n",
       "     'Ukrainian_Republic',\n",
       "     -2,\n",
       "     [['Ukrainian Republic as Ukrainian Soviet Socialist Republic , 1937 -- 1991 ;',\n",
       "       \"Ukrainian Republic as Ukrainian Soviet Republic , Ukrainian People 's Republic of Soviets , 1917 -- 1919 ;\",\n",
       "       'Ukrainian Republic as Ukrainian Socialist Soviet Republic , 1919 -- 1937 ;'],\n",
       "      [6, 2, 5]]]],\n",
       "   [[344347,\n",
       "     327887,\n",
       "     'List_of_Presidents_of_Ukraine',\n",
       "     -2,\n",
       "     [[\"The modern Ukrainian presidency was formed when the Verkhovna Rada of the Ukrainian Soviet Socialist Republic passed a law on 5 July 1991 establishing the office of the `` President of the Ukrainian Soviet Socialist Republic . ''\",\n",
       "       \"Upon the proclamation of Ukrainian independence from the Soviet Union on 24 August 1991 , the title was changed to the `` President of Ukraine . ''\",\n",
       "       'After the 2014 Ukrainian revolution , Viktor Yanukovych abandoned his office and fled the country .'],\n",
       "      [0, 1, 5]]]],\n",
       "   [[344994,\n",
       "     328433,\n",
       "     'United_Nations_General_Assembly_Resolution_377',\n",
       "     -2,\n",
       "     [[\"The Uniting for Peace resolution -- also known as the `` Acheson Plan '' -- was adopted 3 November 1950 , after fourteen days of Assembly discussions , by a vote of 52 to 5 -LRB- Czechoslovakia , Poland , the Ukrainian Soviet Socialist Republic , the Union of Soviet Socialist Republics and the Byelorussian Soviet Socialist Republic -RRB- , with 2 abstentions -LRB- India and Argentina -RRB- .\",\n",
       "       \"To facilitate prompt action by the General Assembly in the case of a dead-locked Security Council , the resolution created the mechanism of the `` emergency special session '' -LRB- ESS -RRB- , which can be called upon the basis of either a procedural vote in the Security Council , or within twenty-four hours of a request by a majority of UN Members being received by the Secretary-General .\",\n",
       "       \"While the `` emergency special session '' framework was established by resolution A/RES/377 A , the UN Charter always contained provisions for `` special sessions '' , which , according to the General Assembly 's current `` Rules of Procedure '' , can be called within fifteen days of a request being received by the Secretary-General .\"],\n",
       "      [2, 8, 13]]]],\n",
       "   [[344997,\n",
       "     328435,\n",
       "     'United_Nations_General_Assembly_Resolution_377',\n",
       "     -2,\n",
       "     [[\"The Uniting for Peace resolution -- also known as the `` Acheson Plan '' -- was adopted 3 November 1950 , after fourteen days of Assembly discussions , by a vote of 52 to 5 -LRB- Czechoslovakia , Poland , the Ukrainian Soviet Socialist Republic , the Union of Soviet Socialist Republics and the Byelorussian Soviet Socialist Republic -RRB- , with 2 abstentions -LRB- India and Argentina -RRB- .\",\n",
       "       \"To facilitate prompt action by the General Assembly in the case of a dead-locked Security Council , the resolution created the mechanism of the `` emergency special session '' -LRB- ESS -RRB- , which can be called upon the basis of either a procedural vote in the Security Council , or within twenty-four hours of a request by a majority of UN Members being received by the Secretary-General .\",\n",
       "       \"While the `` emergency special session '' framework was established by resolution A/RES/377 A , the UN Charter always contained provisions for `` special sessions '' , which , according to the General Assembly 's current `` Rules of Procedure '' , can be called within fifteen days of a request being received by the Secretary-General .\"],\n",
       "      [2, 8, 13]]]]]}]"
      ]
     },
     "execution_count": 13,
     "metadata": {},
     "output_type": "execute_result"
    }
   ],
   "source": [
    "data[:2]"
   ]
  },
  {
   "cell_type": "code",
   "execution_count": 17,
   "id": "english-family",
   "metadata": {},
   "outputs": [
    {
     "name": "stderr",
     "output_type": "stream",
     "text": [
      "100%|██████████| 2039/2039 [00:00<00:00, 48182.69it/s]\n"
     ]
    }
   ],
   "source": [
    "formatter = test_line_formatter()\n",
    "formatted_test_data = formatter.format(data)"
   ]
  },
  {
   "cell_type": "code",
   "execution_count": 19,
   "id": "dried-sarah",
   "metadata": {
    "collapsed": true,
    "jupyter": {
     "outputs_hidden": true
    },
    "tags": []
   },
   "outputs": [
    {
     "data": {
      "text/plain": [
       "[{'claim': 'Grease had bad reviews.',\n",
       "  'evidence': [('Grease_gun_-LRB-tool-RRB-', -1),\n",
       "   ('Grease_gun_-LRB-tool-RRB-', -2),\n",
       "   ('Nasal_sebum', -2),\n",
       "   ('Grease', -2),\n",
       "   ('Thermal_interface_material', -2)],\n",
       "  'lines': ['Hand-powered , where there is no trigger mechanism , and the grease is forced through the aperture by the back-pressure built up by pushing on the butt of the grease gun , which slides a piston through the body of the tool , pumping grease out of the aperture .'],\n",
       "  'label': 2,\n",
       "  'label_text': 'NOT ENOUGH INFO'},\n",
       " {'claim': 'Ukrainian Soviet Socialist Republic was a founding participant of the UN.',\n",
       "  'evidence': [('Emblem_of_the_Ukrainian_Soviet_Socialist_Republic', -2),\n",
       "   ('Flag_of_the_Moldavian_Autonomous_Soviet_Socialist_Republic', -2),\n",
       "   ('Flag_of_the_Moldavian_Autonomous_Soviet_Socialist_Republic', -2),\n",
       "   ('Ukrainian_Republic', -2),\n",
       "   ('List_of_Presidents_of_Ukraine', -2),\n",
       "   ('United_Nations_General_Assembly_Resolution_377', -2),\n",
       "   ('United_Nations_General_Assembly_Resolution_377', -2)],\n",
       "  'lines': ['The coat of arms of the Ukrainian Soviet Socialist Republic was adopted on March 14 , 1919 by the government of the Ukrainian Soviet Socialist Republic and subsequently modified on November 7 , 1928 , January 30 , 1937 and November 21 , 1949 .',\n",
       "   \"The rising sun stands for the future of the Soviet Ukrainian nation , the star as well as the hammer and sickle for the victory of communism and the `` world-wide socialist community of states '' .\",\n",
       "   \"The name of the Ukrainian SSR is shown only in Ukrainian , and reads '' Українська PCP '' .\",\n",
       "   \"The banner bears the Soviet Union state motto -LRB- `` Workers of the world , unite ! '' -RRB-\",\n",
       "   'in both the Ukrainian and Russian languages .',\n",
       "   'This flag went out of use on 2 August 1940 , when the Moldavian ASSR was abolished , its territory being divided between the newly created Moldavian Soviet Socialist Republic and the Ukrainian Soviet Socialist Republic .',\n",
       "   'The flag of the Moldavian Autonomous Soviet Socialist Republic was created in 1925 , when the Congress of the Soviets throughout Ukraine approved the Constitution of the Moldavian ASSR , on 10 May .',\n",
       "   \"State Flag of the Moldavian ASSR is the flag of Ukrainian SSR , which consists of a red cloth , which has on the upper left corner , near the hoist , a gold hammer and sickle and the letters `` USSR '' in Ukrainian and Moldovan , and below the `` USSR '' initials , with a smaller font , `` Moldavian ASSR '' in Ukrainian and Moldovan . ''\",\n",
       "   \"Thus , in Section VII , Article 48 , the Constitution stipulated that : `` The Moldavian ASSR has its own state emblem and flag , set by the Moldavian Central Executive Committee and confirmed by the Ukrainian Central Executive Committee '' .\",\n",
       "   \"On 4 September 1925 , the Presidium of the Central Executive Committee of the Moldavian ASSR discussed the issue `` the contest for drafting the emblem and flag and its jury , consisting of representatives of top party bodies and authorities of the Republic '' .\",\n",
       "   'This flag went out of use on 2 August 1940 , when the Moldavian ASSR was abolished , its territory being divided between the newly created Moldavian Soviet Socialist Republic and the Ukrainian Soviet Socialist Republic .',\n",
       "   'The flag of the Moldavian Autonomous Soviet Socialist Republic was created in 1925 , when the Congress of the Soviets throughout Ukraine approved the Constitution of the Moldavian ASSR , on 10 May .',\n",
       "   \"State Flag of the Moldavian ASSR is the flag of Ukrainian SSR , which consists of a red cloth , which has on the upper left corner , near the hoist , a gold hammer and sickle and the letters `` USSR '' in Ukrainian and Moldovan , and below the `` USSR '' initials , with a smaller font , `` Moldavian ASSR '' in Ukrainian and Moldovan . ''\",\n",
       "   \"Thus , in Section VII , Article 48 , the Constitution stipulated that : `` The Moldavian ASSR has its own state emblem and flag , set by the Moldavian Central Executive Committee and confirmed by the Ukrainian Central Executive Committee '' .\",\n",
       "   \"On 4 September 1925 , the Presidium of the Central Executive Committee of the Moldavian ASSR discussed the issue `` the contest for drafting the emblem and flag and its jury , consisting of representatives of top party bodies and authorities of the Republic '' .\",\n",
       "   'Ukrainian Republic as Ukrainian Soviet Socialist Republic , 1937 -- 1991 ;',\n",
       "   \"Ukrainian Republic as Ukrainian Soviet Republic , Ukrainian People 's Republic of Soviets , 1917 -- 1919 ;\",\n",
       "   'Ukrainian Republic as Ukrainian Socialist Soviet Republic , 1919 -- 1937 ;',\n",
       "   \"The modern Ukrainian presidency was formed when the Verkhovna Rada of the Ukrainian Soviet Socialist Republic passed a law on 5 July 1991 establishing the office of the `` President of the Ukrainian Soviet Socialist Republic . ''\",\n",
       "   \"Upon the proclamation of Ukrainian independence from the Soviet Union on 24 August 1991 , the title was changed to the `` President of Ukraine . ''\",\n",
       "   'After the 2014 Ukrainian revolution , Viktor Yanukovych abandoned his office and fled the country .',\n",
       "   \"The Uniting for Peace resolution -- also known as the `` Acheson Plan '' -- was adopted 3 November 1950 , after fourteen days of Assembly discussions , by a vote of 52 to 5 -LRB- Czechoslovakia , Poland , the Ukrainian Soviet Socialist Republic , the Union of Soviet Socialist Republics and the Byelorussian Soviet Socialist Republic -RRB- , with 2 abstentions -LRB- India and Argentina -RRB- .\",\n",
       "   \"To facilitate prompt action by the General Assembly in the case of a dead-locked Security Council , the resolution created the mechanism of the `` emergency special session '' -LRB- ESS -RRB- , which can be called upon the basis of either a procedural vote in the Security Council , or within twenty-four hours of a request by a majority of UN Members being received by the Secretary-General .\",\n",
       "   \"While the `` emergency special session '' framework was established by resolution A/RES/377 A , the UN Charter always contained provisions for `` special sessions '' , which , according to the General Assembly 's current `` Rules of Procedure '' , can be called within fifteen days of a request being received by the Secretary-General .\",\n",
       "   \"The Uniting for Peace resolution -- also known as the `` Acheson Plan '' -- was adopted 3 November 1950 , after fourteen days of Assembly discussions , by a vote of 52 to 5 -LRB- Czechoslovakia , Poland , the Ukrainian Soviet Socialist Republic , the Union of Soviet Socialist Republics and the Byelorussian Soviet Socialist Republic -RRB- , with 2 abstentions -LRB- India and Argentina -RRB- .\",\n",
       "   \"To facilitate prompt action by the General Assembly in the case of a dead-locked Security Council , the resolution created the mechanism of the `` emergency special session '' -LRB- ESS -RRB- , which can be called upon the basis of either a procedural vote in the Security Council , or within twenty-four hours of a request by a majority of UN Members being received by the Secretary-General .\",\n",
       "   \"While the `` emergency special session '' framework was established by resolution A/RES/377 A , the UN Charter always contained provisions for `` special sessions '' , which , according to the General Assembly 's current `` Rules of Procedure '' , can be called within fifteen days of a request being received by the Secretary-General .\"],\n",
       "  'label': 0,\n",
       "  'label_text': 'SUPPORTS'},\n",
       " {'claim': '2 Hearts is a musical composition by Minogue.',\n",
       "  'evidence': [('2_Hearts_-LRB-Kylie_Minogue_song-RRB-', -2),\n",
       "   ('Kylie_Minogue_singles_discography', -2),\n",
       "   ('Kylie_Minogue', -2),\n",
       "   ('X_-LRB-Kylie_Minogue_album-RRB-', -2),\n",
       "   ('2_Hearts_-LRB-Kylie_Minogue_song-RRB-', -2)],\n",
       "  'lines': [\"`` 2 Hearts '' is a song recorded by Australian singer Kylie Minogue for her tenth studio album , X -LRB- 2007 -RRB- .\",\n",
       "   \"The music video for `` 2 Hearts '' was directed by Dawn Shadforth and filmed at Shepperton Studios in London , England .\",\n",
       "   \"Upon its release , `` 2 Hearts '' received mixed reviews from music critics .\",\n",
       "   \"The song was praised for its departure of musical content and the song 's strength , however the song received criticism for the song 's production and felt it did n't live up to expectations .\",\n",
       "   \"The song was Minogue 's first commercial single since she was diagnosed with breast cancer in May 2005 .\",\n",
       "   \"It produced five singles , including the Australian number one single `` 2 Hearts '' , and the top twenty single `` Wow '' .\",\n",
       "   'After returning to full health , Minogue released her tenth studio album X in 2007 .',\n",
       "   'Minogue has had seven number one singles and sold over 10.1 million singles in the United Kingdom , making her the 12th best-selling singles artist and the 3rd best-selling female artist in UK history .',\n",
       "   'This earned Minogue a place in the Guinness Book of World Records , for the first female Australian singer to debut at number one in the UK .',\n",
       "   'To date , Minogue has sold more than 80 million records worldwide .',\n",
       "   \"Throughout her career , Minogue has released many successful singles , including `` The Loco-Motion '' , `` Especially for You '' , `` Hand on Your Heart '' , `` Better the Devil You Know '' , `` Confide in Me '' , `` Spinning Around '' , `` Slow '' , `` 2 Hearts '' and `` All The Lovers '' .\",\n",
       "   'In 2005 , while Minogue was on her Showgirl : The Greatest Hits Tour , she was diagnosed with breast cancer .',\n",
       "   'Minogue was awarded an honorary Doctor of Health Science -LRB- D.H.Sc . -RRB-',\n",
       "   'As of 2015 , Minogue has had worldwide record sales of more than 80 million .',\n",
       "   'Minogue resumed work as an actress and appeared in the films Moulin Rouge !',\n",
       "   \"`` 2 Hearts '' was released as the lead single from X .\",\n",
       "   \"The tour received favorable reviews from critics and was a commercial success , making it Minogue 's most expensive tour at the time .\",\n",
       "   \"The album was nominated for a BRIT Award for International Album in 2008 , as well as a Grammy Award for Best Electronic/Dance Album in 2009 , Minogue 's fifth Grammy Award nomination .\",\n",
       "   \"Due to Minogue 's lack of success in North America , she traveled there in 2009 for her tour For You , for Me to promote the album .\",\n",
       "   'X is the tenth studio album by Australian singer Kylie Minogue .'],\n",
       "  'label': 0,\n",
       "  'label_text': 'SUPPORTS'}]"
      ]
     },
     "execution_count": 19,
     "metadata": {},
     "output_type": "execute_result"
    }
   ],
   "source": [
    "formatted_test_data[:3]"
   ]
  },
  {
   "cell_type": "code",
   "execution_count": 20,
   "id": "contained-pension",
   "metadata": {
    "collapsed": true,
    "jupyter": {
     "outputs_hidden": true
    },
    "tags": []
   },
   "outputs": [
    {
     "data": {
      "text/plain": [
       "[{'claim': 'Grease had bad reviews.',\n",
       "  'evidence': [('Grease_gun_-LRB-tool-RRB-', -1),\n",
       "   ('Grease_gun_-LRB-tool-RRB-', -2),\n",
       "   ('Nasal_sebum', -2),\n",
       "   ('Grease', -2),\n",
       "   ('Thermal_interface_material', -2)],\n",
       "  'lines': ['Hand-powered , where there is no trigger mechanism , and the grease is forced through the aperture by the back-pressure built up by pushing on the butt of the grease gun , which slides a piston through the body of the tool , pumping grease out of the aperture .'],\n",
       "  'label': 2,\n",
       "  'label_text': 'NOT ENOUGH INFO'},\n",
       " {'claim': 'Legendary Entertainment is the owner of Wanda Cinemas.',\n",
       "  'evidence': [('Wanda_Cinemas', -1),\n",
       "   ('Wanda_Cinemas', -1),\n",
       "   ('Wanda_Cinemas', -1),\n",
       "   ('Wanda_Cinemas', -1),\n",
       "   ('Wanda_Cinemas', -1),\n",
       "   ('Wanda_Cinemas', -2),\n",
       "   ('Wanda_Group', -2),\n",
       "   ('Legendary_Entertainment', -2),\n",
       "   ('List_of_shows_produced_by_Legendary_Television', -2)],\n",
       "  'lines': ['It is a part of the Dalian Wanda Group .',\n",
       "   'As of 2014 Wang Jianlin is the head of the company .',\n",
       "   'It is a part of the Dalian Wanda Group .',\n",
       "   'Some locations are named Wanda International Cinemas .',\n",
       "   'It is a part of the Dalian Wanda Group .'],\n",
       "  'label': 2,\n",
       "  'label_text': 'NOT ENOUGH INFO'},\n",
       " {'claim': 'Great white sharks do not prefer dolphins as prey.',\n",
       "  'evidence': [('Great_white_shark', -1),\n",
       "   ('Great_white_shark', -2),\n",
       "   ('Andre_Hartman', -2),\n",
       "   ('Gansbaai', -2),\n",
       "   ('White_Shark_Café', -2)],\n",
       "  'lines': ['The great white shark -LRB- Carcharodon carcharias -RRB- , also known as the great white , white pointer , white shark , or white death , is a species of large mackerel shark which can be found in the coastal surface waters of all the major oceans .'],\n",
       "  'label': 2,\n",
       "  'label_text': 'NOT ENOUGH INFO'},\n",
       " {'claim': \"The Guthrie Theater's second building began operating in 1963.\",\n",
       "  'evidence': [('Joe_Dowling', -1),\n",
       "   ('Joe_Dowling', -2),\n",
       "   ('Guthrie_Theater_production_history', -2),\n",
       "   ('Guthrie_Theater', -2),\n",
       "   ('Gold_Medal_Park', -2)],\n",
       "  'lines': ['Following the announcement of the 2012 Guthrie Theatre lineup , Dowling was criticized for the lack of diversity in the selection of directors and playwrights .'],\n",
       "  'label': 2,\n",
       "  'label_text': 'NOT ENOUGH INFO'},\n",
       " {'claim': 'Moscovium is a halogen.',\n",
       "  'evidence': [('Moscovium', -1),\n",
       "   ('Moscovium', -1),\n",
       "   ('Moscovium', -1),\n",
       "   ('Moscovium', -1),\n",
       "   ('Moscovium', -2),\n",
       "   ('Halogen_lamp', -2),\n",
       "   ('Halogen_oven', -2),\n",
       "   ('Low_smoke_zero_halogen', -2)],\n",
       "  'lines': ['Moscovium is an extremely radioactive element : its most stable known isotope , moscovium-290 , has a half-life of only 0.8 seconds .',\n",
       "   'It is a member of the 7th period and is placed in group 15 as the heaviest pnictogen , although it has not been confirmed to behave as a heavier homologue of the pnictogen bismuth .',\n",
       "   'About 100 atoms of moscovium have been observed to date , all of which have been shown to have mass numbers from 287 to 290 .',\n",
       "   'In the periodic table , it is a p-block transactinide element .'],\n",
       "  'label': 2,\n",
       "  'label_text': 'NOT ENOUGH INFO'}]"
      ]
     },
     "execution_count": 20,
     "metadata": {},
     "output_type": "execute_result"
    }
   ],
   "source": [
    "[d for d in formatted_test_data if d['label_text'] == 'NOT ENOUGH INFO'][:5]"
   ]
  },
  {
   "cell_type": "code",
   "execution_count": 21,
   "id": "dependent-devil",
   "metadata": {},
   "outputs": [],
   "source": [
    "import unicodedata\n",
    "import re\n",
    "def unicode_to_ascii(s):\n",
    "        return ''.join(c for c in unicodedata.normalize('NFD', s) if unicodedata.category(c) != 'Mn')\n",
    "def preprocess(w):\n",
    "        w = unicode_to_ascii(w.lower().strip())\n",
    "        # creating a space between a word and the punctuation following it\n",
    "        # eg: \"he is a boy.\" => \"he is a boy .\"\n",
    "        # Reference:- https://stackoverflow.com/questions/3645931/python-padding-punctuation-with-white-spaces-keeping-punctuation\n",
    "        w = re.sub(r\"([?.!,¿])\", r\" \\1 \", w)\n",
    "        w = re.sub(r'[\" \"]+', \" \", w)\n",
    "        # replacing everything with space except (a-z, A-Z, \".\", \"?\", \"!\", \",\")\n",
    "        w = re.sub(r\"[^a-zA-Z?.!,¿]+\", \" \", w)\n",
    "        w = w.strip()\n",
    "        # adding a start and an end token to the sentence\n",
    "        # so that the model know when to start and stop predicting.\n",
    "        w = '[START] ' + w + ' [END]'\n",
    "        return w"
   ]
  },
  {
   "cell_type": "code",
   "execution_count": 25,
   "id": "involved-crazy",
   "metadata": {
    "collapsed": true,
    "jupyter": {
     "outputs_hidden": true
    },
    "tags": []
   },
   "outputs": [
    {
     "name": "stdout",
     "output_type": "stream",
     "text": [
      "[START] grease had bad reviews . [END] Hand-powered , where there is no trigger mechanism , and the grease is forced through the aperture by the back-pressure built up by pushing on the butt of the grease gun , which slides a piston through the body of the tool , pumping grease out of the aperture .\n",
      "***********\n",
      "[START] ukrainian soviet socialist republic was a founding participant of the un . [END] The coat of arms of the Ukrainian Soviet Socialist Republic was adopted on March 14 , 1919 by the government of the Ukrainian Soviet Socialist Republic and subsequently modified on November 7 , 1928 , January 30 , 1937 and November 21 , 1949 . The rising sun stands for the future of the Soviet Ukrainian nation , the star as well as the hammer and sickle for the victory of communism and the `` world-wide socialist community of states '' . The name of the Ukrainian SSR is shown only in Ukrainian , and reads '' Українська PCP '' . The banner bears the Soviet Union state motto -LRB- `` Workers of the world , unite ! '' -RRB- in both the Ukrainian and Russian languages . This flag went out of use on 2 August 1940 , when the Moldavian ASSR was abolished , its territory being divided between the newly created Moldavian Soviet Socialist Republic and the Ukrainian Soviet Socialist Republic . The flag of the Moldavian Autonomous Soviet Socialist Republic was created in 1925 , when the Congress of the Soviets throughout Ukraine approved the Constitution of the Moldavian ASSR , on 10 May . State Flag of the Moldavian ASSR is the flag of Ukrainian SSR , which consists of a red cloth , which has on the upper left corner , near the hoist , a gold hammer and sickle and the letters `` USSR '' in Ukrainian and Moldovan , and below the `` USSR '' initials , with a smaller font , `` Moldavian ASSR '' in Ukrainian and Moldovan . '' Thus , in Section VII , Article 48 , the Constitution stipulated that : `` The Moldavian ASSR has its own state emblem and flag , set by the Moldavian Central Executive Committee and confirmed by the Ukrainian Central Executive Committee '' . On 4 September 1925 , the Presidium of the Central Executive Committee of the Moldavian ASSR discussed the issue `` the contest for drafting the emblem and flag and its jury , consisting of representatives of top party bodies and authorities of the Republic '' . This flag went out of use on 2 August 1940 , when the Moldavian ASSR was abolished , its territory being divided between the newly created Moldavian Soviet Socialist Republic and the Ukrainian Soviet Socialist Republic . The flag of the Moldavian Autonomous Soviet Socialist Republic was created in 1925 , when the Congress of the Soviets throughout Ukraine approved the Constitution of the Moldavian ASSR , on 10 May . State Flag of the Moldavian ASSR is the flag of Ukrainian SSR , which consists of a red cloth , which has on the upper left corner , near the hoist , a gold hammer and sickle and the letters `` USSR '' in Ukrainian and Moldovan , and below the `` USSR '' initials , with a smaller font , `` Moldavian ASSR '' in Ukrainian and Moldovan . '' Thus , in Section VII , Article 48 , the Constitution stipulated that : `` The Moldavian ASSR has its own state emblem and flag , set by the Moldavian Central Executive Committee and confirmed by the Ukrainian Central Executive Committee '' . On 4 September 1925 , the Presidium of the Central Executive Committee of the Moldavian ASSR discussed the issue `` the contest for drafting the emblem and flag and its jury , consisting of representatives of top party bodies and authorities of the Republic '' . Ukrainian Republic as Ukrainian Soviet Socialist Republic , 1937 -- 1991 ; Ukrainian Republic as Ukrainian Soviet Republic , Ukrainian People 's Republic of Soviets , 1917 -- 1919 ; Ukrainian Republic as Ukrainian Socialist Soviet Republic , 1919 -- 1937 ; The modern Ukrainian presidency was formed when the Verkhovna Rada of the Ukrainian Soviet Socialist Republic passed a law on 5 July 1991 establishing the office of the `` President of the Ukrainian Soviet Socialist Republic . '' Upon the proclamation of Ukrainian independence from the Soviet Union on 24 August 1991 , the title was changed to the `` President of Ukraine . '' After the 2014 Ukrainian revolution , Viktor Yanukovych abandoned his office and fled the country . The Uniting for Peace resolution -- also known as the `` Acheson Plan '' -- was adopted 3 November 1950 , after fourteen days of Assembly discussions , by a vote of 52 to 5 -LRB- Czechoslovakia , Poland , the Ukrainian Soviet Socialist Republic , the Union of Soviet Socialist Republics and the Byelorussian Soviet Socialist Republic -RRB- , with 2 abstentions -LRB- India and Argentina -RRB- . To facilitate prompt action by the General Assembly in the case of a dead-locked Security Council , the resolution created the mechanism of the `` emergency special session '' -LRB- ESS -RRB- , which can be called upon the basis of either a procedural vote in the Security Council , or within twenty-four hours of a request by a majority of UN Members being received by the Secretary-General . While the `` emergency special session '' framework was established by resolution A/RES/377 A , the UN Charter always contained provisions for `` special sessions '' , which , according to the General Assembly 's current `` Rules of Procedure '' , can be called within fifteen days of a request being received by the Secretary-General . The Uniting for Peace resolution -- also known as the `` Acheson Plan '' -- was adopted 3 November 1950 , after fourteen days of Assembly discussions , by a vote of 52 to 5 -LRB- Czechoslovakia , Poland , the Ukrainian Soviet Socialist Republic , the Union of Soviet Socialist Republics and the Byelorussian Soviet Socialist Republic -RRB- , with 2 abstentions -LRB- India and Argentina -RRB- . To facilitate prompt action by the General Assembly in the case of a dead-locked Security Council , the resolution created the mechanism of the `` emergency special session '' -LRB- ESS -RRB- , which can be called upon the basis of either a procedural vote in the Security Council , or within twenty-four hours of a request by a majority of UN Members being received by the Secretary-General . While the `` emergency special session '' framework was established by resolution A/RES/377 A , the UN Charter always contained provisions for `` special sessions '' , which , according to the General Assembly 's current `` Rules of Procedure '' , can be called within fifteen days of a request being received by the Secretary-General .\n",
      "***********\n"
     ]
    }
   ],
   "source": [
    "for data in formatted_test_data[:2]:\n",
    "    claim = preprocess(data[\"claim\"])\n",
    "    lines = data[\"lines\"]\n",
    "    parts = [claim, \" \".join(lines)]\n",
    "    print (\" \".join(parts))\n",
    "    print(\"***********\")"
   ]
  },
  {
   "cell_type": "code",
   "execution_count": 32,
   "id": "lesser-revision",
   "metadata": {},
   "outputs": [],
   "source": [
    "import numpy as np\n",
    "import tensorflow as tf\n",
    "def get_test_data_generator():\n",
    "    for data in formatted_test_data:\n",
    "        claim = preprocess(data[\"claim\"])\n",
    "        lines = data[\"lines\"]\n",
    "        yield claim, \" \".join(lines)\n",
    "        \n",
    "def get_test_dataset():\n",
    "    generator = lambda: get_test_data_generator()\n",
    "    return tf.data.Dataset.from_generator(\n",
    "            generator, output_signature=(\n",
    "            tf.TensorSpec(shape=(2, ), dtype=tf.string)))"
   ]
  },
  {
   "cell_type": "code",
   "execution_count": 27,
   "id": "demonstrated-scholar",
   "metadata": {},
   "outputs": [],
   "source": [
    "from tensorflow_text.tools.wordpiece_vocab import bert_vocab_from_dataset as bert_vocab"
   ]
  },
  {
   "cell_type": "code",
   "execution_count": 28,
   "id": "colored-nature",
   "metadata": {},
   "outputs": [],
   "source": [
    "import tensorflow_text as text\n",
    "bert_tokenizer_params=dict(lower_case=True)\n",
    "vocab_file_out = 'working/data/fever_vocab.txt'\n",
    "pt_tokenizer = text.BertTokenizer(vocab_file_out, **bert_tokenizer_params)"
   ]
  },
  {
   "cell_type": "markdown",
   "id": "coral-session",
   "metadata": {},
   "source": [
    "### One hot encode the labels"
   ]
  },
  {
   "cell_type": "code",
   "execution_count": 29,
   "id": "associate-generic",
   "metadata": {},
   "outputs": [],
   "source": [
    "from sklearn import preprocessing\n",
    "labels = [d['label_text'] for d in formatted_test_data]\n",
    "le = preprocessing.LabelEncoder()\n",
    "le.fit(labels)\n",
    "labels_enc = le.transform(labels)"
   ]
  },
  {
   "cell_type": "code",
   "execution_count": 30,
   "id": "raised-newton",
   "metadata": {},
   "outputs": [
    {
     "name": "stdout",
     "output_type": "stream",
     "text": [
      "A peek a the reshaped labels:\n",
      "[[1. 0. 0.]\n",
      " [0. 0. 1.]\n",
      " [0. 0. 1.]\n",
      " [0. 1. 0.]\n",
      " [1. 0. 0.]]\n",
      "The datatypes of the training dataset, features=<class 'numpy.ndarray'>, labels=<class 'numpy.ndarray'>\n"
     ]
    }
   ],
   "source": [
    "test_labels = np.zeros(shape=(len(labels_enc),3))\n",
    "for idx, val in enumerate(labels_enc):\n",
    "    test_labels[idx][val]=1\n",
    "print(\"A peek a the reshaped labels:\")\n",
    "print(test_labels[:5])\n",
    "print(\"The datatypes of the training dataset, features={}, labels={}\".format(type(labels_enc), type(test_labels)))"
   ]
  },
  {
   "cell_type": "code",
   "execution_count": 31,
   "id": "reverse-journal",
   "metadata": {},
   "outputs": [
    {
     "data": {
      "text/plain": [
       "<TensorSliceDataset shapes: (3,), types: tf.int32>"
      ]
     },
     "execution_count": 31,
     "metadata": {},
     "output_type": "execute_result"
    }
   ],
   "source": [
    "lbls = tf.reshape(tf.convert_to_tensor(test_labels, dtype=tf.int32), (test_labels.shape))\n",
    "lbls_ds = tf.data.Dataset.from_tensor_slices(lbls)\n",
    "lbls_ds"
   ]
  },
  {
   "cell_type": "code",
   "execution_count": 33,
   "id": "median-trinity",
   "metadata": {},
   "outputs": [],
   "source": [
    "test_ds = get_test_dataset()"
   ]
  },
  {
   "cell_type": "code",
   "execution_count": 35,
   "id": "adjustable-roots",
   "metadata": {
    "collapsed": true,
    "jupyter": {
     "outputs_hidden": true
    },
    "tags": []
   },
   "outputs": [
    {
     "name": "stdout",
     "output_type": "stream",
     "text": [
      "tf.Tensor(b'[START] grease had bad reviews . [END]', shape=(), dtype=string)\n",
      ".....\n",
      "\n",
      "\n",
      "tf.Tensor(b'Hand-powered , where there is no trigger mechanism , and the grease is forced through the aperture by the back-pressure built up by pushing on the butt of the grease gun , which slides a piston through the body of the tool , pumping grease out of the aperture .', shape=(), dtype=string)\n",
      "********\n",
      "\n",
      "\n",
      "tf.Tensor(b'[START] ukrainian soviet socialist republic was a founding participant of the un . [END]', shape=(), dtype=string)\n",
      ".....\n",
      "\n",
      "\n",
      "tf.Tensor(b\"The coat of arms of the Ukrainian Soviet Socialist Republic was adopted on March 14 , 1919 by the government of the Ukrainian Soviet Socialist Republic and subsequently modified on November 7 , 1928 , January 30 , 1937 and November 21 , 1949 . The rising sun stands for the future of the Soviet Ukrainian nation , the star as well as the hammer and sickle for the victory of communism and the `` world-wide socialist community of states '' . The name of the Ukrainian SSR is shown only in Ukrainian , and reads '' \\xd0\\xa3\\xd0\\xba\\xd1\\x80\\xd0\\xb0\\xd1\\x97\\xd0\\xbd\\xd1\\x81\\xd1\\x8c\\xd0\\xba\\xd0\\xb0 PCP '' . The banner bears the Soviet Union state motto -LRB- `` Workers of the world , unite ! '' -RRB- in both the Ukrainian and Russian languages . This flag went out of use on 2 August 1940 , when the Moldavian ASSR was abolished , its territory being divided between the newly created Moldavian Soviet Socialist Republic and the Ukrainian Soviet Socialist Republic . The flag of the Moldavian Autonomous Soviet Socialist Republic was created in 1925 , when the Congress of the Soviets throughout Ukraine approved the Constitution of the Moldavian ASSR , on 10 May . State Flag of the Moldavian ASSR is the flag of Ukrainian SSR , which consists of a red cloth , which has on the upper left corner , near the hoist , a gold hammer and sickle and the letters `` USSR '' in Ukrainian and Moldovan , and below the `` USSR '' initials , with a smaller font , `` Moldavian ASSR '' in Ukrainian and Moldovan . '' Thus , in Section VII , Article 48 , the Constitution stipulated that : `` The Moldavian ASSR has its own state emblem and flag , set by the Moldavian Central Executive Committee and confirmed by the Ukrainian Central Executive Committee '' . On 4 September 1925 , the Presidium of the Central Executive Committee of the Moldavian ASSR discussed the issue `` the contest for drafting the emblem and flag and its jury , consisting of representatives of top party bodies and authorities of the Republic '' . This flag went out of use on 2 August 1940 , when the Moldavian ASSR was abolished , its territory being divided between the newly created Moldavian Soviet Socialist Republic and the Ukrainian Soviet Socialist Republic . The flag of the Moldavian Autonomous Soviet Socialist Republic was created in 1925 , when the Congress of the Soviets throughout Ukraine approved the Constitution of the Moldavian ASSR , on 10 May . State Flag of the Moldavian ASSR is the flag of Ukrainian SSR , which consists of a red cloth , which has on the upper left corner , near the hoist , a gold hammer and sickle and the letters `` USSR '' in Ukrainian and Moldovan , and below the `` USSR '' initials , with a smaller font , `` Moldavian ASSR '' in Ukrainian and Moldovan . '' Thus , in Section VII , Article 48 , the Constitution stipulated that : `` The Moldavian ASSR has its own state emblem and flag , set by the Moldavian Central Executive Committee and confirmed by the Ukrainian Central Executive Committee '' . On 4 September 1925 , the Presidium of the Central Executive Committee of the Moldavian ASSR discussed the issue `` the contest for drafting the emblem and flag and its jury , consisting of representatives of top party bodies and authorities of the Republic '' . Ukrainian Republic as Ukrainian Soviet Socialist Republic , 1937 -- 1991 ; Ukrainian Republic as Ukrainian Soviet Republic , Ukrainian People 's Republic of Soviets , 1917 -- 1919 ; Ukrainian Republic as Ukrainian Socialist Soviet Republic , 1919 -- 1937 ; The modern Ukrainian presidency was formed when the Verkhovna Rada of the Ukrainian Soviet Socialist Republic passed a law on 5 July 1991 establishing the office of the `` President of the Ukrainian Soviet Socialist Republic . '' Upon the proclamation of Ukrainian independence from the Soviet Union on 24 August 1991 , the title was changed to the `` President of Ukraine . '' After the 2014 Ukrainian revolution , Viktor Yanukovych abandoned his office and fled the country . The Uniting for Peace resolution -- also known as the `` Acheson Plan '' -- was adopted 3 November 1950 , after fourteen days of Assembly discussions , by a vote of 52 to 5 -LRB- Czechoslovakia , Poland , the Ukrainian Soviet Socialist Republic , the Union of Soviet Socialist Republics and the Byelorussian Soviet Socialist Republic -RRB- , with 2 abstentions -LRB- India and Argentina -RRB- . To facilitate prompt action by the General Assembly in the case of a dead-locked Security Council , the resolution created the mechanism of the `` emergency special session '' -LRB- ESS -RRB- , which can be called upon the basis of either a procedural vote in the Security Council , or within twenty-four hours of a request by a majority of UN Members being received by the Secretary-General . While the `` emergency special session '' framework was established by resolution A/RES/377 A , the UN Charter always contained provisions for `` special sessions '' , which , according to the General Assembly 's current `` Rules of Procedure '' , can be called within fifteen days of a request being received by the Secretary-General . The Uniting for Peace resolution -- also known as the `` Acheson Plan '' -- was adopted 3 November 1950 , after fourteen days of Assembly discussions , by a vote of 52 to 5 -LRB- Czechoslovakia , Poland , the Ukrainian Soviet Socialist Republic , the Union of Soviet Socialist Republics and the Byelorussian Soviet Socialist Republic -RRB- , with 2 abstentions -LRB- India and Argentina -RRB- . To facilitate prompt action by the General Assembly in the case of a dead-locked Security Council , the resolution created the mechanism of the `` emergency special session '' -LRB- ESS -RRB- , which can be called upon the basis of either a procedural vote in the Security Council , or within twenty-four hours of a request by a majority of UN Members being received by the Secretary-General . While the `` emergency special session '' framework was established by resolution A/RES/377 A , the UN Charter always contained provisions for `` special sessions '' , which , according to the General Assembly 's current `` Rules of Procedure '' , can be called within fifteen days of a request being received by the Secretary-General .\", shape=(), dtype=string)\n",
      "********\n",
      "\n",
      "\n"
     ]
    }
   ],
   "source": [
    "for h,e in test_ds.take(2):\n",
    "    print(h)\n",
    "    print(\".....\\n\\n\")\n",
    "    print(e)\n",
    "    print(\"********\\n\\n\")"
   ]
  },
  {
   "cell_type": "code",
   "execution_count": 36,
   "id": "alpha-weight",
   "metadata": {},
   "outputs": [
    {
     "name": "stdout",
     "output_type": "stream",
     "text": [
      "(TensorSpec(shape=(2,), dtype=tf.string, name=None), TensorSpec(shape=(3,), dtype=tf.int32, name=None))\n"
     ]
    }
   ],
   "source": [
    "test_ds_enc_labls = tf.data.Dataset.zip((test_ds, lbls_ds))\n",
    "print(test_ds_enc_labls.element_spec)"
   ]
  },
  {
   "cell_type": "markdown",
   "id": "instrumental-ratio",
   "metadata": {},
   "source": [
    "#### Tokenize the test data and prepare the tensors for training"
   ]
  },
  {
   "cell_type": "code",
   "execution_count": 37,
   "id": "creative-brother",
   "metadata": {},
   "outputs": [
    {
     "name": "stdout",
     "output_type": "stream",
     "text": [
      "<MapDataset shapes: (60,), types: tf.int64>\n",
      "<MapDataset shapes: (60,), types: tf.int64>\n",
      "<BatchDataset shapes: (((64, 60), (64, 60)), (64, 3)), types: ((tf.int64, tf.int64), tf.int32)>\n",
      "((TensorSpec(shape=(64, 60), dtype=tf.int64, name=None), TensorSpec(shape=(64, 60), dtype=tf.int64, name=None)), TensorSpec(shape=(64, 3), dtype=tf.int32, name=None))\n"
     ]
    }
   ],
   "source": [
    "BATCH_SIZE = 64\n",
    "MAX_SEQ_LEN = 60\n",
    "BUFFER_SIZE = 32000\n",
    "def tokenize_and_pad(text, max_len):\n",
    "    segment = pt_tokenizer.tokenize(text).merge_dims(1, -1)\n",
    "    inp = segment.to_tensor(shape=[None, max_len])\n",
    "    return inp[0]\n",
    "\n",
    "h = test_ds_enc_labls.map(lambda x, y: tokenize_and_pad(x[0], MAX_SEQ_LEN))\n",
    "e = test_ds_enc_labls.map(lambda x, y: tokenize_and_pad(x[1], MAX_SEQ_LEN))\n",
    "l = test_ds_enc_labls.map(lambda x, y: y)\n",
    "print(h)\n",
    "print(e)\n",
    "f = tf.data.Dataset.zip((h,e))\n",
    "d = tf.data.Dataset.zip((f,l))\n",
    "dataset_test = d.shuffle(BUFFER_SIZE).batch(BATCH_SIZE, drop_remainder=True)\n",
    "print(dataset_test)\n",
    "print(dataset_test.element_spec)"
   ]
  },
  {
   "cell_type": "markdown",
   "id": "productive-gallery",
   "metadata": {},
   "source": [
    "#### Load the prefilled embedding matrix from glove 300d"
   ]
  },
  {
   "cell_type": "code",
   "execution_count": 38,
   "id": "lyric-payroll",
   "metadata": {},
   "outputs": [
    {
     "data": {
      "text/plain": [
       "['arr_0']"
      ]
     },
     "execution_count": 38,
     "metadata": {},
     "output_type": "execute_result"
    }
   ],
   "source": [
    "npzfile = np.load(\"working/data/embedding_mappings_300d.npz\")\n",
    "npzfile.files"
   ]
  },
  {
   "cell_type": "code",
   "execution_count": 39,
   "id": "junior-simulation",
   "metadata": {},
   "outputs": [],
   "source": [
    "embedding_matrix = npzfile['arr_0']"
   ]
  },
  {
   "cell_type": "markdown",
   "id": "whole-quality",
   "metadata": {},
   "source": [
    "#### Build the network"
   ]
  },
  {
   "cell_type": "code",
   "execution_count": 40,
   "id": "supreme-logging",
   "metadata": {},
   "outputs": [
    {
     "name": "stdout",
     "output_type": "stream",
     "text": [
      "Model: \"model\"\n",
      "__________________________________________________________________________________________________\n",
      "Layer (type)                    Output Shape         Param #     Connected to                     \n",
      "==================================================================================================\n",
      "hypothesis (InputLayer)         [(None, None)]       0                                            \n",
      "__________________________________________________________________________________________________\n",
      "evidence (InputLayer)           [(None, None)]       0                                            \n",
      "__________________________________________________________________________________________________\n",
      "embedding (Embedding)           (None, None, 300)    2400300     hypothesis[0][0]                 \n",
      "__________________________________________________________________________________________________\n",
      "embedding_1 (Embedding)         (None, None, 300)    2400300     evidence[0][0]                   \n",
      "__________________________________________________________________________________________________\n",
      "dropout (Dropout)               (None, None, 300)    0           embedding[0][0]                  \n",
      "__________________________________________________________________________________________________\n",
      "dropout_1 (Dropout)             (None, None, 300)    0           embedding_1[0][0]                \n",
      "__________________________________________________________________________________________________\n",
      "bidirectional (Bidirectional)   (None, None, 600)    1442400     dropout[0][0]                    \n",
      "__________________________________________________________________________________________________\n",
      "bidirectional_1 (Bidirectional) (None, None, 600)    1442400     dropout_1[0][0]                  \n",
      "__________________________________________________________________________________________________\n",
      "dot (Dot)                       (None, None, None)   0           bidirectional_1[0][0]            \n",
      "                                                                 bidirectional[0][0]              \n",
      "__________________________________________________________________________________________________\n",
      "permute (Permute)               (None, None, None)   0           dot[0][0]                        \n",
      "__________________________________________________________________________________________________\n",
      "lambda_1 (Lambda)               (None, None, None)   0           permute[0][0]                    \n",
      "__________________________________________________________________________________________________\n",
      "lambda (Lambda)                 (None, None, None)   0           dot[0][0]                        \n",
      "__________________________________________________________________________________________________\n",
      "dot_1 (Dot)                     (None, None, 600)    0           lambda_1[0][0]                   \n",
      "                                                                 bidirectional_1[0][0]            \n",
      "__________________________________________________________________________________________________\n",
      "dot_2 (Dot)                     (None, None, 600)    0           lambda[0][0]                     \n",
      "                                                                 bidirectional[0][0]              \n",
      "__________________________________________________________________________________________________\n",
      "subtract (Subtract)             (None, None, 600)    0           bidirectional[0][0]              \n",
      "                                                                 dot_1[0][0]                      \n",
      "__________________________________________________________________________________________________\n",
      "multiply (Multiply)             (None, None, 600)    0           bidirectional[0][0]              \n",
      "                                                                 dot_1[0][0]                      \n",
      "__________________________________________________________________________________________________\n",
      "subtract_1 (Subtract)           (None, None, 600)    0           bidirectional_1[0][0]            \n",
      "                                                                 dot_2[0][0]                      \n",
      "__________________________________________________________________________________________________\n",
      "multiply_1 (Multiply)           (None, None, 600)    0           bidirectional_1[0][0]            \n",
      "                                                                 dot_2[0][0]                      \n",
      "__________________________________________________________________________________________________\n",
      "concatenate (Concatenate)       (None, None, 2400)   0           bidirectional[0][0]              \n",
      "                                                                 dot_1[0][0]                      \n",
      "                                                                 subtract[0][0]                   \n",
      "                                                                 multiply[0][0]                   \n",
      "__________________________________________________________________________________________________\n",
      "concatenate_1 (Concatenate)     (None, None, 2400)   0           bidirectional_1[0][0]            \n",
      "                                                                 dot_2[0][0]                      \n",
      "                                                                 subtract_1[0][0]                 \n",
      "                                                                 multiply_1[0][0]                 \n",
      "__________________________________________________________________________________________________\n",
      "Compresser (TimeDistributed)    (None, None, 300)    720300      concatenate[0][0]                \n",
      "                                                                 concatenate_1[0][0]              \n",
      "__________________________________________________________________________________________________\n",
      "dropout_2 (Dropout)             (None, None, 300)    0           Compresser[0][0]                 \n",
      "__________________________________________________________________________________________________\n",
      "dropout_3 (Dropout)             (None, None, 300)    0           Compresser[1][0]                 \n",
      "__________________________________________________________________________________________________\n",
      "finaldecoder (Bidirectional)    (None, None, 600)    1442400     dropout_2[0][0]                  \n",
      "                                                                 dropout_3[0][0]                  \n",
      "__________________________________________________________________________________________________\n",
      "global_average_pooling1d (Globa (None, 600)          0           finaldecoder[0][0]               \n",
      "                                                                 finaldecoder[1][0]               \n",
      "__________________________________________________________________________________________________\n",
      "global_max_pooling1d (GlobalMax (None, 600)          0           finaldecoder[0][0]               \n",
      "                                                                 finaldecoder[1][0]               \n",
      "__________________________________________________________________________________________________\n",
      "concatenate_2 (Concatenate)     (None, 2400)         0           global_average_pooling1d[0][0]   \n",
      "                                                                 global_max_pooling1d[0][0]       \n",
      "                                                                 global_average_pooling1d[1][0]   \n",
      "                                                                 global_max_pooling1d[1][0]       \n",
      "__________________________________________________________________________________________________\n",
      "dropout_4 (Dropout)             (None, 2400)         0           concatenate_2[0][0]              \n",
      "__________________________________________________________________________________________________\n",
      "dense300_ (Dense)               (None, 100)          240100      dropout_4[0][0]                  \n",
      "__________________________________________________________________________________________________\n",
      "dropout_5 (Dropout)             (None, 100)          0           dense300_[0][0]                  \n",
      "__________________________________________________________________________________________________\n",
      "judge300_ (Dense)               (None, 3)            303         dropout_5[0][0]                  \n",
      "==================================================================================================\n",
      "Total params: 10,088,503\n",
      "Trainable params: 5,287,903\n",
      "Non-trainable params: 4,800,600\n",
      "__________________________________________________________________________________________________\n"
     ]
    }
   ],
   "source": [
    "\n",
    "import tensorflow as tf\n",
    "\n",
    "from tensorflow import keras\n",
    "from tensorflow.keras.layers import *\n",
    "from tensorflow.keras.regularizers import *\n",
    "\n",
    "vocab_size= 8000\n",
    "dim = 300\n",
    "inp1 = keras.Input(shape=(None, ), name = \"hypothesis\")\n",
    "inp2 = keras.Input(shape=(None, ), name = \"evidence\")\n",
    "\n",
    "embedding_hyp_layer = Embedding(\n",
    "        input_dim=vocab_size+1,\n",
    "        output_dim=dim,\n",
    "        weights=[embedding_matrix],\n",
    "        trainable=False)\n",
    "embedding_evi_layer = Embedding(\n",
    "        input_dim=vocab_size+1,\n",
    "        output_dim=dim,\n",
    "        weights=[embedding_matrix],\n",
    "        trainable=False)\n",
    "\n",
    "\n",
    "x_hyp = embedding_hyp_layer(inp1)\n",
    "x_hyp = tf.keras.layers.Dropout(0.5)(x_hyp)\n",
    "\n",
    "x_evi = embedding_evi_layer(inp2)\n",
    "x_evi = tf.keras.layers.Dropout(0.5)(x_evi)\n",
    "\n",
    "\n",
    "lstm_layer1 = tf.keras.layers.Bidirectional(tf.keras.layers.RNN(tf.keras.layers.LSTMCell(dim), return_sequences=True))(x_hyp)\n",
    "\n",
    "lstm_layer2 = tf.keras.layers.Bidirectional(tf.keras.layers.RNN(tf.keras.layers.LSTMCell(dim), return_sequences=True))(x_evi)\n",
    "\n",
    "\n",
    "\n",
    "F_p, F_h = lstm_layer1, lstm_layer2\n",
    "Eph = keras.layers.Dot(axes=(2, 2))([F_h, F_p])  # [batch_size, Hsize, Psize]\n",
    "Eh = Lambda(lambda x: keras.activations.softmax(x))(Eph)  # [batch_size, Hsize, Psize]\n",
    "Ep = keras.layers.Permute((2, 1))(Eph)  # [batch_size, Psize, Hsize)\n",
    "Ep = Lambda(lambda x: keras.activations.softmax(x))(Ep)  # [batch_size, Psize, Hsize]\n",
    "    \n",
    "    \n",
    "    \n",
    "# 4, Normalize score matrix, encoder premesis and get alignment\n",
    "PremAlign = keras.layers.Dot((2, 1))([Ep, lstm_layer2]) # [-1, Psize, dim]\n",
    "HypoAlign = keras.layers.Dot((2, 1))([Eh, lstm_layer1]) # [-1, Hsize, dim]\n",
    "mm_1 = keras.layers.Multiply()([lstm_layer1, PremAlign])\n",
    "mm_2 = keras.layers.Multiply()([lstm_layer2, HypoAlign])\n",
    "sb_1 = keras.layers.Subtract()([lstm_layer1, PremAlign])\n",
    "sb_2 = keras.layers.Subtract()([lstm_layer2, HypoAlign])\n",
    "    \n",
    "\n",
    "# concat [a_, a~, a_ * a~, a_ - a~], isto za b_, b~\n",
    "PremAlign = keras.layers.Concatenate()([lstm_layer1, PremAlign, sb_1, mm_1,])  # [batch_size, Psize, 2*unit]\n",
    "HypoAlign = keras.layers.Concatenate()([lstm_layer2, HypoAlign, sb_2, mm_2])  # [batch_size, Hsize, 2*unit]\n",
    "\n",
    "\n",
    "# ff layer w/RELU activation\n",
    "Compresser = tf.keras.layers.TimeDistributed(Dense(300,\n",
    "                                   kernel_regularizer=l2(0.0),\n",
    "                                   bias_regularizer=l2(0.0),\n",
    "                                   activation='relu'),\n",
    "                             name='Compresser')\n",
    "\n",
    "PremAlign = Compresser(PremAlign)\n",
    "HypoAlign = Compresser(HypoAlign)\n",
    "    \n",
    "\n",
    "Decoder = tf.keras.layers.Bidirectional(tf.keras.layers.RNN(tf.keras.layers.LSTMCell(dim), return_sequences=True), name='finaldecoder')\n",
    "\n",
    "\n",
    "PremAlign = Dropout(0.5)(PremAlign)\n",
    "HypoAlign = Dropout(0.5)(HypoAlign)\n",
    "final_p = Decoder(PremAlign)\n",
    "final_h = Decoder(HypoAlign)\n",
    "\n",
    "\n",
    "AveragePooling = tf.keras.layers.GlobalAveragePooling1D()\n",
    "MaxPooling = tf.keras.layers.GlobalMaxPooling1D()\n",
    "\n",
    "# AveragePooling = Lambda(lambda x: K.mean(x, axis=1)) # outs [-1, dim]\n",
    "# MaxPooling = Lambda(lambda x: K.max(x, axis=1)) # outs [-1, dim]\n",
    "avg_p = AveragePooling(final_p)\n",
    "avg_h = AveragePooling(final_h)\n",
    "max_p = MaxPooling(final_p)\n",
    "max_h = MaxPooling(final_h)\n",
    "# concat of avg and max pooling for hypothesis and premise\n",
    "Final = keras.layers.Concatenate()([avg_p, max_p, avg_h, max_h])\n",
    "# dropout layer\n",
    "Final = Dropout(0.5)(Final)\n",
    "# ff layer w/tanh activation\n",
    "Final = Dense(100,\n",
    "              kernel_regularizer=l2(0.0),\n",
    "              bias_regularizer=l2(0.0),\n",
    "              name='dense300_',\n",
    "              activation='tanh')(Final)\n",
    "\n",
    "# last dropout factor\n",
    "factor = 1\n",
    "# if self.LastDropoutHalf:\n",
    "#     factor = 2\n",
    "Final = Dropout(0.5 / factor)(Final)\n",
    "\n",
    "# softmax classifier\n",
    "Final = Dense(3,\n",
    "              activation='softmax',\n",
    "              name='judge300_')(Final)\n",
    "model = tf.keras.Model(inputs=[inp1, inp2], outputs=Final)\n",
    "\n",
    "LearningRate = 4e-4\n",
    "GradientClipping = 10.0\n",
    "\n",
    "# Optimizer = keras.optimizers.Adam(lr = LearningRate,\n",
    "#             clipnorm = GradientClipping)\n",
    "\n",
    "model.compile(loss='categorical_crossentropy',\n",
    "          optimizer='adam',\n",
    "          metrics=['accuracy'])\n",
    "\n",
    "model.summary()\n"
   ]
  },
  {
   "cell_type": "code",
   "execution_count": 41,
   "id": "square-garlic",
   "metadata": {},
   "outputs": [],
   "source": [
    "checkpoint_filepath = 'tmp/attention_esim/checkpoint_fever_rte_esim'\n",
    "model_checkpoint_callback = tf.keras.callbacks.ModelCheckpoint(\n",
    "    filepath=checkpoint_filepath,\n",
    "    save_weights_only=True,\n",
    "    monitor='val_accuracy',\n",
    "    mode='max',\n",
    "    save_best_only=True)\n",
    "\n",
    "stop_early = tf.keras.callbacks.EarlyStopping(monitor='val_loss', patience=5)"
   ]
  },
  {
   "cell_type": "markdown",
   "id": "supported-consideration",
   "metadata": {},
   "source": [
    "#### Check the test accuracy"
   ]
  },
  {
   "cell_type": "code",
   "execution_count": 42,
   "id": "unlikely-metro",
   "metadata": {},
   "outputs": [
    {
     "name": "stdout",
     "output_type": "stream",
     "text": [
      "31/31 [==============================] - 7s 89ms/step - loss: 1.8033 - accuracy: 0.5570\n"
     ]
    },
    {
     "data": {
      "text/plain": [
       "[1.803281307220459, 0.5569556355476379]"
      ]
     },
     "execution_count": 42,
     "metadata": {},
     "output_type": "execute_result"
    }
   ],
   "source": [
    "model.load_weights(checkpoint_filepath)\n",
    "model.evaluate(dataset_test)"
   ]
  },
  {
   "cell_type": "code",
   "execution_count": null,
   "id": "unable-lincoln",
   "metadata": {},
   "outputs": [],
   "source": []
  }
 ],
 "metadata": {
  "kernelspec": {
   "display_name": "Python 3",
   "language": "python",
   "name": "python3"
  },
  "language_info": {
   "codemirror_mode": {
    "name": "ipython",
    "version": 3
   },
   "file_extension": ".py",
   "mimetype": "text/x-python",
   "name": "python",
   "nbconvert_exporter": "python",
   "pygments_lexer": "ipython3",
   "version": "3.7.10"
  }
 },
 "nbformat": 4,
 "nbformat_minor": 5
}
